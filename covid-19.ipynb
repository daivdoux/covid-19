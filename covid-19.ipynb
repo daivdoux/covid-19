{
 "cells": [
  {
   "cell_type": "markdown",
   "metadata": {},
   "source": [
    "# COVID-19 Analysis\n",
    "Guillaume Rozier, 2020"
   ]
  },
  {
   "cell_type": "code",
   "execution_count": 155,
   "metadata": {},
   "outputs": [],
   "source": [
    "#data_rolling\n",
    "\n",
    "#df_confirmed_csse['France']"
   ]
  },
  {
   "cell_type": "code",
   "execution_count": 156,
   "metadata": {},
   "outputs": [
    {
     "data": {
      "text/plain": [
       "'build : 2020-03-22 08:53'"
      ]
     },
     "execution_count": 156,
     "metadata": {},
     "output_type": "execute_result"
    }
   ],
   "source": [
    "import requests\n",
    "import random\n",
    "import json\n",
    "from datetime import date\n",
    "from datetime import datetime\n",
    "import numpy as np\n",
    "import sys\n",
    "import chart_studio\n",
    "import pandas as pd\n",
    "import plotly.graph_objects as go\n",
    "import plotly\n",
    "import chart_studio.plotly as py\n",
    "import sys\n",
    "import matplotlib.pyplot as plt\n",
    "from plotly.validators.scatter.marker import SymbolValidator\n",
    "\n",
    "colors = plotly.colors.DEFAULT_PLOTLY_COLORS\n",
    "random.shuffle(colors)\n",
    "\n",
    "chart_studio.tools.set_credentials_file(username='worldice', api_key='2iXFe4Ch2oPo1dpaBj8p')\n",
    "today = datetime.now().strftime(\"%Y-%m-%d %H:%M\")\n",
    "\n",
    "\"build : \" + today"
   ]
  },
  {
   "cell_type": "code",
   "execution_count": 157,
   "metadata": {},
   "outputs": [],
   "source": [
    "upload = True\n",
    "show = True\n",
    "export = True"
   ]
  },
  {
   "cell_type": "code",
   "execution_count": 158,
   "metadata": {},
   "outputs": [
    {
     "data": {
      "text/plain": [
       "'build : 2020-03-22 08:53'"
      ]
     },
     "execution_count": 158,
     "metadata": {},
     "output_type": "execute_result"
    }
   ],
   "source": [
    "\n",
    "if len(sys.argv) == 1:\n",
    "    print(\"Error.\\n Usage: covid-19 arg1 arg2 arg3\")\n",
    "    print(\"arg1: upload? (True/False)\\n arg2: show charts? (True/False)\\n arg3: export charts as png?\")\n",
    "    sys.exit()\n",
    "    \n",
    "if len(sys.argv) >= 2:\n",
    "    if (sys.argv[1]).lower() == \"true\":\n",
    "        upload = True\n",
    "    \n",
    "if len(sys.argv) >= 3:\n",
    "    if (sys.argv[2]).lower() == \"true\":\n",
    "        show = True\n",
    "\n",
    "if len(sys.argv) >= 4:\n",
    "    if (sys.argv[3]).lower() == \"true\":\n",
    "        export = True\n",
    "    \n",
    "\"build : \" + today"
   ]
  },
  {
   "cell_type": "markdown",
   "metadata": {},
   "source": [
    "##### Functions"
   ]
  },
  {
   "cell_type": "code",
   "execution_count": 159,
   "metadata": {},
   "outputs": [
    {
     "data": {
      "text/plain": [
       "'build : 2020-03-22 08:53'"
      ]
     },
     "execution_count": 159,
     "metadata": {},
     "output_type": "execute_result"
    }
   ],
   "source": [
    "def compute_offset(df, col_of_reference, col_to_align):\n",
    "        \n",
    "    diffs = []\n",
    "    for offset in range(len(df)-15):\n",
    "        \n",
    "        a = df[col_of_reference][1:].shift(offset, fill_value=0)/countries[col_of_reference][\"pop\"]\n",
    "        b = df[col_to_align][1:]/countries[col_to_align][\"pop\"]\n",
    "        \n",
    "        if len(a) > len(b):\n",
    "            a = a[:-2]\n",
    "        m = min(len(a), len(b))\n",
    "            \n",
    "        delta = ((a[offset:] - b[offset:])**2)**(1/2)\n",
    "        #print(\"offset : {}\\t delta : {}\".format(offset, delta.sum()))\n",
    "        diffs.append(abs(delta.sum()))\n",
    "        xa = [i for i in range(offset, len(a))]\n",
    "        xb = [i for i in range(offset, len(b))]\n",
    "        #plt.scatter(x=xa, y=a[offset:])\n",
    "        #plt.scatter(x=xb, y=b[offset:])\n",
    "        #plt.title(\"offset {}\".format(offset, round(delta)))\n",
    "        #plt.savefig(\"images/offset\"+str(offset)+\".png\")\n",
    "        #plt.clf()\n",
    "    #print(diffs)\n",
    "    #print(min(diffs))\n",
    "    ret = diffs.index(min(diffs))\n",
    "\n",
    "\n",
    "    if col_of_reference == col_to_align:\n",
    "        return 0\n",
    "    return ret\n",
    "#r = compute_offset(data_deaths, \"Italy\", \"France\")\n",
    "#print(r)\n",
    "\"build : \" + today"
   ]
  },
  {
   "cell_type": "markdown",
   "metadata": {},
   "source": [
    "\n",
    "### DATA"
   ]
  },
  {
   "cell_type": "markdown",
   "metadata": {},
   "source": [
    "#### Download data"
   ]
  },
  {
   "cell_type": "code",
   "execution_count": 160,
   "metadata": {},
   "outputs": [
    {
     "name": "stdout",
     "output_type": "stream",
     "text": [
      "> data downloaded\n"
     ]
    },
    {
     "data": {
      "text/plain": [
       "'build : 2020-03-22 08:53'"
      ]
     },
     "execution_count": 160,
     "metadata": {},
     "output_type": "execute_result"
    }
   ],
   "source": [
    "\n",
    "url_confirmed = \"https://cowid.netlify.com/data/total_cases.csv\"\n",
    "url_deaths = \"https://cowid.netlify.com/data/total_deaths.csv\"\n",
    "url_confirmed_csse = \"https://raw.githubusercontent.com/CSSEGISandData/COVID-19/master/csse_covid_19_data/csse_covid_19_time_series/time_series_19-covid-Confirmed.csv\"    \n",
    "url_deaths_csse = \"https://raw.githubusercontent.com/CSSEGISandData/COVID-19/master/csse_covid_19_data/csse_covid_19_time_series/time_series_19-covid-Deaths.csv\"    \n",
    "\n",
    "\n",
    "r_confirmed = requests.get(url_confirmed)\n",
    "r_deaths = requests.get(url_deaths)\n",
    "r_confirmed_csse = requests.get(url_confirmed_csse)\n",
    "r_deaths_csse = requests.get(url_deaths_csse)\n",
    "\n",
    "with open('data/total_cases_who.csv', 'wb') as f:\n",
    "    f.write(r_confirmed.content)\n",
    "    \n",
    "with open('data/total_deaths_who.csv', 'wb') as f:\n",
    "    f.write(r_deaths.content)\n",
    "    \n",
    "with open('data/total_cases_csse.csv', 'wb') as f:\n",
    "    f.write(r_confirmed_csse.content)\n",
    "\n",
    "with open('data/total_deaths_csse.csv', 'wb') as f:\n",
    "    f.write(r_deaths_csse.content)\n",
    "    \n",
    "print(\"> data downloaded\")\n",
    "\"build : \" + today"
   ]
  },
  {
   "cell_type": "markdown",
   "metadata": {},
   "source": [
    "#### Import data and merge"
   ]
  },
  {
   "cell_type": "code",
   "execution_count": 161,
   "metadata": {},
   "outputs": [
    {
     "name": "stdout",
     "output_type": "stream",
     "text": [
      "> data merged\n"
     ]
    },
    {
     "data": {
      "text/plain": [
       "'build : 2020-03-22 08:53'"
      ]
     },
     "execution_count": 161,
     "metadata": {},
     "output_type": "execute_result"
    }
   ],
   "source": [
    "# CSSE data\n",
    "df_confirmed_csse = pd.read_csv('data/total_cases_csse.csv')\n",
    "df_deaths_csse = pd.read_csv('data/total_deaths_csse.csv')\n",
    "\n",
    "# WHO data\n",
    "df_confirmed_who = pd.read_csv('data/total_cases_who.csv')\n",
    "df_deaths_who = pd.read_csv('data/total_deaths_who.csv')\n",
    "\n",
    "# Perso data\n",
    "df_confirmed_perso = pd.read_csv('data/total_cases_perso.csv')\n",
    "df_deaths_perso = pd.read_csv('data/total_deaths_perso.csv')\n",
    "\n",
    "print(\"> data merged\")\n",
    "\"build : \" + today"
   ]
  },
  {
   "cell_type": "code",
   "execution_count": 162,
   "metadata": {},
   "outputs": [
    {
     "data": {
      "text/plain": [
       "'build : 2020-03-22 08:53'"
      ]
     },
     "execution_count": 162,
     "metadata": {},
     "output_type": "execute_result"
    }
   ],
   "source": [
    "def data_prep_csse(df0):\n",
    "    df = df0.drop('Lat', axis=1)\n",
    "    df = df.drop('Long', axis=1)\n",
    "    df = df.drop('Province/State', axis=1)\n",
    "    #df_csse_new2 = df_csse_new.groupby(['Country/Region'])\n",
    "    df = df.T.reset_index()\n",
    "    df.columns = df.iloc[0]\n",
    "    df = df.rename(columns={\"Country/Region\": \"date\"})\n",
    "    df = df.drop(df.index[0])\n",
    "    dates = df['date'].values\n",
    "    df = df.groupby(by=df.columns, axis=1).sum(numeric_only=True)\n",
    "    df['date'] = dates\n",
    "    return df\n",
    "\n",
    "df_confirmed_csse = data_prep_csse(df_confirmed_csse)\n",
    "df_deaths_csse = data_prep_csse(df_deaths_csse)\n",
    "\"build : \" + today"
   ]
  },
  {
   "cell_type": "code",
   "execution_count": 163,
   "metadata": {},
   "outputs": [
    {
     "data": {
      "text/plain": [
       "'build : 2020-03-22 08:53'"
      ]
     },
     "execution_count": 163,
     "metadata": {},
     "output_type": "execute_result"
    }
   ],
   "source": [
    "data_confirmed = df_confirmed_csse\n",
    "data_deaths = df_deaths_csse\n",
    "\n",
    "data_confirmed = pd.merge(data_confirmed, df_confirmed_perso, how='outer').drop_duplicates(subset='date')\n",
    "data_deaths = pd.merge(data_deaths, df_deaths_perso, how='outer').drop_duplicates(subset='date')\n",
    "\n",
    "#date_int = [i for i in range(len(data_confirmed))]\n",
    "#data_confirmed[\"date_int\"] = date_int\n",
    "\n",
    "#date_int = [i for i in range(len(data_deaths))]\n",
    "#data_deaths[\"date_int\"] = date_int\n",
    "\n",
    "\"build : \" + today\n",
    "#data_confirmed['date']\n",
    "#df_deaths_perso.iloc[-1]"
   ]
  },
  {
   "cell_type": "code",
   "execution_count": 164,
   "metadata": {
    "scrolled": true
   },
   "outputs": [
    {
     "data": {
      "text/plain": [
       "'build : 2020-03-22 08:53'"
      ]
     },
     "execution_count": 164,
     "metadata": {},
     "output_type": "execute_result"
    }
   ],
   "source": [
    "def rolling(df):\n",
    "    df_r = df\n",
    "    df_r[:len(df_r)-1].fillna(method='pad',inplace=True)\n",
    "    df_r = df.rolling(5, win_type='gaussian', center=True).mean(std=2)\n",
    "    df_r['date'] = df['date'].values\n",
    "    df_r.iloc[len(df_r)-2] = df.iloc[-2]\n",
    "    df_r.iloc[len(df_r)-1] = df.iloc[-1]\n",
    "\n",
    "    #moins_2 = ((df.iloc[-3][:-1] + df.iloc[-1][:-1]) / 2).append(pd.Series([df.iloc[-2][\"date\"]]))\n",
    "    #moins_1 = ((df.iloc[-3][:-1] + df.iloc[-1][:-1]) / 2).append(pd.Series([df.iloc[-1][\"date\"]]))\n",
    "\n",
    "    #df_r.iloc[-2] = moins_2\n",
    "    #df_r.iloc[-1] = moins_1\n",
    "    #data_confirmed.loc[:, data_confirmed.columns != \"date\"]\n",
    "    #df_r = df_r.drop(len(df_r)-1)\n",
    "    #df_r = df_r.drop(len(df_r)-1)\n",
    "    \n",
    "    df_r.loc[len(df_r)-3, df_r.columns != \"date\" ] = ((df.iloc[-4][:-1] + df.iloc[-2][:-1])/2 + df.iloc[-3][:-1])/2\n",
    "    df_r.loc[len(df_r)-3, \"date\"] = df.iloc[-3][\"date\"]\n",
    "    \n",
    "   # df_r.loc[len(df_r)-2, df_r.columns != \"date\" ] = ((df.iloc[-3][:-1] + df.iloc[-1][:-1])/2 + df.iloc[-2][:-1])/2\n",
    "    #df_r.loc[len(df_r)-2, \"date\"] = df.iloc[-2][\"date\"]\n",
    "    \n",
    "    df_r.loc[len(df_r)-2, df_r.columns != \"date\" ] = (df.iloc[-3][:-1] + (df.iloc[-3][:-1] - df.iloc[-4][:-1]) / 2 + df.iloc[-2][:-1])/2\n",
    "    df_r.loc[len(df_r)-2, \"date\"] = df.iloc[-2][\"date\"] \n",
    "    \n",
    "    df_r.loc[len(df_r)-1, df_r.columns != \"date\" ] = (df.iloc[-2][:-1] + (df.iloc[-1][:-1] - df.iloc[-3][:-1]) / 2 + df.iloc[-1][:-1])/2\n",
    "    df_r.loc[len(df_r)-1, \"date\"] = df.iloc[-1][\"date\"] \n",
    "    \n",
    "    return df_r\n",
    "\n",
    "data_confirmed_rolling = rolling(data_confirmed)\n",
    "data_deaths_rolling = rolling(data_deaths)\n",
    "\n",
    "# Date conversion\n",
    "data_confirmed['date'] = data_confirmed['date'].astype('datetime64[ns]') \n",
    "data_confirmed_rolling['date'] = data_confirmed_rolling['date'].astype('datetime64[ns]') \n",
    "\n",
    "data_deaths['date'] = data_deaths['date'].astype('datetime64[ns]') \n",
    "data_deaths_rolling['date'] = data_deaths_rolling['date'].astype('datetime64[ns]') \n",
    "\n",
    "date_int = [i for i in range(len(data_confirmed))]\n",
    "data_confirmed[\"date_int\"] = date_int\n",
    "\n",
    "date_int = [i for i in range(len(data_deaths))]\n",
    "data_deaths[\"date_int\"] = date_int\n",
    "\n",
    "\"build : \" + today"
   ]
  },
  {
   "cell_type": "code",
   "execution_count": 165,
   "metadata": {},
   "outputs": [
    {
     "name": "stdout",
     "output_type": "stream",
     "text": [
      "<bound method NDFrame.tail of     Afghanistan    Albania     Algeria    Andorra    Angola  \\\n",
      "0           NaN        NaN         NaN        NaN       NaN   \n",
      "1           NaN        NaN         NaN        NaN       NaN   \n",
      "2      0.000000   0.000000    0.000000   0.000000  0.000000   \n",
      "3      0.000000   0.000000    0.000000   0.000000  0.000000   \n",
      "4      0.000000   0.000000    0.000000   0.000000  0.000000   \n",
      "5      0.000000   0.000000    0.000000   0.000000  0.000000   \n",
      "6      0.000000   0.000000    0.000000   0.000000  0.000000   \n",
      "7      0.000000   0.000000    0.000000   0.000000  0.000000   \n",
      "8      0.000000   0.000000    0.000000   0.000000  0.000000   \n",
      "9      0.000000   0.000000    0.000000   0.000000  0.000000   \n",
      "10     0.000000   0.000000    0.000000   0.000000  0.000000   \n",
      "11     0.000000   0.000000    0.000000   0.000000  0.000000   \n",
      "12     0.000000   0.000000    0.000000   0.000000  0.000000   \n",
      "13     0.000000   0.000000    0.000000   0.000000  0.000000   \n",
      "14     0.000000   0.000000    0.000000   0.000000  0.000000   \n",
      "15     0.000000   0.000000    0.000000   0.000000  0.000000   \n",
      "16     0.000000   0.000000    0.000000   0.000000  0.000000   \n",
      "17     0.000000   0.000000    0.000000   0.000000  0.000000   \n",
      "18     0.000000   0.000000    0.000000   0.000000  0.000000   \n",
      "19     0.000000   0.000000    0.000000   0.000000  0.000000   \n",
      "20     0.000000   0.000000    0.000000   0.000000  0.000000   \n",
      "21     0.000000   0.000000    0.000000   0.000000  0.000000   \n",
      "22     0.000000   0.000000    0.000000   0.000000  0.000000   \n",
      "23     0.000000   0.000000    0.000000   0.000000  0.000000   \n",
      "24     0.000000   0.000000    0.000000   0.000000  0.000000   \n",
      "25     0.000000   0.000000    0.000000   0.000000  0.000000   \n",
      "26     0.000000   0.000000    0.000000   0.000000  0.000000   \n",
      "27     0.000000   0.000000    0.000000   0.000000  0.000000   \n",
      "28     0.000000   0.000000    0.000000   0.000000  0.000000   \n",
      "29     0.000000   0.000000    0.000000   0.000000  0.000000   \n",
      "30     0.000000   0.000000    0.000000   0.000000  0.000000   \n",
      "31     0.152469   0.000000    0.000000   0.000000  0.000000   \n",
      "32     0.374310   0.000000    0.152469   0.000000  0.000000   \n",
      "33     0.625690   0.000000    0.374310   0.000000  0.000000   \n",
      "34     0.847531   0.000000    0.625690   0.000000  0.000000   \n",
      "35     1.000000   0.000000    0.847531   0.000000  0.000000   \n",
      "36     1.000000   0.000000    1.000000   0.000000  0.000000   \n",
      "37     1.000000   0.000000    1.000000   0.000000  0.000000   \n",
      "38     1.000000   0.000000    1.304938   0.152469  0.000000   \n",
      "39     1.000000   0.000000    2.053559   0.374310  0.000000   \n",
      "40     1.000000   0.000000    4.067284   0.625690  0.000000   \n",
      "41     1.000000   0.000000    6.566614   0.847531  0.000000   \n",
      "42     1.000000   0.000000    9.837234   1.000000  0.000000   \n",
      "43     1.000000   0.000000   12.804268   1.000000  0.000000   \n",
      "44     1.457407   0.000000   15.433386   1.000000  0.000000   \n",
      "45     2.122931   0.304938   17.138744   1.000000  0.000000   \n",
      "46     3.029538   1.968374   18.625690   1.000000  0.000000   \n",
      "47     4.221841   4.550801   19.320751   1.000000  0.000000   \n",
      "48     5.374310   9.126360   20.457407   1.000000  0.000000   \n",
      "49     6.098910  15.673732   21.802180   1.000000  0.000000   \n",
      "50     7.304938  23.083097   24.928540   1.000000  0.000000   \n",
      "51     9.259587  30.061164   30.436078   1.000000  0.000000   \n",
      "52    12.136656  37.473220   37.609877   1.152469  0.000000   \n",
      "53    15.542593  43.719083   45.366102   7.015669  0.000000   \n",
      "54    18.740413  49.128448   54.457407  15.475176  0.000000   \n",
      "55    20.863344  54.390123   64.061768  27.132613  0.000000   \n",
      "56    22.152469  59.679249   73.168282  41.953309  0.152469   \n",
      "57    22.500000  64.250000   84.500000  55.000000  0.250000   \n",
      "58    23.000000  68.250000   91.750000  67.500000  0.500000   \n",
      "59    24.500000  76.000000  127.500000  90.250000  2.000000   \n",
      "\n",
      "    Antigua and Barbuda   Argentina     Armenia    Australia      Austria  \\\n",
      "0                   NaN         NaN         NaN          NaN          NaN   \n",
      "1                   NaN         NaN         NaN          NaN          NaN   \n",
      "2              0.000000    0.000000    0.000000     0.609877     0.000000   \n",
      "3              0.000000    0.000000    0.000000     1.649711     0.000000   \n",
      "4              0.000000    0.000000    0.000000     2.877069     0.000000   \n",
      "5              0.000000    0.000000    0.000000     4.168282     0.000000   \n",
      "6              0.000000    0.000000    0.000000     5.679249     0.000000   \n",
      "7              0.000000    0.000000    0.000000     6.748621     0.000000   \n",
      "8              0.000000    0.000000    0.000000     8.182007     0.000000   \n",
      "9              0.000000    0.000000    0.000000     9.665524     0.000000   \n",
      "10             0.000000    0.000000    0.000000    10.877069     0.000000   \n",
      "11             0.000000    0.000000    0.000000    11.695062     0.000000   \n",
      "12             0.000000    0.000000    0.000000    12.374310     0.000000   \n",
      "13             0.000000    0.000000    0.000000    12.778159     0.000000   \n",
      "14             0.000000    0.000000    0.000000    13.374310     0.000000   \n",
      "15             0.000000    0.000000    0.000000    14.000000     0.000000   \n",
      "16             0.000000    0.000000    0.000000    14.473220     0.000000   \n",
      "17             0.000000    0.000000    0.000000    14.847531     0.000000   \n",
      "18             0.000000    0.000000    0.000000    15.000000     0.000000   \n",
      "19             0.000000    0.000000    0.000000    15.000000     0.000000   \n",
      "20             0.000000    0.000000    0.000000    15.000000     0.000000   \n",
      "21             0.000000    0.000000    0.000000    15.000000     0.000000   \n",
      "22             0.000000    0.000000    0.000000    15.000000     0.000000   \n",
      "23             0.000000    0.000000    0.000000    15.000000     0.000000   \n",
      "24             0.000000    0.000000    0.000000    15.000000     0.000000   \n",
      "25             0.000000    0.000000    0.000000    15.000000     0.000000   \n",
      "26             0.000000    0.000000    0.000000    15.000000     0.000000   \n",
      "27             0.000000    0.000000    0.000000    15.000000     0.000000   \n",
      "28             0.000000    0.000000    0.000000    15.609877     0.000000   \n",
      "29             0.000000    0.000000    0.000000    16.954649     0.000000   \n",
      "30             0.000000    0.000000    0.000000    18.625690     0.000000   \n",
      "31             0.000000    0.000000    0.000000    20.267192     0.000000   \n",
      "32             0.000000    0.000000    0.000000    21.542593     0.304938   \n",
      "33             0.000000    0.000000    0.000000    22.000000     0.748621   \n",
      "34             0.000000    0.000000    0.000000    22.152469     1.403848   \n",
      "35             0.000000    0.000000    0.000000    22.374310     2.069372   \n",
      "36             0.000000    0.000000    0.000000    22.930628     3.540504   \n",
      "37             0.000000    0.000000    0.152469    23.901090     5.855739   \n",
      "38             0.000000    0.000000    0.374310    25.457407     9.235566   \n",
      "39             0.000000    0.152469    0.625690    28.441594    13.168282   \n",
      "40             0.000000    0.374310    0.847531    33.923023    18.083097   \n",
      "41             0.000000    0.625690    1.000000    40.497242    24.091305   \n",
      "42             0.000000    1.000000    1.000000    47.647019    32.174402   \n",
      "43             0.000000    2.289125    1.000000    54.223929    44.188127   \n",
      "44             0.000000    4.481429    1.000000    60.776071    60.725203   \n",
      "45             0.000000    7.098910    1.000000    68.267796    81.356409   \n",
      "46             0.000000   10.350289    1.000000    78.730720   108.865288   \n",
      "47             0.000000   13.566614    1.000000    92.594064   145.929747   \n",
      "48             0.000000   15.877069    1.457407   106.584515   191.287641   \n",
      "49             0.152469   19.318663    2.732808   128.677753   266.028357   \n",
      "50             0.374310   23.644194    5.899002   159.371957   369.914140   \n",
      "51             0.625690   29.308367   11.008208   198.931220   507.628070   \n",
      "52             0.847531   36.842014   20.605700   250.096822   668.504121   \n",
      "53             1.000000   46.372222   35.177094   313.163973   867.259880   \n",
      "54             1.000000   56.374310   51.695062   385.648819  1093.011565   \n",
      "55             1.000000   68.692974   71.276137   472.378210  1363.866051   \n",
      "56             1.000000   84.517087   92.595415   572.213489  1675.139071   \n",
      "57             1.000000  100.250000  112.500000   680.250000  2015.000000   \n",
      "58             1.000000  117.000000  133.250000   764.250000  2292.250000   \n",
      "59             1.000000  158.250000  159.250000  1028.500000  2801.250000   \n",
      "\n",
      "    ...    Ukraine  United Arab Emirates  United Kingdom     Uruguay  \\\n",
      "0   ...        NaN                   NaN             NaN         NaN   \n",
      "1   ...        NaN                   NaN             NaN         NaN   \n",
      "2   ...   0.000000              0.000000        0.000000    0.000000   \n",
      "3   ...   0.000000              0.000000        0.000000    0.000000   \n",
      "4   ...   0.000000              0.000000        0.000000    0.000000   \n",
      "5   ...   0.000000              0.609877        0.000000    0.000000   \n",
      "6   ...   0.000000              1.497242        0.000000    0.000000   \n",
      "7   ...   0.000000              2.502758        0.304938    0.000000   \n",
      "8   ...   0.000000              3.390123        0.748621    0.000000   \n",
      "9   ...   0.000000              4.152469        1.251379    0.000000   \n",
      "10  ...   0.000000              4.374310        1.695062    0.000000   \n",
      "11  ...   0.000000              4.625690        2.000000    0.000000   \n",
      "12  ...   0.000000              4.847531        2.000000    0.000000   \n",
      "13  ...   0.000000              5.000000        2.000000    0.000000   \n",
      "14  ...   0.000000              5.000000        2.152469    0.000000   \n",
      "15  ...   0.000000              5.304938        2.374310    0.000000   \n",
      "16  ...   0.000000              5.748621        2.625690    0.000000   \n",
      "17  ...   0.000000              6.403848        3.609877    0.000000   \n",
      "18  ...   0.000000              7.069372        4.871552    0.000000   \n",
      "19  ...   0.000000              7.625690        6.280917    0.000000   \n",
      "20  ...   0.000000              7.847531        7.611965    0.000000   \n",
      "21  ...   0.000000              8.000000        8.625690    0.000000   \n",
      "22  ...   0.000000              8.000000        8.847531    0.000000   \n",
      "23  ...   0.000000              8.152469        9.000000    0.000000   \n",
      "24  ...   0.000000              8.374310        9.000000    0.000000   \n",
      "25  ...   0.000000              8.625690        9.000000    0.000000   \n",
      "26  ...   0.000000              8.847531        9.000000    0.000000   \n",
      "27  ...   0.000000              9.000000        9.000000    0.000000   \n",
      "28  ...   0.000000              9.000000        9.000000    0.000000   \n",
      "29  ...   0.000000              9.609877        9.000000    0.000000   \n",
      "30  ...   0.000000             10.497242        9.000000    0.000000   \n",
      "31  ...   0.000000             11.502758        9.609877    0.000000   \n",
      "32  ...   0.000000             12.390123       10.497242    0.000000   \n",
      "33  ...   0.000000             13.000000       11.502758    0.000000   \n",
      "34  ...   0.000000             13.000000       12.695062    0.000000   \n",
      "35  ...   0.000000             13.914815       14.510967    0.000000   \n",
      "36  ...   0.000000             15.550801       16.580339    0.000000   \n",
      "37  ...   0.000000             17.502758       20.928540    0.000000   \n",
      "38  ...   0.000000             19.336564       26.590635    0.000000   \n",
      "39  ...   0.152469             21.609877       33.850959    0.000000   \n",
      "40  ...   0.374310             23.245863       45.974494    0.000000   \n",
      "41  ...   0.625690             25.059076       63.947648    0.000000   \n",
      "42  ...   0.847531             26.833806       89.769806    0.000000   \n",
      "43  ...   1.000000             30.690885      123.957341    0.000000   \n",
      "44  ...   1.000000             34.684029      167.769806    0.000000   \n",
      "45  ...   1.000000             39.011033      215.983451    0.000000   \n",
      "46  ...   1.000000             46.982099      269.785015    0.000000   \n",
      "47  ...   1.000000             55.855003      328.460099    0.000000   \n",
      "48  ...   1.000000             64.822158      381.547517    0.000000   \n",
      "49  ...   1.304938             73.695810      473.770547    0.000000   \n",
      "50  ...   1.748621             80.882585      628.097742    0.609877   \n",
      "51  ...   2.251379             85.304938      801.778159    1.497242   \n",
      "52  ...   3.304938             89.866036     1025.965696    3.112635   \n",
      "53  ...   5.564526             93.133964     1306.811161    8.089217   \n",
      "54  ...   8.122931             98.304938     1655.954418   17.565129   \n",
      "55  ...  11.074889            107.731323     2011.566994   32.811729   \n",
      "56  ...  15.663436            117.491725     2549.964322   52.079669   \n",
      "57  ...  18.750000            133.250000     3022.000000   75.500000   \n",
      "58  ...  23.000000            146.750000     3383.500000   93.750000   \n",
      "59  ...  45.750000            149.750000     5128.250000  109.750000   \n",
      "\n",
      "    Uzbekistan  Venezuela    Vietnam    Zambia  Zimbabwe       date  \n",
      "0          NaN        NaN        NaN       NaN       NaN 2020-01-22  \n",
      "1          NaN        NaN        NaN       NaN       NaN 2020-01-23  \n",
      "2     0.000000   0.000000   1.695062  0.000000  0.000000 2020-01-24  \n",
      "3     0.000000   0.000000   2.000000  0.000000  0.000000 2020-01-25  \n",
      "4     0.000000   0.000000   2.000000  0.000000  0.000000 2020-01-26  \n",
      "5     0.000000   0.000000   2.000000  0.000000  0.000000 2020-01-27  \n",
      "6     0.000000   0.000000   2.000000  0.000000  0.000000 2020-01-28  \n",
      "7     0.000000   0.000000   2.000000  0.000000  0.000000 2020-01-29  \n",
      "8     0.000000   0.000000   2.609877  0.000000  0.000000 2020-01-30  \n",
      "9     0.000000   0.000000   3.497242  0.000000  0.000000 2020-01-31  \n",
      "10    0.000000   0.000000   4.807697  0.000000  0.000000 2020-02-01  \n",
      "11    0.000000   0.000000   6.138744  0.000000  0.000000 2020-02-02  \n",
      "12    0.000000   0.000000   7.251379  0.000000  0.000000 2020-02-03  \n",
      "13    0.000000   0.000000   8.000000  0.000000  0.000000 2020-02-04  \n",
      "14    0.000000   0.000000   8.748621  0.000000  0.000000 2020-02-05  \n",
      "15    0.000000   0.000000   9.708787  0.000000  0.000000 2020-02-06  \n",
      "16    0.000000   0.000000  10.817993  0.000000  0.000000 2020-02-07  \n",
      "17    0.000000   0.000000  12.029538  0.000000  0.000000 2020-02-08  \n",
      "18    0.000000   0.000000  13.069372  0.000000  0.000000 2020-02-09  \n",
      "19    0.000000   0.000000  14.000000  0.000000  0.000000 2020-02-10  \n",
      "20    0.000000   0.000000  14.625690  0.000000  0.000000 2020-02-11  \n",
      "21    0.000000   0.000000  15.221841  0.000000  0.000000 2020-02-12  \n",
      "22    0.000000   0.000000  15.625690  0.000000  0.000000 2020-02-13  \n",
      "23    0.000000   0.000000  15.847531  0.000000  0.000000 2020-02-14  \n",
      "24    0.000000   0.000000  16.000000  0.000000  0.000000 2020-02-15  \n",
      "25    0.000000   0.000000  16.000000  0.000000  0.000000 2020-02-16  \n",
      "26    0.000000   0.000000  16.000000  0.000000  0.000000 2020-02-17  \n",
      "27    0.000000   0.000000  16.000000  0.000000  0.000000 2020-02-18  \n",
      "28    0.000000   0.000000  16.000000  0.000000  0.000000 2020-02-19  \n",
      "29    0.000000   0.000000  16.000000  0.000000  0.000000 2020-02-20  \n",
      "30    0.000000   0.000000  16.000000  0.000000  0.000000 2020-02-21  \n",
      "31    0.000000   0.000000  16.000000  0.000000  0.000000 2020-02-22  \n",
      "32    0.000000   0.000000  16.000000  0.000000  0.000000 2020-02-23  \n",
      "33    0.000000   0.000000  16.000000  0.000000  0.000000 2020-02-24  \n",
      "34    0.000000   0.000000  16.000000  0.000000  0.000000 2020-02-25  \n",
      "35    0.000000   0.000000  16.000000  0.000000  0.000000 2020-02-26  \n",
      "36    0.000000   0.000000  16.000000  0.000000  0.000000 2020-02-27  \n",
      "37    0.000000   0.000000  16.000000  0.000000  0.000000 2020-02-28  \n",
      "38    0.000000   0.000000  16.000000  0.000000  0.000000 2020-02-29  \n",
      "39    0.000000   0.000000  16.000000  0.000000  0.000000 2020-03-01  \n",
      "40    0.000000   0.000000  16.000000  0.000000  0.000000 2020-03-02  \n",
      "41    0.000000   0.000000  16.000000  0.000000  0.000000 2020-03-03  \n",
      "42    0.000000   0.000000  16.000000  0.000000  0.000000 2020-03-04  \n",
      "43    0.000000   0.000000  16.304938  0.000000  0.000000 2020-03-05  \n",
      "44    0.000000   0.000000  18.578251  0.000000  0.000000 2020-03-06  \n",
      "45    0.000000   0.000000  21.743104  0.000000  0.000000 2020-03-07  \n",
      "46    0.000000   0.000000  25.355806  0.000000  0.000000 2020-03-08  \n",
      "47    0.000000   0.000000  29.611965  0.000000  0.000000 2020-03-09  \n",
      "48    0.000000   0.000000  33.398332  0.000000  0.000000 2020-03-10  \n",
      "49    0.000000   0.000000  36.821421  0.000000  0.000000 2020-03-11  \n",
      "50    0.000000   0.304938  41.467704  0.000000  0.000000 2020-03-12  \n",
      "51    0.152469   1.968374  46.556317  0.000000  0.000000 2020-03-13  \n",
      "52    1.136656   5.313147  51.419661  0.000000  0.000000 2020-03-14  \n",
      "53    3.107118  11.760258  56.596152  0.000000  0.000000 2020-03-15  \n",
      "54    6.235566  19.606448  61.914815  0.304938  0.000000 2020-03-16  \n",
      "55   10.831718  27.981495  68.259587  0.748621  0.000000 2020-03-17  \n",
      "56   17.037746  34.683425  75.526780  1.251379  0.152469 2020-03-18  \n",
      "57   23.500000  40.500000  84.000000  2.000000  0.250000 2020-03-19  \n",
      "58   30.000000  43.500000  90.500000  2.000000  0.500000 2020-03-20  \n",
      "59   43.000000  63.000000  94.750000  2.000000  2.750000 2020-03-21  \n",
      "\n",
      "[60 rows x 167 columns]>\n"
     ]
    }
   ],
   "source": [
    "print(data_confirmed_rolling.tail)"
   ]
  },
  {
   "cell_type": "markdown",
   "metadata": {},
   "source": [
    "#### Informations on countries (population, offset)"
   ]
  },
  {
   "cell_type": "code",
   "execution_count": 166,
   "metadata": {},
   "outputs": [
    {
     "name": "stderr",
     "output_type": "stream",
     "text": [
      "100%|██████████| 10/10 [00:03<00:00,  3.05it/s]"
     ]
    },
    {
     "name": "stdout",
     "output_type": "stream",
     "text": [
      "> pop data imported\n"
     ]
    },
    {
     "name": "stderr",
     "output_type": "stream",
     "text": [
      "\n"
     ]
    },
    {
     "data": {
      "text/plain": [
       "'build : 2020-03-22 08:53'"
      ]
     },
     "execution_count": 166,
     "metadata": {},
     "output_type": "execute_result"
    }
   ],
   "source": [
    "from tqdm import tqdm\n",
    "\n",
    "# Importing informations on countries\n",
    "with open('data/info_countries.json', 'r') as f:\n",
    "    countries = json.load(f)\n",
    "    \n",
    "# Computing offset\n",
    "for c in tqdm(countries):\n",
    "    \n",
    "    countries[c]['offset_confirmed'] = compute_offset(data_confirmed, 'Italy', c)\n",
    "    countries[c]['offset_deaths'] = compute_offset(data_deaths, 'Italy', c)\n",
    "\n",
    "# Exporting informations on countries\n",
    "with open('data/info_countries.json', 'w') as fp:\n",
    "    json.dump(countries, fp)\n",
    "    \n",
    "print(\"> pop data imported\")\n",
    "\"build : \" + today"
   ]
  },
  {
   "cell_type": "code",
   "execution_count": null,
   "metadata": {},
   "outputs": [],
   "source": []
  },
  {
   "cell_type": "code",
   "execution_count": 167,
   "metadata": {},
   "outputs": [],
   "source": [
    "#data_confirmed['date']"
   ]
  },
  {
   "cell_type": "markdown",
   "metadata": {},
   "source": [
    "# Graphs"
   ]
  },
  {
   "cell_type": "code",
   "execution_count": 168,
   "metadata": {},
   "outputs": [
    {
     "data": {
      "text/plain": [
       "284"
      ]
     },
     "execution_count": 168,
     "metadata": {},
     "output_type": "execute_result"
    }
   ],
   "source": [
    "len(SymbolValidator().values)"
   ]
  },
  {
   "cell_type": "code",
   "execution_count": 169,
   "metadata": {},
   "outputs": [],
   "source": [
    "symbols = []\n",
    "\n",
    "for i in range(35):\n",
    "    symbols.append(SymbolValidator().values[i])\n",
    "    \n",
    "random.shuffle(symbols)"
   ]
  },
  {
   "cell_type": "markdown",
   "metadata": {},
   "source": [
    "### Total cases for 1 million inhabitants"
   ]
  },
  {
   "cell_type": "code",
   "execution_count": 170,
   "metadata": {},
   "outputs": [
    {
     "name": "stdout",
     "output_type": "stream",
     "text": [
      "> graph 1 built\n"
     ]
    },
    {
     "data": {
      "application/vnd.plotly.v1+json": {
       "config": {
        "plotlyServerURL": "https://plot.ly"
       },
       "data": [
        {
         "legendgroup": "Switzerland",
         "marker": {
          "color": "rgb(214, 39, 40)",
          "line": {
           "color": "rgb(214, 39, 40)"
          },
          "symbol": 0
         },
         "mode": "markers",
         "name": "",
         "opacity": 1,
         "showlegend": true,
         "type": "scatter",
         "x": [
          "2020-02-21T00:00:00",
          "2020-02-22T00:00:00",
          "2020-02-23T00:00:00",
          "2020-02-24T00:00:00",
          "2020-02-25T00:00:00",
          "2020-02-26T00:00:00",
          "2020-02-27T00:00:00",
          "2020-02-28T00:00:00",
          "2020-02-29T00:00:00",
          "2020-03-01T00:00:00",
          "2020-03-02T00:00:00",
          "2020-03-03T00:00:00",
          "2020-03-04T00:00:00",
          "2020-03-05T00:00:00",
          "2020-03-06T00:00:00",
          "2020-03-07T00:00:00",
          "2020-03-08T00:00:00",
          "2020-03-09T00:00:00",
          "2020-03-10T00:00:00",
          "2020-03-11T00:00:00",
          "2020-03-12T00:00:00",
          "2020-03-13T00:00:00",
          "2020-03-14T00:00:00",
          "2020-03-15T00:00:00",
          "2020-03-16T00:00:00",
          "2020-03-17T00:00:00",
          "2020-03-18T00:00:00",
          "2020-03-19T00:00:00",
          "2020-03-20T00:00:00",
          "2020-03-21T00:00:00"
         ],
         "y": [
          0.17913121361397225,
          0.17913121361397225,
          0.17913121361397225,
          0.17913121361397225,
          0.20898641588296762,
          0.2686968204209584,
          0.5672488431109122,
          0.8508732646663681,
          1.4927601134497688,
          1.9405881474846993,
          2.8511718166890585,
          3.045230631437528,
          4.299149126735334,
          5.672488431109121,
          9.792506344230484,
          14.285714285714286,
          16.927899686520377,
          18.166890580683685,
          26.750261233019856,
          34.184206597999705,
          34.184206597999705,
          54.903716972682496,
          66.98014629049112,
          67.51753993133303,
          99.53724436483058,
          114.92760113449769,
          135.91580832960145,
          163.41244961934618,
          189.96865203761757,
          215.4202119719361
         ]
        },
        {
         "legendgroup": "Switzerland",
         "marker": {
          "color": "rgb(214, 39, 40)"
         },
         "mode": "lines",
         "name": "France",
         "showlegend": true,
         "type": "scatter",
         "x": [
          "2020-02-21T00:00:00",
          "2020-02-22T00:00:00",
          "2020-02-23T00:00:00",
          "2020-02-24T00:00:00",
          "2020-02-25T00:00:00",
          "2020-02-26T00:00:00",
          "2020-02-27T00:00:00",
          "2020-02-28T00:00:00",
          "2020-02-29T00:00:00",
          "2020-03-01T00:00:00",
          "2020-03-02T00:00:00",
          "2020-03-03T00:00:00",
          "2020-03-04T00:00:00",
          "2020-03-05T00:00:00",
          "2020-03-06T00:00:00",
          "2020-03-07T00:00:00",
          "2020-03-08T00:00:00",
          "2020-03-09T00:00:00",
          "2020-03-10T00:00:00",
          "2020-03-11T00:00:00",
          "2020-03-12T00:00:00",
          "2020-03-13T00:00:00",
          "2020-03-14T00:00:00",
          "2020-03-15T00:00:00",
          "2020-03-16T00:00:00",
          "2020-03-17T00:00:00",
          "2020-03-18T00:00:00",
          "2020-03-19T00:00:00",
          "2020-03-20T00:00:00",
          "2020-03-21T00:00:00"
         ],
         "y": [
          0.17913121361397225,
          0.17913121361397225,
          0.17913121361397225,
          0.17913121361397225,
          0.20898641588296762,
          0.2686968204209584,
          0.5672488431109122,
          0.8508732646663681,
          1.4927601134497688,
          1.9405881474846993,
          2.8511718166890585,
          3.045230631437528,
          4.299149126735334,
          5.672488431109121,
          9.792506344230484,
          14.285714285714286,
          16.927899686520377,
          18.166890580683685,
          26.750261233019856,
          34.184206597999705,
          34.184206597999705,
          54.903716972682496,
          66.98014629049112,
          67.51753993133303,
          99.53724436483058,
          114.92760113449769,
          135.91580832960145,
          163.41244961934618,
          189.96865203761757,
          215.4202119719361
         ]
        },
        {
         "legendgroup": "Switzerland",
         "marker": {
          "color": "rgb(127, 127, 127)",
          "line": {
           "color": "rgb(127, 127, 127)"
          },
          "symbol": 3
         },
         "mode": "markers",
         "name": "",
         "opacity": 1,
         "showlegend": true,
         "type": "scatter",
         "x": [
          "2020-02-21T00:00:00",
          "2020-02-22T00:00:00",
          "2020-02-23T00:00:00",
          "2020-02-24T00:00:00",
          "2020-02-25T00:00:00",
          "2020-02-26T00:00:00",
          "2020-02-27T00:00:00",
          "2020-02-28T00:00:00",
          "2020-02-29T00:00:00",
          "2020-03-01T00:00:00",
          "2020-03-02T00:00:00",
          "2020-03-03T00:00:00",
          "2020-03-04T00:00:00",
          "2020-03-05T00:00:00",
          "2020-03-06T00:00:00",
          "2020-03-07T00:00:00",
          "2020-03-08T00:00:00",
          "2020-03-09T00:00:00",
          "2020-03-10T00:00:00",
          "2020-03-11T00:00:00",
          "2020-03-12T00:00:00",
          "2020-03-13T00:00:00",
          "2020-03-14T00:00:00",
          "2020-03-15T00:00:00",
          "2020-03-16T00:00:00",
          "2020-03-17T00:00:00",
          "2020-03-18T00:00:00",
          "2020-03-19T00:00:00",
          "2020-03-20T00:00:00",
          "2020-03-21T00:00:00"
         ],
         "y": [
          0.3306878306878307,
          1.0251322751322751,
          2.562830687830688,
          3.7863756613756614,
          5.324074074074074,
          7.490079365079366,
          10.830026455026456,
          14.682539682539684,
          18.650793650793652,
          28.00925925925926,
          33.664021164021165,
          41.36904761904762,
          51.07473544973545,
          63.789682539682545,
          76.65343915343915,
          97.2718253968254,
          121.94113756613757,
          151.65343915343917,
          167.8075396825397,
          206.05158730158732,
          206.05158730158732,
          291.99735449735454,
          349.8181216931217,
          409.17658730158735,
          462.63227513227514,
          520.9325396825398,
          590.4927248677249,
          678.4887566137567,
          777.4636243386244,
          885.8796296296297
         ]
        },
        {
         "legendgroup": "Switzerland",
         "marker": {
          "color": "rgb(127, 127, 127)"
         },
         "mode": "lines",
         "name": "Italy",
         "showlegend": true,
         "type": "scatter",
         "x": [
          "2020-02-21T00:00:00",
          "2020-02-22T00:00:00",
          "2020-02-23T00:00:00",
          "2020-02-24T00:00:00",
          "2020-02-25T00:00:00",
          "2020-02-26T00:00:00",
          "2020-02-27T00:00:00",
          "2020-02-28T00:00:00",
          "2020-02-29T00:00:00",
          "2020-03-01T00:00:00",
          "2020-03-02T00:00:00",
          "2020-03-03T00:00:00",
          "2020-03-04T00:00:00",
          "2020-03-05T00:00:00",
          "2020-03-06T00:00:00",
          "2020-03-07T00:00:00",
          "2020-03-08T00:00:00",
          "2020-03-09T00:00:00",
          "2020-03-10T00:00:00",
          "2020-03-11T00:00:00",
          "2020-03-12T00:00:00",
          "2020-03-13T00:00:00",
          "2020-03-14T00:00:00",
          "2020-03-15T00:00:00",
          "2020-03-16T00:00:00",
          "2020-03-17T00:00:00",
          "2020-03-18T00:00:00",
          "2020-03-19T00:00:00",
          "2020-03-20T00:00:00",
          "2020-03-21T00:00:00"
         ],
         "y": [
          0.3306878306878307,
          1.0251322751322751,
          2.562830687830688,
          3.7863756613756614,
          5.324074074074074,
          7.490079365079366,
          10.830026455026456,
          14.682539682539684,
          18.650793650793652,
          28.00925925925926,
          33.664021164021165,
          41.36904761904762,
          51.07473544973545,
          63.789682539682545,
          76.65343915343915,
          97.2718253968254,
          121.94113756613757,
          151.65343915343917,
          167.8075396825397,
          206.05158730158732,
          206.05158730158732,
          291.99735449735454,
          349.8181216931217,
          409.17658730158735,
          462.63227513227514,
          520.9325396825398,
          590.4927248677249,
          678.4887566137567,
          777.4636243386244,
          885.8796296296297
         ]
        },
        {
         "legendgroup": "Switzerland",
         "marker": {
          "color": "rgb(188, 189, 34)",
          "line": {
           "color": "rgb(188, 189, 34)"
          },
          "symbol": 6
         },
         "mode": "markers",
         "name": "",
         "opacity": 1,
         "showlegend": true,
         "type": "scatter",
         "x": [
          "2020-02-21T00:00:00",
          "2020-02-22T00:00:00",
          "2020-02-23T00:00:00",
          "2020-02-24T00:00:00",
          "2020-02-25T00:00:00",
          "2020-02-26T00:00:00",
          "2020-02-27T00:00:00",
          "2020-02-28T00:00:00",
          "2020-02-29T00:00:00",
          "2020-03-01T00:00:00",
          "2020-03-02T00:00:00",
          "2020-03-03T00:00:00",
          "2020-03-04T00:00:00",
          "2020-03-05T00:00:00",
          "2020-03-06T00:00:00",
          "2020-03-07T00:00:00",
          "2020-03-08T00:00:00",
          "2020-03-09T00:00:00",
          "2020-03-10T00:00:00",
          "2020-03-11T00:00:00",
          "2020-03-12T00:00:00",
          "2020-03-13T00:00:00",
          "2020-03-14T00:00:00",
          "2020-03-15T00:00:00",
          "2020-03-16T00:00:00",
          "2020-03-17T00:00:00",
          "2020-03-18T00:00:00",
          "2020-03-19T00:00:00",
          "2020-03-20T00:00:00",
          "2020-03-21T00:00:00"
         ],
         "y": [
          0.1354605659241421,
          0.1354605659241421,
          0.1354605659241421,
          0.19566526189042746,
          0.19566526189042746,
          0.19566526189042746,
          0.22576760987357014,
          0.30102347983142685,
          0.3461770018061409,
          0.5418422636965684,
          0.6020469596628537,
          0.7676098735701385,
          1.2944009632751354,
          1.7459361830222757,
          2.4683925346177005,
          3.115593016255268,
          4.124021673690548,
          4.846478025285973,
          5.779650812763395,
          6.908488862131247,
          6.908488862131247,
          12.071041541240216,
          17.218543046357617,
          17.233594220349186,
          23.344370860927153,
          29.50030102347983,
          39.76520168573149,
          40.87898856110777,
          60.41541240216737,
          76.26429861529199
         ]
        },
        {
         "legendgroup": "Switzerland",
         "marker": {
          "color": "rgb(188, 189, 34)"
         },
         "mode": "lines",
         "name": "United Kingdom",
         "showlegend": true,
         "type": "scatter",
         "x": [
          "2020-02-21T00:00:00",
          "2020-02-22T00:00:00",
          "2020-02-23T00:00:00",
          "2020-02-24T00:00:00",
          "2020-02-25T00:00:00",
          "2020-02-26T00:00:00",
          "2020-02-27T00:00:00",
          "2020-02-28T00:00:00",
          "2020-02-29T00:00:00",
          "2020-03-01T00:00:00",
          "2020-03-02T00:00:00",
          "2020-03-03T00:00:00",
          "2020-03-04T00:00:00",
          "2020-03-05T00:00:00",
          "2020-03-06T00:00:00",
          "2020-03-07T00:00:00",
          "2020-03-08T00:00:00",
          "2020-03-09T00:00:00",
          "2020-03-10T00:00:00",
          "2020-03-11T00:00:00",
          "2020-03-12T00:00:00",
          "2020-03-13T00:00:00",
          "2020-03-14T00:00:00",
          "2020-03-15T00:00:00",
          "2020-03-16T00:00:00",
          "2020-03-17T00:00:00",
          "2020-03-18T00:00:00",
          "2020-03-19T00:00:00",
          "2020-03-20T00:00:00",
          "2020-03-21T00:00:00"
         ],
         "y": [
          0.1354605659241421,
          0.1354605659241421,
          0.1354605659241421,
          0.19566526189042746,
          0.19566526189042746,
          0.19566526189042746,
          0.22576760987357014,
          0.30102347983142685,
          0.3461770018061409,
          0.5418422636965684,
          0.6020469596628537,
          0.7676098735701385,
          1.2944009632751354,
          1.7459361830222757,
          2.4683925346177005,
          3.115593016255268,
          4.124021673690548,
          4.846478025285973,
          5.779650812763395,
          6.908488862131247,
          6.908488862131247,
          12.071041541240216,
          17.218543046357617,
          17.233594220349186,
          23.344370860927153,
          29.50030102347983,
          39.76520168573149,
          40.87898856110777,
          60.41541240216737,
          76.26429861529199
         ]
        },
        {
         "legendgroup": "Switzerland",
         "marker": {
          "color": "rgb(148, 103, 189)",
          "line": {
           "color": "rgb(148, 103, 189)"
          },
          "symbol": 9
         },
         "mode": "markers",
         "name": "",
         "opacity": 1,
         "showlegend": true,
         "type": "scatter",
         "x": [
          "2020-02-21T00:00:00",
          "2020-02-22T00:00:00",
          "2020-02-23T00:00:00",
          "2020-02-24T00:00:00",
          "2020-02-25T00:00:00",
          "2020-02-26T00:00:00",
          "2020-02-27T00:00:00",
          "2020-02-28T00:00:00",
          "2020-02-29T00:00:00",
          "2020-03-01T00:00:00",
          "2020-03-02T00:00:00",
          "2020-03-03T00:00:00",
          "2020-03-04T00:00:00",
          "2020-03-05T00:00:00",
          "2020-03-06T00:00:00",
          "2020-03-07T00:00:00",
          "2020-03-08T00:00:00",
          "2020-03-09T00:00:00",
          "2020-03-10T00:00:00",
          "2020-03-11T00:00:00",
          "2020-03-12T00:00:00",
          "2020-03-13T00:00:00",
          "2020-03-14T00:00:00",
          "2020-03-15T00:00:00",
          "2020-03-16T00:00:00",
          "2020-03-17T00:00:00",
          "2020-03-18T00:00:00",
          "2020-03-19T00:00:00",
          "2020-03-20T00:00:00",
          "2020-03-21T00:00:00"
         ],
         "y": [
          0.042863266180882986,
          0.042863266180882986,
          0.042863266180882986,
          0.042863266180882986,
          0.12858979854264896,
          0.2786112301757394,
          0.3214744963566224,
          0.6858122588941278,
          0.9644234890698672,
          1.8002571795970854,
          2.571795970852979,
          3.5362194599228465,
          4.757822546078011,
          5.550792970424347,
          8.572653236176597,
          10.715816545220747,
          14.423489069867125,
          22.996142306043723,
          36.32661808829833,
          48.79982854693528,
          48.79982854693528,
          112.1303043291899,
          136.96956708101158,
          167.12387483926275,
          213.0732961851693,
          251.77882554650665,
          298.11401628804117,
          384.97642520360057,
          437.41963137591085,
          543.8062580368625
         ]
        },
        {
         "legendgroup": "Switzerland",
         "marker": {
          "color": "rgb(148, 103, 189)"
         },
         "mode": "lines",
         "name": "Spain",
         "showlegend": true,
         "type": "scatter",
         "x": [
          "2020-02-21T00:00:00",
          "2020-02-22T00:00:00",
          "2020-02-23T00:00:00",
          "2020-02-24T00:00:00",
          "2020-02-25T00:00:00",
          "2020-02-26T00:00:00",
          "2020-02-27T00:00:00",
          "2020-02-28T00:00:00",
          "2020-02-29T00:00:00",
          "2020-03-01T00:00:00",
          "2020-03-02T00:00:00",
          "2020-03-03T00:00:00",
          "2020-03-04T00:00:00",
          "2020-03-05T00:00:00",
          "2020-03-06T00:00:00",
          "2020-03-07T00:00:00",
          "2020-03-08T00:00:00",
          "2020-03-09T00:00:00",
          "2020-03-10T00:00:00",
          "2020-03-11T00:00:00",
          "2020-03-12T00:00:00",
          "2020-03-13T00:00:00",
          "2020-03-14T00:00:00",
          "2020-03-15T00:00:00",
          "2020-03-16T00:00:00",
          "2020-03-17T00:00:00",
          "2020-03-18T00:00:00",
          "2020-03-19T00:00:00",
          "2020-03-20T00:00:00",
          "2020-03-21T00:00:00"
         ],
         "y": [
          0.042863266180882986,
          0.042863266180882986,
          0.042863266180882986,
          0.042863266180882986,
          0.12858979854264896,
          0.2786112301757394,
          0.3214744963566224,
          0.6858122588941278,
          0.9644234890698672,
          1.8002571795970854,
          2.571795970852979,
          3.5362194599228465,
          4.757822546078011,
          5.550792970424347,
          8.572653236176597,
          10.715816545220747,
          14.423489069867125,
          22.996142306043723,
          36.32661808829833,
          48.79982854693528,
          48.79982854693528,
          112.1303043291899,
          136.96956708101158,
          167.12387483926275,
          213.0732961851693,
          251.77882554650665,
          298.11401628804117,
          384.97642520360057,
          437.41963137591085,
          543.8062580368625
         ]
        },
        {
         "legendgroup": "Switzerland",
         "marker": {
          "color": "rgb(44, 160, 44)",
          "line": {
           "color": "rgb(44, 160, 44)"
          },
          "symbol": 12
         },
         "mode": "markers",
         "name": "",
         "opacity": 1,
         "showlegend": true,
         "type": "scatter",
         "x": [
          "2020-02-21T00:00:00",
          "2020-02-22T00:00:00",
          "2020-02-23T00:00:00",
          "2020-02-24T00:00:00",
          "2020-02-25T00:00:00",
          "2020-02-26T00:00:00",
          "2020-02-27T00:00:00",
          "2020-02-28T00:00:00",
          "2020-02-29T00:00:00",
          "2020-03-01T00:00:00",
          "2020-03-02T00:00:00",
          "2020-03-03T00:00:00",
          "2020-03-04T00:00:00",
          "2020-03-05T00:00:00",
          "2020-03-06T00:00:00",
          "2020-03-07T00:00:00",
          "2020-03-08T00:00:00",
          "2020-03-09T00:00:00",
          "2020-03-10T00:00:00",
          "2020-03-11T00:00:00",
          "2020-03-12T00:00:00",
          "2020-03-13T00:00:00",
          "2020-03-14T00:00:00",
          "2020-03-15T00:00:00",
          "2020-03-16T00:00:00",
          "2020-03-17T00:00:00",
          "2020-03-18T00:00:00",
          "2020-03-19T00:00:00",
          "2020-03-20T00:00:00",
          "2020-03-21T00:00:00"
         ],
         "y": [
          0.19326005556226597,
          0.19326005556226597,
          0.19326005556226597,
          0.19326005556226597,
          0.2053388090349076,
          0.3261263437613238,
          0.5556226597415146,
          0.5797801666867979,
          0.9542215243386881,
          1.5702379514434108,
          1.9205218021500179,
          2.367435680637758,
          3.164633409832105,
          5.821959173813262,
          8.092764826669887,
          9.650924024640656,
          12.561903611547287,
          14.204614083826549,
          17.598743809638844,
          23.046261625800216,
          25.09964971614929,
          44.38941901195796,
          55.38108467206184,
          69.9963763739582,
          87.83669525304988,
          111.8130208962435,
          148.89479405725328,
          185.04650320086967,
          239.7390989249909,
          268.30535088778834
         ]
        },
        {
         "legendgroup": "Switzerland",
         "marker": {
          "color": "rgb(44, 160, 44)"
         },
         "mode": "lines",
         "name": "Germany",
         "showlegend": true,
         "type": "scatter",
         "x": [
          "2020-02-21T00:00:00",
          "2020-02-22T00:00:00",
          "2020-02-23T00:00:00",
          "2020-02-24T00:00:00",
          "2020-02-25T00:00:00",
          "2020-02-26T00:00:00",
          "2020-02-27T00:00:00",
          "2020-02-28T00:00:00",
          "2020-02-29T00:00:00",
          "2020-03-01T00:00:00",
          "2020-03-02T00:00:00",
          "2020-03-03T00:00:00",
          "2020-03-04T00:00:00",
          "2020-03-05T00:00:00",
          "2020-03-06T00:00:00",
          "2020-03-07T00:00:00",
          "2020-03-08T00:00:00",
          "2020-03-09T00:00:00",
          "2020-03-10T00:00:00",
          "2020-03-11T00:00:00",
          "2020-03-12T00:00:00",
          "2020-03-13T00:00:00",
          "2020-03-14T00:00:00",
          "2020-03-15T00:00:00",
          "2020-03-16T00:00:00",
          "2020-03-17T00:00:00",
          "2020-03-18T00:00:00",
          "2020-03-19T00:00:00",
          "2020-03-20T00:00:00",
          "2020-03-21T00:00:00"
         ],
         "y": [
          0.19326005556226597,
          0.19326005556226597,
          0.19326005556226597,
          0.19326005556226597,
          0.2053388090349076,
          0.3261263437613238,
          0.5556226597415146,
          0.5797801666867979,
          0.9542215243386881,
          1.5702379514434108,
          1.9205218021500179,
          2.367435680637758,
          3.164633409832105,
          5.821959173813262,
          8.092764826669887,
          9.650924024640656,
          12.561903611547287,
          14.204614083826549,
          17.598743809638844,
          23.046261625800216,
          25.09964971614929,
          44.38941901195796,
          55.38108467206184,
          69.9963763739582,
          87.83669525304988,
          111.8130208962435,
          148.89479405725328,
          185.04650320086967,
          239.7390989249909,
          268.30535088778834
         ]
        },
        {
         "legendgroup": "Switzerland",
         "marker": {
          "color": "rgb(227, 119, 194)",
          "line": {
           "color": "rgb(227, 119, 194)"
          },
          "symbol": 15
         },
         "mode": "markers",
         "name": "",
         "opacity": 1,
         "showlegend": true,
         "type": "scatter",
         "x": [
          "2020-02-21T00:00:00",
          "2020-02-22T00:00:00",
          "2020-02-23T00:00:00",
          "2020-02-24T00:00:00",
          "2020-02-25T00:00:00",
          "2020-02-26T00:00:00",
          "2020-02-27T00:00:00",
          "2020-02-28T00:00:00",
          "2020-02-29T00:00:00",
          "2020-03-01T00:00:00",
          "2020-03-02T00:00:00",
          "2020-03-03T00:00:00",
          "2020-03-04T00:00:00",
          "2020-03-05T00:00:00",
          "2020-03-06T00:00:00",
          "2020-03-07T00:00:00",
          "2020-03-08T00:00:00",
          "2020-03-09T00:00:00",
          "2020-03-10T00:00:00",
          "2020-03-11T00:00:00",
          "2020-03-12T00:00:00",
          "2020-03-13T00:00:00",
          "2020-03-14T00:00:00",
          "2020-03-15T00:00:00",
          "2020-03-16T00:00:00",
          "2020-03-17T00:00:00",
          "2020-03-18T00:00:00",
          "2020-03-19T00:00:00",
          "2020-03-20T00:00:00",
          "2020-03-21T00:00:00"
         ],
         "y": [
          0.08771929824561403,
          0.08771929824561403,
          0.08771929824561403,
          0.08771929824561403,
          0.08771929824561403,
          0.08771929824561403,
          0.08771929824561403,
          0.08771929824561403,
          0.08771929824561403,
          0.17543859649122806,
          0.7017543859649122,
          1.1403508771929824,
          2.017543859649123,
          4.385964912280701,
          9.56140350877193,
          14.824561403508772,
          17.543859649122805,
          20.964912280701753,
          23.421052631578945,
          27.543859649122805,
          27.543859649122805,
          49.03508771929825,
          60.43859649122807,
          77.71929824561403,
          92.80701754385964,
          109.03508771929825,
          130.35087719298247,
          157.45614035087718,
          197.98245614035088,
          246.9298245614035
         ]
        },
        {
         "legendgroup": "Switzerland",
         "marker": {
          "color": "rgb(227, 119, 194)"
         },
         "mode": "lines",
         "name": "Belgium",
         "showlegend": true,
         "type": "scatter",
         "x": [
          "2020-02-21T00:00:00",
          "2020-02-22T00:00:00",
          "2020-02-23T00:00:00",
          "2020-02-24T00:00:00",
          "2020-02-25T00:00:00",
          "2020-02-26T00:00:00",
          "2020-02-27T00:00:00",
          "2020-02-28T00:00:00",
          "2020-02-29T00:00:00",
          "2020-03-01T00:00:00",
          "2020-03-02T00:00:00",
          "2020-03-03T00:00:00",
          "2020-03-04T00:00:00",
          "2020-03-05T00:00:00",
          "2020-03-06T00:00:00",
          "2020-03-07T00:00:00",
          "2020-03-08T00:00:00",
          "2020-03-09T00:00:00",
          "2020-03-10T00:00:00",
          "2020-03-11T00:00:00",
          "2020-03-12T00:00:00",
          "2020-03-13T00:00:00",
          "2020-03-14T00:00:00",
          "2020-03-15T00:00:00",
          "2020-03-16T00:00:00",
          "2020-03-17T00:00:00",
          "2020-03-18T00:00:00",
          "2020-03-19T00:00:00",
          "2020-03-20T00:00:00",
          "2020-03-21T00:00:00"
         ],
         "y": [
          0.08771929824561403,
          0.08771929824561403,
          0.08771929824561403,
          0.08771929824561403,
          0.08771929824561403,
          0.08771929824561403,
          0.08771929824561403,
          0.08771929824561403,
          0.08771929824561403,
          0.17543859649122806,
          0.7017543859649122,
          1.1403508771929824,
          2.017543859649123,
          4.385964912280701,
          9.56140350877193,
          14.824561403508772,
          17.543859649122805,
          20.964912280701753,
          23.421052631578945,
          27.543859649122805,
          27.543859649122805,
          49.03508771929825,
          60.43859649122807,
          77.71929824561403,
          92.80701754385964,
          109.03508771929825,
          130.35087719298247,
          157.45614035087718,
          197.98245614035088,
          246.9298245614035
         ]
        },
        {
         "legendgroup": "Switzerland",
         "marker": {
          "color": "rgb(23, 190, 207)",
          "line": {
           "color": "rgb(23, 190, 207)"
          },
          "symbol": 18
         },
         "mode": "markers",
         "name": "",
         "opacity": 1,
         "showlegend": true,
         "type": "scatter",
         "x": [
          "2020-02-21T00:00:00",
          "2020-02-22T00:00:00",
          "2020-02-23T00:00:00",
          "2020-02-24T00:00:00",
          "2020-02-25T00:00:00",
          "2020-02-26T00:00:00",
          "2020-02-27T00:00:00",
          "2020-02-28T00:00:00",
          "2020-02-29T00:00:00",
          "2020-03-01T00:00:00",
          "2020-03-02T00:00:00",
          "2020-03-03T00:00:00",
          "2020-03-04T00:00:00",
          "2020-03-05T00:00:00",
          "2020-03-06T00:00:00",
          "2020-03-07T00:00:00",
          "2020-03-08T00:00:00",
          "2020-03-09T00:00:00",
          "2020-03-10T00:00:00",
          "2020-03-11T00:00:00",
          "2020-03-12T00:00:00",
          "2020-03-13T00:00:00",
          "2020-03-14T00:00:00",
          "2020-03-15T00:00:00",
          "2020-03-16T00:00:00",
          "2020-03-17T00:00:00",
          "2020-03-18T00:00:00",
          "2020-03-19T00:00:00",
          "2020-03-20T00:00:00",
          "2020-03-21T00:00:00"
         ],
         "y": [
          0,
          0,
          0,
          0,
          0,
          0,
          0,
          0,
          1.6611295681063123,
          1.6611295681063123,
          1.6611295681063123,
          1.6611295681063123,
          1.6611295681063123,
          1.6611295681063123,
          3.3222591362126246,
          3.3222591362126246,
          4.983388704318937,
          4.983388704318937,
          8.305647840531561,
          11.627906976744187,
          31.561461794019934,
          56.47840531561462,
          84.71760797342193,
          98.00664451827242,
          127.90697674418605,
          232.55813953488374,
          337.2093023255814,
          556.4784053156146,
          803.9867109634552,
          1112.9568106312292
         ]
        },
        {
         "legendgroup": "Switzerland",
         "marker": {
          "color": "rgb(23, 190, 207)"
         },
         "mode": "lines",
         "name": "Luxembourg",
         "showlegend": true,
         "type": "scatter",
         "x": [
          "2020-02-21T00:00:00",
          "2020-02-22T00:00:00",
          "2020-02-23T00:00:00",
          "2020-02-24T00:00:00",
          "2020-02-25T00:00:00",
          "2020-02-26T00:00:00",
          "2020-02-27T00:00:00",
          "2020-02-28T00:00:00",
          "2020-02-29T00:00:00",
          "2020-03-01T00:00:00",
          "2020-03-02T00:00:00",
          "2020-03-03T00:00:00",
          "2020-03-04T00:00:00",
          "2020-03-05T00:00:00",
          "2020-03-06T00:00:00",
          "2020-03-07T00:00:00",
          "2020-03-08T00:00:00",
          "2020-03-09T00:00:00",
          "2020-03-10T00:00:00",
          "2020-03-11T00:00:00",
          "2020-03-12T00:00:00",
          "2020-03-13T00:00:00",
          "2020-03-14T00:00:00",
          "2020-03-15T00:00:00",
          "2020-03-16T00:00:00",
          "2020-03-17T00:00:00",
          "2020-03-18T00:00:00",
          "2020-03-19T00:00:00",
          "2020-03-20T00:00:00",
          "2020-03-21T00:00:00"
         ],
         "y": [
          0,
          0,
          0,
          0,
          0,
          0,
          0,
          0,
          1.6611295681063123,
          1.6611295681063123,
          1.6611295681063123,
          1.6611295681063123,
          1.6611295681063123,
          1.6611295681063123,
          3.3222591362126246,
          3.3222591362126246,
          4.983388704318937,
          4.983388704318937,
          8.305647840531561,
          11.627906976744187,
          31.561461794019934,
          56.47840531561462,
          84.71760797342193,
          98.00664451827242,
          127.90697674418605,
          232.55813953488374,
          337.2093023255814,
          556.4784053156146,
          803.9867109634552,
          1112.9568106312292
         ]
        },
        {
         "legendgroup": "Switzerland",
         "marker": {
          "color": "rgb(31, 119, 180)",
          "line": {
           "color": "rgb(31, 119, 180)"
          },
          "symbol": 21
         },
         "mode": "markers",
         "name": "",
         "opacity": 1,
         "showlegend": true,
         "type": "scatter",
         "x": [
          "2020-02-21T00:00:00",
          "2020-02-22T00:00:00",
          "2020-02-23T00:00:00",
          "2020-02-24T00:00:00",
          "2020-02-25T00:00:00",
          "2020-02-26T00:00:00",
          "2020-02-27T00:00:00",
          "2020-02-28T00:00:00",
          "2020-02-29T00:00:00",
          "2020-03-01T00:00:00",
          "2020-03-02T00:00:00",
          "2020-03-03T00:00:00",
          "2020-03-04T00:00:00",
          "2020-03-05T00:00:00",
          "2020-03-06T00:00:00",
          "2020-03-07T00:00:00",
          "2020-03-08T00:00:00",
          "2020-03-09T00:00:00",
          "2020-03-10T00:00:00",
          "2020-03-11T00:00:00",
          "2020-03-12T00:00:00",
          "2020-03-13T00:00:00",
          "2020-03-14T00:00:00",
          "2020-03-15T00:00:00",
          "2020-03-16T00:00:00",
          "2020-03-17T00:00:00",
          "2020-03-18T00:00:00",
          "2020-03-19T00:00:00",
          "2020-03-20T00:00:00",
          "2020-03-21T00:00:00"
         ],
         "y": [
          0.045871559633027525,
          0.045871559633027525,
          0.045871559633027525,
          0.1559633027522936,
          0.1559633027522936,
          0.1743119266055046,
          0.17737003058103976,
          0.1834862385321101,
          0.20795107033639143,
          0.22629969418960244,
          0.2996941896024465,
          0.36085626911314983,
          0.45565749235474007,
          0.6636085626911316,
          0.8012232415902141,
          1.2293577981651376,
          1.584097859327217,
          1.782874617737003,
          2.932721712538226,
          3.9174311926605503,
          5.085626911314985,
          6.663608562691132,
          8.339449541284404,
          10.700305810397554,
          14.1651376146789,
          19.636085626911314,
          23.801223241590215,
          41.825688073394495,
          58.40978593272171,
          77.9480122324159
         ]
        },
        {
         "legendgroup": "Switzerland",
         "marker": {
          "color": "rgb(31, 119, 180)"
         },
         "mode": "lines",
         "name": "US",
         "showlegend": true,
         "type": "scatter",
         "x": [
          "2020-02-21T00:00:00",
          "2020-02-22T00:00:00",
          "2020-02-23T00:00:00",
          "2020-02-24T00:00:00",
          "2020-02-25T00:00:00",
          "2020-02-26T00:00:00",
          "2020-02-27T00:00:00",
          "2020-02-28T00:00:00",
          "2020-02-29T00:00:00",
          "2020-03-01T00:00:00",
          "2020-03-02T00:00:00",
          "2020-03-03T00:00:00",
          "2020-03-04T00:00:00",
          "2020-03-05T00:00:00",
          "2020-03-06T00:00:00",
          "2020-03-07T00:00:00",
          "2020-03-08T00:00:00",
          "2020-03-09T00:00:00",
          "2020-03-10T00:00:00",
          "2020-03-11T00:00:00",
          "2020-03-12T00:00:00",
          "2020-03-13T00:00:00",
          "2020-03-14T00:00:00",
          "2020-03-15T00:00:00",
          "2020-03-16T00:00:00",
          "2020-03-17T00:00:00",
          "2020-03-18T00:00:00",
          "2020-03-19T00:00:00",
          "2020-03-20T00:00:00",
          "2020-03-21T00:00:00"
         ],
         "y": [
          0.045871559633027525,
          0.045871559633027525,
          0.045871559633027525,
          0.1559633027522936,
          0.1559633027522936,
          0.1743119266055046,
          0.17737003058103976,
          0.1834862385321101,
          0.20795107033639143,
          0.22629969418960244,
          0.2996941896024465,
          0.36085626911314983,
          0.45565749235474007,
          0.6636085626911316,
          0.8012232415902141,
          1.2293577981651376,
          1.584097859327217,
          1.782874617737003,
          2.932721712538226,
          3.9174311926605503,
          5.085626911314985,
          6.663608562691132,
          8.339449541284404,
          10.700305810397554,
          14.1651376146789,
          19.636085626911314,
          23.801223241590215,
          41.825688073394495,
          58.40978593272171,
          77.9480122324159
         ]
        },
        {
         "legendgroup": "Switzerland",
         "marker": {
          "color": "rgb(255, 127, 14)",
          "line": {
           "color": "rgb(255, 127, 14)"
          },
          "symbol": 24
         },
         "mode": "markers",
         "name": "",
         "opacity": 1,
         "showlegend": true,
         "type": "scatter",
         "x": [
          "2020-02-21T00:00:00",
          "2020-02-22T00:00:00",
          "2020-02-23T00:00:00",
          "2020-02-24T00:00:00",
          "2020-02-25T00:00:00",
          "2020-02-26T00:00:00",
          "2020-02-27T00:00:00",
          "2020-02-28T00:00:00",
          "2020-02-29T00:00:00",
          "2020-03-01T00:00:00",
          "2020-03-02T00:00:00",
          "2020-03-03T00:00:00",
          "2020-03-04T00:00:00",
          "2020-03-05T00:00:00",
          "2020-03-06T00:00:00",
          "2020-03-07T00:00:00",
          "2020-03-08T00:00:00",
          "2020-03-09T00:00:00",
          "2020-03-10T00:00:00",
          "2020-03-11T00:00:00",
          "2020-03-12T00:00:00",
          "2020-03-13T00:00:00",
          "2020-03-14T00:00:00",
          "2020-03-15T00:00:00",
          "2020-03-16T00:00:00",
          "2020-03-17T00:00:00",
          "2020-03-18T00:00:00",
          "2020-03-19T00:00:00",
          "2020-03-20T00:00:00",
          "2020-03-21T00:00:00"
         ],
         "y": [
          0.23942537909018355,
          0.23942537909018355,
          0.23942537909018355,
          0.2660281989890928,
          0.2926310188880021,
          0.2926310188880021,
          0.34583665868582064,
          0.3724394785847299,
          0.5320563979781856,
          0.6384676775738227,
          0.7182761372705506,
          0.7980845969672785,
          0.8778930566640063,
          0.9843043362596434,
          1.303538175046555,
          1.4365522745411012,
          1.7025804735301941,
          2.0484171322160147,
          2.101622772013833,
          2.8731045490822025,
          3.112529928172386,
          5.134344240489491,
          5.267358339984038,
          6.703910614525139,
          11.040170258047352,
          12.716147911678636,
          17.4780526735834,
          21.282255919127426,
          25.086459164671453,
          33.99840383080606
         ]
        },
        {
         "legendgroup": "Switzerland",
         "marker": {
          "color": "rgb(255, 127, 14)"
         },
         "mode": "lines",
         "name": "Canada",
         "showlegend": true,
         "type": "scatter",
         "x": [
          "2020-02-21T00:00:00",
          "2020-02-22T00:00:00",
          "2020-02-23T00:00:00",
          "2020-02-24T00:00:00",
          "2020-02-25T00:00:00",
          "2020-02-26T00:00:00",
          "2020-02-27T00:00:00",
          "2020-02-28T00:00:00",
          "2020-02-29T00:00:00",
          "2020-03-01T00:00:00",
          "2020-03-02T00:00:00",
          "2020-03-03T00:00:00",
          "2020-03-04T00:00:00",
          "2020-03-05T00:00:00",
          "2020-03-06T00:00:00",
          "2020-03-07T00:00:00",
          "2020-03-08T00:00:00",
          "2020-03-09T00:00:00",
          "2020-03-10T00:00:00",
          "2020-03-11T00:00:00",
          "2020-03-12T00:00:00",
          "2020-03-13T00:00:00",
          "2020-03-14T00:00:00",
          "2020-03-15T00:00:00",
          "2020-03-16T00:00:00",
          "2020-03-17T00:00:00",
          "2020-03-18T00:00:00",
          "2020-03-19T00:00:00",
          "2020-03-20T00:00:00",
          "2020-03-21T00:00:00"
         ],
         "y": [
          0.23942537909018355,
          0.23942537909018355,
          0.23942537909018355,
          0.2660281989890928,
          0.2926310188880021,
          0.2926310188880021,
          0.34583665868582064,
          0.3724394785847299,
          0.5320563979781856,
          0.6384676775738227,
          0.7182761372705506,
          0.7980845969672785,
          0.8778930566640063,
          0.9843043362596434,
          1.303538175046555,
          1.4365522745411012,
          1.7025804735301941,
          2.0484171322160147,
          2.101622772013833,
          2.8731045490822025,
          3.112529928172386,
          5.134344240489491,
          5.267358339984038,
          6.703910614525139,
          11.040170258047352,
          12.716147911678636,
          17.4780526735834,
          21.282255919127426,
          25.086459164671453,
          33.99840383080606
         ]
        },
        {
         "legendgroup": "Switzerland",
         "marker": {
          "color": "rgb(140, 86, 75)",
          "line": {
           "color": "rgb(140, 86, 75)"
          },
          "symbol": 27
         },
         "mode": "markers",
         "name": "",
         "opacity": 1,
         "showlegend": true,
         "type": "scatter",
         "x": [
          "2020-02-21T00:00:00",
          "2020-02-22T00:00:00",
          "2020-02-23T00:00:00",
          "2020-02-24T00:00:00",
          "2020-02-25T00:00:00",
          "2020-02-26T00:00:00",
          "2020-02-27T00:00:00",
          "2020-02-28T00:00:00",
          "2020-02-29T00:00:00",
          "2020-03-01T00:00:00",
          "2020-03-02T00:00:00",
          "2020-03-03T00:00:00",
          "2020-03-04T00:00:00",
          "2020-03-05T00:00:00",
          "2020-03-06T00:00:00",
          "2020-03-07T00:00:00",
          "2020-03-08T00:00:00",
          "2020-03-09T00:00:00",
          "2020-03-10T00:00:00",
          "2020-03-11T00:00:00",
          "2020-03-12T00:00:00",
          "2020-03-13T00:00:00",
          "2020-03-14T00:00:00",
          "2020-03-15T00:00:00",
          "2020-03-16T00:00:00",
          "2020-03-17T00:00:00",
          "2020-03-18T00:00:00",
          "2020-03-19T00:00:00",
          "2020-03-20T00:00:00",
          "2020-03-21T00:00:00"
         ],
         "y": [
          0,
          0,
          0,
          0,
          0.11668611435239207,
          0.11668611435239207,
          0.9334889148191365,
          0.9334889148191365,
          2.100350058343057,
          3.150525087514586,
          4.900816802800467,
          6.534422403733956,
          10.501750291715286,
          13.302217036172696,
          24.970828471411902,
          31.271878646441074,
          39.323220536756125,
          43.64060676779463,
          57.2928821470245,
          76.07934655775962,
          76.07934655775962,
          132.90548424737455,
          158.5764294049008,
          256.70945157526256,
          256.70945157526256,
          315.05250875145856,
          353.32555425904314,
          475.49591598599767,
          617.7362893815636,
          767.2112018669778
         ]
        },
        {
         "legendgroup": "Switzerland",
         "marker": {
          "color": "rgb(140, 86, 75)"
         },
         "mode": "lines",
         "name": "Switzerland",
         "showlegend": true,
         "type": "scatter",
         "x": [
          "2020-02-21T00:00:00",
          "2020-02-22T00:00:00",
          "2020-02-23T00:00:00",
          "2020-02-24T00:00:00",
          "2020-02-25T00:00:00",
          "2020-02-26T00:00:00",
          "2020-02-27T00:00:00",
          "2020-02-28T00:00:00",
          "2020-02-29T00:00:00",
          "2020-03-01T00:00:00",
          "2020-03-02T00:00:00",
          "2020-03-03T00:00:00",
          "2020-03-04T00:00:00",
          "2020-03-05T00:00:00",
          "2020-03-06T00:00:00",
          "2020-03-07T00:00:00",
          "2020-03-08T00:00:00",
          "2020-03-09T00:00:00",
          "2020-03-10T00:00:00",
          "2020-03-11T00:00:00",
          "2020-03-12T00:00:00",
          "2020-03-13T00:00:00",
          "2020-03-14T00:00:00",
          "2020-03-15T00:00:00",
          "2020-03-16T00:00:00",
          "2020-03-17T00:00:00",
          "2020-03-18T00:00:00",
          "2020-03-19T00:00:00",
          "2020-03-20T00:00:00",
          "2020-03-21T00:00:00"
         ],
         "y": [
          0,
          0,
          0,
          0,
          0.11668611435239207,
          0.11668611435239207,
          0.9334889148191365,
          0.9334889148191365,
          2.100350058343057,
          3.150525087514586,
          4.900816802800467,
          6.534422403733956,
          10.501750291715286,
          13.302217036172696,
          24.970828471411902,
          31.271878646441074,
          39.323220536756125,
          43.64060676779463,
          57.2928821470245,
          76.07934655775962,
          76.07934655775962,
          132.90548424737455,
          158.5764294049008,
          256.70945157526256,
          256.70945157526256,
          315.05250875145856,
          353.32555425904314,
          475.49591598599767,
          617.7362893815636,
          767.2112018669778
         ]
        }
       ],
       "layout": {
        "annotations": [
         {
          "showarrow": false,
          "text": "Last update: 2020-03-22 08:53 ; Last data: 2020-03-21 ; Data: CSSE ; Author: @guillaumerozier",
          "x": 0,
          "xref": "paper",
          "y": 1.1,
          "yref": "paper"
         }
        ],
        "template": {
         "data": {
          "bar": [
           {
            "error_x": {
             "color": "#2a3f5f"
            },
            "error_y": {
             "color": "#2a3f5f"
            },
            "marker": {
             "line": {
              "color": "#E5ECF6",
              "width": 0.5
             }
            },
            "type": "bar"
           }
          ],
          "barpolar": [
           {
            "marker": {
             "line": {
              "color": "#E5ECF6",
              "width": 0.5
             }
            },
            "type": "barpolar"
           }
          ],
          "carpet": [
           {
            "aaxis": {
             "endlinecolor": "#2a3f5f",
             "gridcolor": "white",
             "linecolor": "white",
             "minorgridcolor": "white",
             "startlinecolor": "#2a3f5f"
            },
            "baxis": {
             "endlinecolor": "#2a3f5f",
             "gridcolor": "white",
             "linecolor": "white",
             "minorgridcolor": "white",
             "startlinecolor": "#2a3f5f"
            },
            "type": "carpet"
           }
          ],
          "choropleth": [
           {
            "colorbar": {
             "outlinewidth": 0,
             "ticks": ""
            },
            "type": "choropleth"
           }
          ],
          "contour": [
           {
            "colorbar": {
             "outlinewidth": 0,
             "ticks": ""
            },
            "colorscale": [
             [
              0,
              "#0d0887"
             ],
             [
              0.1111111111111111,
              "#46039f"
             ],
             [
              0.2222222222222222,
              "#7201a8"
             ],
             [
              0.3333333333333333,
              "#9c179e"
             ],
             [
              0.4444444444444444,
              "#bd3786"
             ],
             [
              0.5555555555555556,
              "#d8576b"
             ],
             [
              0.6666666666666666,
              "#ed7953"
             ],
             [
              0.7777777777777778,
              "#fb9f3a"
             ],
             [
              0.8888888888888888,
              "#fdca26"
             ],
             [
              1,
              "#f0f921"
             ]
            ],
            "type": "contour"
           }
          ],
          "contourcarpet": [
           {
            "colorbar": {
             "outlinewidth": 0,
             "ticks": ""
            },
            "type": "contourcarpet"
           }
          ],
          "heatmap": [
           {
            "colorbar": {
             "outlinewidth": 0,
             "ticks": ""
            },
            "colorscale": [
             [
              0,
              "#0d0887"
             ],
             [
              0.1111111111111111,
              "#46039f"
             ],
             [
              0.2222222222222222,
              "#7201a8"
             ],
             [
              0.3333333333333333,
              "#9c179e"
             ],
             [
              0.4444444444444444,
              "#bd3786"
             ],
             [
              0.5555555555555556,
              "#d8576b"
             ],
             [
              0.6666666666666666,
              "#ed7953"
             ],
             [
              0.7777777777777778,
              "#fb9f3a"
             ],
             [
              0.8888888888888888,
              "#fdca26"
             ],
             [
              1,
              "#f0f921"
             ]
            ],
            "type": "heatmap"
           }
          ],
          "heatmapgl": [
           {
            "colorbar": {
             "outlinewidth": 0,
             "ticks": ""
            },
            "colorscale": [
             [
              0,
              "#0d0887"
             ],
             [
              0.1111111111111111,
              "#46039f"
             ],
             [
              0.2222222222222222,
              "#7201a8"
             ],
             [
              0.3333333333333333,
              "#9c179e"
             ],
             [
              0.4444444444444444,
              "#bd3786"
             ],
             [
              0.5555555555555556,
              "#d8576b"
             ],
             [
              0.6666666666666666,
              "#ed7953"
             ],
             [
              0.7777777777777778,
              "#fb9f3a"
             ],
             [
              0.8888888888888888,
              "#fdca26"
             ],
             [
              1,
              "#f0f921"
             ]
            ],
            "type": "heatmapgl"
           }
          ],
          "histogram": [
           {
            "marker": {
             "colorbar": {
              "outlinewidth": 0,
              "ticks": ""
             }
            },
            "type": "histogram"
           }
          ],
          "histogram2d": [
           {
            "colorbar": {
             "outlinewidth": 0,
             "ticks": ""
            },
            "colorscale": [
             [
              0,
              "#0d0887"
             ],
             [
              0.1111111111111111,
              "#46039f"
             ],
             [
              0.2222222222222222,
              "#7201a8"
             ],
             [
              0.3333333333333333,
              "#9c179e"
             ],
             [
              0.4444444444444444,
              "#bd3786"
             ],
             [
              0.5555555555555556,
              "#d8576b"
             ],
             [
              0.6666666666666666,
              "#ed7953"
             ],
             [
              0.7777777777777778,
              "#fb9f3a"
             ],
             [
              0.8888888888888888,
              "#fdca26"
             ],
             [
              1,
              "#f0f921"
             ]
            ],
            "type": "histogram2d"
           }
          ],
          "histogram2dcontour": [
           {
            "colorbar": {
             "outlinewidth": 0,
             "ticks": ""
            },
            "colorscale": [
             [
              0,
              "#0d0887"
             ],
             [
              0.1111111111111111,
              "#46039f"
             ],
             [
              0.2222222222222222,
              "#7201a8"
             ],
             [
              0.3333333333333333,
              "#9c179e"
             ],
             [
              0.4444444444444444,
              "#bd3786"
             ],
             [
              0.5555555555555556,
              "#d8576b"
             ],
             [
              0.6666666666666666,
              "#ed7953"
             ],
             [
              0.7777777777777778,
              "#fb9f3a"
             ],
             [
              0.8888888888888888,
              "#fdca26"
             ],
             [
              1,
              "#f0f921"
             ]
            ],
            "type": "histogram2dcontour"
           }
          ],
          "mesh3d": [
           {
            "colorbar": {
             "outlinewidth": 0,
             "ticks": ""
            },
            "type": "mesh3d"
           }
          ],
          "parcoords": [
           {
            "line": {
             "colorbar": {
              "outlinewidth": 0,
              "ticks": ""
             }
            },
            "type": "parcoords"
           }
          ],
          "pie": [
           {
            "automargin": true,
            "type": "pie"
           }
          ],
          "scatter": [
           {
            "marker": {
             "colorbar": {
              "outlinewidth": 0,
              "ticks": ""
             }
            },
            "type": "scatter"
           }
          ],
          "scatter3d": [
           {
            "line": {
             "colorbar": {
              "outlinewidth": 0,
              "ticks": ""
             }
            },
            "marker": {
             "colorbar": {
              "outlinewidth": 0,
              "ticks": ""
             }
            },
            "type": "scatter3d"
           }
          ],
          "scattercarpet": [
           {
            "marker": {
             "colorbar": {
              "outlinewidth": 0,
              "ticks": ""
             }
            },
            "type": "scattercarpet"
           }
          ],
          "scattergeo": [
           {
            "marker": {
             "colorbar": {
              "outlinewidth": 0,
              "ticks": ""
             }
            },
            "type": "scattergeo"
           }
          ],
          "scattergl": [
           {
            "marker": {
             "colorbar": {
              "outlinewidth": 0,
              "ticks": ""
             }
            },
            "type": "scattergl"
           }
          ],
          "scattermapbox": [
           {
            "marker": {
             "colorbar": {
              "outlinewidth": 0,
              "ticks": ""
             }
            },
            "type": "scattermapbox"
           }
          ],
          "scatterpolar": [
           {
            "marker": {
             "colorbar": {
              "outlinewidth": 0,
              "ticks": ""
             }
            },
            "type": "scatterpolar"
           }
          ],
          "scatterpolargl": [
           {
            "marker": {
             "colorbar": {
              "outlinewidth": 0,
              "ticks": ""
             }
            },
            "type": "scatterpolargl"
           }
          ],
          "scatterternary": [
           {
            "marker": {
             "colorbar": {
              "outlinewidth": 0,
              "ticks": ""
             }
            },
            "type": "scatterternary"
           }
          ],
          "surface": [
           {
            "colorbar": {
             "outlinewidth": 0,
             "ticks": ""
            },
            "colorscale": [
             [
              0,
              "#0d0887"
             ],
             [
              0.1111111111111111,
              "#46039f"
             ],
             [
              0.2222222222222222,
              "#7201a8"
             ],
             [
              0.3333333333333333,
              "#9c179e"
             ],
             [
              0.4444444444444444,
              "#bd3786"
             ],
             [
              0.5555555555555556,
              "#d8576b"
             ],
             [
              0.6666666666666666,
              "#ed7953"
             ],
             [
              0.7777777777777778,
              "#fb9f3a"
             ],
             [
              0.8888888888888888,
              "#fdca26"
             ],
             [
              1,
              "#f0f921"
             ]
            ],
            "type": "surface"
           }
          ],
          "table": [
           {
            "cells": {
             "fill": {
              "color": "#EBF0F8"
             },
             "line": {
              "color": "white"
             }
            },
            "header": {
             "fill": {
              "color": "#C8D4E3"
             },
             "line": {
              "color": "white"
             }
            },
            "type": "table"
           }
          ]
         },
         "layout": {
          "annotationdefaults": {
           "arrowcolor": "#2a3f5f",
           "arrowhead": 0,
           "arrowwidth": 1
          },
          "coloraxis": {
           "colorbar": {
            "outlinewidth": 0,
            "ticks": ""
           }
          },
          "colorscale": {
           "diverging": [
            [
             0,
             "#8e0152"
            ],
            [
             0.1,
             "#c51b7d"
            ],
            [
             0.2,
             "#de77ae"
            ],
            [
             0.3,
             "#f1b6da"
            ],
            [
             0.4,
             "#fde0ef"
            ],
            [
             0.5,
             "#f7f7f7"
            ],
            [
             0.6,
             "#e6f5d0"
            ],
            [
             0.7,
             "#b8e186"
            ],
            [
             0.8,
             "#7fbc41"
            ],
            [
             0.9,
             "#4d9221"
            ],
            [
             1,
             "#276419"
            ]
           ],
           "sequential": [
            [
             0,
             "#0d0887"
            ],
            [
             0.1111111111111111,
             "#46039f"
            ],
            [
             0.2222222222222222,
             "#7201a8"
            ],
            [
             0.3333333333333333,
             "#9c179e"
            ],
            [
             0.4444444444444444,
             "#bd3786"
            ],
            [
             0.5555555555555556,
             "#d8576b"
            ],
            [
             0.6666666666666666,
             "#ed7953"
            ],
            [
             0.7777777777777778,
             "#fb9f3a"
            ],
            [
             0.8888888888888888,
             "#fdca26"
            ],
            [
             1,
             "#f0f921"
            ]
           ],
           "sequentialminus": [
            [
             0,
             "#0d0887"
            ],
            [
             0.1111111111111111,
             "#46039f"
            ],
            [
             0.2222222222222222,
             "#7201a8"
            ],
            [
             0.3333333333333333,
             "#9c179e"
            ],
            [
             0.4444444444444444,
             "#bd3786"
            ],
            [
             0.5555555555555556,
             "#d8576b"
            ],
            [
             0.6666666666666666,
             "#ed7953"
            ],
            [
             0.7777777777777778,
             "#fb9f3a"
            ],
            [
             0.8888888888888888,
             "#fdca26"
            ],
            [
             1,
             "#f0f921"
            ]
           ]
          },
          "colorway": [
           "#636efa",
           "#EF553B",
           "#00cc96",
           "#ab63fa",
           "#FFA15A",
           "#19d3f3",
           "#FF6692",
           "#B6E880",
           "#FF97FF",
           "#FECB52"
          ],
          "font": {
           "color": "#2a3f5f"
          },
          "geo": {
           "bgcolor": "white",
           "lakecolor": "white",
           "landcolor": "#E5ECF6",
           "showlakes": true,
           "showland": true,
           "subunitcolor": "white"
          },
          "hoverlabel": {
           "align": "left"
          },
          "hovermode": "closest",
          "mapbox": {
           "style": "light"
          },
          "paper_bgcolor": "white",
          "plot_bgcolor": "#E5ECF6",
          "polar": {
           "angularaxis": {
            "gridcolor": "white",
            "linecolor": "white",
            "ticks": ""
           },
           "bgcolor": "#E5ECF6",
           "radialaxis": {
            "gridcolor": "white",
            "linecolor": "white",
            "ticks": ""
           }
          },
          "scene": {
           "xaxis": {
            "backgroundcolor": "#E5ECF6",
            "gridcolor": "white",
            "gridwidth": 2,
            "linecolor": "white",
            "showbackground": true,
            "ticks": "",
            "zerolinecolor": "white"
           },
           "yaxis": {
            "backgroundcolor": "#E5ECF6",
            "gridcolor": "white",
            "gridwidth": 2,
            "linecolor": "white",
            "showbackground": true,
            "ticks": "",
            "zerolinecolor": "white"
           },
           "zaxis": {
            "backgroundcolor": "#E5ECF6",
            "gridcolor": "white",
            "gridwidth": 2,
            "linecolor": "white",
            "showbackground": true,
            "ticks": "",
            "zerolinecolor": "white"
           }
          },
          "shapedefaults": {
           "line": {
            "color": "#2a3f5f"
           }
          },
          "ternary": {
           "aaxis": {
            "gridcolor": "white",
            "linecolor": "white",
            "ticks": ""
           },
           "baxis": {
            "gridcolor": "white",
            "linecolor": "white",
            "ticks": ""
           },
           "bgcolor": "#E5ECF6",
           "caxis": {
            "gridcolor": "white",
            "linecolor": "white",
            "ticks": ""
           }
          },
          "title": {
           "x": 0.05
          },
          "xaxis": {
           "automargin": true,
           "gridcolor": "white",
           "linecolor": "white",
           "ticks": "",
           "title": {
            "standoff": 15
           },
           "zerolinecolor": "white",
           "zerolinewidth": 2
          },
          "yaxis": {
           "automargin": true,
           "gridcolor": "white",
           "linecolor": "white",
           "ticks": "",
           "title": {
            "standoff": 15
           },
           "zerolinecolor": "white",
           "zerolinewidth": 2
          }
         }
        },
        "title": {
         "text": "COVID-19 total cases over time for 1 million inhabitants"
        },
        "xaxis": {
         "nticks": 30,
         "title": {
          "text": "Time (day)"
         }
        },
        "yaxis": {
         "title": {
          "text": "COVID-19 total confirmed cases / nb of inhabitants (million)"
         }
        }
       }
      },
      "text/html": [
       "<div>\n",
       "        \n",
       "        \n",
       "            <div id=\"4c599a63-773e-4d7f-9db0-7811e6288ab0\" class=\"plotly-graph-div\" style=\"height:525px; width:100%;\"></div>\n",
       "            <script type=\"text/javascript\">\n",
       "                require([\"plotly\"], function(Plotly) {\n",
       "                    window.PLOTLYENV=window.PLOTLYENV || {};\n",
       "                    \n",
       "                if (document.getElementById(\"4c599a63-773e-4d7f-9db0-7811e6288ab0\")) {\n",
       "                    Plotly.newPlot(\n",
       "                        '4c599a63-773e-4d7f-9db0-7811e6288ab0',\n",
       "                        [{\"legendgroup\": \"Switzerland\", \"marker\": {\"color\": \"rgb(214, 39, 40)\", \"line\": {\"color\": \"rgb(214, 39, 40)\"}, \"symbol\": 0}, \"mode\": \"markers\", \"name\": \"\", \"opacity\": 1, \"showlegend\": true, \"type\": \"scatter\", \"x\": [\"2020-02-21T00:00:00\", \"2020-02-22T00:00:00\", \"2020-02-23T00:00:00\", \"2020-02-24T00:00:00\", \"2020-02-25T00:00:00\", \"2020-02-26T00:00:00\", \"2020-02-27T00:00:00\", \"2020-02-28T00:00:00\", \"2020-02-29T00:00:00\", \"2020-03-01T00:00:00\", \"2020-03-02T00:00:00\", \"2020-03-03T00:00:00\", \"2020-03-04T00:00:00\", \"2020-03-05T00:00:00\", \"2020-03-06T00:00:00\", \"2020-03-07T00:00:00\", \"2020-03-08T00:00:00\", \"2020-03-09T00:00:00\", \"2020-03-10T00:00:00\", \"2020-03-11T00:00:00\", \"2020-03-12T00:00:00\", \"2020-03-13T00:00:00\", \"2020-03-14T00:00:00\", \"2020-03-15T00:00:00\", \"2020-03-16T00:00:00\", \"2020-03-17T00:00:00\", \"2020-03-18T00:00:00\", \"2020-03-19T00:00:00\", \"2020-03-20T00:00:00\", \"2020-03-21T00:00:00\"], \"y\": [0.17913121361397225, 0.17913121361397225, 0.17913121361397225, 0.17913121361397225, 0.20898641588296762, 0.2686968204209584, 0.5672488431109122, 0.8508732646663681, 1.4927601134497688, 1.9405881474846993, 2.8511718166890585, 3.045230631437528, 4.299149126735334, 5.672488431109121, 9.792506344230484, 14.285714285714286, 16.927899686520377, 18.166890580683685, 26.750261233019856, 34.184206597999705, 34.184206597999705, 54.903716972682496, 66.98014629049112, 67.51753993133303, 99.53724436483058, 114.92760113449769, 135.91580832960145, 163.41244961934618, 189.96865203761757, 215.4202119719361]}, {\"legendgroup\": \"Switzerland\", \"marker\": {\"color\": \"rgb(214, 39, 40)\"}, \"mode\": \"lines\", \"name\": \"France\", \"showlegend\": true, \"type\": \"scatter\", \"x\": [\"2020-02-21T00:00:00\", \"2020-02-22T00:00:00\", \"2020-02-23T00:00:00\", \"2020-02-24T00:00:00\", \"2020-02-25T00:00:00\", \"2020-02-26T00:00:00\", \"2020-02-27T00:00:00\", \"2020-02-28T00:00:00\", \"2020-02-29T00:00:00\", \"2020-03-01T00:00:00\", \"2020-03-02T00:00:00\", \"2020-03-03T00:00:00\", \"2020-03-04T00:00:00\", \"2020-03-05T00:00:00\", \"2020-03-06T00:00:00\", \"2020-03-07T00:00:00\", \"2020-03-08T00:00:00\", \"2020-03-09T00:00:00\", \"2020-03-10T00:00:00\", \"2020-03-11T00:00:00\", \"2020-03-12T00:00:00\", \"2020-03-13T00:00:00\", \"2020-03-14T00:00:00\", \"2020-03-15T00:00:00\", \"2020-03-16T00:00:00\", \"2020-03-17T00:00:00\", \"2020-03-18T00:00:00\", \"2020-03-19T00:00:00\", \"2020-03-20T00:00:00\", \"2020-03-21T00:00:00\"], \"y\": [0.17913121361397225, 0.17913121361397225, 0.17913121361397225, 0.17913121361397225, 0.20898641588296762, 0.2686968204209584, 0.5672488431109122, 0.8508732646663681, 1.4927601134497688, 1.9405881474846993, 2.8511718166890585, 3.045230631437528, 4.299149126735334, 5.672488431109121, 9.792506344230484, 14.285714285714286, 16.927899686520377, 18.166890580683685, 26.750261233019856, 34.184206597999705, 34.184206597999705, 54.903716972682496, 66.98014629049112, 67.51753993133303, 99.53724436483058, 114.92760113449769, 135.91580832960145, 163.41244961934618, 189.96865203761757, 215.4202119719361]}, {\"legendgroup\": \"Switzerland\", \"marker\": {\"color\": \"rgb(127, 127, 127)\", \"line\": {\"color\": \"rgb(127, 127, 127)\"}, \"symbol\": 3}, \"mode\": \"markers\", \"name\": \"\", \"opacity\": 1, \"showlegend\": true, \"type\": \"scatter\", \"x\": [\"2020-02-21T00:00:00\", \"2020-02-22T00:00:00\", \"2020-02-23T00:00:00\", \"2020-02-24T00:00:00\", \"2020-02-25T00:00:00\", \"2020-02-26T00:00:00\", \"2020-02-27T00:00:00\", \"2020-02-28T00:00:00\", \"2020-02-29T00:00:00\", \"2020-03-01T00:00:00\", \"2020-03-02T00:00:00\", \"2020-03-03T00:00:00\", \"2020-03-04T00:00:00\", \"2020-03-05T00:00:00\", \"2020-03-06T00:00:00\", \"2020-03-07T00:00:00\", \"2020-03-08T00:00:00\", \"2020-03-09T00:00:00\", \"2020-03-10T00:00:00\", \"2020-03-11T00:00:00\", \"2020-03-12T00:00:00\", \"2020-03-13T00:00:00\", \"2020-03-14T00:00:00\", \"2020-03-15T00:00:00\", \"2020-03-16T00:00:00\", \"2020-03-17T00:00:00\", \"2020-03-18T00:00:00\", \"2020-03-19T00:00:00\", \"2020-03-20T00:00:00\", \"2020-03-21T00:00:00\"], \"y\": [0.3306878306878307, 1.0251322751322751, 2.562830687830688, 3.7863756613756614, 5.324074074074074, 7.490079365079366, 10.830026455026456, 14.682539682539684, 18.650793650793652, 28.00925925925926, 33.664021164021165, 41.36904761904762, 51.07473544973545, 63.789682539682545, 76.65343915343915, 97.2718253968254, 121.94113756613757, 151.65343915343917, 167.8075396825397, 206.05158730158732, 206.05158730158732, 291.99735449735454, 349.8181216931217, 409.17658730158735, 462.63227513227514, 520.9325396825398, 590.4927248677249, 678.4887566137567, 777.4636243386244, 885.8796296296297]}, {\"legendgroup\": \"Switzerland\", \"marker\": {\"color\": \"rgb(127, 127, 127)\"}, \"mode\": \"lines\", \"name\": \"Italy\", \"showlegend\": true, \"type\": \"scatter\", \"x\": [\"2020-02-21T00:00:00\", \"2020-02-22T00:00:00\", \"2020-02-23T00:00:00\", \"2020-02-24T00:00:00\", \"2020-02-25T00:00:00\", \"2020-02-26T00:00:00\", \"2020-02-27T00:00:00\", \"2020-02-28T00:00:00\", \"2020-02-29T00:00:00\", \"2020-03-01T00:00:00\", \"2020-03-02T00:00:00\", \"2020-03-03T00:00:00\", \"2020-03-04T00:00:00\", \"2020-03-05T00:00:00\", \"2020-03-06T00:00:00\", \"2020-03-07T00:00:00\", \"2020-03-08T00:00:00\", \"2020-03-09T00:00:00\", \"2020-03-10T00:00:00\", \"2020-03-11T00:00:00\", \"2020-03-12T00:00:00\", \"2020-03-13T00:00:00\", \"2020-03-14T00:00:00\", \"2020-03-15T00:00:00\", \"2020-03-16T00:00:00\", \"2020-03-17T00:00:00\", \"2020-03-18T00:00:00\", \"2020-03-19T00:00:00\", \"2020-03-20T00:00:00\", \"2020-03-21T00:00:00\"], \"y\": [0.3306878306878307, 1.0251322751322751, 2.562830687830688, 3.7863756613756614, 5.324074074074074, 7.490079365079366, 10.830026455026456, 14.682539682539684, 18.650793650793652, 28.00925925925926, 33.664021164021165, 41.36904761904762, 51.07473544973545, 63.789682539682545, 76.65343915343915, 97.2718253968254, 121.94113756613757, 151.65343915343917, 167.8075396825397, 206.05158730158732, 206.05158730158732, 291.99735449735454, 349.8181216931217, 409.17658730158735, 462.63227513227514, 520.9325396825398, 590.4927248677249, 678.4887566137567, 777.4636243386244, 885.8796296296297]}, {\"legendgroup\": \"Switzerland\", \"marker\": {\"color\": \"rgb(188, 189, 34)\", \"line\": {\"color\": \"rgb(188, 189, 34)\"}, \"symbol\": 6}, \"mode\": \"markers\", \"name\": \"\", \"opacity\": 1, \"showlegend\": true, \"type\": \"scatter\", \"x\": [\"2020-02-21T00:00:00\", \"2020-02-22T00:00:00\", \"2020-02-23T00:00:00\", \"2020-02-24T00:00:00\", \"2020-02-25T00:00:00\", \"2020-02-26T00:00:00\", \"2020-02-27T00:00:00\", \"2020-02-28T00:00:00\", \"2020-02-29T00:00:00\", \"2020-03-01T00:00:00\", \"2020-03-02T00:00:00\", \"2020-03-03T00:00:00\", \"2020-03-04T00:00:00\", \"2020-03-05T00:00:00\", \"2020-03-06T00:00:00\", \"2020-03-07T00:00:00\", \"2020-03-08T00:00:00\", \"2020-03-09T00:00:00\", \"2020-03-10T00:00:00\", \"2020-03-11T00:00:00\", \"2020-03-12T00:00:00\", \"2020-03-13T00:00:00\", \"2020-03-14T00:00:00\", \"2020-03-15T00:00:00\", \"2020-03-16T00:00:00\", \"2020-03-17T00:00:00\", \"2020-03-18T00:00:00\", \"2020-03-19T00:00:00\", \"2020-03-20T00:00:00\", \"2020-03-21T00:00:00\"], \"y\": [0.1354605659241421, 0.1354605659241421, 0.1354605659241421, 0.19566526189042746, 0.19566526189042746, 0.19566526189042746, 0.22576760987357014, 0.30102347983142685, 0.3461770018061409, 0.5418422636965684, 0.6020469596628537, 0.7676098735701385, 1.2944009632751354, 1.7459361830222757, 2.4683925346177005, 3.115593016255268, 4.124021673690548, 4.846478025285973, 5.779650812763395, 6.908488862131247, 6.908488862131247, 12.071041541240216, 17.218543046357617, 17.233594220349186, 23.344370860927153, 29.50030102347983, 39.76520168573149, 40.87898856110777, 60.41541240216737, 76.26429861529199]}, {\"legendgroup\": \"Switzerland\", \"marker\": {\"color\": \"rgb(188, 189, 34)\"}, \"mode\": \"lines\", \"name\": \"United Kingdom\", \"showlegend\": true, \"type\": \"scatter\", \"x\": [\"2020-02-21T00:00:00\", \"2020-02-22T00:00:00\", \"2020-02-23T00:00:00\", \"2020-02-24T00:00:00\", \"2020-02-25T00:00:00\", \"2020-02-26T00:00:00\", \"2020-02-27T00:00:00\", \"2020-02-28T00:00:00\", \"2020-02-29T00:00:00\", \"2020-03-01T00:00:00\", \"2020-03-02T00:00:00\", \"2020-03-03T00:00:00\", \"2020-03-04T00:00:00\", \"2020-03-05T00:00:00\", \"2020-03-06T00:00:00\", \"2020-03-07T00:00:00\", \"2020-03-08T00:00:00\", \"2020-03-09T00:00:00\", \"2020-03-10T00:00:00\", \"2020-03-11T00:00:00\", \"2020-03-12T00:00:00\", \"2020-03-13T00:00:00\", \"2020-03-14T00:00:00\", \"2020-03-15T00:00:00\", \"2020-03-16T00:00:00\", \"2020-03-17T00:00:00\", \"2020-03-18T00:00:00\", \"2020-03-19T00:00:00\", \"2020-03-20T00:00:00\", \"2020-03-21T00:00:00\"], \"y\": [0.1354605659241421, 0.1354605659241421, 0.1354605659241421, 0.19566526189042746, 0.19566526189042746, 0.19566526189042746, 0.22576760987357014, 0.30102347983142685, 0.3461770018061409, 0.5418422636965684, 0.6020469596628537, 0.7676098735701385, 1.2944009632751354, 1.7459361830222757, 2.4683925346177005, 3.115593016255268, 4.124021673690548, 4.846478025285973, 5.779650812763395, 6.908488862131247, 6.908488862131247, 12.071041541240216, 17.218543046357617, 17.233594220349186, 23.344370860927153, 29.50030102347983, 39.76520168573149, 40.87898856110777, 60.41541240216737, 76.26429861529199]}, {\"legendgroup\": \"Switzerland\", \"marker\": {\"color\": \"rgb(148, 103, 189)\", \"line\": {\"color\": \"rgb(148, 103, 189)\"}, \"symbol\": 9}, \"mode\": \"markers\", \"name\": \"\", \"opacity\": 1, \"showlegend\": true, \"type\": \"scatter\", \"x\": [\"2020-02-21T00:00:00\", \"2020-02-22T00:00:00\", \"2020-02-23T00:00:00\", \"2020-02-24T00:00:00\", \"2020-02-25T00:00:00\", \"2020-02-26T00:00:00\", \"2020-02-27T00:00:00\", \"2020-02-28T00:00:00\", \"2020-02-29T00:00:00\", \"2020-03-01T00:00:00\", \"2020-03-02T00:00:00\", \"2020-03-03T00:00:00\", \"2020-03-04T00:00:00\", \"2020-03-05T00:00:00\", \"2020-03-06T00:00:00\", \"2020-03-07T00:00:00\", \"2020-03-08T00:00:00\", \"2020-03-09T00:00:00\", \"2020-03-10T00:00:00\", \"2020-03-11T00:00:00\", \"2020-03-12T00:00:00\", \"2020-03-13T00:00:00\", \"2020-03-14T00:00:00\", \"2020-03-15T00:00:00\", \"2020-03-16T00:00:00\", \"2020-03-17T00:00:00\", \"2020-03-18T00:00:00\", \"2020-03-19T00:00:00\", \"2020-03-20T00:00:00\", \"2020-03-21T00:00:00\"], \"y\": [0.042863266180882986, 0.042863266180882986, 0.042863266180882986, 0.042863266180882986, 0.12858979854264896, 0.2786112301757394, 0.3214744963566224, 0.6858122588941278, 0.9644234890698672, 1.8002571795970854, 2.571795970852979, 3.5362194599228465, 4.757822546078011, 5.550792970424347, 8.572653236176597, 10.715816545220747, 14.423489069867125, 22.996142306043723, 36.32661808829833, 48.79982854693528, 48.79982854693528, 112.1303043291899, 136.96956708101158, 167.12387483926275, 213.0732961851693, 251.77882554650665, 298.11401628804117, 384.97642520360057, 437.41963137591085, 543.8062580368625]}, {\"legendgroup\": \"Switzerland\", \"marker\": {\"color\": \"rgb(148, 103, 189)\"}, \"mode\": \"lines\", \"name\": \"Spain\", \"showlegend\": true, \"type\": \"scatter\", \"x\": [\"2020-02-21T00:00:00\", \"2020-02-22T00:00:00\", \"2020-02-23T00:00:00\", \"2020-02-24T00:00:00\", \"2020-02-25T00:00:00\", \"2020-02-26T00:00:00\", \"2020-02-27T00:00:00\", \"2020-02-28T00:00:00\", \"2020-02-29T00:00:00\", \"2020-03-01T00:00:00\", \"2020-03-02T00:00:00\", \"2020-03-03T00:00:00\", \"2020-03-04T00:00:00\", \"2020-03-05T00:00:00\", \"2020-03-06T00:00:00\", \"2020-03-07T00:00:00\", \"2020-03-08T00:00:00\", \"2020-03-09T00:00:00\", \"2020-03-10T00:00:00\", \"2020-03-11T00:00:00\", \"2020-03-12T00:00:00\", \"2020-03-13T00:00:00\", \"2020-03-14T00:00:00\", \"2020-03-15T00:00:00\", \"2020-03-16T00:00:00\", \"2020-03-17T00:00:00\", \"2020-03-18T00:00:00\", \"2020-03-19T00:00:00\", \"2020-03-20T00:00:00\", \"2020-03-21T00:00:00\"], \"y\": [0.042863266180882986, 0.042863266180882986, 0.042863266180882986, 0.042863266180882986, 0.12858979854264896, 0.2786112301757394, 0.3214744963566224, 0.6858122588941278, 0.9644234890698672, 1.8002571795970854, 2.571795970852979, 3.5362194599228465, 4.757822546078011, 5.550792970424347, 8.572653236176597, 10.715816545220747, 14.423489069867125, 22.996142306043723, 36.32661808829833, 48.79982854693528, 48.79982854693528, 112.1303043291899, 136.96956708101158, 167.12387483926275, 213.0732961851693, 251.77882554650665, 298.11401628804117, 384.97642520360057, 437.41963137591085, 543.8062580368625]}, {\"legendgroup\": \"Switzerland\", \"marker\": {\"color\": \"rgb(44, 160, 44)\", \"line\": {\"color\": \"rgb(44, 160, 44)\"}, \"symbol\": 12}, \"mode\": \"markers\", \"name\": \"\", \"opacity\": 1, \"showlegend\": true, \"type\": \"scatter\", \"x\": [\"2020-02-21T00:00:00\", \"2020-02-22T00:00:00\", \"2020-02-23T00:00:00\", \"2020-02-24T00:00:00\", \"2020-02-25T00:00:00\", \"2020-02-26T00:00:00\", \"2020-02-27T00:00:00\", \"2020-02-28T00:00:00\", \"2020-02-29T00:00:00\", \"2020-03-01T00:00:00\", \"2020-03-02T00:00:00\", \"2020-03-03T00:00:00\", \"2020-03-04T00:00:00\", \"2020-03-05T00:00:00\", \"2020-03-06T00:00:00\", \"2020-03-07T00:00:00\", \"2020-03-08T00:00:00\", \"2020-03-09T00:00:00\", \"2020-03-10T00:00:00\", \"2020-03-11T00:00:00\", \"2020-03-12T00:00:00\", \"2020-03-13T00:00:00\", \"2020-03-14T00:00:00\", \"2020-03-15T00:00:00\", \"2020-03-16T00:00:00\", \"2020-03-17T00:00:00\", \"2020-03-18T00:00:00\", \"2020-03-19T00:00:00\", \"2020-03-20T00:00:00\", \"2020-03-21T00:00:00\"], \"y\": [0.19326005556226597, 0.19326005556226597, 0.19326005556226597, 0.19326005556226597, 0.2053388090349076, 0.3261263437613238, 0.5556226597415146, 0.5797801666867979, 0.9542215243386881, 1.5702379514434108, 1.9205218021500179, 2.367435680637758, 3.164633409832105, 5.821959173813262, 8.092764826669887, 9.650924024640656, 12.561903611547287, 14.204614083826549, 17.598743809638844, 23.046261625800216, 25.09964971614929, 44.38941901195796, 55.38108467206184, 69.9963763739582, 87.83669525304988, 111.8130208962435, 148.89479405725328, 185.04650320086967, 239.7390989249909, 268.30535088778834]}, {\"legendgroup\": \"Switzerland\", \"marker\": {\"color\": \"rgb(44, 160, 44)\"}, \"mode\": \"lines\", \"name\": \"Germany\", \"showlegend\": true, \"type\": \"scatter\", \"x\": [\"2020-02-21T00:00:00\", \"2020-02-22T00:00:00\", \"2020-02-23T00:00:00\", \"2020-02-24T00:00:00\", \"2020-02-25T00:00:00\", \"2020-02-26T00:00:00\", \"2020-02-27T00:00:00\", \"2020-02-28T00:00:00\", \"2020-02-29T00:00:00\", \"2020-03-01T00:00:00\", \"2020-03-02T00:00:00\", \"2020-03-03T00:00:00\", \"2020-03-04T00:00:00\", \"2020-03-05T00:00:00\", \"2020-03-06T00:00:00\", \"2020-03-07T00:00:00\", \"2020-03-08T00:00:00\", \"2020-03-09T00:00:00\", \"2020-03-10T00:00:00\", \"2020-03-11T00:00:00\", \"2020-03-12T00:00:00\", \"2020-03-13T00:00:00\", \"2020-03-14T00:00:00\", \"2020-03-15T00:00:00\", \"2020-03-16T00:00:00\", \"2020-03-17T00:00:00\", \"2020-03-18T00:00:00\", \"2020-03-19T00:00:00\", \"2020-03-20T00:00:00\", \"2020-03-21T00:00:00\"], \"y\": [0.19326005556226597, 0.19326005556226597, 0.19326005556226597, 0.19326005556226597, 0.2053388090349076, 0.3261263437613238, 0.5556226597415146, 0.5797801666867979, 0.9542215243386881, 1.5702379514434108, 1.9205218021500179, 2.367435680637758, 3.164633409832105, 5.821959173813262, 8.092764826669887, 9.650924024640656, 12.561903611547287, 14.204614083826549, 17.598743809638844, 23.046261625800216, 25.09964971614929, 44.38941901195796, 55.38108467206184, 69.9963763739582, 87.83669525304988, 111.8130208962435, 148.89479405725328, 185.04650320086967, 239.7390989249909, 268.30535088778834]}, {\"legendgroup\": \"Switzerland\", \"marker\": {\"color\": \"rgb(227, 119, 194)\", \"line\": {\"color\": \"rgb(227, 119, 194)\"}, \"symbol\": 15}, \"mode\": \"markers\", \"name\": \"\", \"opacity\": 1, \"showlegend\": true, \"type\": \"scatter\", \"x\": [\"2020-02-21T00:00:00\", \"2020-02-22T00:00:00\", \"2020-02-23T00:00:00\", \"2020-02-24T00:00:00\", \"2020-02-25T00:00:00\", \"2020-02-26T00:00:00\", \"2020-02-27T00:00:00\", \"2020-02-28T00:00:00\", \"2020-02-29T00:00:00\", \"2020-03-01T00:00:00\", \"2020-03-02T00:00:00\", \"2020-03-03T00:00:00\", \"2020-03-04T00:00:00\", \"2020-03-05T00:00:00\", \"2020-03-06T00:00:00\", \"2020-03-07T00:00:00\", \"2020-03-08T00:00:00\", \"2020-03-09T00:00:00\", \"2020-03-10T00:00:00\", \"2020-03-11T00:00:00\", \"2020-03-12T00:00:00\", \"2020-03-13T00:00:00\", \"2020-03-14T00:00:00\", \"2020-03-15T00:00:00\", \"2020-03-16T00:00:00\", \"2020-03-17T00:00:00\", \"2020-03-18T00:00:00\", \"2020-03-19T00:00:00\", \"2020-03-20T00:00:00\", \"2020-03-21T00:00:00\"], \"y\": [0.08771929824561403, 0.08771929824561403, 0.08771929824561403, 0.08771929824561403, 0.08771929824561403, 0.08771929824561403, 0.08771929824561403, 0.08771929824561403, 0.08771929824561403, 0.17543859649122806, 0.7017543859649122, 1.1403508771929824, 2.017543859649123, 4.385964912280701, 9.56140350877193, 14.824561403508772, 17.543859649122805, 20.964912280701753, 23.421052631578945, 27.543859649122805, 27.543859649122805, 49.03508771929825, 60.43859649122807, 77.71929824561403, 92.80701754385964, 109.03508771929825, 130.35087719298247, 157.45614035087718, 197.98245614035088, 246.9298245614035]}, {\"legendgroup\": \"Switzerland\", \"marker\": {\"color\": \"rgb(227, 119, 194)\"}, \"mode\": \"lines\", \"name\": \"Belgium\", \"showlegend\": true, \"type\": \"scatter\", \"x\": [\"2020-02-21T00:00:00\", \"2020-02-22T00:00:00\", \"2020-02-23T00:00:00\", \"2020-02-24T00:00:00\", \"2020-02-25T00:00:00\", \"2020-02-26T00:00:00\", \"2020-02-27T00:00:00\", \"2020-02-28T00:00:00\", \"2020-02-29T00:00:00\", \"2020-03-01T00:00:00\", \"2020-03-02T00:00:00\", \"2020-03-03T00:00:00\", \"2020-03-04T00:00:00\", \"2020-03-05T00:00:00\", \"2020-03-06T00:00:00\", \"2020-03-07T00:00:00\", \"2020-03-08T00:00:00\", \"2020-03-09T00:00:00\", \"2020-03-10T00:00:00\", \"2020-03-11T00:00:00\", \"2020-03-12T00:00:00\", \"2020-03-13T00:00:00\", \"2020-03-14T00:00:00\", \"2020-03-15T00:00:00\", \"2020-03-16T00:00:00\", \"2020-03-17T00:00:00\", \"2020-03-18T00:00:00\", \"2020-03-19T00:00:00\", \"2020-03-20T00:00:00\", \"2020-03-21T00:00:00\"], \"y\": [0.08771929824561403, 0.08771929824561403, 0.08771929824561403, 0.08771929824561403, 0.08771929824561403, 0.08771929824561403, 0.08771929824561403, 0.08771929824561403, 0.08771929824561403, 0.17543859649122806, 0.7017543859649122, 1.1403508771929824, 2.017543859649123, 4.385964912280701, 9.56140350877193, 14.824561403508772, 17.543859649122805, 20.964912280701753, 23.421052631578945, 27.543859649122805, 27.543859649122805, 49.03508771929825, 60.43859649122807, 77.71929824561403, 92.80701754385964, 109.03508771929825, 130.35087719298247, 157.45614035087718, 197.98245614035088, 246.9298245614035]}, {\"legendgroup\": \"Switzerland\", \"marker\": {\"color\": \"rgb(23, 190, 207)\", \"line\": {\"color\": \"rgb(23, 190, 207)\"}, \"symbol\": 18}, \"mode\": \"markers\", \"name\": \"\", \"opacity\": 1, \"showlegend\": true, \"type\": \"scatter\", \"x\": [\"2020-02-21T00:00:00\", \"2020-02-22T00:00:00\", \"2020-02-23T00:00:00\", \"2020-02-24T00:00:00\", \"2020-02-25T00:00:00\", \"2020-02-26T00:00:00\", \"2020-02-27T00:00:00\", \"2020-02-28T00:00:00\", \"2020-02-29T00:00:00\", \"2020-03-01T00:00:00\", \"2020-03-02T00:00:00\", \"2020-03-03T00:00:00\", \"2020-03-04T00:00:00\", \"2020-03-05T00:00:00\", \"2020-03-06T00:00:00\", \"2020-03-07T00:00:00\", \"2020-03-08T00:00:00\", \"2020-03-09T00:00:00\", \"2020-03-10T00:00:00\", \"2020-03-11T00:00:00\", \"2020-03-12T00:00:00\", \"2020-03-13T00:00:00\", \"2020-03-14T00:00:00\", \"2020-03-15T00:00:00\", \"2020-03-16T00:00:00\", \"2020-03-17T00:00:00\", \"2020-03-18T00:00:00\", \"2020-03-19T00:00:00\", \"2020-03-20T00:00:00\", \"2020-03-21T00:00:00\"], \"y\": [0.0, 0.0, 0.0, 0.0, 0.0, 0.0, 0.0, 0.0, 1.6611295681063123, 1.6611295681063123, 1.6611295681063123, 1.6611295681063123, 1.6611295681063123, 1.6611295681063123, 3.3222591362126246, 3.3222591362126246, 4.983388704318937, 4.983388704318937, 8.305647840531561, 11.627906976744187, 31.561461794019934, 56.47840531561462, 84.71760797342193, 98.00664451827242, 127.90697674418605, 232.55813953488374, 337.2093023255814, 556.4784053156146, 803.9867109634552, 1112.9568106312292]}, {\"legendgroup\": \"Switzerland\", \"marker\": {\"color\": \"rgb(23, 190, 207)\"}, \"mode\": \"lines\", \"name\": \"Luxembourg\", \"showlegend\": true, \"type\": \"scatter\", \"x\": [\"2020-02-21T00:00:00\", \"2020-02-22T00:00:00\", \"2020-02-23T00:00:00\", \"2020-02-24T00:00:00\", \"2020-02-25T00:00:00\", \"2020-02-26T00:00:00\", \"2020-02-27T00:00:00\", \"2020-02-28T00:00:00\", \"2020-02-29T00:00:00\", \"2020-03-01T00:00:00\", \"2020-03-02T00:00:00\", \"2020-03-03T00:00:00\", \"2020-03-04T00:00:00\", \"2020-03-05T00:00:00\", \"2020-03-06T00:00:00\", \"2020-03-07T00:00:00\", \"2020-03-08T00:00:00\", \"2020-03-09T00:00:00\", \"2020-03-10T00:00:00\", \"2020-03-11T00:00:00\", \"2020-03-12T00:00:00\", \"2020-03-13T00:00:00\", \"2020-03-14T00:00:00\", \"2020-03-15T00:00:00\", \"2020-03-16T00:00:00\", \"2020-03-17T00:00:00\", \"2020-03-18T00:00:00\", \"2020-03-19T00:00:00\", \"2020-03-20T00:00:00\", \"2020-03-21T00:00:00\"], \"y\": [0.0, 0.0, 0.0, 0.0, 0.0, 0.0, 0.0, 0.0, 1.6611295681063123, 1.6611295681063123, 1.6611295681063123, 1.6611295681063123, 1.6611295681063123, 1.6611295681063123, 3.3222591362126246, 3.3222591362126246, 4.983388704318937, 4.983388704318937, 8.305647840531561, 11.627906976744187, 31.561461794019934, 56.47840531561462, 84.71760797342193, 98.00664451827242, 127.90697674418605, 232.55813953488374, 337.2093023255814, 556.4784053156146, 803.9867109634552, 1112.9568106312292]}, {\"legendgroup\": \"Switzerland\", \"marker\": {\"color\": \"rgb(31, 119, 180)\", \"line\": {\"color\": \"rgb(31, 119, 180)\"}, \"symbol\": 21}, \"mode\": \"markers\", \"name\": \"\", \"opacity\": 1, \"showlegend\": true, \"type\": \"scatter\", \"x\": [\"2020-02-21T00:00:00\", \"2020-02-22T00:00:00\", \"2020-02-23T00:00:00\", \"2020-02-24T00:00:00\", \"2020-02-25T00:00:00\", \"2020-02-26T00:00:00\", \"2020-02-27T00:00:00\", \"2020-02-28T00:00:00\", \"2020-02-29T00:00:00\", \"2020-03-01T00:00:00\", \"2020-03-02T00:00:00\", \"2020-03-03T00:00:00\", \"2020-03-04T00:00:00\", \"2020-03-05T00:00:00\", \"2020-03-06T00:00:00\", \"2020-03-07T00:00:00\", \"2020-03-08T00:00:00\", \"2020-03-09T00:00:00\", \"2020-03-10T00:00:00\", \"2020-03-11T00:00:00\", \"2020-03-12T00:00:00\", \"2020-03-13T00:00:00\", \"2020-03-14T00:00:00\", \"2020-03-15T00:00:00\", \"2020-03-16T00:00:00\", \"2020-03-17T00:00:00\", \"2020-03-18T00:00:00\", \"2020-03-19T00:00:00\", \"2020-03-20T00:00:00\", \"2020-03-21T00:00:00\"], \"y\": [0.045871559633027525, 0.045871559633027525, 0.045871559633027525, 0.1559633027522936, 0.1559633027522936, 0.1743119266055046, 0.17737003058103976, 0.1834862385321101, 0.20795107033639143, 0.22629969418960244, 0.2996941896024465, 0.36085626911314983, 0.45565749235474007, 0.6636085626911316, 0.8012232415902141, 1.2293577981651376, 1.584097859327217, 1.782874617737003, 2.932721712538226, 3.9174311926605503, 5.085626911314985, 6.663608562691132, 8.339449541284404, 10.700305810397554, 14.1651376146789, 19.636085626911314, 23.801223241590215, 41.825688073394495, 58.40978593272171, 77.9480122324159]}, {\"legendgroup\": \"Switzerland\", \"marker\": {\"color\": \"rgb(31, 119, 180)\"}, \"mode\": \"lines\", \"name\": \"US\", \"showlegend\": true, \"type\": \"scatter\", \"x\": [\"2020-02-21T00:00:00\", \"2020-02-22T00:00:00\", \"2020-02-23T00:00:00\", \"2020-02-24T00:00:00\", \"2020-02-25T00:00:00\", \"2020-02-26T00:00:00\", \"2020-02-27T00:00:00\", \"2020-02-28T00:00:00\", \"2020-02-29T00:00:00\", \"2020-03-01T00:00:00\", \"2020-03-02T00:00:00\", \"2020-03-03T00:00:00\", \"2020-03-04T00:00:00\", \"2020-03-05T00:00:00\", \"2020-03-06T00:00:00\", \"2020-03-07T00:00:00\", \"2020-03-08T00:00:00\", \"2020-03-09T00:00:00\", \"2020-03-10T00:00:00\", \"2020-03-11T00:00:00\", \"2020-03-12T00:00:00\", \"2020-03-13T00:00:00\", \"2020-03-14T00:00:00\", \"2020-03-15T00:00:00\", \"2020-03-16T00:00:00\", \"2020-03-17T00:00:00\", \"2020-03-18T00:00:00\", \"2020-03-19T00:00:00\", \"2020-03-20T00:00:00\", \"2020-03-21T00:00:00\"], \"y\": [0.045871559633027525, 0.045871559633027525, 0.045871559633027525, 0.1559633027522936, 0.1559633027522936, 0.1743119266055046, 0.17737003058103976, 0.1834862385321101, 0.20795107033639143, 0.22629969418960244, 0.2996941896024465, 0.36085626911314983, 0.45565749235474007, 0.6636085626911316, 0.8012232415902141, 1.2293577981651376, 1.584097859327217, 1.782874617737003, 2.932721712538226, 3.9174311926605503, 5.085626911314985, 6.663608562691132, 8.339449541284404, 10.700305810397554, 14.1651376146789, 19.636085626911314, 23.801223241590215, 41.825688073394495, 58.40978593272171, 77.9480122324159]}, {\"legendgroup\": \"Switzerland\", \"marker\": {\"color\": \"rgb(255, 127, 14)\", \"line\": {\"color\": \"rgb(255, 127, 14)\"}, \"symbol\": 24}, \"mode\": \"markers\", \"name\": \"\", \"opacity\": 1, \"showlegend\": true, \"type\": \"scatter\", \"x\": [\"2020-02-21T00:00:00\", \"2020-02-22T00:00:00\", \"2020-02-23T00:00:00\", \"2020-02-24T00:00:00\", \"2020-02-25T00:00:00\", \"2020-02-26T00:00:00\", \"2020-02-27T00:00:00\", \"2020-02-28T00:00:00\", \"2020-02-29T00:00:00\", \"2020-03-01T00:00:00\", \"2020-03-02T00:00:00\", \"2020-03-03T00:00:00\", \"2020-03-04T00:00:00\", \"2020-03-05T00:00:00\", \"2020-03-06T00:00:00\", \"2020-03-07T00:00:00\", \"2020-03-08T00:00:00\", \"2020-03-09T00:00:00\", \"2020-03-10T00:00:00\", \"2020-03-11T00:00:00\", \"2020-03-12T00:00:00\", \"2020-03-13T00:00:00\", \"2020-03-14T00:00:00\", \"2020-03-15T00:00:00\", \"2020-03-16T00:00:00\", \"2020-03-17T00:00:00\", \"2020-03-18T00:00:00\", \"2020-03-19T00:00:00\", \"2020-03-20T00:00:00\", \"2020-03-21T00:00:00\"], \"y\": [0.23942537909018355, 0.23942537909018355, 0.23942537909018355, 0.2660281989890928, 0.2926310188880021, 0.2926310188880021, 0.34583665868582064, 0.3724394785847299, 0.5320563979781856, 0.6384676775738227, 0.7182761372705506, 0.7980845969672785, 0.8778930566640063, 0.9843043362596434, 1.303538175046555, 1.4365522745411012, 1.7025804735301941, 2.0484171322160147, 2.101622772013833, 2.8731045490822025, 3.112529928172386, 5.134344240489491, 5.267358339984038, 6.703910614525139, 11.040170258047352, 12.716147911678636, 17.4780526735834, 21.282255919127426, 25.086459164671453, 33.99840383080606]}, {\"legendgroup\": \"Switzerland\", \"marker\": {\"color\": \"rgb(255, 127, 14)\"}, \"mode\": \"lines\", \"name\": \"Canada\", \"showlegend\": true, \"type\": \"scatter\", \"x\": [\"2020-02-21T00:00:00\", \"2020-02-22T00:00:00\", \"2020-02-23T00:00:00\", \"2020-02-24T00:00:00\", \"2020-02-25T00:00:00\", \"2020-02-26T00:00:00\", \"2020-02-27T00:00:00\", \"2020-02-28T00:00:00\", \"2020-02-29T00:00:00\", \"2020-03-01T00:00:00\", \"2020-03-02T00:00:00\", \"2020-03-03T00:00:00\", \"2020-03-04T00:00:00\", \"2020-03-05T00:00:00\", \"2020-03-06T00:00:00\", \"2020-03-07T00:00:00\", \"2020-03-08T00:00:00\", \"2020-03-09T00:00:00\", \"2020-03-10T00:00:00\", \"2020-03-11T00:00:00\", \"2020-03-12T00:00:00\", \"2020-03-13T00:00:00\", \"2020-03-14T00:00:00\", \"2020-03-15T00:00:00\", \"2020-03-16T00:00:00\", \"2020-03-17T00:00:00\", \"2020-03-18T00:00:00\", \"2020-03-19T00:00:00\", \"2020-03-20T00:00:00\", \"2020-03-21T00:00:00\"], \"y\": [0.23942537909018355, 0.23942537909018355, 0.23942537909018355, 0.2660281989890928, 0.2926310188880021, 0.2926310188880021, 0.34583665868582064, 0.3724394785847299, 0.5320563979781856, 0.6384676775738227, 0.7182761372705506, 0.7980845969672785, 0.8778930566640063, 0.9843043362596434, 1.303538175046555, 1.4365522745411012, 1.7025804735301941, 2.0484171322160147, 2.101622772013833, 2.8731045490822025, 3.112529928172386, 5.134344240489491, 5.267358339984038, 6.703910614525139, 11.040170258047352, 12.716147911678636, 17.4780526735834, 21.282255919127426, 25.086459164671453, 33.99840383080606]}, {\"legendgroup\": \"Switzerland\", \"marker\": {\"color\": \"rgb(140, 86, 75)\", \"line\": {\"color\": \"rgb(140, 86, 75)\"}, \"symbol\": 27}, \"mode\": \"markers\", \"name\": \"\", \"opacity\": 1, \"showlegend\": true, \"type\": \"scatter\", \"x\": [\"2020-02-21T00:00:00\", \"2020-02-22T00:00:00\", \"2020-02-23T00:00:00\", \"2020-02-24T00:00:00\", \"2020-02-25T00:00:00\", \"2020-02-26T00:00:00\", \"2020-02-27T00:00:00\", \"2020-02-28T00:00:00\", \"2020-02-29T00:00:00\", \"2020-03-01T00:00:00\", \"2020-03-02T00:00:00\", \"2020-03-03T00:00:00\", \"2020-03-04T00:00:00\", \"2020-03-05T00:00:00\", \"2020-03-06T00:00:00\", \"2020-03-07T00:00:00\", \"2020-03-08T00:00:00\", \"2020-03-09T00:00:00\", \"2020-03-10T00:00:00\", \"2020-03-11T00:00:00\", \"2020-03-12T00:00:00\", \"2020-03-13T00:00:00\", \"2020-03-14T00:00:00\", \"2020-03-15T00:00:00\", \"2020-03-16T00:00:00\", \"2020-03-17T00:00:00\", \"2020-03-18T00:00:00\", \"2020-03-19T00:00:00\", \"2020-03-20T00:00:00\", \"2020-03-21T00:00:00\"], \"y\": [0.0, 0.0, 0.0, 0.0, 0.11668611435239207, 0.11668611435239207, 0.9334889148191365, 0.9334889148191365, 2.100350058343057, 3.150525087514586, 4.900816802800467, 6.534422403733956, 10.501750291715286, 13.302217036172696, 24.970828471411902, 31.271878646441074, 39.323220536756125, 43.64060676779463, 57.2928821470245, 76.07934655775962, 76.07934655775962, 132.90548424737455, 158.5764294049008, 256.70945157526256, 256.70945157526256, 315.05250875145856, 353.32555425904314, 475.49591598599767, 617.7362893815636, 767.2112018669778]}, {\"legendgroup\": \"Switzerland\", \"marker\": {\"color\": \"rgb(140, 86, 75)\"}, \"mode\": \"lines\", \"name\": \"Switzerland\", \"showlegend\": true, \"type\": \"scatter\", \"x\": [\"2020-02-21T00:00:00\", \"2020-02-22T00:00:00\", \"2020-02-23T00:00:00\", \"2020-02-24T00:00:00\", \"2020-02-25T00:00:00\", \"2020-02-26T00:00:00\", \"2020-02-27T00:00:00\", \"2020-02-28T00:00:00\", \"2020-02-29T00:00:00\", \"2020-03-01T00:00:00\", \"2020-03-02T00:00:00\", \"2020-03-03T00:00:00\", \"2020-03-04T00:00:00\", \"2020-03-05T00:00:00\", \"2020-03-06T00:00:00\", \"2020-03-07T00:00:00\", \"2020-03-08T00:00:00\", \"2020-03-09T00:00:00\", \"2020-03-10T00:00:00\", \"2020-03-11T00:00:00\", \"2020-03-12T00:00:00\", \"2020-03-13T00:00:00\", \"2020-03-14T00:00:00\", \"2020-03-15T00:00:00\", \"2020-03-16T00:00:00\", \"2020-03-17T00:00:00\", \"2020-03-18T00:00:00\", \"2020-03-19T00:00:00\", \"2020-03-20T00:00:00\", \"2020-03-21T00:00:00\"], \"y\": [0.0, 0.0, 0.0, 0.0, 0.11668611435239207, 0.11668611435239207, 0.9334889148191365, 0.9334889148191365, 2.100350058343057, 3.150525087514586, 4.900816802800467, 6.534422403733956, 10.501750291715286, 13.302217036172696, 24.970828471411902, 31.271878646441074, 39.323220536756125, 43.64060676779463, 57.2928821470245, 76.07934655775962, 76.07934655775962, 132.90548424737455, 158.5764294049008, 256.70945157526256, 256.70945157526256, 315.05250875145856, 353.32555425904314, 475.49591598599767, 617.7362893815636, 767.2112018669778]}],\n",
       "                        {\"annotations\": [{\"showarrow\": false, \"text\": \"Last update: 2020-03-22 08:53 ; Last data: 2020-03-21 ; Data: CSSE ; Author: @guillaumerozier\", \"x\": 0, \"xref\": \"paper\", \"y\": 1.1, \"yref\": \"paper\"}], \"template\": {\"data\": {\"bar\": [{\"error_x\": {\"color\": \"#2a3f5f\"}, \"error_y\": {\"color\": \"#2a3f5f\"}, \"marker\": {\"line\": {\"color\": \"#E5ECF6\", \"width\": 0.5}}, \"type\": \"bar\"}], \"barpolar\": [{\"marker\": {\"line\": {\"color\": \"#E5ECF6\", \"width\": 0.5}}, \"type\": \"barpolar\"}], \"carpet\": [{\"aaxis\": {\"endlinecolor\": \"#2a3f5f\", \"gridcolor\": \"white\", \"linecolor\": \"white\", \"minorgridcolor\": \"white\", \"startlinecolor\": \"#2a3f5f\"}, \"baxis\": {\"endlinecolor\": \"#2a3f5f\", \"gridcolor\": \"white\", \"linecolor\": \"white\", \"minorgridcolor\": \"white\", \"startlinecolor\": \"#2a3f5f\"}, \"type\": \"carpet\"}], \"choropleth\": [{\"colorbar\": {\"outlinewidth\": 0, \"ticks\": \"\"}, \"type\": \"choropleth\"}], \"contour\": [{\"colorbar\": {\"outlinewidth\": 0, \"ticks\": \"\"}, \"colorscale\": [[0.0, \"#0d0887\"], [0.1111111111111111, \"#46039f\"], [0.2222222222222222, \"#7201a8\"], [0.3333333333333333, \"#9c179e\"], [0.4444444444444444, \"#bd3786\"], [0.5555555555555556, \"#d8576b\"], [0.6666666666666666, \"#ed7953\"], [0.7777777777777778, \"#fb9f3a\"], [0.8888888888888888, \"#fdca26\"], [1.0, \"#f0f921\"]], \"type\": \"contour\"}], \"contourcarpet\": [{\"colorbar\": {\"outlinewidth\": 0, \"ticks\": \"\"}, \"type\": \"contourcarpet\"}], \"heatmap\": [{\"colorbar\": {\"outlinewidth\": 0, \"ticks\": \"\"}, \"colorscale\": [[0.0, \"#0d0887\"], [0.1111111111111111, \"#46039f\"], [0.2222222222222222, \"#7201a8\"], [0.3333333333333333, \"#9c179e\"], [0.4444444444444444, \"#bd3786\"], [0.5555555555555556, \"#d8576b\"], [0.6666666666666666, \"#ed7953\"], [0.7777777777777778, \"#fb9f3a\"], [0.8888888888888888, \"#fdca26\"], [1.0, \"#f0f921\"]], \"type\": \"heatmap\"}], \"heatmapgl\": [{\"colorbar\": {\"outlinewidth\": 0, \"ticks\": \"\"}, \"colorscale\": [[0.0, \"#0d0887\"], [0.1111111111111111, \"#46039f\"], [0.2222222222222222, \"#7201a8\"], [0.3333333333333333, \"#9c179e\"], [0.4444444444444444, \"#bd3786\"], [0.5555555555555556, \"#d8576b\"], [0.6666666666666666, \"#ed7953\"], [0.7777777777777778, \"#fb9f3a\"], [0.8888888888888888, \"#fdca26\"], [1.0, \"#f0f921\"]], \"type\": \"heatmapgl\"}], \"histogram\": [{\"marker\": {\"colorbar\": {\"outlinewidth\": 0, \"ticks\": \"\"}}, \"type\": \"histogram\"}], \"histogram2d\": [{\"colorbar\": {\"outlinewidth\": 0, \"ticks\": \"\"}, \"colorscale\": [[0.0, \"#0d0887\"], [0.1111111111111111, \"#46039f\"], [0.2222222222222222, \"#7201a8\"], [0.3333333333333333, \"#9c179e\"], [0.4444444444444444, \"#bd3786\"], [0.5555555555555556, \"#d8576b\"], [0.6666666666666666, \"#ed7953\"], [0.7777777777777778, \"#fb9f3a\"], [0.8888888888888888, \"#fdca26\"], [1.0, \"#f0f921\"]], \"type\": \"histogram2d\"}], \"histogram2dcontour\": [{\"colorbar\": {\"outlinewidth\": 0, \"ticks\": \"\"}, \"colorscale\": [[0.0, \"#0d0887\"], [0.1111111111111111, \"#46039f\"], [0.2222222222222222, \"#7201a8\"], [0.3333333333333333, \"#9c179e\"], [0.4444444444444444, \"#bd3786\"], [0.5555555555555556, \"#d8576b\"], [0.6666666666666666, \"#ed7953\"], [0.7777777777777778, \"#fb9f3a\"], [0.8888888888888888, \"#fdca26\"], [1.0, \"#f0f921\"]], \"type\": \"histogram2dcontour\"}], \"mesh3d\": [{\"colorbar\": {\"outlinewidth\": 0, \"ticks\": \"\"}, \"type\": \"mesh3d\"}], \"parcoords\": [{\"line\": {\"colorbar\": {\"outlinewidth\": 0, \"ticks\": \"\"}}, \"type\": \"parcoords\"}], \"pie\": [{\"automargin\": true, \"type\": \"pie\"}], \"scatter\": [{\"marker\": {\"colorbar\": {\"outlinewidth\": 0, \"ticks\": \"\"}}, \"type\": \"scatter\"}], \"scatter3d\": [{\"line\": {\"colorbar\": {\"outlinewidth\": 0, \"ticks\": \"\"}}, \"marker\": {\"colorbar\": {\"outlinewidth\": 0, \"ticks\": \"\"}}, \"type\": \"scatter3d\"}], \"scattercarpet\": [{\"marker\": {\"colorbar\": {\"outlinewidth\": 0, \"ticks\": \"\"}}, \"type\": \"scattercarpet\"}], \"scattergeo\": [{\"marker\": {\"colorbar\": {\"outlinewidth\": 0, \"ticks\": \"\"}}, \"type\": \"scattergeo\"}], \"scattergl\": [{\"marker\": {\"colorbar\": {\"outlinewidth\": 0, \"ticks\": \"\"}}, \"type\": \"scattergl\"}], \"scattermapbox\": [{\"marker\": {\"colorbar\": {\"outlinewidth\": 0, \"ticks\": \"\"}}, \"type\": \"scattermapbox\"}], \"scatterpolar\": [{\"marker\": {\"colorbar\": {\"outlinewidth\": 0, \"ticks\": \"\"}}, \"type\": \"scatterpolar\"}], \"scatterpolargl\": [{\"marker\": {\"colorbar\": {\"outlinewidth\": 0, \"ticks\": \"\"}}, \"type\": \"scatterpolargl\"}], \"scatterternary\": [{\"marker\": {\"colorbar\": {\"outlinewidth\": 0, \"ticks\": \"\"}}, \"type\": \"scatterternary\"}], \"surface\": [{\"colorbar\": {\"outlinewidth\": 0, \"ticks\": \"\"}, \"colorscale\": [[0.0, \"#0d0887\"], [0.1111111111111111, \"#46039f\"], [0.2222222222222222, \"#7201a8\"], [0.3333333333333333, \"#9c179e\"], [0.4444444444444444, \"#bd3786\"], [0.5555555555555556, \"#d8576b\"], [0.6666666666666666, \"#ed7953\"], [0.7777777777777778, \"#fb9f3a\"], [0.8888888888888888, \"#fdca26\"], [1.0, \"#f0f921\"]], \"type\": \"surface\"}], \"table\": [{\"cells\": {\"fill\": {\"color\": \"#EBF0F8\"}, \"line\": {\"color\": \"white\"}}, \"header\": {\"fill\": {\"color\": \"#C8D4E3\"}, \"line\": {\"color\": \"white\"}}, \"type\": \"table\"}]}, \"layout\": {\"annotationdefaults\": {\"arrowcolor\": \"#2a3f5f\", \"arrowhead\": 0, \"arrowwidth\": 1}, \"coloraxis\": {\"colorbar\": {\"outlinewidth\": 0, \"ticks\": \"\"}}, \"colorscale\": {\"diverging\": [[0, \"#8e0152\"], [0.1, \"#c51b7d\"], [0.2, \"#de77ae\"], [0.3, \"#f1b6da\"], [0.4, \"#fde0ef\"], [0.5, \"#f7f7f7\"], [0.6, \"#e6f5d0\"], [0.7, \"#b8e186\"], [0.8, \"#7fbc41\"], [0.9, \"#4d9221\"], [1, \"#276419\"]], \"sequential\": [[0.0, \"#0d0887\"], [0.1111111111111111, \"#46039f\"], [0.2222222222222222, \"#7201a8\"], [0.3333333333333333, \"#9c179e\"], [0.4444444444444444, \"#bd3786\"], [0.5555555555555556, \"#d8576b\"], [0.6666666666666666, \"#ed7953\"], [0.7777777777777778, \"#fb9f3a\"], [0.8888888888888888, \"#fdca26\"], [1.0, \"#f0f921\"]], \"sequentialminus\": [[0.0, \"#0d0887\"], [0.1111111111111111, \"#46039f\"], [0.2222222222222222, \"#7201a8\"], [0.3333333333333333, \"#9c179e\"], [0.4444444444444444, \"#bd3786\"], [0.5555555555555556, \"#d8576b\"], [0.6666666666666666, \"#ed7953\"], [0.7777777777777778, \"#fb9f3a\"], [0.8888888888888888, \"#fdca26\"], [1.0, \"#f0f921\"]]}, \"colorway\": [\"#636efa\", \"#EF553B\", \"#00cc96\", \"#ab63fa\", \"#FFA15A\", \"#19d3f3\", \"#FF6692\", \"#B6E880\", \"#FF97FF\", \"#FECB52\"], \"font\": {\"color\": \"#2a3f5f\"}, \"geo\": {\"bgcolor\": \"white\", \"lakecolor\": \"white\", \"landcolor\": \"#E5ECF6\", \"showlakes\": true, \"showland\": true, \"subunitcolor\": \"white\"}, \"hoverlabel\": {\"align\": \"left\"}, \"hovermode\": \"closest\", \"mapbox\": {\"style\": \"light\"}, \"paper_bgcolor\": \"white\", \"plot_bgcolor\": \"#E5ECF6\", \"polar\": {\"angularaxis\": {\"gridcolor\": \"white\", \"linecolor\": \"white\", \"ticks\": \"\"}, \"bgcolor\": \"#E5ECF6\", \"radialaxis\": {\"gridcolor\": \"white\", \"linecolor\": \"white\", \"ticks\": \"\"}}, \"scene\": {\"xaxis\": {\"backgroundcolor\": \"#E5ECF6\", \"gridcolor\": \"white\", \"gridwidth\": 2, \"linecolor\": \"white\", \"showbackground\": true, \"ticks\": \"\", \"zerolinecolor\": \"white\"}, \"yaxis\": {\"backgroundcolor\": \"#E5ECF6\", \"gridcolor\": \"white\", \"gridwidth\": 2, \"linecolor\": \"white\", \"showbackground\": true, \"ticks\": \"\", \"zerolinecolor\": \"white\"}, \"zaxis\": {\"backgroundcolor\": \"#E5ECF6\", \"gridcolor\": \"white\", \"gridwidth\": 2, \"linecolor\": \"white\", \"showbackground\": true, \"ticks\": \"\", \"zerolinecolor\": \"white\"}}, \"shapedefaults\": {\"line\": {\"color\": \"#2a3f5f\"}}, \"ternary\": {\"aaxis\": {\"gridcolor\": \"white\", \"linecolor\": \"white\", \"ticks\": \"\"}, \"baxis\": {\"gridcolor\": \"white\", \"linecolor\": \"white\", \"ticks\": \"\"}, \"bgcolor\": \"#E5ECF6\", \"caxis\": {\"gridcolor\": \"white\", \"linecolor\": \"white\", \"ticks\": \"\"}}, \"title\": {\"x\": 0.05}, \"xaxis\": {\"automargin\": true, \"gridcolor\": \"white\", \"linecolor\": \"white\", \"ticks\": \"\", \"title\": {\"standoff\": 15}, \"zerolinecolor\": \"white\", \"zerolinewidth\": 2}, \"yaxis\": {\"automargin\": true, \"gridcolor\": \"white\", \"linecolor\": \"white\", \"ticks\": \"\", \"title\": {\"standoff\": 15}, \"zerolinecolor\": \"white\", \"zerolinewidth\": 2}}}, \"title\": {\"text\": \"COVID-19 total cases over time for 1 million inhabitants\"}, \"xaxis\": {\"nticks\": 30, \"title\": {\"text\": \"Time (day)\"}}, \"yaxis\": {\"title\": {\"text\": \"COVID-19 total confirmed cases / nb of inhabitants (million)\"}}},\n",
       "                        {\"responsive\": true}\n",
       "                    ).then(function(){\n",
       "                            \n",
       "var gd = document.getElementById('4c599a63-773e-4d7f-9db0-7811e6288ab0');\n",
       "var x = new MutationObserver(function (mutations, observer) {{\n",
       "        var display = window.getComputedStyle(gd).display;\n",
       "        if (!display || display === 'none') {{\n",
       "            console.log([gd, 'removed!']);\n",
       "            Plotly.purge(gd);\n",
       "            observer.disconnect();\n",
       "        }}\n",
       "}});\n",
       "\n",
       "// Listen for the removal of the full notebook cells\n",
       "var notebookContainer = gd.closest('#notebook-container');\n",
       "if (notebookContainer) {{\n",
       "    x.observe(notebookContainer, {childList: true});\n",
       "}}\n",
       "\n",
       "// Listen for the clearing of the current output cell\n",
       "var outputEl = gd.closest('.output');\n",
       "if (outputEl) {{\n",
       "    x.observe(outputEl, {childList: true});\n",
       "}}\n",
       "\n",
       "                        })\n",
       "                };\n",
       "                });\n",
       "            </script>\n",
       "        </div>"
      ]
     },
     "metadata": {},
     "output_type": "display_data"
    },
    {
     "name": "stdout",
     "output_type": "stream",
     "text": [
      "> graph 1 exported\n"
     ]
    }
   ],
   "source": [
    "fig = go.Figure()\n",
    "\n",
    "last_d = round(len(data_confirmed)/2)\n",
    "data_confirmed_rolling = data_confirmed\n",
    "from sklearn.svm import SVC\n",
    "\n",
    "i=0\n",
    "for country in countries:\n",
    "    #model = SVC(kernel='poly')\n",
    "    #model.fit(df_confirmed['date_int'][-last_d:].values.reshape(-1, 1), df_confirmed[country][-last_d:].fillna(0).values.reshape(-1, 1))\n",
    "    #Y = model.predict(df_confirmed['date_int'][-last_d:].values.reshape(-1, 1))\n",
    "    \n",
    "    fig.add_trace(go.Scatter(x = data_confirmed['date'][-last_d:], y = data_confirmed[country][-last_d:]/countries[country]['pop'],\n",
    "                    mode='markers',\n",
    "                    marker_color=colors[i],\n",
    "                    legendgroup=c,\n",
    "                    marker_symbol= 3*i,\n",
    "                    #marker_size=6,\n",
    "                    marker_line_color=colors[i],\n",
    "                    #marker_line_width=1,\n",
    "                    opacity=1,\n",
    "                    showlegend = True,\n",
    "                    name='{}'.format(\"\")))\n",
    "\n",
    "    fig.add_trace(go.Scatter(x = data_confirmed_rolling['date'][-last_d:], y = data_confirmed_rolling[country][-last_d:]/countries[country]['pop'],\n",
    "                    mode='lines',\n",
    "                    marker_color=colors[i],\n",
    "                    legendgroup=c,\n",
    "                    showlegend = True,\n",
    "                    name='{}'.format(country)\n",
    "                    ))\n",
    "    i+=1\n",
    "    if i>=10:\n",
    "        i=0\n",
    "    #fig.add_trace(go.Scatter(x=df_confirmed['date'][-last_d:], y=Y/countries[country]['pop'],\n",
    "     #               mode='lines',\n",
    "     #               name='{}'.format(country)))\n",
    "    \n",
    "fig.update_layout(\n",
    "    title=\"COVID-19 total cases over time for 1 million inhabitants\",\n",
    "    xaxis_title=\"Time (day)\",\n",
    "    yaxis_title=\"COVID-19 total confirmed cases / nb of inhabitants (million)\",\n",
    "    annotations = [dict(xref='paper',\n",
    "        yref='paper',\n",
    "        x=0, y=1.1,\n",
    "        showarrow=False,\n",
    "        text ='Last update: {} ; Last data: {} ; Data: CSSE ; Author: @guillaumerozier'.format(today, str(data_confirmed['date'].values[-1])[:10]))],\n",
    "\n",
    ")\n",
    "fig.update_xaxes(nticks = last_d)\n",
    "print(\"> graph 1 built\")\n",
    "if upload:\n",
    "    py.plot(fig, filename = 'cases', auto_open=False)\n",
    "    \n",
    "if show:\n",
    "    fig.show()\n",
    "\n",
    "if export:\n",
    "    fig.write_image(\"images/cases_per_1m_inhabitant.png\", scale=5, width=900, height=700)\n",
    "    print(\"> graph 1 exported\")"
   ]
  },
  {
   "cell_type": "code",
   "execution_count": null,
   "metadata": {},
   "outputs": [],
   "source": []
  },
  {
   "cell_type": "markdown",
   "metadata": {},
   "source": [
    "### Total cases for 1 million inhabitants [aligned]"
   ]
  },
  {
   "cell_type": "code",
   "execution_count": 171,
   "metadata": {},
   "outputs": [
    {
     "name": "stdout",
     "output_type": "stream",
     "text": [
      "> graph 3 built\n"
     ]
    },
    {
     "data": {
      "application/vnd.plotly.v1+json": {
       "config": {
        "plotlyServerURL": "https://plot.ly"
       },
       "data": [
        {
         "legendgroup": "France",
         "marker": {
          "color": "rgb(214, 39, 40)",
          "line": {
           "color": "rgb(214, 39, 40)"
          },
          "symbol": 0
         },
         "mode": "markers",
         "name": "",
         "opacity": 1,
         "showlegend": true,
         "type": "scatter",
         "x": [
          "2020-02-27T00:00:00",
          "2020-02-28T00:00:00",
          "2020-02-29T00:00:00",
          "2020-03-01T00:00:00",
          "2020-03-02T00:00:00",
          "2020-03-03T00:00:00",
          "2020-03-04T00:00:00",
          "2020-03-05T00:00:00",
          "2020-03-06T00:00:00",
          "2020-03-07T00:00:00",
          "2020-03-08T00:00:00",
          "2020-03-09T00:00:00",
          "2020-03-10T00:00:00",
          "2020-03-11T00:00:00",
          "2020-03-12T00:00:00"
         ],
         "y": [
          14.285714285714286,
          16.927899686520377,
          18.166890580683685,
          26.750261233019856,
          34.184206597999705,
          34.184206597999705,
          54.903716972682496,
          66.98014629049112,
          67.51753993133303,
          99.53724436483058,
          114.92760113449769,
          135.91580832960145,
          163.41244961934618,
          189.96865203761757,
          215.4202119719361
         ]
        },
        {
         "legendgroup": "France",
         "marker": {
          "color": "rgb(214, 39, 40)"
         },
         "mode": "lines",
         "name": "France [delayed by -9 days]",
         "opacity": 1,
         "showlegend": true,
         "type": "scatter",
         "x": [
          "2020-02-27T00:00:00",
          "2020-02-28T00:00:00",
          "2020-02-29T00:00:00",
          "2020-03-01T00:00:00",
          "2020-03-02T00:00:00",
          "2020-03-03T00:00:00",
          "2020-03-04T00:00:00",
          "2020-03-05T00:00:00",
          "2020-03-06T00:00:00",
          "2020-03-07T00:00:00",
          "2020-03-08T00:00:00",
          "2020-03-09T00:00:00",
          "2020-03-10T00:00:00",
          "2020-03-11T00:00:00",
          "2020-03-12T00:00:00"
         ],
         "y": [
          14.285714285714286,
          16.927899686520377,
          18.166890580683685,
          26.750261233019856,
          34.184206597999705,
          34.184206597999705,
          54.903716972682496,
          66.98014629049112,
          67.51753993133303,
          99.53724436483058,
          114.92760113449769,
          135.91580832960145,
          163.41244961934618,
          189.96865203761757,
          215.4202119719361
         ]
        },
        {
         "legendgroup": "Italy",
         "marker": {
          "color": "rgb(127, 127, 127)",
          "line": {
           "color": "rgb(127, 127, 127)"
          },
          "symbol": 3
         },
         "mode": "markers",
         "name": "",
         "opacity": 1,
         "showlegend": true,
         "type": "scatter",
         "x": [
          "2020-03-07T00:00:00",
          "2020-03-08T00:00:00",
          "2020-03-09T00:00:00",
          "2020-03-10T00:00:00",
          "2020-03-11T00:00:00",
          "2020-03-12T00:00:00",
          "2020-03-13T00:00:00",
          "2020-03-14T00:00:00",
          "2020-03-15T00:00:00",
          "2020-03-16T00:00:00",
          "2020-03-17T00:00:00",
          "2020-03-18T00:00:00",
          "2020-03-19T00:00:00",
          "2020-03-20T00:00:00"
         ],
         "y": [
          97.2718253968254,
          121.94113756613757,
          151.65343915343917,
          167.8075396825397,
          206.05158730158732,
          206.05158730158732,
          291.99735449735454,
          349.8181216931217,
          409.17658730158735,
          462.63227513227514,
          520.9325396825398,
          590.4927248677249,
          678.4887566137567,
          777.4636243386244,
          885.8796296296297
         ]
        },
        {
         "legendgroup": "Italy",
         "marker": {
          "color": "rgb(127, 127, 127)"
         },
         "mode": "lines",
         "name": "Italy [delayed by 0 days]",
         "opacity": 1,
         "showlegend": true,
         "type": "scatter",
         "x": [
          "2020-03-07T00:00:00",
          "2020-03-08T00:00:00",
          "2020-03-09T00:00:00",
          "2020-03-10T00:00:00",
          "2020-03-11T00:00:00",
          "2020-03-12T00:00:00",
          "2020-03-13T00:00:00",
          "2020-03-14T00:00:00",
          "2020-03-15T00:00:00",
          "2020-03-16T00:00:00",
          "2020-03-17T00:00:00",
          "2020-03-18T00:00:00",
          "2020-03-19T00:00:00",
          "2020-03-20T00:00:00"
         ],
         "y": [
          97.2718253968254,
          121.94113756613757,
          151.65343915343917,
          167.8075396825397,
          206.05158730158732,
          206.05158730158732,
          291.99735449735454,
          349.8181216931217,
          409.17658730158735,
          462.63227513227514,
          520.9325396825398,
          590.4927248677249,
          678.4887566137567,
          777.4636243386244,
          885.8796296296297
         ]
        },
        {
         "legendgroup": "United Kingdom",
         "marker": {
          "color": "rgb(188, 189, 34)",
          "line": {
           "color": "rgb(188, 189, 34)"
          },
          "symbol": 6
         },
         "mode": "markers",
         "name": "",
         "opacity": 1,
         "showlegend": true,
         "type": "scatter",
         "x": [
          "2020-02-21T00:00:00",
          "2020-02-22T00:00:00",
          "2020-02-23T00:00:00",
          "2020-02-24T00:00:00",
          "2020-02-25T00:00:00",
          "2020-02-26T00:00:00",
          "2020-02-27T00:00:00",
          "2020-02-28T00:00:00",
          "2020-02-29T00:00:00",
          "2020-03-01T00:00:00",
          "2020-03-02T00:00:00",
          "2020-03-03T00:00:00",
          "2020-03-04T00:00:00",
          "2020-03-05T00:00:00",
          "2020-03-06T00:00:00"
         ],
         "y": [
          3.115593016255268,
          4.124021673690548,
          4.846478025285973,
          5.779650812763395,
          6.908488862131247,
          6.908488862131247,
          12.071041541240216,
          17.218543046357617,
          17.233594220349186,
          23.344370860927153,
          29.50030102347983,
          39.76520168573149,
          40.87898856110777,
          60.41541240216737,
          76.26429861529199
         ]
        },
        {
         "legendgroup": "United Kingdom",
         "marker": {
          "color": "rgb(188, 189, 34)"
         },
         "mode": "lines",
         "name": "United Kingdom [delayed by -15 days]",
         "opacity": 1,
         "showlegend": true,
         "type": "scatter",
         "x": [
          "2020-02-21T00:00:00",
          "2020-02-22T00:00:00",
          "2020-02-23T00:00:00",
          "2020-02-24T00:00:00",
          "2020-02-25T00:00:00",
          "2020-02-26T00:00:00",
          "2020-02-27T00:00:00",
          "2020-02-28T00:00:00",
          "2020-02-29T00:00:00",
          "2020-03-01T00:00:00",
          "2020-03-02T00:00:00",
          "2020-03-03T00:00:00",
          "2020-03-04T00:00:00",
          "2020-03-05T00:00:00",
          "2020-03-06T00:00:00"
         ],
         "y": [
          3.115593016255268,
          4.124021673690548,
          4.846478025285973,
          5.779650812763395,
          6.908488862131247,
          6.908488862131247,
          12.071041541240216,
          17.218543046357617,
          17.233594220349186,
          23.344370860927153,
          29.50030102347983,
          39.76520168573149,
          40.87898856110777,
          60.41541240216737,
          76.26429861529199
         ]
        },
        {
         "legendgroup": "Spain",
         "marker": {
          "color": "rgb(148, 103, 189)",
          "line": {
           "color": "rgb(148, 103, 189)"
          },
          "symbol": 9
         },
         "mode": "markers",
         "name": "",
         "opacity": 1,
         "showlegend": true,
         "type": "scatter",
         "x": [
          "2020-03-02T00:00:00",
          "2020-03-03T00:00:00",
          "2020-03-04T00:00:00",
          "2020-03-05T00:00:00",
          "2020-03-06T00:00:00",
          "2020-03-07T00:00:00",
          "2020-03-08T00:00:00",
          "2020-03-09T00:00:00",
          "2020-03-10T00:00:00",
          "2020-03-11T00:00:00",
          "2020-03-12T00:00:00",
          "2020-03-13T00:00:00",
          "2020-03-14T00:00:00",
          "2020-03-15T00:00:00",
          "2020-03-16T00:00:00"
         ],
         "y": [
          10.715816545220747,
          14.423489069867125,
          22.996142306043723,
          36.32661808829833,
          48.79982854693528,
          48.79982854693528,
          112.1303043291899,
          136.96956708101158,
          167.12387483926275,
          213.0732961851693,
          251.77882554650665,
          298.11401628804117,
          384.97642520360057,
          437.41963137591085,
          543.8062580368625
         ]
        },
        {
         "legendgroup": "Spain",
         "marker": {
          "color": "rgb(148, 103, 189)"
         },
         "mode": "lines",
         "name": "Spain [delayed by -5 days]",
         "opacity": 1,
         "showlegend": true,
         "type": "scatter",
         "x": [
          "2020-03-02T00:00:00",
          "2020-03-03T00:00:00",
          "2020-03-04T00:00:00",
          "2020-03-05T00:00:00",
          "2020-03-06T00:00:00",
          "2020-03-07T00:00:00",
          "2020-03-08T00:00:00",
          "2020-03-09T00:00:00",
          "2020-03-10T00:00:00",
          "2020-03-11T00:00:00",
          "2020-03-12T00:00:00",
          "2020-03-13T00:00:00",
          "2020-03-14T00:00:00",
          "2020-03-15T00:00:00",
          "2020-03-16T00:00:00"
         ],
         "y": [
          10.715816545220747,
          14.423489069867125,
          22.996142306043723,
          36.32661808829833,
          48.79982854693528,
          48.79982854693528,
          112.1303043291899,
          136.96956708101158,
          167.12387483926275,
          213.0732961851693,
          251.77882554650665,
          298.11401628804117,
          384.97642520360057,
          437.41963137591085,
          543.8062580368625
         ]
        },
        {
         "legendgroup": "Germany",
         "marker": {
          "color": "rgb(44, 160, 44)",
          "line": {
           "color": "rgb(44, 160, 44)"
          },
          "symbol": 12
         },
         "mode": "markers",
         "name": "",
         "opacity": 1,
         "showlegend": true,
         "type": "scatter",
         "x": [
          "2020-02-27T00:00:00",
          "2020-02-28T00:00:00",
          "2020-02-29T00:00:00",
          "2020-03-01T00:00:00",
          "2020-03-02T00:00:00",
          "2020-03-03T00:00:00",
          "2020-03-04T00:00:00",
          "2020-03-05T00:00:00",
          "2020-03-06T00:00:00",
          "2020-03-07T00:00:00",
          "2020-03-08T00:00:00",
          "2020-03-09T00:00:00",
          "2020-03-10T00:00:00",
          "2020-03-11T00:00:00",
          "2020-03-12T00:00:00"
         ],
         "y": [
          9.650924024640656,
          12.561903611547287,
          14.204614083826549,
          17.598743809638844,
          23.046261625800216,
          25.09964971614929,
          44.38941901195796,
          55.38108467206184,
          69.9963763739582,
          87.83669525304988,
          111.8130208962435,
          148.89479405725328,
          185.04650320086967,
          239.7390989249909,
          268.30535088778834
         ]
        },
        {
         "legendgroup": "Germany",
         "marker": {
          "color": "rgb(44, 160, 44)"
         },
         "mode": "lines",
         "name": "Germany [delayed by -9 days]",
         "opacity": 1,
         "showlegend": true,
         "type": "scatter",
         "x": [
          "2020-02-27T00:00:00",
          "2020-02-28T00:00:00",
          "2020-02-29T00:00:00",
          "2020-03-01T00:00:00",
          "2020-03-02T00:00:00",
          "2020-03-03T00:00:00",
          "2020-03-04T00:00:00",
          "2020-03-05T00:00:00",
          "2020-03-06T00:00:00",
          "2020-03-07T00:00:00",
          "2020-03-08T00:00:00",
          "2020-03-09T00:00:00",
          "2020-03-10T00:00:00",
          "2020-03-11T00:00:00",
          "2020-03-12T00:00:00"
         ],
         "y": [
          9.650924024640656,
          12.561903611547287,
          14.204614083826549,
          17.598743809638844,
          23.046261625800216,
          25.09964971614929,
          44.38941901195796,
          55.38108467206184,
          69.9963763739582,
          87.83669525304988,
          111.8130208962435,
          148.89479405725328,
          185.04650320086967,
          239.7390989249909,
          268.30535088778834
         ]
        },
        {
         "legendgroup": "Belgium",
         "marker": {
          "color": "rgb(227, 119, 194)",
          "line": {
           "color": "rgb(227, 119, 194)"
          },
          "symbol": 15
         },
         "mode": "markers",
         "name": "",
         "opacity": 1,
         "showlegend": true,
         "type": "scatter",
         "x": [
          "2020-02-27T00:00:00",
          "2020-02-28T00:00:00",
          "2020-02-29T00:00:00",
          "2020-03-01T00:00:00",
          "2020-03-02T00:00:00",
          "2020-03-03T00:00:00",
          "2020-03-04T00:00:00",
          "2020-03-05T00:00:00",
          "2020-03-06T00:00:00",
          "2020-03-07T00:00:00",
          "2020-03-08T00:00:00",
          "2020-03-09T00:00:00",
          "2020-03-10T00:00:00",
          "2020-03-11T00:00:00",
          "2020-03-12T00:00:00"
         ],
         "y": [
          14.824561403508772,
          17.543859649122805,
          20.964912280701753,
          23.421052631578945,
          27.543859649122805,
          27.543859649122805,
          49.03508771929825,
          60.43859649122807,
          77.71929824561403,
          92.80701754385964,
          109.03508771929825,
          130.35087719298247,
          157.45614035087718,
          197.98245614035088,
          246.9298245614035
         ]
        },
        {
         "legendgroup": "Belgium",
         "marker": {
          "color": "rgb(227, 119, 194)"
         },
         "mode": "lines",
         "name": "Belgium [delayed by -9 days]",
         "opacity": 1,
         "showlegend": true,
         "type": "scatter",
         "x": [
          "2020-02-27T00:00:00",
          "2020-02-28T00:00:00",
          "2020-02-29T00:00:00",
          "2020-03-01T00:00:00",
          "2020-03-02T00:00:00",
          "2020-03-03T00:00:00",
          "2020-03-04T00:00:00",
          "2020-03-05T00:00:00",
          "2020-03-06T00:00:00",
          "2020-03-07T00:00:00",
          "2020-03-08T00:00:00",
          "2020-03-09T00:00:00",
          "2020-03-10T00:00:00",
          "2020-03-11T00:00:00",
          "2020-03-12T00:00:00"
         ],
         "y": [
          14.824561403508772,
          17.543859649122805,
          20.964912280701753,
          23.421052631578945,
          27.543859649122805,
          27.543859649122805,
          49.03508771929825,
          60.43859649122807,
          77.71929824561403,
          92.80701754385964,
          109.03508771929825,
          130.35087719298247,
          157.45614035087718,
          197.98245614035088,
          246.9298245614035
         ]
        },
        {
         "legendgroup": "Luxembourg",
         "marker": {
          "color": "rgb(23, 190, 207)",
          "line": {
           "color": "rgb(23, 190, 207)"
          },
          "symbol": 18
         },
         "mode": "markers",
         "name": "",
         "opacity": 1,
         "showlegend": true,
         "type": "scatter",
         "x": [
          "2020-03-02T00:00:00",
          "2020-03-03T00:00:00",
          "2020-03-04T00:00:00",
          "2020-03-05T00:00:00",
          "2020-03-06T00:00:00",
          "2020-03-07T00:00:00",
          "2020-03-08T00:00:00",
          "2020-03-09T00:00:00",
          "2020-03-10T00:00:00",
          "2020-03-11T00:00:00",
          "2020-03-12T00:00:00",
          "2020-03-13T00:00:00",
          "2020-03-14T00:00:00",
          "2020-03-15T00:00:00",
          "2020-03-16T00:00:00"
         ],
         "y": [
          3.3222591362126246,
          4.983388704318937,
          4.983388704318937,
          8.305647840531561,
          11.627906976744187,
          31.561461794019934,
          56.47840531561462,
          84.71760797342193,
          98.00664451827242,
          127.90697674418605,
          232.55813953488374,
          337.2093023255814,
          556.4784053156146,
          803.9867109634552,
          1112.9568106312292
         ]
        },
        {
         "legendgroup": "Luxembourg",
         "marker": {
          "color": "rgb(23, 190, 207)"
         },
         "mode": "lines",
         "name": "Luxembourg [delayed by -5 days]",
         "opacity": 1,
         "showlegend": true,
         "type": "scatter",
         "x": [
          "2020-03-02T00:00:00",
          "2020-03-03T00:00:00",
          "2020-03-04T00:00:00",
          "2020-03-05T00:00:00",
          "2020-03-06T00:00:00",
          "2020-03-07T00:00:00",
          "2020-03-08T00:00:00",
          "2020-03-09T00:00:00",
          "2020-03-10T00:00:00",
          "2020-03-11T00:00:00",
          "2020-03-12T00:00:00",
          "2020-03-13T00:00:00",
          "2020-03-14T00:00:00",
          "2020-03-15T00:00:00",
          "2020-03-16T00:00:00"
         ],
         "y": [
          3.3222591362126246,
          4.983388704318937,
          4.983388704318937,
          8.305647840531561,
          11.627906976744187,
          31.561461794019934,
          56.47840531561462,
          84.71760797342193,
          98.00664451827242,
          127.90697674418605,
          232.55813953488374,
          337.2093023255814,
          556.4784053156146,
          803.9867109634552,
          1112.9568106312292
         ]
        },
        {
         "legendgroup": "US",
         "marker": {
          "color": "rgb(31, 119, 180)",
          "line": {
           "color": "rgb(31, 119, 180)"
          },
          "symbol": 21
         },
         "mode": "markers",
         "name": "",
         "opacity": 1,
         "showlegend": true,
         "type": "scatter",
         "x": [
          "2020-02-20T00:00:00",
          "2020-02-21T00:00:00",
          "2020-02-22T00:00:00",
          "2020-02-23T00:00:00",
          "2020-02-24T00:00:00",
          "2020-02-25T00:00:00",
          "2020-02-26T00:00:00",
          "2020-02-27T00:00:00",
          "2020-02-28T00:00:00",
          "2020-02-29T00:00:00",
          "2020-03-01T00:00:00",
          "2020-03-02T00:00:00",
          "2020-03-03T00:00:00",
          "2020-03-04T00:00:00",
          "2020-03-05T00:00:00"
         ],
         "y": [
          1.2293577981651376,
          1.584097859327217,
          1.782874617737003,
          2.932721712538226,
          3.9174311926605503,
          5.085626911314985,
          6.663608562691132,
          8.339449541284404,
          10.700305810397554,
          14.1651376146789,
          19.636085626911314,
          23.801223241590215,
          41.825688073394495,
          58.40978593272171,
          77.9480122324159
         ]
        },
        {
         "legendgroup": "US",
         "marker": {
          "color": "rgb(31, 119, 180)"
         },
         "mode": "lines",
         "name": "US [delayed by -16 days]",
         "opacity": 1,
         "showlegend": true,
         "type": "scatter",
         "x": [
          "2020-02-20T00:00:00",
          "2020-02-21T00:00:00",
          "2020-02-22T00:00:00",
          "2020-02-23T00:00:00",
          "2020-02-24T00:00:00",
          "2020-02-25T00:00:00",
          "2020-02-26T00:00:00",
          "2020-02-27T00:00:00",
          "2020-02-28T00:00:00",
          "2020-02-29T00:00:00",
          "2020-03-01T00:00:00",
          "2020-03-02T00:00:00",
          "2020-03-03T00:00:00",
          "2020-03-04T00:00:00",
          "2020-03-05T00:00:00"
         ],
         "y": [
          1.2293577981651376,
          1.584097859327217,
          1.782874617737003,
          2.932721712538226,
          3.9174311926605503,
          5.085626911314985,
          6.663608562691132,
          8.339449541284404,
          10.700305810397554,
          14.1651376146789,
          19.636085626911314,
          23.801223241590215,
          41.825688073394495,
          58.40978593272171,
          77.9480122324159
         ]
        },
        {
         "legendgroup": "Canada",
         "marker": {
          "color": "rgb(255, 127, 14)",
          "line": {
           "color": "rgb(255, 127, 14)"
          },
          "symbol": 24
         },
         "mode": "markers",
         "name": "",
         "opacity": 1,
         "showlegend": true,
         "type": "scatter",
         "x": [
          "2020-02-17T00:00:00",
          "2020-02-18T00:00:00",
          "2020-02-19T00:00:00",
          "2020-02-20T00:00:00",
          "2020-02-21T00:00:00",
          "2020-02-22T00:00:00",
          "2020-02-23T00:00:00",
          "2020-02-24T00:00:00",
          "2020-02-25T00:00:00",
          "2020-02-26T00:00:00",
          "2020-02-27T00:00:00",
          "2020-02-28T00:00:00",
          "2020-02-29T00:00:00",
          "2020-03-01T00:00:00",
          "2020-03-02T00:00:00"
         ],
         "y": [
          1.4365522745411012,
          1.7025804735301941,
          2.0484171322160147,
          2.101622772013833,
          2.8731045490822025,
          3.112529928172386,
          5.134344240489491,
          5.267358339984038,
          6.703910614525139,
          11.040170258047352,
          12.716147911678636,
          17.4780526735834,
          21.282255919127426,
          25.086459164671453,
          33.99840383080606
         ]
        },
        {
         "legendgroup": "Canada",
         "marker": {
          "color": "rgb(255, 127, 14)"
         },
         "mode": "lines",
         "name": "Canada [delayed by -19 days]",
         "opacity": 1,
         "showlegend": true,
         "type": "scatter",
         "x": [
          "2020-02-17T00:00:00",
          "2020-02-18T00:00:00",
          "2020-02-19T00:00:00",
          "2020-02-20T00:00:00",
          "2020-02-21T00:00:00",
          "2020-02-22T00:00:00",
          "2020-02-23T00:00:00",
          "2020-02-24T00:00:00",
          "2020-02-25T00:00:00",
          "2020-02-26T00:00:00",
          "2020-02-27T00:00:00",
          "2020-02-28T00:00:00",
          "2020-02-29T00:00:00",
          "2020-03-01T00:00:00",
          "2020-03-02T00:00:00"
         ],
         "y": [
          1.4365522745411012,
          1.7025804735301941,
          2.0484171322160147,
          2.101622772013833,
          2.8731045490822025,
          3.112529928172386,
          5.134344240489491,
          5.267358339984038,
          6.703910614525139,
          11.040170258047352,
          12.716147911678636,
          17.4780526735834,
          21.282255919127426,
          25.086459164671453,
          33.99840383080606
         ]
        },
        {
         "legendgroup": "Switzerland",
         "marker": {
          "color": "rgb(140, 86, 75)",
          "line": {
           "color": "rgb(140, 86, 75)"
          },
          "symbol": 27
         },
         "mode": "markers",
         "name": "",
         "opacity": 1,
         "showlegend": true,
         "type": "scatter",
         "x": [
          "2020-03-03T00:00:00",
          "2020-03-04T00:00:00",
          "2020-03-05T00:00:00",
          "2020-03-06T00:00:00",
          "2020-03-07T00:00:00",
          "2020-03-08T00:00:00",
          "2020-03-09T00:00:00",
          "2020-03-10T00:00:00",
          "2020-03-11T00:00:00",
          "2020-03-12T00:00:00",
          "2020-03-13T00:00:00",
          "2020-03-14T00:00:00",
          "2020-03-15T00:00:00",
          "2020-03-16T00:00:00",
          "2020-03-17T00:00:00"
         ],
         "y": [
          31.271878646441074,
          39.323220536756125,
          43.64060676779463,
          57.2928821470245,
          76.07934655775962,
          76.07934655775962,
          132.90548424737455,
          158.5764294049008,
          256.70945157526256,
          256.70945157526256,
          315.05250875145856,
          353.32555425904314,
          475.49591598599767,
          617.7362893815636,
          767.2112018669778
         ]
        },
        {
         "legendgroup": "Switzerland",
         "marker": {
          "color": "rgb(140, 86, 75)"
         },
         "mode": "lines",
         "name": "Switzerland [delayed by -4 days]",
         "opacity": 1,
         "showlegend": true,
         "type": "scatter",
         "x": [
          "2020-03-03T00:00:00",
          "2020-03-04T00:00:00",
          "2020-03-05T00:00:00",
          "2020-03-06T00:00:00",
          "2020-03-07T00:00:00",
          "2020-03-08T00:00:00",
          "2020-03-09T00:00:00",
          "2020-03-10T00:00:00",
          "2020-03-11T00:00:00",
          "2020-03-12T00:00:00",
          "2020-03-13T00:00:00",
          "2020-03-14T00:00:00",
          "2020-03-15T00:00:00",
          "2020-03-16T00:00:00",
          "2020-03-17T00:00:00"
         ],
         "y": [
          31.271878646441074,
          39.323220536756125,
          43.64060676779463,
          57.2928821470245,
          76.07934655775962,
          76.07934655775962,
          132.90548424737455,
          158.5764294049008,
          256.70945157526256,
          256.70945157526256,
          315.05250875145856,
          353.32555425904314,
          475.49591598599767,
          617.7362893815636,
          767.2112018669778
         ]
        }
       ],
       "layout": {
        "annotations": [
         {
          "showarrow": false,
          "text": "Last update: 2020-03-22 08:53 ; Last data: 2020-03-21 ; Data: CSSE ; Author: @guillaumerozier",
          "x": 0,
          "xref": "paper",
          "y": 1.1,
          "yref": "paper"
         }
        ],
        "template": {
         "data": {
          "bar": [
           {
            "error_x": {
             "color": "#2a3f5f"
            },
            "error_y": {
             "color": "#2a3f5f"
            },
            "marker": {
             "line": {
              "color": "#E5ECF6",
              "width": 0.5
             }
            },
            "type": "bar"
           }
          ],
          "barpolar": [
           {
            "marker": {
             "line": {
              "color": "#E5ECF6",
              "width": 0.5
             }
            },
            "type": "barpolar"
           }
          ],
          "carpet": [
           {
            "aaxis": {
             "endlinecolor": "#2a3f5f",
             "gridcolor": "white",
             "linecolor": "white",
             "minorgridcolor": "white",
             "startlinecolor": "#2a3f5f"
            },
            "baxis": {
             "endlinecolor": "#2a3f5f",
             "gridcolor": "white",
             "linecolor": "white",
             "minorgridcolor": "white",
             "startlinecolor": "#2a3f5f"
            },
            "type": "carpet"
           }
          ],
          "choropleth": [
           {
            "colorbar": {
             "outlinewidth": 0,
             "ticks": ""
            },
            "type": "choropleth"
           }
          ],
          "contour": [
           {
            "colorbar": {
             "outlinewidth": 0,
             "ticks": ""
            },
            "colorscale": [
             [
              0,
              "#0d0887"
             ],
             [
              0.1111111111111111,
              "#46039f"
             ],
             [
              0.2222222222222222,
              "#7201a8"
             ],
             [
              0.3333333333333333,
              "#9c179e"
             ],
             [
              0.4444444444444444,
              "#bd3786"
             ],
             [
              0.5555555555555556,
              "#d8576b"
             ],
             [
              0.6666666666666666,
              "#ed7953"
             ],
             [
              0.7777777777777778,
              "#fb9f3a"
             ],
             [
              0.8888888888888888,
              "#fdca26"
             ],
             [
              1,
              "#f0f921"
             ]
            ],
            "type": "contour"
           }
          ],
          "contourcarpet": [
           {
            "colorbar": {
             "outlinewidth": 0,
             "ticks": ""
            },
            "type": "contourcarpet"
           }
          ],
          "heatmap": [
           {
            "colorbar": {
             "outlinewidth": 0,
             "ticks": ""
            },
            "colorscale": [
             [
              0,
              "#0d0887"
             ],
             [
              0.1111111111111111,
              "#46039f"
             ],
             [
              0.2222222222222222,
              "#7201a8"
             ],
             [
              0.3333333333333333,
              "#9c179e"
             ],
             [
              0.4444444444444444,
              "#bd3786"
             ],
             [
              0.5555555555555556,
              "#d8576b"
             ],
             [
              0.6666666666666666,
              "#ed7953"
             ],
             [
              0.7777777777777778,
              "#fb9f3a"
             ],
             [
              0.8888888888888888,
              "#fdca26"
             ],
             [
              1,
              "#f0f921"
             ]
            ],
            "type": "heatmap"
           }
          ],
          "heatmapgl": [
           {
            "colorbar": {
             "outlinewidth": 0,
             "ticks": ""
            },
            "colorscale": [
             [
              0,
              "#0d0887"
             ],
             [
              0.1111111111111111,
              "#46039f"
             ],
             [
              0.2222222222222222,
              "#7201a8"
             ],
             [
              0.3333333333333333,
              "#9c179e"
             ],
             [
              0.4444444444444444,
              "#bd3786"
             ],
             [
              0.5555555555555556,
              "#d8576b"
             ],
             [
              0.6666666666666666,
              "#ed7953"
             ],
             [
              0.7777777777777778,
              "#fb9f3a"
             ],
             [
              0.8888888888888888,
              "#fdca26"
             ],
             [
              1,
              "#f0f921"
             ]
            ],
            "type": "heatmapgl"
           }
          ],
          "histogram": [
           {
            "marker": {
             "colorbar": {
              "outlinewidth": 0,
              "ticks": ""
             }
            },
            "type": "histogram"
           }
          ],
          "histogram2d": [
           {
            "colorbar": {
             "outlinewidth": 0,
             "ticks": ""
            },
            "colorscale": [
             [
              0,
              "#0d0887"
             ],
             [
              0.1111111111111111,
              "#46039f"
             ],
             [
              0.2222222222222222,
              "#7201a8"
             ],
             [
              0.3333333333333333,
              "#9c179e"
             ],
             [
              0.4444444444444444,
              "#bd3786"
             ],
             [
              0.5555555555555556,
              "#d8576b"
             ],
             [
              0.6666666666666666,
              "#ed7953"
             ],
             [
              0.7777777777777778,
              "#fb9f3a"
             ],
             [
              0.8888888888888888,
              "#fdca26"
             ],
             [
              1,
              "#f0f921"
             ]
            ],
            "type": "histogram2d"
           }
          ],
          "histogram2dcontour": [
           {
            "colorbar": {
             "outlinewidth": 0,
             "ticks": ""
            },
            "colorscale": [
             [
              0,
              "#0d0887"
             ],
             [
              0.1111111111111111,
              "#46039f"
             ],
             [
              0.2222222222222222,
              "#7201a8"
             ],
             [
              0.3333333333333333,
              "#9c179e"
             ],
             [
              0.4444444444444444,
              "#bd3786"
             ],
             [
              0.5555555555555556,
              "#d8576b"
             ],
             [
              0.6666666666666666,
              "#ed7953"
             ],
             [
              0.7777777777777778,
              "#fb9f3a"
             ],
             [
              0.8888888888888888,
              "#fdca26"
             ],
             [
              1,
              "#f0f921"
             ]
            ],
            "type": "histogram2dcontour"
           }
          ],
          "mesh3d": [
           {
            "colorbar": {
             "outlinewidth": 0,
             "ticks": ""
            },
            "type": "mesh3d"
           }
          ],
          "parcoords": [
           {
            "line": {
             "colorbar": {
              "outlinewidth": 0,
              "ticks": ""
             }
            },
            "type": "parcoords"
           }
          ],
          "pie": [
           {
            "automargin": true,
            "type": "pie"
           }
          ],
          "scatter": [
           {
            "marker": {
             "colorbar": {
              "outlinewidth": 0,
              "ticks": ""
             }
            },
            "type": "scatter"
           }
          ],
          "scatter3d": [
           {
            "line": {
             "colorbar": {
              "outlinewidth": 0,
              "ticks": ""
             }
            },
            "marker": {
             "colorbar": {
              "outlinewidth": 0,
              "ticks": ""
             }
            },
            "type": "scatter3d"
           }
          ],
          "scattercarpet": [
           {
            "marker": {
             "colorbar": {
              "outlinewidth": 0,
              "ticks": ""
             }
            },
            "type": "scattercarpet"
           }
          ],
          "scattergeo": [
           {
            "marker": {
             "colorbar": {
              "outlinewidth": 0,
              "ticks": ""
             }
            },
            "type": "scattergeo"
           }
          ],
          "scattergl": [
           {
            "marker": {
             "colorbar": {
              "outlinewidth": 0,
              "ticks": ""
             }
            },
            "type": "scattergl"
           }
          ],
          "scattermapbox": [
           {
            "marker": {
             "colorbar": {
              "outlinewidth": 0,
              "ticks": ""
             }
            },
            "type": "scattermapbox"
           }
          ],
          "scatterpolar": [
           {
            "marker": {
             "colorbar": {
              "outlinewidth": 0,
              "ticks": ""
             }
            },
            "type": "scatterpolar"
           }
          ],
          "scatterpolargl": [
           {
            "marker": {
             "colorbar": {
              "outlinewidth": 0,
              "ticks": ""
             }
            },
            "type": "scatterpolargl"
           }
          ],
          "scatterternary": [
           {
            "marker": {
             "colorbar": {
              "outlinewidth": 0,
              "ticks": ""
             }
            },
            "type": "scatterternary"
           }
          ],
          "surface": [
           {
            "colorbar": {
             "outlinewidth": 0,
             "ticks": ""
            },
            "colorscale": [
             [
              0,
              "#0d0887"
             ],
             [
              0.1111111111111111,
              "#46039f"
             ],
             [
              0.2222222222222222,
              "#7201a8"
             ],
             [
              0.3333333333333333,
              "#9c179e"
             ],
             [
              0.4444444444444444,
              "#bd3786"
             ],
             [
              0.5555555555555556,
              "#d8576b"
             ],
             [
              0.6666666666666666,
              "#ed7953"
             ],
             [
              0.7777777777777778,
              "#fb9f3a"
             ],
             [
              0.8888888888888888,
              "#fdca26"
             ],
             [
              1,
              "#f0f921"
             ]
            ],
            "type": "surface"
           }
          ],
          "table": [
           {
            "cells": {
             "fill": {
              "color": "#EBF0F8"
             },
             "line": {
              "color": "white"
             }
            },
            "header": {
             "fill": {
              "color": "#C8D4E3"
             },
             "line": {
              "color": "white"
             }
            },
            "type": "table"
           }
          ]
         },
         "layout": {
          "annotationdefaults": {
           "arrowcolor": "#2a3f5f",
           "arrowhead": 0,
           "arrowwidth": 1
          },
          "coloraxis": {
           "colorbar": {
            "outlinewidth": 0,
            "ticks": ""
           }
          },
          "colorscale": {
           "diverging": [
            [
             0,
             "#8e0152"
            ],
            [
             0.1,
             "#c51b7d"
            ],
            [
             0.2,
             "#de77ae"
            ],
            [
             0.3,
             "#f1b6da"
            ],
            [
             0.4,
             "#fde0ef"
            ],
            [
             0.5,
             "#f7f7f7"
            ],
            [
             0.6,
             "#e6f5d0"
            ],
            [
             0.7,
             "#b8e186"
            ],
            [
             0.8,
             "#7fbc41"
            ],
            [
             0.9,
             "#4d9221"
            ],
            [
             1,
             "#276419"
            ]
           ],
           "sequential": [
            [
             0,
             "#0d0887"
            ],
            [
             0.1111111111111111,
             "#46039f"
            ],
            [
             0.2222222222222222,
             "#7201a8"
            ],
            [
             0.3333333333333333,
             "#9c179e"
            ],
            [
             0.4444444444444444,
             "#bd3786"
            ],
            [
             0.5555555555555556,
             "#d8576b"
            ],
            [
             0.6666666666666666,
             "#ed7953"
            ],
            [
             0.7777777777777778,
             "#fb9f3a"
            ],
            [
             0.8888888888888888,
             "#fdca26"
            ],
            [
             1,
             "#f0f921"
            ]
           ],
           "sequentialminus": [
            [
             0,
             "#0d0887"
            ],
            [
             0.1111111111111111,
             "#46039f"
            ],
            [
             0.2222222222222222,
             "#7201a8"
            ],
            [
             0.3333333333333333,
             "#9c179e"
            ],
            [
             0.4444444444444444,
             "#bd3786"
            ],
            [
             0.5555555555555556,
             "#d8576b"
            ],
            [
             0.6666666666666666,
             "#ed7953"
            ],
            [
             0.7777777777777778,
             "#fb9f3a"
            ],
            [
             0.8888888888888888,
             "#fdca26"
            ],
            [
             1,
             "#f0f921"
            ]
           ]
          },
          "colorway": [
           "#636efa",
           "#EF553B",
           "#00cc96",
           "#ab63fa",
           "#FFA15A",
           "#19d3f3",
           "#FF6692",
           "#B6E880",
           "#FF97FF",
           "#FECB52"
          ],
          "font": {
           "color": "#2a3f5f"
          },
          "geo": {
           "bgcolor": "white",
           "lakecolor": "white",
           "landcolor": "#E5ECF6",
           "showlakes": true,
           "showland": true,
           "subunitcolor": "white"
          },
          "hoverlabel": {
           "align": "left"
          },
          "hovermode": "closest",
          "mapbox": {
           "style": "light"
          },
          "paper_bgcolor": "white",
          "plot_bgcolor": "#E5ECF6",
          "polar": {
           "angularaxis": {
            "gridcolor": "white",
            "linecolor": "white",
            "ticks": ""
           },
           "bgcolor": "#E5ECF6",
           "radialaxis": {
            "gridcolor": "white",
            "linecolor": "white",
            "ticks": ""
           }
          },
          "scene": {
           "xaxis": {
            "backgroundcolor": "#E5ECF6",
            "gridcolor": "white",
            "gridwidth": 2,
            "linecolor": "white",
            "showbackground": true,
            "ticks": "",
            "zerolinecolor": "white"
           },
           "yaxis": {
            "backgroundcolor": "#E5ECF6",
            "gridcolor": "white",
            "gridwidth": 2,
            "linecolor": "white",
            "showbackground": true,
            "ticks": "",
            "zerolinecolor": "white"
           },
           "zaxis": {
            "backgroundcolor": "#E5ECF6",
            "gridcolor": "white",
            "gridwidth": 2,
            "linecolor": "white",
            "showbackground": true,
            "ticks": "",
            "zerolinecolor": "white"
           }
          },
          "shapedefaults": {
           "line": {
            "color": "#2a3f5f"
           }
          },
          "ternary": {
           "aaxis": {
            "gridcolor": "white",
            "linecolor": "white",
            "ticks": ""
           },
           "baxis": {
            "gridcolor": "white",
            "linecolor": "white",
            "ticks": ""
           },
           "bgcolor": "#E5ECF6",
           "caxis": {
            "gridcolor": "white",
            "linecolor": "white",
            "ticks": ""
           }
          },
          "title": {
           "x": 0.05
          },
          "xaxis": {
           "automargin": true,
           "gridcolor": "white",
           "linecolor": "white",
           "ticks": "",
           "title": {
            "standoff": 15
           },
           "zerolinecolor": "white",
           "zerolinewidth": 2
          },
          "yaxis": {
           "automargin": true,
           "gridcolor": "white",
           "linecolor": "white",
           "ticks": "",
           "title": {
            "standoff": 15
           },
           "zerolinecolor": "white",
           "zerolinewidth": 2
          }
         }
        },
        "title": {
         "text": "COVID-19 total cases over time for 1 million inhabitants [aligned for comparison]"
        },
        "xaxis": {
         "nticks": 15,
         "title": {
          "text": "Time (day) — delayed for some countries"
         }
        },
        "yaxis": {
         "title": {
          "text": "COVID-19 total confirmed cases / nb of inhabitants (million)"
         }
        }
       }
      },
      "text/html": [
       "<div>\n",
       "        \n",
       "        \n",
       "            <div id=\"326e5b21-1034-44dd-b8ac-cf84ecc52be2\" class=\"plotly-graph-div\" style=\"height:525px; width:100%;\"></div>\n",
       "            <script type=\"text/javascript\">\n",
       "                require([\"plotly\"], function(Plotly) {\n",
       "                    window.PLOTLYENV=window.PLOTLYENV || {};\n",
       "                    \n",
       "                if (document.getElementById(\"326e5b21-1034-44dd-b8ac-cf84ecc52be2\")) {\n",
       "                    Plotly.newPlot(\n",
       "                        '326e5b21-1034-44dd-b8ac-cf84ecc52be2',\n",
       "                        [{\"legendgroup\": \"France\", \"marker\": {\"color\": \"rgb(214, 39, 40)\", \"line\": {\"color\": \"rgb(214, 39, 40)\"}, \"symbol\": 0}, \"mode\": \"markers\", \"name\": \"\", \"opacity\": 1, \"showlegend\": true, \"type\": \"scatter\", \"x\": [\"2020-02-27T00:00:00\", \"2020-02-28T00:00:00\", \"2020-02-29T00:00:00\", \"2020-03-01T00:00:00\", \"2020-03-02T00:00:00\", \"2020-03-03T00:00:00\", \"2020-03-04T00:00:00\", \"2020-03-05T00:00:00\", \"2020-03-06T00:00:00\", \"2020-03-07T00:00:00\", \"2020-03-08T00:00:00\", \"2020-03-09T00:00:00\", \"2020-03-10T00:00:00\", \"2020-03-11T00:00:00\", \"2020-03-12T00:00:00\"], \"y\": [14.285714285714286, 16.927899686520377, 18.166890580683685, 26.750261233019856, 34.184206597999705, 34.184206597999705, 54.903716972682496, 66.98014629049112, 67.51753993133303, 99.53724436483058, 114.92760113449769, 135.91580832960145, 163.41244961934618, 189.96865203761757, 215.4202119719361]}, {\"legendgroup\": \"France\", \"marker\": {\"color\": \"rgb(214, 39, 40)\"}, \"mode\": \"lines\", \"name\": \"France [delayed by -9 days]\", \"opacity\": 1, \"showlegend\": true, \"type\": \"scatter\", \"x\": [\"2020-02-27T00:00:00\", \"2020-02-28T00:00:00\", \"2020-02-29T00:00:00\", \"2020-03-01T00:00:00\", \"2020-03-02T00:00:00\", \"2020-03-03T00:00:00\", \"2020-03-04T00:00:00\", \"2020-03-05T00:00:00\", \"2020-03-06T00:00:00\", \"2020-03-07T00:00:00\", \"2020-03-08T00:00:00\", \"2020-03-09T00:00:00\", \"2020-03-10T00:00:00\", \"2020-03-11T00:00:00\", \"2020-03-12T00:00:00\"], \"y\": [14.285714285714286, 16.927899686520377, 18.166890580683685, 26.750261233019856, 34.184206597999705, 34.184206597999705, 54.903716972682496, 66.98014629049112, 67.51753993133303, 99.53724436483058, 114.92760113449769, 135.91580832960145, 163.41244961934618, 189.96865203761757, 215.4202119719361]}, {\"legendgroup\": \"Italy\", \"marker\": {\"color\": \"rgb(127, 127, 127)\", \"line\": {\"color\": \"rgb(127, 127, 127)\"}, \"symbol\": 3}, \"mode\": \"markers\", \"name\": \"\", \"opacity\": 1, \"showlegend\": true, \"type\": \"scatter\", \"x\": [\"2020-03-07T00:00:00\", \"2020-03-08T00:00:00\", \"2020-03-09T00:00:00\", \"2020-03-10T00:00:00\", \"2020-03-11T00:00:00\", \"2020-03-12T00:00:00\", \"2020-03-13T00:00:00\", \"2020-03-14T00:00:00\", \"2020-03-15T00:00:00\", \"2020-03-16T00:00:00\", \"2020-03-17T00:00:00\", \"2020-03-18T00:00:00\", \"2020-03-19T00:00:00\", \"2020-03-20T00:00:00\"], \"y\": [97.2718253968254, 121.94113756613757, 151.65343915343917, 167.8075396825397, 206.05158730158732, 206.05158730158732, 291.99735449735454, 349.8181216931217, 409.17658730158735, 462.63227513227514, 520.9325396825398, 590.4927248677249, 678.4887566137567, 777.4636243386244, 885.8796296296297]}, {\"legendgroup\": \"Italy\", \"marker\": {\"color\": \"rgb(127, 127, 127)\"}, \"mode\": \"lines\", \"name\": \"Italy [delayed by 0 days]\", \"opacity\": 1, \"showlegend\": true, \"type\": \"scatter\", \"x\": [\"2020-03-07T00:00:00\", \"2020-03-08T00:00:00\", \"2020-03-09T00:00:00\", \"2020-03-10T00:00:00\", \"2020-03-11T00:00:00\", \"2020-03-12T00:00:00\", \"2020-03-13T00:00:00\", \"2020-03-14T00:00:00\", \"2020-03-15T00:00:00\", \"2020-03-16T00:00:00\", \"2020-03-17T00:00:00\", \"2020-03-18T00:00:00\", \"2020-03-19T00:00:00\", \"2020-03-20T00:00:00\"], \"y\": [97.2718253968254, 121.94113756613757, 151.65343915343917, 167.8075396825397, 206.05158730158732, 206.05158730158732, 291.99735449735454, 349.8181216931217, 409.17658730158735, 462.63227513227514, 520.9325396825398, 590.4927248677249, 678.4887566137567, 777.4636243386244, 885.8796296296297]}, {\"legendgroup\": \"United Kingdom\", \"marker\": {\"color\": \"rgb(188, 189, 34)\", \"line\": {\"color\": \"rgb(188, 189, 34)\"}, \"symbol\": 6}, \"mode\": \"markers\", \"name\": \"\", \"opacity\": 1, \"showlegend\": true, \"type\": \"scatter\", \"x\": [\"2020-02-21T00:00:00\", \"2020-02-22T00:00:00\", \"2020-02-23T00:00:00\", \"2020-02-24T00:00:00\", \"2020-02-25T00:00:00\", \"2020-02-26T00:00:00\", \"2020-02-27T00:00:00\", \"2020-02-28T00:00:00\", \"2020-02-29T00:00:00\", \"2020-03-01T00:00:00\", \"2020-03-02T00:00:00\", \"2020-03-03T00:00:00\", \"2020-03-04T00:00:00\", \"2020-03-05T00:00:00\", \"2020-03-06T00:00:00\"], \"y\": [3.115593016255268, 4.124021673690548, 4.846478025285973, 5.779650812763395, 6.908488862131247, 6.908488862131247, 12.071041541240216, 17.218543046357617, 17.233594220349186, 23.344370860927153, 29.50030102347983, 39.76520168573149, 40.87898856110777, 60.41541240216737, 76.26429861529199]}, {\"legendgroup\": \"United Kingdom\", \"marker\": {\"color\": \"rgb(188, 189, 34)\"}, \"mode\": \"lines\", \"name\": \"United Kingdom [delayed by -15 days]\", \"opacity\": 1, \"showlegend\": true, \"type\": \"scatter\", \"x\": [\"2020-02-21T00:00:00\", \"2020-02-22T00:00:00\", \"2020-02-23T00:00:00\", \"2020-02-24T00:00:00\", \"2020-02-25T00:00:00\", \"2020-02-26T00:00:00\", \"2020-02-27T00:00:00\", \"2020-02-28T00:00:00\", \"2020-02-29T00:00:00\", \"2020-03-01T00:00:00\", \"2020-03-02T00:00:00\", \"2020-03-03T00:00:00\", \"2020-03-04T00:00:00\", \"2020-03-05T00:00:00\", \"2020-03-06T00:00:00\"], \"y\": [3.115593016255268, 4.124021673690548, 4.846478025285973, 5.779650812763395, 6.908488862131247, 6.908488862131247, 12.071041541240216, 17.218543046357617, 17.233594220349186, 23.344370860927153, 29.50030102347983, 39.76520168573149, 40.87898856110777, 60.41541240216737, 76.26429861529199]}, {\"legendgroup\": \"Spain\", \"marker\": {\"color\": \"rgb(148, 103, 189)\", \"line\": {\"color\": \"rgb(148, 103, 189)\"}, \"symbol\": 9}, \"mode\": \"markers\", \"name\": \"\", \"opacity\": 1, \"showlegend\": true, \"type\": \"scatter\", \"x\": [\"2020-03-02T00:00:00\", \"2020-03-03T00:00:00\", \"2020-03-04T00:00:00\", \"2020-03-05T00:00:00\", \"2020-03-06T00:00:00\", \"2020-03-07T00:00:00\", \"2020-03-08T00:00:00\", \"2020-03-09T00:00:00\", \"2020-03-10T00:00:00\", \"2020-03-11T00:00:00\", \"2020-03-12T00:00:00\", \"2020-03-13T00:00:00\", \"2020-03-14T00:00:00\", \"2020-03-15T00:00:00\", \"2020-03-16T00:00:00\"], \"y\": [10.715816545220747, 14.423489069867125, 22.996142306043723, 36.32661808829833, 48.79982854693528, 48.79982854693528, 112.1303043291899, 136.96956708101158, 167.12387483926275, 213.0732961851693, 251.77882554650665, 298.11401628804117, 384.97642520360057, 437.41963137591085, 543.8062580368625]}, {\"legendgroup\": \"Spain\", \"marker\": {\"color\": \"rgb(148, 103, 189)\"}, \"mode\": \"lines\", \"name\": \"Spain [delayed by -5 days]\", \"opacity\": 1, \"showlegend\": true, \"type\": \"scatter\", \"x\": [\"2020-03-02T00:00:00\", \"2020-03-03T00:00:00\", \"2020-03-04T00:00:00\", \"2020-03-05T00:00:00\", \"2020-03-06T00:00:00\", \"2020-03-07T00:00:00\", \"2020-03-08T00:00:00\", \"2020-03-09T00:00:00\", \"2020-03-10T00:00:00\", \"2020-03-11T00:00:00\", \"2020-03-12T00:00:00\", \"2020-03-13T00:00:00\", \"2020-03-14T00:00:00\", \"2020-03-15T00:00:00\", \"2020-03-16T00:00:00\"], \"y\": [10.715816545220747, 14.423489069867125, 22.996142306043723, 36.32661808829833, 48.79982854693528, 48.79982854693528, 112.1303043291899, 136.96956708101158, 167.12387483926275, 213.0732961851693, 251.77882554650665, 298.11401628804117, 384.97642520360057, 437.41963137591085, 543.8062580368625]}, {\"legendgroup\": \"Germany\", \"marker\": {\"color\": \"rgb(44, 160, 44)\", \"line\": {\"color\": \"rgb(44, 160, 44)\"}, \"symbol\": 12}, \"mode\": \"markers\", \"name\": \"\", \"opacity\": 1, \"showlegend\": true, \"type\": \"scatter\", \"x\": [\"2020-02-27T00:00:00\", \"2020-02-28T00:00:00\", \"2020-02-29T00:00:00\", \"2020-03-01T00:00:00\", \"2020-03-02T00:00:00\", \"2020-03-03T00:00:00\", \"2020-03-04T00:00:00\", \"2020-03-05T00:00:00\", \"2020-03-06T00:00:00\", \"2020-03-07T00:00:00\", \"2020-03-08T00:00:00\", \"2020-03-09T00:00:00\", \"2020-03-10T00:00:00\", \"2020-03-11T00:00:00\", \"2020-03-12T00:00:00\"], \"y\": [9.650924024640656, 12.561903611547287, 14.204614083826549, 17.598743809638844, 23.046261625800216, 25.09964971614929, 44.38941901195796, 55.38108467206184, 69.9963763739582, 87.83669525304988, 111.8130208962435, 148.89479405725328, 185.04650320086967, 239.7390989249909, 268.30535088778834]}, {\"legendgroup\": \"Germany\", \"marker\": {\"color\": \"rgb(44, 160, 44)\"}, \"mode\": \"lines\", \"name\": \"Germany [delayed by -9 days]\", \"opacity\": 1, \"showlegend\": true, \"type\": \"scatter\", \"x\": [\"2020-02-27T00:00:00\", \"2020-02-28T00:00:00\", \"2020-02-29T00:00:00\", \"2020-03-01T00:00:00\", \"2020-03-02T00:00:00\", \"2020-03-03T00:00:00\", \"2020-03-04T00:00:00\", \"2020-03-05T00:00:00\", \"2020-03-06T00:00:00\", \"2020-03-07T00:00:00\", \"2020-03-08T00:00:00\", \"2020-03-09T00:00:00\", \"2020-03-10T00:00:00\", \"2020-03-11T00:00:00\", \"2020-03-12T00:00:00\"], \"y\": [9.650924024640656, 12.561903611547287, 14.204614083826549, 17.598743809638844, 23.046261625800216, 25.09964971614929, 44.38941901195796, 55.38108467206184, 69.9963763739582, 87.83669525304988, 111.8130208962435, 148.89479405725328, 185.04650320086967, 239.7390989249909, 268.30535088778834]}, {\"legendgroup\": \"Belgium\", \"marker\": {\"color\": \"rgb(227, 119, 194)\", \"line\": {\"color\": \"rgb(227, 119, 194)\"}, \"symbol\": 15}, \"mode\": \"markers\", \"name\": \"\", \"opacity\": 1, \"showlegend\": true, \"type\": \"scatter\", \"x\": [\"2020-02-27T00:00:00\", \"2020-02-28T00:00:00\", \"2020-02-29T00:00:00\", \"2020-03-01T00:00:00\", \"2020-03-02T00:00:00\", \"2020-03-03T00:00:00\", \"2020-03-04T00:00:00\", \"2020-03-05T00:00:00\", \"2020-03-06T00:00:00\", \"2020-03-07T00:00:00\", \"2020-03-08T00:00:00\", \"2020-03-09T00:00:00\", \"2020-03-10T00:00:00\", \"2020-03-11T00:00:00\", \"2020-03-12T00:00:00\"], \"y\": [14.824561403508772, 17.543859649122805, 20.964912280701753, 23.421052631578945, 27.543859649122805, 27.543859649122805, 49.03508771929825, 60.43859649122807, 77.71929824561403, 92.80701754385964, 109.03508771929825, 130.35087719298247, 157.45614035087718, 197.98245614035088, 246.9298245614035]}, {\"legendgroup\": \"Belgium\", \"marker\": {\"color\": \"rgb(227, 119, 194)\"}, \"mode\": \"lines\", \"name\": \"Belgium [delayed by -9 days]\", \"opacity\": 1, \"showlegend\": true, \"type\": \"scatter\", \"x\": [\"2020-02-27T00:00:00\", \"2020-02-28T00:00:00\", \"2020-02-29T00:00:00\", \"2020-03-01T00:00:00\", \"2020-03-02T00:00:00\", \"2020-03-03T00:00:00\", \"2020-03-04T00:00:00\", \"2020-03-05T00:00:00\", \"2020-03-06T00:00:00\", \"2020-03-07T00:00:00\", \"2020-03-08T00:00:00\", \"2020-03-09T00:00:00\", \"2020-03-10T00:00:00\", \"2020-03-11T00:00:00\", \"2020-03-12T00:00:00\"], \"y\": [14.824561403508772, 17.543859649122805, 20.964912280701753, 23.421052631578945, 27.543859649122805, 27.543859649122805, 49.03508771929825, 60.43859649122807, 77.71929824561403, 92.80701754385964, 109.03508771929825, 130.35087719298247, 157.45614035087718, 197.98245614035088, 246.9298245614035]}, {\"legendgroup\": \"Luxembourg\", \"marker\": {\"color\": \"rgb(23, 190, 207)\", \"line\": {\"color\": \"rgb(23, 190, 207)\"}, \"symbol\": 18}, \"mode\": \"markers\", \"name\": \"\", \"opacity\": 1, \"showlegend\": true, \"type\": \"scatter\", \"x\": [\"2020-03-02T00:00:00\", \"2020-03-03T00:00:00\", \"2020-03-04T00:00:00\", \"2020-03-05T00:00:00\", \"2020-03-06T00:00:00\", \"2020-03-07T00:00:00\", \"2020-03-08T00:00:00\", \"2020-03-09T00:00:00\", \"2020-03-10T00:00:00\", \"2020-03-11T00:00:00\", \"2020-03-12T00:00:00\", \"2020-03-13T00:00:00\", \"2020-03-14T00:00:00\", \"2020-03-15T00:00:00\", \"2020-03-16T00:00:00\"], \"y\": [3.3222591362126246, 4.983388704318937, 4.983388704318937, 8.305647840531561, 11.627906976744187, 31.561461794019934, 56.47840531561462, 84.71760797342193, 98.00664451827242, 127.90697674418605, 232.55813953488374, 337.2093023255814, 556.4784053156146, 803.9867109634552, 1112.9568106312292]}, {\"legendgroup\": \"Luxembourg\", \"marker\": {\"color\": \"rgb(23, 190, 207)\"}, \"mode\": \"lines\", \"name\": \"Luxembourg [delayed by -5 days]\", \"opacity\": 1, \"showlegend\": true, \"type\": \"scatter\", \"x\": [\"2020-03-02T00:00:00\", \"2020-03-03T00:00:00\", \"2020-03-04T00:00:00\", \"2020-03-05T00:00:00\", \"2020-03-06T00:00:00\", \"2020-03-07T00:00:00\", \"2020-03-08T00:00:00\", \"2020-03-09T00:00:00\", \"2020-03-10T00:00:00\", \"2020-03-11T00:00:00\", \"2020-03-12T00:00:00\", \"2020-03-13T00:00:00\", \"2020-03-14T00:00:00\", \"2020-03-15T00:00:00\", \"2020-03-16T00:00:00\"], \"y\": [3.3222591362126246, 4.983388704318937, 4.983388704318937, 8.305647840531561, 11.627906976744187, 31.561461794019934, 56.47840531561462, 84.71760797342193, 98.00664451827242, 127.90697674418605, 232.55813953488374, 337.2093023255814, 556.4784053156146, 803.9867109634552, 1112.9568106312292]}, {\"legendgroup\": \"US\", \"marker\": {\"color\": \"rgb(31, 119, 180)\", \"line\": {\"color\": \"rgb(31, 119, 180)\"}, \"symbol\": 21}, \"mode\": \"markers\", \"name\": \"\", \"opacity\": 1, \"showlegend\": true, \"type\": \"scatter\", \"x\": [\"2020-02-20T00:00:00\", \"2020-02-21T00:00:00\", \"2020-02-22T00:00:00\", \"2020-02-23T00:00:00\", \"2020-02-24T00:00:00\", \"2020-02-25T00:00:00\", \"2020-02-26T00:00:00\", \"2020-02-27T00:00:00\", \"2020-02-28T00:00:00\", \"2020-02-29T00:00:00\", \"2020-03-01T00:00:00\", \"2020-03-02T00:00:00\", \"2020-03-03T00:00:00\", \"2020-03-04T00:00:00\", \"2020-03-05T00:00:00\"], \"y\": [1.2293577981651376, 1.584097859327217, 1.782874617737003, 2.932721712538226, 3.9174311926605503, 5.085626911314985, 6.663608562691132, 8.339449541284404, 10.700305810397554, 14.1651376146789, 19.636085626911314, 23.801223241590215, 41.825688073394495, 58.40978593272171, 77.9480122324159]}, {\"legendgroup\": \"US\", \"marker\": {\"color\": \"rgb(31, 119, 180)\"}, \"mode\": \"lines\", \"name\": \"US [delayed by -16 days]\", \"opacity\": 1, \"showlegend\": true, \"type\": \"scatter\", \"x\": [\"2020-02-20T00:00:00\", \"2020-02-21T00:00:00\", \"2020-02-22T00:00:00\", \"2020-02-23T00:00:00\", \"2020-02-24T00:00:00\", \"2020-02-25T00:00:00\", \"2020-02-26T00:00:00\", \"2020-02-27T00:00:00\", \"2020-02-28T00:00:00\", \"2020-02-29T00:00:00\", \"2020-03-01T00:00:00\", \"2020-03-02T00:00:00\", \"2020-03-03T00:00:00\", \"2020-03-04T00:00:00\", \"2020-03-05T00:00:00\"], \"y\": [1.2293577981651376, 1.584097859327217, 1.782874617737003, 2.932721712538226, 3.9174311926605503, 5.085626911314985, 6.663608562691132, 8.339449541284404, 10.700305810397554, 14.1651376146789, 19.636085626911314, 23.801223241590215, 41.825688073394495, 58.40978593272171, 77.9480122324159]}, {\"legendgroup\": \"Canada\", \"marker\": {\"color\": \"rgb(255, 127, 14)\", \"line\": {\"color\": \"rgb(255, 127, 14)\"}, \"symbol\": 24}, \"mode\": \"markers\", \"name\": \"\", \"opacity\": 1, \"showlegend\": true, \"type\": \"scatter\", \"x\": [\"2020-02-17T00:00:00\", \"2020-02-18T00:00:00\", \"2020-02-19T00:00:00\", \"2020-02-20T00:00:00\", \"2020-02-21T00:00:00\", \"2020-02-22T00:00:00\", \"2020-02-23T00:00:00\", \"2020-02-24T00:00:00\", \"2020-02-25T00:00:00\", \"2020-02-26T00:00:00\", \"2020-02-27T00:00:00\", \"2020-02-28T00:00:00\", \"2020-02-29T00:00:00\", \"2020-03-01T00:00:00\", \"2020-03-02T00:00:00\"], \"y\": [1.4365522745411012, 1.7025804735301941, 2.0484171322160147, 2.101622772013833, 2.8731045490822025, 3.112529928172386, 5.134344240489491, 5.267358339984038, 6.703910614525139, 11.040170258047352, 12.716147911678636, 17.4780526735834, 21.282255919127426, 25.086459164671453, 33.99840383080606]}, {\"legendgroup\": \"Canada\", \"marker\": {\"color\": \"rgb(255, 127, 14)\"}, \"mode\": \"lines\", \"name\": \"Canada [delayed by -19 days]\", \"opacity\": 1, \"showlegend\": true, \"type\": \"scatter\", \"x\": [\"2020-02-17T00:00:00\", \"2020-02-18T00:00:00\", \"2020-02-19T00:00:00\", \"2020-02-20T00:00:00\", \"2020-02-21T00:00:00\", \"2020-02-22T00:00:00\", \"2020-02-23T00:00:00\", \"2020-02-24T00:00:00\", \"2020-02-25T00:00:00\", \"2020-02-26T00:00:00\", \"2020-02-27T00:00:00\", \"2020-02-28T00:00:00\", \"2020-02-29T00:00:00\", \"2020-03-01T00:00:00\", \"2020-03-02T00:00:00\"], \"y\": [1.4365522745411012, 1.7025804735301941, 2.0484171322160147, 2.101622772013833, 2.8731045490822025, 3.112529928172386, 5.134344240489491, 5.267358339984038, 6.703910614525139, 11.040170258047352, 12.716147911678636, 17.4780526735834, 21.282255919127426, 25.086459164671453, 33.99840383080606]}, {\"legendgroup\": \"Switzerland\", \"marker\": {\"color\": \"rgb(140, 86, 75)\", \"line\": {\"color\": \"rgb(140, 86, 75)\"}, \"symbol\": 27}, \"mode\": \"markers\", \"name\": \"\", \"opacity\": 1, \"showlegend\": true, \"type\": \"scatter\", \"x\": [\"2020-03-03T00:00:00\", \"2020-03-04T00:00:00\", \"2020-03-05T00:00:00\", \"2020-03-06T00:00:00\", \"2020-03-07T00:00:00\", \"2020-03-08T00:00:00\", \"2020-03-09T00:00:00\", \"2020-03-10T00:00:00\", \"2020-03-11T00:00:00\", \"2020-03-12T00:00:00\", \"2020-03-13T00:00:00\", \"2020-03-14T00:00:00\", \"2020-03-15T00:00:00\", \"2020-03-16T00:00:00\", \"2020-03-17T00:00:00\"], \"y\": [31.271878646441074, 39.323220536756125, 43.64060676779463, 57.2928821470245, 76.07934655775962, 76.07934655775962, 132.90548424737455, 158.5764294049008, 256.70945157526256, 256.70945157526256, 315.05250875145856, 353.32555425904314, 475.49591598599767, 617.7362893815636, 767.2112018669778]}, {\"legendgroup\": \"Switzerland\", \"marker\": {\"color\": \"rgb(140, 86, 75)\"}, \"mode\": \"lines\", \"name\": \"Switzerland [delayed by -4 days]\", \"opacity\": 1, \"showlegend\": true, \"type\": \"scatter\", \"x\": [\"2020-03-03T00:00:00\", \"2020-03-04T00:00:00\", \"2020-03-05T00:00:00\", \"2020-03-06T00:00:00\", \"2020-03-07T00:00:00\", \"2020-03-08T00:00:00\", \"2020-03-09T00:00:00\", \"2020-03-10T00:00:00\", \"2020-03-11T00:00:00\", \"2020-03-12T00:00:00\", \"2020-03-13T00:00:00\", \"2020-03-14T00:00:00\", \"2020-03-15T00:00:00\", \"2020-03-16T00:00:00\", \"2020-03-17T00:00:00\"], \"y\": [31.271878646441074, 39.323220536756125, 43.64060676779463, 57.2928821470245, 76.07934655775962, 76.07934655775962, 132.90548424737455, 158.5764294049008, 256.70945157526256, 256.70945157526256, 315.05250875145856, 353.32555425904314, 475.49591598599767, 617.7362893815636, 767.2112018669778]}],\n",
       "                        {\"annotations\": [{\"showarrow\": false, \"text\": \"Last update: 2020-03-22 08:53 ; Last data: 2020-03-21 ; Data: CSSE ; Author: @guillaumerozier\", \"x\": 0, \"xref\": \"paper\", \"y\": 1.1, \"yref\": \"paper\"}], \"template\": {\"data\": {\"bar\": [{\"error_x\": {\"color\": \"#2a3f5f\"}, \"error_y\": {\"color\": \"#2a3f5f\"}, \"marker\": {\"line\": {\"color\": \"#E5ECF6\", \"width\": 0.5}}, \"type\": \"bar\"}], \"barpolar\": [{\"marker\": {\"line\": {\"color\": \"#E5ECF6\", \"width\": 0.5}}, \"type\": \"barpolar\"}], \"carpet\": [{\"aaxis\": {\"endlinecolor\": \"#2a3f5f\", \"gridcolor\": \"white\", \"linecolor\": \"white\", \"minorgridcolor\": \"white\", \"startlinecolor\": \"#2a3f5f\"}, \"baxis\": {\"endlinecolor\": \"#2a3f5f\", \"gridcolor\": \"white\", \"linecolor\": \"white\", \"minorgridcolor\": \"white\", \"startlinecolor\": \"#2a3f5f\"}, \"type\": \"carpet\"}], \"choropleth\": [{\"colorbar\": {\"outlinewidth\": 0, \"ticks\": \"\"}, \"type\": \"choropleth\"}], \"contour\": [{\"colorbar\": {\"outlinewidth\": 0, \"ticks\": \"\"}, \"colorscale\": [[0.0, \"#0d0887\"], [0.1111111111111111, \"#46039f\"], [0.2222222222222222, \"#7201a8\"], [0.3333333333333333, \"#9c179e\"], [0.4444444444444444, \"#bd3786\"], [0.5555555555555556, \"#d8576b\"], [0.6666666666666666, \"#ed7953\"], [0.7777777777777778, \"#fb9f3a\"], [0.8888888888888888, \"#fdca26\"], [1.0, \"#f0f921\"]], \"type\": \"contour\"}], \"contourcarpet\": [{\"colorbar\": {\"outlinewidth\": 0, \"ticks\": \"\"}, \"type\": \"contourcarpet\"}], \"heatmap\": [{\"colorbar\": {\"outlinewidth\": 0, \"ticks\": \"\"}, \"colorscale\": [[0.0, \"#0d0887\"], [0.1111111111111111, \"#46039f\"], [0.2222222222222222, \"#7201a8\"], [0.3333333333333333, \"#9c179e\"], [0.4444444444444444, \"#bd3786\"], [0.5555555555555556, \"#d8576b\"], [0.6666666666666666, \"#ed7953\"], [0.7777777777777778, \"#fb9f3a\"], [0.8888888888888888, \"#fdca26\"], [1.0, \"#f0f921\"]], \"type\": \"heatmap\"}], \"heatmapgl\": [{\"colorbar\": {\"outlinewidth\": 0, \"ticks\": \"\"}, \"colorscale\": [[0.0, \"#0d0887\"], [0.1111111111111111, \"#46039f\"], [0.2222222222222222, \"#7201a8\"], [0.3333333333333333, \"#9c179e\"], [0.4444444444444444, \"#bd3786\"], [0.5555555555555556, \"#d8576b\"], [0.6666666666666666, \"#ed7953\"], [0.7777777777777778, \"#fb9f3a\"], [0.8888888888888888, \"#fdca26\"], [1.0, \"#f0f921\"]], \"type\": \"heatmapgl\"}], \"histogram\": [{\"marker\": {\"colorbar\": {\"outlinewidth\": 0, \"ticks\": \"\"}}, \"type\": \"histogram\"}], \"histogram2d\": [{\"colorbar\": {\"outlinewidth\": 0, \"ticks\": \"\"}, \"colorscale\": [[0.0, \"#0d0887\"], [0.1111111111111111, \"#46039f\"], [0.2222222222222222, \"#7201a8\"], [0.3333333333333333, \"#9c179e\"], [0.4444444444444444, \"#bd3786\"], [0.5555555555555556, \"#d8576b\"], [0.6666666666666666, \"#ed7953\"], [0.7777777777777778, \"#fb9f3a\"], [0.8888888888888888, \"#fdca26\"], [1.0, \"#f0f921\"]], \"type\": \"histogram2d\"}], \"histogram2dcontour\": [{\"colorbar\": {\"outlinewidth\": 0, \"ticks\": \"\"}, \"colorscale\": [[0.0, \"#0d0887\"], [0.1111111111111111, \"#46039f\"], [0.2222222222222222, \"#7201a8\"], [0.3333333333333333, \"#9c179e\"], [0.4444444444444444, \"#bd3786\"], [0.5555555555555556, \"#d8576b\"], [0.6666666666666666, \"#ed7953\"], [0.7777777777777778, \"#fb9f3a\"], [0.8888888888888888, \"#fdca26\"], [1.0, \"#f0f921\"]], \"type\": \"histogram2dcontour\"}], \"mesh3d\": [{\"colorbar\": {\"outlinewidth\": 0, \"ticks\": \"\"}, \"type\": \"mesh3d\"}], \"parcoords\": [{\"line\": {\"colorbar\": {\"outlinewidth\": 0, \"ticks\": \"\"}}, \"type\": \"parcoords\"}], \"pie\": [{\"automargin\": true, \"type\": \"pie\"}], \"scatter\": [{\"marker\": {\"colorbar\": {\"outlinewidth\": 0, \"ticks\": \"\"}}, \"type\": \"scatter\"}], \"scatter3d\": [{\"line\": {\"colorbar\": {\"outlinewidth\": 0, \"ticks\": \"\"}}, \"marker\": {\"colorbar\": {\"outlinewidth\": 0, \"ticks\": \"\"}}, \"type\": \"scatter3d\"}], \"scattercarpet\": [{\"marker\": {\"colorbar\": {\"outlinewidth\": 0, \"ticks\": \"\"}}, \"type\": \"scattercarpet\"}], \"scattergeo\": [{\"marker\": {\"colorbar\": {\"outlinewidth\": 0, \"ticks\": \"\"}}, \"type\": \"scattergeo\"}], \"scattergl\": [{\"marker\": {\"colorbar\": {\"outlinewidth\": 0, \"ticks\": \"\"}}, \"type\": \"scattergl\"}], \"scattermapbox\": [{\"marker\": {\"colorbar\": {\"outlinewidth\": 0, \"ticks\": \"\"}}, \"type\": \"scattermapbox\"}], \"scatterpolar\": [{\"marker\": {\"colorbar\": {\"outlinewidth\": 0, \"ticks\": \"\"}}, \"type\": \"scatterpolar\"}], \"scatterpolargl\": [{\"marker\": {\"colorbar\": {\"outlinewidth\": 0, \"ticks\": \"\"}}, \"type\": \"scatterpolargl\"}], \"scatterternary\": [{\"marker\": {\"colorbar\": {\"outlinewidth\": 0, \"ticks\": \"\"}}, \"type\": \"scatterternary\"}], \"surface\": [{\"colorbar\": {\"outlinewidth\": 0, \"ticks\": \"\"}, \"colorscale\": [[0.0, \"#0d0887\"], [0.1111111111111111, \"#46039f\"], [0.2222222222222222, \"#7201a8\"], [0.3333333333333333, \"#9c179e\"], [0.4444444444444444, \"#bd3786\"], [0.5555555555555556, \"#d8576b\"], [0.6666666666666666, \"#ed7953\"], [0.7777777777777778, \"#fb9f3a\"], [0.8888888888888888, \"#fdca26\"], [1.0, \"#f0f921\"]], \"type\": \"surface\"}], \"table\": [{\"cells\": {\"fill\": {\"color\": \"#EBF0F8\"}, \"line\": {\"color\": \"white\"}}, \"header\": {\"fill\": {\"color\": \"#C8D4E3\"}, \"line\": {\"color\": \"white\"}}, \"type\": \"table\"}]}, \"layout\": {\"annotationdefaults\": {\"arrowcolor\": \"#2a3f5f\", \"arrowhead\": 0, \"arrowwidth\": 1}, \"coloraxis\": {\"colorbar\": {\"outlinewidth\": 0, \"ticks\": \"\"}}, \"colorscale\": {\"diverging\": [[0, \"#8e0152\"], [0.1, \"#c51b7d\"], [0.2, \"#de77ae\"], [0.3, \"#f1b6da\"], [0.4, \"#fde0ef\"], [0.5, \"#f7f7f7\"], [0.6, \"#e6f5d0\"], [0.7, \"#b8e186\"], [0.8, \"#7fbc41\"], [0.9, \"#4d9221\"], [1, \"#276419\"]], \"sequential\": [[0.0, \"#0d0887\"], [0.1111111111111111, \"#46039f\"], [0.2222222222222222, \"#7201a8\"], [0.3333333333333333, \"#9c179e\"], [0.4444444444444444, \"#bd3786\"], [0.5555555555555556, \"#d8576b\"], [0.6666666666666666, \"#ed7953\"], [0.7777777777777778, \"#fb9f3a\"], [0.8888888888888888, \"#fdca26\"], [1.0, \"#f0f921\"]], \"sequentialminus\": [[0.0, \"#0d0887\"], [0.1111111111111111, \"#46039f\"], [0.2222222222222222, \"#7201a8\"], [0.3333333333333333, \"#9c179e\"], [0.4444444444444444, \"#bd3786\"], [0.5555555555555556, \"#d8576b\"], [0.6666666666666666, \"#ed7953\"], [0.7777777777777778, \"#fb9f3a\"], [0.8888888888888888, \"#fdca26\"], [1.0, \"#f0f921\"]]}, \"colorway\": [\"#636efa\", \"#EF553B\", \"#00cc96\", \"#ab63fa\", \"#FFA15A\", \"#19d3f3\", \"#FF6692\", \"#B6E880\", \"#FF97FF\", \"#FECB52\"], \"font\": {\"color\": \"#2a3f5f\"}, \"geo\": {\"bgcolor\": \"white\", \"lakecolor\": \"white\", \"landcolor\": \"#E5ECF6\", \"showlakes\": true, \"showland\": true, \"subunitcolor\": \"white\"}, \"hoverlabel\": {\"align\": \"left\"}, \"hovermode\": \"closest\", \"mapbox\": {\"style\": \"light\"}, \"paper_bgcolor\": \"white\", \"plot_bgcolor\": \"#E5ECF6\", \"polar\": {\"angularaxis\": {\"gridcolor\": \"white\", \"linecolor\": \"white\", \"ticks\": \"\"}, \"bgcolor\": \"#E5ECF6\", \"radialaxis\": {\"gridcolor\": \"white\", \"linecolor\": \"white\", \"ticks\": \"\"}}, \"scene\": {\"xaxis\": {\"backgroundcolor\": \"#E5ECF6\", \"gridcolor\": \"white\", \"gridwidth\": 2, \"linecolor\": \"white\", \"showbackground\": true, \"ticks\": \"\", \"zerolinecolor\": \"white\"}, \"yaxis\": {\"backgroundcolor\": \"#E5ECF6\", \"gridcolor\": \"white\", \"gridwidth\": 2, \"linecolor\": \"white\", \"showbackground\": true, \"ticks\": \"\", \"zerolinecolor\": \"white\"}, \"zaxis\": {\"backgroundcolor\": \"#E5ECF6\", \"gridcolor\": \"white\", \"gridwidth\": 2, \"linecolor\": \"white\", \"showbackground\": true, \"ticks\": \"\", \"zerolinecolor\": \"white\"}}, \"shapedefaults\": {\"line\": {\"color\": \"#2a3f5f\"}}, \"ternary\": {\"aaxis\": {\"gridcolor\": \"white\", \"linecolor\": \"white\", \"ticks\": \"\"}, \"baxis\": {\"gridcolor\": \"white\", \"linecolor\": \"white\", \"ticks\": \"\"}, \"bgcolor\": \"#E5ECF6\", \"caxis\": {\"gridcolor\": \"white\", \"linecolor\": \"white\", \"ticks\": \"\"}}, \"title\": {\"x\": 0.05}, \"xaxis\": {\"automargin\": true, \"gridcolor\": \"white\", \"linecolor\": \"white\", \"ticks\": \"\", \"title\": {\"standoff\": 15}, \"zerolinecolor\": \"white\", \"zerolinewidth\": 2}, \"yaxis\": {\"automargin\": true, \"gridcolor\": \"white\", \"linecolor\": \"white\", \"ticks\": \"\", \"title\": {\"standoff\": 15}, \"zerolinecolor\": \"white\", \"zerolinewidth\": 2}}}, \"title\": {\"text\": \"COVID-19 total cases over time for 1 million inhabitants [aligned for comparison]\"}, \"xaxis\": {\"nticks\": 15, \"title\": {\"text\": \"Time (day) \\u2014 delayed for some countries\"}}, \"yaxis\": {\"title\": {\"text\": \"COVID-19 total confirmed cases / nb of inhabitants (million)\"}}},\n",
       "                        {\"responsive\": true}\n",
       "                    ).then(function(){\n",
       "                            \n",
       "var gd = document.getElementById('326e5b21-1034-44dd-b8ac-cf84ecc52be2');\n",
       "var x = new MutationObserver(function (mutations, observer) {{\n",
       "        var display = window.getComputedStyle(gd).display;\n",
       "        if (!display || display === 'none') {{\n",
       "            console.log([gd, 'removed!']);\n",
       "            Plotly.purge(gd);\n",
       "            observer.disconnect();\n",
       "        }}\n",
       "}});\n",
       "\n",
       "// Listen for the removal of the full notebook cells\n",
       "var notebookContainer = gd.closest('#notebook-container');\n",
       "if (notebookContainer) {{\n",
       "    x.observe(notebookContainer, {childList: true});\n",
       "}}\n",
       "\n",
       "// Listen for the clearing of the current output cell\n",
       "var outputEl = gd.closest('.output');\n",
       "if (outputEl) {{\n",
       "    x.observe(outputEl, {childList: true});\n",
       "}}\n",
       "\n",
       "                        })\n",
       "                };\n",
       "                });\n",
       "            </script>\n",
       "        </div>"
      ]
     },
     "metadata": {},
     "output_type": "display_data"
    },
    {
     "name": "stdout",
     "output_type": "stream",
     "text": [
      "> graph 3 exported\n"
     ]
    }
   ],
   "source": [
    "import plotly.graph_objects as go\n",
    "\n",
    "fig = go.Figure()\n",
    "\n",
    "last_d = 15\n",
    "#countries[\"Luxembourg\"][\"offset_confirmed\"] = 9\n",
    "#countries[\"Belgium\"][\"offset_confirmed\"] = 8\n",
    "i=0\n",
    "for c in countries:\n",
    "    if c != \"eipeepz\":\n",
    "        offset = countries[c]['offset_confirmed']\n",
    "        offset2 = offset\n",
    "        \n",
    "        if offset==0: offset2 = 1\n",
    "        pop = countries[c]['pop']\n",
    "\n",
    "        fig.add_trace(go.Scatter(x = data_confirmed['date'][ -last_d - offset : - offset2], y = data_confirmed[c][-last_d:] / pop,\n",
    "                        mode='markers',\n",
    "                        marker_color=colors[i],\n",
    "                        legendgroup=c,\n",
    "                        marker_symbol= 3*i,\n",
    "                        #marker_size=4,\n",
    "                        marker_line_color=colors[i],\n",
    "                        #marker_line_width=2,\n",
    "                        opacity=1,\n",
    "                        showlegend=True,\n",
    "                        name=''.format(\"\")))\n",
    "\n",
    "        fig.add_trace(go.Scatter(x = data_confirmed_rolling['date'][ -last_d - offset : - offset2], y = data_confirmed_rolling[c][-last_d:] / pop,\n",
    "                        mode='lines',\n",
    "                        marker_color=colors[i],\n",
    "                        opacity=1,\n",
    "                        legendgroup=c,\n",
    "                        showlegend=True,\n",
    "                        name='{} [delayed by {} days]'.format(c, -offset)))\n",
    "        i+=1\n",
    "        if i >= 10:\n",
    "            i=0\n",
    "\n",
    "fig.update_layout(\n",
    "    title=\"COVID-19 total cases over time for 1 million inhabitants [aligned for comparison]\",\n",
    "    xaxis_title=\"Time (day) — delayed for some countries\",\n",
    "    yaxis_title=\"COVID-19 total confirmed cases / nb of inhabitants (million)\",\n",
    "    annotations = [dict(xref='paper',\n",
    "        yref='paper',\n",
    "        x=0, y=1.1,\n",
    "        showarrow=False,\n",
    "        text ='Last update: {} ; Last data: {} ; Data: CSSE ; Author: @guillaumerozier'.format(today, str(data_confirmed['date'].values[-1])[:10]))]\n",
    ")\n",
    "\n",
    "\n",
    "fig.update_xaxes(nticks = last_d)\n",
    "plotly.offline.plot(fig, filename = 'cases_aligned.html', auto_open=False)\n",
    "\n",
    "print(\"> graph 3 built\")\n",
    "\n",
    "if upload:\n",
    "    py.plot(fig, filename = 'cases-aligned', auto_open=False)\n",
    "\n",
    "if show:\n",
    "    fig.show()\n",
    "    \n",
    "if export:\n",
    "    fig.write_image(\"images/cases_per_1m_inhabitant_aligned.png\", scale=5, width=1100, height=700)\n",
    "    print(\"> graph 3 exported\")\n",
    "    \n",
    "    #print(data_confirmed.info())"
   ]
  },
  {
   "cell_type": "code",
   "execution_count": 172,
   "metadata": {},
   "outputs": [
    {
     "name": "stdout",
     "output_type": "stream",
     "text": [
      "> graph 5 built\n"
     ]
    },
    {
     "data": {
      "application/vnd.plotly.v1+json": {
       "config": {
        "plotlyServerURL": "https://plot.ly"
       },
       "data": [
        {
         "legendgroup": "France",
         "marker": {
          "color": "rgb(214, 39, 40)",
          "line": {
           "color": "rgb(214, 39, 40)"
          },
          "size": 9,
          "symbol": 0
         },
         "mode": "markers",
         "name": "",
         "opacity": 1,
         "showlegend": true,
         "type": "scatter",
         "x": [
          0,
          1,
          2,
          3,
          4,
          5,
          6,
          7,
          8,
          9,
          10,
          11
         ],
         "y": [
          26.746268656716417,
          34.17910447761194,
          34.17910447761194,
          54.8955223880597,
          66.97014925373135,
          67.50746268656717,
          99.5223880597015,
          114.91044776119404,
          135.8955223880597,
          163.38805970149255,
          189.9402985074627,
          215.38805970149255
         ]
        },
        {
         "legendgroup": "France",
         "line": {
          "width": 2
         },
         "marker": {
          "color": "rgb(214, 39, 40)"
         },
         "mode": "lines",
         "name": "France [last 12 days]",
         "opacity": 1,
         "showlegend": true,
         "type": "scatter",
         "x": [
          0,
          1,
          2,
          3,
          4,
          5,
          6,
          7,
          8,
          9,
          10,
          11
         ],
         "y": [
          26.746268656716417,
          34.17910447761194,
          34.17910447761194,
          54.8955223880597,
          66.97014925373135,
          67.50746268656717,
          99.5223880597015,
          114.91044776119404,
          135.8955223880597,
          163.38805970149255,
          189.9402985074627,
          215.38805970149255
         ]
        },
        {
         "legendgroup": "Italy",
         "marker": {
          "color": "rgb(127, 127, 127)",
          "line": {
           "color": "rgb(127, 127, 127)"
          },
          "size": 9,
          "symbol": 3
         },
         "mode": "markers",
         "name": "",
         "opacity": 1,
         "showlegend": true,
         "type": "scatter",
         "x": [
          0,
          1,
          2,
          3,
          4,
          5,
          6,
          7,
          8,
          9,
          10,
          11,
          12,
          13,
          14,
          15,
          16,
          17,
          18,
          19,
          20
         ],
         "y": [
          28.233333333333334,
          33.93333333333333,
          41.7,
          51.483333333333334,
          64.3,
          77.26666666666667,
          98.05,
          122.91666666666667,
          152.86666666666667,
          169.15,
          207.7,
          207.7,
          294.3333333333333,
          352.6166666666667,
          412.45,
          466.3333333333333,
          525.1,
          595.2166666666667,
          683.9166666666666,
          783.6833333333333,
          892.9666666666667
         ]
        },
        {
         "legendgroup": "Italy",
         "line": {
          "width": 2
         },
         "marker": {
          "color": "rgb(127, 127, 127)"
         },
         "mode": "lines",
         "name": "Italy [last 21 days]",
         "opacity": 1,
         "showlegend": true,
         "type": "scatter",
         "x": [
          0,
          1,
          2,
          3,
          4,
          5,
          6,
          7,
          8,
          9,
          10,
          11,
          12,
          13,
          14,
          15,
          16,
          17,
          18,
          19,
          20
         ],
         "y": [
          28.233333333333334,
          33.93333333333333,
          41.7,
          51.483333333333334,
          64.3,
          77.26666666666667,
          98.05,
          122.91666666666667,
          152.86666666666667,
          169.15,
          207.7,
          207.7,
          294.3333333333333,
          352.6166666666667,
          412.45,
          466.3333333333333,
          525.1,
          595.2166666666667,
          683.9166666666666,
          783.6833333333333,
          892.9666666666667
         ]
        },
        {
         "legendgroup": "United Kingdom",
         "marker": {
          "color": "rgb(188, 189, 34)",
          "line": {
           "color": "rgb(188, 189, 34)"
          },
          "size": 9,
          "symbol": 6
         },
         "mode": "markers",
         "name": "",
         "opacity": 1,
         "showlegend": true,
         "type": "scatter",
         "x": [
          0,
          1,
          2,
          3,
          4,
          5
         ],
         "y": [
          23.5,
          29.696969696969695,
          40.03030303030303,
          41.15151515151515,
          60.81818181818182,
          76.77272727272727
         ]
        },
        {
         "legendgroup": "United Kingdom",
         "line": {
          "width": 2
         },
         "marker": {
          "color": "rgb(188, 189, 34)"
         },
         "mode": "lines",
         "name": "United Kingdom [last 6 days]",
         "opacity": 1,
         "showlegend": true,
         "type": "scatter",
         "x": [
          0,
          1,
          2,
          3,
          4,
          5
         ],
         "y": [
          23.5,
          29.696969696969695,
          40.03030303030303,
          41.15151515151515,
          60.81818181818182,
          76.77272727272727
         ]
        },
        {
         "legendgroup": "Spain",
         "marker": {
          "color": "rgb(148, 103, 189)",
          "line": {
           "color": "rgb(148, 103, 189)"
          },
          "size": 9,
          "symbol": 9
         },
         "mode": "markers",
         "name": "",
         "opacity": 1,
         "showlegend": true,
         "type": "scatter",
         "x": [
          0,
          1,
          2,
          3,
          4,
          5,
          6,
          7,
          8,
          9,
          10,
          11,
          12
         ],
         "y": [
          22.829787234042552,
          36.06382978723404,
          48.4468085106383,
          48.4468085106383,
          111.31914893617021,
          135.9787234042553,
          165.91489361702128,
          211.53191489361703,
          249.95744680851064,
          295.9574468085106,
          382.1914893617021,
          434.25531914893617,
          539.8723404255319
         ]
        },
        {
         "legendgroup": "Spain",
         "line": {
          "width": 2
         },
         "marker": {
          "color": "rgb(148, 103, 189)"
         },
         "mode": "lines",
         "name": "Spain [last 13 days]",
         "opacity": 1,
         "showlegend": true,
         "type": "scatter",
         "x": [
          0,
          1,
          2,
          3,
          4,
          5,
          6,
          7,
          8,
          9,
          10,
          11,
          12
         ],
         "y": [
          22.829787234042552,
          36.06382978723404,
          48.4468085106383,
          48.4468085106383,
          111.31914893617021,
          135.9787234042553,
          165.91489361702128,
          211.53191489361703,
          249.95744680851064,
          295.9574468085106,
          382.1914893617021,
          434.25531914893617,
          539.8723404255319
         ]
        },
        {
         "legendgroup": "Germany",
         "marker": {
          "color": "rgb(44, 160, 44)",
          "line": {
           "color": "rgb(44, 160, 44)"
          },
          "size": 9,
          "symbol": 12
         },
         "mode": "markers",
         "name": "",
         "opacity": 1,
         "showlegend": true,
         "type": "scatter",
         "x": [
          0,
          1,
          2,
          3,
          4,
          5,
          6,
          7,
          8,
          9,
          10
         ],
         "y": [
          22.987951807228917,
          25.03614457831325,
          44.27710843373494,
          55.24096385542169,
          69.81927710843374,
          87.6144578313253,
          111.53012048192771,
          148.51807228915663,
          184.57831325301206,
          239.13253012048193,
          267.6265060240964
         ]
        },
        {
         "legendgroup": "Germany",
         "line": {
          "width": 2
         },
         "marker": {
          "color": "rgb(44, 160, 44)"
         },
         "mode": "lines",
         "name": "Germany [last 11 days]",
         "opacity": 1,
         "showlegend": true,
         "type": "scatter",
         "x": [
          0,
          1,
          2,
          3,
          4,
          5,
          6,
          7,
          8,
          9,
          10
         ],
         "y": [
          22.987951807228917,
          25.03614457831325,
          44.27710843373494,
          55.24096385542169,
          69.81927710843374,
          87.6144578313253,
          111.53012048192771,
          148.51807228915663,
          184.57831325301206,
          239.13253012048193,
          267.6265060240964
         ]
        },
        {
         "legendgroup": "Belgium",
         "marker": {
          "color": "rgb(227, 119, 194)",
          "line": {
           "color": "rgb(227, 119, 194)"
          },
          "size": 9,
          "symbol": 15
         },
         "mode": "markers",
         "name": "",
         "opacity": 1,
         "showlegend": true,
         "type": "scatter",
         "x": [
          0,
          1,
          2,
          3,
          4,
          5,
          6,
          7,
          8,
          9,
          10,
          11,
          12
         ],
         "y": [
          21.727272727272727,
          24.272727272727273,
          28.545454545454547,
          28.545454545454547,
          50.81818181818182,
          62.63636363636363,
          80.54545454545455,
          96.18181818181819,
          113,
          135.0909090909091,
          163.1818181818182,
          205.1818181818182,
          255.9090909090909
         ]
        },
        {
         "legendgroup": "Belgium",
         "line": {
          "width": 2
         },
         "marker": {
          "color": "rgb(227, 119, 194)"
         },
         "mode": "lines",
         "name": "Belgium [last 13 days]",
         "opacity": 1,
         "showlegend": true,
         "type": "scatter",
         "x": [
          0,
          1,
          2,
          3,
          4,
          5,
          6,
          7,
          8,
          9,
          10,
          11,
          12
         ],
         "y": [
          21.727272727272727,
          24.272727272727273,
          28.545454545454547,
          28.545454545454547,
          50.81818181818182,
          62.63636363636363,
          80.54545454545455,
          96.18181818181819,
          113,
          135.0909090909091,
          163.1818181818182,
          205.1818181818182,
          255.9090909090909
         ]
        },
        {
         "legendgroup": "Luxembourg",
         "marker": {
          "color": "rgb(23, 190, 207)",
          "line": {
           "color": "rgb(23, 190, 207)"
          },
          "size": 9,
          "symbol": 18
         },
         "mode": "markers",
         "name": "",
         "opacity": 1,
         "showlegend": true,
         "type": "scatter",
         "x": [
          0,
          1,
          2,
          3,
          4,
          5,
          6,
          7,
          8
         ],
         "y": [
          34,
          51,
          59,
          77,
          140,
          203,
          335,
          484,
          670
         ]
        },
        {
         "legendgroup": "Luxembourg",
         "line": {
          "width": 2
         },
         "marker": {
          "color": "rgb(23, 190, 207)"
         },
         "mode": "lines",
         "name": "Luxembourg [last 9 days]",
         "opacity": 1,
         "showlegend": true,
         "type": "scatter",
         "x": [
          0,
          1,
          2,
          3,
          4,
          5,
          6,
          7,
          8
         ],
         "y": [
          34,
          51,
          59,
          77,
          140,
          203,
          335,
          484,
          670
         ]
        },
        {
         "legendgroup": "US",
         "marker": {
          "color": "rgb(31, 119, 180)",
          "line": {
           "color": "rgb(31, 119, 180)"
          },
          "size": 9,
          "symbol": 21
         },
         "mode": "markers",
         "name": "",
         "opacity": 1,
         "showlegend": true,
         "type": "scatter",
         "x": [
          0,
          1,
          2,
          3
         ],
         "y": [
          23.801223241590215,
          41.825688073394495,
          58.40978593272171,
          77.9480122324159
         ]
        },
        {
         "legendgroup": "US",
         "line": {
          "width": 2
         },
         "marker": {
          "color": "rgb(31, 119, 180)"
         },
         "mode": "lines",
         "name": "US [last 4 days]",
         "opacity": 1,
         "showlegend": true,
         "type": "scatter",
         "x": [
          0,
          1,
          2,
          3
         ],
         "y": [
          23.801223241590215,
          41.825688073394495,
          58.40978593272171,
          77.9480122324159
         ]
        },
        {
         "legendgroup": "Canada",
         "marker": {
          "color": "rgb(255, 127, 14)",
          "line": {
           "color": "rgb(255, 127, 14)"
          },
          "size": 9,
          "symbol": 24
         },
         "mode": "markers",
         "name": "",
         "opacity": 1,
         "showlegend": true,
         "type": "scatter",
         "x": [
          0,
          1,
          2
         ],
         "y": [
          21.05263157894737,
          24.81578947368421,
          33.63157894736842
         ]
        },
        {
         "legendgroup": "Canada",
         "line": {
          "width": 2
         },
         "marker": {
          "color": "rgb(255, 127, 14)"
         },
         "mode": "lines",
         "name": "Canada [last 3 days]",
         "opacity": 1,
         "showlegend": true,
         "type": "scatter",
         "x": [
          0,
          1,
          2
         ],
         "y": [
          21.05263157894737,
          24.81578947368421,
          33.63157894736842
         ]
        },
        {
         "legendgroup": "Switzerland",
         "marker": {
          "color": "rgb(140, 86, 75)",
          "line": {
           "color": "rgb(140, 86, 75)"
          },
          "size": 9,
          "symbol": 27
         },
         "mode": "markers",
         "name": "",
         "opacity": 1,
         "showlegend": true,
         "type": "scatter",
         "x": [
          0,
          1,
          2,
          3,
          4,
          5,
          6,
          7,
          8,
          9,
          10,
          11,
          12,
          13,
          14,
          15
         ],
         "y": [
          23.77777777777778,
          29.77777777777778,
          37.44444444444444,
          41.55555555555556,
          54.55555555555556,
          72.44444444444444,
          72.44444444444444,
          126.55555555555556,
          151,
          244.44444444444446,
          244.44444444444446,
          300,
          336.44444444444446,
          452.77777777777777,
          588.2222222222222,
          730.5555555555555
         ]
        },
        {
         "legendgroup": "Switzerland",
         "line": {
          "width": 2
         },
         "marker": {
          "color": "rgb(140, 86, 75)"
         },
         "mode": "lines",
         "name": "Switzerland [last 16 days]",
         "opacity": 1,
         "showlegend": true,
         "type": "scatter",
         "x": [
          0,
          1,
          2,
          3,
          4,
          5,
          6,
          7,
          8,
          9,
          10,
          11,
          12,
          13,
          14,
          15
         ],
         "y": [
          23.77777777777778,
          29.77777777777778,
          37.44444444444444,
          41.55555555555556,
          54.55555555555556,
          72.44444444444444,
          72.44444444444444,
          126.55555555555556,
          151,
          244.44444444444446,
          244.44444444444446,
          300,
          336.44444444444446,
          452.77777777777777,
          588.2222222222222,
          730.5555555555555
         ]
        }
       ],
       "layout": {
        "annotations": [
         {
          "showarrow": false,
          "text": "Last update: 2020-03-22 08:53 ; Last data: 2020-03-21 ; Data: CSSE ; Author: @guillaumerozier",
          "x": 0,
          "xref": "paper",
          "y": 1.1,
          "yref": "paper"
         }
        ],
        "template": {
         "data": {
          "bar": [
           {
            "error_x": {
             "color": "#2a3f5f"
            },
            "error_y": {
             "color": "#2a3f5f"
            },
            "marker": {
             "line": {
              "color": "#E5ECF6",
              "width": 0.5
             }
            },
            "type": "bar"
           }
          ],
          "barpolar": [
           {
            "marker": {
             "line": {
              "color": "#E5ECF6",
              "width": 0.5
             }
            },
            "type": "barpolar"
           }
          ],
          "carpet": [
           {
            "aaxis": {
             "endlinecolor": "#2a3f5f",
             "gridcolor": "white",
             "linecolor": "white",
             "minorgridcolor": "white",
             "startlinecolor": "#2a3f5f"
            },
            "baxis": {
             "endlinecolor": "#2a3f5f",
             "gridcolor": "white",
             "linecolor": "white",
             "minorgridcolor": "white",
             "startlinecolor": "#2a3f5f"
            },
            "type": "carpet"
           }
          ],
          "choropleth": [
           {
            "colorbar": {
             "outlinewidth": 0,
             "ticks": ""
            },
            "type": "choropleth"
           }
          ],
          "contour": [
           {
            "colorbar": {
             "outlinewidth": 0,
             "ticks": ""
            },
            "colorscale": [
             [
              0,
              "#0d0887"
             ],
             [
              0.1111111111111111,
              "#46039f"
             ],
             [
              0.2222222222222222,
              "#7201a8"
             ],
             [
              0.3333333333333333,
              "#9c179e"
             ],
             [
              0.4444444444444444,
              "#bd3786"
             ],
             [
              0.5555555555555556,
              "#d8576b"
             ],
             [
              0.6666666666666666,
              "#ed7953"
             ],
             [
              0.7777777777777778,
              "#fb9f3a"
             ],
             [
              0.8888888888888888,
              "#fdca26"
             ],
             [
              1,
              "#f0f921"
             ]
            ],
            "type": "contour"
           }
          ],
          "contourcarpet": [
           {
            "colorbar": {
             "outlinewidth": 0,
             "ticks": ""
            },
            "type": "contourcarpet"
           }
          ],
          "heatmap": [
           {
            "colorbar": {
             "outlinewidth": 0,
             "ticks": ""
            },
            "colorscale": [
             [
              0,
              "#0d0887"
             ],
             [
              0.1111111111111111,
              "#46039f"
             ],
             [
              0.2222222222222222,
              "#7201a8"
             ],
             [
              0.3333333333333333,
              "#9c179e"
             ],
             [
              0.4444444444444444,
              "#bd3786"
             ],
             [
              0.5555555555555556,
              "#d8576b"
             ],
             [
              0.6666666666666666,
              "#ed7953"
             ],
             [
              0.7777777777777778,
              "#fb9f3a"
             ],
             [
              0.8888888888888888,
              "#fdca26"
             ],
             [
              1,
              "#f0f921"
             ]
            ],
            "type": "heatmap"
           }
          ],
          "heatmapgl": [
           {
            "colorbar": {
             "outlinewidth": 0,
             "ticks": ""
            },
            "colorscale": [
             [
              0,
              "#0d0887"
             ],
             [
              0.1111111111111111,
              "#46039f"
             ],
             [
              0.2222222222222222,
              "#7201a8"
             ],
             [
              0.3333333333333333,
              "#9c179e"
             ],
             [
              0.4444444444444444,
              "#bd3786"
             ],
             [
              0.5555555555555556,
              "#d8576b"
             ],
             [
              0.6666666666666666,
              "#ed7953"
             ],
             [
              0.7777777777777778,
              "#fb9f3a"
             ],
             [
              0.8888888888888888,
              "#fdca26"
             ],
             [
              1,
              "#f0f921"
             ]
            ],
            "type": "heatmapgl"
           }
          ],
          "histogram": [
           {
            "marker": {
             "colorbar": {
              "outlinewidth": 0,
              "ticks": ""
             }
            },
            "type": "histogram"
           }
          ],
          "histogram2d": [
           {
            "colorbar": {
             "outlinewidth": 0,
             "ticks": ""
            },
            "colorscale": [
             [
              0,
              "#0d0887"
             ],
             [
              0.1111111111111111,
              "#46039f"
             ],
             [
              0.2222222222222222,
              "#7201a8"
             ],
             [
              0.3333333333333333,
              "#9c179e"
             ],
             [
              0.4444444444444444,
              "#bd3786"
             ],
             [
              0.5555555555555556,
              "#d8576b"
             ],
             [
              0.6666666666666666,
              "#ed7953"
             ],
             [
              0.7777777777777778,
              "#fb9f3a"
             ],
             [
              0.8888888888888888,
              "#fdca26"
             ],
             [
              1,
              "#f0f921"
             ]
            ],
            "type": "histogram2d"
           }
          ],
          "histogram2dcontour": [
           {
            "colorbar": {
             "outlinewidth": 0,
             "ticks": ""
            },
            "colorscale": [
             [
              0,
              "#0d0887"
             ],
             [
              0.1111111111111111,
              "#46039f"
             ],
             [
              0.2222222222222222,
              "#7201a8"
             ],
             [
              0.3333333333333333,
              "#9c179e"
             ],
             [
              0.4444444444444444,
              "#bd3786"
             ],
             [
              0.5555555555555556,
              "#d8576b"
             ],
             [
              0.6666666666666666,
              "#ed7953"
             ],
             [
              0.7777777777777778,
              "#fb9f3a"
             ],
             [
              0.8888888888888888,
              "#fdca26"
             ],
             [
              1,
              "#f0f921"
             ]
            ],
            "type": "histogram2dcontour"
           }
          ],
          "mesh3d": [
           {
            "colorbar": {
             "outlinewidth": 0,
             "ticks": ""
            },
            "type": "mesh3d"
           }
          ],
          "parcoords": [
           {
            "line": {
             "colorbar": {
              "outlinewidth": 0,
              "ticks": ""
             }
            },
            "type": "parcoords"
           }
          ],
          "pie": [
           {
            "automargin": true,
            "type": "pie"
           }
          ],
          "scatter": [
           {
            "marker": {
             "colorbar": {
              "outlinewidth": 0,
              "ticks": ""
             }
            },
            "type": "scatter"
           }
          ],
          "scatter3d": [
           {
            "line": {
             "colorbar": {
              "outlinewidth": 0,
              "ticks": ""
             }
            },
            "marker": {
             "colorbar": {
              "outlinewidth": 0,
              "ticks": ""
             }
            },
            "type": "scatter3d"
           }
          ],
          "scattercarpet": [
           {
            "marker": {
             "colorbar": {
              "outlinewidth": 0,
              "ticks": ""
             }
            },
            "type": "scattercarpet"
           }
          ],
          "scattergeo": [
           {
            "marker": {
             "colorbar": {
              "outlinewidth": 0,
              "ticks": ""
             }
            },
            "type": "scattergeo"
           }
          ],
          "scattergl": [
           {
            "marker": {
             "colorbar": {
              "outlinewidth": 0,
              "ticks": ""
             }
            },
            "type": "scattergl"
           }
          ],
          "scattermapbox": [
           {
            "marker": {
             "colorbar": {
              "outlinewidth": 0,
              "ticks": ""
             }
            },
            "type": "scattermapbox"
           }
          ],
          "scatterpolar": [
           {
            "marker": {
             "colorbar": {
              "outlinewidth": 0,
              "ticks": ""
             }
            },
            "type": "scatterpolar"
           }
          ],
          "scatterpolargl": [
           {
            "marker": {
             "colorbar": {
              "outlinewidth": 0,
              "ticks": ""
             }
            },
            "type": "scatterpolargl"
           }
          ],
          "scatterternary": [
           {
            "marker": {
             "colorbar": {
              "outlinewidth": 0,
              "ticks": ""
             }
            },
            "type": "scatterternary"
           }
          ],
          "surface": [
           {
            "colorbar": {
             "outlinewidth": 0,
             "ticks": ""
            },
            "colorscale": [
             [
              0,
              "#0d0887"
             ],
             [
              0.1111111111111111,
              "#46039f"
             ],
             [
              0.2222222222222222,
              "#7201a8"
             ],
             [
              0.3333333333333333,
              "#9c179e"
             ],
             [
              0.4444444444444444,
              "#bd3786"
             ],
             [
              0.5555555555555556,
              "#d8576b"
             ],
             [
              0.6666666666666666,
              "#ed7953"
             ],
             [
              0.7777777777777778,
              "#fb9f3a"
             ],
             [
              0.8888888888888888,
              "#fdca26"
             ],
             [
              1,
              "#f0f921"
             ]
            ],
            "type": "surface"
           }
          ],
          "table": [
           {
            "cells": {
             "fill": {
              "color": "#EBF0F8"
             },
             "line": {
              "color": "white"
             }
            },
            "header": {
             "fill": {
              "color": "#C8D4E3"
             },
             "line": {
              "color": "white"
             }
            },
            "type": "table"
           }
          ]
         },
         "layout": {
          "annotationdefaults": {
           "arrowcolor": "#2a3f5f",
           "arrowhead": 0,
           "arrowwidth": 1
          },
          "coloraxis": {
           "colorbar": {
            "outlinewidth": 0,
            "ticks": ""
           }
          },
          "colorscale": {
           "diverging": [
            [
             0,
             "#8e0152"
            ],
            [
             0.1,
             "#c51b7d"
            ],
            [
             0.2,
             "#de77ae"
            ],
            [
             0.3,
             "#f1b6da"
            ],
            [
             0.4,
             "#fde0ef"
            ],
            [
             0.5,
             "#f7f7f7"
            ],
            [
             0.6,
             "#e6f5d0"
            ],
            [
             0.7,
             "#b8e186"
            ],
            [
             0.8,
             "#7fbc41"
            ],
            [
             0.9,
             "#4d9221"
            ],
            [
             1,
             "#276419"
            ]
           ],
           "sequential": [
            [
             0,
             "#0d0887"
            ],
            [
             0.1111111111111111,
             "#46039f"
            ],
            [
             0.2222222222222222,
             "#7201a8"
            ],
            [
             0.3333333333333333,
             "#9c179e"
            ],
            [
             0.4444444444444444,
             "#bd3786"
            ],
            [
             0.5555555555555556,
             "#d8576b"
            ],
            [
             0.6666666666666666,
             "#ed7953"
            ],
            [
             0.7777777777777778,
             "#fb9f3a"
            ],
            [
             0.8888888888888888,
             "#fdca26"
            ],
            [
             1,
             "#f0f921"
            ]
           ],
           "sequentialminus": [
            [
             0,
             "#0d0887"
            ],
            [
             0.1111111111111111,
             "#46039f"
            ],
            [
             0.2222222222222222,
             "#7201a8"
            ],
            [
             0.3333333333333333,
             "#9c179e"
            ],
            [
             0.4444444444444444,
             "#bd3786"
            ],
            [
             0.5555555555555556,
             "#d8576b"
            ],
            [
             0.6666666666666666,
             "#ed7953"
            ],
            [
             0.7777777777777778,
             "#fb9f3a"
            ],
            [
             0.8888888888888888,
             "#fdca26"
            ],
            [
             1,
             "#f0f921"
            ]
           ]
          },
          "colorway": [
           "#636efa",
           "#EF553B",
           "#00cc96",
           "#ab63fa",
           "#FFA15A",
           "#19d3f3",
           "#FF6692",
           "#B6E880",
           "#FF97FF",
           "#FECB52"
          ],
          "font": {
           "color": "#2a3f5f"
          },
          "geo": {
           "bgcolor": "white",
           "lakecolor": "white",
           "landcolor": "#E5ECF6",
           "showlakes": true,
           "showland": true,
           "subunitcolor": "white"
          },
          "hoverlabel": {
           "align": "left"
          },
          "hovermode": "closest",
          "mapbox": {
           "style": "light"
          },
          "paper_bgcolor": "white",
          "plot_bgcolor": "#E5ECF6",
          "polar": {
           "angularaxis": {
            "gridcolor": "white",
            "linecolor": "white",
            "ticks": ""
           },
           "bgcolor": "#E5ECF6",
           "radialaxis": {
            "gridcolor": "white",
            "linecolor": "white",
            "ticks": ""
           }
          },
          "scene": {
           "xaxis": {
            "backgroundcolor": "#E5ECF6",
            "gridcolor": "white",
            "gridwidth": 2,
            "linecolor": "white",
            "showbackground": true,
            "ticks": "",
            "zerolinecolor": "white"
           },
           "yaxis": {
            "backgroundcolor": "#E5ECF6",
            "gridcolor": "white",
            "gridwidth": 2,
            "linecolor": "white",
            "showbackground": true,
            "ticks": "",
            "zerolinecolor": "white"
           },
           "zaxis": {
            "backgroundcolor": "#E5ECF6",
            "gridcolor": "white",
            "gridwidth": 2,
            "linecolor": "white",
            "showbackground": true,
            "ticks": "",
            "zerolinecolor": "white"
           }
          },
          "shapedefaults": {
           "line": {
            "color": "#2a3f5f"
           }
          },
          "ternary": {
           "aaxis": {
            "gridcolor": "white",
            "linecolor": "white",
            "ticks": ""
           },
           "baxis": {
            "gridcolor": "white",
            "linecolor": "white",
            "ticks": ""
           },
           "bgcolor": "#E5ECF6",
           "caxis": {
            "gridcolor": "white",
            "linecolor": "white",
            "ticks": ""
           }
          },
          "title": {
           "x": 0.05
          },
          "xaxis": {
           "automargin": true,
           "gridcolor": "white",
           "linecolor": "white",
           "ticks": "",
           "title": {
            "standoff": 15
           },
           "zerolinecolor": "white",
           "zerolinewidth": 2
          },
          "yaxis": {
           "automargin": true,
           "gridcolor": "white",
           "linecolor": "white",
           "ticks": "",
           "title": {
            "standoff": 15
           },
           "zerolinecolor": "white",
           "zerolinewidth": 2
          }
         }
        },
        "title": {
         "text": "COVID-19 deaths over time for 1 million inhabitants [since 20 deaths/mill. inhab.]"
        },
        "xaxis": {
         "nticks": 30,
         "title": {
          "text": "Time (day)"
         }
        },
        "yaxis": {
         "title": {
          "text": "COVID-19 total deaths / nb of inhabitants (million)"
         }
        }
       }
      },
      "text/html": [
       "<div>\n",
       "        \n",
       "        \n",
       "            <div id=\"d63ff4f0-4c9e-4892-a049-607b0069e048\" class=\"plotly-graph-div\" style=\"height:525px; width:100%;\"></div>\n",
       "            <script type=\"text/javascript\">\n",
       "                require([\"plotly\"], function(Plotly) {\n",
       "                    window.PLOTLYENV=window.PLOTLYENV || {};\n",
       "                    \n",
       "                if (document.getElementById(\"d63ff4f0-4c9e-4892-a049-607b0069e048\")) {\n",
       "                    Plotly.newPlot(\n",
       "                        'd63ff4f0-4c9e-4892-a049-607b0069e048',\n",
       "                        [{\"legendgroup\": \"France\", \"marker\": {\"color\": \"rgb(214, 39, 40)\", \"line\": {\"color\": \"rgb(214, 39, 40)\"}, \"size\": 9, \"symbol\": 0}, \"mode\": \"markers\", \"name\": \"\", \"opacity\": 1, \"showlegend\": true, \"type\": \"scatter\", \"x\": [0, 1, 2, 3, 4, 5, 6, 7, 8, 9, 10, 11], \"y\": [26.746268656716417, 34.17910447761194, 34.17910447761194, 54.8955223880597, 66.97014925373135, 67.50746268656717, 99.5223880597015, 114.91044776119404, 135.8955223880597, 163.38805970149255, 189.9402985074627, 215.38805970149255]}, {\"legendgroup\": \"France\", \"line\": {\"width\": 2}, \"marker\": {\"color\": \"rgb(214, 39, 40)\"}, \"mode\": \"lines\", \"name\": \"France [last 12 days]\", \"opacity\": 1, \"showlegend\": true, \"type\": \"scatter\", \"x\": [0, 1, 2, 3, 4, 5, 6, 7, 8, 9, 10, 11], \"y\": [26.746268656716417, 34.17910447761194, 34.17910447761194, 54.8955223880597, 66.97014925373135, 67.50746268656717, 99.5223880597015, 114.91044776119404, 135.8955223880597, 163.38805970149255, 189.9402985074627, 215.38805970149255]}, {\"legendgroup\": \"Italy\", \"marker\": {\"color\": \"rgb(127, 127, 127)\", \"line\": {\"color\": \"rgb(127, 127, 127)\"}, \"size\": 9, \"symbol\": 3}, \"mode\": \"markers\", \"name\": \"\", \"opacity\": 1, \"showlegend\": true, \"type\": \"scatter\", \"x\": [0, 1, 2, 3, 4, 5, 6, 7, 8, 9, 10, 11, 12, 13, 14, 15, 16, 17, 18, 19, 20], \"y\": [28.233333333333334, 33.93333333333333, 41.7, 51.483333333333334, 64.3, 77.26666666666667, 98.05, 122.91666666666667, 152.86666666666667, 169.15, 207.7, 207.7, 294.3333333333333, 352.6166666666667, 412.45, 466.3333333333333, 525.1, 595.2166666666667, 683.9166666666666, 783.6833333333333, 892.9666666666667]}, {\"legendgroup\": \"Italy\", \"line\": {\"width\": 2}, \"marker\": {\"color\": \"rgb(127, 127, 127)\"}, \"mode\": \"lines\", \"name\": \"Italy [last 21 days]\", \"opacity\": 1, \"showlegend\": true, \"type\": \"scatter\", \"x\": [0, 1, 2, 3, 4, 5, 6, 7, 8, 9, 10, 11, 12, 13, 14, 15, 16, 17, 18, 19, 20], \"y\": [28.233333333333334, 33.93333333333333, 41.7, 51.483333333333334, 64.3, 77.26666666666667, 98.05, 122.91666666666667, 152.86666666666667, 169.15, 207.7, 207.7, 294.3333333333333, 352.6166666666667, 412.45, 466.3333333333333, 525.1, 595.2166666666667, 683.9166666666666, 783.6833333333333, 892.9666666666667]}, {\"legendgroup\": \"United Kingdom\", \"marker\": {\"color\": \"rgb(188, 189, 34)\", \"line\": {\"color\": \"rgb(188, 189, 34)\"}, \"size\": 9, \"symbol\": 6}, \"mode\": \"markers\", \"name\": \"\", \"opacity\": 1, \"showlegend\": true, \"type\": \"scatter\", \"x\": [0, 1, 2, 3, 4, 5], \"y\": [23.5, 29.696969696969695, 40.03030303030303, 41.15151515151515, 60.81818181818182, 76.77272727272727]}, {\"legendgroup\": \"United Kingdom\", \"line\": {\"width\": 2}, \"marker\": {\"color\": \"rgb(188, 189, 34)\"}, \"mode\": \"lines\", \"name\": \"United Kingdom [last 6 days]\", \"opacity\": 1, \"showlegend\": true, \"type\": \"scatter\", \"x\": [0, 1, 2, 3, 4, 5], \"y\": [23.5, 29.696969696969695, 40.03030303030303, 41.15151515151515, 60.81818181818182, 76.77272727272727]}, {\"legendgroup\": \"Spain\", \"marker\": {\"color\": \"rgb(148, 103, 189)\", \"line\": {\"color\": \"rgb(148, 103, 189)\"}, \"size\": 9, \"symbol\": 9}, \"mode\": \"markers\", \"name\": \"\", \"opacity\": 1, \"showlegend\": true, \"type\": \"scatter\", \"x\": [0, 1, 2, 3, 4, 5, 6, 7, 8, 9, 10, 11, 12], \"y\": [22.829787234042552, 36.06382978723404, 48.4468085106383, 48.4468085106383, 111.31914893617021, 135.9787234042553, 165.91489361702128, 211.53191489361703, 249.95744680851064, 295.9574468085106, 382.1914893617021, 434.25531914893617, 539.8723404255319]}, {\"legendgroup\": \"Spain\", \"line\": {\"width\": 2}, \"marker\": {\"color\": \"rgb(148, 103, 189)\"}, \"mode\": \"lines\", \"name\": \"Spain [last 13 days]\", \"opacity\": 1, \"showlegend\": true, \"type\": \"scatter\", \"x\": [0, 1, 2, 3, 4, 5, 6, 7, 8, 9, 10, 11, 12], \"y\": [22.829787234042552, 36.06382978723404, 48.4468085106383, 48.4468085106383, 111.31914893617021, 135.9787234042553, 165.91489361702128, 211.53191489361703, 249.95744680851064, 295.9574468085106, 382.1914893617021, 434.25531914893617, 539.8723404255319]}, {\"legendgroup\": \"Germany\", \"marker\": {\"color\": \"rgb(44, 160, 44)\", \"line\": {\"color\": \"rgb(44, 160, 44)\"}, \"size\": 9, \"symbol\": 12}, \"mode\": \"markers\", \"name\": \"\", \"opacity\": 1, \"showlegend\": true, \"type\": \"scatter\", \"x\": [0, 1, 2, 3, 4, 5, 6, 7, 8, 9, 10], \"y\": [22.987951807228917, 25.03614457831325, 44.27710843373494, 55.24096385542169, 69.81927710843374, 87.6144578313253, 111.53012048192771, 148.51807228915663, 184.57831325301206, 239.13253012048193, 267.6265060240964]}, {\"legendgroup\": \"Germany\", \"line\": {\"width\": 2}, \"marker\": {\"color\": \"rgb(44, 160, 44)\"}, \"mode\": \"lines\", \"name\": \"Germany [last 11 days]\", \"opacity\": 1, \"showlegend\": true, \"type\": \"scatter\", \"x\": [0, 1, 2, 3, 4, 5, 6, 7, 8, 9, 10], \"y\": [22.987951807228917, 25.03614457831325, 44.27710843373494, 55.24096385542169, 69.81927710843374, 87.6144578313253, 111.53012048192771, 148.51807228915663, 184.57831325301206, 239.13253012048193, 267.6265060240964]}, {\"legendgroup\": \"Belgium\", \"marker\": {\"color\": \"rgb(227, 119, 194)\", \"line\": {\"color\": \"rgb(227, 119, 194)\"}, \"size\": 9, \"symbol\": 15}, \"mode\": \"markers\", \"name\": \"\", \"opacity\": 1, \"showlegend\": true, \"type\": \"scatter\", \"x\": [0, 1, 2, 3, 4, 5, 6, 7, 8, 9, 10, 11, 12], \"y\": [21.727272727272727, 24.272727272727273, 28.545454545454547, 28.545454545454547, 50.81818181818182, 62.63636363636363, 80.54545454545455, 96.18181818181819, 113.0, 135.0909090909091, 163.1818181818182, 205.1818181818182, 255.9090909090909]}, {\"legendgroup\": \"Belgium\", \"line\": {\"width\": 2}, \"marker\": {\"color\": \"rgb(227, 119, 194)\"}, \"mode\": \"lines\", \"name\": \"Belgium [last 13 days]\", \"opacity\": 1, \"showlegend\": true, \"type\": \"scatter\", \"x\": [0, 1, 2, 3, 4, 5, 6, 7, 8, 9, 10, 11, 12], \"y\": [21.727272727272727, 24.272727272727273, 28.545454545454547, 28.545454545454547, 50.81818181818182, 62.63636363636363, 80.54545454545455, 96.18181818181819, 113.0, 135.0909090909091, 163.1818181818182, 205.1818181818182, 255.9090909090909]}, {\"legendgroup\": \"Luxembourg\", \"marker\": {\"color\": \"rgb(23, 190, 207)\", \"line\": {\"color\": \"rgb(23, 190, 207)\"}, \"size\": 9, \"symbol\": 18}, \"mode\": \"markers\", \"name\": \"\", \"opacity\": 1, \"showlegend\": true, \"type\": \"scatter\", \"x\": [0, 1, 2, 3, 4, 5, 6, 7, 8], \"y\": [34.0, 51.0, 59.0, 77.0, 140.0, 203.0, 335.0, 484.0, 670.0]}, {\"legendgroup\": \"Luxembourg\", \"line\": {\"width\": 2}, \"marker\": {\"color\": \"rgb(23, 190, 207)\"}, \"mode\": \"lines\", \"name\": \"Luxembourg [last 9 days]\", \"opacity\": 1, \"showlegend\": true, \"type\": \"scatter\", \"x\": [0, 1, 2, 3, 4, 5, 6, 7, 8], \"y\": [34.0, 51.0, 59.0, 77.0, 140.0, 203.0, 335.0, 484.0, 670.0]}, {\"legendgroup\": \"US\", \"marker\": {\"color\": \"rgb(31, 119, 180)\", \"line\": {\"color\": \"rgb(31, 119, 180)\"}, \"size\": 9, \"symbol\": 21}, \"mode\": \"markers\", \"name\": \"\", \"opacity\": 1, \"showlegend\": true, \"type\": \"scatter\", \"x\": [0, 1, 2, 3], \"y\": [23.801223241590215, 41.825688073394495, 58.40978593272171, 77.9480122324159]}, {\"legendgroup\": \"US\", \"line\": {\"width\": 2}, \"marker\": {\"color\": \"rgb(31, 119, 180)\"}, \"mode\": \"lines\", \"name\": \"US [last 4 days]\", \"opacity\": 1, \"showlegend\": true, \"type\": \"scatter\", \"x\": [0, 1, 2, 3], \"y\": [23.801223241590215, 41.825688073394495, 58.40978593272171, 77.9480122324159]}, {\"legendgroup\": \"Canada\", \"marker\": {\"color\": \"rgb(255, 127, 14)\", \"line\": {\"color\": \"rgb(255, 127, 14)\"}, \"size\": 9, \"symbol\": 24}, \"mode\": \"markers\", \"name\": \"\", \"opacity\": 1, \"showlegend\": true, \"type\": \"scatter\", \"x\": [0, 1, 2], \"y\": [21.05263157894737, 24.81578947368421, 33.63157894736842]}, {\"legendgroup\": \"Canada\", \"line\": {\"width\": 2}, \"marker\": {\"color\": \"rgb(255, 127, 14)\"}, \"mode\": \"lines\", \"name\": \"Canada [last 3 days]\", \"opacity\": 1, \"showlegend\": true, \"type\": \"scatter\", \"x\": [0, 1, 2], \"y\": [21.05263157894737, 24.81578947368421, 33.63157894736842]}, {\"legendgroup\": \"Switzerland\", \"marker\": {\"color\": \"rgb(140, 86, 75)\", \"line\": {\"color\": \"rgb(140, 86, 75)\"}, \"size\": 9, \"symbol\": 27}, \"mode\": \"markers\", \"name\": \"\", \"opacity\": 1, \"showlegend\": true, \"type\": \"scatter\", \"x\": [0, 1, 2, 3, 4, 5, 6, 7, 8, 9, 10, 11, 12, 13, 14, 15], \"y\": [23.77777777777778, 29.77777777777778, 37.44444444444444, 41.55555555555556, 54.55555555555556, 72.44444444444444, 72.44444444444444, 126.55555555555556, 151.0, 244.44444444444446, 244.44444444444446, 300.0, 336.44444444444446, 452.77777777777777, 588.2222222222222, 730.5555555555555]}, {\"legendgroup\": \"Switzerland\", \"line\": {\"width\": 2}, \"marker\": {\"color\": \"rgb(140, 86, 75)\"}, \"mode\": \"lines\", \"name\": \"Switzerland [last 16 days]\", \"opacity\": 1, \"showlegend\": true, \"type\": \"scatter\", \"x\": [0, 1, 2, 3, 4, 5, 6, 7, 8, 9, 10, 11, 12, 13, 14, 15], \"y\": [23.77777777777778, 29.77777777777778, 37.44444444444444, 41.55555555555556, 54.55555555555556, 72.44444444444444, 72.44444444444444, 126.55555555555556, 151.0, 244.44444444444446, 244.44444444444446, 300.0, 336.44444444444446, 452.77777777777777, 588.2222222222222, 730.5555555555555]}],\n",
       "                        {\"annotations\": [{\"showarrow\": false, \"text\": \"Last update: 2020-03-22 08:53 ; Last data: 2020-03-21 ; Data: CSSE ; Author: @guillaumerozier\", \"x\": 0, \"xref\": \"paper\", \"y\": 1.1, \"yref\": \"paper\"}], \"template\": {\"data\": {\"bar\": [{\"error_x\": {\"color\": \"#2a3f5f\"}, \"error_y\": {\"color\": \"#2a3f5f\"}, \"marker\": {\"line\": {\"color\": \"#E5ECF6\", \"width\": 0.5}}, \"type\": \"bar\"}], \"barpolar\": [{\"marker\": {\"line\": {\"color\": \"#E5ECF6\", \"width\": 0.5}}, \"type\": \"barpolar\"}], \"carpet\": [{\"aaxis\": {\"endlinecolor\": \"#2a3f5f\", \"gridcolor\": \"white\", \"linecolor\": \"white\", \"minorgridcolor\": \"white\", \"startlinecolor\": \"#2a3f5f\"}, \"baxis\": {\"endlinecolor\": \"#2a3f5f\", \"gridcolor\": \"white\", \"linecolor\": \"white\", \"minorgridcolor\": \"white\", \"startlinecolor\": \"#2a3f5f\"}, \"type\": \"carpet\"}], \"choropleth\": [{\"colorbar\": {\"outlinewidth\": 0, \"ticks\": \"\"}, \"type\": \"choropleth\"}], \"contour\": [{\"colorbar\": {\"outlinewidth\": 0, \"ticks\": \"\"}, \"colorscale\": [[0.0, \"#0d0887\"], [0.1111111111111111, \"#46039f\"], [0.2222222222222222, \"#7201a8\"], [0.3333333333333333, \"#9c179e\"], [0.4444444444444444, \"#bd3786\"], [0.5555555555555556, \"#d8576b\"], [0.6666666666666666, \"#ed7953\"], [0.7777777777777778, \"#fb9f3a\"], [0.8888888888888888, \"#fdca26\"], [1.0, \"#f0f921\"]], \"type\": \"contour\"}], \"contourcarpet\": [{\"colorbar\": {\"outlinewidth\": 0, \"ticks\": \"\"}, \"type\": \"contourcarpet\"}], \"heatmap\": [{\"colorbar\": {\"outlinewidth\": 0, \"ticks\": \"\"}, \"colorscale\": [[0.0, \"#0d0887\"], [0.1111111111111111, \"#46039f\"], [0.2222222222222222, \"#7201a8\"], [0.3333333333333333, \"#9c179e\"], [0.4444444444444444, \"#bd3786\"], [0.5555555555555556, \"#d8576b\"], [0.6666666666666666, \"#ed7953\"], [0.7777777777777778, \"#fb9f3a\"], [0.8888888888888888, \"#fdca26\"], [1.0, \"#f0f921\"]], \"type\": \"heatmap\"}], \"heatmapgl\": [{\"colorbar\": {\"outlinewidth\": 0, \"ticks\": \"\"}, \"colorscale\": [[0.0, \"#0d0887\"], [0.1111111111111111, \"#46039f\"], [0.2222222222222222, \"#7201a8\"], [0.3333333333333333, \"#9c179e\"], [0.4444444444444444, \"#bd3786\"], [0.5555555555555556, \"#d8576b\"], [0.6666666666666666, \"#ed7953\"], [0.7777777777777778, \"#fb9f3a\"], [0.8888888888888888, \"#fdca26\"], [1.0, \"#f0f921\"]], \"type\": \"heatmapgl\"}], \"histogram\": [{\"marker\": {\"colorbar\": {\"outlinewidth\": 0, \"ticks\": \"\"}}, \"type\": \"histogram\"}], \"histogram2d\": [{\"colorbar\": {\"outlinewidth\": 0, \"ticks\": \"\"}, \"colorscale\": [[0.0, \"#0d0887\"], [0.1111111111111111, \"#46039f\"], [0.2222222222222222, \"#7201a8\"], [0.3333333333333333, \"#9c179e\"], [0.4444444444444444, \"#bd3786\"], [0.5555555555555556, \"#d8576b\"], [0.6666666666666666, \"#ed7953\"], [0.7777777777777778, \"#fb9f3a\"], [0.8888888888888888, \"#fdca26\"], [1.0, \"#f0f921\"]], \"type\": \"histogram2d\"}], \"histogram2dcontour\": [{\"colorbar\": {\"outlinewidth\": 0, \"ticks\": \"\"}, \"colorscale\": [[0.0, \"#0d0887\"], [0.1111111111111111, \"#46039f\"], [0.2222222222222222, \"#7201a8\"], [0.3333333333333333, \"#9c179e\"], [0.4444444444444444, \"#bd3786\"], [0.5555555555555556, \"#d8576b\"], [0.6666666666666666, \"#ed7953\"], [0.7777777777777778, \"#fb9f3a\"], [0.8888888888888888, \"#fdca26\"], [1.0, \"#f0f921\"]], \"type\": \"histogram2dcontour\"}], \"mesh3d\": [{\"colorbar\": {\"outlinewidth\": 0, \"ticks\": \"\"}, \"type\": \"mesh3d\"}], \"parcoords\": [{\"line\": {\"colorbar\": {\"outlinewidth\": 0, \"ticks\": \"\"}}, \"type\": \"parcoords\"}], \"pie\": [{\"automargin\": true, \"type\": \"pie\"}], \"scatter\": [{\"marker\": {\"colorbar\": {\"outlinewidth\": 0, \"ticks\": \"\"}}, \"type\": \"scatter\"}], \"scatter3d\": [{\"line\": {\"colorbar\": {\"outlinewidth\": 0, \"ticks\": \"\"}}, \"marker\": {\"colorbar\": {\"outlinewidth\": 0, \"ticks\": \"\"}}, \"type\": \"scatter3d\"}], \"scattercarpet\": [{\"marker\": {\"colorbar\": {\"outlinewidth\": 0, \"ticks\": \"\"}}, \"type\": \"scattercarpet\"}], \"scattergeo\": [{\"marker\": {\"colorbar\": {\"outlinewidth\": 0, \"ticks\": \"\"}}, \"type\": \"scattergeo\"}], \"scattergl\": [{\"marker\": {\"colorbar\": {\"outlinewidth\": 0, \"ticks\": \"\"}}, \"type\": \"scattergl\"}], \"scattermapbox\": [{\"marker\": {\"colorbar\": {\"outlinewidth\": 0, \"ticks\": \"\"}}, \"type\": \"scattermapbox\"}], \"scatterpolar\": [{\"marker\": {\"colorbar\": {\"outlinewidth\": 0, \"ticks\": \"\"}}, \"type\": \"scatterpolar\"}], \"scatterpolargl\": [{\"marker\": {\"colorbar\": {\"outlinewidth\": 0, \"ticks\": \"\"}}, \"type\": \"scatterpolargl\"}], \"scatterternary\": [{\"marker\": {\"colorbar\": {\"outlinewidth\": 0, \"ticks\": \"\"}}, \"type\": \"scatterternary\"}], \"surface\": [{\"colorbar\": {\"outlinewidth\": 0, \"ticks\": \"\"}, \"colorscale\": [[0.0, \"#0d0887\"], [0.1111111111111111, \"#46039f\"], [0.2222222222222222, \"#7201a8\"], [0.3333333333333333, \"#9c179e\"], [0.4444444444444444, \"#bd3786\"], [0.5555555555555556, \"#d8576b\"], [0.6666666666666666, \"#ed7953\"], [0.7777777777777778, \"#fb9f3a\"], [0.8888888888888888, \"#fdca26\"], [1.0, \"#f0f921\"]], \"type\": \"surface\"}], \"table\": [{\"cells\": {\"fill\": {\"color\": \"#EBF0F8\"}, \"line\": {\"color\": \"white\"}}, \"header\": {\"fill\": {\"color\": \"#C8D4E3\"}, \"line\": {\"color\": \"white\"}}, \"type\": \"table\"}]}, \"layout\": {\"annotationdefaults\": {\"arrowcolor\": \"#2a3f5f\", \"arrowhead\": 0, \"arrowwidth\": 1}, \"coloraxis\": {\"colorbar\": {\"outlinewidth\": 0, \"ticks\": \"\"}}, \"colorscale\": {\"diverging\": [[0, \"#8e0152\"], [0.1, \"#c51b7d\"], [0.2, \"#de77ae\"], [0.3, \"#f1b6da\"], [0.4, \"#fde0ef\"], [0.5, \"#f7f7f7\"], [0.6, \"#e6f5d0\"], [0.7, \"#b8e186\"], [0.8, \"#7fbc41\"], [0.9, \"#4d9221\"], [1, \"#276419\"]], \"sequential\": [[0.0, \"#0d0887\"], [0.1111111111111111, \"#46039f\"], [0.2222222222222222, \"#7201a8\"], [0.3333333333333333, \"#9c179e\"], [0.4444444444444444, \"#bd3786\"], [0.5555555555555556, \"#d8576b\"], [0.6666666666666666, \"#ed7953\"], [0.7777777777777778, \"#fb9f3a\"], [0.8888888888888888, \"#fdca26\"], [1.0, \"#f0f921\"]], \"sequentialminus\": [[0.0, \"#0d0887\"], [0.1111111111111111, \"#46039f\"], [0.2222222222222222, \"#7201a8\"], [0.3333333333333333, \"#9c179e\"], [0.4444444444444444, \"#bd3786\"], [0.5555555555555556, \"#d8576b\"], [0.6666666666666666, \"#ed7953\"], [0.7777777777777778, \"#fb9f3a\"], [0.8888888888888888, \"#fdca26\"], [1.0, \"#f0f921\"]]}, \"colorway\": [\"#636efa\", \"#EF553B\", \"#00cc96\", \"#ab63fa\", \"#FFA15A\", \"#19d3f3\", \"#FF6692\", \"#B6E880\", \"#FF97FF\", \"#FECB52\"], \"font\": {\"color\": \"#2a3f5f\"}, \"geo\": {\"bgcolor\": \"white\", \"lakecolor\": \"white\", \"landcolor\": \"#E5ECF6\", \"showlakes\": true, \"showland\": true, \"subunitcolor\": \"white\"}, \"hoverlabel\": {\"align\": \"left\"}, \"hovermode\": \"closest\", \"mapbox\": {\"style\": \"light\"}, \"paper_bgcolor\": \"white\", \"plot_bgcolor\": \"#E5ECF6\", \"polar\": {\"angularaxis\": {\"gridcolor\": \"white\", \"linecolor\": \"white\", \"ticks\": \"\"}, \"bgcolor\": \"#E5ECF6\", \"radialaxis\": {\"gridcolor\": \"white\", \"linecolor\": \"white\", \"ticks\": \"\"}}, \"scene\": {\"xaxis\": {\"backgroundcolor\": \"#E5ECF6\", \"gridcolor\": \"white\", \"gridwidth\": 2, \"linecolor\": \"white\", \"showbackground\": true, \"ticks\": \"\", \"zerolinecolor\": \"white\"}, \"yaxis\": {\"backgroundcolor\": \"#E5ECF6\", \"gridcolor\": \"white\", \"gridwidth\": 2, \"linecolor\": \"white\", \"showbackground\": true, \"ticks\": \"\", \"zerolinecolor\": \"white\"}, \"zaxis\": {\"backgroundcolor\": \"#E5ECF6\", \"gridcolor\": \"white\", \"gridwidth\": 2, \"linecolor\": \"white\", \"showbackground\": true, \"ticks\": \"\", \"zerolinecolor\": \"white\"}}, \"shapedefaults\": {\"line\": {\"color\": \"#2a3f5f\"}}, \"ternary\": {\"aaxis\": {\"gridcolor\": \"white\", \"linecolor\": \"white\", \"ticks\": \"\"}, \"baxis\": {\"gridcolor\": \"white\", \"linecolor\": \"white\", \"ticks\": \"\"}, \"bgcolor\": \"#E5ECF6\", \"caxis\": {\"gridcolor\": \"white\", \"linecolor\": \"white\", \"ticks\": \"\"}}, \"title\": {\"x\": 0.05}, \"xaxis\": {\"automargin\": true, \"gridcolor\": \"white\", \"linecolor\": \"white\", \"ticks\": \"\", \"title\": {\"standoff\": 15}, \"zerolinecolor\": \"white\", \"zerolinewidth\": 2}, \"yaxis\": {\"automargin\": true, \"gridcolor\": \"white\", \"linecolor\": \"white\", \"ticks\": \"\", \"title\": {\"standoff\": 15}, \"zerolinecolor\": \"white\", \"zerolinewidth\": 2}}}, \"title\": {\"text\": \"COVID-19 deaths over time for 1 million inhabitants [since 20 deaths/mill. inhab.]\"}, \"xaxis\": {\"nticks\": 30, \"title\": {\"text\": \"Time (day)\"}}, \"yaxis\": {\"title\": {\"text\": \"COVID-19 total deaths / nb of inhabitants (million)\"}}},\n",
       "                        {\"responsive\": true}\n",
       "                    ).then(function(){\n",
       "                            \n",
       "var gd = document.getElementById('d63ff4f0-4c9e-4892-a049-607b0069e048');\n",
       "var x = new MutationObserver(function (mutations, observer) {{\n",
       "        var display = window.getComputedStyle(gd).display;\n",
       "        if (!display || display === 'none') {{\n",
       "            console.log([gd, 'removed!']);\n",
       "            Plotly.purge(gd);\n",
       "            observer.disconnect();\n",
       "        }}\n",
       "}});\n",
       "\n",
       "// Listen for the removal of the full notebook cells\n",
       "var notebookContainer = gd.closest('#notebook-container');\n",
       "if (notebookContainer) {{\n",
       "    x.observe(notebookContainer, {childList: true});\n",
       "}}\n",
       "\n",
       "// Listen for the clearing of the current output cell\n",
       "var outputEl = gd.closest('.output');\n",
       "if (outputEl) {{\n",
       "    x.observe(outputEl, {childList: true});\n",
       "}}\n",
       "\n",
       "                        })\n",
       "                };\n",
       "                });\n",
       "            </script>\n",
       "        </div>"
      ]
     },
     "metadata": {},
     "output_type": "display_data"
    },
    {
     "name": "stdout",
     "output_type": "stream",
     "text": [
      "> graph 5 exported\n"
     ]
    }
   ],
   "source": [
    "import plotly.graph_objects as go\n",
    "fig = go.Figure()\n",
    "\n",
    "data_confirmed_rolling = data_confirmed\n",
    "last_d = round(len(data_confirmed)/2)\n",
    "min_confirmed_rate = 20\n",
    "\n",
    "i=0\n",
    "data_confirmed_pop = pd.DataFrame()\n",
    "data_confirmed_pop[\"date\"] = data_confirmed[\"date\"]\n",
    "data_confirmed_pop[\"date_int\"] = data_confirmed[\"date_int\"]\n",
    "\n",
    "for c in countries:\n",
    "    pop = round(countries[c][\"pop\"])\n",
    "    data_confirmed_pop[c] = data_confirmed[c] / pop\n",
    "    res = data_confirmed_pop.index[data_confirmed_pop[c] >= min_confirmed_rate].tolist()\n",
    "    \n",
    "    date_start = -1\n",
    "    if len(res) > 0:\n",
    "        #date_start = res.iloc[0][\"date_int\"]\n",
    "        date_start = res[0]\n",
    "    \n",
    "    if date_start != -1:\n",
    "        fig.add_trace(go.Scatter(x = data_confirmed['date_int'][:-date_start], y = data_confirmed[c][date_start:] / pop,\n",
    "                        mode='markers',\n",
    "                        marker_color=colors[i],\n",
    "                        legendgroup=c,\n",
    "                        marker_symbol= 3*i,\n",
    "                        marker_size=9,\n",
    "                        marker_line_color=colors[i],\n",
    "                        #marker_line_width=2,\n",
    "                        opacity=1,\n",
    "                        showlegend=True,\n",
    "                        name='{}'.format(\"\")))\n",
    "\n",
    "        fig.add_trace(go.Scatter(x = data_confirmed_rolling['date_int'][:-date_start], y = data_confirmed_rolling[c][date_start:] / pop,\n",
    "                        mode='lines',\n",
    "                        marker_color=colors[i],\n",
    "                        legendgroup=c,\n",
    "                        opacity=1,\n",
    "                        showlegend=True,\n",
    "                        line=dict(width=2),\n",
    "                        name='{} [last {} days]'.format(c, len(data_confirmed) - date_start)))\n",
    "    i+=1\n",
    "    if i >= 10:\n",
    "        i=0\n",
    "\n",
    "fig.update_layout(\n",
    "    title=\"COVID-19 deaths over time for 1 million inhabitants [since {} deaths/mill. inhab.]\".format(min_confirmed_rate),\n",
    "    xaxis_title=\"Time (day)\",\n",
    "    yaxis_title=\"COVID-19 total deaths / nb of inhabitants (million)\",\n",
    "    annotations = [dict(\n",
    "        xref='paper',\n",
    "        yref='paper',\n",
    "        x=0, y=1.1,\n",
    "        showarrow=False,\n",
    "        text ='Last update: {} ; Last data: {} ; Data: CSSE ; Author: @guillaumerozier'.format(today, str(data_confirmed['date'].values[-1])[:10]))]\n",
    ")\n",
    "fig.update_xaxes(nticks = last_d)\n",
    "\n",
    "print(\"> graph 5 built\")\n",
    "    \n",
    "if upload:\n",
    "    py.plot(fig, filename = 'deaths', auto_open=False)\n",
    "    \n",
    "if show:\n",
    "    fig.show()\n",
    "    \n",
    "if export:\n",
    "    fig.write_image(\"images/confirmed_per_1m_inhabitant_aligned_since_minimum.png\", scale=5, width=900, height=700)\n",
    "    print(\"> graph 5 exported\")\n",
    "    "
   ]
  },
  {
   "cell_type": "markdown",
   "metadata": {},
   "source": [
    "### Total deaths for 1 million inhabitants"
   ]
  },
  {
   "cell_type": "code",
   "execution_count": 173,
   "metadata": {},
   "outputs": [
    {
     "name": "stdout",
     "output_type": "stream",
     "text": [
      "> graph 4 built\n"
     ]
    },
    {
     "data": {
      "application/vnd.plotly.v1+json": {
       "config": {
        "plotlyServerURL": "https://plot.ly"
       },
       "data": [
        {
         "legendgroup": "France",
         "marker": {
          "color": "rgb(214, 39, 40)",
          "line": {
           "color": "rgb(214, 39, 40)"
          },
          "symbol": 0
         },
         "mode": "markers",
         "name": "",
         "opacity": 1,
         "showlegend": true,
         "type": "scatter",
         "x": [
          "2020-02-21T00:00:00",
          "2020-02-22T00:00:00",
          "2020-02-23T00:00:00",
          "2020-02-24T00:00:00",
          "2020-02-25T00:00:00",
          "2020-02-26T00:00:00",
          "2020-02-27T00:00:00",
          "2020-02-28T00:00:00",
          "2020-02-29T00:00:00",
          "2020-03-01T00:00:00",
          "2020-03-02T00:00:00",
          "2020-03-03T00:00:00",
          "2020-03-04T00:00:00",
          "2020-03-05T00:00:00",
          "2020-03-06T00:00:00",
          "2020-03-07T00:00:00",
          "2020-03-08T00:00:00",
          "2020-03-09T00:00:00",
          "2020-03-10T00:00:00",
          "2020-03-11T00:00:00",
          "2020-03-12T00:00:00",
          "2020-03-13T00:00:00",
          "2020-03-14T00:00:00",
          "2020-03-15T00:00:00",
          "2020-03-16T00:00:00",
          "2020-03-17T00:00:00",
          "2020-03-18T00:00:00",
          "2020-03-19T00:00:00",
          "2020-03-20T00:00:00",
          "2020-03-21T00:00:00"
         ],
         "y": [
          0.014927601134497688,
          0.014927601134497688,
          0.014927601134497688,
          0.014927601134497688,
          0.014927601134497688,
          0.029855202268995375,
          0.029855202268995375,
          0.029855202268995375,
          0.029855202268995375,
          0.029855202268995375,
          0.04478280340349306,
          0.05971040453799075,
          0.05971040453799075,
          0.08956560680698612,
          0.1343484102104792,
          0.16420361247947457,
          0.2836244215554561,
          0.2836244215554561,
          0.4926108374384237,
          0.716524854455889,
          0.716524854455889,
          1.1792804896253173,
          1.3584117032392895,
          1.3584117032392895,
          2.2092849679056576,
          2.2092849679056576,
          2.2092849679056576,
          3.627407075682938,
          6.71742051052396,
          8.3893118375877
         ]
        },
        {
         "legendgroup": "France",
         "marker": {
          "color": "rgb(214, 39, 40)"
         },
         "mode": "lines",
         "name": "France",
         "showlegend": true,
         "type": "scatter",
         "x": [
          "2020-02-21T00:00:00",
          "2020-02-22T00:00:00",
          "2020-02-23T00:00:00",
          "2020-02-24T00:00:00",
          "2020-02-25T00:00:00",
          "2020-02-26T00:00:00",
          "2020-02-27T00:00:00",
          "2020-02-28T00:00:00",
          "2020-02-29T00:00:00",
          "2020-03-01T00:00:00",
          "2020-03-02T00:00:00",
          "2020-03-03T00:00:00",
          "2020-03-04T00:00:00",
          "2020-03-05T00:00:00",
          "2020-03-06T00:00:00",
          "2020-03-07T00:00:00",
          "2020-03-08T00:00:00",
          "2020-03-09T00:00:00",
          "2020-03-10T00:00:00",
          "2020-03-11T00:00:00",
          "2020-03-12T00:00:00",
          "2020-03-13T00:00:00",
          "2020-03-14T00:00:00",
          "2020-03-15T00:00:00",
          "2020-03-16T00:00:00",
          "2020-03-17T00:00:00",
          "2020-03-18T00:00:00",
          "2020-03-19T00:00:00",
          "2020-03-20T00:00:00",
          "2020-03-21T00:00:00"
         ],
         "y": [
          0.014927601134497688,
          0.014927601134497688,
          0.014927601134497688,
          0.014927601134497688,
          0.014927601134497688,
          0.029855202268995375,
          0.029855202268995375,
          0.029855202268995375,
          0.029855202268995375,
          0.029855202268995375,
          0.04478280340349306,
          0.05971040453799075,
          0.05971040453799075,
          0.08956560680698612,
          0.1343484102104792,
          0.16420361247947457,
          0.2836244215554561,
          0.2836244215554561,
          0.4926108374384237,
          0.716524854455889,
          0.716524854455889,
          1.1792804896253173,
          1.3584117032392895,
          1.3584117032392895,
          2.2092849679056576,
          2.2092849679056576,
          2.2092849679056576,
          3.627407075682938,
          6.71742051052396,
          8.3893118375877
         ]
        },
        {
         "legendgroup": "Italy",
         "marker": {
          "color": "rgb(127, 127, 127)",
          "line": {
           "color": "rgb(127, 127, 127)"
          },
          "symbol": 3
         },
         "mode": "markers",
         "name": "",
         "opacity": 1,
         "showlegend": true,
         "type": "scatter",
         "x": [
          "2020-02-21T00:00:00",
          "2020-02-22T00:00:00",
          "2020-02-23T00:00:00",
          "2020-02-24T00:00:00",
          "2020-02-25T00:00:00",
          "2020-02-26T00:00:00",
          "2020-02-27T00:00:00",
          "2020-02-28T00:00:00",
          "2020-02-29T00:00:00",
          "2020-03-01T00:00:00",
          "2020-03-02T00:00:00",
          "2020-03-03T00:00:00",
          "2020-03-04T00:00:00",
          "2020-03-05T00:00:00",
          "2020-03-06T00:00:00",
          "2020-03-07T00:00:00",
          "2020-03-08T00:00:00",
          "2020-03-09T00:00:00",
          "2020-03-10T00:00:00",
          "2020-03-11T00:00:00",
          "2020-03-12T00:00:00",
          "2020-03-13T00:00:00",
          "2020-03-14T00:00:00",
          "2020-03-15T00:00:00",
          "2020-03-16T00:00:00",
          "2020-03-17T00:00:00",
          "2020-03-18T00:00:00",
          "2020-03-19T00:00:00",
          "2020-03-20T00:00:00",
          "2020-03-21T00:00:00"
         ],
         "y": [
          0.016534391534391537,
          0.033068783068783074,
          0.04960317460317461,
          0.11574074074074074,
          0.16534391534391535,
          0.19841269841269843,
          0.2810846560846561,
          0.34722222222222227,
          0.47949735449735453,
          0.5621693121693122,
          0.8597883597883599,
          1.3062169312169314,
          1.7691798941798942,
          2.4470899470899474,
          3.2572751322751325,
          3.852513227513228,
          6.051587301587302,
          7.655423280423281,
          10.433201058201059,
          13.673941798941799,
          13.673941798941799,
          20.932539682539684,
          23.826058201058203,
          29.91071428571429,
          35.68121693121693,
          41.38558201058201,
          49.239417989417994,
          56.29960317460318,
          66.66666666666667,
          79.77843915343915
         ]
        },
        {
         "legendgroup": "Italy",
         "marker": {
          "color": "rgb(127, 127, 127)"
         },
         "mode": "lines",
         "name": "Italy",
         "showlegend": true,
         "type": "scatter",
         "x": [
          "2020-02-21T00:00:00",
          "2020-02-22T00:00:00",
          "2020-02-23T00:00:00",
          "2020-02-24T00:00:00",
          "2020-02-25T00:00:00",
          "2020-02-26T00:00:00",
          "2020-02-27T00:00:00",
          "2020-02-28T00:00:00",
          "2020-02-29T00:00:00",
          "2020-03-01T00:00:00",
          "2020-03-02T00:00:00",
          "2020-03-03T00:00:00",
          "2020-03-04T00:00:00",
          "2020-03-05T00:00:00",
          "2020-03-06T00:00:00",
          "2020-03-07T00:00:00",
          "2020-03-08T00:00:00",
          "2020-03-09T00:00:00",
          "2020-03-10T00:00:00",
          "2020-03-11T00:00:00",
          "2020-03-12T00:00:00",
          "2020-03-13T00:00:00",
          "2020-03-14T00:00:00",
          "2020-03-15T00:00:00",
          "2020-03-16T00:00:00",
          "2020-03-17T00:00:00",
          "2020-03-18T00:00:00",
          "2020-03-19T00:00:00",
          "2020-03-20T00:00:00",
          "2020-03-21T00:00:00"
         ],
         "y": [
          0.016534391534391537,
          0.033068783068783074,
          0.04960317460317461,
          0.11574074074074074,
          0.16534391534391535,
          0.19841269841269843,
          0.2810846560846561,
          0.34722222222222227,
          0.47949735449735453,
          0.5621693121693122,
          0.8597883597883599,
          1.3062169312169314,
          1.7691798941798942,
          2.4470899470899474,
          3.2572751322751325,
          3.852513227513228,
          6.051587301587302,
          7.655423280423281,
          10.433201058201059,
          13.673941798941799,
          13.673941798941799,
          20.932539682539684,
          23.826058201058203,
          29.91071428571429,
          35.68121693121693,
          41.38558201058201,
          49.239417989417994,
          56.29960317460318,
          66.66666666666667,
          79.77843915343915
         ]
        },
        {
         "legendgroup": "United Kingdom",
         "marker": {
          "color": "rgb(188, 189, 34)",
          "line": {
           "color": "rgb(188, 189, 34)"
          },
          "symbol": 6
         },
         "mode": "markers",
         "name": "",
         "opacity": 1,
         "showlegend": true,
         "type": "scatter",
         "x": [
          "2020-02-21T00:00:00",
          "2020-02-22T00:00:00",
          "2020-02-23T00:00:00",
          "2020-02-24T00:00:00",
          "2020-02-25T00:00:00",
          "2020-02-26T00:00:00",
          "2020-02-27T00:00:00",
          "2020-02-28T00:00:00",
          "2020-02-29T00:00:00",
          "2020-03-01T00:00:00",
          "2020-03-02T00:00:00",
          "2020-03-03T00:00:00",
          "2020-03-04T00:00:00",
          "2020-03-05T00:00:00",
          "2020-03-06T00:00:00",
          "2020-03-07T00:00:00",
          "2020-03-08T00:00:00",
          "2020-03-09T00:00:00",
          "2020-03-10T00:00:00",
          "2020-03-11T00:00:00",
          "2020-03-12T00:00:00",
          "2020-03-13T00:00:00",
          "2020-03-14T00:00:00",
          "2020-03-15T00:00:00",
          "2020-03-16T00:00:00",
          "2020-03-17T00:00:00",
          "2020-03-18T00:00:00",
          "2020-03-19T00:00:00",
          "2020-03-20T00:00:00",
          "2020-03-21T00:00:00"
         ],
         "y": [
          0,
          0,
          0,
          0,
          0,
          0,
          0,
          0,
          0,
          0,
          0,
          0,
          0,
          0.015051173991571343,
          0.030102347983142687,
          0.030102347983142687,
          0.04515352197471403,
          0.060204695966285374,
          0.09030704394942805,
          0.12040939193257075,
          0.12040939193257075,
          0.12040939193257075,
          0.3160746538229982,
          0.3160746538229982,
          0.8428657435279953,
          0.8428657435279953,
          1.0836845273931368,
          2.0770620108368454,
          2.679108970499699,
          3.5219747140276945
         ]
        },
        {
         "legendgroup": "United Kingdom",
         "marker": {
          "color": "rgb(188, 189, 34)"
         },
         "mode": "lines",
         "name": "United Kingdom",
         "showlegend": true,
         "type": "scatter",
         "x": [
          "2020-02-21T00:00:00",
          "2020-02-22T00:00:00",
          "2020-02-23T00:00:00",
          "2020-02-24T00:00:00",
          "2020-02-25T00:00:00",
          "2020-02-26T00:00:00",
          "2020-02-27T00:00:00",
          "2020-02-28T00:00:00",
          "2020-02-29T00:00:00",
          "2020-03-01T00:00:00",
          "2020-03-02T00:00:00",
          "2020-03-03T00:00:00",
          "2020-03-04T00:00:00",
          "2020-03-05T00:00:00",
          "2020-03-06T00:00:00",
          "2020-03-07T00:00:00",
          "2020-03-08T00:00:00",
          "2020-03-09T00:00:00",
          "2020-03-10T00:00:00",
          "2020-03-11T00:00:00",
          "2020-03-12T00:00:00",
          "2020-03-13T00:00:00",
          "2020-03-14T00:00:00",
          "2020-03-15T00:00:00",
          "2020-03-16T00:00:00",
          "2020-03-17T00:00:00",
          "2020-03-18T00:00:00",
          "2020-03-19T00:00:00",
          "2020-03-20T00:00:00",
          "2020-03-21T00:00:00"
         ],
         "y": [
          0,
          0,
          0,
          0,
          0,
          0,
          0,
          0,
          0,
          0,
          0,
          0,
          0,
          0.015051173991571343,
          0.030102347983142687,
          0.030102347983142687,
          0.04515352197471403,
          0.060204695966285374,
          0.09030704394942805,
          0.12040939193257075,
          0.12040939193257075,
          0.12040939193257075,
          0.3160746538229982,
          0.3160746538229982,
          0.8428657435279953,
          0.8428657435279953,
          1.0836845273931368,
          2.0770620108368454,
          2.679108970499699,
          3.5219747140276945
         ]
        },
        {
         "legendgroup": "Spain",
         "marker": {
          "color": "rgb(148, 103, 189)",
          "line": {
           "color": "rgb(148, 103, 189)"
          },
          "symbol": 9
         },
         "mode": "markers",
         "name": "",
         "opacity": 1,
         "showlegend": true,
         "type": "scatter",
         "x": [
          "2020-02-21T00:00:00",
          "2020-02-22T00:00:00",
          "2020-02-23T00:00:00",
          "2020-02-24T00:00:00",
          "2020-02-25T00:00:00",
          "2020-02-26T00:00:00",
          "2020-02-27T00:00:00",
          "2020-02-28T00:00:00",
          "2020-02-29T00:00:00",
          "2020-03-01T00:00:00",
          "2020-03-02T00:00:00",
          "2020-03-03T00:00:00",
          "2020-03-04T00:00:00",
          "2020-03-05T00:00:00",
          "2020-03-06T00:00:00",
          "2020-03-07T00:00:00",
          "2020-03-08T00:00:00",
          "2020-03-09T00:00:00",
          "2020-03-10T00:00:00",
          "2020-03-11T00:00:00",
          "2020-03-12T00:00:00",
          "2020-03-13T00:00:00",
          "2020-03-14T00:00:00",
          "2020-03-15T00:00:00",
          "2020-03-16T00:00:00",
          "2020-03-17T00:00:00",
          "2020-03-18T00:00:00",
          "2020-03-19T00:00:00",
          "2020-03-20T00:00:00",
          "2020-03-21T00:00:00"
         ],
         "y": [
          0,
          0,
          0,
          0,
          0,
          0,
          0,
          0,
          0,
          0,
          0,
          0.021431633090441493,
          0.042863266180882986,
          0.06429489927132448,
          0.10715816545220747,
          0.21431633090441493,
          0.3643377625375054,
          0.6000857265323618,
          0.7501071581654523,
          1.1573081868838406,
          1.1787398199742822,
          2.8504072010287187,
          4.179168452636091,
          6.193741963137591,
          7.32961851693099,
          11.423060437205315,
          13.35190741534505,
          17.788255465066438,
          22.35319331333048,
          29.468495499357054
         ]
        },
        {
         "legendgroup": "Spain",
         "marker": {
          "color": "rgb(148, 103, 189)"
         },
         "mode": "lines",
         "name": "Spain",
         "showlegend": true,
         "type": "scatter",
         "x": [
          "2020-02-21T00:00:00",
          "2020-02-22T00:00:00",
          "2020-02-23T00:00:00",
          "2020-02-24T00:00:00",
          "2020-02-25T00:00:00",
          "2020-02-26T00:00:00",
          "2020-02-27T00:00:00",
          "2020-02-28T00:00:00",
          "2020-02-29T00:00:00",
          "2020-03-01T00:00:00",
          "2020-03-02T00:00:00",
          "2020-03-03T00:00:00",
          "2020-03-04T00:00:00",
          "2020-03-05T00:00:00",
          "2020-03-06T00:00:00",
          "2020-03-07T00:00:00",
          "2020-03-08T00:00:00",
          "2020-03-09T00:00:00",
          "2020-03-10T00:00:00",
          "2020-03-11T00:00:00",
          "2020-03-12T00:00:00",
          "2020-03-13T00:00:00",
          "2020-03-14T00:00:00",
          "2020-03-15T00:00:00",
          "2020-03-16T00:00:00",
          "2020-03-17T00:00:00",
          "2020-03-18T00:00:00",
          "2020-03-19T00:00:00",
          "2020-03-20T00:00:00",
          "2020-03-21T00:00:00"
         ],
         "y": [
          0,
          0,
          0,
          0,
          0,
          0,
          0,
          0,
          0,
          0,
          0,
          0.021431633090441493,
          0.042863266180882986,
          0.06429489927132448,
          0.10715816545220747,
          0.21431633090441493,
          0.3643377625375054,
          0.6000857265323618,
          0.7501071581654523,
          1.1573081868838406,
          1.1787398199742822,
          2.8504072010287187,
          4.179168452636091,
          6.193741963137591,
          7.32961851693099,
          11.423060437205315,
          13.35190741534505,
          17.788255465066438,
          22.35319331333048,
          29.468495499357054
         ]
        },
        {
         "legendgroup": "Germany",
         "marker": {
          "color": "rgb(44, 160, 44)",
          "line": {
           "color": "rgb(44, 160, 44)"
          },
          "symbol": 12
         },
         "mode": "markers",
         "name": "",
         "opacity": 1,
         "showlegend": true,
         "type": "scatter",
         "x": [
          "2020-02-21T00:00:00",
          "2020-02-22T00:00:00",
          "2020-02-23T00:00:00",
          "2020-02-24T00:00:00",
          "2020-02-25T00:00:00",
          "2020-02-26T00:00:00",
          "2020-02-27T00:00:00",
          "2020-02-28T00:00:00",
          "2020-02-29T00:00:00",
          "2020-03-01T00:00:00",
          "2020-03-02T00:00:00",
          "2020-03-03T00:00:00",
          "2020-03-04T00:00:00",
          "2020-03-05T00:00:00",
          "2020-03-06T00:00:00",
          "2020-03-07T00:00:00",
          "2020-03-08T00:00:00",
          "2020-03-09T00:00:00",
          "2020-03-10T00:00:00",
          "2020-03-11T00:00:00",
          "2020-03-12T00:00:00",
          "2020-03-13T00:00:00",
          "2020-03-14T00:00:00",
          "2020-03-15T00:00:00",
          "2020-03-16T00:00:00",
          "2020-03-17T00:00:00",
          "2020-03-18T00:00:00",
          "2020-03-19T00:00:00",
          "2020-03-20T00:00:00",
          "2020-03-21T00:00:00"
         ],
         "y": [
          0,
          0,
          0,
          0,
          0,
          0,
          0,
          0,
          0,
          0,
          0,
          0,
          0,
          0,
          0,
          0,
          0,
          0.024157506945283246,
          0.024157506945283246,
          0.03623626041792487,
          0.03623626041792487,
          0.08455127430849135,
          0.1087087812537746,
          0.13286628819905785,
          0.2053388090349076,
          0.28989008334339894,
          0.3382050972339654,
          0.5314651527962314,
          0.8092764826669887,
          1.0146152917018962
         ]
        },
        {
         "legendgroup": "Germany",
         "marker": {
          "color": "rgb(44, 160, 44)"
         },
         "mode": "lines",
         "name": "Germany",
         "showlegend": true,
         "type": "scatter",
         "x": [
          "2020-02-21T00:00:00",
          "2020-02-22T00:00:00",
          "2020-02-23T00:00:00",
          "2020-02-24T00:00:00",
          "2020-02-25T00:00:00",
          "2020-02-26T00:00:00",
          "2020-02-27T00:00:00",
          "2020-02-28T00:00:00",
          "2020-02-29T00:00:00",
          "2020-03-01T00:00:00",
          "2020-03-02T00:00:00",
          "2020-03-03T00:00:00",
          "2020-03-04T00:00:00",
          "2020-03-05T00:00:00",
          "2020-03-06T00:00:00",
          "2020-03-07T00:00:00",
          "2020-03-08T00:00:00",
          "2020-03-09T00:00:00",
          "2020-03-10T00:00:00",
          "2020-03-11T00:00:00",
          "2020-03-12T00:00:00",
          "2020-03-13T00:00:00",
          "2020-03-14T00:00:00",
          "2020-03-15T00:00:00",
          "2020-03-16T00:00:00",
          "2020-03-17T00:00:00",
          "2020-03-18T00:00:00",
          "2020-03-19T00:00:00",
          "2020-03-20T00:00:00",
          "2020-03-21T00:00:00"
         ],
         "y": [
          0,
          0,
          0,
          0,
          0,
          0,
          0,
          0,
          0,
          0,
          0,
          0,
          0,
          0,
          0,
          0,
          0,
          0.024157506945283246,
          0.024157506945283246,
          0.03623626041792487,
          0.03623626041792487,
          0.08455127430849135,
          0.1087087812537746,
          0.13286628819905785,
          0.2053388090349076,
          0.28989008334339894,
          0.3382050972339654,
          0.5314651527962314,
          0.8092764826669887,
          1.0146152917018962
         ]
        },
        {
         "legendgroup": "Belgium",
         "marker": {
          "color": "rgb(227, 119, 194)",
          "line": {
           "color": "rgb(227, 119, 194)"
          },
          "symbol": 15
         },
         "mode": "markers",
         "name": "",
         "opacity": 1,
         "showlegend": true,
         "type": "scatter",
         "x": [
          "2020-02-21T00:00:00",
          "2020-02-22T00:00:00",
          "2020-02-23T00:00:00",
          "2020-02-24T00:00:00",
          "2020-02-25T00:00:00",
          "2020-02-26T00:00:00",
          "2020-02-27T00:00:00",
          "2020-02-28T00:00:00",
          "2020-02-29T00:00:00",
          "2020-03-01T00:00:00",
          "2020-03-02T00:00:00",
          "2020-03-03T00:00:00",
          "2020-03-04T00:00:00",
          "2020-03-05T00:00:00",
          "2020-03-06T00:00:00",
          "2020-03-07T00:00:00",
          "2020-03-08T00:00:00",
          "2020-03-09T00:00:00",
          "2020-03-10T00:00:00",
          "2020-03-11T00:00:00",
          "2020-03-12T00:00:00",
          "2020-03-13T00:00:00",
          "2020-03-14T00:00:00",
          "2020-03-15T00:00:00",
          "2020-03-16T00:00:00",
          "2020-03-17T00:00:00",
          "2020-03-18T00:00:00",
          "2020-03-19T00:00:00",
          "2020-03-20T00:00:00",
          "2020-03-21T00:00:00"
         ],
         "y": [
          0,
          0,
          0,
          0,
          0,
          0,
          0,
          0,
          0,
          0,
          0,
          0,
          0,
          0,
          0,
          0,
          0,
          0,
          0,
          0.2631578947368421,
          0.2631578947368421,
          0.2631578947368421,
          0.3508771929824561,
          0.3508771929824561,
          0.43859649122807015,
          0.8771929824561403,
          1.2280701754385965,
          1.8421052631578947,
          3.245614035087719,
          5.87719298245614
         ]
        },
        {
         "legendgroup": "Belgium",
         "marker": {
          "color": "rgb(227, 119, 194)"
         },
         "mode": "lines",
         "name": "Belgium",
         "showlegend": true,
         "type": "scatter",
         "x": [
          "2020-02-21T00:00:00",
          "2020-02-22T00:00:00",
          "2020-02-23T00:00:00",
          "2020-02-24T00:00:00",
          "2020-02-25T00:00:00",
          "2020-02-26T00:00:00",
          "2020-02-27T00:00:00",
          "2020-02-28T00:00:00",
          "2020-02-29T00:00:00",
          "2020-03-01T00:00:00",
          "2020-03-02T00:00:00",
          "2020-03-03T00:00:00",
          "2020-03-04T00:00:00",
          "2020-03-05T00:00:00",
          "2020-03-06T00:00:00",
          "2020-03-07T00:00:00",
          "2020-03-08T00:00:00",
          "2020-03-09T00:00:00",
          "2020-03-10T00:00:00",
          "2020-03-11T00:00:00",
          "2020-03-12T00:00:00",
          "2020-03-13T00:00:00",
          "2020-03-14T00:00:00",
          "2020-03-15T00:00:00",
          "2020-03-16T00:00:00",
          "2020-03-17T00:00:00",
          "2020-03-18T00:00:00",
          "2020-03-19T00:00:00",
          "2020-03-20T00:00:00",
          "2020-03-21T00:00:00"
         ],
         "y": [
          0,
          0,
          0,
          0,
          0,
          0,
          0,
          0,
          0,
          0,
          0,
          0,
          0,
          0,
          0,
          0,
          0,
          0,
          0,
          0.2631578947368421,
          0.2631578947368421,
          0.2631578947368421,
          0.3508771929824561,
          0.3508771929824561,
          0.43859649122807015,
          0.8771929824561403,
          1.2280701754385965,
          1.8421052631578947,
          3.245614035087719,
          5.87719298245614
         ]
        },
        {
         "legendgroup": "Luxembourg",
         "marker": {
          "color": "rgb(23, 190, 207)",
          "line": {
           "color": "rgb(23, 190, 207)"
          },
          "symbol": 18
         },
         "mode": "markers",
         "name": "",
         "opacity": 1,
         "showlegend": true,
         "type": "scatter",
         "x": [
          "2020-02-21T00:00:00",
          "2020-02-22T00:00:00",
          "2020-02-23T00:00:00",
          "2020-02-24T00:00:00",
          "2020-02-25T00:00:00",
          "2020-02-26T00:00:00",
          "2020-02-27T00:00:00",
          "2020-02-28T00:00:00",
          "2020-02-29T00:00:00",
          "2020-03-01T00:00:00",
          "2020-03-02T00:00:00",
          "2020-03-03T00:00:00",
          "2020-03-04T00:00:00",
          "2020-03-05T00:00:00",
          "2020-03-06T00:00:00",
          "2020-03-07T00:00:00",
          "2020-03-08T00:00:00",
          "2020-03-09T00:00:00",
          "2020-03-10T00:00:00",
          "2020-03-11T00:00:00",
          "2020-03-12T00:00:00",
          "2020-03-13T00:00:00",
          "2020-03-14T00:00:00",
          "2020-03-15T00:00:00",
          "2020-03-16T00:00:00",
          "2020-03-17T00:00:00",
          "2020-03-18T00:00:00",
          "2020-03-19T00:00:00",
          "2020-03-20T00:00:00",
          "2020-03-21T00:00:00"
         ],
         "y": [
          0,
          0,
          0,
          0,
          0,
          0,
          0,
          0,
          0,
          0,
          0,
          0,
          0,
          0,
          0,
          0,
          0,
          0,
          0,
          0,
          0,
          0,
          1.6611295681063123,
          1.6611295681063123,
          1.6611295681063123,
          1.6611295681063123,
          3.3222591362126246,
          6.644518272425249,
          6.644518272425249,
          13.289036544850498
         ]
        },
        {
         "legendgroup": "Luxembourg",
         "marker": {
          "color": "rgb(23, 190, 207)"
         },
         "mode": "lines",
         "name": "Luxembourg",
         "showlegend": true,
         "type": "scatter",
         "x": [
          "2020-02-21T00:00:00",
          "2020-02-22T00:00:00",
          "2020-02-23T00:00:00",
          "2020-02-24T00:00:00",
          "2020-02-25T00:00:00",
          "2020-02-26T00:00:00",
          "2020-02-27T00:00:00",
          "2020-02-28T00:00:00",
          "2020-02-29T00:00:00",
          "2020-03-01T00:00:00",
          "2020-03-02T00:00:00",
          "2020-03-03T00:00:00",
          "2020-03-04T00:00:00",
          "2020-03-05T00:00:00",
          "2020-03-06T00:00:00",
          "2020-03-07T00:00:00",
          "2020-03-08T00:00:00",
          "2020-03-09T00:00:00",
          "2020-03-10T00:00:00",
          "2020-03-11T00:00:00",
          "2020-03-12T00:00:00",
          "2020-03-13T00:00:00",
          "2020-03-14T00:00:00",
          "2020-03-15T00:00:00",
          "2020-03-16T00:00:00",
          "2020-03-17T00:00:00",
          "2020-03-18T00:00:00",
          "2020-03-19T00:00:00",
          "2020-03-20T00:00:00",
          "2020-03-21T00:00:00"
         ],
         "y": [
          0,
          0,
          0,
          0,
          0,
          0,
          0,
          0,
          0,
          0,
          0,
          0,
          0,
          0,
          0,
          0,
          0,
          0,
          0,
          0,
          0,
          0,
          1.6611295681063123,
          1.6611295681063123,
          1.6611295681063123,
          1.6611295681063123,
          3.3222591362126246,
          6.644518272425249,
          6.644518272425249,
          13.289036544850498
         ]
        },
        {
         "legendgroup": "US",
         "marker": {
          "color": "rgb(31, 119, 180)",
          "line": {
           "color": "rgb(31, 119, 180)"
          },
          "symbol": 21
         },
         "mode": "markers",
         "name": "",
         "opacity": 1,
         "showlegend": true,
         "type": "scatter",
         "x": [
          "2020-02-21T00:00:00",
          "2020-02-22T00:00:00",
          "2020-02-23T00:00:00",
          "2020-02-24T00:00:00",
          "2020-02-25T00:00:00",
          "2020-02-26T00:00:00",
          "2020-02-27T00:00:00",
          "2020-02-28T00:00:00",
          "2020-02-29T00:00:00",
          "2020-03-01T00:00:00",
          "2020-03-02T00:00:00",
          "2020-03-03T00:00:00",
          "2020-03-04T00:00:00",
          "2020-03-05T00:00:00",
          "2020-03-06T00:00:00",
          "2020-03-07T00:00:00",
          "2020-03-08T00:00:00",
          "2020-03-09T00:00:00",
          "2020-03-10T00:00:00",
          "2020-03-11T00:00:00",
          "2020-03-12T00:00:00",
          "2020-03-13T00:00:00",
          "2020-03-14T00:00:00",
          "2020-03-15T00:00:00",
          "2020-03-16T00:00:00",
          "2020-03-17T00:00:00",
          "2020-03-18T00:00:00",
          "2020-03-19T00:00:00",
          "2020-03-20T00:00:00",
          "2020-03-21T00:00:00"
         ],
         "y": [
          0,
          0,
          0,
          0,
          0,
          0,
          0,
          0,
          0.0030581039755351682,
          0.0030581039755351682,
          0.01834862385321101,
          0.021406727828746176,
          0.03363914373088685,
          0.03669724770642202,
          0.04281345565749235,
          0.05198776758409786,
          0.06422018348623854,
          0.0672782874617737,
          0.0856269113149847,
          0.11009174311926606,
          0.12232415902140673,
          0.1437308868501529,
          0.1651376146788991,
          0.1926605504587156,
          0.2599388379204893,
          0.3302752293577982,
          0.36085626911314983,
          0.6116207951070336,
          0.746177370030581,
          0.9388379204892966
         ]
        },
        {
         "legendgroup": "US",
         "marker": {
          "color": "rgb(31, 119, 180)"
         },
         "mode": "lines",
         "name": "US",
         "showlegend": true,
         "type": "scatter",
         "x": [
          "2020-02-21T00:00:00",
          "2020-02-22T00:00:00",
          "2020-02-23T00:00:00",
          "2020-02-24T00:00:00",
          "2020-02-25T00:00:00",
          "2020-02-26T00:00:00",
          "2020-02-27T00:00:00",
          "2020-02-28T00:00:00",
          "2020-02-29T00:00:00",
          "2020-03-01T00:00:00",
          "2020-03-02T00:00:00",
          "2020-03-03T00:00:00",
          "2020-03-04T00:00:00",
          "2020-03-05T00:00:00",
          "2020-03-06T00:00:00",
          "2020-03-07T00:00:00",
          "2020-03-08T00:00:00",
          "2020-03-09T00:00:00",
          "2020-03-10T00:00:00",
          "2020-03-11T00:00:00",
          "2020-03-12T00:00:00",
          "2020-03-13T00:00:00",
          "2020-03-14T00:00:00",
          "2020-03-15T00:00:00",
          "2020-03-16T00:00:00",
          "2020-03-17T00:00:00",
          "2020-03-18T00:00:00",
          "2020-03-19T00:00:00",
          "2020-03-20T00:00:00",
          "2020-03-21T00:00:00"
         ],
         "y": [
          0,
          0,
          0,
          0,
          0,
          0,
          0,
          0,
          0.0030581039755351682,
          0.0030581039755351682,
          0.01834862385321101,
          0.021406727828746176,
          0.03363914373088685,
          0.03669724770642202,
          0.04281345565749235,
          0.05198776758409786,
          0.06422018348623854,
          0.0672782874617737,
          0.0856269113149847,
          0.11009174311926606,
          0.12232415902140673,
          0.1437308868501529,
          0.1651376146788991,
          0.1926605504587156,
          0.2599388379204893,
          0.3302752293577982,
          0.36085626911314983,
          0.6116207951070336,
          0.746177370030581,
          0.9388379204892966
         ]
        },
        {
         "legendgroup": "Canada",
         "marker": {
          "color": "rgb(255, 127, 14)",
          "line": {
           "color": "rgb(255, 127, 14)"
          },
          "symbol": 24
         },
         "mode": "markers",
         "name": "",
         "opacity": 1,
         "showlegend": true,
         "type": "scatter",
         "x": [
          "2020-02-21T00:00:00",
          "2020-02-22T00:00:00",
          "2020-02-23T00:00:00",
          "2020-02-24T00:00:00",
          "2020-02-25T00:00:00",
          "2020-02-26T00:00:00",
          "2020-02-27T00:00:00",
          "2020-02-28T00:00:00",
          "2020-02-29T00:00:00",
          "2020-03-01T00:00:00",
          "2020-03-02T00:00:00",
          "2020-03-03T00:00:00",
          "2020-03-04T00:00:00",
          "2020-03-05T00:00:00",
          "2020-03-06T00:00:00",
          "2020-03-07T00:00:00",
          "2020-03-08T00:00:00",
          "2020-03-09T00:00:00",
          "2020-03-10T00:00:00",
          "2020-03-11T00:00:00",
          "2020-03-12T00:00:00",
          "2020-03-13T00:00:00",
          "2020-03-14T00:00:00",
          "2020-03-15T00:00:00",
          "2020-03-16T00:00:00",
          "2020-03-17T00:00:00",
          "2020-03-18T00:00:00",
          "2020-03-19T00:00:00",
          "2020-03-20T00:00:00",
          "2020-03-21T00:00:00"
         ],
         "y": [
          0,
          0,
          0,
          0,
          0,
          0,
          0,
          0,
          0,
          0,
          0,
          0,
          0,
          0,
          0,
          0,
          0,
          0.026602819898909284,
          0.026602819898909284,
          0.026602819898909284,
          0.026602819898909284,
          0.026602819898909284,
          0.026602819898909284,
          0.026602819898909284,
          0.10641127959563713,
          0.1330140994945464,
          0.21282255919127427,
          0.23942537909018355,
          0.31923383878691136,
          0.5054535780792764
         ]
        },
        {
         "legendgroup": "Canada",
         "marker": {
          "color": "rgb(255, 127, 14)"
         },
         "mode": "lines",
         "name": "Canada",
         "showlegend": true,
         "type": "scatter",
         "x": [
          "2020-02-21T00:00:00",
          "2020-02-22T00:00:00",
          "2020-02-23T00:00:00",
          "2020-02-24T00:00:00",
          "2020-02-25T00:00:00",
          "2020-02-26T00:00:00",
          "2020-02-27T00:00:00",
          "2020-02-28T00:00:00",
          "2020-02-29T00:00:00",
          "2020-03-01T00:00:00",
          "2020-03-02T00:00:00",
          "2020-03-03T00:00:00",
          "2020-03-04T00:00:00",
          "2020-03-05T00:00:00",
          "2020-03-06T00:00:00",
          "2020-03-07T00:00:00",
          "2020-03-08T00:00:00",
          "2020-03-09T00:00:00",
          "2020-03-10T00:00:00",
          "2020-03-11T00:00:00",
          "2020-03-12T00:00:00",
          "2020-03-13T00:00:00",
          "2020-03-14T00:00:00",
          "2020-03-15T00:00:00",
          "2020-03-16T00:00:00",
          "2020-03-17T00:00:00",
          "2020-03-18T00:00:00",
          "2020-03-19T00:00:00",
          "2020-03-20T00:00:00",
          "2020-03-21T00:00:00"
         ],
         "y": [
          0,
          0,
          0,
          0,
          0,
          0,
          0,
          0,
          0,
          0,
          0,
          0,
          0,
          0,
          0,
          0,
          0,
          0.026602819898909284,
          0.026602819898909284,
          0.026602819898909284,
          0.026602819898909284,
          0.026602819898909284,
          0.026602819898909284,
          0.026602819898909284,
          0.10641127959563713,
          0.1330140994945464,
          0.21282255919127427,
          0.23942537909018355,
          0.31923383878691136,
          0.5054535780792764
         ]
        },
        {
         "legendgroup": "Switzerland",
         "marker": {
          "color": "rgb(140, 86, 75)",
          "line": {
           "color": "rgb(140, 86, 75)"
          },
          "symbol": 27
         },
         "mode": "markers",
         "name": "",
         "opacity": 1,
         "showlegend": true,
         "type": "scatter",
         "x": [
          "2020-02-21T00:00:00",
          "2020-02-22T00:00:00",
          "2020-02-23T00:00:00",
          "2020-02-24T00:00:00",
          "2020-02-25T00:00:00",
          "2020-02-26T00:00:00",
          "2020-02-27T00:00:00",
          "2020-02-28T00:00:00",
          "2020-02-29T00:00:00",
          "2020-03-01T00:00:00",
          "2020-03-02T00:00:00",
          "2020-03-03T00:00:00",
          "2020-03-04T00:00:00",
          "2020-03-05T00:00:00",
          "2020-03-06T00:00:00",
          "2020-03-07T00:00:00",
          "2020-03-08T00:00:00",
          "2020-03-09T00:00:00",
          "2020-03-10T00:00:00",
          "2020-03-11T00:00:00",
          "2020-03-12T00:00:00",
          "2020-03-13T00:00:00",
          "2020-03-14T00:00:00",
          "2020-03-15T00:00:00",
          "2020-03-16T00:00:00",
          "2020-03-17T00:00:00",
          "2020-03-18T00:00:00",
          "2020-03-19T00:00:00",
          "2020-03-20T00:00:00",
          "2020-03-21T00:00:00"
         ],
         "y": [
          0,
          0,
          0,
          0,
          0,
          0,
          0,
          0,
          0,
          0,
          0,
          0,
          0,
          0.11668611435239207,
          0.11668611435239207,
          0.11668611435239207,
          0.23337222870478413,
          0.23337222870478413,
          0.3500583430571762,
          0.46674445740956827,
          0.46674445740956827,
          1.2835472578763127,
          1.5169194865810969,
          1.633605600933489,
          1.633605600933489,
          3.150525087514586,
          3.267211201866978,
          4.784130688448075,
          6.301050175029172,
          8.751458576429405
         ]
        },
        {
         "legendgroup": "Switzerland",
         "marker": {
          "color": "rgb(140, 86, 75)"
         },
         "mode": "lines",
         "name": "Switzerland",
         "showlegend": true,
         "type": "scatter",
         "x": [
          "2020-02-21T00:00:00",
          "2020-02-22T00:00:00",
          "2020-02-23T00:00:00",
          "2020-02-24T00:00:00",
          "2020-02-25T00:00:00",
          "2020-02-26T00:00:00",
          "2020-02-27T00:00:00",
          "2020-02-28T00:00:00",
          "2020-02-29T00:00:00",
          "2020-03-01T00:00:00",
          "2020-03-02T00:00:00",
          "2020-03-03T00:00:00",
          "2020-03-04T00:00:00",
          "2020-03-05T00:00:00",
          "2020-03-06T00:00:00",
          "2020-03-07T00:00:00",
          "2020-03-08T00:00:00",
          "2020-03-09T00:00:00",
          "2020-03-10T00:00:00",
          "2020-03-11T00:00:00",
          "2020-03-12T00:00:00",
          "2020-03-13T00:00:00",
          "2020-03-14T00:00:00",
          "2020-03-15T00:00:00",
          "2020-03-16T00:00:00",
          "2020-03-17T00:00:00",
          "2020-03-18T00:00:00",
          "2020-03-19T00:00:00",
          "2020-03-20T00:00:00",
          "2020-03-21T00:00:00"
         ],
         "y": [
          0,
          0,
          0,
          0,
          0,
          0,
          0,
          0,
          0,
          0,
          0,
          0,
          0,
          0.11668611435239207,
          0.11668611435239207,
          0.11668611435239207,
          0.23337222870478413,
          0.23337222870478413,
          0.3500583430571762,
          0.46674445740956827,
          0.46674445740956827,
          1.2835472578763127,
          1.5169194865810969,
          1.633605600933489,
          1.633605600933489,
          3.150525087514586,
          3.267211201866978,
          4.784130688448075,
          6.301050175029172,
          8.751458576429405
         ]
        }
       ],
       "layout": {
        "annotations": [
         {
          "showarrow": false,
          "text": "Last update: 2020-03-22 08:53 ; Last data: 2020-03-21 ; Data: CSSE ; Author: @guillaumerozier",
          "x": 0,
          "xref": "paper",
          "y": 1.1,
          "yref": "paper"
         }
        ],
        "template": {
         "data": {
          "bar": [
           {
            "error_x": {
             "color": "#2a3f5f"
            },
            "error_y": {
             "color": "#2a3f5f"
            },
            "marker": {
             "line": {
              "color": "#E5ECF6",
              "width": 0.5
             }
            },
            "type": "bar"
           }
          ],
          "barpolar": [
           {
            "marker": {
             "line": {
              "color": "#E5ECF6",
              "width": 0.5
             }
            },
            "type": "barpolar"
           }
          ],
          "carpet": [
           {
            "aaxis": {
             "endlinecolor": "#2a3f5f",
             "gridcolor": "white",
             "linecolor": "white",
             "minorgridcolor": "white",
             "startlinecolor": "#2a3f5f"
            },
            "baxis": {
             "endlinecolor": "#2a3f5f",
             "gridcolor": "white",
             "linecolor": "white",
             "minorgridcolor": "white",
             "startlinecolor": "#2a3f5f"
            },
            "type": "carpet"
           }
          ],
          "choropleth": [
           {
            "colorbar": {
             "outlinewidth": 0,
             "ticks": ""
            },
            "type": "choropleth"
           }
          ],
          "contour": [
           {
            "colorbar": {
             "outlinewidth": 0,
             "ticks": ""
            },
            "colorscale": [
             [
              0,
              "#0d0887"
             ],
             [
              0.1111111111111111,
              "#46039f"
             ],
             [
              0.2222222222222222,
              "#7201a8"
             ],
             [
              0.3333333333333333,
              "#9c179e"
             ],
             [
              0.4444444444444444,
              "#bd3786"
             ],
             [
              0.5555555555555556,
              "#d8576b"
             ],
             [
              0.6666666666666666,
              "#ed7953"
             ],
             [
              0.7777777777777778,
              "#fb9f3a"
             ],
             [
              0.8888888888888888,
              "#fdca26"
             ],
             [
              1,
              "#f0f921"
             ]
            ],
            "type": "contour"
           }
          ],
          "contourcarpet": [
           {
            "colorbar": {
             "outlinewidth": 0,
             "ticks": ""
            },
            "type": "contourcarpet"
           }
          ],
          "heatmap": [
           {
            "colorbar": {
             "outlinewidth": 0,
             "ticks": ""
            },
            "colorscale": [
             [
              0,
              "#0d0887"
             ],
             [
              0.1111111111111111,
              "#46039f"
             ],
             [
              0.2222222222222222,
              "#7201a8"
             ],
             [
              0.3333333333333333,
              "#9c179e"
             ],
             [
              0.4444444444444444,
              "#bd3786"
             ],
             [
              0.5555555555555556,
              "#d8576b"
             ],
             [
              0.6666666666666666,
              "#ed7953"
             ],
             [
              0.7777777777777778,
              "#fb9f3a"
             ],
             [
              0.8888888888888888,
              "#fdca26"
             ],
             [
              1,
              "#f0f921"
             ]
            ],
            "type": "heatmap"
           }
          ],
          "heatmapgl": [
           {
            "colorbar": {
             "outlinewidth": 0,
             "ticks": ""
            },
            "colorscale": [
             [
              0,
              "#0d0887"
             ],
             [
              0.1111111111111111,
              "#46039f"
             ],
             [
              0.2222222222222222,
              "#7201a8"
             ],
             [
              0.3333333333333333,
              "#9c179e"
             ],
             [
              0.4444444444444444,
              "#bd3786"
             ],
             [
              0.5555555555555556,
              "#d8576b"
             ],
             [
              0.6666666666666666,
              "#ed7953"
             ],
             [
              0.7777777777777778,
              "#fb9f3a"
             ],
             [
              0.8888888888888888,
              "#fdca26"
             ],
             [
              1,
              "#f0f921"
             ]
            ],
            "type": "heatmapgl"
           }
          ],
          "histogram": [
           {
            "marker": {
             "colorbar": {
              "outlinewidth": 0,
              "ticks": ""
             }
            },
            "type": "histogram"
           }
          ],
          "histogram2d": [
           {
            "colorbar": {
             "outlinewidth": 0,
             "ticks": ""
            },
            "colorscale": [
             [
              0,
              "#0d0887"
             ],
             [
              0.1111111111111111,
              "#46039f"
             ],
             [
              0.2222222222222222,
              "#7201a8"
             ],
             [
              0.3333333333333333,
              "#9c179e"
             ],
             [
              0.4444444444444444,
              "#bd3786"
             ],
             [
              0.5555555555555556,
              "#d8576b"
             ],
             [
              0.6666666666666666,
              "#ed7953"
             ],
             [
              0.7777777777777778,
              "#fb9f3a"
             ],
             [
              0.8888888888888888,
              "#fdca26"
             ],
             [
              1,
              "#f0f921"
             ]
            ],
            "type": "histogram2d"
           }
          ],
          "histogram2dcontour": [
           {
            "colorbar": {
             "outlinewidth": 0,
             "ticks": ""
            },
            "colorscale": [
             [
              0,
              "#0d0887"
             ],
             [
              0.1111111111111111,
              "#46039f"
             ],
             [
              0.2222222222222222,
              "#7201a8"
             ],
             [
              0.3333333333333333,
              "#9c179e"
             ],
             [
              0.4444444444444444,
              "#bd3786"
             ],
             [
              0.5555555555555556,
              "#d8576b"
             ],
             [
              0.6666666666666666,
              "#ed7953"
             ],
             [
              0.7777777777777778,
              "#fb9f3a"
             ],
             [
              0.8888888888888888,
              "#fdca26"
             ],
             [
              1,
              "#f0f921"
             ]
            ],
            "type": "histogram2dcontour"
           }
          ],
          "mesh3d": [
           {
            "colorbar": {
             "outlinewidth": 0,
             "ticks": ""
            },
            "type": "mesh3d"
           }
          ],
          "parcoords": [
           {
            "line": {
             "colorbar": {
              "outlinewidth": 0,
              "ticks": ""
             }
            },
            "type": "parcoords"
           }
          ],
          "pie": [
           {
            "automargin": true,
            "type": "pie"
           }
          ],
          "scatter": [
           {
            "marker": {
             "colorbar": {
              "outlinewidth": 0,
              "ticks": ""
             }
            },
            "type": "scatter"
           }
          ],
          "scatter3d": [
           {
            "line": {
             "colorbar": {
              "outlinewidth": 0,
              "ticks": ""
             }
            },
            "marker": {
             "colorbar": {
              "outlinewidth": 0,
              "ticks": ""
             }
            },
            "type": "scatter3d"
           }
          ],
          "scattercarpet": [
           {
            "marker": {
             "colorbar": {
              "outlinewidth": 0,
              "ticks": ""
             }
            },
            "type": "scattercarpet"
           }
          ],
          "scattergeo": [
           {
            "marker": {
             "colorbar": {
              "outlinewidth": 0,
              "ticks": ""
             }
            },
            "type": "scattergeo"
           }
          ],
          "scattergl": [
           {
            "marker": {
             "colorbar": {
              "outlinewidth": 0,
              "ticks": ""
             }
            },
            "type": "scattergl"
           }
          ],
          "scattermapbox": [
           {
            "marker": {
             "colorbar": {
              "outlinewidth": 0,
              "ticks": ""
             }
            },
            "type": "scattermapbox"
           }
          ],
          "scatterpolar": [
           {
            "marker": {
             "colorbar": {
              "outlinewidth": 0,
              "ticks": ""
             }
            },
            "type": "scatterpolar"
           }
          ],
          "scatterpolargl": [
           {
            "marker": {
             "colorbar": {
              "outlinewidth": 0,
              "ticks": ""
             }
            },
            "type": "scatterpolargl"
           }
          ],
          "scatterternary": [
           {
            "marker": {
             "colorbar": {
              "outlinewidth": 0,
              "ticks": ""
             }
            },
            "type": "scatterternary"
           }
          ],
          "surface": [
           {
            "colorbar": {
             "outlinewidth": 0,
             "ticks": ""
            },
            "colorscale": [
             [
              0,
              "#0d0887"
             ],
             [
              0.1111111111111111,
              "#46039f"
             ],
             [
              0.2222222222222222,
              "#7201a8"
             ],
             [
              0.3333333333333333,
              "#9c179e"
             ],
             [
              0.4444444444444444,
              "#bd3786"
             ],
             [
              0.5555555555555556,
              "#d8576b"
             ],
             [
              0.6666666666666666,
              "#ed7953"
             ],
             [
              0.7777777777777778,
              "#fb9f3a"
             ],
             [
              0.8888888888888888,
              "#fdca26"
             ],
             [
              1,
              "#f0f921"
             ]
            ],
            "type": "surface"
           }
          ],
          "table": [
           {
            "cells": {
             "fill": {
              "color": "#EBF0F8"
             },
             "line": {
              "color": "white"
             }
            },
            "header": {
             "fill": {
              "color": "#C8D4E3"
             },
             "line": {
              "color": "white"
             }
            },
            "type": "table"
           }
          ]
         },
         "layout": {
          "annotationdefaults": {
           "arrowcolor": "#2a3f5f",
           "arrowhead": 0,
           "arrowwidth": 1
          },
          "coloraxis": {
           "colorbar": {
            "outlinewidth": 0,
            "ticks": ""
           }
          },
          "colorscale": {
           "diverging": [
            [
             0,
             "#8e0152"
            ],
            [
             0.1,
             "#c51b7d"
            ],
            [
             0.2,
             "#de77ae"
            ],
            [
             0.3,
             "#f1b6da"
            ],
            [
             0.4,
             "#fde0ef"
            ],
            [
             0.5,
             "#f7f7f7"
            ],
            [
             0.6,
             "#e6f5d0"
            ],
            [
             0.7,
             "#b8e186"
            ],
            [
             0.8,
             "#7fbc41"
            ],
            [
             0.9,
             "#4d9221"
            ],
            [
             1,
             "#276419"
            ]
           ],
           "sequential": [
            [
             0,
             "#0d0887"
            ],
            [
             0.1111111111111111,
             "#46039f"
            ],
            [
             0.2222222222222222,
             "#7201a8"
            ],
            [
             0.3333333333333333,
             "#9c179e"
            ],
            [
             0.4444444444444444,
             "#bd3786"
            ],
            [
             0.5555555555555556,
             "#d8576b"
            ],
            [
             0.6666666666666666,
             "#ed7953"
            ],
            [
             0.7777777777777778,
             "#fb9f3a"
            ],
            [
             0.8888888888888888,
             "#fdca26"
            ],
            [
             1,
             "#f0f921"
            ]
           ],
           "sequentialminus": [
            [
             0,
             "#0d0887"
            ],
            [
             0.1111111111111111,
             "#46039f"
            ],
            [
             0.2222222222222222,
             "#7201a8"
            ],
            [
             0.3333333333333333,
             "#9c179e"
            ],
            [
             0.4444444444444444,
             "#bd3786"
            ],
            [
             0.5555555555555556,
             "#d8576b"
            ],
            [
             0.6666666666666666,
             "#ed7953"
            ],
            [
             0.7777777777777778,
             "#fb9f3a"
            ],
            [
             0.8888888888888888,
             "#fdca26"
            ],
            [
             1,
             "#f0f921"
            ]
           ]
          },
          "colorway": [
           "#636efa",
           "#EF553B",
           "#00cc96",
           "#ab63fa",
           "#FFA15A",
           "#19d3f3",
           "#FF6692",
           "#B6E880",
           "#FF97FF",
           "#FECB52"
          ],
          "font": {
           "color": "#2a3f5f"
          },
          "geo": {
           "bgcolor": "white",
           "lakecolor": "white",
           "landcolor": "#E5ECF6",
           "showlakes": true,
           "showland": true,
           "subunitcolor": "white"
          },
          "hoverlabel": {
           "align": "left"
          },
          "hovermode": "closest",
          "mapbox": {
           "style": "light"
          },
          "paper_bgcolor": "white",
          "plot_bgcolor": "#E5ECF6",
          "polar": {
           "angularaxis": {
            "gridcolor": "white",
            "linecolor": "white",
            "ticks": ""
           },
           "bgcolor": "#E5ECF6",
           "radialaxis": {
            "gridcolor": "white",
            "linecolor": "white",
            "ticks": ""
           }
          },
          "scene": {
           "xaxis": {
            "backgroundcolor": "#E5ECF6",
            "gridcolor": "white",
            "gridwidth": 2,
            "linecolor": "white",
            "showbackground": true,
            "ticks": "",
            "zerolinecolor": "white"
           },
           "yaxis": {
            "backgroundcolor": "#E5ECF6",
            "gridcolor": "white",
            "gridwidth": 2,
            "linecolor": "white",
            "showbackground": true,
            "ticks": "",
            "zerolinecolor": "white"
           },
           "zaxis": {
            "backgroundcolor": "#E5ECF6",
            "gridcolor": "white",
            "gridwidth": 2,
            "linecolor": "white",
            "showbackground": true,
            "ticks": "",
            "zerolinecolor": "white"
           }
          },
          "shapedefaults": {
           "line": {
            "color": "#2a3f5f"
           }
          },
          "ternary": {
           "aaxis": {
            "gridcolor": "white",
            "linecolor": "white",
            "ticks": ""
           },
           "baxis": {
            "gridcolor": "white",
            "linecolor": "white",
            "ticks": ""
           },
           "bgcolor": "#E5ECF6",
           "caxis": {
            "gridcolor": "white",
            "linecolor": "white",
            "ticks": ""
           }
          },
          "title": {
           "x": 0.05
          },
          "xaxis": {
           "automargin": true,
           "gridcolor": "white",
           "linecolor": "white",
           "ticks": "",
           "title": {
            "standoff": 15
           },
           "zerolinecolor": "white",
           "zerolinewidth": 2
          },
          "yaxis": {
           "automargin": true,
           "gridcolor": "white",
           "linecolor": "white",
           "ticks": "",
           "title": {
            "standoff": 15
           },
           "zerolinecolor": "white",
           "zerolinewidth": 2
          }
         }
        },
        "title": {
         "text": "COVID-19 deaths over time for 1 million inhabitants"
        },
        "xaxis": {
         "nticks": 30,
         "title": {
          "text": "Time (day)"
         }
        },
        "yaxis": {
         "title": {
          "text": "COVID-19 total deaths / nb of inhabitants (million)"
         }
        }
       }
      },
      "text/html": [
       "<div>\n",
       "        \n",
       "        \n",
       "            <div id=\"ae3ff0ba-009d-4b92-97a8-4acc4544fc44\" class=\"plotly-graph-div\" style=\"height:525px; width:100%;\"></div>\n",
       "            <script type=\"text/javascript\">\n",
       "                require([\"plotly\"], function(Plotly) {\n",
       "                    window.PLOTLYENV=window.PLOTLYENV || {};\n",
       "                    \n",
       "                if (document.getElementById(\"ae3ff0ba-009d-4b92-97a8-4acc4544fc44\")) {\n",
       "                    Plotly.newPlot(\n",
       "                        'ae3ff0ba-009d-4b92-97a8-4acc4544fc44',\n",
       "                        [{\"legendgroup\": \"France\", \"marker\": {\"color\": \"rgb(214, 39, 40)\", \"line\": {\"color\": \"rgb(214, 39, 40)\"}, \"symbol\": 0}, \"mode\": \"markers\", \"name\": \"\", \"opacity\": 1, \"showlegend\": true, \"type\": \"scatter\", \"x\": [\"2020-02-21T00:00:00\", \"2020-02-22T00:00:00\", \"2020-02-23T00:00:00\", \"2020-02-24T00:00:00\", \"2020-02-25T00:00:00\", \"2020-02-26T00:00:00\", \"2020-02-27T00:00:00\", \"2020-02-28T00:00:00\", \"2020-02-29T00:00:00\", \"2020-03-01T00:00:00\", \"2020-03-02T00:00:00\", \"2020-03-03T00:00:00\", \"2020-03-04T00:00:00\", \"2020-03-05T00:00:00\", \"2020-03-06T00:00:00\", \"2020-03-07T00:00:00\", \"2020-03-08T00:00:00\", \"2020-03-09T00:00:00\", \"2020-03-10T00:00:00\", \"2020-03-11T00:00:00\", \"2020-03-12T00:00:00\", \"2020-03-13T00:00:00\", \"2020-03-14T00:00:00\", \"2020-03-15T00:00:00\", \"2020-03-16T00:00:00\", \"2020-03-17T00:00:00\", \"2020-03-18T00:00:00\", \"2020-03-19T00:00:00\", \"2020-03-20T00:00:00\", \"2020-03-21T00:00:00\"], \"y\": [0.014927601134497688, 0.014927601134497688, 0.014927601134497688, 0.014927601134497688, 0.014927601134497688, 0.029855202268995375, 0.029855202268995375, 0.029855202268995375, 0.029855202268995375, 0.029855202268995375, 0.04478280340349306, 0.05971040453799075, 0.05971040453799075, 0.08956560680698612, 0.1343484102104792, 0.16420361247947457, 0.2836244215554561, 0.2836244215554561, 0.4926108374384237, 0.716524854455889, 0.716524854455889, 1.1792804896253173, 1.3584117032392895, 1.3584117032392895, 2.2092849679056576, 2.2092849679056576, 2.2092849679056576, 3.627407075682938, 6.71742051052396, 8.3893118375877]}, {\"legendgroup\": \"France\", \"marker\": {\"color\": \"rgb(214, 39, 40)\"}, \"mode\": \"lines\", \"name\": \"France\", \"showlegend\": true, \"type\": \"scatter\", \"x\": [\"2020-02-21T00:00:00\", \"2020-02-22T00:00:00\", \"2020-02-23T00:00:00\", \"2020-02-24T00:00:00\", \"2020-02-25T00:00:00\", \"2020-02-26T00:00:00\", \"2020-02-27T00:00:00\", \"2020-02-28T00:00:00\", \"2020-02-29T00:00:00\", \"2020-03-01T00:00:00\", \"2020-03-02T00:00:00\", \"2020-03-03T00:00:00\", \"2020-03-04T00:00:00\", \"2020-03-05T00:00:00\", \"2020-03-06T00:00:00\", \"2020-03-07T00:00:00\", \"2020-03-08T00:00:00\", \"2020-03-09T00:00:00\", \"2020-03-10T00:00:00\", \"2020-03-11T00:00:00\", \"2020-03-12T00:00:00\", \"2020-03-13T00:00:00\", \"2020-03-14T00:00:00\", \"2020-03-15T00:00:00\", \"2020-03-16T00:00:00\", \"2020-03-17T00:00:00\", \"2020-03-18T00:00:00\", \"2020-03-19T00:00:00\", \"2020-03-20T00:00:00\", \"2020-03-21T00:00:00\"], \"y\": [0.014927601134497688, 0.014927601134497688, 0.014927601134497688, 0.014927601134497688, 0.014927601134497688, 0.029855202268995375, 0.029855202268995375, 0.029855202268995375, 0.029855202268995375, 0.029855202268995375, 0.04478280340349306, 0.05971040453799075, 0.05971040453799075, 0.08956560680698612, 0.1343484102104792, 0.16420361247947457, 0.2836244215554561, 0.2836244215554561, 0.4926108374384237, 0.716524854455889, 0.716524854455889, 1.1792804896253173, 1.3584117032392895, 1.3584117032392895, 2.2092849679056576, 2.2092849679056576, 2.2092849679056576, 3.627407075682938, 6.71742051052396, 8.3893118375877]}, {\"legendgroup\": \"Italy\", \"marker\": {\"color\": \"rgb(127, 127, 127)\", \"line\": {\"color\": \"rgb(127, 127, 127)\"}, \"symbol\": 3}, \"mode\": \"markers\", \"name\": \"\", \"opacity\": 1, \"showlegend\": true, \"type\": \"scatter\", \"x\": [\"2020-02-21T00:00:00\", \"2020-02-22T00:00:00\", \"2020-02-23T00:00:00\", \"2020-02-24T00:00:00\", \"2020-02-25T00:00:00\", \"2020-02-26T00:00:00\", \"2020-02-27T00:00:00\", \"2020-02-28T00:00:00\", \"2020-02-29T00:00:00\", \"2020-03-01T00:00:00\", \"2020-03-02T00:00:00\", \"2020-03-03T00:00:00\", \"2020-03-04T00:00:00\", \"2020-03-05T00:00:00\", \"2020-03-06T00:00:00\", \"2020-03-07T00:00:00\", \"2020-03-08T00:00:00\", \"2020-03-09T00:00:00\", \"2020-03-10T00:00:00\", \"2020-03-11T00:00:00\", \"2020-03-12T00:00:00\", \"2020-03-13T00:00:00\", \"2020-03-14T00:00:00\", \"2020-03-15T00:00:00\", \"2020-03-16T00:00:00\", \"2020-03-17T00:00:00\", \"2020-03-18T00:00:00\", \"2020-03-19T00:00:00\", \"2020-03-20T00:00:00\", \"2020-03-21T00:00:00\"], \"y\": [0.016534391534391537, 0.033068783068783074, 0.04960317460317461, 0.11574074074074074, 0.16534391534391535, 0.19841269841269843, 0.2810846560846561, 0.34722222222222227, 0.47949735449735453, 0.5621693121693122, 0.8597883597883599, 1.3062169312169314, 1.7691798941798942, 2.4470899470899474, 3.2572751322751325, 3.852513227513228, 6.051587301587302, 7.655423280423281, 10.433201058201059, 13.673941798941799, 13.673941798941799, 20.932539682539684, 23.826058201058203, 29.91071428571429, 35.68121693121693, 41.38558201058201, 49.239417989417994, 56.29960317460318, 66.66666666666667, 79.77843915343915]}, {\"legendgroup\": \"Italy\", \"marker\": {\"color\": \"rgb(127, 127, 127)\"}, \"mode\": \"lines\", \"name\": \"Italy\", \"showlegend\": true, \"type\": \"scatter\", \"x\": [\"2020-02-21T00:00:00\", \"2020-02-22T00:00:00\", \"2020-02-23T00:00:00\", \"2020-02-24T00:00:00\", \"2020-02-25T00:00:00\", \"2020-02-26T00:00:00\", \"2020-02-27T00:00:00\", \"2020-02-28T00:00:00\", \"2020-02-29T00:00:00\", \"2020-03-01T00:00:00\", \"2020-03-02T00:00:00\", \"2020-03-03T00:00:00\", \"2020-03-04T00:00:00\", \"2020-03-05T00:00:00\", \"2020-03-06T00:00:00\", \"2020-03-07T00:00:00\", \"2020-03-08T00:00:00\", \"2020-03-09T00:00:00\", \"2020-03-10T00:00:00\", \"2020-03-11T00:00:00\", \"2020-03-12T00:00:00\", \"2020-03-13T00:00:00\", \"2020-03-14T00:00:00\", \"2020-03-15T00:00:00\", \"2020-03-16T00:00:00\", \"2020-03-17T00:00:00\", \"2020-03-18T00:00:00\", \"2020-03-19T00:00:00\", \"2020-03-20T00:00:00\", \"2020-03-21T00:00:00\"], \"y\": [0.016534391534391537, 0.033068783068783074, 0.04960317460317461, 0.11574074074074074, 0.16534391534391535, 0.19841269841269843, 0.2810846560846561, 0.34722222222222227, 0.47949735449735453, 0.5621693121693122, 0.8597883597883599, 1.3062169312169314, 1.7691798941798942, 2.4470899470899474, 3.2572751322751325, 3.852513227513228, 6.051587301587302, 7.655423280423281, 10.433201058201059, 13.673941798941799, 13.673941798941799, 20.932539682539684, 23.826058201058203, 29.91071428571429, 35.68121693121693, 41.38558201058201, 49.239417989417994, 56.29960317460318, 66.66666666666667, 79.77843915343915]}, {\"legendgroup\": \"United Kingdom\", \"marker\": {\"color\": \"rgb(188, 189, 34)\", \"line\": {\"color\": \"rgb(188, 189, 34)\"}, \"symbol\": 6}, \"mode\": \"markers\", \"name\": \"\", \"opacity\": 1, \"showlegend\": true, \"type\": \"scatter\", \"x\": [\"2020-02-21T00:00:00\", \"2020-02-22T00:00:00\", \"2020-02-23T00:00:00\", \"2020-02-24T00:00:00\", \"2020-02-25T00:00:00\", \"2020-02-26T00:00:00\", \"2020-02-27T00:00:00\", \"2020-02-28T00:00:00\", \"2020-02-29T00:00:00\", \"2020-03-01T00:00:00\", \"2020-03-02T00:00:00\", \"2020-03-03T00:00:00\", \"2020-03-04T00:00:00\", \"2020-03-05T00:00:00\", \"2020-03-06T00:00:00\", \"2020-03-07T00:00:00\", \"2020-03-08T00:00:00\", \"2020-03-09T00:00:00\", \"2020-03-10T00:00:00\", \"2020-03-11T00:00:00\", \"2020-03-12T00:00:00\", \"2020-03-13T00:00:00\", \"2020-03-14T00:00:00\", \"2020-03-15T00:00:00\", \"2020-03-16T00:00:00\", \"2020-03-17T00:00:00\", \"2020-03-18T00:00:00\", \"2020-03-19T00:00:00\", \"2020-03-20T00:00:00\", \"2020-03-21T00:00:00\"], \"y\": [0.0, 0.0, 0.0, 0.0, 0.0, 0.0, 0.0, 0.0, 0.0, 0.0, 0.0, 0.0, 0.0, 0.015051173991571343, 0.030102347983142687, 0.030102347983142687, 0.04515352197471403, 0.060204695966285374, 0.09030704394942805, 0.12040939193257075, 0.12040939193257075, 0.12040939193257075, 0.3160746538229982, 0.3160746538229982, 0.8428657435279953, 0.8428657435279953, 1.0836845273931368, 2.0770620108368454, 2.679108970499699, 3.5219747140276945]}, {\"legendgroup\": \"United Kingdom\", \"marker\": {\"color\": \"rgb(188, 189, 34)\"}, \"mode\": \"lines\", \"name\": \"United Kingdom\", \"showlegend\": true, \"type\": \"scatter\", \"x\": [\"2020-02-21T00:00:00\", \"2020-02-22T00:00:00\", \"2020-02-23T00:00:00\", \"2020-02-24T00:00:00\", \"2020-02-25T00:00:00\", \"2020-02-26T00:00:00\", \"2020-02-27T00:00:00\", \"2020-02-28T00:00:00\", \"2020-02-29T00:00:00\", \"2020-03-01T00:00:00\", \"2020-03-02T00:00:00\", \"2020-03-03T00:00:00\", \"2020-03-04T00:00:00\", \"2020-03-05T00:00:00\", \"2020-03-06T00:00:00\", \"2020-03-07T00:00:00\", \"2020-03-08T00:00:00\", \"2020-03-09T00:00:00\", \"2020-03-10T00:00:00\", \"2020-03-11T00:00:00\", \"2020-03-12T00:00:00\", \"2020-03-13T00:00:00\", \"2020-03-14T00:00:00\", \"2020-03-15T00:00:00\", \"2020-03-16T00:00:00\", \"2020-03-17T00:00:00\", \"2020-03-18T00:00:00\", \"2020-03-19T00:00:00\", \"2020-03-20T00:00:00\", \"2020-03-21T00:00:00\"], \"y\": [0.0, 0.0, 0.0, 0.0, 0.0, 0.0, 0.0, 0.0, 0.0, 0.0, 0.0, 0.0, 0.0, 0.015051173991571343, 0.030102347983142687, 0.030102347983142687, 0.04515352197471403, 0.060204695966285374, 0.09030704394942805, 0.12040939193257075, 0.12040939193257075, 0.12040939193257075, 0.3160746538229982, 0.3160746538229982, 0.8428657435279953, 0.8428657435279953, 1.0836845273931368, 2.0770620108368454, 2.679108970499699, 3.5219747140276945]}, {\"legendgroup\": \"Spain\", \"marker\": {\"color\": \"rgb(148, 103, 189)\", \"line\": {\"color\": \"rgb(148, 103, 189)\"}, \"symbol\": 9}, \"mode\": \"markers\", \"name\": \"\", \"opacity\": 1, \"showlegend\": true, \"type\": \"scatter\", \"x\": [\"2020-02-21T00:00:00\", \"2020-02-22T00:00:00\", \"2020-02-23T00:00:00\", \"2020-02-24T00:00:00\", \"2020-02-25T00:00:00\", \"2020-02-26T00:00:00\", \"2020-02-27T00:00:00\", \"2020-02-28T00:00:00\", \"2020-02-29T00:00:00\", \"2020-03-01T00:00:00\", \"2020-03-02T00:00:00\", \"2020-03-03T00:00:00\", \"2020-03-04T00:00:00\", \"2020-03-05T00:00:00\", \"2020-03-06T00:00:00\", \"2020-03-07T00:00:00\", \"2020-03-08T00:00:00\", \"2020-03-09T00:00:00\", \"2020-03-10T00:00:00\", \"2020-03-11T00:00:00\", \"2020-03-12T00:00:00\", \"2020-03-13T00:00:00\", \"2020-03-14T00:00:00\", \"2020-03-15T00:00:00\", \"2020-03-16T00:00:00\", \"2020-03-17T00:00:00\", \"2020-03-18T00:00:00\", \"2020-03-19T00:00:00\", \"2020-03-20T00:00:00\", \"2020-03-21T00:00:00\"], \"y\": [0.0, 0.0, 0.0, 0.0, 0.0, 0.0, 0.0, 0.0, 0.0, 0.0, 0.0, 0.021431633090441493, 0.042863266180882986, 0.06429489927132448, 0.10715816545220747, 0.21431633090441493, 0.3643377625375054, 0.6000857265323618, 0.7501071581654523, 1.1573081868838406, 1.1787398199742822, 2.8504072010287187, 4.179168452636091, 6.193741963137591, 7.32961851693099, 11.423060437205315, 13.35190741534505, 17.788255465066438, 22.35319331333048, 29.468495499357054]}, {\"legendgroup\": \"Spain\", \"marker\": {\"color\": \"rgb(148, 103, 189)\"}, \"mode\": \"lines\", \"name\": \"Spain\", \"showlegend\": true, \"type\": \"scatter\", \"x\": [\"2020-02-21T00:00:00\", \"2020-02-22T00:00:00\", \"2020-02-23T00:00:00\", \"2020-02-24T00:00:00\", \"2020-02-25T00:00:00\", \"2020-02-26T00:00:00\", \"2020-02-27T00:00:00\", \"2020-02-28T00:00:00\", \"2020-02-29T00:00:00\", \"2020-03-01T00:00:00\", \"2020-03-02T00:00:00\", \"2020-03-03T00:00:00\", \"2020-03-04T00:00:00\", \"2020-03-05T00:00:00\", \"2020-03-06T00:00:00\", \"2020-03-07T00:00:00\", \"2020-03-08T00:00:00\", \"2020-03-09T00:00:00\", \"2020-03-10T00:00:00\", \"2020-03-11T00:00:00\", \"2020-03-12T00:00:00\", \"2020-03-13T00:00:00\", \"2020-03-14T00:00:00\", \"2020-03-15T00:00:00\", \"2020-03-16T00:00:00\", \"2020-03-17T00:00:00\", \"2020-03-18T00:00:00\", \"2020-03-19T00:00:00\", \"2020-03-20T00:00:00\", \"2020-03-21T00:00:00\"], \"y\": [0.0, 0.0, 0.0, 0.0, 0.0, 0.0, 0.0, 0.0, 0.0, 0.0, 0.0, 0.021431633090441493, 0.042863266180882986, 0.06429489927132448, 0.10715816545220747, 0.21431633090441493, 0.3643377625375054, 0.6000857265323618, 0.7501071581654523, 1.1573081868838406, 1.1787398199742822, 2.8504072010287187, 4.179168452636091, 6.193741963137591, 7.32961851693099, 11.423060437205315, 13.35190741534505, 17.788255465066438, 22.35319331333048, 29.468495499357054]}, {\"legendgroup\": \"Germany\", \"marker\": {\"color\": \"rgb(44, 160, 44)\", \"line\": {\"color\": \"rgb(44, 160, 44)\"}, \"symbol\": 12}, \"mode\": \"markers\", \"name\": \"\", \"opacity\": 1, \"showlegend\": true, \"type\": \"scatter\", \"x\": [\"2020-02-21T00:00:00\", \"2020-02-22T00:00:00\", \"2020-02-23T00:00:00\", \"2020-02-24T00:00:00\", \"2020-02-25T00:00:00\", \"2020-02-26T00:00:00\", \"2020-02-27T00:00:00\", \"2020-02-28T00:00:00\", \"2020-02-29T00:00:00\", \"2020-03-01T00:00:00\", \"2020-03-02T00:00:00\", \"2020-03-03T00:00:00\", \"2020-03-04T00:00:00\", \"2020-03-05T00:00:00\", \"2020-03-06T00:00:00\", \"2020-03-07T00:00:00\", \"2020-03-08T00:00:00\", \"2020-03-09T00:00:00\", \"2020-03-10T00:00:00\", \"2020-03-11T00:00:00\", \"2020-03-12T00:00:00\", \"2020-03-13T00:00:00\", \"2020-03-14T00:00:00\", \"2020-03-15T00:00:00\", \"2020-03-16T00:00:00\", \"2020-03-17T00:00:00\", \"2020-03-18T00:00:00\", \"2020-03-19T00:00:00\", \"2020-03-20T00:00:00\", \"2020-03-21T00:00:00\"], \"y\": [0.0, 0.0, 0.0, 0.0, 0.0, 0.0, 0.0, 0.0, 0.0, 0.0, 0.0, 0.0, 0.0, 0.0, 0.0, 0.0, 0.0, 0.024157506945283246, 0.024157506945283246, 0.03623626041792487, 0.03623626041792487, 0.08455127430849135, 0.1087087812537746, 0.13286628819905785, 0.2053388090349076, 0.28989008334339894, 0.3382050972339654, 0.5314651527962314, 0.8092764826669887, 1.0146152917018962]}, {\"legendgroup\": \"Germany\", \"marker\": {\"color\": \"rgb(44, 160, 44)\"}, \"mode\": \"lines\", \"name\": \"Germany\", \"showlegend\": true, \"type\": \"scatter\", \"x\": [\"2020-02-21T00:00:00\", \"2020-02-22T00:00:00\", \"2020-02-23T00:00:00\", \"2020-02-24T00:00:00\", \"2020-02-25T00:00:00\", \"2020-02-26T00:00:00\", \"2020-02-27T00:00:00\", \"2020-02-28T00:00:00\", \"2020-02-29T00:00:00\", \"2020-03-01T00:00:00\", \"2020-03-02T00:00:00\", \"2020-03-03T00:00:00\", \"2020-03-04T00:00:00\", \"2020-03-05T00:00:00\", \"2020-03-06T00:00:00\", \"2020-03-07T00:00:00\", \"2020-03-08T00:00:00\", \"2020-03-09T00:00:00\", \"2020-03-10T00:00:00\", \"2020-03-11T00:00:00\", \"2020-03-12T00:00:00\", \"2020-03-13T00:00:00\", \"2020-03-14T00:00:00\", \"2020-03-15T00:00:00\", \"2020-03-16T00:00:00\", \"2020-03-17T00:00:00\", \"2020-03-18T00:00:00\", \"2020-03-19T00:00:00\", \"2020-03-20T00:00:00\", \"2020-03-21T00:00:00\"], \"y\": [0.0, 0.0, 0.0, 0.0, 0.0, 0.0, 0.0, 0.0, 0.0, 0.0, 0.0, 0.0, 0.0, 0.0, 0.0, 0.0, 0.0, 0.024157506945283246, 0.024157506945283246, 0.03623626041792487, 0.03623626041792487, 0.08455127430849135, 0.1087087812537746, 0.13286628819905785, 0.2053388090349076, 0.28989008334339894, 0.3382050972339654, 0.5314651527962314, 0.8092764826669887, 1.0146152917018962]}, {\"legendgroup\": \"Belgium\", \"marker\": {\"color\": \"rgb(227, 119, 194)\", \"line\": {\"color\": \"rgb(227, 119, 194)\"}, \"symbol\": 15}, \"mode\": \"markers\", \"name\": \"\", \"opacity\": 1, \"showlegend\": true, \"type\": \"scatter\", \"x\": [\"2020-02-21T00:00:00\", \"2020-02-22T00:00:00\", \"2020-02-23T00:00:00\", \"2020-02-24T00:00:00\", \"2020-02-25T00:00:00\", \"2020-02-26T00:00:00\", \"2020-02-27T00:00:00\", \"2020-02-28T00:00:00\", \"2020-02-29T00:00:00\", \"2020-03-01T00:00:00\", \"2020-03-02T00:00:00\", \"2020-03-03T00:00:00\", \"2020-03-04T00:00:00\", \"2020-03-05T00:00:00\", \"2020-03-06T00:00:00\", \"2020-03-07T00:00:00\", \"2020-03-08T00:00:00\", \"2020-03-09T00:00:00\", \"2020-03-10T00:00:00\", \"2020-03-11T00:00:00\", \"2020-03-12T00:00:00\", \"2020-03-13T00:00:00\", \"2020-03-14T00:00:00\", \"2020-03-15T00:00:00\", \"2020-03-16T00:00:00\", \"2020-03-17T00:00:00\", \"2020-03-18T00:00:00\", \"2020-03-19T00:00:00\", \"2020-03-20T00:00:00\", \"2020-03-21T00:00:00\"], \"y\": [0.0, 0.0, 0.0, 0.0, 0.0, 0.0, 0.0, 0.0, 0.0, 0.0, 0.0, 0.0, 0.0, 0.0, 0.0, 0.0, 0.0, 0.0, 0.0, 0.2631578947368421, 0.2631578947368421, 0.2631578947368421, 0.3508771929824561, 0.3508771929824561, 0.43859649122807015, 0.8771929824561403, 1.2280701754385965, 1.8421052631578947, 3.245614035087719, 5.87719298245614]}, {\"legendgroup\": \"Belgium\", \"marker\": {\"color\": \"rgb(227, 119, 194)\"}, \"mode\": \"lines\", \"name\": \"Belgium\", \"showlegend\": true, \"type\": \"scatter\", \"x\": [\"2020-02-21T00:00:00\", \"2020-02-22T00:00:00\", \"2020-02-23T00:00:00\", \"2020-02-24T00:00:00\", \"2020-02-25T00:00:00\", \"2020-02-26T00:00:00\", \"2020-02-27T00:00:00\", \"2020-02-28T00:00:00\", \"2020-02-29T00:00:00\", \"2020-03-01T00:00:00\", \"2020-03-02T00:00:00\", \"2020-03-03T00:00:00\", \"2020-03-04T00:00:00\", \"2020-03-05T00:00:00\", \"2020-03-06T00:00:00\", \"2020-03-07T00:00:00\", \"2020-03-08T00:00:00\", \"2020-03-09T00:00:00\", \"2020-03-10T00:00:00\", \"2020-03-11T00:00:00\", \"2020-03-12T00:00:00\", \"2020-03-13T00:00:00\", \"2020-03-14T00:00:00\", \"2020-03-15T00:00:00\", \"2020-03-16T00:00:00\", \"2020-03-17T00:00:00\", \"2020-03-18T00:00:00\", \"2020-03-19T00:00:00\", \"2020-03-20T00:00:00\", \"2020-03-21T00:00:00\"], \"y\": [0.0, 0.0, 0.0, 0.0, 0.0, 0.0, 0.0, 0.0, 0.0, 0.0, 0.0, 0.0, 0.0, 0.0, 0.0, 0.0, 0.0, 0.0, 0.0, 0.2631578947368421, 0.2631578947368421, 0.2631578947368421, 0.3508771929824561, 0.3508771929824561, 0.43859649122807015, 0.8771929824561403, 1.2280701754385965, 1.8421052631578947, 3.245614035087719, 5.87719298245614]}, {\"legendgroup\": \"Luxembourg\", \"marker\": {\"color\": \"rgb(23, 190, 207)\", \"line\": {\"color\": \"rgb(23, 190, 207)\"}, \"symbol\": 18}, \"mode\": \"markers\", \"name\": \"\", \"opacity\": 1, \"showlegend\": true, \"type\": \"scatter\", \"x\": [\"2020-02-21T00:00:00\", \"2020-02-22T00:00:00\", \"2020-02-23T00:00:00\", \"2020-02-24T00:00:00\", \"2020-02-25T00:00:00\", \"2020-02-26T00:00:00\", \"2020-02-27T00:00:00\", \"2020-02-28T00:00:00\", \"2020-02-29T00:00:00\", \"2020-03-01T00:00:00\", \"2020-03-02T00:00:00\", \"2020-03-03T00:00:00\", \"2020-03-04T00:00:00\", \"2020-03-05T00:00:00\", \"2020-03-06T00:00:00\", \"2020-03-07T00:00:00\", \"2020-03-08T00:00:00\", \"2020-03-09T00:00:00\", \"2020-03-10T00:00:00\", \"2020-03-11T00:00:00\", \"2020-03-12T00:00:00\", \"2020-03-13T00:00:00\", \"2020-03-14T00:00:00\", \"2020-03-15T00:00:00\", \"2020-03-16T00:00:00\", \"2020-03-17T00:00:00\", \"2020-03-18T00:00:00\", \"2020-03-19T00:00:00\", \"2020-03-20T00:00:00\", \"2020-03-21T00:00:00\"], \"y\": [0.0, 0.0, 0.0, 0.0, 0.0, 0.0, 0.0, 0.0, 0.0, 0.0, 0.0, 0.0, 0.0, 0.0, 0.0, 0.0, 0.0, 0.0, 0.0, 0.0, 0.0, 0.0, 1.6611295681063123, 1.6611295681063123, 1.6611295681063123, 1.6611295681063123, 3.3222591362126246, 6.644518272425249, 6.644518272425249, 13.289036544850498]}, {\"legendgroup\": \"Luxembourg\", \"marker\": {\"color\": \"rgb(23, 190, 207)\"}, \"mode\": \"lines\", \"name\": \"Luxembourg\", \"showlegend\": true, \"type\": \"scatter\", \"x\": [\"2020-02-21T00:00:00\", \"2020-02-22T00:00:00\", \"2020-02-23T00:00:00\", \"2020-02-24T00:00:00\", \"2020-02-25T00:00:00\", \"2020-02-26T00:00:00\", \"2020-02-27T00:00:00\", \"2020-02-28T00:00:00\", \"2020-02-29T00:00:00\", \"2020-03-01T00:00:00\", \"2020-03-02T00:00:00\", \"2020-03-03T00:00:00\", \"2020-03-04T00:00:00\", \"2020-03-05T00:00:00\", \"2020-03-06T00:00:00\", \"2020-03-07T00:00:00\", \"2020-03-08T00:00:00\", \"2020-03-09T00:00:00\", \"2020-03-10T00:00:00\", \"2020-03-11T00:00:00\", \"2020-03-12T00:00:00\", \"2020-03-13T00:00:00\", \"2020-03-14T00:00:00\", \"2020-03-15T00:00:00\", \"2020-03-16T00:00:00\", \"2020-03-17T00:00:00\", \"2020-03-18T00:00:00\", \"2020-03-19T00:00:00\", \"2020-03-20T00:00:00\", \"2020-03-21T00:00:00\"], \"y\": [0.0, 0.0, 0.0, 0.0, 0.0, 0.0, 0.0, 0.0, 0.0, 0.0, 0.0, 0.0, 0.0, 0.0, 0.0, 0.0, 0.0, 0.0, 0.0, 0.0, 0.0, 0.0, 1.6611295681063123, 1.6611295681063123, 1.6611295681063123, 1.6611295681063123, 3.3222591362126246, 6.644518272425249, 6.644518272425249, 13.289036544850498]}, {\"legendgroup\": \"US\", \"marker\": {\"color\": \"rgb(31, 119, 180)\", \"line\": {\"color\": \"rgb(31, 119, 180)\"}, \"symbol\": 21}, \"mode\": \"markers\", \"name\": \"\", \"opacity\": 1, \"showlegend\": true, \"type\": \"scatter\", \"x\": [\"2020-02-21T00:00:00\", \"2020-02-22T00:00:00\", \"2020-02-23T00:00:00\", \"2020-02-24T00:00:00\", \"2020-02-25T00:00:00\", \"2020-02-26T00:00:00\", \"2020-02-27T00:00:00\", \"2020-02-28T00:00:00\", \"2020-02-29T00:00:00\", \"2020-03-01T00:00:00\", \"2020-03-02T00:00:00\", \"2020-03-03T00:00:00\", \"2020-03-04T00:00:00\", \"2020-03-05T00:00:00\", \"2020-03-06T00:00:00\", \"2020-03-07T00:00:00\", \"2020-03-08T00:00:00\", \"2020-03-09T00:00:00\", \"2020-03-10T00:00:00\", \"2020-03-11T00:00:00\", \"2020-03-12T00:00:00\", \"2020-03-13T00:00:00\", \"2020-03-14T00:00:00\", \"2020-03-15T00:00:00\", \"2020-03-16T00:00:00\", \"2020-03-17T00:00:00\", \"2020-03-18T00:00:00\", \"2020-03-19T00:00:00\", \"2020-03-20T00:00:00\", \"2020-03-21T00:00:00\"], \"y\": [0.0, 0.0, 0.0, 0.0, 0.0, 0.0, 0.0, 0.0, 0.0030581039755351682, 0.0030581039755351682, 0.01834862385321101, 0.021406727828746176, 0.03363914373088685, 0.03669724770642202, 0.04281345565749235, 0.05198776758409786, 0.06422018348623854, 0.0672782874617737, 0.0856269113149847, 0.11009174311926606, 0.12232415902140673, 0.1437308868501529, 0.1651376146788991, 0.1926605504587156, 0.2599388379204893, 0.3302752293577982, 0.36085626911314983, 0.6116207951070336, 0.746177370030581, 0.9388379204892966]}, {\"legendgroup\": \"US\", \"marker\": {\"color\": \"rgb(31, 119, 180)\"}, \"mode\": \"lines\", \"name\": \"US\", \"showlegend\": true, \"type\": \"scatter\", \"x\": [\"2020-02-21T00:00:00\", \"2020-02-22T00:00:00\", \"2020-02-23T00:00:00\", \"2020-02-24T00:00:00\", \"2020-02-25T00:00:00\", \"2020-02-26T00:00:00\", \"2020-02-27T00:00:00\", \"2020-02-28T00:00:00\", \"2020-02-29T00:00:00\", \"2020-03-01T00:00:00\", \"2020-03-02T00:00:00\", \"2020-03-03T00:00:00\", \"2020-03-04T00:00:00\", \"2020-03-05T00:00:00\", \"2020-03-06T00:00:00\", \"2020-03-07T00:00:00\", \"2020-03-08T00:00:00\", \"2020-03-09T00:00:00\", \"2020-03-10T00:00:00\", \"2020-03-11T00:00:00\", \"2020-03-12T00:00:00\", \"2020-03-13T00:00:00\", \"2020-03-14T00:00:00\", \"2020-03-15T00:00:00\", \"2020-03-16T00:00:00\", \"2020-03-17T00:00:00\", \"2020-03-18T00:00:00\", \"2020-03-19T00:00:00\", \"2020-03-20T00:00:00\", \"2020-03-21T00:00:00\"], \"y\": [0.0, 0.0, 0.0, 0.0, 0.0, 0.0, 0.0, 0.0, 0.0030581039755351682, 0.0030581039755351682, 0.01834862385321101, 0.021406727828746176, 0.03363914373088685, 0.03669724770642202, 0.04281345565749235, 0.05198776758409786, 0.06422018348623854, 0.0672782874617737, 0.0856269113149847, 0.11009174311926606, 0.12232415902140673, 0.1437308868501529, 0.1651376146788991, 0.1926605504587156, 0.2599388379204893, 0.3302752293577982, 0.36085626911314983, 0.6116207951070336, 0.746177370030581, 0.9388379204892966]}, {\"legendgroup\": \"Canada\", \"marker\": {\"color\": \"rgb(255, 127, 14)\", \"line\": {\"color\": \"rgb(255, 127, 14)\"}, \"symbol\": 24}, \"mode\": \"markers\", \"name\": \"\", \"opacity\": 1, \"showlegend\": true, \"type\": \"scatter\", \"x\": [\"2020-02-21T00:00:00\", \"2020-02-22T00:00:00\", \"2020-02-23T00:00:00\", \"2020-02-24T00:00:00\", \"2020-02-25T00:00:00\", \"2020-02-26T00:00:00\", \"2020-02-27T00:00:00\", \"2020-02-28T00:00:00\", \"2020-02-29T00:00:00\", \"2020-03-01T00:00:00\", \"2020-03-02T00:00:00\", \"2020-03-03T00:00:00\", \"2020-03-04T00:00:00\", \"2020-03-05T00:00:00\", \"2020-03-06T00:00:00\", \"2020-03-07T00:00:00\", \"2020-03-08T00:00:00\", \"2020-03-09T00:00:00\", \"2020-03-10T00:00:00\", \"2020-03-11T00:00:00\", \"2020-03-12T00:00:00\", \"2020-03-13T00:00:00\", \"2020-03-14T00:00:00\", \"2020-03-15T00:00:00\", \"2020-03-16T00:00:00\", \"2020-03-17T00:00:00\", \"2020-03-18T00:00:00\", \"2020-03-19T00:00:00\", \"2020-03-20T00:00:00\", \"2020-03-21T00:00:00\"], \"y\": [0.0, 0.0, 0.0, 0.0, 0.0, 0.0, 0.0, 0.0, 0.0, 0.0, 0.0, 0.0, 0.0, 0.0, 0.0, 0.0, 0.0, 0.026602819898909284, 0.026602819898909284, 0.026602819898909284, 0.026602819898909284, 0.026602819898909284, 0.026602819898909284, 0.026602819898909284, 0.10641127959563713, 0.1330140994945464, 0.21282255919127427, 0.23942537909018355, 0.31923383878691136, 0.5054535780792764]}, {\"legendgroup\": \"Canada\", \"marker\": {\"color\": \"rgb(255, 127, 14)\"}, \"mode\": \"lines\", \"name\": \"Canada\", \"showlegend\": true, \"type\": \"scatter\", \"x\": [\"2020-02-21T00:00:00\", \"2020-02-22T00:00:00\", \"2020-02-23T00:00:00\", \"2020-02-24T00:00:00\", \"2020-02-25T00:00:00\", \"2020-02-26T00:00:00\", \"2020-02-27T00:00:00\", \"2020-02-28T00:00:00\", \"2020-02-29T00:00:00\", \"2020-03-01T00:00:00\", \"2020-03-02T00:00:00\", \"2020-03-03T00:00:00\", \"2020-03-04T00:00:00\", \"2020-03-05T00:00:00\", \"2020-03-06T00:00:00\", \"2020-03-07T00:00:00\", \"2020-03-08T00:00:00\", \"2020-03-09T00:00:00\", \"2020-03-10T00:00:00\", \"2020-03-11T00:00:00\", \"2020-03-12T00:00:00\", \"2020-03-13T00:00:00\", \"2020-03-14T00:00:00\", \"2020-03-15T00:00:00\", \"2020-03-16T00:00:00\", \"2020-03-17T00:00:00\", \"2020-03-18T00:00:00\", \"2020-03-19T00:00:00\", \"2020-03-20T00:00:00\", \"2020-03-21T00:00:00\"], \"y\": [0.0, 0.0, 0.0, 0.0, 0.0, 0.0, 0.0, 0.0, 0.0, 0.0, 0.0, 0.0, 0.0, 0.0, 0.0, 0.0, 0.0, 0.026602819898909284, 0.026602819898909284, 0.026602819898909284, 0.026602819898909284, 0.026602819898909284, 0.026602819898909284, 0.026602819898909284, 0.10641127959563713, 0.1330140994945464, 0.21282255919127427, 0.23942537909018355, 0.31923383878691136, 0.5054535780792764]}, {\"legendgroup\": \"Switzerland\", \"marker\": {\"color\": \"rgb(140, 86, 75)\", \"line\": {\"color\": \"rgb(140, 86, 75)\"}, \"symbol\": 27}, \"mode\": \"markers\", \"name\": \"\", \"opacity\": 1, \"showlegend\": true, \"type\": \"scatter\", \"x\": [\"2020-02-21T00:00:00\", \"2020-02-22T00:00:00\", \"2020-02-23T00:00:00\", \"2020-02-24T00:00:00\", \"2020-02-25T00:00:00\", \"2020-02-26T00:00:00\", \"2020-02-27T00:00:00\", \"2020-02-28T00:00:00\", \"2020-02-29T00:00:00\", \"2020-03-01T00:00:00\", \"2020-03-02T00:00:00\", \"2020-03-03T00:00:00\", \"2020-03-04T00:00:00\", \"2020-03-05T00:00:00\", \"2020-03-06T00:00:00\", \"2020-03-07T00:00:00\", \"2020-03-08T00:00:00\", \"2020-03-09T00:00:00\", \"2020-03-10T00:00:00\", \"2020-03-11T00:00:00\", \"2020-03-12T00:00:00\", \"2020-03-13T00:00:00\", \"2020-03-14T00:00:00\", \"2020-03-15T00:00:00\", \"2020-03-16T00:00:00\", \"2020-03-17T00:00:00\", \"2020-03-18T00:00:00\", \"2020-03-19T00:00:00\", \"2020-03-20T00:00:00\", \"2020-03-21T00:00:00\"], \"y\": [0.0, 0.0, 0.0, 0.0, 0.0, 0.0, 0.0, 0.0, 0.0, 0.0, 0.0, 0.0, 0.0, 0.11668611435239207, 0.11668611435239207, 0.11668611435239207, 0.23337222870478413, 0.23337222870478413, 0.3500583430571762, 0.46674445740956827, 0.46674445740956827, 1.2835472578763127, 1.5169194865810969, 1.633605600933489, 1.633605600933489, 3.150525087514586, 3.267211201866978, 4.784130688448075, 6.301050175029172, 8.751458576429405]}, {\"legendgroup\": \"Switzerland\", \"marker\": {\"color\": \"rgb(140, 86, 75)\"}, \"mode\": \"lines\", \"name\": \"Switzerland\", \"showlegend\": true, \"type\": \"scatter\", \"x\": [\"2020-02-21T00:00:00\", \"2020-02-22T00:00:00\", \"2020-02-23T00:00:00\", \"2020-02-24T00:00:00\", \"2020-02-25T00:00:00\", \"2020-02-26T00:00:00\", \"2020-02-27T00:00:00\", \"2020-02-28T00:00:00\", \"2020-02-29T00:00:00\", \"2020-03-01T00:00:00\", \"2020-03-02T00:00:00\", \"2020-03-03T00:00:00\", \"2020-03-04T00:00:00\", \"2020-03-05T00:00:00\", \"2020-03-06T00:00:00\", \"2020-03-07T00:00:00\", \"2020-03-08T00:00:00\", \"2020-03-09T00:00:00\", \"2020-03-10T00:00:00\", \"2020-03-11T00:00:00\", \"2020-03-12T00:00:00\", \"2020-03-13T00:00:00\", \"2020-03-14T00:00:00\", \"2020-03-15T00:00:00\", \"2020-03-16T00:00:00\", \"2020-03-17T00:00:00\", \"2020-03-18T00:00:00\", \"2020-03-19T00:00:00\", \"2020-03-20T00:00:00\", \"2020-03-21T00:00:00\"], \"y\": [0.0, 0.0, 0.0, 0.0, 0.0, 0.0, 0.0, 0.0, 0.0, 0.0, 0.0, 0.0, 0.0, 0.11668611435239207, 0.11668611435239207, 0.11668611435239207, 0.23337222870478413, 0.23337222870478413, 0.3500583430571762, 0.46674445740956827, 0.46674445740956827, 1.2835472578763127, 1.5169194865810969, 1.633605600933489, 1.633605600933489, 3.150525087514586, 3.267211201866978, 4.784130688448075, 6.301050175029172, 8.751458576429405]}],\n",
       "                        {\"annotations\": [{\"showarrow\": false, \"text\": \"Last update: 2020-03-22 08:53 ; Last data: 2020-03-21 ; Data: CSSE ; Author: @guillaumerozier\", \"x\": 0, \"xref\": \"paper\", \"y\": 1.1, \"yref\": \"paper\"}], \"template\": {\"data\": {\"bar\": [{\"error_x\": {\"color\": \"#2a3f5f\"}, \"error_y\": {\"color\": \"#2a3f5f\"}, \"marker\": {\"line\": {\"color\": \"#E5ECF6\", \"width\": 0.5}}, \"type\": \"bar\"}], \"barpolar\": [{\"marker\": {\"line\": {\"color\": \"#E5ECF6\", \"width\": 0.5}}, \"type\": \"barpolar\"}], \"carpet\": [{\"aaxis\": {\"endlinecolor\": \"#2a3f5f\", \"gridcolor\": \"white\", \"linecolor\": \"white\", \"minorgridcolor\": \"white\", \"startlinecolor\": \"#2a3f5f\"}, \"baxis\": {\"endlinecolor\": \"#2a3f5f\", \"gridcolor\": \"white\", \"linecolor\": \"white\", \"minorgridcolor\": \"white\", \"startlinecolor\": \"#2a3f5f\"}, \"type\": \"carpet\"}], \"choropleth\": [{\"colorbar\": {\"outlinewidth\": 0, \"ticks\": \"\"}, \"type\": \"choropleth\"}], \"contour\": [{\"colorbar\": {\"outlinewidth\": 0, \"ticks\": \"\"}, \"colorscale\": [[0.0, \"#0d0887\"], [0.1111111111111111, \"#46039f\"], [0.2222222222222222, \"#7201a8\"], [0.3333333333333333, \"#9c179e\"], [0.4444444444444444, \"#bd3786\"], [0.5555555555555556, \"#d8576b\"], [0.6666666666666666, \"#ed7953\"], [0.7777777777777778, \"#fb9f3a\"], [0.8888888888888888, \"#fdca26\"], [1.0, \"#f0f921\"]], \"type\": \"contour\"}], \"contourcarpet\": [{\"colorbar\": {\"outlinewidth\": 0, \"ticks\": \"\"}, \"type\": \"contourcarpet\"}], \"heatmap\": [{\"colorbar\": {\"outlinewidth\": 0, \"ticks\": \"\"}, \"colorscale\": [[0.0, \"#0d0887\"], [0.1111111111111111, \"#46039f\"], [0.2222222222222222, \"#7201a8\"], [0.3333333333333333, \"#9c179e\"], [0.4444444444444444, \"#bd3786\"], [0.5555555555555556, \"#d8576b\"], [0.6666666666666666, \"#ed7953\"], [0.7777777777777778, \"#fb9f3a\"], [0.8888888888888888, \"#fdca26\"], [1.0, \"#f0f921\"]], \"type\": \"heatmap\"}], \"heatmapgl\": [{\"colorbar\": {\"outlinewidth\": 0, \"ticks\": \"\"}, \"colorscale\": [[0.0, \"#0d0887\"], [0.1111111111111111, \"#46039f\"], [0.2222222222222222, \"#7201a8\"], [0.3333333333333333, \"#9c179e\"], [0.4444444444444444, \"#bd3786\"], [0.5555555555555556, \"#d8576b\"], [0.6666666666666666, \"#ed7953\"], [0.7777777777777778, \"#fb9f3a\"], [0.8888888888888888, \"#fdca26\"], [1.0, \"#f0f921\"]], \"type\": \"heatmapgl\"}], \"histogram\": [{\"marker\": {\"colorbar\": {\"outlinewidth\": 0, \"ticks\": \"\"}}, \"type\": \"histogram\"}], \"histogram2d\": [{\"colorbar\": {\"outlinewidth\": 0, \"ticks\": \"\"}, \"colorscale\": [[0.0, \"#0d0887\"], [0.1111111111111111, \"#46039f\"], [0.2222222222222222, \"#7201a8\"], [0.3333333333333333, \"#9c179e\"], [0.4444444444444444, \"#bd3786\"], [0.5555555555555556, \"#d8576b\"], [0.6666666666666666, \"#ed7953\"], [0.7777777777777778, \"#fb9f3a\"], [0.8888888888888888, \"#fdca26\"], [1.0, \"#f0f921\"]], \"type\": \"histogram2d\"}], \"histogram2dcontour\": [{\"colorbar\": {\"outlinewidth\": 0, \"ticks\": \"\"}, \"colorscale\": [[0.0, \"#0d0887\"], [0.1111111111111111, \"#46039f\"], [0.2222222222222222, \"#7201a8\"], [0.3333333333333333, \"#9c179e\"], [0.4444444444444444, \"#bd3786\"], [0.5555555555555556, \"#d8576b\"], [0.6666666666666666, \"#ed7953\"], [0.7777777777777778, \"#fb9f3a\"], [0.8888888888888888, \"#fdca26\"], [1.0, \"#f0f921\"]], \"type\": \"histogram2dcontour\"}], \"mesh3d\": [{\"colorbar\": {\"outlinewidth\": 0, \"ticks\": \"\"}, \"type\": \"mesh3d\"}], \"parcoords\": [{\"line\": {\"colorbar\": {\"outlinewidth\": 0, \"ticks\": \"\"}}, \"type\": \"parcoords\"}], \"pie\": [{\"automargin\": true, \"type\": \"pie\"}], \"scatter\": [{\"marker\": {\"colorbar\": {\"outlinewidth\": 0, \"ticks\": \"\"}}, \"type\": \"scatter\"}], \"scatter3d\": [{\"line\": {\"colorbar\": {\"outlinewidth\": 0, \"ticks\": \"\"}}, \"marker\": {\"colorbar\": {\"outlinewidth\": 0, \"ticks\": \"\"}}, \"type\": \"scatter3d\"}], \"scattercarpet\": [{\"marker\": {\"colorbar\": {\"outlinewidth\": 0, \"ticks\": \"\"}}, \"type\": \"scattercarpet\"}], \"scattergeo\": [{\"marker\": {\"colorbar\": {\"outlinewidth\": 0, \"ticks\": \"\"}}, \"type\": \"scattergeo\"}], \"scattergl\": [{\"marker\": {\"colorbar\": {\"outlinewidth\": 0, \"ticks\": \"\"}}, \"type\": \"scattergl\"}], \"scattermapbox\": [{\"marker\": {\"colorbar\": {\"outlinewidth\": 0, \"ticks\": \"\"}}, \"type\": \"scattermapbox\"}], \"scatterpolar\": [{\"marker\": {\"colorbar\": {\"outlinewidth\": 0, \"ticks\": \"\"}}, \"type\": \"scatterpolar\"}], \"scatterpolargl\": [{\"marker\": {\"colorbar\": {\"outlinewidth\": 0, \"ticks\": \"\"}}, \"type\": \"scatterpolargl\"}], \"scatterternary\": [{\"marker\": {\"colorbar\": {\"outlinewidth\": 0, \"ticks\": \"\"}}, \"type\": \"scatterternary\"}], \"surface\": [{\"colorbar\": {\"outlinewidth\": 0, \"ticks\": \"\"}, \"colorscale\": [[0.0, \"#0d0887\"], [0.1111111111111111, \"#46039f\"], [0.2222222222222222, \"#7201a8\"], [0.3333333333333333, \"#9c179e\"], [0.4444444444444444, \"#bd3786\"], [0.5555555555555556, \"#d8576b\"], [0.6666666666666666, \"#ed7953\"], [0.7777777777777778, \"#fb9f3a\"], [0.8888888888888888, \"#fdca26\"], [1.0, \"#f0f921\"]], \"type\": \"surface\"}], \"table\": [{\"cells\": {\"fill\": {\"color\": \"#EBF0F8\"}, \"line\": {\"color\": \"white\"}}, \"header\": {\"fill\": {\"color\": \"#C8D4E3\"}, \"line\": {\"color\": \"white\"}}, \"type\": \"table\"}]}, \"layout\": {\"annotationdefaults\": {\"arrowcolor\": \"#2a3f5f\", \"arrowhead\": 0, \"arrowwidth\": 1}, \"coloraxis\": {\"colorbar\": {\"outlinewidth\": 0, \"ticks\": \"\"}}, \"colorscale\": {\"diverging\": [[0, \"#8e0152\"], [0.1, \"#c51b7d\"], [0.2, \"#de77ae\"], [0.3, \"#f1b6da\"], [0.4, \"#fde0ef\"], [0.5, \"#f7f7f7\"], [0.6, \"#e6f5d0\"], [0.7, \"#b8e186\"], [0.8, \"#7fbc41\"], [0.9, \"#4d9221\"], [1, \"#276419\"]], \"sequential\": [[0.0, \"#0d0887\"], [0.1111111111111111, \"#46039f\"], [0.2222222222222222, \"#7201a8\"], [0.3333333333333333, \"#9c179e\"], [0.4444444444444444, \"#bd3786\"], [0.5555555555555556, \"#d8576b\"], [0.6666666666666666, \"#ed7953\"], [0.7777777777777778, \"#fb9f3a\"], [0.8888888888888888, \"#fdca26\"], [1.0, \"#f0f921\"]], \"sequentialminus\": [[0.0, \"#0d0887\"], [0.1111111111111111, \"#46039f\"], [0.2222222222222222, \"#7201a8\"], [0.3333333333333333, \"#9c179e\"], [0.4444444444444444, \"#bd3786\"], [0.5555555555555556, \"#d8576b\"], [0.6666666666666666, \"#ed7953\"], [0.7777777777777778, \"#fb9f3a\"], [0.8888888888888888, \"#fdca26\"], [1.0, \"#f0f921\"]]}, \"colorway\": [\"#636efa\", \"#EF553B\", \"#00cc96\", \"#ab63fa\", \"#FFA15A\", \"#19d3f3\", \"#FF6692\", \"#B6E880\", \"#FF97FF\", \"#FECB52\"], \"font\": {\"color\": \"#2a3f5f\"}, \"geo\": {\"bgcolor\": \"white\", \"lakecolor\": \"white\", \"landcolor\": \"#E5ECF6\", \"showlakes\": true, \"showland\": true, \"subunitcolor\": \"white\"}, \"hoverlabel\": {\"align\": \"left\"}, \"hovermode\": \"closest\", \"mapbox\": {\"style\": \"light\"}, \"paper_bgcolor\": \"white\", \"plot_bgcolor\": \"#E5ECF6\", \"polar\": {\"angularaxis\": {\"gridcolor\": \"white\", \"linecolor\": \"white\", \"ticks\": \"\"}, \"bgcolor\": \"#E5ECF6\", \"radialaxis\": {\"gridcolor\": \"white\", \"linecolor\": \"white\", \"ticks\": \"\"}}, \"scene\": {\"xaxis\": {\"backgroundcolor\": \"#E5ECF6\", \"gridcolor\": \"white\", \"gridwidth\": 2, \"linecolor\": \"white\", \"showbackground\": true, \"ticks\": \"\", \"zerolinecolor\": \"white\"}, \"yaxis\": {\"backgroundcolor\": \"#E5ECF6\", \"gridcolor\": \"white\", \"gridwidth\": 2, \"linecolor\": \"white\", \"showbackground\": true, \"ticks\": \"\", \"zerolinecolor\": \"white\"}, \"zaxis\": {\"backgroundcolor\": \"#E5ECF6\", \"gridcolor\": \"white\", \"gridwidth\": 2, \"linecolor\": \"white\", \"showbackground\": true, \"ticks\": \"\", \"zerolinecolor\": \"white\"}}, \"shapedefaults\": {\"line\": {\"color\": \"#2a3f5f\"}}, \"ternary\": {\"aaxis\": {\"gridcolor\": \"white\", \"linecolor\": \"white\", \"ticks\": \"\"}, \"baxis\": {\"gridcolor\": \"white\", \"linecolor\": \"white\", \"ticks\": \"\"}, \"bgcolor\": \"#E5ECF6\", \"caxis\": {\"gridcolor\": \"white\", \"linecolor\": \"white\", \"ticks\": \"\"}}, \"title\": {\"x\": 0.05}, \"xaxis\": {\"automargin\": true, \"gridcolor\": \"white\", \"linecolor\": \"white\", \"ticks\": \"\", \"title\": {\"standoff\": 15}, \"zerolinecolor\": \"white\", \"zerolinewidth\": 2}, \"yaxis\": {\"automargin\": true, \"gridcolor\": \"white\", \"linecolor\": \"white\", \"ticks\": \"\", \"title\": {\"standoff\": 15}, \"zerolinecolor\": \"white\", \"zerolinewidth\": 2}}}, \"title\": {\"text\": \"COVID-19 deaths over time for 1 million inhabitants\"}, \"xaxis\": {\"nticks\": 30, \"title\": {\"text\": \"Time (day)\"}}, \"yaxis\": {\"title\": {\"text\": \"COVID-19 total deaths / nb of inhabitants (million)\"}}},\n",
       "                        {\"responsive\": true}\n",
       "                    ).then(function(){\n",
       "                            \n",
       "var gd = document.getElementById('ae3ff0ba-009d-4b92-97a8-4acc4544fc44');\n",
       "var x = new MutationObserver(function (mutations, observer) {{\n",
       "        var display = window.getComputedStyle(gd).display;\n",
       "        if (!display || display === 'none') {{\n",
       "            console.log([gd, 'removed!']);\n",
       "            Plotly.purge(gd);\n",
       "            observer.disconnect();\n",
       "        }}\n",
       "}});\n",
       "\n",
       "// Listen for the removal of the full notebook cells\n",
       "var notebookContainer = gd.closest('#notebook-container');\n",
       "if (notebookContainer) {{\n",
       "    x.observe(notebookContainer, {childList: true});\n",
       "}}\n",
       "\n",
       "// Listen for the clearing of the current output cell\n",
       "var outputEl = gd.closest('.output');\n",
       "if (outputEl) {{\n",
       "    x.observe(outputEl, {childList: true});\n",
       "}}\n",
       "\n",
       "                        })\n",
       "                };\n",
       "                });\n",
       "            </script>\n",
       "        </div>"
      ]
     },
     "metadata": {},
     "output_type": "display_data"
    },
    {
     "name": "stdout",
     "output_type": "stream",
     "text": [
      "> graph 4 exported\n"
     ]
    }
   ],
   "source": [
    "import plotly.graph_objects as go\n",
    "fig = go.Figure()\n",
    "data_deaths_rolling = data_deaths\n",
    "last_d = round(len(data_deaths)/2)\n",
    "i=0\n",
    "for c in countries:\n",
    "    pop = countries[c][\"pop\"]\n",
    "    \n",
    "    fig.add_trace(go.Scatter(x = data_deaths['date'][-last_d:], y = data_deaths[c][-last_d:] / pop,\n",
    "                    mode='markers',\n",
    "                    marker_color=colors[i],\n",
    "                    legendgroup=c,\n",
    "                    marker_symbol= 3*i,\n",
    "                    #marker_size=4,\n",
    "                    marker_line_color=colors[i],\n",
    "                    #marker_line_width=2,\n",
    "                    opacity=1,\n",
    "                    showlegend=True,\n",
    "                    name='{}'.format(\"\")))\n",
    "    \n",
    "    fig.add_trace(go.Scatter(x = data_deaths_rolling['date'][-last_d:], y = data_deaths_rolling[c][-last_d:] / pop,\n",
    "                    mode='lines',\n",
    "                    marker_color=colors[i],\n",
    "                    legendgroup=c,\n",
    "                    showlegend=True,\n",
    "                    name='{}'.format(c)))\n",
    "    i+=1\n",
    "    if i >= 10:\n",
    "        i=0\n",
    "\n",
    "fig.update_layout(\n",
    "    title=\"COVID-19 deaths over time for 1 million inhabitants\",\n",
    "    xaxis_title=\"Time (day)\",\n",
    "    yaxis_title=\"COVID-19 total deaths / nb of inhabitants (million)\",\n",
    "    annotations = [dict(\n",
    "        xref='paper',\n",
    "        yref='paper',\n",
    "        x=0, y=1.1,\n",
    "        showarrow=False,\n",
    "        text ='Last update: {} ; Last data: {} ; Data: CSSE ; Author: @guillaumerozier'.format(today, str(data_confirmed['date'].values[-1])[:10]))]\n",
    ")\n",
    "fig.update_xaxes(nticks = last_d)\n",
    "\n",
    "#plotly.offline.plot(fig, filename = 'deaths.html', auto_open=False)\n",
    "\n",
    "print(\"> graph 4 built\")\n",
    "    \n",
    "if upload:\n",
    "    py.plot(fig, filename = 'deaths', auto_open=False)\n",
    "    \n",
    "if show:\n",
    "    fig.show()\n",
    "    \n",
    "if export:\n",
    "    fig.write_image(\"images/deaths_per_1m_inhabitant.png\", scale=5, width=900, height=700)\n",
    "    print(\"> graph 4 exported\")"
   ]
  },
  {
   "cell_type": "markdown",
   "metadata": {},
   "source": [
    "### Total deaths for 1 million inhabitants [aligned]"
   ]
  },
  {
   "cell_type": "code",
   "execution_count": 180,
   "metadata": {},
   "outputs": [
    {
     "name": "stdout",
     "output_type": "stream",
     "text": [
      "> graph 5 built\n"
     ]
    },
    {
     "data": {
      "application/vnd.plotly.v1+json": {
       "config": {
        "plotlyServerURL": "https://plot.ly"
       },
       "data": [
        {
         "legendgroup": "France",
         "marker": {
          "color": "rgb(214, 39, 40)",
          "line": {
           "color": "rgb(214, 39, 40)"
          },
          "symbol": 0
         },
         "mode": "markers",
         "name": "",
         "opacity": 1,
         "showlegend": true,
         "type": "scatter",
         "x": [
          "2020-02-19T00:00:00",
          "2020-02-20T00:00:00",
          "2020-02-21T00:00:00",
          "2020-02-22T00:00:00",
          "2020-02-23T00:00:00",
          "2020-02-24T00:00:00",
          "2020-02-25T00:00:00",
          "2020-02-26T00:00:00",
          "2020-02-27T00:00:00",
          "2020-02-28T00:00:00",
          "2020-02-29T00:00:00",
          "2020-03-01T00:00:00",
          "2020-03-02T00:00:00",
          "2020-03-03T00:00:00",
          "2020-03-04T00:00:00",
          "2020-03-05T00:00:00",
          "2020-03-06T00:00:00",
          "2020-03-07T00:00:00",
          "2020-03-08T00:00:00",
          "2020-03-09T00:00:00",
          "2020-03-10T00:00:00",
          "2020-03-11T00:00:00",
          "2020-03-12T00:00:00",
          "2020-03-13T00:00:00",
          "2020-03-14T00:00:00",
          "2020-03-15T00:00:00",
          "2020-03-16T00:00:00",
          "2020-03-17T00:00:00",
          "2020-03-18T00:00:00",
          "2020-03-19T00:00:00",
          "2020-03-20T00:00:00",
          "2020-03-21T00:00:00"
         ],
         "y": [
          0.04478280340349306,
          0.05971040453799075,
          0.05971040453799075,
          0.08956560680698612,
          0.1343484102104792,
          0.16420361247947457,
          0.2836244215554561,
          0.2836244215554561,
          0.4926108374384237,
          0.716524854455889,
          0.716524854455889,
          1.1792804896253173,
          1.3584117032392895,
          1.3584117032392895,
          2.2092849679056576,
          2.2092849679056576,
          2.2092849679056576,
          3.627407075682938,
          6.71742051052396,
          8.3893118375877
         ]
        },
        {
         "legendgroup": "France",
         "marker": {
          "color": "rgb(214, 39, 40)"
         },
         "mode": "lines",
         "name": "France [delayed by -12 days]",
         "showlegend": true,
         "type": "scatter",
         "x": [
          "2020-02-19T00:00:00",
          "2020-02-20T00:00:00",
          "2020-02-21T00:00:00",
          "2020-02-22T00:00:00",
          "2020-02-23T00:00:00",
          "2020-02-24T00:00:00",
          "2020-02-25T00:00:00",
          "2020-02-26T00:00:00",
          "2020-02-27T00:00:00",
          "2020-02-28T00:00:00",
          "2020-02-29T00:00:00",
          "2020-03-01T00:00:00",
          "2020-03-02T00:00:00",
          "2020-03-03T00:00:00",
          "2020-03-04T00:00:00",
          "2020-03-05T00:00:00",
          "2020-03-06T00:00:00",
          "2020-03-07T00:00:00",
          "2020-03-08T00:00:00",
          "2020-03-09T00:00:00",
          "2020-03-10T00:00:00",
          "2020-03-11T00:00:00",
          "2020-03-12T00:00:00",
          "2020-03-13T00:00:00",
          "2020-03-14T00:00:00",
          "2020-03-15T00:00:00",
          "2020-03-16T00:00:00",
          "2020-03-17T00:00:00",
          "2020-03-18T00:00:00",
          "2020-03-19T00:00:00",
          "2020-03-20T00:00:00",
          "2020-03-21T00:00:00"
         ],
         "y": [
          0.04478280340349306,
          0.05971040453799075,
          0.05971040453799075,
          0.08956560680698612,
          0.1343484102104792,
          0.16420361247947457,
          0.2836244215554561,
          0.2836244215554561,
          0.4926108374384237,
          0.716524854455889,
          0.716524854455889,
          1.1792804896253173,
          1.3584117032392895,
          1.3584117032392895,
          2.2092849679056576,
          2.2092849679056576,
          2.2092849679056576,
          3.627407075682938,
          6.71742051052396,
          8.3893118375877
         ]
        },
        {
         "legendgroup": "Italy",
         "marker": {
          "color": "rgb(127, 127, 127)",
          "line": {
           "color": "rgb(127, 127, 127)"
          },
          "symbol": 3
         },
         "mode": "markers",
         "name": "",
         "opacity": 1,
         "showlegend": true,
         "type": "scatter",
         "x": [
          "2020-03-02T00:00:00",
          "2020-03-03T00:00:00",
          "2020-03-04T00:00:00",
          "2020-03-05T00:00:00",
          "2020-03-06T00:00:00",
          "2020-03-07T00:00:00",
          "2020-03-08T00:00:00",
          "2020-03-09T00:00:00",
          "2020-03-10T00:00:00",
          "2020-03-11T00:00:00",
          "2020-03-12T00:00:00",
          "2020-03-13T00:00:00",
          "2020-03-14T00:00:00",
          "2020-03-15T00:00:00",
          "2020-03-16T00:00:00",
          "2020-03-17T00:00:00",
          "2020-03-18T00:00:00",
          "2020-03-19T00:00:00",
          "2020-03-20T00:00:00",
          "2020-03-21T00:00:00"
         ],
         "y": [
          0.8597883597883599,
          1.3062169312169314,
          1.7691798941798942,
          2.4470899470899474,
          3.2572751322751325,
          3.852513227513228,
          6.051587301587302,
          7.655423280423281,
          10.433201058201059,
          13.673941798941799,
          13.673941798941799,
          20.932539682539684,
          23.826058201058203,
          29.91071428571429,
          35.68121693121693,
          41.38558201058201,
          49.239417989417994,
          56.29960317460318,
          66.66666666666667,
          79.77843915343915
         ]
        },
        {
         "legendgroup": "Italy",
         "marker": {
          "color": "rgb(127, 127, 127)"
         },
         "mode": "lines",
         "name": "Italy [delayed by 0 days]",
         "showlegend": true,
         "type": "scatter",
         "x": [
          "2020-03-02T00:00:00",
          "2020-03-03T00:00:00",
          "2020-03-04T00:00:00",
          "2020-03-05T00:00:00",
          "2020-03-06T00:00:00",
          "2020-03-07T00:00:00",
          "2020-03-08T00:00:00",
          "2020-03-09T00:00:00",
          "2020-03-10T00:00:00",
          "2020-03-11T00:00:00",
          "2020-03-12T00:00:00",
          "2020-03-13T00:00:00",
          "2020-03-14T00:00:00",
          "2020-03-15T00:00:00",
          "2020-03-16T00:00:00",
          "2020-03-17T00:00:00",
          "2020-03-18T00:00:00",
          "2020-03-19T00:00:00",
          "2020-03-20T00:00:00",
          "2020-03-21T00:00:00"
         ],
         "y": [
          0.8597883597883599,
          1.3062169312169314,
          1.7691798941798942,
          2.4470899470899474,
          3.2572751322751325,
          3.852513227513228,
          6.051587301587302,
          7.655423280423281,
          10.433201058201059,
          13.673941798941799,
          13.673941798941799,
          20.932539682539684,
          23.826058201058203,
          29.91071428571429,
          35.68121693121693,
          41.38558201058201,
          49.239417989417994,
          56.29960317460318,
          66.66666666666667,
          79.77843915343915
         ]
        },
        {
         "legendgroup": "United Kingdom",
         "marker": {
          "color": "rgb(188, 189, 34)",
          "line": {
           "color": "rgb(188, 189, 34)"
          },
          "symbol": 6
         },
         "mode": "markers",
         "name": "",
         "opacity": 1,
         "showlegend": true,
         "type": "scatter",
         "x": [
          "2020-02-16T00:00:00",
          "2020-02-17T00:00:00",
          "2020-02-18T00:00:00",
          "2020-02-19T00:00:00",
          "2020-02-20T00:00:00",
          "2020-02-21T00:00:00",
          "2020-02-22T00:00:00",
          "2020-02-23T00:00:00",
          "2020-02-24T00:00:00",
          "2020-02-25T00:00:00",
          "2020-02-26T00:00:00",
          "2020-02-27T00:00:00",
          "2020-02-28T00:00:00",
          "2020-02-29T00:00:00",
          "2020-03-01T00:00:00",
          "2020-03-02T00:00:00",
          "2020-03-03T00:00:00",
          "2020-03-04T00:00:00",
          "2020-03-05T00:00:00",
          "2020-03-06T00:00:00",
          "2020-03-07T00:00:00",
          "2020-03-08T00:00:00",
          "2020-03-09T00:00:00",
          "2020-03-10T00:00:00",
          "2020-03-11T00:00:00",
          "2020-03-12T00:00:00",
          "2020-03-13T00:00:00",
          "2020-03-14T00:00:00",
          "2020-03-15T00:00:00",
          "2020-03-16T00:00:00",
          "2020-03-17T00:00:00",
          "2020-03-18T00:00:00",
          "2020-03-19T00:00:00",
          "2020-03-20T00:00:00",
          "2020-03-21T00:00:00"
         ],
         "y": [
          0,
          0,
          0,
          0.015051173991571343,
          0.030102347983142687,
          0.030102347983142687,
          0.04515352197471403,
          0.060204695966285374,
          0.09030704394942805,
          0.12040939193257075,
          0.12040939193257075,
          0.12040939193257075,
          0.3160746538229982,
          0.3160746538229982,
          0.8428657435279953,
          0.8428657435279953,
          1.0836845273931368,
          2.0770620108368454,
          2.679108970499699,
          3.5219747140276945
         ]
        },
        {
         "legendgroup": "United Kingdom",
         "marker": {
          "color": "rgb(188, 189, 34)"
         },
         "mode": "lines",
         "name": "United Kingdom [delayed by -15 days]",
         "showlegend": true,
         "type": "scatter",
         "x": [
          "2020-02-16T00:00:00",
          "2020-02-17T00:00:00",
          "2020-02-18T00:00:00",
          "2020-02-19T00:00:00",
          "2020-02-20T00:00:00",
          "2020-02-21T00:00:00",
          "2020-02-22T00:00:00",
          "2020-02-23T00:00:00",
          "2020-02-24T00:00:00",
          "2020-02-25T00:00:00",
          "2020-02-26T00:00:00",
          "2020-02-27T00:00:00",
          "2020-02-28T00:00:00",
          "2020-02-29T00:00:00",
          "2020-03-01T00:00:00",
          "2020-03-02T00:00:00",
          "2020-03-03T00:00:00",
          "2020-03-04T00:00:00",
          "2020-03-05T00:00:00",
          "2020-03-06T00:00:00",
          "2020-03-07T00:00:00",
          "2020-03-08T00:00:00",
          "2020-03-09T00:00:00",
          "2020-03-10T00:00:00",
          "2020-03-11T00:00:00",
          "2020-03-12T00:00:00",
          "2020-03-13T00:00:00",
          "2020-03-14T00:00:00",
          "2020-03-15T00:00:00",
          "2020-03-16T00:00:00",
          "2020-03-17T00:00:00",
          "2020-03-18T00:00:00",
          "2020-03-19T00:00:00",
          "2020-03-20T00:00:00",
          "2020-03-21T00:00:00"
         ],
         "y": [
          0,
          0,
          0,
          0.015051173991571343,
          0.030102347983142687,
          0.030102347983142687,
          0.04515352197471403,
          0.060204695966285374,
          0.09030704394942805,
          0.12040939193257075,
          0.12040939193257075,
          0.12040939193257075,
          0.3160746538229982,
          0.3160746538229982,
          0.8428657435279953,
          0.8428657435279953,
          1.0836845273931368,
          2.0770620108368454,
          2.679108970499699,
          3.5219747140276945
         ]
        },
        {
         "legendgroup": "Spain",
         "marker": {
          "color": "rgb(148, 103, 189)",
          "line": {
           "color": "rgb(148, 103, 189)"
          },
          "symbol": 9
         },
         "mode": "markers",
         "name": "",
         "opacity": 1,
         "showlegend": true,
         "type": "scatter",
         "x": [
          "2020-02-24T00:00:00",
          "2020-02-25T00:00:00",
          "2020-02-26T00:00:00",
          "2020-02-27T00:00:00",
          "2020-02-28T00:00:00",
          "2020-02-29T00:00:00",
          "2020-03-01T00:00:00",
          "2020-03-02T00:00:00",
          "2020-03-03T00:00:00",
          "2020-03-04T00:00:00",
          "2020-03-05T00:00:00",
          "2020-03-06T00:00:00",
          "2020-03-07T00:00:00",
          "2020-03-08T00:00:00",
          "2020-03-09T00:00:00",
          "2020-03-10T00:00:00",
          "2020-03-11T00:00:00",
          "2020-03-12T00:00:00",
          "2020-03-13T00:00:00",
          "2020-03-14T00:00:00",
          "2020-03-15T00:00:00",
          "2020-03-16T00:00:00",
          "2020-03-17T00:00:00",
          "2020-03-18T00:00:00",
          "2020-03-19T00:00:00",
          "2020-03-20T00:00:00",
          "2020-03-21T00:00:00"
         ],
         "y": [
          0,
          0.021431633090441493,
          0.042863266180882986,
          0.06429489927132448,
          0.10715816545220747,
          0.21431633090441493,
          0.3643377625375054,
          0.6000857265323618,
          0.7501071581654523,
          1.1573081868838406,
          1.1787398199742822,
          2.8504072010287187,
          4.179168452636091,
          6.193741963137591,
          7.32961851693099,
          11.423060437205315,
          13.35190741534505,
          17.788255465066438,
          22.35319331333048,
          29.468495499357054
         ]
        },
        {
         "legendgroup": "Spain",
         "marker": {
          "color": "rgb(148, 103, 189)"
         },
         "mode": "lines",
         "name": "Spain [delayed by -7 days]",
         "showlegend": true,
         "type": "scatter",
         "x": [
          "2020-02-24T00:00:00",
          "2020-02-25T00:00:00",
          "2020-02-26T00:00:00",
          "2020-02-27T00:00:00",
          "2020-02-28T00:00:00",
          "2020-02-29T00:00:00",
          "2020-03-01T00:00:00",
          "2020-03-02T00:00:00",
          "2020-03-03T00:00:00",
          "2020-03-04T00:00:00",
          "2020-03-05T00:00:00",
          "2020-03-06T00:00:00",
          "2020-03-07T00:00:00",
          "2020-03-08T00:00:00",
          "2020-03-09T00:00:00",
          "2020-03-10T00:00:00",
          "2020-03-11T00:00:00",
          "2020-03-12T00:00:00",
          "2020-03-13T00:00:00",
          "2020-03-14T00:00:00",
          "2020-03-15T00:00:00",
          "2020-03-16T00:00:00",
          "2020-03-17T00:00:00",
          "2020-03-18T00:00:00",
          "2020-03-19T00:00:00",
          "2020-03-20T00:00:00",
          "2020-03-21T00:00:00"
         ],
         "y": [
          0,
          0.021431633090441493,
          0.042863266180882986,
          0.06429489927132448,
          0.10715816545220747,
          0.21431633090441493,
          0.3643377625375054,
          0.6000857265323618,
          0.7501071581654523,
          1.1573081868838406,
          1.1787398199742822,
          2.8504072010287187,
          4.179168452636091,
          6.193741963137591,
          7.32961851693099,
          11.423060437205315,
          13.35190741534505,
          17.788255465066438,
          22.35319331333048,
          29.468495499357054
         ]
        },
        {
         "legendgroup": "Germany",
         "marker": {
          "color": "rgb(44, 160, 44)",
          "line": {
           "color": "rgb(44, 160, 44)"
          },
          "symbol": 12
         },
         "mode": "markers",
         "name": "",
         "opacity": 1,
         "showlegend": true,
         "type": "scatter",
         "x": [
          "2020-02-12T00:00:00",
          "2020-02-13T00:00:00",
          "2020-02-14T00:00:00",
          "2020-02-15T00:00:00",
          "2020-02-16T00:00:00",
          "2020-02-17T00:00:00",
          "2020-02-18T00:00:00",
          "2020-02-19T00:00:00",
          "2020-02-20T00:00:00",
          "2020-02-21T00:00:00",
          "2020-02-22T00:00:00",
          "2020-02-23T00:00:00",
          "2020-02-24T00:00:00",
          "2020-02-25T00:00:00",
          "2020-02-26T00:00:00",
          "2020-02-27T00:00:00",
          "2020-02-28T00:00:00",
          "2020-02-29T00:00:00",
          "2020-03-01T00:00:00",
          "2020-03-02T00:00:00",
          "2020-03-03T00:00:00",
          "2020-03-04T00:00:00",
          "2020-03-05T00:00:00",
          "2020-03-06T00:00:00",
          "2020-03-07T00:00:00",
          "2020-03-08T00:00:00",
          "2020-03-09T00:00:00",
          "2020-03-10T00:00:00",
          "2020-03-11T00:00:00",
          "2020-03-12T00:00:00",
          "2020-03-13T00:00:00",
          "2020-03-14T00:00:00",
          "2020-03-15T00:00:00",
          "2020-03-16T00:00:00",
          "2020-03-17T00:00:00",
          "2020-03-18T00:00:00",
          "2020-03-19T00:00:00",
          "2020-03-20T00:00:00",
          "2020-03-21T00:00:00"
         ],
         "y": [
          0,
          0,
          0,
          0,
          0,
          0,
          0,
          0.024157506945283246,
          0.024157506945283246,
          0.03623626041792487,
          0.03623626041792487,
          0.08455127430849135,
          0.1087087812537746,
          0.13286628819905785,
          0.2053388090349076,
          0.28989008334339894,
          0.3382050972339654,
          0.5314651527962314,
          0.8092764826669887,
          1.0146152917018962
         ]
        },
        {
         "legendgroup": "Germany",
         "marker": {
          "color": "rgb(44, 160, 44)"
         },
         "mode": "lines",
         "name": "Germany [delayed by -19 days]",
         "showlegend": true,
         "type": "scatter",
         "x": [
          "2020-02-12T00:00:00",
          "2020-02-13T00:00:00",
          "2020-02-14T00:00:00",
          "2020-02-15T00:00:00",
          "2020-02-16T00:00:00",
          "2020-02-17T00:00:00",
          "2020-02-18T00:00:00",
          "2020-02-19T00:00:00",
          "2020-02-20T00:00:00",
          "2020-02-21T00:00:00",
          "2020-02-22T00:00:00",
          "2020-02-23T00:00:00",
          "2020-02-24T00:00:00",
          "2020-02-25T00:00:00",
          "2020-02-26T00:00:00",
          "2020-02-27T00:00:00",
          "2020-02-28T00:00:00",
          "2020-02-29T00:00:00",
          "2020-03-01T00:00:00",
          "2020-03-02T00:00:00",
          "2020-03-03T00:00:00",
          "2020-03-04T00:00:00",
          "2020-03-05T00:00:00",
          "2020-03-06T00:00:00",
          "2020-03-07T00:00:00",
          "2020-03-08T00:00:00",
          "2020-03-09T00:00:00",
          "2020-03-10T00:00:00",
          "2020-03-11T00:00:00",
          "2020-03-12T00:00:00",
          "2020-03-13T00:00:00",
          "2020-03-14T00:00:00",
          "2020-03-15T00:00:00",
          "2020-03-16T00:00:00",
          "2020-03-17T00:00:00",
          "2020-03-18T00:00:00",
          "2020-03-19T00:00:00",
          "2020-03-20T00:00:00",
          "2020-03-21T00:00:00"
         ],
         "y": [
          0,
          0,
          0,
          0,
          0,
          0,
          0,
          0.024157506945283246,
          0.024157506945283246,
          0.03623626041792487,
          0.03623626041792487,
          0.08455127430849135,
          0.1087087812537746,
          0.13286628819905785,
          0.2053388090349076,
          0.28989008334339894,
          0.3382050972339654,
          0.5314651527962314,
          0.8092764826669887,
          1.0146152917018962
         ]
        },
        {
         "legendgroup": "Belgium",
         "marker": {
          "color": "rgb(227, 119, 194)",
          "line": {
           "color": "rgb(227, 119, 194)"
          },
          "symbol": 15
         },
         "mode": "markers",
         "name": "",
         "opacity": 1,
         "showlegend": true,
         "type": "scatter",
         "x": [
          "2020-02-16T00:00:00",
          "2020-02-17T00:00:00",
          "2020-02-18T00:00:00",
          "2020-02-19T00:00:00",
          "2020-02-20T00:00:00",
          "2020-02-21T00:00:00",
          "2020-02-22T00:00:00",
          "2020-02-23T00:00:00",
          "2020-02-24T00:00:00",
          "2020-02-25T00:00:00",
          "2020-02-26T00:00:00",
          "2020-02-27T00:00:00",
          "2020-02-28T00:00:00",
          "2020-02-29T00:00:00",
          "2020-03-01T00:00:00",
          "2020-03-02T00:00:00",
          "2020-03-03T00:00:00",
          "2020-03-04T00:00:00",
          "2020-03-05T00:00:00",
          "2020-03-06T00:00:00",
          "2020-03-07T00:00:00",
          "2020-03-08T00:00:00",
          "2020-03-09T00:00:00",
          "2020-03-10T00:00:00",
          "2020-03-11T00:00:00",
          "2020-03-12T00:00:00",
          "2020-03-13T00:00:00",
          "2020-03-14T00:00:00",
          "2020-03-15T00:00:00",
          "2020-03-16T00:00:00",
          "2020-03-17T00:00:00",
          "2020-03-18T00:00:00",
          "2020-03-19T00:00:00",
          "2020-03-20T00:00:00",
          "2020-03-21T00:00:00"
         ],
         "y": [
          0,
          0,
          0,
          0,
          0,
          0,
          0,
          0,
          0,
          0.2631578947368421,
          0.2631578947368421,
          0.2631578947368421,
          0.3508771929824561,
          0.3508771929824561,
          0.43859649122807015,
          0.8771929824561403,
          1.2280701754385965,
          1.8421052631578947,
          3.245614035087719,
          5.87719298245614
         ]
        },
        {
         "legendgroup": "Belgium",
         "marker": {
          "color": "rgb(227, 119, 194)"
         },
         "mode": "lines",
         "name": "Belgium [delayed by -15 days]",
         "showlegend": true,
         "type": "scatter",
         "x": [
          "2020-02-16T00:00:00",
          "2020-02-17T00:00:00",
          "2020-02-18T00:00:00",
          "2020-02-19T00:00:00",
          "2020-02-20T00:00:00",
          "2020-02-21T00:00:00",
          "2020-02-22T00:00:00",
          "2020-02-23T00:00:00",
          "2020-02-24T00:00:00",
          "2020-02-25T00:00:00",
          "2020-02-26T00:00:00",
          "2020-02-27T00:00:00",
          "2020-02-28T00:00:00",
          "2020-02-29T00:00:00",
          "2020-03-01T00:00:00",
          "2020-03-02T00:00:00",
          "2020-03-03T00:00:00",
          "2020-03-04T00:00:00",
          "2020-03-05T00:00:00",
          "2020-03-06T00:00:00",
          "2020-03-07T00:00:00",
          "2020-03-08T00:00:00",
          "2020-03-09T00:00:00",
          "2020-03-10T00:00:00",
          "2020-03-11T00:00:00",
          "2020-03-12T00:00:00",
          "2020-03-13T00:00:00",
          "2020-03-14T00:00:00",
          "2020-03-15T00:00:00",
          "2020-03-16T00:00:00",
          "2020-03-17T00:00:00",
          "2020-03-18T00:00:00",
          "2020-03-19T00:00:00",
          "2020-03-20T00:00:00",
          "2020-03-21T00:00:00"
         ],
         "y": [
          0,
          0,
          0,
          0,
          0,
          0,
          0,
          0,
          0,
          0.2631578947368421,
          0.2631578947368421,
          0.2631578947368421,
          0.3508771929824561,
          0.3508771929824561,
          0.43859649122807015,
          0.8771929824561403,
          1.2280701754385965,
          1.8421052631578947,
          3.245614035087719,
          5.87719298245614
         ]
        },
        {
         "legendgroup": "Luxembourg",
         "marker": {
          "color": "rgb(23, 190, 207)",
          "line": {
           "color": "rgb(23, 190, 207)"
          },
          "symbol": 18
         },
         "mode": "markers",
         "name": "",
         "opacity": 1,
         "showlegend": true,
         "type": "scatter",
         "x": [
          "2020-02-20T00:00:00",
          "2020-02-21T00:00:00",
          "2020-02-22T00:00:00",
          "2020-02-23T00:00:00",
          "2020-02-24T00:00:00",
          "2020-02-25T00:00:00",
          "2020-02-26T00:00:00",
          "2020-02-27T00:00:00",
          "2020-02-28T00:00:00",
          "2020-02-29T00:00:00",
          "2020-03-01T00:00:00",
          "2020-03-02T00:00:00",
          "2020-03-03T00:00:00",
          "2020-03-04T00:00:00",
          "2020-03-05T00:00:00",
          "2020-03-06T00:00:00",
          "2020-03-07T00:00:00",
          "2020-03-08T00:00:00",
          "2020-03-09T00:00:00",
          "2020-03-10T00:00:00",
          "2020-03-11T00:00:00",
          "2020-03-12T00:00:00",
          "2020-03-13T00:00:00",
          "2020-03-14T00:00:00",
          "2020-03-15T00:00:00",
          "2020-03-16T00:00:00",
          "2020-03-17T00:00:00",
          "2020-03-18T00:00:00",
          "2020-03-19T00:00:00",
          "2020-03-20T00:00:00",
          "2020-03-21T00:00:00"
         ],
         "y": [
          0,
          0,
          0,
          0,
          0,
          0,
          0,
          0,
          0,
          0,
          0,
          0,
          1.6611295681063123,
          1.6611295681063123,
          1.6611295681063123,
          1.6611295681063123,
          3.3222591362126246,
          6.644518272425249,
          6.644518272425249,
          13.289036544850498
         ]
        },
        {
         "legendgroup": "Luxembourg",
         "marker": {
          "color": "rgb(23, 190, 207)"
         },
         "mode": "lines",
         "name": "Luxembourg [delayed by -11 days]",
         "showlegend": true,
         "type": "scatter",
         "x": [
          "2020-02-20T00:00:00",
          "2020-02-21T00:00:00",
          "2020-02-22T00:00:00",
          "2020-02-23T00:00:00",
          "2020-02-24T00:00:00",
          "2020-02-25T00:00:00",
          "2020-02-26T00:00:00",
          "2020-02-27T00:00:00",
          "2020-02-28T00:00:00",
          "2020-02-29T00:00:00",
          "2020-03-01T00:00:00",
          "2020-03-02T00:00:00",
          "2020-03-03T00:00:00",
          "2020-03-04T00:00:00",
          "2020-03-05T00:00:00",
          "2020-03-06T00:00:00",
          "2020-03-07T00:00:00",
          "2020-03-08T00:00:00",
          "2020-03-09T00:00:00",
          "2020-03-10T00:00:00",
          "2020-03-11T00:00:00",
          "2020-03-12T00:00:00",
          "2020-03-13T00:00:00",
          "2020-03-14T00:00:00",
          "2020-03-15T00:00:00",
          "2020-03-16T00:00:00",
          "2020-03-17T00:00:00",
          "2020-03-18T00:00:00",
          "2020-03-19T00:00:00",
          "2020-03-20T00:00:00",
          "2020-03-21T00:00:00"
         ],
         "y": [
          0,
          0,
          0,
          0,
          0,
          0,
          0,
          0,
          0,
          0,
          0,
          0,
          1.6611295681063123,
          1.6611295681063123,
          1.6611295681063123,
          1.6611295681063123,
          3.3222591362126246,
          6.644518272425249,
          6.644518272425249,
          13.289036544850498
         ]
        },
        {
         "legendgroup": "US",
         "marker": {
          "color": "rgb(31, 119, 180)",
          "line": {
           "color": "rgb(31, 119, 180)"
          },
          "symbol": 21
         },
         "mode": "markers",
         "name": "",
         "opacity": 1,
         "showlegend": true,
         "type": "scatter",
         "x": [
          "2020-02-13T00:00:00",
          "2020-02-14T00:00:00",
          "2020-02-15T00:00:00",
          "2020-02-16T00:00:00",
          "2020-02-17T00:00:00",
          "2020-02-18T00:00:00",
          "2020-02-19T00:00:00",
          "2020-02-20T00:00:00",
          "2020-02-21T00:00:00",
          "2020-02-22T00:00:00",
          "2020-02-23T00:00:00",
          "2020-02-24T00:00:00",
          "2020-02-25T00:00:00",
          "2020-02-26T00:00:00",
          "2020-02-27T00:00:00",
          "2020-02-28T00:00:00",
          "2020-02-29T00:00:00",
          "2020-03-01T00:00:00",
          "2020-03-02T00:00:00",
          "2020-03-03T00:00:00",
          "2020-03-04T00:00:00",
          "2020-03-05T00:00:00",
          "2020-03-06T00:00:00",
          "2020-03-07T00:00:00",
          "2020-03-08T00:00:00",
          "2020-03-09T00:00:00",
          "2020-03-10T00:00:00",
          "2020-03-11T00:00:00",
          "2020-03-12T00:00:00",
          "2020-03-13T00:00:00",
          "2020-03-14T00:00:00",
          "2020-03-15T00:00:00",
          "2020-03-16T00:00:00",
          "2020-03-17T00:00:00",
          "2020-03-18T00:00:00",
          "2020-03-19T00:00:00",
          "2020-03-20T00:00:00",
          "2020-03-21T00:00:00"
         ],
         "y": [
          0.01834862385321101,
          0.021406727828746176,
          0.03363914373088685,
          0.03669724770642202,
          0.04281345565749235,
          0.05198776758409786,
          0.06422018348623854,
          0.0672782874617737,
          0.0856269113149847,
          0.11009174311926606,
          0.12232415902140673,
          0.1437308868501529,
          0.1651376146788991,
          0.1926605504587156,
          0.2599388379204893,
          0.3302752293577982,
          0.36085626911314983,
          0.6116207951070336,
          0.746177370030581,
          0.9388379204892966
         ]
        },
        {
         "legendgroup": "US",
         "marker": {
          "color": "rgb(31, 119, 180)"
         },
         "mode": "lines",
         "name": "US [delayed by -18 days]",
         "showlegend": true,
         "type": "scatter",
         "x": [
          "2020-02-13T00:00:00",
          "2020-02-14T00:00:00",
          "2020-02-15T00:00:00",
          "2020-02-16T00:00:00",
          "2020-02-17T00:00:00",
          "2020-02-18T00:00:00",
          "2020-02-19T00:00:00",
          "2020-02-20T00:00:00",
          "2020-02-21T00:00:00",
          "2020-02-22T00:00:00",
          "2020-02-23T00:00:00",
          "2020-02-24T00:00:00",
          "2020-02-25T00:00:00",
          "2020-02-26T00:00:00",
          "2020-02-27T00:00:00",
          "2020-02-28T00:00:00",
          "2020-02-29T00:00:00",
          "2020-03-01T00:00:00",
          "2020-03-02T00:00:00",
          "2020-03-03T00:00:00",
          "2020-03-04T00:00:00",
          "2020-03-05T00:00:00",
          "2020-03-06T00:00:00",
          "2020-03-07T00:00:00",
          "2020-03-08T00:00:00",
          "2020-03-09T00:00:00",
          "2020-03-10T00:00:00",
          "2020-03-11T00:00:00",
          "2020-03-12T00:00:00",
          "2020-03-13T00:00:00",
          "2020-03-14T00:00:00",
          "2020-03-15T00:00:00",
          "2020-03-16T00:00:00",
          "2020-03-17T00:00:00",
          "2020-03-18T00:00:00",
          "2020-03-19T00:00:00",
          "2020-03-20T00:00:00",
          "2020-03-21T00:00:00"
         ],
         "y": [
          0.01834862385321101,
          0.021406727828746176,
          0.03363914373088685,
          0.03669724770642202,
          0.04281345565749235,
          0.05198776758409786,
          0.06422018348623854,
          0.0672782874617737,
          0.0856269113149847,
          0.11009174311926606,
          0.12232415902140673,
          0.1437308868501529,
          0.1651376146788991,
          0.1926605504587156,
          0.2599388379204893,
          0.3302752293577982,
          0.36085626911314983,
          0.6116207951070336,
          0.746177370030581,
          0.9388379204892966
         ]
        },
        {
         "legendgroup": "Canada",
         "marker": {
          "color": "rgb(255, 127, 14)",
          "line": {
           "color": "rgb(255, 127, 14)"
          },
          "symbol": 24
         },
         "mode": "markers",
         "name": "",
         "opacity": 1,
         "showlegend": true,
         "type": "scatter",
         "x": [
          "2020-02-10T00:00:00",
          "2020-02-11T00:00:00",
          "2020-02-12T00:00:00",
          "2020-02-13T00:00:00",
          "2020-02-14T00:00:00",
          "2020-02-15T00:00:00",
          "2020-02-16T00:00:00",
          "2020-02-17T00:00:00",
          "2020-02-18T00:00:00",
          "2020-02-19T00:00:00",
          "2020-02-20T00:00:00",
          "2020-02-21T00:00:00",
          "2020-02-22T00:00:00",
          "2020-02-23T00:00:00",
          "2020-02-24T00:00:00",
          "2020-02-25T00:00:00",
          "2020-02-26T00:00:00",
          "2020-02-27T00:00:00",
          "2020-02-28T00:00:00",
          "2020-02-29T00:00:00",
          "2020-03-01T00:00:00",
          "2020-03-02T00:00:00",
          "2020-03-03T00:00:00",
          "2020-03-04T00:00:00",
          "2020-03-05T00:00:00",
          "2020-03-06T00:00:00",
          "2020-03-07T00:00:00",
          "2020-03-08T00:00:00",
          "2020-03-09T00:00:00",
          "2020-03-10T00:00:00",
          "2020-03-11T00:00:00",
          "2020-03-12T00:00:00",
          "2020-03-13T00:00:00",
          "2020-03-14T00:00:00",
          "2020-03-15T00:00:00",
          "2020-03-16T00:00:00",
          "2020-03-17T00:00:00",
          "2020-03-18T00:00:00",
          "2020-03-19T00:00:00",
          "2020-03-20T00:00:00",
          "2020-03-21T00:00:00"
         ],
         "y": [
          0,
          0,
          0,
          0,
          0,
          0,
          0,
          0.026602819898909284,
          0.026602819898909284,
          0.026602819898909284,
          0.026602819898909284,
          0.026602819898909284,
          0.026602819898909284,
          0.026602819898909284,
          0.10641127959563713,
          0.1330140994945464,
          0.21282255919127427,
          0.23942537909018355,
          0.31923383878691136,
          0.5054535780792764
         ]
        },
        {
         "legendgroup": "Canada",
         "marker": {
          "color": "rgb(255, 127, 14)"
         },
         "mode": "lines",
         "name": "Canada [delayed by -21 days]",
         "showlegend": true,
         "type": "scatter",
         "x": [
          "2020-02-10T00:00:00",
          "2020-02-11T00:00:00",
          "2020-02-12T00:00:00",
          "2020-02-13T00:00:00",
          "2020-02-14T00:00:00",
          "2020-02-15T00:00:00",
          "2020-02-16T00:00:00",
          "2020-02-17T00:00:00",
          "2020-02-18T00:00:00",
          "2020-02-19T00:00:00",
          "2020-02-20T00:00:00",
          "2020-02-21T00:00:00",
          "2020-02-22T00:00:00",
          "2020-02-23T00:00:00",
          "2020-02-24T00:00:00",
          "2020-02-25T00:00:00",
          "2020-02-26T00:00:00",
          "2020-02-27T00:00:00",
          "2020-02-28T00:00:00",
          "2020-02-29T00:00:00",
          "2020-03-01T00:00:00",
          "2020-03-02T00:00:00",
          "2020-03-03T00:00:00",
          "2020-03-04T00:00:00",
          "2020-03-05T00:00:00",
          "2020-03-06T00:00:00",
          "2020-03-07T00:00:00",
          "2020-03-08T00:00:00",
          "2020-03-09T00:00:00",
          "2020-03-10T00:00:00",
          "2020-03-11T00:00:00",
          "2020-03-12T00:00:00",
          "2020-03-13T00:00:00",
          "2020-03-14T00:00:00",
          "2020-03-15T00:00:00",
          "2020-03-16T00:00:00",
          "2020-03-17T00:00:00",
          "2020-03-18T00:00:00",
          "2020-03-19T00:00:00",
          "2020-03-20T00:00:00",
          "2020-03-21T00:00:00"
         ],
         "y": [
          0,
          0,
          0,
          0,
          0,
          0,
          0,
          0.026602819898909284,
          0.026602819898909284,
          0.026602819898909284,
          0.026602819898909284,
          0.026602819898909284,
          0.026602819898909284,
          0.026602819898909284,
          0.10641127959563713,
          0.1330140994945464,
          0.21282255919127427,
          0.23942537909018355,
          0.31923383878691136,
          0.5054535780792764
         ]
        },
        {
         "legendgroup": "Switzerland",
         "marker": {
          "color": "rgb(140, 86, 75)",
          "line": {
           "color": "rgb(140, 86, 75)"
          },
          "symbol": 27
         },
         "mode": "markers",
         "name": "",
         "opacity": 1,
         "showlegend": true,
         "type": "scatter",
         "x": [
          "2020-02-19T00:00:00",
          "2020-02-20T00:00:00",
          "2020-02-21T00:00:00",
          "2020-02-22T00:00:00",
          "2020-02-23T00:00:00",
          "2020-02-24T00:00:00",
          "2020-02-25T00:00:00",
          "2020-02-26T00:00:00",
          "2020-02-27T00:00:00",
          "2020-02-28T00:00:00",
          "2020-02-29T00:00:00",
          "2020-03-01T00:00:00",
          "2020-03-02T00:00:00",
          "2020-03-03T00:00:00",
          "2020-03-04T00:00:00",
          "2020-03-05T00:00:00",
          "2020-03-06T00:00:00",
          "2020-03-07T00:00:00",
          "2020-03-08T00:00:00",
          "2020-03-09T00:00:00",
          "2020-03-10T00:00:00",
          "2020-03-11T00:00:00",
          "2020-03-12T00:00:00",
          "2020-03-13T00:00:00",
          "2020-03-14T00:00:00",
          "2020-03-15T00:00:00",
          "2020-03-16T00:00:00",
          "2020-03-17T00:00:00",
          "2020-03-18T00:00:00",
          "2020-03-19T00:00:00",
          "2020-03-20T00:00:00",
          "2020-03-21T00:00:00"
         ],
         "y": [
          0,
          0,
          0,
          0.11668611435239207,
          0.11668611435239207,
          0.11668611435239207,
          0.23337222870478413,
          0.23337222870478413,
          0.3500583430571762,
          0.46674445740956827,
          0.46674445740956827,
          1.2835472578763127,
          1.5169194865810969,
          1.633605600933489,
          1.633605600933489,
          3.150525087514586,
          3.267211201866978,
          4.784130688448075,
          6.301050175029172,
          8.751458576429405
         ]
        },
        {
         "legendgroup": "Switzerland",
         "marker": {
          "color": "rgb(140, 86, 75)"
         },
         "mode": "lines",
         "name": "Switzerland [delayed by -12 days]",
         "showlegend": true,
         "type": "scatter",
         "x": [
          "2020-02-19T00:00:00",
          "2020-02-20T00:00:00",
          "2020-02-21T00:00:00",
          "2020-02-22T00:00:00",
          "2020-02-23T00:00:00",
          "2020-02-24T00:00:00",
          "2020-02-25T00:00:00",
          "2020-02-26T00:00:00",
          "2020-02-27T00:00:00",
          "2020-02-28T00:00:00",
          "2020-02-29T00:00:00",
          "2020-03-01T00:00:00",
          "2020-03-02T00:00:00",
          "2020-03-03T00:00:00",
          "2020-03-04T00:00:00",
          "2020-03-05T00:00:00",
          "2020-03-06T00:00:00",
          "2020-03-07T00:00:00",
          "2020-03-08T00:00:00",
          "2020-03-09T00:00:00",
          "2020-03-10T00:00:00",
          "2020-03-11T00:00:00",
          "2020-03-12T00:00:00",
          "2020-03-13T00:00:00",
          "2020-03-14T00:00:00",
          "2020-03-15T00:00:00",
          "2020-03-16T00:00:00",
          "2020-03-17T00:00:00",
          "2020-03-18T00:00:00",
          "2020-03-19T00:00:00",
          "2020-03-20T00:00:00",
          "2020-03-21T00:00:00"
         ],
         "y": [
          0,
          0,
          0,
          0.11668611435239207,
          0.11668611435239207,
          0.11668611435239207,
          0.23337222870478413,
          0.23337222870478413,
          0.3500583430571762,
          0.46674445740956827,
          0.46674445740956827,
          1.2835472578763127,
          1.5169194865810969,
          1.633605600933489,
          1.633605600933489,
          3.150525087514586,
          3.267211201866978,
          4.784130688448075,
          6.301050175029172,
          8.751458576429405
         ]
        }
       ],
       "layout": {
        "annotations": [
         {
          "showarrow": false,
          "text": "Last update: 2020-03-22 08:53 ; Last data: 2020-03-21 ; Data: CSSE ; Author: @guillaumerozier",
          "x": 0,
          "xref": "paper",
          "y": 1.1,
          "yref": "paper"
         }
        ],
        "legend": {
         "font": {
          "color": "black",
          "family": "sans-serif"
         },
         "traceorder": "normal"
        },
        "template": {
         "data": {
          "bar": [
           {
            "error_x": {
             "color": "#2a3f5f"
            },
            "error_y": {
             "color": "#2a3f5f"
            },
            "marker": {
             "line": {
              "color": "#E5ECF6",
              "width": 0.5
             }
            },
            "type": "bar"
           }
          ],
          "barpolar": [
           {
            "marker": {
             "line": {
              "color": "#E5ECF6",
              "width": 0.5
             }
            },
            "type": "barpolar"
           }
          ],
          "carpet": [
           {
            "aaxis": {
             "endlinecolor": "#2a3f5f",
             "gridcolor": "white",
             "linecolor": "white",
             "minorgridcolor": "white",
             "startlinecolor": "#2a3f5f"
            },
            "baxis": {
             "endlinecolor": "#2a3f5f",
             "gridcolor": "white",
             "linecolor": "white",
             "minorgridcolor": "white",
             "startlinecolor": "#2a3f5f"
            },
            "type": "carpet"
           }
          ],
          "choropleth": [
           {
            "colorbar": {
             "outlinewidth": 0,
             "ticks": ""
            },
            "type": "choropleth"
           }
          ],
          "contour": [
           {
            "colorbar": {
             "outlinewidth": 0,
             "ticks": ""
            },
            "colorscale": [
             [
              0,
              "#0d0887"
             ],
             [
              0.1111111111111111,
              "#46039f"
             ],
             [
              0.2222222222222222,
              "#7201a8"
             ],
             [
              0.3333333333333333,
              "#9c179e"
             ],
             [
              0.4444444444444444,
              "#bd3786"
             ],
             [
              0.5555555555555556,
              "#d8576b"
             ],
             [
              0.6666666666666666,
              "#ed7953"
             ],
             [
              0.7777777777777778,
              "#fb9f3a"
             ],
             [
              0.8888888888888888,
              "#fdca26"
             ],
             [
              1,
              "#f0f921"
             ]
            ],
            "type": "contour"
           }
          ],
          "contourcarpet": [
           {
            "colorbar": {
             "outlinewidth": 0,
             "ticks": ""
            },
            "type": "contourcarpet"
           }
          ],
          "heatmap": [
           {
            "colorbar": {
             "outlinewidth": 0,
             "ticks": ""
            },
            "colorscale": [
             [
              0,
              "#0d0887"
             ],
             [
              0.1111111111111111,
              "#46039f"
             ],
             [
              0.2222222222222222,
              "#7201a8"
             ],
             [
              0.3333333333333333,
              "#9c179e"
             ],
             [
              0.4444444444444444,
              "#bd3786"
             ],
             [
              0.5555555555555556,
              "#d8576b"
             ],
             [
              0.6666666666666666,
              "#ed7953"
             ],
             [
              0.7777777777777778,
              "#fb9f3a"
             ],
             [
              0.8888888888888888,
              "#fdca26"
             ],
             [
              1,
              "#f0f921"
             ]
            ],
            "type": "heatmap"
           }
          ],
          "heatmapgl": [
           {
            "colorbar": {
             "outlinewidth": 0,
             "ticks": ""
            },
            "colorscale": [
             [
              0,
              "#0d0887"
             ],
             [
              0.1111111111111111,
              "#46039f"
             ],
             [
              0.2222222222222222,
              "#7201a8"
             ],
             [
              0.3333333333333333,
              "#9c179e"
             ],
             [
              0.4444444444444444,
              "#bd3786"
             ],
             [
              0.5555555555555556,
              "#d8576b"
             ],
             [
              0.6666666666666666,
              "#ed7953"
             ],
             [
              0.7777777777777778,
              "#fb9f3a"
             ],
             [
              0.8888888888888888,
              "#fdca26"
             ],
             [
              1,
              "#f0f921"
             ]
            ],
            "type": "heatmapgl"
           }
          ],
          "histogram": [
           {
            "marker": {
             "colorbar": {
              "outlinewidth": 0,
              "ticks": ""
             }
            },
            "type": "histogram"
           }
          ],
          "histogram2d": [
           {
            "colorbar": {
             "outlinewidth": 0,
             "ticks": ""
            },
            "colorscale": [
             [
              0,
              "#0d0887"
             ],
             [
              0.1111111111111111,
              "#46039f"
             ],
             [
              0.2222222222222222,
              "#7201a8"
             ],
             [
              0.3333333333333333,
              "#9c179e"
             ],
             [
              0.4444444444444444,
              "#bd3786"
             ],
             [
              0.5555555555555556,
              "#d8576b"
             ],
             [
              0.6666666666666666,
              "#ed7953"
             ],
             [
              0.7777777777777778,
              "#fb9f3a"
             ],
             [
              0.8888888888888888,
              "#fdca26"
             ],
             [
              1,
              "#f0f921"
             ]
            ],
            "type": "histogram2d"
           }
          ],
          "histogram2dcontour": [
           {
            "colorbar": {
             "outlinewidth": 0,
             "ticks": ""
            },
            "colorscale": [
             [
              0,
              "#0d0887"
             ],
             [
              0.1111111111111111,
              "#46039f"
             ],
             [
              0.2222222222222222,
              "#7201a8"
             ],
             [
              0.3333333333333333,
              "#9c179e"
             ],
             [
              0.4444444444444444,
              "#bd3786"
             ],
             [
              0.5555555555555556,
              "#d8576b"
             ],
             [
              0.6666666666666666,
              "#ed7953"
             ],
             [
              0.7777777777777778,
              "#fb9f3a"
             ],
             [
              0.8888888888888888,
              "#fdca26"
             ],
             [
              1,
              "#f0f921"
             ]
            ],
            "type": "histogram2dcontour"
           }
          ],
          "mesh3d": [
           {
            "colorbar": {
             "outlinewidth": 0,
             "ticks": ""
            },
            "type": "mesh3d"
           }
          ],
          "parcoords": [
           {
            "line": {
             "colorbar": {
              "outlinewidth": 0,
              "ticks": ""
             }
            },
            "type": "parcoords"
           }
          ],
          "pie": [
           {
            "automargin": true,
            "type": "pie"
           }
          ],
          "scatter": [
           {
            "marker": {
             "colorbar": {
              "outlinewidth": 0,
              "ticks": ""
             }
            },
            "type": "scatter"
           }
          ],
          "scatter3d": [
           {
            "line": {
             "colorbar": {
              "outlinewidth": 0,
              "ticks": ""
             }
            },
            "marker": {
             "colorbar": {
              "outlinewidth": 0,
              "ticks": ""
             }
            },
            "type": "scatter3d"
           }
          ],
          "scattercarpet": [
           {
            "marker": {
             "colorbar": {
              "outlinewidth": 0,
              "ticks": ""
             }
            },
            "type": "scattercarpet"
           }
          ],
          "scattergeo": [
           {
            "marker": {
             "colorbar": {
              "outlinewidth": 0,
              "ticks": ""
             }
            },
            "type": "scattergeo"
           }
          ],
          "scattergl": [
           {
            "marker": {
             "colorbar": {
              "outlinewidth": 0,
              "ticks": ""
             }
            },
            "type": "scattergl"
           }
          ],
          "scattermapbox": [
           {
            "marker": {
             "colorbar": {
              "outlinewidth": 0,
              "ticks": ""
             }
            },
            "type": "scattermapbox"
           }
          ],
          "scatterpolar": [
           {
            "marker": {
             "colorbar": {
              "outlinewidth": 0,
              "ticks": ""
             }
            },
            "type": "scatterpolar"
           }
          ],
          "scatterpolargl": [
           {
            "marker": {
             "colorbar": {
              "outlinewidth": 0,
              "ticks": ""
             }
            },
            "type": "scatterpolargl"
           }
          ],
          "scatterternary": [
           {
            "marker": {
             "colorbar": {
              "outlinewidth": 0,
              "ticks": ""
             }
            },
            "type": "scatterternary"
           }
          ],
          "surface": [
           {
            "colorbar": {
             "outlinewidth": 0,
             "ticks": ""
            },
            "colorscale": [
             [
              0,
              "#0d0887"
             ],
             [
              0.1111111111111111,
              "#46039f"
             ],
             [
              0.2222222222222222,
              "#7201a8"
             ],
             [
              0.3333333333333333,
              "#9c179e"
             ],
             [
              0.4444444444444444,
              "#bd3786"
             ],
             [
              0.5555555555555556,
              "#d8576b"
             ],
             [
              0.6666666666666666,
              "#ed7953"
             ],
             [
              0.7777777777777778,
              "#fb9f3a"
             ],
             [
              0.8888888888888888,
              "#fdca26"
             ],
             [
              1,
              "#f0f921"
             ]
            ],
            "type": "surface"
           }
          ],
          "table": [
           {
            "cells": {
             "fill": {
              "color": "#EBF0F8"
             },
             "line": {
              "color": "white"
             }
            },
            "header": {
             "fill": {
              "color": "#C8D4E3"
             },
             "line": {
              "color": "white"
             }
            },
            "type": "table"
           }
          ]
         },
         "layout": {
          "annotationdefaults": {
           "arrowcolor": "#2a3f5f",
           "arrowhead": 0,
           "arrowwidth": 1
          },
          "coloraxis": {
           "colorbar": {
            "outlinewidth": 0,
            "ticks": ""
           }
          },
          "colorscale": {
           "diverging": [
            [
             0,
             "#8e0152"
            ],
            [
             0.1,
             "#c51b7d"
            ],
            [
             0.2,
             "#de77ae"
            ],
            [
             0.3,
             "#f1b6da"
            ],
            [
             0.4,
             "#fde0ef"
            ],
            [
             0.5,
             "#f7f7f7"
            ],
            [
             0.6,
             "#e6f5d0"
            ],
            [
             0.7,
             "#b8e186"
            ],
            [
             0.8,
             "#7fbc41"
            ],
            [
             0.9,
             "#4d9221"
            ],
            [
             1,
             "#276419"
            ]
           ],
           "sequential": [
            [
             0,
             "#0d0887"
            ],
            [
             0.1111111111111111,
             "#46039f"
            ],
            [
             0.2222222222222222,
             "#7201a8"
            ],
            [
             0.3333333333333333,
             "#9c179e"
            ],
            [
             0.4444444444444444,
             "#bd3786"
            ],
            [
             0.5555555555555556,
             "#d8576b"
            ],
            [
             0.6666666666666666,
             "#ed7953"
            ],
            [
             0.7777777777777778,
             "#fb9f3a"
            ],
            [
             0.8888888888888888,
             "#fdca26"
            ],
            [
             1,
             "#f0f921"
            ]
           ],
           "sequentialminus": [
            [
             0,
             "#0d0887"
            ],
            [
             0.1111111111111111,
             "#46039f"
            ],
            [
             0.2222222222222222,
             "#7201a8"
            ],
            [
             0.3333333333333333,
             "#9c179e"
            ],
            [
             0.4444444444444444,
             "#bd3786"
            ],
            [
             0.5555555555555556,
             "#d8576b"
            ],
            [
             0.6666666666666666,
             "#ed7953"
            ],
            [
             0.7777777777777778,
             "#fb9f3a"
            ],
            [
             0.8888888888888888,
             "#fdca26"
            ],
            [
             1,
             "#f0f921"
            ]
           ]
          },
          "colorway": [
           "#636efa",
           "#EF553B",
           "#00cc96",
           "#ab63fa",
           "#FFA15A",
           "#19d3f3",
           "#FF6692",
           "#B6E880",
           "#FF97FF",
           "#FECB52"
          ],
          "font": {
           "color": "#2a3f5f"
          },
          "geo": {
           "bgcolor": "white",
           "lakecolor": "white",
           "landcolor": "#E5ECF6",
           "showlakes": true,
           "showland": true,
           "subunitcolor": "white"
          },
          "hoverlabel": {
           "align": "left"
          },
          "hovermode": "closest",
          "mapbox": {
           "style": "light"
          },
          "paper_bgcolor": "white",
          "plot_bgcolor": "#E5ECF6",
          "polar": {
           "angularaxis": {
            "gridcolor": "white",
            "linecolor": "white",
            "ticks": ""
           },
           "bgcolor": "#E5ECF6",
           "radialaxis": {
            "gridcolor": "white",
            "linecolor": "white",
            "ticks": ""
           }
          },
          "scene": {
           "xaxis": {
            "backgroundcolor": "#E5ECF6",
            "gridcolor": "white",
            "gridwidth": 2,
            "linecolor": "white",
            "showbackground": true,
            "ticks": "",
            "zerolinecolor": "white"
           },
           "yaxis": {
            "backgroundcolor": "#E5ECF6",
            "gridcolor": "white",
            "gridwidth": 2,
            "linecolor": "white",
            "showbackground": true,
            "ticks": "",
            "zerolinecolor": "white"
           },
           "zaxis": {
            "backgroundcolor": "#E5ECF6",
            "gridcolor": "white",
            "gridwidth": 2,
            "linecolor": "white",
            "showbackground": true,
            "ticks": "",
            "zerolinecolor": "white"
           }
          },
          "shapedefaults": {
           "line": {
            "color": "#2a3f5f"
           }
          },
          "ternary": {
           "aaxis": {
            "gridcolor": "white",
            "linecolor": "white",
            "ticks": ""
           },
           "baxis": {
            "gridcolor": "white",
            "linecolor": "white",
            "ticks": ""
           },
           "bgcolor": "#E5ECF6",
           "caxis": {
            "gridcolor": "white",
            "linecolor": "white",
            "ticks": ""
           }
          },
          "title": {
           "x": 0.05
          },
          "xaxis": {
           "automargin": true,
           "gridcolor": "white",
           "linecolor": "white",
           "ticks": "",
           "title": {
            "standoff": 15
           },
           "zerolinecolor": "white",
           "zerolinewidth": 2
          },
          "yaxis": {
           "automargin": true,
           "gridcolor": "white",
           "linecolor": "white",
           "ticks": "",
           "title": {
            "standoff": 15
           },
           "zerolinecolor": "white",
           "zerolinewidth": 2
          }
         }
        },
        "title": {
         "text": "COVID-19 deaths over time for 1 million inhabitants [aligned for comparison]"
        },
        "xaxis": {
         "nticks": 30,
         "title": {
          "text": "Time (day) — delayed for some countries"
         }
        },
        "yaxis": {
         "title": {
          "text": "COVID-19 total deaths / nb of inhabitants (million)"
         }
        }
       }
      },
      "text/html": [
       "<div>\n",
       "        \n",
       "        \n",
       "            <div id=\"e0d2d9b7-0625-4c1d-9c18-8342bbc2e09a\" class=\"plotly-graph-div\" style=\"height:525px; width:100%;\"></div>\n",
       "            <script type=\"text/javascript\">\n",
       "                require([\"plotly\"], function(Plotly) {\n",
       "                    window.PLOTLYENV=window.PLOTLYENV || {};\n",
       "                    \n",
       "                if (document.getElementById(\"e0d2d9b7-0625-4c1d-9c18-8342bbc2e09a\")) {\n",
       "                    Plotly.newPlot(\n",
       "                        'e0d2d9b7-0625-4c1d-9c18-8342bbc2e09a',\n",
       "                        [{\"legendgroup\": \"France\", \"marker\": {\"color\": \"rgb(214, 39, 40)\", \"line\": {\"color\": \"rgb(214, 39, 40)\"}, \"symbol\": 0}, \"mode\": \"markers\", \"name\": \"\", \"opacity\": 1, \"showlegend\": true, \"type\": \"scatter\", \"x\": [\"2020-02-19T00:00:00\", \"2020-02-20T00:00:00\", \"2020-02-21T00:00:00\", \"2020-02-22T00:00:00\", \"2020-02-23T00:00:00\", \"2020-02-24T00:00:00\", \"2020-02-25T00:00:00\", \"2020-02-26T00:00:00\", \"2020-02-27T00:00:00\", \"2020-02-28T00:00:00\", \"2020-02-29T00:00:00\", \"2020-03-01T00:00:00\", \"2020-03-02T00:00:00\", \"2020-03-03T00:00:00\", \"2020-03-04T00:00:00\", \"2020-03-05T00:00:00\", \"2020-03-06T00:00:00\", \"2020-03-07T00:00:00\", \"2020-03-08T00:00:00\", \"2020-03-09T00:00:00\", \"2020-03-10T00:00:00\", \"2020-03-11T00:00:00\", \"2020-03-12T00:00:00\", \"2020-03-13T00:00:00\", \"2020-03-14T00:00:00\", \"2020-03-15T00:00:00\", \"2020-03-16T00:00:00\", \"2020-03-17T00:00:00\", \"2020-03-18T00:00:00\", \"2020-03-19T00:00:00\", \"2020-03-20T00:00:00\", \"2020-03-21T00:00:00\"], \"y\": [0.04478280340349306, 0.05971040453799075, 0.05971040453799075, 0.08956560680698612, 0.1343484102104792, 0.16420361247947457, 0.2836244215554561, 0.2836244215554561, 0.4926108374384237, 0.716524854455889, 0.716524854455889, 1.1792804896253173, 1.3584117032392895, 1.3584117032392895, 2.2092849679056576, 2.2092849679056576, 2.2092849679056576, 3.627407075682938, 6.71742051052396, 8.3893118375877]}, {\"legendgroup\": \"France\", \"marker\": {\"color\": \"rgb(214, 39, 40)\"}, \"mode\": \"lines\", \"name\": \"France [delayed by -12 days]\", \"showlegend\": true, \"type\": \"scatter\", \"x\": [\"2020-02-19T00:00:00\", \"2020-02-20T00:00:00\", \"2020-02-21T00:00:00\", \"2020-02-22T00:00:00\", \"2020-02-23T00:00:00\", \"2020-02-24T00:00:00\", \"2020-02-25T00:00:00\", \"2020-02-26T00:00:00\", \"2020-02-27T00:00:00\", \"2020-02-28T00:00:00\", \"2020-02-29T00:00:00\", \"2020-03-01T00:00:00\", \"2020-03-02T00:00:00\", \"2020-03-03T00:00:00\", \"2020-03-04T00:00:00\", \"2020-03-05T00:00:00\", \"2020-03-06T00:00:00\", \"2020-03-07T00:00:00\", \"2020-03-08T00:00:00\", \"2020-03-09T00:00:00\", \"2020-03-10T00:00:00\", \"2020-03-11T00:00:00\", \"2020-03-12T00:00:00\", \"2020-03-13T00:00:00\", \"2020-03-14T00:00:00\", \"2020-03-15T00:00:00\", \"2020-03-16T00:00:00\", \"2020-03-17T00:00:00\", \"2020-03-18T00:00:00\", \"2020-03-19T00:00:00\", \"2020-03-20T00:00:00\", \"2020-03-21T00:00:00\"], \"y\": [0.04478280340349306, 0.05971040453799075, 0.05971040453799075, 0.08956560680698612, 0.1343484102104792, 0.16420361247947457, 0.2836244215554561, 0.2836244215554561, 0.4926108374384237, 0.716524854455889, 0.716524854455889, 1.1792804896253173, 1.3584117032392895, 1.3584117032392895, 2.2092849679056576, 2.2092849679056576, 2.2092849679056576, 3.627407075682938, 6.71742051052396, 8.3893118375877]}, {\"legendgroup\": \"Italy\", \"marker\": {\"color\": \"rgb(127, 127, 127)\", \"line\": {\"color\": \"rgb(127, 127, 127)\"}, \"symbol\": 3}, \"mode\": \"markers\", \"name\": \"\", \"opacity\": 1, \"showlegend\": true, \"type\": \"scatter\", \"x\": [\"2020-03-02T00:00:00\", \"2020-03-03T00:00:00\", \"2020-03-04T00:00:00\", \"2020-03-05T00:00:00\", \"2020-03-06T00:00:00\", \"2020-03-07T00:00:00\", \"2020-03-08T00:00:00\", \"2020-03-09T00:00:00\", \"2020-03-10T00:00:00\", \"2020-03-11T00:00:00\", \"2020-03-12T00:00:00\", \"2020-03-13T00:00:00\", \"2020-03-14T00:00:00\", \"2020-03-15T00:00:00\", \"2020-03-16T00:00:00\", \"2020-03-17T00:00:00\", \"2020-03-18T00:00:00\", \"2020-03-19T00:00:00\", \"2020-03-20T00:00:00\", \"2020-03-21T00:00:00\"], \"y\": [0.8597883597883599, 1.3062169312169314, 1.7691798941798942, 2.4470899470899474, 3.2572751322751325, 3.852513227513228, 6.051587301587302, 7.655423280423281, 10.433201058201059, 13.673941798941799, 13.673941798941799, 20.932539682539684, 23.826058201058203, 29.91071428571429, 35.68121693121693, 41.38558201058201, 49.239417989417994, 56.29960317460318, 66.66666666666667, 79.77843915343915]}, {\"legendgroup\": \"Italy\", \"marker\": {\"color\": \"rgb(127, 127, 127)\"}, \"mode\": \"lines\", \"name\": \"Italy [delayed by 0 days]\", \"showlegend\": true, \"type\": \"scatter\", \"x\": [\"2020-03-02T00:00:00\", \"2020-03-03T00:00:00\", \"2020-03-04T00:00:00\", \"2020-03-05T00:00:00\", \"2020-03-06T00:00:00\", \"2020-03-07T00:00:00\", \"2020-03-08T00:00:00\", \"2020-03-09T00:00:00\", \"2020-03-10T00:00:00\", \"2020-03-11T00:00:00\", \"2020-03-12T00:00:00\", \"2020-03-13T00:00:00\", \"2020-03-14T00:00:00\", \"2020-03-15T00:00:00\", \"2020-03-16T00:00:00\", \"2020-03-17T00:00:00\", \"2020-03-18T00:00:00\", \"2020-03-19T00:00:00\", \"2020-03-20T00:00:00\", \"2020-03-21T00:00:00\"], \"y\": [0.8597883597883599, 1.3062169312169314, 1.7691798941798942, 2.4470899470899474, 3.2572751322751325, 3.852513227513228, 6.051587301587302, 7.655423280423281, 10.433201058201059, 13.673941798941799, 13.673941798941799, 20.932539682539684, 23.826058201058203, 29.91071428571429, 35.68121693121693, 41.38558201058201, 49.239417989417994, 56.29960317460318, 66.66666666666667, 79.77843915343915]}, {\"legendgroup\": \"United Kingdom\", \"marker\": {\"color\": \"rgb(188, 189, 34)\", \"line\": {\"color\": \"rgb(188, 189, 34)\"}, \"symbol\": 6}, \"mode\": \"markers\", \"name\": \"\", \"opacity\": 1, \"showlegend\": true, \"type\": \"scatter\", \"x\": [\"2020-02-16T00:00:00\", \"2020-02-17T00:00:00\", \"2020-02-18T00:00:00\", \"2020-02-19T00:00:00\", \"2020-02-20T00:00:00\", \"2020-02-21T00:00:00\", \"2020-02-22T00:00:00\", \"2020-02-23T00:00:00\", \"2020-02-24T00:00:00\", \"2020-02-25T00:00:00\", \"2020-02-26T00:00:00\", \"2020-02-27T00:00:00\", \"2020-02-28T00:00:00\", \"2020-02-29T00:00:00\", \"2020-03-01T00:00:00\", \"2020-03-02T00:00:00\", \"2020-03-03T00:00:00\", \"2020-03-04T00:00:00\", \"2020-03-05T00:00:00\", \"2020-03-06T00:00:00\", \"2020-03-07T00:00:00\", \"2020-03-08T00:00:00\", \"2020-03-09T00:00:00\", \"2020-03-10T00:00:00\", \"2020-03-11T00:00:00\", \"2020-03-12T00:00:00\", \"2020-03-13T00:00:00\", \"2020-03-14T00:00:00\", \"2020-03-15T00:00:00\", \"2020-03-16T00:00:00\", \"2020-03-17T00:00:00\", \"2020-03-18T00:00:00\", \"2020-03-19T00:00:00\", \"2020-03-20T00:00:00\", \"2020-03-21T00:00:00\"], \"y\": [0.0, 0.0, 0.0, 0.015051173991571343, 0.030102347983142687, 0.030102347983142687, 0.04515352197471403, 0.060204695966285374, 0.09030704394942805, 0.12040939193257075, 0.12040939193257075, 0.12040939193257075, 0.3160746538229982, 0.3160746538229982, 0.8428657435279953, 0.8428657435279953, 1.0836845273931368, 2.0770620108368454, 2.679108970499699, 3.5219747140276945]}, {\"legendgroup\": \"United Kingdom\", \"marker\": {\"color\": \"rgb(188, 189, 34)\"}, \"mode\": \"lines\", \"name\": \"United Kingdom [delayed by -15 days]\", \"showlegend\": true, \"type\": \"scatter\", \"x\": [\"2020-02-16T00:00:00\", \"2020-02-17T00:00:00\", \"2020-02-18T00:00:00\", \"2020-02-19T00:00:00\", \"2020-02-20T00:00:00\", \"2020-02-21T00:00:00\", \"2020-02-22T00:00:00\", \"2020-02-23T00:00:00\", \"2020-02-24T00:00:00\", \"2020-02-25T00:00:00\", \"2020-02-26T00:00:00\", \"2020-02-27T00:00:00\", \"2020-02-28T00:00:00\", \"2020-02-29T00:00:00\", \"2020-03-01T00:00:00\", \"2020-03-02T00:00:00\", \"2020-03-03T00:00:00\", \"2020-03-04T00:00:00\", \"2020-03-05T00:00:00\", \"2020-03-06T00:00:00\", \"2020-03-07T00:00:00\", \"2020-03-08T00:00:00\", \"2020-03-09T00:00:00\", \"2020-03-10T00:00:00\", \"2020-03-11T00:00:00\", \"2020-03-12T00:00:00\", \"2020-03-13T00:00:00\", \"2020-03-14T00:00:00\", \"2020-03-15T00:00:00\", \"2020-03-16T00:00:00\", \"2020-03-17T00:00:00\", \"2020-03-18T00:00:00\", \"2020-03-19T00:00:00\", \"2020-03-20T00:00:00\", \"2020-03-21T00:00:00\"], \"y\": [0.0, 0.0, 0.0, 0.015051173991571343, 0.030102347983142687, 0.030102347983142687, 0.04515352197471403, 0.060204695966285374, 0.09030704394942805, 0.12040939193257075, 0.12040939193257075, 0.12040939193257075, 0.3160746538229982, 0.3160746538229982, 0.8428657435279953, 0.8428657435279953, 1.0836845273931368, 2.0770620108368454, 2.679108970499699, 3.5219747140276945]}, {\"legendgroup\": \"Spain\", \"marker\": {\"color\": \"rgb(148, 103, 189)\", \"line\": {\"color\": \"rgb(148, 103, 189)\"}, \"symbol\": 9}, \"mode\": \"markers\", \"name\": \"\", \"opacity\": 1, \"showlegend\": true, \"type\": \"scatter\", \"x\": [\"2020-02-24T00:00:00\", \"2020-02-25T00:00:00\", \"2020-02-26T00:00:00\", \"2020-02-27T00:00:00\", \"2020-02-28T00:00:00\", \"2020-02-29T00:00:00\", \"2020-03-01T00:00:00\", \"2020-03-02T00:00:00\", \"2020-03-03T00:00:00\", \"2020-03-04T00:00:00\", \"2020-03-05T00:00:00\", \"2020-03-06T00:00:00\", \"2020-03-07T00:00:00\", \"2020-03-08T00:00:00\", \"2020-03-09T00:00:00\", \"2020-03-10T00:00:00\", \"2020-03-11T00:00:00\", \"2020-03-12T00:00:00\", \"2020-03-13T00:00:00\", \"2020-03-14T00:00:00\", \"2020-03-15T00:00:00\", \"2020-03-16T00:00:00\", \"2020-03-17T00:00:00\", \"2020-03-18T00:00:00\", \"2020-03-19T00:00:00\", \"2020-03-20T00:00:00\", \"2020-03-21T00:00:00\"], \"y\": [0.0, 0.021431633090441493, 0.042863266180882986, 0.06429489927132448, 0.10715816545220747, 0.21431633090441493, 0.3643377625375054, 0.6000857265323618, 0.7501071581654523, 1.1573081868838406, 1.1787398199742822, 2.8504072010287187, 4.179168452636091, 6.193741963137591, 7.32961851693099, 11.423060437205315, 13.35190741534505, 17.788255465066438, 22.35319331333048, 29.468495499357054]}, {\"legendgroup\": \"Spain\", \"marker\": {\"color\": \"rgb(148, 103, 189)\"}, \"mode\": \"lines\", \"name\": \"Spain [delayed by -7 days]\", \"showlegend\": true, \"type\": \"scatter\", \"x\": [\"2020-02-24T00:00:00\", \"2020-02-25T00:00:00\", \"2020-02-26T00:00:00\", \"2020-02-27T00:00:00\", \"2020-02-28T00:00:00\", \"2020-02-29T00:00:00\", \"2020-03-01T00:00:00\", \"2020-03-02T00:00:00\", \"2020-03-03T00:00:00\", \"2020-03-04T00:00:00\", \"2020-03-05T00:00:00\", \"2020-03-06T00:00:00\", \"2020-03-07T00:00:00\", \"2020-03-08T00:00:00\", \"2020-03-09T00:00:00\", \"2020-03-10T00:00:00\", \"2020-03-11T00:00:00\", \"2020-03-12T00:00:00\", \"2020-03-13T00:00:00\", \"2020-03-14T00:00:00\", \"2020-03-15T00:00:00\", \"2020-03-16T00:00:00\", \"2020-03-17T00:00:00\", \"2020-03-18T00:00:00\", \"2020-03-19T00:00:00\", \"2020-03-20T00:00:00\", \"2020-03-21T00:00:00\"], \"y\": [0.0, 0.021431633090441493, 0.042863266180882986, 0.06429489927132448, 0.10715816545220747, 0.21431633090441493, 0.3643377625375054, 0.6000857265323618, 0.7501071581654523, 1.1573081868838406, 1.1787398199742822, 2.8504072010287187, 4.179168452636091, 6.193741963137591, 7.32961851693099, 11.423060437205315, 13.35190741534505, 17.788255465066438, 22.35319331333048, 29.468495499357054]}, {\"legendgroup\": \"Germany\", \"marker\": {\"color\": \"rgb(44, 160, 44)\", \"line\": {\"color\": \"rgb(44, 160, 44)\"}, \"symbol\": 12}, \"mode\": \"markers\", \"name\": \"\", \"opacity\": 1, \"showlegend\": true, \"type\": \"scatter\", \"x\": [\"2020-02-12T00:00:00\", \"2020-02-13T00:00:00\", \"2020-02-14T00:00:00\", \"2020-02-15T00:00:00\", \"2020-02-16T00:00:00\", \"2020-02-17T00:00:00\", \"2020-02-18T00:00:00\", \"2020-02-19T00:00:00\", \"2020-02-20T00:00:00\", \"2020-02-21T00:00:00\", \"2020-02-22T00:00:00\", \"2020-02-23T00:00:00\", \"2020-02-24T00:00:00\", \"2020-02-25T00:00:00\", \"2020-02-26T00:00:00\", \"2020-02-27T00:00:00\", \"2020-02-28T00:00:00\", \"2020-02-29T00:00:00\", \"2020-03-01T00:00:00\", \"2020-03-02T00:00:00\", \"2020-03-03T00:00:00\", \"2020-03-04T00:00:00\", \"2020-03-05T00:00:00\", \"2020-03-06T00:00:00\", \"2020-03-07T00:00:00\", \"2020-03-08T00:00:00\", \"2020-03-09T00:00:00\", \"2020-03-10T00:00:00\", \"2020-03-11T00:00:00\", \"2020-03-12T00:00:00\", \"2020-03-13T00:00:00\", \"2020-03-14T00:00:00\", \"2020-03-15T00:00:00\", \"2020-03-16T00:00:00\", \"2020-03-17T00:00:00\", \"2020-03-18T00:00:00\", \"2020-03-19T00:00:00\", \"2020-03-20T00:00:00\", \"2020-03-21T00:00:00\"], \"y\": [0.0, 0.0, 0.0, 0.0, 0.0, 0.0, 0.0, 0.024157506945283246, 0.024157506945283246, 0.03623626041792487, 0.03623626041792487, 0.08455127430849135, 0.1087087812537746, 0.13286628819905785, 0.2053388090349076, 0.28989008334339894, 0.3382050972339654, 0.5314651527962314, 0.8092764826669887, 1.0146152917018962]}, {\"legendgroup\": \"Germany\", \"marker\": {\"color\": \"rgb(44, 160, 44)\"}, \"mode\": \"lines\", \"name\": \"Germany [delayed by -19 days]\", \"showlegend\": true, \"type\": \"scatter\", \"x\": [\"2020-02-12T00:00:00\", \"2020-02-13T00:00:00\", \"2020-02-14T00:00:00\", \"2020-02-15T00:00:00\", \"2020-02-16T00:00:00\", \"2020-02-17T00:00:00\", \"2020-02-18T00:00:00\", \"2020-02-19T00:00:00\", \"2020-02-20T00:00:00\", \"2020-02-21T00:00:00\", \"2020-02-22T00:00:00\", \"2020-02-23T00:00:00\", \"2020-02-24T00:00:00\", \"2020-02-25T00:00:00\", \"2020-02-26T00:00:00\", \"2020-02-27T00:00:00\", \"2020-02-28T00:00:00\", \"2020-02-29T00:00:00\", \"2020-03-01T00:00:00\", \"2020-03-02T00:00:00\", \"2020-03-03T00:00:00\", \"2020-03-04T00:00:00\", \"2020-03-05T00:00:00\", \"2020-03-06T00:00:00\", \"2020-03-07T00:00:00\", \"2020-03-08T00:00:00\", \"2020-03-09T00:00:00\", \"2020-03-10T00:00:00\", \"2020-03-11T00:00:00\", \"2020-03-12T00:00:00\", \"2020-03-13T00:00:00\", \"2020-03-14T00:00:00\", \"2020-03-15T00:00:00\", \"2020-03-16T00:00:00\", \"2020-03-17T00:00:00\", \"2020-03-18T00:00:00\", \"2020-03-19T00:00:00\", \"2020-03-20T00:00:00\", \"2020-03-21T00:00:00\"], \"y\": [0.0, 0.0, 0.0, 0.0, 0.0, 0.0, 0.0, 0.024157506945283246, 0.024157506945283246, 0.03623626041792487, 0.03623626041792487, 0.08455127430849135, 0.1087087812537746, 0.13286628819905785, 0.2053388090349076, 0.28989008334339894, 0.3382050972339654, 0.5314651527962314, 0.8092764826669887, 1.0146152917018962]}, {\"legendgroup\": \"Belgium\", \"marker\": {\"color\": \"rgb(227, 119, 194)\", \"line\": {\"color\": \"rgb(227, 119, 194)\"}, \"symbol\": 15}, \"mode\": \"markers\", \"name\": \"\", \"opacity\": 1, \"showlegend\": true, \"type\": \"scatter\", \"x\": [\"2020-02-16T00:00:00\", \"2020-02-17T00:00:00\", \"2020-02-18T00:00:00\", \"2020-02-19T00:00:00\", \"2020-02-20T00:00:00\", \"2020-02-21T00:00:00\", \"2020-02-22T00:00:00\", \"2020-02-23T00:00:00\", \"2020-02-24T00:00:00\", \"2020-02-25T00:00:00\", \"2020-02-26T00:00:00\", \"2020-02-27T00:00:00\", \"2020-02-28T00:00:00\", \"2020-02-29T00:00:00\", \"2020-03-01T00:00:00\", \"2020-03-02T00:00:00\", \"2020-03-03T00:00:00\", \"2020-03-04T00:00:00\", \"2020-03-05T00:00:00\", \"2020-03-06T00:00:00\", \"2020-03-07T00:00:00\", \"2020-03-08T00:00:00\", \"2020-03-09T00:00:00\", \"2020-03-10T00:00:00\", \"2020-03-11T00:00:00\", \"2020-03-12T00:00:00\", \"2020-03-13T00:00:00\", \"2020-03-14T00:00:00\", \"2020-03-15T00:00:00\", \"2020-03-16T00:00:00\", \"2020-03-17T00:00:00\", \"2020-03-18T00:00:00\", \"2020-03-19T00:00:00\", \"2020-03-20T00:00:00\", \"2020-03-21T00:00:00\"], \"y\": [0.0, 0.0, 0.0, 0.0, 0.0, 0.0, 0.0, 0.0, 0.0, 0.2631578947368421, 0.2631578947368421, 0.2631578947368421, 0.3508771929824561, 0.3508771929824561, 0.43859649122807015, 0.8771929824561403, 1.2280701754385965, 1.8421052631578947, 3.245614035087719, 5.87719298245614]}, {\"legendgroup\": \"Belgium\", \"marker\": {\"color\": \"rgb(227, 119, 194)\"}, \"mode\": \"lines\", \"name\": \"Belgium [delayed by -15 days]\", \"showlegend\": true, \"type\": \"scatter\", \"x\": [\"2020-02-16T00:00:00\", \"2020-02-17T00:00:00\", \"2020-02-18T00:00:00\", \"2020-02-19T00:00:00\", \"2020-02-20T00:00:00\", \"2020-02-21T00:00:00\", \"2020-02-22T00:00:00\", \"2020-02-23T00:00:00\", \"2020-02-24T00:00:00\", \"2020-02-25T00:00:00\", \"2020-02-26T00:00:00\", \"2020-02-27T00:00:00\", \"2020-02-28T00:00:00\", \"2020-02-29T00:00:00\", \"2020-03-01T00:00:00\", \"2020-03-02T00:00:00\", \"2020-03-03T00:00:00\", \"2020-03-04T00:00:00\", \"2020-03-05T00:00:00\", \"2020-03-06T00:00:00\", \"2020-03-07T00:00:00\", \"2020-03-08T00:00:00\", \"2020-03-09T00:00:00\", \"2020-03-10T00:00:00\", \"2020-03-11T00:00:00\", \"2020-03-12T00:00:00\", \"2020-03-13T00:00:00\", \"2020-03-14T00:00:00\", \"2020-03-15T00:00:00\", \"2020-03-16T00:00:00\", \"2020-03-17T00:00:00\", \"2020-03-18T00:00:00\", \"2020-03-19T00:00:00\", \"2020-03-20T00:00:00\", \"2020-03-21T00:00:00\"], \"y\": [0.0, 0.0, 0.0, 0.0, 0.0, 0.0, 0.0, 0.0, 0.0, 0.2631578947368421, 0.2631578947368421, 0.2631578947368421, 0.3508771929824561, 0.3508771929824561, 0.43859649122807015, 0.8771929824561403, 1.2280701754385965, 1.8421052631578947, 3.245614035087719, 5.87719298245614]}, {\"legendgroup\": \"Luxembourg\", \"marker\": {\"color\": \"rgb(23, 190, 207)\", \"line\": {\"color\": \"rgb(23, 190, 207)\"}, \"symbol\": 18}, \"mode\": \"markers\", \"name\": \"\", \"opacity\": 1, \"showlegend\": true, \"type\": \"scatter\", \"x\": [\"2020-02-20T00:00:00\", \"2020-02-21T00:00:00\", \"2020-02-22T00:00:00\", \"2020-02-23T00:00:00\", \"2020-02-24T00:00:00\", \"2020-02-25T00:00:00\", \"2020-02-26T00:00:00\", \"2020-02-27T00:00:00\", \"2020-02-28T00:00:00\", \"2020-02-29T00:00:00\", \"2020-03-01T00:00:00\", \"2020-03-02T00:00:00\", \"2020-03-03T00:00:00\", \"2020-03-04T00:00:00\", \"2020-03-05T00:00:00\", \"2020-03-06T00:00:00\", \"2020-03-07T00:00:00\", \"2020-03-08T00:00:00\", \"2020-03-09T00:00:00\", \"2020-03-10T00:00:00\", \"2020-03-11T00:00:00\", \"2020-03-12T00:00:00\", \"2020-03-13T00:00:00\", \"2020-03-14T00:00:00\", \"2020-03-15T00:00:00\", \"2020-03-16T00:00:00\", \"2020-03-17T00:00:00\", \"2020-03-18T00:00:00\", \"2020-03-19T00:00:00\", \"2020-03-20T00:00:00\", \"2020-03-21T00:00:00\"], \"y\": [0.0, 0.0, 0.0, 0.0, 0.0, 0.0, 0.0, 0.0, 0.0, 0.0, 0.0, 0.0, 1.6611295681063123, 1.6611295681063123, 1.6611295681063123, 1.6611295681063123, 3.3222591362126246, 6.644518272425249, 6.644518272425249, 13.289036544850498]}, {\"legendgroup\": \"Luxembourg\", \"marker\": {\"color\": \"rgb(23, 190, 207)\"}, \"mode\": \"lines\", \"name\": \"Luxembourg [delayed by -11 days]\", \"showlegend\": true, \"type\": \"scatter\", \"x\": [\"2020-02-20T00:00:00\", \"2020-02-21T00:00:00\", \"2020-02-22T00:00:00\", \"2020-02-23T00:00:00\", \"2020-02-24T00:00:00\", \"2020-02-25T00:00:00\", \"2020-02-26T00:00:00\", \"2020-02-27T00:00:00\", \"2020-02-28T00:00:00\", \"2020-02-29T00:00:00\", \"2020-03-01T00:00:00\", \"2020-03-02T00:00:00\", \"2020-03-03T00:00:00\", \"2020-03-04T00:00:00\", \"2020-03-05T00:00:00\", \"2020-03-06T00:00:00\", \"2020-03-07T00:00:00\", \"2020-03-08T00:00:00\", \"2020-03-09T00:00:00\", \"2020-03-10T00:00:00\", \"2020-03-11T00:00:00\", \"2020-03-12T00:00:00\", \"2020-03-13T00:00:00\", \"2020-03-14T00:00:00\", \"2020-03-15T00:00:00\", \"2020-03-16T00:00:00\", \"2020-03-17T00:00:00\", \"2020-03-18T00:00:00\", \"2020-03-19T00:00:00\", \"2020-03-20T00:00:00\", \"2020-03-21T00:00:00\"], \"y\": [0.0, 0.0, 0.0, 0.0, 0.0, 0.0, 0.0, 0.0, 0.0, 0.0, 0.0, 0.0, 1.6611295681063123, 1.6611295681063123, 1.6611295681063123, 1.6611295681063123, 3.3222591362126246, 6.644518272425249, 6.644518272425249, 13.289036544850498]}, {\"legendgroup\": \"US\", \"marker\": {\"color\": \"rgb(31, 119, 180)\", \"line\": {\"color\": \"rgb(31, 119, 180)\"}, \"symbol\": 21}, \"mode\": \"markers\", \"name\": \"\", \"opacity\": 1, \"showlegend\": true, \"type\": \"scatter\", \"x\": [\"2020-02-13T00:00:00\", \"2020-02-14T00:00:00\", \"2020-02-15T00:00:00\", \"2020-02-16T00:00:00\", \"2020-02-17T00:00:00\", \"2020-02-18T00:00:00\", \"2020-02-19T00:00:00\", \"2020-02-20T00:00:00\", \"2020-02-21T00:00:00\", \"2020-02-22T00:00:00\", \"2020-02-23T00:00:00\", \"2020-02-24T00:00:00\", \"2020-02-25T00:00:00\", \"2020-02-26T00:00:00\", \"2020-02-27T00:00:00\", \"2020-02-28T00:00:00\", \"2020-02-29T00:00:00\", \"2020-03-01T00:00:00\", \"2020-03-02T00:00:00\", \"2020-03-03T00:00:00\", \"2020-03-04T00:00:00\", \"2020-03-05T00:00:00\", \"2020-03-06T00:00:00\", \"2020-03-07T00:00:00\", \"2020-03-08T00:00:00\", \"2020-03-09T00:00:00\", \"2020-03-10T00:00:00\", \"2020-03-11T00:00:00\", \"2020-03-12T00:00:00\", \"2020-03-13T00:00:00\", \"2020-03-14T00:00:00\", \"2020-03-15T00:00:00\", \"2020-03-16T00:00:00\", \"2020-03-17T00:00:00\", \"2020-03-18T00:00:00\", \"2020-03-19T00:00:00\", \"2020-03-20T00:00:00\", \"2020-03-21T00:00:00\"], \"y\": [0.01834862385321101, 0.021406727828746176, 0.03363914373088685, 0.03669724770642202, 0.04281345565749235, 0.05198776758409786, 0.06422018348623854, 0.0672782874617737, 0.0856269113149847, 0.11009174311926606, 0.12232415902140673, 0.1437308868501529, 0.1651376146788991, 0.1926605504587156, 0.2599388379204893, 0.3302752293577982, 0.36085626911314983, 0.6116207951070336, 0.746177370030581, 0.9388379204892966]}, {\"legendgroup\": \"US\", \"marker\": {\"color\": \"rgb(31, 119, 180)\"}, \"mode\": \"lines\", \"name\": \"US [delayed by -18 days]\", \"showlegend\": true, \"type\": \"scatter\", \"x\": [\"2020-02-13T00:00:00\", \"2020-02-14T00:00:00\", \"2020-02-15T00:00:00\", \"2020-02-16T00:00:00\", \"2020-02-17T00:00:00\", \"2020-02-18T00:00:00\", \"2020-02-19T00:00:00\", \"2020-02-20T00:00:00\", \"2020-02-21T00:00:00\", \"2020-02-22T00:00:00\", \"2020-02-23T00:00:00\", \"2020-02-24T00:00:00\", \"2020-02-25T00:00:00\", \"2020-02-26T00:00:00\", \"2020-02-27T00:00:00\", \"2020-02-28T00:00:00\", \"2020-02-29T00:00:00\", \"2020-03-01T00:00:00\", \"2020-03-02T00:00:00\", \"2020-03-03T00:00:00\", \"2020-03-04T00:00:00\", \"2020-03-05T00:00:00\", \"2020-03-06T00:00:00\", \"2020-03-07T00:00:00\", \"2020-03-08T00:00:00\", \"2020-03-09T00:00:00\", \"2020-03-10T00:00:00\", \"2020-03-11T00:00:00\", \"2020-03-12T00:00:00\", \"2020-03-13T00:00:00\", \"2020-03-14T00:00:00\", \"2020-03-15T00:00:00\", \"2020-03-16T00:00:00\", \"2020-03-17T00:00:00\", \"2020-03-18T00:00:00\", \"2020-03-19T00:00:00\", \"2020-03-20T00:00:00\", \"2020-03-21T00:00:00\"], \"y\": [0.01834862385321101, 0.021406727828746176, 0.03363914373088685, 0.03669724770642202, 0.04281345565749235, 0.05198776758409786, 0.06422018348623854, 0.0672782874617737, 0.0856269113149847, 0.11009174311926606, 0.12232415902140673, 0.1437308868501529, 0.1651376146788991, 0.1926605504587156, 0.2599388379204893, 0.3302752293577982, 0.36085626911314983, 0.6116207951070336, 0.746177370030581, 0.9388379204892966]}, {\"legendgroup\": \"Canada\", \"marker\": {\"color\": \"rgb(255, 127, 14)\", \"line\": {\"color\": \"rgb(255, 127, 14)\"}, \"symbol\": 24}, \"mode\": \"markers\", \"name\": \"\", \"opacity\": 1, \"showlegend\": true, \"type\": \"scatter\", \"x\": [\"2020-02-10T00:00:00\", \"2020-02-11T00:00:00\", \"2020-02-12T00:00:00\", \"2020-02-13T00:00:00\", \"2020-02-14T00:00:00\", \"2020-02-15T00:00:00\", \"2020-02-16T00:00:00\", \"2020-02-17T00:00:00\", \"2020-02-18T00:00:00\", \"2020-02-19T00:00:00\", \"2020-02-20T00:00:00\", \"2020-02-21T00:00:00\", \"2020-02-22T00:00:00\", \"2020-02-23T00:00:00\", \"2020-02-24T00:00:00\", \"2020-02-25T00:00:00\", \"2020-02-26T00:00:00\", \"2020-02-27T00:00:00\", \"2020-02-28T00:00:00\", \"2020-02-29T00:00:00\", \"2020-03-01T00:00:00\", \"2020-03-02T00:00:00\", \"2020-03-03T00:00:00\", \"2020-03-04T00:00:00\", \"2020-03-05T00:00:00\", \"2020-03-06T00:00:00\", \"2020-03-07T00:00:00\", \"2020-03-08T00:00:00\", \"2020-03-09T00:00:00\", \"2020-03-10T00:00:00\", \"2020-03-11T00:00:00\", \"2020-03-12T00:00:00\", \"2020-03-13T00:00:00\", \"2020-03-14T00:00:00\", \"2020-03-15T00:00:00\", \"2020-03-16T00:00:00\", \"2020-03-17T00:00:00\", \"2020-03-18T00:00:00\", \"2020-03-19T00:00:00\", \"2020-03-20T00:00:00\", \"2020-03-21T00:00:00\"], \"y\": [0.0, 0.0, 0.0, 0.0, 0.0, 0.0, 0.0, 0.026602819898909284, 0.026602819898909284, 0.026602819898909284, 0.026602819898909284, 0.026602819898909284, 0.026602819898909284, 0.026602819898909284, 0.10641127959563713, 0.1330140994945464, 0.21282255919127427, 0.23942537909018355, 0.31923383878691136, 0.5054535780792764]}, {\"legendgroup\": \"Canada\", \"marker\": {\"color\": \"rgb(255, 127, 14)\"}, \"mode\": \"lines\", \"name\": \"Canada [delayed by -21 days]\", \"showlegend\": true, \"type\": \"scatter\", \"x\": [\"2020-02-10T00:00:00\", \"2020-02-11T00:00:00\", \"2020-02-12T00:00:00\", \"2020-02-13T00:00:00\", \"2020-02-14T00:00:00\", \"2020-02-15T00:00:00\", \"2020-02-16T00:00:00\", \"2020-02-17T00:00:00\", \"2020-02-18T00:00:00\", \"2020-02-19T00:00:00\", \"2020-02-20T00:00:00\", \"2020-02-21T00:00:00\", \"2020-02-22T00:00:00\", \"2020-02-23T00:00:00\", \"2020-02-24T00:00:00\", \"2020-02-25T00:00:00\", \"2020-02-26T00:00:00\", \"2020-02-27T00:00:00\", \"2020-02-28T00:00:00\", \"2020-02-29T00:00:00\", \"2020-03-01T00:00:00\", \"2020-03-02T00:00:00\", \"2020-03-03T00:00:00\", \"2020-03-04T00:00:00\", \"2020-03-05T00:00:00\", \"2020-03-06T00:00:00\", \"2020-03-07T00:00:00\", \"2020-03-08T00:00:00\", \"2020-03-09T00:00:00\", \"2020-03-10T00:00:00\", \"2020-03-11T00:00:00\", \"2020-03-12T00:00:00\", \"2020-03-13T00:00:00\", \"2020-03-14T00:00:00\", \"2020-03-15T00:00:00\", \"2020-03-16T00:00:00\", \"2020-03-17T00:00:00\", \"2020-03-18T00:00:00\", \"2020-03-19T00:00:00\", \"2020-03-20T00:00:00\", \"2020-03-21T00:00:00\"], \"y\": [0.0, 0.0, 0.0, 0.0, 0.0, 0.0, 0.0, 0.026602819898909284, 0.026602819898909284, 0.026602819898909284, 0.026602819898909284, 0.026602819898909284, 0.026602819898909284, 0.026602819898909284, 0.10641127959563713, 0.1330140994945464, 0.21282255919127427, 0.23942537909018355, 0.31923383878691136, 0.5054535780792764]}, {\"legendgroup\": \"Switzerland\", \"marker\": {\"color\": \"rgb(140, 86, 75)\", \"line\": {\"color\": \"rgb(140, 86, 75)\"}, \"symbol\": 27}, \"mode\": \"markers\", \"name\": \"\", \"opacity\": 1, \"showlegend\": true, \"type\": \"scatter\", \"x\": [\"2020-02-19T00:00:00\", \"2020-02-20T00:00:00\", \"2020-02-21T00:00:00\", \"2020-02-22T00:00:00\", \"2020-02-23T00:00:00\", \"2020-02-24T00:00:00\", \"2020-02-25T00:00:00\", \"2020-02-26T00:00:00\", \"2020-02-27T00:00:00\", \"2020-02-28T00:00:00\", \"2020-02-29T00:00:00\", \"2020-03-01T00:00:00\", \"2020-03-02T00:00:00\", \"2020-03-03T00:00:00\", \"2020-03-04T00:00:00\", \"2020-03-05T00:00:00\", \"2020-03-06T00:00:00\", \"2020-03-07T00:00:00\", \"2020-03-08T00:00:00\", \"2020-03-09T00:00:00\", \"2020-03-10T00:00:00\", \"2020-03-11T00:00:00\", \"2020-03-12T00:00:00\", \"2020-03-13T00:00:00\", \"2020-03-14T00:00:00\", \"2020-03-15T00:00:00\", \"2020-03-16T00:00:00\", \"2020-03-17T00:00:00\", \"2020-03-18T00:00:00\", \"2020-03-19T00:00:00\", \"2020-03-20T00:00:00\", \"2020-03-21T00:00:00\"], \"y\": [0.0, 0.0, 0.0, 0.11668611435239207, 0.11668611435239207, 0.11668611435239207, 0.23337222870478413, 0.23337222870478413, 0.3500583430571762, 0.46674445740956827, 0.46674445740956827, 1.2835472578763127, 1.5169194865810969, 1.633605600933489, 1.633605600933489, 3.150525087514586, 3.267211201866978, 4.784130688448075, 6.301050175029172, 8.751458576429405]}, {\"legendgroup\": \"Switzerland\", \"marker\": {\"color\": \"rgb(140, 86, 75)\"}, \"mode\": \"lines\", \"name\": \"Switzerland [delayed by -12 days]\", \"showlegend\": true, \"type\": \"scatter\", \"x\": [\"2020-02-19T00:00:00\", \"2020-02-20T00:00:00\", \"2020-02-21T00:00:00\", \"2020-02-22T00:00:00\", \"2020-02-23T00:00:00\", \"2020-02-24T00:00:00\", \"2020-02-25T00:00:00\", \"2020-02-26T00:00:00\", \"2020-02-27T00:00:00\", \"2020-02-28T00:00:00\", \"2020-02-29T00:00:00\", \"2020-03-01T00:00:00\", \"2020-03-02T00:00:00\", \"2020-03-03T00:00:00\", \"2020-03-04T00:00:00\", \"2020-03-05T00:00:00\", \"2020-03-06T00:00:00\", \"2020-03-07T00:00:00\", \"2020-03-08T00:00:00\", \"2020-03-09T00:00:00\", \"2020-03-10T00:00:00\", \"2020-03-11T00:00:00\", \"2020-03-12T00:00:00\", \"2020-03-13T00:00:00\", \"2020-03-14T00:00:00\", \"2020-03-15T00:00:00\", \"2020-03-16T00:00:00\", \"2020-03-17T00:00:00\", \"2020-03-18T00:00:00\", \"2020-03-19T00:00:00\", \"2020-03-20T00:00:00\", \"2020-03-21T00:00:00\"], \"y\": [0.0, 0.0, 0.0, 0.11668611435239207, 0.11668611435239207, 0.11668611435239207, 0.23337222870478413, 0.23337222870478413, 0.3500583430571762, 0.46674445740956827, 0.46674445740956827, 1.2835472578763127, 1.5169194865810969, 1.633605600933489, 1.633605600933489, 3.150525087514586, 3.267211201866978, 4.784130688448075, 6.301050175029172, 8.751458576429405]}],\n",
       "                        {\"annotations\": [{\"showarrow\": false, \"text\": \"Last update: 2020-03-22 08:53 ; Last data: 2020-03-21 ; Data: CSSE ; Author: @guillaumerozier\", \"x\": 0, \"xref\": \"paper\", \"y\": 1.1, \"yref\": \"paper\"}], \"legend\": {\"font\": {\"color\": \"black\", \"family\": \"sans-serif\"}, \"traceorder\": \"normal\"}, \"template\": {\"data\": {\"bar\": [{\"error_x\": {\"color\": \"#2a3f5f\"}, \"error_y\": {\"color\": \"#2a3f5f\"}, \"marker\": {\"line\": {\"color\": \"#E5ECF6\", \"width\": 0.5}}, \"type\": \"bar\"}], \"barpolar\": [{\"marker\": {\"line\": {\"color\": \"#E5ECF6\", \"width\": 0.5}}, \"type\": \"barpolar\"}], \"carpet\": [{\"aaxis\": {\"endlinecolor\": \"#2a3f5f\", \"gridcolor\": \"white\", \"linecolor\": \"white\", \"minorgridcolor\": \"white\", \"startlinecolor\": \"#2a3f5f\"}, \"baxis\": {\"endlinecolor\": \"#2a3f5f\", \"gridcolor\": \"white\", \"linecolor\": \"white\", \"minorgridcolor\": \"white\", \"startlinecolor\": \"#2a3f5f\"}, \"type\": \"carpet\"}], \"choropleth\": [{\"colorbar\": {\"outlinewidth\": 0, \"ticks\": \"\"}, \"type\": \"choropleth\"}], \"contour\": [{\"colorbar\": {\"outlinewidth\": 0, \"ticks\": \"\"}, \"colorscale\": [[0.0, \"#0d0887\"], [0.1111111111111111, \"#46039f\"], [0.2222222222222222, \"#7201a8\"], [0.3333333333333333, \"#9c179e\"], [0.4444444444444444, \"#bd3786\"], [0.5555555555555556, \"#d8576b\"], [0.6666666666666666, \"#ed7953\"], [0.7777777777777778, \"#fb9f3a\"], [0.8888888888888888, \"#fdca26\"], [1.0, \"#f0f921\"]], \"type\": \"contour\"}], \"contourcarpet\": [{\"colorbar\": {\"outlinewidth\": 0, \"ticks\": \"\"}, \"type\": \"contourcarpet\"}], \"heatmap\": [{\"colorbar\": {\"outlinewidth\": 0, \"ticks\": \"\"}, \"colorscale\": [[0.0, \"#0d0887\"], [0.1111111111111111, \"#46039f\"], [0.2222222222222222, \"#7201a8\"], [0.3333333333333333, \"#9c179e\"], [0.4444444444444444, \"#bd3786\"], [0.5555555555555556, \"#d8576b\"], [0.6666666666666666, \"#ed7953\"], [0.7777777777777778, \"#fb9f3a\"], [0.8888888888888888, \"#fdca26\"], [1.0, \"#f0f921\"]], \"type\": \"heatmap\"}], \"heatmapgl\": [{\"colorbar\": {\"outlinewidth\": 0, \"ticks\": \"\"}, \"colorscale\": [[0.0, \"#0d0887\"], [0.1111111111111111, \"#46039f\"], [0.2222222222222222, \"#7201a8\"], [0.3333333333333333, \"#9c179e\"], [0.4444444444444444, \"#bd3786\"], [0.5555555555555556, \"#d8576b\"], [0.6666666666666666, \"#ed7953\"], [0.7777777777777778, \"#fb9f3a\"], [0.8888888888888888, \"#fdca26\"], [1.0, \"#f0f921\"]], \"type\": \"heatmapgl\"}], \"histogram\": [{\"marker\": {\"colorbar\": {\"outlinewidth\": 0, \"ticks\": \"\"}}, \"type\": \"histogram\"}], \"histogram2d\": [{\"colorbar\": {\"outlinewidth\": 0, \"ticks\": \"\"}, \"colorscale\": [[0.0, \"#0d0887\"], [0.1111111111111111, \"#46039f\"], [0.2222222222222222, \"#7201a8\"], [0.3333333333333333, \"#9c179e\"], [0.4444444444444444, \"#bd3786\"], [0.5555555555555556, \"#d8576b\"], [0.6666666666666666, \"#ed7953\"], [0.7777777777777778, \"#fb9f3a\"], [0.8888888888888888, \"#fdca26\"], [1.0, \"#f0f921\"]], \"type\": \"histogram2d\"}], \"histogram2dcontour\": [{\"colorbar\": {\"outlinewidth\": 0, \"ticks\": \"\"}, \"colorscale\": [[0.0, \"#0d0887\"], [0.1111111111111111, \"#46039f\"], [0.2222222222222222, \"#7201a8\"], [0.3333333333333333, \"#9c179e\"], [0.4444444444444444, \"#bd3786\"], [0.5555555555555556, \"#d8576b\"], [0.6666666666666666, \"#ed7953\"], [0.7777777777777778, \"#fb9f3a\"], [0.8888888888888888, \"#fdca26\"], [1.0, \"#f0f921\"]], \"type\": \"histogram2dcontour\"}], \"mesh3d\": [{\"colorbar\": {\"outlinewidth\": 0, \"ticks\": \"\"}, \"type\": \"mesh3d\"}], \"parcoords\": [{\"line\": {\"colorbar\": {\"outlinewidth\": 0, \"ticks\": \"\"}}, \"type\": \"parcoords\"}], \"pie\": [{\"automargin\": true, \"type\": \"pie\"}], \"scatter\": [{\"marker\": {\"colorbar\": {\"outlinewidth\": 0, \"ticks\": \"\"}}, \"type\": \"scatter\"}], \"scatter3d\": [{\"line\": {\"colorbar\": {\"outlinewidth\": 0, \"ticks\": \"\"}}, \"marker\": {\"colorbar\": {\"outlinewidth\": 0, \"ticks\": \"\"}}, \"type\": \"scatter3d\"}], \"scattercarpet\": [{\"marker\": {\"colorbar\": {\"outlinewidth\": 0, \"ticks\": \"\"}}, \"type\": \"scattercarpet\"}], \"scattergeo\": [{\"marker\": {\"colorbar\": {\"outlinewidth\": 0, \"ticks\": \"\"}}, \"type\": \"scattergeo\"}], \"scattergl\": [{\"marker\": {\"colorbar\": {\"outlinewidth\": 0, \"ticks\": \"\"}}, \"type\": \"scattergl\"}], \"scattermapbox\": [{\"marker\": {\"colorbar\": {\"outlinewidth\": 0, \"ticks\": \"\"}}, \"type\": \"scattermapbox\"}], \"scatterpolar\": [{\"marker\": {\"colorbar\": {\"outlinewidth\": 0, \"ticks\": \"\"}}, \"type\": \"scatterpolar\"}], \"scatterpolargl\": [{\"marker\": {\"colorbar\": {\"outlinewidth\": 0, \"ticks\": \"\"}}, \"type\": \"scatterpolargl\"}], \"scatterternary\": [{\"marker\": {\"colorbar\": {\"outlinewidth\": 0, \"ticks\": \"\"}}, \"type\": \"scatterternary\"}], \"surface\": [{\"colorbar\": {\"outlinewidth\": 0, \"ticks\": \"\"}, \"colorscale\": [[0.0, \"#0d0887\"], [0.1111111111111111, \"#46039f\"], [0.2222222222222222, \"#7201a8\"], [0.3333333333333333, \"#9c179e\"], [0.4444444444444444, \"#bd3786\"], [0.5555555555555556, \"#d8576b\"], [0.6666666666666666, \"#ed7953\"], [0.7777777777777778, \"#fb9f3a\"], [0.8888888888888888, \"#fdca26\"], [1.0, \"#f0f921\"]], \"type\": \"surface\"}], \"table\": [{\"cells\": {\"fill\": {\"color\": \"#EBF0F8\"}, \"line\": {\"color\": \"white\"}}, \"header\": {\"fill\": {\"color\": \"#C8D4E3\"}, \"line\": {\"color\": \"white\"}}, \"type\": \"table\"}]}, \"layout\": {\"annotationdefaults\": {\"arrowcolor\": \"#2a3f5f\", \"arrowhead\": 0, \"arrowwidth\": 1}, \"coloraxis\": {\"colorbar\": {\"outlinewidth\": 0, \"ticks\": \"\"}}, \"colorscale\": {\"diverging\": [[0, \"#8e0152\"], [0.1, \"#c51b7d\"], [0.2, \"#de77ae\"], [0.3, \"#f1b6da\"], [0.4, \"#fde0ef\"], [0.5, \"#f7f7f7\"], [0.6, \"#e6f5d0\"], [0.7, \"#b8e186\"], [0.8, \"#7fbc41\"], [0.9, \"#4d9221\"], [1, \"#276419\"]], \"sequential\": [[0.0, \"#0d0887\"], [0.1111111111111111, \"#46039f\"], [0.2222222222222222, \"#7201a8\"], [0.3333333333333333, \"#9c179e\"], [0.4444444444444444, \"#bd3786\"], [0.5555555555555556, \"#d8576b\"], [0.6666666666666666, \"#ed7953\"], [0.7777777777777778, \"#fb9f3a\"], [0.8888888888888888, \"#fdca26\"], [1.0, \"#f0f921\"]], \"sequentialminus\": [[0.0, \"#0d0887\"], [0.1111111111111111, \"#46039f\"], [0.2222222222222222, \"#7201a8\"], [0.3333333333333333, \"#9c179e\"], [0.4444444444444444, \"#bd3786\"], [0.5555555555555556, \"#d8576b\"], [0.6666666666666666, \"#ed7953\"], [0.7777777777777778, \"#fb9f3a\"], [0.8888888888888888, \"#fdca26\"], [1.0, \"#f0f921\"]]}, \"colorway\": [\"#636efa\", \"#EF553B\", \"#00cc96\", \"#ab63fa\", \"#FFA15A\", \"#19d3f3\", \"#FF6692\", \"#B6E880\", \"#FF97FF\", \"#FECB52\"], \"font\": {\"color\": \"#2a3f5f\"}, \"geo\": {\"bgcolor\": \"white\", \"lakecolor\": \"white\", \"landcolor\": \"#E5ECF6\", \"showlakes\": true, \"showland\": true, \"subunitcolor\": \"white\"}, \"hoverlabel\": {\"align\": \"left\"}, \"hovermode\": \"closest\", \"mapbox\": {\"style\": \"light\"}, \"paper_bgcolor\": \"white\", \"plot_bgcolor\": \"#E5ECF6\", \"polar\": {\"angularaxis\": {\"gridcolor\": \"white\", \"linecolor\": \"white\", \"ticks\": \"\"}, \"bgcolor\": \"#E5ECF6\", \"radialaxis\": {\"gridcolor\": \"white\", \"linecolor\": \"white\", \"ticks\": \"\"}}, \"scene\": {\"xaxis\": {\"backgroundcolor\": \"#E5ECF6\", \"gridcolor\": \"white\", \"gridwidth\": 2, \"linecolor\": \"white\", \"showbackground\": true, \"ticks\": \"\", \"zerolinecolor\": \"white\"}, \"yaxis\": {\"backgroundcolor\": \"#E5ECF6\", \"gridcolor\": \"white\", \"gridwidth\": 2, \"linecolor\": \"white\", \"showbackground\": true, \"ticks\": \"\", \"zerolinecolor\": \"white\"}, \"zaxis\": {\"backgroundcolor\": \"#E5ECF6\", \"gridcolor\": \"white\", \"gridwidth\": 2, \"linecolor\": \"white\", \"showbackground\": true, \"ticks\": \"\", \"zerolinecolor\": \"white\"}}, \"shapedefaults\": {\"line\": {\"color\": \"#2a3f5f\"}}, \"ternary\": {\"aaxis\": {\"gridcolor\": \"white\", \"linecolor\": \"white\", \"ticks\": \"\"}, \"baxis\": {\"gridcolor\": \"white\", \"linecolor\": \"white\", \"ticks\": \"\"}, \"bgcolor\": \"#E5ECF6\", \"caxis\": {\"gridcolor\": \"white\", \"linecolor\": \"white\", \"ticks\": \"\"}}, \"title\": {\"x\": 0.05}, \"xaxis\": {\"automargin\": true, \"gridcolor\": \"white\", \"linecolor\": \"white\", \"ticks\": \"\", \"title\": {\"standoff\": 15}, \"zerolinecolor\": \"white\", \"zerolinewidth\": 2}, \"yaxis\": {\"automargin\": true, \"gridcolor\": \"white\", \"linecolor\": \"white\", \"ticks\": \"\", \"title\": {\"standoff\": 15}, \"zerolinecolor\": \"white\", \"zerolinewidth\": 2}}}, \"title\": {\"text\": \"COVID-19 deaths over time for 1 million inhabitants [aligned for comparison]\"}, \"xaxis\": {\"nticks\": 30, \"title\": {\"text\": \"Time (day) \\u2014 delayed for some countries\"}}, \"yaxis\": {\"title\": {\"text\": \"COVID-19 total deaths / nb of inhabitants (million)\"}}},\n",
       "                        {\"responsive\": true}\n",
       "                    ).then(function(){\n",
       "                            \n",
       "var gd = document.getElementById('e0d2d9b7-0625-4c1d-9c18-8342bbc2e09a');\n",
       "var x = new MutationObserver(function (mutations, observer) {{\n",
       "        var display = window.getComputedStyle(gd).display;\n",
       "        if (!display || display === 'none') {{\n",
       "            console.log([gd, 'removed!']);\n",
       "            Plotly.purge(gd);\n",
       "            observer.disconnect();\n",
       "        }}\n",
       "}});\n",
       "\n",
       "// Listen for the removal of the full notebook cells\n",
       "var notebookContainer = gd.closest('#notebook-container');\n",
       "if (notebookContainer) {{\n",
       "    x.observe(notebookContainer, {childList: true});\n",
       "}}\n",
       "\n",
       "// Listen for the clearing of the current output cell\n",
       "var outputEl = gd.closest('.output');\n",
       "if (outputEl) {{\n",
       "    x.observe(outputEl, {childList: true});\n",
       "}}\n",
       "\n",
       "                        })\n",
       "                };\n",
       "                });\n",
       "            </script>\n",
       "        </div>"
      ]
     },
     "metadata": {},
     "output_type": "display_data"
    },
    {
     "name": "stdout",
     "output_type": "stream",
     "text": [
      "> graph 5 exported\n"
     ]
    }
   ],
   "source": [
    "import plotly.graph_objects as go\n",
    "import plotly\n",
    "\n",
    "fig = go.Figure()\n",
    "\n",
    "last_d = 20\n",
    "upset_ch = 1\n",
    "i=0\n",
    "\n",
    "for c in countries:\n",
    "    \n",
    "    offset = countries[c]['offset_deaths']\n",
    "    offset2 = offset\n",
    "    if offset==0: offset2 = 1\n",
    "        \n",
    "    pop = countries[c]['pop']\n",
    "\n",
    "    fig.add_trace(go.Scatter(x = data_deaths['date'][-last_d-offset:], y=data_deaths[c][-last_d:]/pop,\n",
    "                    mode='markers',\n",
    "                    marker_color=colors[i],\n",
    "                    legendgroup=c,\n",
    "                    marker_symbol= 3*i,\n",
    "                    #marker_size=6,\n",
    "                    marker_line_color=colors[i],\n",
    "                    #marker_line_width=2,\n",
    "                    opacity=1,\n",
    "                    showlegend=True,\n",
    "                    name=''.format(\"\")))\n",
    "    \n",
    "    fig.add_trace(go.Scatter(x = data_deaths_rolling['date'][-last_d-offset:], y=data_deaths_rolling[c][-last_d:]/pop,\n",
    "                    mode='lines',\n",
    "                    marker_color=colors[i],\n",
    "                    legendgroup=c,\n",
    "                    showlegend=True,\n",
    "                    name='{} [delayed by {} days]'.format(c, -offset)))\n",
    "    i+=1\n",
    "    if i >= 10:\n",
    "        i=0\n",
    "    \n",
    "fig.update_layout(\n",
    "    title=\"COVID-19 deaths over time for 1 million inhabitants [aligned for comparison]\",\n",
    "    xaxis_title=\"Time (day) — delayed for some countries\",\n",
    "    yaxis_title=\"COVID-19 total deaths / nb of inhabitants (million)\",\n",
    "    annotations = [dict(xref='paper',\n",
    "        yref='paper',\n",
    "        x=0, y=1.1,\n",
    "        showarrow=False,\n",
    "        text ='Last update: {} ; Last data: {} ; Data: CSSE ; Author: @guillaumerozier'.format(today, str(data_confirmed['date'].values[-1])[:10] ))],\n",
    "    legend=dict(\n",
    "        #x=0,\n",
    "        #y=0,\n",
    "        traceorder=\"normal\",\n",
    "        font=dict(\n",
    "            family=\"sans-serif\",\n",
    "            #size=5,\n",
    "            color=\"black\"\n",
    "        ),\n",
    "        #itemsizing=1\n",
    "        #bgcolor=\"LightSteelBlue\",\n",
    "        #bordercolor=\"Black\",\n",
    "        #borderwidth=2\n",
    "    )\n",
    ")\n",
    "\n",
    "fig.update_xaxes(nticks = 30)\n",
    "\n",
    "print(\"> graph 5 built\")\n",
    "    \n",
    "if upload:\n",
    "    py.plot(fig, filename = 'deaths-aligned', auto_open=False)\n",
    "#plotly.offline.plot(fig, filename = 'deaths_aligned.html', auto_open=False)\n",
    "#py.iplot(fig, filename='covid_aligned.html')\n",
    "\n",
    "if show:\n",
    "    fig.show()\n",
    "\n",
    "if export:  \n",
    "    fig.write_image(\"images/deaths_per_1m_inhabitant_aligned.png\", scale=5, width=1100, height=700)\n",
    "    print(\"> graph 5 exported\")"
   ]
  },
  {
   "cell_type": "code",
   "execution_count": 175,
   "metadata": {},
   "outputs": [
    {
     "name": "stdout",
     "output_type": "stream",
     "text": [
      "> graph 5 built\n"
     ]
    },
    {
     "data": {
      "application/vnd.plotly.v1+json": {
       "config": {
        "plotlyServerURL": "https://plot.ly"
       },
       "data": [
        {
         "legendgroup": "France",
         "marker": {
          "color": "rgb(214, 39, 40)",
          "line": {
           "color": "rgb(214, 39, 40)"
          },
          "size": 9,
          "symbol": 0
         },
         "mode": "markers",
         "name": "",
         "opacity": 1,
         "showlegend": true,
         "type": "scatter",
         "x": [
          0,
          1,
          2
         ],
         "y": [
          3.626865671641791,
          6.7164179104477615,
          8.388059701492537
         ]
        },
        {
         "legendgroup": "France",
         "line": {
          "width": 2
         },
         "marker": {
          "color": "rgb(214, 39, 40)"
         },
         "mode": "lines",
         "name": "France [last 3 days]",
         "opacity": 1,
         "showlegend": true,
         "type": "scatter",
         "x": [
          0,
          1,
          2
         ],
         "y": [
          3.626865671641791,
          6.7164179104477615,
          8.388059701492537
         ]
        },
        {
         "legendgroup": "Italy",
         "marker": {
          "color": "rgb(127, 127, 127)",
          "line": {
           "color": "rgb(127, 127, 127)"
          },
          "size": 9,
          "symbol": 3
         },
         "mode": "markers",
         "name": "",
         "opacity": 1,
         "showlegend": true,
         "type": "scatter",
         "x": [
          0,
          1,
          2,
          3,
          4,
          5,
          6,
          7,
          8,
          9,
          10,
          11,
          12,
          13,
          14,
          15
         ],
         "y": [
          3.283333333333333,
          3.8833333333333333,
          6.1,
          7.716666666666667,
          10.516666666666667,
          13.783333333333333,
          13.783333333333333,
          21.1,
          24.016666666666666,
          30.15,
          35.96666666666667,
          41.71666666666667,
          49.63333333333333,
          56.75,
          67.2,
          80.41666666666667
         ]
        },
        {
         "legendgroup": "Italy",
         "line": {
          "width": 2
         },
         "marker": {
          "color": "rgb(127, 127, 127)"
         },
         "mode": "lines",
         "name": "Italy [last 16 days]",
         "opacity": 1,
         "showlegend": true,
         "type": "scatter",
         "x": [
          0,
          1,
          2,
          3,
          4,
          5,
          6,
          7,
          8,
          9,
          10,
          11,
          12,
          13,
          14,
          15
         ],
         "y": [
          3.283333333333333,
          3.8833333333333333,
          6.1,
          7.716666666666667,
          10.516666666666667,
          13.783333333333333,
          13.783333333333333,
          21.1,
          24.016666666666666,
          30.15,
          35.96666666666667,
          41.71666666666667,
          49.63333333333333,
          56.75,
          67.2,
          80.41666666666667
         ]
        },
        {
         "legendgroup": "United Kingdom",
         "marker": {
          "color": "rgb(188, 189, 34)",
          "line": {
           "color": "rgb(188, 189, 34)"
          },
          "size": 9,
          "symbol": 6
         },
         "mode": "markers",
         "name": "",
         "opacity": 1,
         "showlegend": true,
         "type": "scatter",
         "x": [
          0
         ],
         "y": [
          3.5454545454545454
         ]
        },
        {
         "legendgroup": "United Kingdom",
         "line": {
          "width": 2
         },
         "marker": {
          "color": "rgb(188, 189, 34)"
         },
         "mode": "lines",
         "name": "United Kingdom [last 1 days]",
         "opacity": 1,
         "showlegend": true,
         "type": "scatter",
         "x": [
          0
         ],
         "y": [
          3.5454545454545454
         ]
        },
        {
         "legendgroup": "Spain",
         "marker": {
          "color": "rgb(148, 103, 189)",
          "line": {
           "color": "rgb(148, 103, 189)"
          },
          "size": 9,
          "symbol": 9
         },
         "mode": "markers",
         "name": "",
         "opacity": 1,
         "showlegend": true,
         "type": "scatter",
         "x": [
          0,
          1,
          2,
          3,
          4,
          5,
          6,
          7
         ],
         "y": [
          4.148936170212766,
          6.148936170212766,
          7.276595744680851,
          11.340425531914894,
          13.25531914893617,
          17.659574468085108,
          22.19148936170213,
          29.25531914893617
         ]
        },
        {
         "legendgroup": "Spain",
         "line": {
          "width": 2
         },
         "marker": {
          "color": "rgb(148, 103, 189)"
         },
         "mode": "lines",
         "name": "Spain [last 8 days]",
         "opacity": 1,
         "showlegend": true,
         "type": "scatter",
         "x": [
          0,
          1,
          2,
          3,
          4,
          5,
          6,
          7
         ],
         "y": [
          4.148936170212766,
          6.148936170212766,
          7.276595744680851,
          11.340425531914894,
          13.25531914893617,
          17.659574468085108,
          22.19148936170213,
          29.25531914893617
         ]
        },
        {
         "legendgroup": "Belgium",
         "marker": {
          "color": "rgb(227, 119, 194)",
          "line": {
           "color": "rgb(227, 119, 194)"
          },
          "size": 9,
          "symbol": 15
         },
         "mode": "markers",
         "name": "",
         "opacity": 1,
         "showlegend": true,
         "type": "scatter",
         "x": [
          0,
          1
         ],
         "y": [
          3.3636363636363638,
          6.090909090909091
         ]
        },
        {
         "legendgroup": "Belgium",
         "line": {
          "width": 2
         },
         "marker": {
          "color": "rgb(227, 119, 194)"
         },
         "mode": "lines",
         "name": "Belgium [last 2 days]",
         "opacity": 1,
         "showlegend": true,
         "type": "scatter",
         "x": [
          0,
          1
         ],
         "y": [
          3.3636363636363638,
          6.090909090909091
         ]
        },
        {
         "legendgroup": "Luxembourg",
         "marker": {
          "color": "rgb(23, 190, 207)",
          "line": {
           "color": "rgb(23, 190, 207)"
          },
          "size": 9,
          "symbol": 18
         },
         "mode": "markers",
         "name": "",
         "opacity": 1,
         "showlegend": true,
         "type": "scatter",
         "x": [
          0,
          1,
          2
         ],
         "y": [
          4,
          4,
          8
         ]
        },
        {
         "legendgroup": "Luxembourg",
         "line": {
          "width": 2
         },
         "marker": {
          "color": "rgb(23, 190, 207)"
         },
         "mode": "lines",
         "name": "Luxembourg [last 3 days]",
         "opacity": 1,
         "showlegend": true,
         "type": "scatter",
         "x": [
          0,
          1,
          2
         ],
         "y": [
          4,
          4,
          8
         ]
        },
        {
         "legendgroup": "Switzerland",
         "marker": {
          "color": "rgb(140, 86, 75)",
          "line": {
           "color": "rgb(140, 86, 75)"
          },
          "size": 9,
          "symbol": 27
         },
         "mode": "markers",
         "name": "",
         "opacity": 1,
         "showlegend": true,
         "type": "scatter",
         "x": [
          0,
          1,
          2,
          3,
          4
         ],
         "y": [
          3,
          3.111111111111111,
          4.555555555555555,
          6,
          8.333333333333334
         ]
        },
        {
         "legendgroup": "Switzerland",
         "line": {
          "width": 2
         },
         "marker": {
          "color": "rgb(140, 86, 75)"
         },
         "mode": "lines",
         "name": "Switzerland [last 5 days]",
         "opacity": 1,
         "showlegend": true,
         "type": "scatter",
         "x": [
          0,
          1,
          2,
          3,
          4
         ],
         "y": [
          3,
          3.111111111111111,
          4.555555555555555,
          6,
          8.333333333333334
         ]
        }
       ],
       "layout": {
        "annotations": [
         {
          "showarrow": false,
          "text": "Last update: 2020-03-22 08:53 ; Last data: 2020-03-21 ; Data: CSSE ; Author: @guillaumerozier",
          "x": 0,
          "xref": "paper",
          "y": 1.1,
          "yref": "paper"
         }
        ],
        "template": {
         "data": {
          "bar": [
           {
            "error_x": {
             "color": "#2a3f5f"
            },
            "error_y": {
             "color": "#2a3f5f"
            },
            "marker": {
             "line": {
              "color": "#E5ECF6",
              "width": 0.5
             }
            },
            "type": "bar"
           }
          ],
          "barpolar": [
           {
            "marker": {
             "line": {
              "color": "#E5ECF6",
              "width": 0.5
             }
            },
            "type": "barpolar"
           }
          ],
          "carpet": [
           {
            "aaxis": {
             "endlinecolor": "#2a3f5f",
             "gridcolor": "white",
             "linecolor": "white",
             "minorgridcolor": "white",
             "startlinecolor": "#2a3f5f"
            },
            "baxis": {
             "endlinecolor": "#2a3f5f",
             "gridcolor": "white",
             "linecolor": "white",
             "minorgridcolor": "white",
             "startlinecolor": "#2a3f5f"
            },
            "type": "carpet"
           }
          ],
          "choropleth": [
           {
            "colorbar": {
             "outlinewidth": 0,
             "ticks": ""
            },
            "type": "choropleth"
           }
          ],
          "contour": [
           {
            "colorbar": {
             "outlinewidth": 0,
             "ticks": ""
            },
            "colorscale": [
             [
              0,
              "#0d0887"
             ],
             [
              0.1111111111111111,
              "#46039f"
             ],
             [
              0.2222222222222222,
              "#7201a8"
             ],
             [
              0.3333333333333333,
              "#9c179e"
             ],
             [
              0.4444444444444444,
              "#bd3786"
             ],
             [
              0.5555555555555556,
              "#d8576b"
             ],
             [
              0.6666666666666666,
              "#ed7953"
             ],
             [
              0.7777777777777778,
              "#fb9f3a"
             ],
             [
              0.8888888888888888,
              "#fdca26"
             ],
             [
              1,
              "#f0f921"
             ]
            ],
            "type": "contour"
           }
          ],
          "contourcarpet": [
           {
            "colorbar": {
             "outlinewidth": 0,
             "ticks": ""
            },
            "type": "contourcarpet"
           }
          ],
          "heatmap": [
           {
            "colorbar": {
             "outlinewidth": 0,
             "ticks": ""
            },
            "colorscale": [
             [
              0,
              "#0d0887"
             ],
             [
              0.1111111111111111,
              "#46039f"
             ],
             [
              0.2222222222222222,
              "#7201a8"
             ],
             [
              0.3333333333333333,
              "#9c179e"
             ],
             [
              0.4444444444444444,
              "#bd3786"
             ],
             [
              0.5555555555555556,
              "#d8576b"
             ],
             [
              0.6666666666666666,
              "#ed7953"
             ],
             [
              0.7777777777777778,
              "#fb9f3a"
             ],
             [
              0.8888888888888888,
              "#fdca26"
             ],
             [
              1,
              "#f0f921"
             ]
            ],
            "type": "heatmap"
           }
          ],
          "heatmapgl": [
           {
            "colorbar": {
             "outlinewidth": 0,
             "ticks": ""
            },
            "colorscale": [
             [
              0,
              "#0d0887"
             ],
             [
              0.1111111111111111,
              "#46039f"
             ],
             [
              0.2222222222222222,
              "#7201a8"
             ],
             [
              0.3333333333333333,
              "#9c179e"
             ],
             [
              0.4444444444444444,
              "#bd3786"
             ],
             [
              0.5555555555555556,
              "#d8576b"
             ],
             [
              0.6666666666666666,
              "#ed7953"
             ],
             [
              0.7777777777777778,
              "#fb9f3a"
             ],
             [
              0.8888888888888888,
              "#fdca26"
             ],
             [
              1,
              "#f0f921"
             ]
            ],
            "type": "heatmapgl"
           }
          ],
          "histogram": [
           {
            "marker": {
             "colorbar": {
              "outlinewidth": 0,
              "ticks": ""
             }
            },
            "type": "histogram"
           }
          ],
          "histogram2d": [
           {
            "colorbar": {
             "outlinewidth": 0,
             "ticks": ""
            },
            "colorscale": [
             [
              0,
              "#0d0887"
             ],
             [
              0.1111111111111111,
              "#46039f"
             ],
             [
              0.2222222222222222,
              "#7201a8"
             ],
             [
              0.3333333333333333,
              "#9c179e"
             ],
             [
              0.4444444444444444,
              "#bd3786"
             ],
             [
              0.5555555555555556,
              "#d8576b"
             ],
             [
              0.6666666666666666,
              "#ed7953"
             ],
             [
              0.7777777777777778,
              "#fb9f3a"
             ],
             [
              0.8888888888888888,
              "#fdca26"
             ],
             [
              1,
              "#f0f921"
             ]
            ],
            "type": "histogram2d"
           }
          ],
          "histogram2dcontour": [
           {
            "colorbar": {
             "outlinewidth": 0,
             "ticks": ""
            },
            "colorscale": [
             [
              0,
              "#0d0887"
             ],
             [
              0.1111111111111111,
              "#46039f"
             ],
             [
              0.2222222222222222,
              "#7201a8"
             ],
             [
              0.3333333333333333,
              "#9c179e"
             ],
             [
              0.4444444444444444,
              "#bd3786"
             ],
             [
              0.5555555555555556,
              "#d8576b"
             ],
             [
              0.6666666666666666,
              "#ed7953"
             ],
             [
              0.7777777777777778,
              "#fb9f3a"
             ],
             [
              0.8888888888888888,
              "#fdca26"
             ],
             [
              1,
              "#f0f921"
             ]
            ],
            "type": "histogram2dcontour"
           }
          ],
          "mesh3d": [
           {
            "colorbar": {
             "outlinewidth": 0,
             "ticks": ""
            },
            "type": "mesh3d"
           }
          ],
          "parcoords": [
           {
            "line": {
             "colorbar": {
              "outlinewidth": 0,
              "ticks": ""
             }
            },
            "type": "parcoords"
           }
          ],
          "pie": [
           {
            "automargin": true,
            "type": "pie"
           }
          ],
          "scatter": [
           {
            "marker": {
             "colorbar": {
              "outlinewidth": 0,
              "ticks": ""
             }
            },
            "type": "scatter"
           }
          ],
          "scatter3d": [
           {
            "line": {
             "colorbar": {
              "outlinewidth": 0,
              "ticks": ""
             }
            },
            "marker": {
             "colorbar": {
              "outlinewidth": 0,
              "ticks": ""
             }
            },
            "type": "scatter3d"
           }
          ],
          "scattercarpet": [
           {
            "marker": {
             "colorbar": {
              "outlinewidth": 0,
              "ticks": ""
             }
            },
            "type": "scattercarpet"
           }
          ],
          "scattergeo": [
           {
            "marker": {
             "colorbar": {
              "outlinewidth": 0,
              "ticks": ""
             }
            },
            "type": "scattergeo"
           }
          ],
          "scattergl": [
           {
            "marker": {
             "colorbar": {
              "outlinewidth": 0,
              "ticks": ""
             }
            },
            "type": "scattergl"
           }
          ],
          "scattermapbox": [
           {
            "marker": {
             "colorbar": {
              "outlinewidth": 0,
              "ticks": ""
             }
            },
            "type": "scattermapbox"
           }
          ],
          "scatterpolar": [
           {
            "marker": {
             "colorbar": {
              "outlinewidth": 0,
              "ticks": ""
             }
            },
            "type": "scatterpolar"
           }
          ],
          "scatterpolargl": [
           {
            "marker": {
             "colorbar": {
              "outlinewidth": 0,
              "ticks": ""
             }
            },
            "type": "scatterpolargl"
           }
          ],
          "scatterternary": [
           {
            "marker": {
             "colorbar": {
              "outlinewidth": 0,
              "ticks": ""
             }
            },
            "type": "scatterternary"
           }
          ],
          "surface": [
           {
            "colorbar": {
             "outlinewidth": 0,
             "ticks": ""
            },
            "colorscale": [
             [
              0,
              "#0d0887"
             ],
             [
              0.1111111111111111,
              "#46039f"
             ],
             [
              0.2222222222222222,
              "#7201a8"
             ],
             [
              0.3333333333333333,
              "#9c179e"
             ],
             [
              0.4444444444444444,
              "#bd3786"
             ],
             [
              0.5555555555555556,
              "#d8576b"
             ],
             [
              0.6666666666666666,
              "#ed7953"
             ],
             [
              0.7777777777777778,
              "#fb9f3a"
             ],
             [
              0.8888888888888888,
              "#fdca26"
             ],
             [
              1,
              "#f0f921"
             ]
            ],
            "type": "surface"
           }
          ],
          "table": [
           {
            "cells": {
             "fill": {
              "color": "#EBF0F8"
             },
             "line": {
              "color": "white"
             }
            },
            "header": {
             "fill": {
              "color": "#C8D4E3"
             },
             "line": {
              "color": "white"
             }
            },
            "type": "table"
           }
          ]
         },
         "layout": {
          "annotationdefaults": {
           "arrowcolor": "#2a3f5f",
           "arrowhead": 0,
           "arrowwidth": 1
          },
          "coloraxis": {
           "colorbar": {
            "outlinewidth": 0,
            "ticks": ""
           }
          },
          "colorscale": {
           "diverging": [
            [
             0,
             "#8e0152"
            ],
            [
             0.1,
             "#c51b7d"
            ],
            [
             0.2,
             "#de77ae"
            ],
            [
             0.3,
             "#f1b6da"
            ],
            [
             0.4,
             "#fde0ef"
            ],
            [
             0.5,
             "#f7f7f7"
            ],
            [
             0.6,
             "#e6f5d0"
            ],
            [
             0.7,
             "#b8e186"
            ],
            [
             0.8,
             "#7fbc41"
            ],
            [
             0.9,
             "#4d9221"
            ],
            [
             1,
             "#276419"
            ]
           ],
           "sequential": [
            [
             0,
             "#0d0887"
            ],
            [
             0.1111111111111111,
             "#46039f"
            ],
            [
             0.2222222222222222,
             "#7201a8"
            ],
            [
             0.3333333333333333,
             "#9c179e"
            ],
            [
             0.4444444444444444,
             "#bd3786"
            ],
            [
             0.5555555555555556,
             "#d8576b"
            ],
            [
             0.6666666666666666,
             "#ed7953"
            ],
            [
             0.7777777777777778,
             "#fb9f3a"
            ],
            [
             0.8888888888888888,
             "#fdca26"
            ],
            [
             1,
             "#f0f921"
            ]
           ],
           "sequentialminus": [
            [
             0,
             "#0d0887"
            ],
            [
             0.1111111111111111,
             "#46039f"
            ],
            [
             0.2222222222222222,
             "#7201a8"
            ],
            [
             0.3333333333333333,
             "#9c179e"
            ],
            [
             0.4444444444444444,
             "#bd3786"
            ],
            [
             0.5555555555555556,
             "#d8576b"
            ],
            [
             0.6666666666666666,
             "#ed7953"
            ],
            [
             0.7777777777777778,
             "#fb9f3a"
            ],
            [
             0.8888888888888888,
             "#fdca26"
            ],
            [
             1,
             "#f0f921"
            ]
           ]
          },
          "colorway": [
           "#636efa",
           "#EF553B",
           "#00cc96",
           "#ab63fa",
           "#FFA15A",
           "#19d3f3",
           "#FF6692",
           "#B6E880",
           "#FF97FF",
           "#FECB52"
          ],
          "font": {
           "color": "#2a3f5f"
          },
          "geo": {
           "bgcolor": "white",
           "lakecolor": "white",
           "landcolor": "#E5ECF6",
           "showlakes": true,
           "showland": true,
           "subunitcolor": "white"
          },
          "hoverlabel": {
           "align": "left"
          },
          "hovermode": "closest",
          "mapbox": {
           "style": "light"
          },
          "paper_bgcolor": "white",
          "plot_bgcolor": "#E5ECF6",
          "polar": {
           "angularaxis": {
            "gridcolor": "white",
            "linecolor": "white",
            "ticks": ""
           },
           "bgcolor": "#E5ECF6",
           "radialaxis": {
            "gridcolor": "white",
            "linecolor": "white",
            "ticks": ""
           }
          },
          "scene": {
           "xaxis": {
            "backgroundcolor": "#E5ECF6",
            "gridcolor": "white",
            "gridwidth": 2,
            "linecolor": "white",
            "showbackground": true,
            "ticks": "",
            "zerolinecolor": "white"
           },
           "yaxis": {
            "backgroundcolor": "#E5ECF6",
            "gridcolor": "white",
            "gridwidth": 2,
            "linecolor": "white",
            "showbackground": true,
            "ticks": "",
            "zerolinecolor": "white"
           },
           "zaxis": {
            "backgroundcolor": "#E5ECF6",
            "gridcolor": "white",
            "gridwidth": 2,
            "linecolor": "white",
            "showbackground": true,
            "ticks": "",
            "zerolinecolor": "white"
           }
          },
          "shapedefaults": {
           "line": {
            "color": "#2a3f5f"
           }
          },
          "ternary": {
           "aaxis": {
            "gridcolor": "white",
            "linecolor": "white",
            "ticks": ""
           },
           "baxis": {
            "gridcolor": "white",
            "linecolor": "white",
            "ticks": ""
           },
           "bgcolor": "#E5ECF6",
           "caxis": {
            "gridcolor": "white",
            "linecolor": "white",
            "ticks": ""
           }
          },
          "title": {
           "x": 0.05
          },
          "xaxis": {
           "automargin": true,
           "gridcolor": "white",
           "linecolor": "white",
           "ticks": "",
           "title": {
            "standoff": 15
           },
           "zerolinecolor": "white",
           "zerolinewidth": 2
          },
          "yaxis": {
           "automargin": true,
           "gridcolor": "white",
           "linecolor": "white",
           "ticks": "",
           "title": {
            "standoff": 15
           },
           "zerolinecolor": "white",
           "zerolinewidth": 2
          }
         }
        },
        "title": {
         "text": "COVID-19 deaths over time for 1 million inhabitants [since 3 deaths/mill. inhab.]"
        },
        "xaxis": {
         "nticks": 30,
         "title": {
          "text": "Time (day)"
         }
        },
        "yaxis": {
         "title": {
          "text": "COVID-19 total deaths / nb of inhabitants (million)"
         }
        }
       }
      },
      "text/html": [
       "<div>\n",
       "        \n",
       "        \n",
       "            <div id=\"de77d730-2822-4e01-bd03-5de7b2d1de8b\" class=\"plotly-graph-div\" style=\"height:525px; width:100%;\"></div>\n",
       "            <script type=\"text/javascript\">\n",
       "                require([\"plotly\"], function(Plotly) {\n",
       "                    window.PLOTLYENV=window.PLOTLYENV || {};\n",
       "                    \n",
       "                if (document.getElementById(\"de77d730-2822-4e01-bd03-5de7b2d1de8b\")) {\n",
       "                    Plotly.newPlot(\n",
       "                        'de77d730-2822-4e01-bd03-5de7b2d1de8b',\n",
       "                        [{\"legendgroup\": \"France\", \"marker\": {\"color\": \"rgb(214, 39, 40)\", \"line\": {\"color\": \"rgb(214, 39, 40)\"}, \"size\": 9, \"symbol\": 0}, \"mode\": \"markers\", \"name\": \"\", \"opacity\": 1, \"showlegend\": true, \"type\": \"scatter\", \"x\": [0, 1, 2], \"y\": [3.626865671641791, 6.7164179104477615, 8.388059701492537]}, {\"legendgroup\": \"France\", \"line\": {\"width\": 2}, \"marker\": {\"color\": \"rgb(214, 39, 40)\"}, \"mode\": \"lines\", \"name\": \"France [last 3 days]\", \"opacity\": 1, \"showlegend\": true, \"type\": \"scatter\", \"x\": [0, 1, 2], \"y\": [3.626865671641791, 6.7164179104477615, 8.388059701492537]}, {\"legendgroup\": \"Italy\", \"marker\": {\"color\": \"rgb(127, 127, 127)\", \"line\": {\"color\": \"rgb(127, 127, 127)\"}, \"size\": 9, \"symbol\": 3}, \"mode\": \"markers\", \"name\": \"\", \"opacity\": 1, \"showlegend\": true, \"type\": \"scatter\", \"x\": [0, 1, 2, 3, 4, 5, 6, 7, 8, 9, 10, 11, 12, 13, 14, 15], \"y\": [3.283333333333333, 3.8833333333333333, 6.1, 7.716666666666667, 10.516666666666667, 13.783333333333333, 13.783333333333333, 21.1, 24.016666666666666, 30.15, 35.96666666666667, 41.71666666666667, 49.63333333333333, 56.75, 67.2, 80.41666666666667]}, {\"legendgroup\": \"Italy\", \"line\": {\"width\": 2}, \"marker\": {\"color\": \"rgb(127, 127, 127)\"}, \"mode\": \"lines\", \"name\": \"Italy [last 16 days]\", \"opacity\": 1, \"showlegend\": true, \"type\": \"scatter\", \"x\": [0, 1, 2, 3, 4, 5, 6, 7, 8, 9, 10, 11, 12, 13, 14, 15], \"y\": [3.283333333333333, 3.8833333333333333, 6.1, 7.716666666666667, 10.516666666666667, 13.783333333333333, 13.783333333333333, 21.1, 24.016666666666666, 30.15, 35.96666666666667, 41.71666666666667, 49.63333333333333, 56.75, 67.2, 80.41666666666667]}, {\"legendgroup\": \"United Kingdom\", \"marker\": {\"color\": \"rgb(188, 189, 34)\", \"line\": {\"color\": \"rgb(188, 189, 34)\"}, \"size\": 9, \"symbol\": 6}, \"mode\": \"markers\", \"name\": \"\", \"opacity\": 1, \"showlegend\": true, \"type\": \"scatter\", \"x\": [0], \"y\": [3.5454545454545454]}, {\"legendgroup\": \"United Kingdom\", \"line\": {\"width\": 2}, \"marker\": {\"color\": \"rgb(188, 189, 34)\"}, \"mode\": \"lines\", \"name\": \"United Kingdom [last 1 days]\", \"opacity\": 1, \"showlegend\": true, \"type\": \"scatter\", \"x\": [0], \"y\": [3.5454545454545454]}, {\"legendgroup\": \"Spain\", \"marker\": {\"color\": \"rgb(148, 103, 189)\", \"line\": {\"color\": \"rgb(148, 103, 189)\"}, \"size\": 9, \"symbol\": 9}, \"mode\": \"markers\", \"name\": \"\", \"opacity\": 1, \"showlegend\": true, \"type\": \"scatter\", \"x\": [0, 1, 2, 3, 4, 5, 6, 7], \"y\": [4.148936170212766, 6.148936170212766, 7.276595744680851, 11.340425531914894, 13.25531914893617, 17.659574468085108, 22.19148936170213, 29.25531914893617]}, {\"legendgroup\": \"Spain\", \"line\": {\"width\": 2}, \"marker\": {\"color\": \"rgb(148, 103, 189)\"}, \"mode\": \"lines\", \"name\": \"Spain [last 8 days]\", \"opacity\": 1, \"showlegend\": true, \"type\": \"scatter\", \"x\": [0, 1, 2, 3, 4, 5, 6, 7], \"y\": [4.148936170212766, 6.148936170212766, 7.276595744680851, 11.340425531914894, 13.25531914893617, 17.659574468085108, 22.19148936170213, 29.25531914893617]}, {\"legendgroup\": \"Belgium\", \"marker\": {\"color\": \"rgb(227, 119, 194)\", \"line\": {\"color\": \"rgb(227, 119, 194)\"}, \"size\": 9, \"symbol\": 15}, \"mode\": \"markers\", \"name\": \"\", \"opacity\": 1, \"showlegend\": true, \"type\": \"scatter\", \"x\": [0, 1], \"y\": [3.3636363636363638, 6.090909090909091]}, {\"legendgroup\": \"Belgium\", \"line\": {\"width\": 2}, \"marker\": {\"color\": \"rgb(227, 119, 194)\"}, \"mode\": \"lines\", \"name\": \"Belgium [last 2 days]\", \"opacity\": 1, \"showlegend\": true, \"type\": \"scatter\", \"x\": [0, 1], \"y\": [3.3636363636363638, 6.090909090909091]}, {\"legendgroup\": \"Luxembourg\", \"marker\": {\"color\": \"rgb(23, 190, 207)\", \"line\": {\"color\": \"rgb(23, 190, 207)\"}, \"size\": 9, \"symbol\": 18}, \"mode\": \"markers\", \"name\": \"\", \"opacity\": 1, \"showlegend\": true, \"type\": \"scatter\", \"x\": [0, 1, 2], \"y\": [4.0, 4.0, 8.0]}, {\"legendgroup\": \"Luxembourg\", \"line\": {\"width\": 2}, \"marker\": {\"color\": \"rgb(23, 190, 207)\"}, \"mode\": \"lines\", \"name\": \"Luxembourg [last 3 days]\", \"opacity\": 1, \"showlegend\": true, \"type\": \"scatter\", \"x\": [0, 1, 2], \"y\": [4.0, 4.0, 8.0]}, {\"legendgroup\": \"Switzerland\", \"marker\": {\"color\": \"rgb(140, 86, 75)\", \"line\": {\"color\": \"rgb(140, 86, 75)\"}, \"size\": 9, \"symbol\": 27}, \"mode\": \"markers\", \"name\": \"\", \"opacity\": 1, \"showlegend\": true, \"type\": \"scatter\", \"x\": [0, 1, 2, 3, 4], \"y\": [3.0, 3.111111111111111, 4.555555555555555, 6.0, 8.333333333333334]}, {\"legendgroup\": \"Switzerland\", \"line\": {\"width\": 2}, \"marker\": {\"color\": \"rgb(140, 86, 75)\"}, \"mode\": \"lines\", \"name\": \"Switzerland [last 5 days]\", \"opacity\": 1, \"showlegend\": true, \"type\": \"scatter\", \"x\": [0, 1, 2, 3, 4], \"y\": [3.0, 3.111111111111111, 4.555555555555555, 6.0, 8.333333333333334]}],\n",
       "                        {\"annotations\": [{\"showarrow\": false, \"text\": \"Last update: 2020-03-22 08:53 ; Last data: 2020-03-21 ; Data: CSSE ; Author: @guillaumerozier\", \"x\": 0, \"xref\": \"paper\", \"y\": 1.1, \"yref\": \"paper\"}], \"template\": {\"data\": {\"bar\": [{\"error_x\": {\"color\": \"#2a3f5f\"}, \"error_y\": {\"color\": \"#2a3f5f\"}, \"marker\": {\"line\": {\"color\": \"#E5ECF6\", \"width\": 0.5}}, \"type\": \"bar\"}], \"barpolar\": [{\"marker\": {\"line\": {\"color\": \"#E5ECF6\", \"width\": 0.5}}, \"type\": \"barpolar\"}], \"carpet\": [{\"aaxis\": {\"endlinecolor\": \"#2a3f5f\", \"gridcolor\": \"white\", \"linecolor\": \"white\", \"minorgridcolor\": \"white\", \"startlinecolor\": \"#2a3f5f\"}, \"baxis\": {\"endlinecolor\": \"#2a3f5f\", \"gridcolor\": \"white\", \"linecolor\": \"white\", \"minorgridcolor\": \"white\", \"startlinecolor\": \"#2a3f5f\"}, \"type\": \"carpet\"}], \"choropleth\": [{\"colorbar\": {\"outlinewidth\": 0, \"ticks\": \"\"}, \"type\": \"choropleth\"}], \"contour\": [{\"colorbar\": {\"outlinewidth\": 0, \"ticks\": \"\"}, \"colorscale\": [[0.0, \"#0d0887\"], [0.1111111111111111, \"#46039f\"], [0.2222222222222222, \"#7201a8\"], [0.3333333333333333, \"#9c179e\"], [0.4444444444444444, \"#bd3786\"], [0.5555555555555556, \"#d8576b\"], [0.6666666666666666, \"#ed7953\"], [0.7777777777777778, \"#fb9f3a\"], [0.8888888888888888, \"#fdca26\"], [1.0, \"#f0f921\"]], \"type\": \"contour\"}], \"contourcarpet\": [{\"colorbar\": {\"outlinewidth\": 0, \"ticks\": \"\"}, \"type\": \"contourcarpet\"}], \"heatmap\": [{\"colorbar\": {\"outlinewidth\": 0, \"ticks\": \"\"}, \"colorscale\": [[0.0, \"#0d0887\"], [0.1111111111111111, \"#46039f\"], [0.2222222222222222, \"#7201a8\"], [0.3333333333333333, \"#9c179e\"], [0.4444444444444444, \"#bd3786\"], [0.5555555555555556, \"#d8576b\"], [0.6666666666666666, \"#ed7953\"], [0.7777777777777778, \"#fb9f3a\"], [0.8888888888888888, \"#fdca26\"], [1.0, \"#f0f921\"]], \"type\": \"heatmap\"}], \"heatmapgl\": [{\"colorbar\": {\"outlinewidth\": 0, \"ticks\": \"\"}, \"colorscale\": [[0.0, \"#0d0887\"], [0.1111111111111111, \"#46039f\"], [0.2222222222222222, \"#7201a8\"], [0.3333333333333333, \"#9c179e\"], [0.4444444444444444, \"#bd3786\"], [0.5555555555555556, \"#d8576b\"], [0.6666666666666666, \"#ed7953\"], [0.7777777777777778, \"#fb9f3a\"], [0.8888888888888888, \"#fdca26\"], [1.0, \"#f0f921\"]], \"type\": \"heatmapgl\"}], \"histogram\": [{\"marker\": {\"colorbar\": {\"outlinewidth\": 0, \"ticks\": \"\"}}, \"type\": \"histogram\"}], \"histogram2d\": [{\"colorbar\": {\"outlinewidth\": 0, \"ticks\": \"\"}, \"colorscale\": [[0.0, \"#0d0887\"], [0.1111111111111111, \"#46039f\"], [0.2222222222222222, \"#7201a8\"], [0.3333333333333333, \"#9c179e\"], [0.4444444444444444, \"#bd3786\"], [0.5555555555555556, \"#d8576b\"], [0.6666666666666666, \"#ed7953\"], [0.7777777777777778, \"#fb9f3a\"], [0.8888888888888888, \"#fdca26\"], [1.0, \"#f0f921\"]], \"type\": \"histogram2d\"}], \"histogram2dcontour\": [{\"colorbar\": {\"outlinewidth\": 0, \"ticks\": \"\"}, \"colorscale\": [[0.0, \"#0d0887\"], [0.1111111111111111, \"#46039f\"], [0.2222222222222222, \"#7201a8\"], [0.3333333333333333, \"#9c179e\"], [0.4444444444444444, \"#bd3786\"], [0.5555555555555556, \"#d8576b\"], [0.6666666666666666, \"#ed7953\"], [0.7777777777777778, \"#fb9f3a\"], [0.8888888888888888, \"#fdca26\"], [1.0, \"#f0f921\"]], \"type\": \"histogram2dcontour\"}], \"mesh3d\": [{\"colorbar\": {\"outlinewidth\": 0, \"ticks\": \"\"}, \"type\": \"mesh3d\"}], \"parcoords\": [{\"line\": {\"colorbar\": {\"outlinewidth\": 0, \"ticks\": \"\"}}, \"type\": \"parcoords\"}], \"pie\": [{\"automargin\": true, \"type\": \"pie\"}], \"scatter\": [{\"marker\": {\"colorbar\": {\"outlinewidth\": 0, \"ticks\": \"\"}}, \"type\": \"scatter\"}], \"scatter3d\": [{\"line\": {\"colorbar\": {\"outlinewidth\": 0, \"ticks\": \"\"}}, \"marker\": {\"colorbar\": {\"outlinewidth\": 0, \"ticks\": \"\"}}, \"type\": \"scatter3d\"}], \"scattercarpet\": [{\"marker\": {\"colorbar\": {\"outlinewidth\": 0, \"ticks\": \"\"}}, \"type\": \"scattercarpet\"}], \"scattergeo\": [{\"marker\": {\"colorbar\": {\"outlinewidth\": 0, \"ticks\": \"\"}}, \"type\": \"scattergeo\"}], \"scattergl\": [{\"marker\": {\"colorbar\": {\"outlinewidth\": 0, \"ticks\": \"\"}}, \"type\": \"scattergl\"}], \"scattermapbox\": [{\"marker\": {\"colorbar\": {\"outlinewidth\": 0, \"ticks\": \"\"}}, \"type\": \"scattermapbox\"}], \"scatterpolar\": [{\"marker\": {\"colorbar\": {\"outlinewidth\": 0, \"ticks\": \"\"}}, \"type\": \"scatterpolar\"}], \"scatterpolargl\": [{\"marker\": {\"colorbar\": {\"outlinewidth\": 0, \"ticks\": \"\"}}, \"type\": \"scatterpolargl\"}], \"scatterternary\": [{\"marker\": {\"colorbar\": {\"outlinewidth\": 0, \"ticks\": \"\"}}, \"type\": \"scatterternary\"}], \"surface\": [{\"colorbar\": {\"outlinewidth\": 0, \"ticks\": \"\"}, \"colorscale\": [[0.0, \"#0d0887\"], [0.1111111111111111, \"#46039f\"], [0.2222222222222222, \"#7201a8\"], [0.3333333333333333, \"#9c179e\"], [0.4444444444444444, \"#bd3786\"], [0.5555555555555556, \"#d8576b\"], [0.6666666666666666, \"#ed7953\"], [0.7777777777777778, \"#fb9f3a\"], [0.8888888888888888, \"#fdca26\"], [1.0, \"#f0f921\"]], \"type\": \"surface\"}], \"table\": [{\"cells\": {\"fill\": {\"color\": \"#EBF0F8\"}, \"line\": {\"color\": \"white\"}}, \"header\": {\"fill\": {\"color\": \"#C8D4E3\"}, \"line\": {\"color\": \"white\"}}, \"type\": \"table\"}]}, \"layout\": {\"annotationdefaults\": {\"arrowcolor\": \"#2a3f5f\", \"arrowhead\": 0, \"arrowwidth\": 1}, \"coloraxis\": {\"colorbar\": {\"outlinewidth\": 0, \"ticks\": \"\"}}, \"colorscale\": {\"diverging\": [[0, \"#8e0152\"], [0.1, \"#c51b7d\"], [0.2, \"#de77ae\"], [0.3, \"#f1b6da\"], [0.4, \"#fde0ef\"], [0.5, \"#f7f7f7\"], [0.6, \"#e6f5d0\"], [0.7, \"#b8e186\"], [0.8, \"#7fbc41\"], [0.9, \"#4d9221\"], [1, \"#276419\"]], \"sequential\": [[0.0, \"#0d0887\"], [0.1111111111111111, \"#46039f\"], [0.2222222222222222, \"#7201a8\"], [0.3333333333333333, \"#9c179e\"], [0.4444444444444444, \"#bd3786\"], [0.5555555555555556, \"#d8576b\"], [0.6666666666666666, \"#ed7953\"], [0.7777777777777778, \"#fb9f3a\"], [0.8888888888888888, \"#fdca26\"], [1.0, \"#f0f921\"]], \"sequentialminus\": [[0.0, \"#0d0887\"], [0.1111111111111111, \"#46039f\"], [0.2222222222222222, \"#7201a8\"], [0.3333333333333333, \"#9c179e\"], [0.4444444444444444, \"#bd3786\"], [0.5555555555555556, \"#d8576b\"], [0.6666666666666666, \"#ed7953\"], [0.7777777777777778, \"#fb9f3a\"], [0.8888888888888888, \"#fdca26\"], [1.0, \"#f0f921\"]]}, \"colorway\": [\"#636efa\", \"#EF553B\", \"#00cc96\", \"#ab63fa\", \"#FFA15A\", \"#19d3f3\", \"#FF6692\", \"#B6E880\", \"#FF97FF\", \"#FECB52\"], \"font\": {\"color\": \"#2a3f5f\"}, \"geo\": {\"bgcolor\": \"white\", \"lakecolor\": \"white\", \"landcolor\": \"#E5ECF6\", \"showlakes\": true, \"showland\": true, \"subunitcolor\": \"white\"}, \"hoverlabel\": {\"align\": \"left\"}, \"hovermode\": \"closest\", \"mapbox\": {\"style\": \"light\"}, \"paper_bgcolor\": \"white\", \"plot_bgcolor\": \"#E5ECF6\", \"polar\": {\"angularaxis\": {\"gridcolor\": \"white\", \"linecolor\": \"white\", \"ticks\": \"\"}, \"bgcolor\": \"#E5ECF6\", \"radialaxis\": {\"gridcolor\": \"white\", \"linecolor\": \"white\", \"ticks\": \"\"}}, \"scene\": {\"xaxis\": {\"backgroundcolor\": \"#E5ECF6\", \"gridcolor\": \"white\", \"gridwidth\": 2, \"linecolor\": \"white\", \"showbackground\": true, \"ticks\": \"\", \"zerolinecolor\": \"white\"}, \"yaxis\": {\"backgroundcolor\": \"#E5ECF6\", \"gridcolor\": \"white\", \"gridwidth\": 2, \"linecolor\": \"white\", \"showbackground\": true, \"ticks\": \"\", \"zerolinecolor\": \"white\"}, \"zaxis\": {\"backgroundcolor\": \"#E5ECF6\", \"gridcolor\": \"white\", \"gridwidth\": 2, \"linecolor\": \"white\", \"showbackground\": true, \"ticks\": \"\", \"zerolinecolor\": \"white\"}}, \"shapedefaults\": {\"line\": {\"color\": \"#2a3f5f\"}}, \"ternary\": {\"aaxis\": {\"gridcolor\": \"white\", \"linecolor\": \"white\", \"ticks\": \"\"}, \"baxis\": {\"gridcolor\": \"white\", \"linecolor\": \"white\", \"ticks\": \"\"}, \"bgcolor\": \"#E5ECF6\", \"caxis\": {\"gridcolor\": \"white\", \"linecolor\": \"white\", \"ticks\": \"\"}}, \"title\": {\"x\": 0.05}, \"xaxis\": {\"automargin\": true, \"gridcolor\": \"white\", \"linecolor\": \"white\", \"ticks\": \"\", \"title\": {\"standoff\": 15}, \"zerolinecolor\": \"white\", \"zerolinewidth\": 2}, \"yaxis\": {\"automargin\": true, \"gridcolor\": \"white\", \"linecolor\": \"white\", \"ticks\": \"\", \"title\": {\"standoff\": 15}, \"zerolinecolor\": \"white\", \"zerolinewidth\": 2}}}, \"title\": {\"text\": \"COVID-19 deaths over time for 1 million inhabitants [since 3 deaths/mill. inhab.]\"}, \"xaxis\": {\"nticks\": 30, \"title\": {\"text\": \"Time (day)\"}}, \"yaxis\": {\"title\": {\"text\": \"COVID-19 total deaths / nb of inhabitants (million)\"}}},\n",
       "                        {\"responsive\": true}\n",
       "                    ).then(function(){\n",
       "                            \n",
       "var gd = document.getElementById('de77d730-2822-4e01-bd03-5de7b2d1de8b');\n",
       "var x = new MutationObserver(function (mutations, observer) {{\n",
       "        var display = window.getComputedStyle(gd).display;\n",
       "        if (!display || display === 'none') {{\n",
       "            console.log([gd, 'removed!']);\n",
       "            Plotly.purge(gd);\n",
       "            observer.disconnect();\n",
       "        }}\n",
       "}});\n",
       "\n",
       "// Listen for the removal of the full notebook cells\n",
       "var notebookContainer = gd.closest('#notebook-container');\n",
       "if (notebookContainer) {{\n",
       "    x.observe(notebookContainer, {childList: true});\n",
       "}}\n",
       "\n",
       "// Listen for the clearing of the current output cell\n",
       "var outputEl = gd.closest('.output');\n",
       "if (outputEl) {{\n",
       "    x.observe(outputEl, {childList: true});\n",
       "}}\n",
       "\n",
       "                        })\n",
       "                };\n",
       "                });\n",
       "            </script>\n",
       "        </div>"
      ]
     },
     "metadata": {},
     "output_type": "display_data"
    },
    {
     "name": "stdout",
     "output_type": "stream",
     "text": [
      "> graph 5 exported\n"
     ]
    }
   ],
   "source": [
    "import plotly.graph_objects as go\n",
    "fig = go.Figure()\n",
    "\n",
    "data_deaths_rolling = data_deaths\n",
    "last_d = round(len(data_deaths)/2)\n",
    "min_deaths_rate = 3\n",
    "\n",
    "i=0\n",
    "data_deaths_pop = pd.DataFrame()\n",
    "data_deaths_pop[\"date\"] = data_deaths[\"date\"]\n",
    "data_deaths_pop[\"date_int\"] = data_deaths[\"date_int\"]\n",
    "\n",
    "for c in countries:\n",
    "    pop = round(countries[c][\"pop\"])\n",
    "    data_deaths_pop[c] = data_deaths[c] / pop\n",
    "    res = data_deaths_pop.index[data_deaths_pop[c] >= min_deaths_rate].tolist()\n",
    "    \n",
    "    date_start = -1\n",
    "    if len(res) > 0:\n",
    "        #date_start = res.iloc[0][\"date_int\"]\n",
    "        date_start = res[0]\n",
    "    \n",
    "    if date_start != -1:\n",
    "        fig.add_trace(go.Scatter(x = data_deaths['date_int'][:-date_start], y = data_deaths[c][date_start:] / pop,\n",
    "                        mode='markers',\n",
    "                        marker_color=colors[i],\n",
    "                        legendgroup=c,\n",
    "                        marker_symbol= 3*i,\n",
    "                        marker_size=9,\n",
    "                        marker_line_color=colors[i],\n",
    "                        #marker_line_width=2,\n",
    "                        opacity=1,\n",
    "                        showlegend=True,\n",
    "                        name='{}'.format(\"\")))\n",
    "\n",
    "        fig.add_trace(go.Scatter(x = data_deaths_rolling['date_int'][:-date_start], y = data_deaths_rolling[c][date_start:] / pop,\n",
    "                        mode='lines',\n",
    "                        marker_color=colors[i],\n",
    "                        legendgroup=c,\n",
    "                        opacity=1,\n",
    "                        showlegend=True,\n",
    "                        line=dict(width=2),\n",
    "                        name='{} [last {} days]'.format(c, len(data_deaths) - date_start)))\n",
    "    i+=1\n",
    "    if i >= 10:\n",
    "        i=0\n",
    "\n",
    "fig.update_layout(\n",
    "    title=\"COVID-19 deaths over time for 1 million inhabitants [since {} deaths/mill. inhab.]\".format(min_deaths_rate),\n",
    "    xaxis_title=\"Time (day)\",\n",
    "    yaxis_title=\"COVID-19 total deaths / nb of inhabitants (million)\",\n",
    "    annotations = [dict(\n",
    "        xref='paper',\n",
    "        yref='paper',\n",
    "        x=0, y=1.1,\n",
    "        showarrow=False,\n",
    "        text ='Last update: {} ; Last data: {} ; Data: CSSE ; Author: @guillaumerozier'.format(today, str(data_confirmed['date'].values[-1])[:10]))]\n",
    ")\n",
    "fig.update_xaxes(nticks = last_d)\n",
    "\n",
    "print(\"> graph 5 built\")\n",
    "    \n",
    "if upload:\n",
    "    py.plot(fig, filename = 'deaths', auto_open=False)\n",
    "    \n",
    "if show:\n",
    "    fig.show()\n",
    "    \n",
    "if export:\n",
    "    fig.write_image(\"images/deaths_per_1m_inhabitant_aligned_since_minimum.png\", scale=5, width=900, height=700)\n",
    "    print(\"> graph 5 exported\")\n",
    "    "
   ]
  },
  {
   "cell_type": "markdown",
   "metadata": {},
   "source": [
    "# Dashboard"
   ]
  },
  {
   "cell_type": "code",
   "execution_count": 176,
   "metadata": {},
   "outputs": [],
   "source": [
    "import chart_studio.dashboard_objs as dashboard\n",
    "import IPython.display\n",
    "from IPython.display import Image\n",
    "\n",
    "my_dboard = dashboard.Dashboard()\n",
    "\n",
    "box_cases = {\n",
    "    'type': 'box',\n",
    "    'boxType': 'plot',\n",
    "    'fileId': 'worldice:12',\n",
    "    'title': 'scatter-for-dashboard'\n",
    "}\n",
    "box_cases_aligned = {\n",
    "    'type': 'box',\n",
    "    'boxType': 'plot',\n",
    "    'fileId': 'worldice:7',\n",
    "    'title': 'scatter-for-dashboard'\n",
    "}\n",
    "box_deaths = {\n",
    "    'type': 'box',\n",
    "    'boxType': 'plot',\n",
    "    'fileId': 'worldice:5',\n",
    "    'title': 'scatter-for-dashboard'\n",
    "}\n",
    "box_deaths_aligned = {\n",
    "    'type': 'box',\n",
    "    'boxType': 'plot',\n",
    "    'fileId': 'worldice:3',\n",
    "    'title': 'scatter-for-dashboard',\n",
    "}\n",
    "text_for_box=\"ha\"\n",
    "box_text = {\n",
    "    'type': 'box',\n",
    "    'boxType': 'text',\n",
    "    'text': text_for_box,\n",
    "    'title': 'Markdown Options for Text Box'\n",
    "}\n",
    "\n",
    "my_dboard.insert(box_cases, 1)\n",
    "\n",
    "my_dboard.insert(box_deaths, 'below', 1)\n",
    "my_dboard.insert(box_cases_aligned, 'below', 1)\n",
    "\n",
    "my_dboard.insert(box_deaths_aligned, 'below', 3)\n",
    "\n",
    "my_dboard['layout']['size'] = 2500\n",
    "my_dboard['settings']['title'] = 'COVID-19 Stats - @guillaumerozier - data: worldometer'\n",
    "\n",
    "if show:\n",
    "    my_dboard.get_preview()"
   ]
  },
  {
   "cell_type": "code",
   "execution_count": 177,
   "metadata": {},
   "outputs": [],
   "source": [
    "import chart_studio.plotly as py\n",
    "\n",
    "#py.dashboard_ops.upload(my_dboard, 'COVID-19 Europe Dashboard', auto_open=False)"
   ]
  },
  {
   "cell_type": "markdown",
   "metadata": {},
   "source": [
    "### Total cases (world)"
   ]
  },
  {
   "cell_type": "code",
   "execution_count": 178,
   "metadata": {},
   "outputs": [
    {
     "data": {
      "text/plain": [
       "'\\nfig = go.Figure()\\n\\nlast_d = len(df_confirmed)\\n\\nfor col in df_confirmed.columns[2:]:\\n    fig.add_trace(go.Scatter(x=df_confirmed[\\'date\\'][-last_d:], y=df_confirmed[col][-last_d:],\\n                    mode=\\'lines+markers\\',\\n                    name=\\'{}\\'.format(col)))\\n\\nfig.update_layout(\\n    title=\"COVID-19 total cases over time\",\\n    xaxis_title=\"Time (day)\",\\n    yaxis_title=\"COVID-19 total confirmed cases\",\\n    annotations = [dict(xref=\\'paper\\',\\n        yref=\\'paper\\',\\n        x=0, y=1.1,\\n        showarrow=False,\\n        text =\\'Last update: {} ; Last data: {}\\'.format(today, df_confirmed[\\'date\\'].values[-1]))]\\n)\\nfig.update_xaxes(nticks = last_d)\\nplotly.offline.plot(fig, filename = \\'cases.html\\', auto_open=False)\\n#fig.write_image(\\'cases.png\\')\\nif upload:\\n    py.plot(fig, filename = \\'cases\\', auto_open=False)\\n    \\nif show:\\n    fig.show()\\n    \\nif export:\\n    fig.write_image(\"images/cases.png\", scale=8, width=1000, height=600)\\nprint(\"> graph 2 built\")\\n'"
      ]
     },
     "execution_count": 178,
     "metadata": {},
     "output_type": "execute_result"
    }
   ],
   "source": [
    "\"\"\"\n",
    "fig = go.Figure()\n",
    "\n",
    "last_d = len(df_confirmed)\n",
    "\n",
    "for col in df_confirmed.columns[2:]:\n",
    "    fig.add_trace(go.Scatter(x=df_confirmed['date'][-last_d:], y=df_confirmed[col][-last_d:],\n",
    "                    mode='lines+markers',\n",
    "                    name='{}'.format(col)))\n",
    "\n",
    "fig.update_layout(\n",
    "    title=\"COVID-19 total cases over time\",\n",
    "    xaxis_title=\"Time (day)\",\n",
    "    yaxis_title=\"COVID-19 total confirmed cases\",\n",
    "    annotations = [dict(xref='paper',\n",
    "        yref='paper',\n",
    "        x=0, y=1.1,\n",
    "        showarrow=False,\n",
    "        text ='Last update: {} ; Last data: {}'.format(today, df_confirmed['date'].values[-1]))]\n",
    ")\n",
    "fig.update_xaxes(nticks = last_d)\n",
    "plotly.offline.plot(fig, filename = 'cases.html', auto_open=False)\n",
    "#fig.write_image('cases.png')\n",
    "if upload:\n",
    "    py.plot(fig, filename = 'cases', auto_open=False)\n",
    "    \n",
    "if show:\n",
    "    fig.show()\n",
    "    \n",
    "if export:\n",
    "    fig.write_image(\"images/cases.png\", scale=8, width=1000, height=600)\n",
    "print(\"> graph 2 built\")\n",
    "\"\"\""
   ]
  }
 ],
 "metadata": {
  "kernelspec": {
   "display_name": "Python 3",
   "language": "python",
   "name": "python3"
  },
  "language_info": {
   "codemirror_mode": {
    "name": "ipython",
    "version": 3
   },
   "file_extension": ".py",
   "mimetype": "text/x-python",
   "name": "python",
   "nbconvert_exporter": "python",
   "pygments_lexer": "ipython3",
   "version": "3.7.4"
  }
 },
 "nbformat": 4,
 "nbformat_minor": 2
}
