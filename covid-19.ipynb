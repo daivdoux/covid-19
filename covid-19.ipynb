{
 "cells": [
  {
   "cell_type": "markdown",
   "metadata": {},
   "source": [
    "# COVID-19 Analysis\n",
    "Guillaume Rozier, 2020"
   ]
  },
  {
   "cell_type": "code",
   "execution_count": 290,
   "metadata": {},
   "outputs": [],
   "source": [
    "#data_rolling\n",
    "\n",
    "#df_confirmed_csse['France']"
   ]
  },
  {
   "cell_type": "code",
   "execution_count": 291,
   "metadata": {},
   "outputs": [
    {
     "data": {
      "text/plain": [
       "'build : 2020-03-22 18:42'"
      ]
     },
     "execution_count": 291,
     "metadata": {},
     "output_type": "execute_result"
    }
   ],
   "source": [
    "import requests\n",
    "import random\n",
    "import json\n",
    "from datetime import date\n",
    "from datetime import datetime\n",
    "import numpy as np\n",
    "import sys\n",
    "import chart_studio\n",
    "import pandas as pd\n",
    "import plotly.graph_objects as go\n",
    "import plotly\n",
    "import chart_studio.plotly as py\n",
    "import sys\n",
    "import matplotlib.pyplot as plt\n",
    "from plotly.validators.scatter.marker import SymbolValidator\n",
    "\n",
    "colors = plotly.colors.DEFAULT_PLOTLY_COLORS\n",
    "random.shuffle(colors)\n",
    "\n",
    "chart_studio.tools.set_credentials_file(username='worldice', api_key='2iXFe4Ch2oPo1dpaBj8p')\n",
    "today = datetime.now().strftime(\"%Y-%m-%d %H:%M\")\n",
    "\n",
    "\"build : \" + today"
   ]
  },
  {
   "cell_type": "code",
   "execution_count": 292,
   "metadata": {},
   "outputs": [],
   "source": [
    "upload = False\n",
    "show = False\n",
    "export = True"
   ]
  },
  {
   "cell_type": "code",
   "execution_count": 293,
   "metadata": {},
   "outputs": [
    {
     "data": {
      "text/plain": [
       "'build : 2020-03-22 18:42'"
      ]
     },
     "execution_count": 293,
     "metadata": {},
     "output_type": "execute_result"
    }
   ],
   "source": [
    "\n",
    "if len(sys.argv) == 1:\n",
    "    print(\"Error.\\n Usage: covid-19 arg1 arg2 arg3\")\n",
    "    print(\"arg1: upload? (True/False)\\n arg2: show charts? (True/False)\\n arg3: export charts as png?\")\n",
    "    sys.exit()\n",
    "    \n",
    "if len(sys.argv) >= 2:\n",
    "    if (sys.argv[1]).lower() == \"true\":\n",
    "        upload = True\n",
    "    \n",
    "if len(sys.argv) >= 3:\n",
    "    if (sys.argv[2]).lower() == \"true\":\n",
    "        show = True\n",
    "\n",
    "if len(sys.argv) >= 4:\n",
    "    if (sys.argv[3]).lower() == \"true\":\n",
    "        export = True\n",
    "    \n",
    "\"build : \" + today"
   ]
  },
  {
   "cell_type": "markdown",
   "metadata": {},
   "source": [
    "##### Functions"
   ]
  },
  {
   "cell_type": "code",
   "execution_count": 294,
   "metadata": {},
   "outputs": [
    {
     "data": {
      "text/plain": [
       "'build : 2020-03-22 18:42'"
      ]
     },
     "execution_count": 294,
     "metadata": {},
     "output_type": "execute_result"
    }
   ],
   "source": [
    "def compute_offset(df, col_of_reference, col_to_align):\n",
    "        \n",
    "    diffs = []\n",
    "    for offset in range(len(df)-15):\n",
    "        \n",
    "        a = df[col_of_reference][1:].shift(offset, fill_value=0)/countries[col_of_reference][\"pop\"]\n",
    "        b = df[col_to_align][1:]/countries[col_to_align][\"pop\"]\n",
    "        \n",
    "        if len(a) > len(b):\n",
    "            a = a[:-2]\n",
    "        m = min(len(a), len(b))\n",
    "            \n",
    "        delta = ((a[offset:] - b[offset:])**2)**(1/2)\n",
    "        #print(\"offset : {}\\t delta : {}\".format(offset, delta.sum()))\n",
    "        diffs.append(abs(delta.sum()))\n",
    "        xa = [i for i in range(offset, len(a))]\n",
    "        xb = [i for i in range(offset, len(b))]\n",
    "        #plt.scatter(x=xa, y=a[offset:])\n",
    "        #plt.scatter(x=xb, y=b[offset:])\n",
    "        #plt.title(\"offset {}\".format(offset, round(delta)))\n",
    "        #plt.savefig(\"images/offset\"+str(offset)+\".png\")\n",
    "        #plt.clf()\n",
    "    #print(diffs)\n",
    "    #print(min(diffs))\n",
    "    ret = diffs.index(min(diffs))\n",
    "\n",
    "\n",
    "    if col_of_reference == col_to_align:\n",
    "        return 0\n",
    "    return ret\n",
    "#r = compute_offset(data_deaths, \"Italy\", \"France\")\n",
    "#print(r)\n",
    "\"build : \" + today"
   ]
  },
  {
   "cell_type": "markdown",
   "metadata": {},
   "source": [
    "\n",
    "### DATA"
   ]
  },
  {
   "cell_type": "markdown",
   "metadata": {},
   "source": [
    "#### Download data"
   ]
  },
  {
   "cell_type": "code",
   "execution_count": 295,
   "metadata": {},
   "outputs": [
    {
     "name": "stdout",
     "output_type": "stream",
     "text": [
      "> data downloaded\n"
     ]
    },
    {
     "data": {
      "text/plain": [
       "'build : 2020-03-22 18:42'"
      ]
     },
     "execution_count": 295,
     "metadata": {},
     "output_type": "execute_result"
    }
   ],
   "source": [
    "\n",
    "url_confirmed = \"https://cowid.netlify.com/data/total_cases.csv\"\n",
    "url_deaths = \"https://cowid.netlify.com/data/total_deaths.csv\"\n",
    "url_confirmed_csse = \"https://raw.githubusercontent.com/CSSEGISandData/COVID-19/master/csse_covid_19_data/csse_covid_19_time_series/time_series_19-covid-Confirmed.csv\"    \n",
    "url_deaths_csse = \"https://raw.githubusercontent.com/CSSEGISandData/COVID-19/master/csse_covid_19_data/csse_covid_19_time_series/time_series_19-covid-Deaths.csv\"    \n",
    "\n",
    "\n",
    "r_confirmed = requests.get(url_confirmed)\n",
    "r_deaths = requests.get(url_deaths)\n",
    "r_confirmed_csse = requests.get(url_confirmed_csse)\n",
    "r_deaths_csse = requests.get(url_deaths_csse)\n",
    "\n",
    "with open('data/total_cases_who.csv', 'wb') as f:\n",
    "    f.write(r_confirmed.content)\n",
    "    \n",
    "with open('data/total_deaths_who.csv', 'wb') as f:\n",
    "    f.write(r_deaths.content)\n",
    "    \n",
    "with open('data/total_cases_csse.csv', 'wb') as f:\n",
    "    f.write(r_confirmed_csse.content)\n",
    "\n",
    "with open('data/total_deaths_csse.csv', 'wb') as f:\n",
    "    f.write(r_deaths_csse.content)\n",
    "    \n",
    "print(\"> data downloaded\")\n",
    "\"build : \" + today"
   ]
  },
  {
   "cell_type": "markdown",
   "metadata": {},
   "source": [
    "#### Import data and merge"
   ]
  },
  {
   "cell_type": "code",
   "execution_count": 296,
   "metadata": {},
   "outputs": [
    {
     "name": "stdout",
     "output_type": "stream",
     "text": [
      "> data merged\n"
     ]
    },
    {
     "data": {
      "text/plain": [
       "'build : 2020-03-22 18:42'"
      ]
     },
     "execution_count": 296,
     "metadata": {},
     "output_type": "execute_result"
    }
   ],
   "source": [
    "# CSSE data\n",
    "df_confirmed_csse = pd.read_csv('data/total_cases_csse.csv')\n",
    "df_deaths_csse = pd.read_csv('data/total_deaths_csse.csv')\n",
    "\n",
    "# WHO data\n",
    "df_confirmed_who = pd.read_csv('data/total_cases_who.csv')\n",
    "df_deaths_who = pd.read_csv('data/total_deaths_who.csv')\n",
    "\n",
    "# Perso data\n",
    "df_confirmed_perso = pd.read_csv('data/total_cases_perso.csv')\n",
    "df_deaths_perso = pd.read_csv('data/total_deaths_perso.csv')\n",
    "\n",
    "print(\"> data merged\")\n",
    "\"build : \" + today"
   ]
  },
  {
   "cell_type": "code",
   "execution_count": 297,
   "metadata": {},
   "outputs": [
    {
     "data": {
      "text/plain": [
       "'build : 2020-03-22 18:42'"
      ]
     },
     "execution_count": 297,
     "metadata": {},
     "output_type": "execute_result"
    }
   ],
   "source": [
    "def data_prep_csse(df0):\n",
    "    df = df0.drop('Lat', axis=1)\n",
    "    df = df.drop('Long', axis=1)\n",
    "    df = df.drop('Province/State', axis=1)\n",
    "    #df_csse_new2 = df_csse_new.groupby(['Country/Region'])\n",
    "    df = df.T.reset_index()\n",
    "    df.columns = df.iloc[0]\n",
    "    df = df.rename(columns={\"Country/Region\": \"date\"})\n",
    "    df = df.drop(df.index[0])\n",
    "    dates = df['date'].values\n",
    "    df = df.groupby(by=df.columns, axis=1).sum(numeric_only=True)\n",
    "    df['date'] = dates\n",
    "    return df\n",
    "\n",
    "df_confirmed_csse = data_prep_csse(df_confirmed_csse)\n",
    "df_deaths_csse = data_prep_csse(df_deaths_csse)\n",
    "\"build : \" + today"
   ]
  },
  {
   "cell_type": "code",
   "execution_count": 298,
   "metadata": {},
   "outputs": [
    {
     "data": {
      "text/plain": [
       "'build : 2020-03-22 18:42'"
      ]
     },
     "execution_count": 298,
     "metadata": {},
     "output_type": "execute_result"
    }
   ],
   "source": [
    "data_confirmed = df_confirmed_csse\n",
    "data_deaths = df_deaths_csse\n",
    "\n",
    "data_confirmed = pd.merge(data_confirmed, df_confirmed_perso, how='outer').drop_duplicates(subset='date')\n",
    "data_deaths = pd.merge(data_deaths, df_deaths_perso, how='outer').drop_duplicates(subset='date')\n",
    "\n",
    "#date_int = [i for i in range(len(data_confirmed))]\n",
    "#data_confirmed[\"date_int\"] = date_int\n",
    "\n",
    "#date_int = [i for i in range(len(data_deaths))]\n",
    "#data_deaths[\"date_int\"] = date_int\n",
    "\n",
    "\"build : \" + today\n",
    "#data_confirmed['date']\n",
    "#df_deaths_perso.iloc[-1]"
   ]
  },
  {
   "cell_type": "code",
   "execution_count": 299,
   "metadata": {
    "scrolled": true
   },
   "outputs": [
    {
     "data": {
      "text/plain": [
       "'build : 2020-03-22 18:42'"
      ]
     },
     "execution_count": 299,
     "metadata": {},
     "output_type": "execute_result"
    }
   ],
   "source": [
    "def rolling(df):\n",
    "    df_r = df\n",
    "    df_r[:len(df_r)-1].fillna(method='pad',inplace=True)\n",
    "    df_r = df.rolling(5, win_type='gaussian', center=True).mean(std=2)\n",
    "    df_r['date'] = df['date'].values\n",
    "    df_r.iloc[len(df_r)-2] = df.iloc[-2]\n",
    "    df_r.iloc[len(df_r)-1] = df.iloc[-1]\n",
    "\n",
    "    #moins_2 = ((df.iloc[-3][:-1] + df.iloc[-1][:-1]) / 2).append(pd.Series([df.iloc[-2][\"date\"]]))\n",
    "    #moins_1 = ((df.iloc[-3][:-1] + df.iloc[-1][:-1]) / 2).append(pd.Series([df.iloc[-1][\"date\"]]))\n",
    "\n",
    "    #df_r.iloc[-2] = moins_2\n",
    "    #df_r.iloc[-1] = moins_1\n",
    "    #data_confirmed.loc[:, data_confirmed.columns != \"date\"]\n",
    "    #df_r = df_r.drop(len(df_r)-1)\n",
    "    #df_r = df_r.drop(len(df_r)-1)\n",
    "    \n",
    "    df_r.loc[len(df_r)-3, df_r.columns != \"date\" ] = ((df.iloc[-4][:-1] + df.iloc[-2][:-1])/2 + df.iloc[-3][:-1])/2\n",
    "    df_r.loc[len(df_r)-3, \"date\"] = df.iloc[-3][\"date\"]\n",
    "    \n",
    "   # df_r.loc[len(df_r)-2, df_r.columns != \"date\" ] = ((df.iloc[-3][:-1] + df.iloc[-1][:-1])/2 + df.iloc[-2][:-1])/2\n",
    "    #df_r.loc[len(df_r)-2, \"date\"] = df.iloc[-2][\"date\"]\n",
    "    \n",
    "    df_r.loc[len(df_r)-2, df_r.columns != \"date\" ] = (df.iloc[-3][:-1] + (df.iloc[-3][:-1] - df.iloc[-4][:-1]) / 2 + df.iloc[-2][:-1])/2\n",
    "    df_r.loc[len(df_r)-2, \"date\"] = df.iloc[-2][\"date\"] \n",
    "    \n",
    "    df_r.loc[len(df_r)-1, df_r.columns != \"date\" ] = (df.iloc[-2][:-1] + (df.iloc[-1][:-1] - df.iloc[-3][:-1]) / 2 + df.iloc[-1][:-1])/2\n",
    "    df_r.loc[len(df_r)-1, \"date\"] = df.iloc[-1][\"date\"] \n",
    "    \n",
    "    return df_r\n",
    "\n",
    "data_confirmed_rolling = rolling(data_confirmed)\n",
    "data_deaths_rolling = rolling(data_deaths)\n",
    "\n",
    "# Date conversion\n",
    "data_confirmed['date'] = data_confirmed['date'].astype('datetime64[ns]') \n",
    "data_confirmed_rolling['date'] = data_confirmed_rolling['date'].astype('datetime64[ns]') \n",
    "\n",
    "data_deaths['date'] = data_deaths['date'].astype('datetime64[ns]') \n",
    "data_deaths_rolling['date'] = data_deaths_rolling['date'].astype('datetime64[ns]') \n",
    "\n",
    "date_int = [i for i in range(len(data_confirmed))]\n",
    "data_confirmed[\"date_int\"] = date_int\n",
    "\n",
    "date_int = [i for i in range(len(data_deaths))]\n",
    "data_deaths[\"date_int\"] = date_int\n",
    "\n",
    "\"build : \" + today"
   ]
  },
  {
   "cell_type": "code",
   "execution_count": 300,
   "metadata": {},
   "outputs": [
    {
     "name": "stdout",
     "output_type": "stream",
     "text": [
      "<bound method NDFrame.tail of     Afghanistan    Albania     Algeria    Andorra    Angola  \\\n",
      "0           NaN        NaN         NaN        NaN       NaN   \n",
      "1           NaN        NaN         NaN        NaN       NaN   \n",
      "2      0.000000   0.000000    0.000000   0.000000  0.000000   \n",
      "3      0.000000   0.000000    0.000000   0.000000  0.000000   \n",
      "4      0.000000   0.000000    0.000000   0.000000  0.000000   \n",
      "..          ...        ...         ...        ...       ...   \n",
      "56    22.152469  59.679249   73.168282  41.953309  0.152469   \n",
      "57    22.748621  64.679249   88.593316  57.976582  0.526780   \n",
      "58    23.500000  70.000000  101.500000  72.750000  1.000000   \n",
      "59    24.500000  74.500000  115.250000  87.000000  1.750000   \n",
      "60          NaN        NaN         NaN        NaN       NaN   \n",
      "\n",
      "    Antigua and Barbuda   Argentina     Armenia   Australia      Austria  ...  \\\n",
      "0                   NaN         NaN         NaN         NaN          NaN  ...   \n",
      "1                   NaN         NaN         NaN         NaN          NaN  ...   \n",
      "2                   0.0    0.000000    0.000000    0.609877     0.000000  ...   \n",
      "3                   0.0    0.000000    0.000000    1.649711     0.000000  ...   \n",
      "4                   0.0    0.000000    0.000000    2.877069     0.000000  ...   \n",
      "..                  ...         ...         ...         ...          ...  ...   \n",
      "56                  1.0   84.517087   92.595415  572.213489  1675.139071  ...   \n",
      "57                  1.0  104.762949  114.001340  704.882008  2033.071028  ...   \n",
      "58                  1.0  127.750000  136.750000  833.500000  2400.750000  ...   \n",
      "59                  1.0  150.750000  153.250000  958.500000  2694.750000  ...   \n",
      "60                  NaN         NaN         NaN         NaN          NaN  ...   \n",
      "\n",
      "      Ukraine  United Arab Emirates  United Kingdom     Uruguay  Uzbekistan  \\\n",
      "0         NaN                   NaN             NaN         NaN         NaN   \n",
      "1         NaN                   NaN             NaN         NaN         NaN   \n",
      "2    0.000000              0.000000        0.000000    0.000000    0.000000   \n",
      "3    0.000000              0.000000        0.000000    0.000000    0.000000   \n",
      "4    0.000000              0.000000        0.000000    0.000000    0.000000   \n",
      "..        ...                   ...             ...         ...         ...   \n",
      "56  15.663436            117.491725     2549.964322   52.079669   17.037746   \n",
      "57  22.861859            129.588680     3230.722030   72.997308   24.510967   \n",
      "58  30.250000            143.250000     3952.750000   94.250000   33.000000   \n",
      "59  41.250000            146.500000     4865.000000  105.750000   40.500000   \n",
      "60        NaN                   NaN             NaN         NaN         NaN   \n",
      "\n",
      "    Venezuela    Vietnam    Zambia  Zimbabwe       date  \n",
      "0         NaN        NaN       NaN       NaN 2020-01-22  \n",
      "1         NaN        NaN       NaN       NaN 2020-01-23  \n",
      "2    0.000000   1.695062  0.000000  0.000000 2020-01-24  \n",
      "3    0.000000   2.000000  0.000000  0.000000 2020-01-25  \n",
      "4    0.000000   2.000000  0.000000  0.000000 2020-01-26  \n",
      "..        ...        ...       ...       ...        ...  \n",
      "56  34.683425  75.526780  1.251379  0.152469 2020-03-18  \n",
      "57  43.565866  82.587943  1.695062  0.679249 2020-03-19  \n",
      "58  49.000000  90.250000  2.000000  1.250000 2020-03-20  \n",
      "59  56.000000  94.000000  2.000000  2.250000 2020-03-21  \n",
      "60        NaN        NaN       NaN       NaN 2020-03-22  \n",
      "\n",
      "[61 rows x 167 columns]>\n"
     ]
    }
   ],
   "source": [
    "print(data_confirmed_rolling.tail)"
   ]
  },
  {
   "cell_type": "markdown",
   "metadata": {},
   "source": [
    "#### Informations on countries (population, offset)"
   ]
  },
  {
   "cell_type": "code",
   "execution_count": 301,
   "metadata": {},
   "outputs": [
    {
     "name": "stderr",
     "output_type": "stream",
     "text": [
      "100%|██████████| 10/10 [00:01<00:00,  6.10it/s]"
     ]
    },
    {
     "name": "stdout",
     "output_type": "stream",
     "text": [
      "> pop data imported\n"
     ]
    },
    {
     "name": "stderr",
     "output_type": "stream",
     "text": [
      "\n"
     ]
    },
    {
     "data": {
      "text/plain": [
       "'build : 2020-03-22 18:42'"
      ]
     },
     "execution_count": 301,
     "metadata": {},
     "output_type": "execute_result"
    }
   ],
   "source": [
    "from tqdm import tqdm\n",
    "\n",
    "# Importing informations on countries\n",
    "with open('data/info_countries.json', 'r') as f:\n",
    "    countries = json.load(f)\n",
    "    \n",
    "# Computing offset\n",
    "for c in tqdm(countries):\n",
    "    \n",
    "    countries[c]['offset_confirmed'] = compute_offset(data_confirmed, 'Italy', c)\n",
    "    countries[c]['offset_deaths'] = compute_offset(data_deaths, 'Italy', c)\n",
    "\n",
    "# Exporting informations on countries\n",
    "with open('data/info_countries.json', 'w') as fp:\n",
    "    json.dump(countries, fp)\n",
    "    \n",
    "print(\"> pop data imported\")\n",
    "\"build : \" + today"
   ]
  },
  {
   "cell_type": "markdown",
   "metadata": {},
   "source": [
    "\n",
    "\n",
    "\n",
    "\n",
    "\n"
   ]
  },
  {
   "cell_type": "markdown",
   "metadata": {},
   "source": [
    "# Graphs"
   ]
  },
  {
   "cell_type": "code",
   "execution_count": 302,
   "metadata": {},
   "outputs": [
    {
     "data": {
      "text/plain": [
       "284"
      ]
     },
     "execution_count": 302,
     "metadata": {},
     "output_type": "execute_result"
    }
   ],
   "source": [
    "len(SymbolValidator().values)"
   ]
  },
  {
   "cell_type": "code",
   "execution_count": 303,
   "metadata": {},
   "outputs": [],
   "source": [
    "symbols = []\n",
    "\n",
    "for i in range(35):\n",
    "    symbols.append(SymbolValidator().values[i])\n",
    "    \n",
    "random.shuffle(symbols)"
   ]
  },
  {
   "cell_type": "markdown",
   "metadata": {},
   "source": [
    "## Function"
   ]
  },
  {
   "cell_type": "code",
   "execution_count": 312,
   "metadata": {},
   "outputs": [],
   "source": [
    "def chart(data, data_rolling, by_million_inh = False, align_curves = False, last_d = 15, offset_name = 'offset_confirmed', type_ppl = \"confirmed cases\", name_fig=\"\", since=False, min_rate=0):\n",
    "    fig = go.Figure()\n",
    "\n",
    "    i=0\n",
    "    for c in countries:\n",
    "\n",
    "        if align_curves:\n",
    "            offset = countries[c][offset_name]\n",
    "            offset2 = -offset\n",
    "        else:\n",
    "            offset = 0\n",
    "\n",
    "        if offset==0: offset2 = None\n",
    "\n",
    "        if by_million_inh:\n",
    "            pop = countries[c]['pop']\n",
    "        else:\n",
    "            pop = 1\n",
    "        \n",
    "        date = 'date'\n",
    "        offset3=0\n",
    "        since_str = \"\"\n",
    "        since_str_leg = \"\"\n",
    "        if since:\n",
    "            date = 'date_int'\n",
    "            res = list(map(lambda i: i> min_rate, data[c].values / pop))\n",
    "            offset2 = 1\n",
    "            if True in res:\n",
    "                ind = res.index(True) \n",
    "                offset2 = -ind\n",
    "            offset3 = offset2\n",
    "            last_d = 0\n",
    "            offset = 0\n",
    "            since_str = \"[since {} {}/1 mill. inh.]\".format(min_rate, type_ppl)\n",
    "            since_str_leg = \"[since {} days]\".format(len(data) - ind)\n",
    "            \n",
    "        fig.add_trace(go.Scatter(x = data[date][ -last_d - offset: offset2], y = data[c][-last_d - offset3:] / pop,\n",
    "                        mode='markers',\n",
    "                        marker_color=colors[i],\n",
    "                        legendgroup=c,\n",
    "                        marker_symbol= 3*i,\n",
    "                        marker_size=9,\n",
    "                        marker_line_color=colors[i],\n",
    "                        #marker_line_width=2,\n",
    "                        opacity=1,\n",
    "                        showlegend=True,\n",
    "                        name=''.format(\"\")))\n",
    "        \n",
    "        if offset != 0:\n",
    "            name_legend = '{} [delayed by {} days]'.format(c, -offset)\n",
    "        else:\n",
    "            name_legend = '{} {}'.format(c, since_str_leg)\n",
    "            \n",
    "        fig.add_trace(go.Scatter(x = data_rolling[date][ -last_d - offset : offset2], y = data_rolling[c][-last_d - offset3:] / pop,\n",
    "                        mode='lines',\n",
    "                        marker_color=colors[i],\n",
    "                        opacity=1,\n",
    "                        legendgroup=c,\n",
    "                        showlegend=True,\n",
    "                        line=dict(width=2),\n",
    "                        name = name_legend))\n",
    "        i+=1\n",
    "        if i >= len(symbols):\n",
    "            i=0\n",
    "            \n",
    "    align_str = \"\"\n",
    "    if align_curves:\n",
    "        align_str = \"[aligned for comparison]\"\n",
    "        \n",
    "    million_str = \"\"\n",
    "    million_str_ax = \"\"\n",
    "    if by_million_inh:\n",
    "        million_str = \"for 1 million inhabitants\"\n",
    "        million_str_ax = \"/ nb of inhabitants (million)\"\n",
    "        \n",
    "    fig.update_layout(\n",
    "        title=\"COVID-19 total {} over time {} {} {}\".format(type_ppl, million_str, align_str, since_str),\n",
    "        xaxis_title=\"Time (day) — delayed for some countries\",\n",
    "        #yaxis_type=\"log\",\n",
    "        yaxis_title=\"COVID-19 total {} {}\".format(type_ppl, million_str_ax),\n",
    "        annotations = [dict(xref='paper',\n",
    "            yref='paper',\n",
    "            x=0, y=1.1,\n",
    "            showarrow=False,\n",
    "            text ='Last update: {} ; Last data: {} ; Data: CSSE ; Author: @guillaumerozier'.format(today, str(data['date'].values[-1])[:10]))]\n",
    "    )\n",
    "\n",
    "\n",
    "    fig.update_xaxes(nticks = last_d)\n",
    "    #plotly.offline.plot(fig, filename = 'cases_aligned.html', auto_open=False)\n",
    "\n",
    "    print(\"> graph built\")\n",
    "\n",
    "    if upload:\n",
    "        py.plot(fig, filename = 'name_fig', auto_open=False)\n",
    "        print(\"> graph uploaded\")\n",
    "\n",
    "    if show:\n",
    "        fig.show()\n",
    "        print(\"> graph showed\")\n",
    "\n",
    "    if export:\n",
    "        fig.write_image(\"images/charts/{}.png\".format(name_fig), scale=5, width=1100, height=700)\n",
    "        print(\"> graph exported\")\n"
   ]
  },
  {
   "cell_type": "markdown",
   "metadata": {},
   "source": [
    "## Function calls"
   ]
  },
  {
   "cell_type": "code",
   "execution_count": 313,
   "metadata": {},
   "outputs": [
    {
     "name": "stdout",
     "output_type": "stream",
     "text": [
      "cases\n",
      "> graph built\n",
      "> graph exported\n",
      "cases_per_1m_inhabitant\n",
      "> graph built\n",
      "> graph exported\n",
      "cases_per_1m_inhabitant_aligned\n",
      "> graph built\n",
      "> graph exported\n",
      "cases_per_1m_inhabitant_since\n",
      "> graph built\n",
      "> graph exported\n",
      "deaths\n",
      "> graph built\n",
      "> graph exported\n",
      "deaths_per_1m_inhabitant\n",
      "> graph built\n",
      "> graph exported\n",
      "deaths_per_1m_inhabitant_aligned\n",
      "> graph built\n",
      "> graph exported\n",
      "deaths_per_1m_inhabitant_since\n",
      "> graph built\n",
      "> graph exported\n"
     ]
    }
   ],
   "source": [
    "# Confirmed cases\n",
    "name = \"cases\"\n",
    "print(name)\n",
    "chart(data = data_confirmed, \n",
    "      data_rolling = data_confirmed, \n",
    "      by_million_inh = False, \n",
    "      last_d = round(len(data_confirmed)/2),\n",
    "      name_fig = name\n",
    "     )\n",
    "\n",
    "name = \"cases_per_1m_inhabitant\"\n",
    "print(name)\n",
    "chart(data = data_confirmed, \n",
    "      data_rolling = data_confirmed, \n",
    "      by_million_inh = True, \n",
    "      last_d = round(len(data_confirmed)/2),\n",
    "      name_fig = name\n",
    "     )\n",
    "\n",
    "name = \"cases_per_1m_inhabitant_aligned\"\n",
    "print(name)\n",
    "chart(data = data_confirmed, \n",
    "      data_rolling = data_confirmed, \n",
    "      by_million_inh = True, \n",
    "      last_d = 15, \n",
    "      align_curves = True,\n",
    "      offset_name = 'offset_confirmed',\n",
    "      name_fig = name)\n",
    "\n",
    "name = \"cases_per_1m_inhabitant_since\"\n",
    "print(name)\n",
    "chart(data = data_confirmed, \n",
    "      data_rolling = data_confirmed, \n",
    "      by_million_inh = True, \n",
    "      last_d = 20, \n",
    "      align_curves = False,\n",
    "      since=True,\n",
    "      name_fig = name,\n",
    "      min_rate=20)\n",
    "\n",
    "# Deaths\n",
    "name = \"deaths\"\n",
    "print(name)\n",
    "chart(data = data_deaths, \n",
    "      data_rolling = data_deaths, \n",
    "      by_million_inh = False, \n",
    "      last_d = round(len(data_deaths)/2),\n",
    "      type_ppl = \"deaths\",\n",
    "      name_fig = name\n",
    "     )\n",
    "\n",
    "name = \"deaths_per_1m_inhabitant\"\n",
    "print(name)\n",
    "chart(data = data_deaths, \n",
    "      data_rolling = data_deaths, \n",
    "      by_million_inh = True, \n",
    "      last_d = round(len(data_deaths)/2),\n",
    "      type_ppl = \"deaths\",\n",
    "      name_fig = name\n",
    "     )\n",
    "\n",
    "name = \"deaths_per_1m_inhabitant_aligned\"\n",
    "print(name)\n",
    "chart(data = data_deaths, \n",
    "      data_rolling = data_deaths, \n",
    "      by_million_inh = True, \n",
    "      last_d = 20, \n",
    "      align_curves = True,\n",
    "      offset_name = 'offset_deaths',\n",
    "      type_ppl = \"deaths\",\n",
    "      name_fig = name)\n",
    "\n",
    "name = \"deaths_per_1m_inhabitant_since\"\n",
    "print(name)\n",
    "chart(data = data_deaths, \n",
    "      data_rolling = data_deaths, \n",
    "      by_million_inh = True, \n",
    "      last_d = 20, \n",
    "      align_curves = False,\n",
    "      type_ppl = \"deaths\",\n",
    "      since=True,\n",
    "      name_fig = name,\n",
    "      min_rate=2)\n"
   ]
  },
  {
   "cell_type": "markdown",
   "metadata": {},
   "source": [
    "## Other chart"
   ]
  },
  {
   "cell_type": "markdown",
   "metadata": {},
   "source": [
    "\n",
    "\n",
    "\n",
    "\n",
    "\n",
    "\n",
    "\n",
    "\n"
   ]
  },
  {
   "cell_type": "markdown",
   "metadata": {},
   "source": [
    "# Dashboard"
   ]
  },
  {
   "cell_type": "code",
   "execution_count": 308,
   "metadata": {},
   "outputs": [],
   "source": [
    "import chart_studio.dashboard_objs as dashboard\n",
    "import IPython.display\n",
    "from IPython.display import Image\n",
    "\n",
    "my_dboard = dashboard.Dashboard()\n",
    "\n",
    "box_cases = {\n",
    "    'type': 'box',\n",
    "    'boxType': 'plot',\n",
    "    'fileId': 'worldice:12',\n",
    "    'title': 'scatter-for-dashboard'\n",
    "}\n",
    "box_cases_aligned = {\n",
    "    'type': 'box',\n",
    "    'boxType': 'plot',\n",
    "    'fileId': 'worldice:7',\n",
    "    'title': 'scatter-for-dashboard'\n",
    "}\n",
    "box_deaths = {\n",
    "    'type': 'box',\n",
    "    'boxType': 'plot',\n",
    "    'fileId': 'worldice:5',\n",
    "    'title': 'scatter-for-dashboard'\n",
    "}\n",
    "box_deaths_aligned = {\n",
    "    'type': 'box',\n",
    "    'boxType': 'plot',\n",
    "    'fileId': 'worldice:3',\n",
    "    'title': 'scatter-for-dashboard',\n",
    "}\n",
    "text_for_box=\"ha\"\n",
    "box_text = {\n",
    "    'type': 'box',\n",
    "    'boxType': 'text',\n",
    "    'text': text_for_box,\n",
    "    'title': 'Markdown Options for Text Box'\n",
    "}\n",
    "\n",
    "my_dboard.insert(box_cases, 1)\n",
    "\n",
    "my_dboard.insert(box_deaths, 'below', 1)\n",
    "my_dboard.insert(box_cases_aligned, 'below', 1)\n",
    "\n",
    "my_dboard.insert(box_deaths_aligned, 'below', 3)\n",
    "\n",
    "my_dboard['layout']['size'] = 2500\n",
    "my_dboard['settings']['title'] = 'COVID-19 Stats - @guillaumerozier - data: worldometer'\n",
    "\n",
    "if show:\n",
    "    my_dboard.get_preview()"
   ]
  },
  {
   "cell_type": "code",
   "execution_count": 309,
   "metadata": {},
   "outputs": [],
   "source": [
    "import chart_studio.plotly as py\n",
    "\n",
    "#py.dashboard_ops.upload(my_dboard, 'COVID-19 Europe Dashboard', auto_open=False)"
   ]
  },
  {
   "cell_type": "markdown",
   "metadata": {},
   "source": [
    "### Total cases (world)"
   ]
  },
  {
   "cell_type": "code",
   "execution_count": 310,
   "metadata": {},
   "outputs": [
    {
     "data": {
      "text/plain": [
       "'\\nfig = go.Figure()\\n\\nlast_d = len(df_confirmed)\\n\\nfor col in df_confirmed.columns[2:]:\\n    fig.add_trace(go.Scatter(x=df_confirmed[\\'date\\'][-last_d:], y=df_confirmed[col][-last_d:],\\n                    mode=\\'lines+markers\\',\\n                    name=\\'{}\\'.format(col)))\\n\\nfig.update_layout(\\n    title=\"COVID-19 total cases over time\",\\n    xaxis_title=\"Time (day)\",\\n    yaxis_title=\"COVID-19 total confirmed cases\",\\n    annotations = [dict(xref=\\'paper\\',\\n        yref=\\'paper\\',\\n        x=0, y=1.1,\\n        showarrow=False,\\n        text =\\'Last update: {} ; Last data: {}\\'.format(today, df_confirmed[\\'date\\'].values[-1]))]\\n)\\nfig.update_xaxes(nticks = last_d)\\nplotly.offline.plot(fig, filename = \\'cases.html\\', auto_open=False)\\n#fig.write_image(\\'cases.png\\')\\nif upload:\\n    py.plot(fig, filename = \\'cases\\', auto_open=False)\\n    \\nif show:\\n    fig.show()\\n    \\nif export:\\n    fig.write_image(\"images/cases.png\", scale=8, width=1000, height=600)\\nprint(\"> graph 2 built\")\\n'"
      ]
     },
     "execution_count": 310,
     "metadata": {},
     "output_type": "execute_result"
    }
   ],
   "source": [
    "\"\"\"\n",
    "fig = go.Figure()\n",
    "\n",
    "last_d = len(df_confirmed)\n",
    "\n",
    "for col in df_confirmed.columns[2:]:\n",
    "    fig.add_trace(go.Scatter(x=df_confirmed['date'][-last_d:], y=df_confirmed[col][-last_d:],\n",
    "                    mode='lines+markers',\n",
    "                    name='{}'.format(col)))\n",
    "\n",
    "fig.update_layout(\n",
    "    title=\"COVID-19 total cases over time\",\n",
    "    xaxis_title=\"Time (day)\",\n",
    "    yaxis_title=\"COVID-19 total confirmed cases\",\n",
    "    annotations = [dict(xref='paper',\n",
    "        yref='paper',\n",
    "        x=0, y=1.1,\n",
    "        showarrow=False,\n",
    "        text ='Last update: {} ; Last data: {}'.format(today, df_confirmed['date'].values[-1]))]\n",
    ")\n",
    "fig.update_xaxes(nticks = last_d)\n",
    "plotly.offline.plot(fig, filename = 'cases.html', auto_open=False)\n",
    "#fig.write_image('cases.png')\n",
    "if upload:\n",
    "    py.plot(fig, filename = 'cases', auto_open=False)\n",
    "    \n",
    "if show:\n",
    "    fig.show()\n",
    "    \n",
    "if export:\n",
    "    fig.write_image(\"images/cases.png\", scale=8, width=1000, height=600)\n",
    "print(\"> graph 2 built\")\n",
    "\"\"\""
   ]
  }
 ],
 "metadata": {
  "kernelspec": {
   "display_name": "Python 3",
   "language": "python",
   "name": "python3"
  },
  "language_info": {
   "codemirror_mode": {
    "name": "ipython",
    "version": 3
   },
   "file_extension": ".py",
   "mimetype": "text/x-python",
   "name": "python",
   "nbconvert_exporter": "python",
   "pygments_lexer": "ipython3",
   "version": "3.7.4"
  }
 },
 "nbformat": 4,
 "nbformat_minor": 2
}
