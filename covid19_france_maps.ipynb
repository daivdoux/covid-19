{
 "cells": [
  {
   "cell_type": "markdown",
   "metadata": {},
   "source": [
    "# COVID-19 French Maps\n",
    "Guillaume Rozier, 2020"
   ]
  },
  {
   "cell_type": "code",
   "execution_count": 73,
   "metadata": {},
   "outputs": [
    {
     "data": {
      "text/plain": [
       "\"\\n\\nLICENSE MIT\\n2020\\nGuillaume Rozier\\nWebsite : http://www.guillaumerozier.fr\\nMail : guillaume.rozier@telecomnancy.net\\n\\nREADME:s\\nThis file contains script that generate France maps and GIFs. \\nSingle images are exported to folders in 'charts/image/france'. GIFs are exported to 'charts/image/france'.\\nI'm currently cleaning this file, please ask me is something is not clear enough!\\nRequirements: please see the imports below (use pip3 to install them).\\n\\n\""
      ]
     },
     "execution_count": 73,
     "metadata": {},
     "output_type": "execute_result"
    }
   ],
   "source": [
    "\"\"\"\n",
    "\n",
    "LICENSE MIT\n",
    "2020\n",
    "Guillaume Rozier\n",
    "Website : http://www.guillaumerozier.fr\n",
    "Mail : guillaume.rozier@telecomnancy.net\n",
    "\n",
    "README:s\n",
    "This file contains script that generate France maps and GIFs. \n",
    "Single images are exported to folders in 'charts/image/france'. GIFs are exported to 'charts/image/france'.\n",
    "I'm currently cleaning this file, please ask me is something is not clear enough!\n",
    "Requirements: please see the imports below (use pip3 to install them).\n",
    "\n",
    "\"\"\""
   ]
  },
  {
   "cell_type": "code",
   "execution_count": 74,
   "metadata": {},
   "outputs": [
    {
     "data": {
      "text/plain": [
       "'fr_FR.UTF-8'"
      ]
     },
     "execution_count": 74,
     "metadata": {},
     "output_type": "execute_result"
    }
   ],
   "source": [
    "import france_data_management as data\n",
    "import pandas as pd\n",
    "from tqdm import tqdm\n",
    "import json\n",
    "import plotly.express as px\n",
    "from datetime import datetime\n",
    "import imageio\n",
    "import multiprocessing\n",
    "import locale\n",
    "locale.setlocale(locale.LC_ALL, 'fr_FR.UTF-8')"
   ]
  },
  {
   "cell_type": "markdown",
   "metadata": {},
   "source": [
    "## Data import"
   ]
  },
  {
   "cell_type": "code",
   "execution_count": 75,
   "metadata": {},
   "outputs": [
    {
     "name": "stderr",
     "output_type": "stream",
     "text": [
      "10it [00:02,  4.25it/s]                      \n"
     ]
    }
   ],
   "source": [
    "# Import data from Santé publique France\n",
    "df, df_confirmed, dates, _, _ = data.import_data()"
   ]
  },
  {
   "cell_type": "code",
   "execution_count": 76,
   "metadata": {},
   "outputs": [],
   "source": [
    "# Download and import data from INSEE\n",
    "dict_insee = pd.read_excel('data/france/deces_quotidiens_departement.xlsx', header=[3], index_col=None, sheet_name=None, usecols='A:H', nrows=37)\n",
    "dict_insee.pop('France')\n",
    "dict_insee.pop('Documentation')\n",
    "\n",
    "for key in dict_insee:\n",
    "    dict_insee[key][\"dep\"] = [key for i in range(len(dict_insee[key]))]\n",
    "    \n",
    "df_insee = pd.concat(dict_insee)\n",
    "df_insee = df_insee.rename(columns={\"Ensemble des communes\": \"dc20\", \"Ensemble des communes.1\": \"dc19\", \"Ensemble des communes.2\": \"dc18\", \"Date d'événement\": \"jour\"})\n",
    "df_insee = df_insee.drop(columns=['Communes à envoi dématérialisé au 1er avril 2020 (1)', 'Communes à envoi dématérialisé au 1er avril 2020 (1)', 'Communes à envoi dématérialisé au 1er avril 2020 (1)', 'Unnamed: 7'])\n",
    "df_insee[\"moy1819\"] = (df_insee[\"dc19\"] + df_insee[\"dc20\"])/2\n",
    "df_insee[\"surmortalite20\"] = (df_insee[\"dc20\"] - df_insee[\"moy1819\"])/df_insee[\"moy1819\"]*100\n",
    "df_insee['jour'] = pd.to_datetime(df_insee['jour'])\n",
    "df_insee['jour'] = df_insee['jour'].dt.strftime('%Y-%m-%d')\n",
    "\n",
    "dates_insee = list(dict.fromkeys(list(df_insee.dropna()['jour'].values))) "
   ]
  },
  {
   "cell_type": "code",
   "execution_count": 77,
   "metadata": {},
   "outputs": [],
   "source": [
    "df_insee_france = df_insee.groupby('jour').sum().reset_index()\n",
    "df_insee_france[\"surmortalite20\"] = (df_insee_france[\"dc20\"] - df_insee_france[\"moy1819\"])/df_insee_france[\"moy1819\"]"
   ]
  },
  {
   "cell_type": "code",
   "execution_count": 78,
   "metadata": {},
   "outputs": [
    {
     "data": {
      "text/html": [
       "<div>\n",
       "<style scoped>\n",
       "    .dataframe tbody tr th:only-of-type {\n",
       "        vertical-align: middle;\n",
       "    }\n",
       "\n",
       "    .dataframe tbody tr th {\n",
       "        vertical-align: top;\n",
       "    }\n",
       "\n",
       "    .dataframe thead th {\n",
       "        text-align: right;\n",
       "    }\n",
       "</style>\n",
       "<table border=\"1\" class=\"dataframe\">\n",
       "  <thead>\n",
       "    <tr style=\"text-align: right;\">\n",
       "      <th></th>\n",
       "      <th>jour</th>\n",
       "      <th>dc20</th>\n",
       "      <th>Communes à envoi dématérialisé au 1er avril 2020 (1).1</th>\n",
       "      <th>dc19</th>\n",
       "      <th>Communes à envoi dématérialisé au 1er avril 2020 (1).2</th>\n",
       "      <th>dc18</th>\n",
       "      <th>moy1819</th>\n",
       "      <th>surmortalite20</th>\n",
       "    </tr>\n",
       "  </thead>\n",
       "  <tbody>\n",
       "    <tr>\n",
       "      <th>36</th>\n",
       "      <td>2020-04-06</td>\n",
       "      <td>76246</td>\n",
       "      <td>58137</td>\n",
       "      <td>63686</td>\n",
       "      <td>64591</td>\n",
       "      <td>71003</td>\n",
       "      <td>69966.0</td>\n",
       "      <td>0.089758</td>\n",
       "    </tr>\n",
       "  </tbody>\n",
       "</table>\n",
       "</div>"
      ],
      "text/plain": [
       "          jour   dc20  Communes à envoi dématérialisé au 1er avril 2020 (1).1  \\\n",
       "36  2020-04-06  76246                                              58137        \n",
       "\n",
       "     dc19  Communes à envoi dématérialisé au 1er avril 2020 (1).2   dc18  \\\n",
       "36  63686                                              64591       71003   \n",
       "\n",
       "    moy1819  surmortalite20  \n",
       "36  69966.0        0.089758  "
      ]
     },
     "execution_count": 78,
     "metadata": {},
     "output_type": "execute_result"
    }
   ],
   "source": [
    "df_insee_france[df_insee_france[\"jour\"] == \"2020-04-06\"]\n"
   ]
  },
  {
   "cell_type": "markdown",
   "metadata": {},
   "source": [
    "<br>\n",
    "<br>\n",
    "\n",
    "## Function definition"
   ]
  },
  {
   "cell_type": "code",
   "execution_count": 79,
   "metadata": {},
   "outputs": [],
   "source": [
    "with open('data/france/dep.geojson') as response:\n",
    "    depa = json.load(response)\n",
    "    \n",
    "def map_gif(dates, imgs_folder, df, type_ppl, legend_title, min_scale, max_scale, colorscale, subtitle):\n",
    "    i=1\n",
    "    for date in tqdm(dates):\n",
    "        if max_scale == -1:\n",
    "            max_scale = df[type_ppl].max()\n",
    "        df_map = pd.melt(df, id_vars=['jour','dep'], value_vars=[type_ppl])\n",
    "        df_map = df_map[df_map[\"jour\"] == date]\n",
    "\n",
    "        data={}\n",
    "        for dep in df_map[\"dep\"].values:\n",
    "            data[dep] = df_map[df_map[\"dep\"] == dep][\"value\"]\n",
    "\n",
    "        fig = px.choropleth(geojson=depa, \n",
    "                            locations=df_map['dep'], \n",
    "                            color=df_map['value'],\n",
    "                            color_continuous_scale = colorscale,\n",
    "                            range_color=(min_scale, max_scale),\n",
    "                            featureidkey=\"properties.code\",\n",
    "                            scope='europe',\n",
    "                            labels={'color':legend_title}\n",
    "                                  )\n",
    "        date_title = datetime.strptime(date, '%Y-%m-%d').strftime('%d %B')\n",
    "        \n",
    "        fig.update_geos(fitbounds=\"locations\", visible=False)\n",
    "        \n",
    "        var_hab = 'pour 100k. hab.'\n",
    "        pourcent = ''\n",
    "        \n",
    "        val_mean = round(df_map['value'].mean(), 1)\n",
    "        \n",
    "        n = len(dates)\n",
    "        progressbar = i * '█' + (n-i) * '░'\n",
    "        i += 1\n",
    "        \n",
    "        if type_ppl == 'surmortalite20':\n",
    "            var_hab = ''\n",
    "            pourcent = \" %\"\n",
    "            if val_mean < 0:\n",
    "                val_mean = \"– \" + str(abs(val_mean))\n",
    "            else:\n",
    "                val_mean = \"+ \" + str(val_mean)\n",
    "                \n",
    "        val_mean = str(val_mean).replace(\".\", \",\")\n",
    "        \n",
    "        fig.update_layout(\n",
    "            margin={\"r\":0,\"t\":0,\"l\":0,\"b\":0},\n",
    "            title={\n",
    "            'text': \"{}\".format(date_title),\n",
    "            'y':0.95,\n",
    "            'x':0.5,\n",
    "            'xanchor': 'center',\n",
    "            'yanchor': 'top'},\n",
    "            titlefont = dict(\n",
    "            size=30),\n",
    "            annotations = [\n",
    "                dict(\n",
    "                    x=0.54,\n",
    "                    y=0.08,\n",
    "                    xref='paper',\n",
    "                    yref='paper',\n",
    "                    xanchor = 'center',\n",
    "                    text='Source : INSEE. Auteur : @guillaumerozier.',\n",
    "                    showarrow = False\n",
    "                ),\n",
    "                dict(\n",
    "                    x=0.54,\n",
    "                    y=0.03,\n",
    "                    xref = 'paper',\n",
    "                    yref = 'paper',\n",
    "                    text = progressbar,\n",
    "                    xanchor = 'center',\n",
    "                    showarrow = False,\n",
    "                    font=dict(\n",
    "                        size=14\n",
    "                            )\n",
    "                ),\n",
    "                dict(\n",
    "                    x=0.07,\n",
    "                    y=0.47,\n",
    "                    xref='paper',\n",
    "                    yref='paper',\n",
    "                    xanchor='left',\n",
    "                    text='Moyenne France',\n",
    "                    showarrow = False,\n",
    "                    font=dict(\n",
    "                        size=14\n",
    "                            )\n",
    "                ),\n",
    "                dict(\n",
    "                    x=0.07,\n",
    "                    y=0.50,\n",
    "                    xref='paper',\n",
    "                    yref='paper',\n",
    "                    xanchor='left',\n",
    "                    text='{}{}'.format(val_mean, pourcent),\n",
    "                    showarrow = False,\n",
    "                    font=dict(\n",
    "                        size=25\n",
    "                            )\n",
    "                ),\n",
    "                \n",
    "                dict(\n",
    "                    x=0.07,\n",
    "                    y=0.45,\n",
    "                    xref='paper',\n",
    "                    yref='paper',\n",
    "                    xanchor='left',\n",
    "                    text = var_hab,\n",
    "                    showarrow = False,\n",
    "                    font=dict(\n",
    "                        size=14\n",
    "                            )\n",
    "                ),\n",
    "                dict(\n",
    "                    x=0.55,\n",
    "                    y=0.9,\n",
    "                    xref='paper',\n",
    "                    yref='paper',\n",
    "                    text=subtitle,\n",
    "                    showarrow = False,\n",
    "                    font=dict(\n",
    "                        size=20\n",
    "                            )\n",
    "                )]\n",
    "             ) \n",
    "        \n",
    "        fig.update_geos(\n",
    "            #center=dict(lon=-30, lat=-30),\n",
    "            projection_rotation=dict(lon=12, lat=30, roll=8),\n",
    "            #lataxis_range=[-50,20], lonaxis_range=[0, 200]\n",
    "        )\n",
    "        fig.write_image(imgs_folder.format(date), scale=1, width=900, height=700)\n",
    "\n",
    "\n",
    "def build_gif(file_gif, imgs_folder, dates):\n",
    "    i=0\n",
    "    with imageio.get_writer(file_gif, mode='I', duration=0.3) as writer: \n",
    "        for date in tqdm(dates):\n",
    "            image = imageio.imread(imgs_folder.format(date))\n",
    "            writer.append_data(image)\n",
    "            i+=1\n",
    "            if i==len(dates):\n",
    "                for k in range(4):\n",
    "                    writer.append_data(image)"
   ]
  },
  {
   "cell_type": "markdown",
   "metadata": {},
   "source": [
    "<br>\n",
    "\n",
    "<br>\n",
    "\n",
    "<br>\n",
    "\n",
    "<br>\n",
    "\n",
    "## Function calls"
   ]
  },
  {
   "cell_type": "code",
   "execution_count": 80,
   "metadata": {},
   "outputs": [],
   "source": [
    "def dep_map():\n",
    "    # GIF carte nb réanimations par habitant\n",
    "    imgs_folder = \"images/charts/france/dep-map-img/{}.png\"\n",
    "    sub = 'Nombre de <b>personnes en réanimation</b> <br>par habitant de chaque département.'\n",
    "    map_gif(dates, imgs_folder, df = df, type_ppl = \"rea_deppop\", legend_title=\"réan./100k hab\", min_scale = 0, max_scale=-1, colorscale =\"Reds\", subtitle=sub)\n",
    "    build_gif(file_gif = \"images/charts/france/dep-map.gif\", imgs_folder = \"images/charts/france/dep-map-img/{}.png\", dates=dates)"
   ]
  },
  {
   "cell_type": "code",
   "execution_count": 81,
   "metadata": {},
   "outputs": [],
   "source": [
    "def dep_map_dc_cum():\n",
    "    # GIF carte décès cumulés par habitant\n",
    "    imgs_folder = \"images/charts/france/dep-map-img-dc-cum/{}.png\"\n",
    "    sub = 'Nombre de <b>décès cumulés</b> <br>par habitant de chaque département.'\n",
    "    map_gif(dates[1:], imgs_folder, df = df, type_ppl = \"dc_deppop\", legend_title=\"décès/100k hab\", min_scale = 0, max_scale=-1, colorscale =\"Reds\", subtitle=sub)\n",
    "    build_gif(file_gif = \"images/charts/france/dep-map-dc-cum.gif\", imgs_folder = \"images/charts/france/dep-map-img-dc-cum/{}.png\", dates=dates[1:])"
   ]
  },
  {
   "cell_type": "code",
   "execution_count": 82,
   "metadata": {},
   "outputs": [],
   "source": [
    "def dep_map_dc_journ():\n",
    "    # GIF carte décès quotidiens \n",
    "    imgs_folder = \"images/charts/france/dep-map-img-dc-journ/{}.png\"\n",
    "    sub = 'Nombre de <b>décès quotidien</b> <br>par habitant de chaque département.'\n",
    "    map_gif(dates[1:], imgs_folder, df = df, type_ppl = \"dc_new_deppop\", legend_title=\"décès/100k hab\", min_scale = 0, max_scale=-1, colorscale =\"Reds\", subtitle=sub)\n",
    "    build_gif(file_gif = \"images/charts/france/dep-map-dc-journ.gif\", imgs_folder = \"images/charts/france/dep-map-img-dc-journ/{}.png\", dates=dates[1:])"
   ]
  },
  {
   "cell_type": "code",
   "execution_count": 83,
   "metadata": {},
   "outputs": [
    {
     "name": "stderr",
     "output_type": "stream",
     "text": [
      "100%|██████████| 33/33 [03:23<00:00,  6.16s/it]\n",
      "100%|██████████| 33/33 [00:03<00:00,  8.70it/s]\n",
      "100%|██████████| 32/32 [03:07<00:00,  5.87s/it]\n",
      "100%|██████████| 32/32 [00:04<00:00,  7.54it/s]\n",
      "100%|██████████| 32/32 [03:23<00:00,  6.36s/it]\n",
      "100%|██████████| 32/32 [00:03<00:00,  8.54it/s]\n"
     ]
    }
   ],
   "source": [
    "dep_map()\n",
    "dep_map_dc_cum()\n",
    "dep_map_dc_journ()"
   ]
  },
  {
   "cell_type": "code",
   "execution_count": 84,
   "metadata": {},
   "outputs": [
    {
     "data": {
      "text/plain": [
       "'p = multiprocessing.Process(target=bestfunction, args=(dep_map(), dep_map_dc_cum(), dep_map_dc_journ()))\\np.start()\\np.join()'"
      ]
     },
     "execution_count": 84,
     "metadata": {},
     "output_type": "execute_result"
    }
   ],
   "source": [
    "\"\"\"def bestfunction(unefonc):\n",
    "    unefonc()\n",
    "    time.sleep(5)\"\"\"\n",
    "    \n",
    "\"\"\"pool = multiprocessing.Pool(processes=4) \n",
    "pool.apply_async(bestfunction, [dep_map(), dep_map_dc_cum(), dep_map_dc_journ()])\"\"\"\n",
    "\n",
    "\"\"\"processes = []\n",
    "for i in (dep_map, dep_map_dc_cum, dep_map_dc_journ):\n",
    "    p = multiprocessing.Process(target = bestfunction, args=(i,))\n",
    "    processes.append(p)\n",
    "    p.start()\n",
    "\n",
    "for process in processes:\n",
    "    process.join()\n",
    "\"\"\"\n",
    "\n",
    "\"\"\"p = multiprocessing.Process(target=bestfunction, args=(dep_map(), dep_map_dc_cum(), dep_map_dc_journ()))\n",
    "p.start()\n",
    "p.join()\"\"\""
   ]
  },
  {
   "cell_type": "code",
   "execution_count": 85,
   "metadata": {},
   "outputs": [
    {
     "data": {
      "text/plain": [
       "'\\n# INSEE\\n# GIF mortalité par rapport à 2018 et 2019\\nimgs_folder = \"images/charts/france/dep-map-surmortalite-img/{}.png\"\\nppl = \"surmortalite20\"\\nsub = \\'Comparaison de la <b>mortalité journalière</b> entre 2020 <br>et les deux années précédentes.\\'\\nmap_gif(dates_insee, imgs_folder, df = df_insee.dropna(), type_ppl = ppl, legend_title=\"Sur-mortalité (%)\", min_scale=-50, max_scale=50, colorscale = [\"green\", \"white\", \"red\"], subtitle = sub)\\nbuild_gif(file_gif = \"images/charts/france/dep-map-surmortalite.gif\", imgs_folder = imgs_folder, dates=dates_insee)'"
      ]
     },
     "execution_count": 85,
     "metadata": {},
     "output_type": "execute_result"
    }
   ],
   "source": [
    "\"\"\"\n",
    "# INSEE\n",
    "# GIF mortalité par rapport à 2018 et 2019\n",
    "imgs_folder = \"images/charts/france/dep-map-surmortalite-img/{}.png\"\n",
    "ppl = \"surmortalite20\"\n",
    "sub = 'Comparaison de la <b>mortalité journalière</b> entre 2020 <br>et les deux années précédentes.'\n",
    "map_gif(dates_insee, imgs_folder, df = df_insee.dropna(), type_ppl = ppl, legend_title=\"Sur-mortalité (%)\", min_scale=-50, max_scale=50, colorscale = [\"green\", \"white\", \"red\"], subtitle = sub)\n",
    "build_gif(file_gif = \"images/charts/france/dep-map-surmortalite.gif\", imgs_folder = imgs_folder, dates=dates_insee)\"\"\""
   ]
  },
  {
   "cell_type": "code",
   "execution_count": 86,
   "metadata": {},
   "outputs": [
    {
     "data": {
      "text/plain": [
       "'# Line chart évolution de la mortalité\\n\\nimport plotly.graph_objects as go\\nimport plotly\\nfig = go.Figure()\\n\\nfig.add_trace(go.Scatter(\\n    x = df_insee_france[\"jour\"],\\n    y = df_insee_france[\"surmortalite20\"],\\n    name = \"Bilan autre hosp\",\\n    marker_color=\\'black\\',\\n    mode=\"lines+markers\",\\n    opacity=1\\n))\\n\\n\\n# Here we modify the tickangle of the xaxis, resulting in rotated labels.\\nfig.update_layout(\\n    legend_orientation=\"v\",\\n    barmode=\\'relative\\',\\n    title={\\n                \\'text\\': \"Variation de la <b>mortalité en mars 2020</b> par rapport à 2018 et 2019\",\\n                \\'y\\':0.95,\\n                \\'x\\':0.5,\\n                \\'xanchor\\': \\'center\\',\\n                \\'yanchor\\': \\'top\\'},\\n                titlefont = dict(\\n                size=20),\\n    xaxis=dict(\\n        title=\\'\\',\\n        tickformat=\\'%d/%m\\'),\\n    yaxis_title=\"Surmortalité (%)\",\\n    \\n    annotations = [\\n                dict(\\n                    x=0,\\n                    y=1.05,\\n                    xref=\\'paper\\',\\n                    yref=\\'paper\\',\\n                    text=\\'Date : {}. Source : INSEE et CSSE. Auteur : @guillaumerozier (Twitter).\\'.format(datetime.strptime(dates[-1], \\'%Y-%m-%d\\').strftime(\\'%d %B %Y\\')),                    showarrow = False\\n                )]\\n                 )\\n\\nfig.update_layout(\\n    yaxis = go.layout.YAxis(\\n        tickformat = \\'%\\'\\n    ),\\n    annotations = [\\n                dict(\\n                    x=0.5,\\n                    y=1.05,\\n                    xref=\\'paper\\',\\n                    yref=\\'paper\\',\\n                    xanchor=\\'center\\',\\n                    text=\\'\\',\\n                    showarrow = False\\n                )]\\n                 )\\n\\nname_fig = \"insee_surmortalite\"\\nfig.write_image(\"images/charts/france/{}.png\".format(name_fig), scale=2, width=1200, height=800)\\nplotly.offline.plot(fig, filename = \\'images/html_exports/france/{}.html\\'.format(name_fig), auto_open=False)\\nprint(\"> \" + name_fig)\\n\\nfig.show()'"
      ]
     },
     "execution_count": 86,
     "metadata": {},
     "output_type": "execute_result"
    }
   ],
   "source": [
    "\"\"\"# Line chart évolution de la mortalité\n",
    "\n",
    "import plotly.graph_objects as go\n",
    "import plotly\n",
    "fig = go.Figure()\n",
    "\n",
    "fig.add_trace(go.Scatter(\n",
    "    x = df_insee_france[\"jour\"],\n",
    "    y = df_insee_france[\"surmortalite20\"],\n",
    "    name = \"Bilan autre hosp\",\n",
    "    marker_color='black',\n",
    "    mode=\"lines+markers\",\n",
    "    opacity=1\n",
    "))\n",
    "\n",
    "\n",
    "# Here we modify the tickangle of the xaxis, resulting in rotated labels.\n",
    "fig.update_layout(\n",
    "    legend_orientation=\"v\",\n",
    "    barmode='relative',\n",
    "    title={\n",
    "                'text': \"Variation de la <b>mortalité en mars 2020</b> par rapport à 2018 et 2019\",\n",
    "                'y':0.95,\n",
    "                'x':0.5,\n",
    "                'xanchor': 'center',\n",
    "                'yanchor': 'top'},\n",
    "                titlefont = dict(\n",
    "                size=20),\n",
    "    xaxis=dict(\n",
    "        title='',\n",
    "        tickformat='%d/%m'),\n",
    "    yaxis_title=\"Surmortalité (%)\",\n",
    "    \n",
    "    annotations = [\n",
    "                dict(\n",
    "                    x=0,\n",
    "                    y=1.05,\n",
    "                    xref='paper',\n",
    "                    yref='paper',\n",
    "                    text='Date : {}. Source : INSEE et CSSE. Auteur : @guillaumerozier (Twitter).'.format(datetime.strptime(dates[-1], '%Y-%m-%d').strftime('%d %B %Y')),                    showarrow = False\n",
    "                )]\n",
    "                 )\n",
    "\n",
    "fig.update_layout(\n",
    "    yaxis = go.layout.YAxis(\n",
    "        tickformat = '%'\n",
    "    ),\n",
    "    annotations = [\n",
    "                dict(\n",
    "                    x=0.5,\n",
    "                    y=1.05,\n",
    "                    xref='paper',\n",
    "                    yref='paper',\n",
    "                    xanchor='center',\n",
    "                    text='',\n",
    "                    showarrow = False\n",
    "                )]\n",
    "                 )\n",
    "\n",
    "name_fig = \"insee_surmortalite\"\n",
    "fig.write_image(\"images/charts/france/{}.png\".format(name_fig), scale=2, width=1200, height=800)\n",
    "plotly.offline.plot(fig, filename = 'images/html_exports/france/{}.html'.format(name_fig), auto_open=False)\n",
    "print(\"> \" + name_fig)\n",
    "\n",
    "fig.show()\"\"\""
   ]
  }
 ],
 "metadata": {
  "kernelspec": {
   "display_name": "Python 3",
   "language": "python",
   "name": "python3"
  },
  "language_info": {
   "codemirror_mode": {
    "name": "ipython",
    "version": 3
   },
   "file_extension": ".py",
   "mimetype": "text/x-python",
   "name": "python",
   "nbconvert_exporter": "python",
   "pygments_lexer": "ipython3",
   "version": "3.7.4"
  }
 },
 "nbformat": 4,
 "nbformat_minor": 2
}
