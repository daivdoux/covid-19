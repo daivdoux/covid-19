{
 "cells": [
  {
   "cell_type": "code",
   "execution_count": 1,
   "metadata": {},
   "outputs": [
    {
     "data": {
      "text/plain": [
       "'\\n\\nLICENSE MIT\\n2020\\nGuillaume Rozier\\nWebsite : http://www.guillaumerozier.fr\\nMail : guillaume.rozier@telecomnancy.net\\n\\nThis file contains a script that automatically update data. In the morning it update World data, and it updates French data as soon as they are released by Santé publique France.\\n'"
      ]
     },
     "execution_count": 1,
     "metadata": {},
     "output_type": "execute_result"
    }
   ],
   "source": [
    "\"\"\"\n",
    "\n",
    "LICENSE MIT\n",
    "2020\n",
    "Guillaume Rozier\n",
    "Website : http://www.guillaumerozier.fr\n",
    "Mail : guillaume.rozier@telecomnancy.net\n",
    "\n",
    "README:\n",
    "This file contains a script that automatically update data. In the morning it update World data, and it updates French data as soon as they are released by Santé publique France.\n",
    "\"\"\""
   ]
  },
  {
   "cell_type": "code",
   "execution_count": 7,
   "metadata": {},
   "outputs": [
    {
     "name": "stdout",
     "output_type": "stream",
     "text": [
      "will enter loop\n"
     ]
    },
    {
     "ename": "KeyboardInterrupt",
     "evalue": "",
     "output_type": "error",
     "traceback": [
      "\u001b[0;31m---------------------------------------------------------------------------\u001b[0m",
      "\u001b[0;31mKeyboardInterrupt\u001b[0m                         Traceback (most recent call last)",
      "\u001b[0;32m<ipython-input-7-d03c9e78bb1b>\u001b[0m in \u001b[0;36m<module>\u001b[0;34m\u001b[0m\n\u001b[1;32m     84\u001b[0m             \u001b[0mk\u001b[0m \u001b[0;34m+=\u001b[0m \u001b[0;36m1\u001b[0m\u001b[0;34m\u001b[0m\u001b[0;34m\u001b[0m\u001b[0m\n\u001b[1;32m     85\u001b[0m \u001b[0;34m\u001b[0m\u001b[0m\n\u001b[0;32m---> 86\u001b[0;31m     \u001b[0mtime\u001b[0m\u001b[0;34m.\u001b[0m\u001b[0msleep\u001b[0m\u001b[0;34m(\u001b[0m\u001b[0;36m30\u001b[0m\u001b[0;34m)\u001b[0m\u001b[0;34m\u001b[0m\u001b[0;34m\u001b[0m\u001b[0m\n\u001b[0m",
      "\u001b[0;31mKeyboardInterrupt\u001b[0m: "
     ]
    }
   ],
   "source": [
    "import datetime\n",
    "import time\n",
    "import subprocess\n",
    "import requests\n",
    "\n",
    "### FUNCTION DEFINITIONS ###\n",
    "url_metadata = \"https://www.data.gouv.fr/fr/organizations/sante-publique-france/datasets-resources.csv\"\n",
    "\n",
    "def update_repo():\n",
    "    subprocess.run([\"sudo\", \"git\", \"fetch\", \"--all\"])\n",
    "    subprocess.run([\"sudo\", \"git\", \"reset\", \"--hard\", \"origin/master\"])\n",
    "    subprocess.run([\"sudo\", \"jupyter\", \"nbconvert\", \"--to\", \"script\", \"*.ipynb\"])\n",
    "    \n",
    "def push(type_data):\n",
    "    subprocess.run([\"sudo\", \"git\", \"add\", \"images/\", \"data/\"])\n",
    "    subprocess.run([\"sudo\", \"git\", \"commit\", \"-m\", \"[auto] data update: {}\".format(type_data)])\n",
    "    subprocess.run([\"git\", \"push\"])\n",
    "    print(\"pushed\")\n",
    "    \n",
    "def try_update_france():\n",
    "    metadata = requests.get(url_metadata)\n",
    "    data_today = False\n",
    "    \n",
    "    if \"donnees-hospitalieres-covid19-2020-{}-{}\".format(x.strftime(\"%m\"), x.strftime(\"%d\")) in str(metadata.content):\n",
    "        print(\"starting France update: {}:{}\".format(str(h), str(m)))\n",
    "        update_repo()\n",
    "\n",
    "        # Si la data actuelle correspond à celle du fichier\n",
    "        day_fr_update = d # Alors le fichier est à jour\n",
    "\n",
    "        # Mise à jour des graphiques\n",
    "        subprocess.run([\"sudo\", \"python3\", \"covid19_france_charts.py\"])\n",
    "        push(\"France\")\n",
    "        print(\"update France: \" + str(h) + \":\" + str(m))\n",
    "\n",
    "        subprocess.run([\"sudo\", \"python3\", \"covid19_france_maps.py\"])\n",
    "        push(\"France GIF\")\n",
    "        print(\"update France GIF: \" + str(h) + \":\" + str(m))\n",
    "    return day_fr_update\n",
    "\n",
    "    \n",
    "### MAIN FUNCTION ###\n",
    "x = datetime.datetime.now()\n",
    "data_today = False\n",
    "day_world_update = x.strftime(\"%D\")\n",
    "day_fr_update = x.strftime(\"%D\")\n",
    "k = 1\n",
    "print(\"will enter loop\")\n",
    "while True:\n",
    "    x = datetime.datetime.now()\n",
    "    h = x.strftime(\"%H\")\n",
    "    m = x.strftime(\"%M\")\n",
    "    d = x.strftime(\"%D\")\n",
    "    \n",
    "    \n",
    "    if (h == '04') & (day_world_update != d):\n",
    "        print(\"starting world update: {}:{}\".format(str(h), str(m)))\n",
    "        # S'il est 05h05\n",
    "        \n",
    "        day_world_update = d\n",
    "        \n",
    "        # mise à jour des graphiques world\n",
    "        update_repo()\n",
    "        subprocess.run([\"sudo\", \"python3\", \"covid19_world_charts.py\"])\n",
    "        push(\"World\")\n",
    "        print(\"update World pushed: \" + str(h) + \":\" + str(m))\n",
    "        \n",
    "        # ... et France (certains en dépendent)\n",
    "        subprocess.run([\"sudo\", \"python3\", \"covid19_france_charts.py\"])\n",
    "        push(\"France\")\n",
    "        print(\"update France pushed: \" + str(h) + \":\" + str(m))\n",
    "        time.sleep(30)\n",
    "        \n",
    "            \n",
    "    if ( day_fr_update != d ):\n",
    "        if (((float(h) == 18) & (float(m) >= 59)) or ((float(h) >= 19) & (float(h) <= 21))):\n",
    "            while ( (((float(h) == 18) & (float(m) >= 59)) or ((float(h) >= 19) & (float(h) <= 21))) ):\n",
    "                # Si l'heure comprise entre 18h59 et 21h59, ET les données PAS à jour\n",
    "                day_fr_update = try_update_france()\n",
    "                time.sleep(20)\n",
    "        else:\n",
    "            if (k%30 == 0): #Check 1 fois toutes les 20 sec * 30 (environ 10 min)\n",
    "                day_fr_update = try_update_france()\n",
    "            k += 1\n",
    "            \n",
    "    time.sleep(30)"
   ]
  },
  {
   "cell_type": "code",
   "execution_count": 6,
   "metadata": {},
   "outputs": [
    {
     "data": {
      "text/plain": [
       "0"
      ]
     },
     "execution_count": 6,
     "metadata": {},
     "output_type": "execute_result"
    }
   ],
   "source": []
  }
 ],
 "metadata": {
  "kernelspec": {
   "display_name": "Python 3",
   "language": "python",
   "name": "python3"
  },
  "language_info": {
   "codemirror_mode": {
    "name": "ipython",
    "version": 3
   },
   "file_extension": ".py",
   "mimetype": "text/x-python",
   "name": "python",
   "nbconvert_exporter": "python",
   "pygments_lexer": "ipython3",
   "version": "3.7.4"
  }
 },
 "nbformat": 4,
 "nbformat_minor": 2
}
