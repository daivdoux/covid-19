{
 "cells": [
  {
   "cell_type": "code",
   "execution_count": 1,
   "metadata": {},
   "outputs": [
    {
     "data": {
      "text/plain": [
       "'\\n\\nLICENSE MIT\\n2020\\nGuillaume Rozier\\nWebsite : http://www.guillaumerozier.fr\\nMail : guillaume.rozier@telecomnancy.net\\n\\nThis file contains a script that automatically update data. In the morning it update World data, and it updates French data as soon as they are released by Santé publique France.\\n'"
      ]
     },
     "execution_count": 1,
     "metadata": {},
     "output_type": "execute_result"
    }
   ],
   "source": [
    "\"\"\"\n",
    "\n",
    "LICENSE MIT\n",
    "2020\n",
    "Guillaume Rozier\n",
    "Website : http://www.guillaumerozier.fr\n",
    "Mail : guillaume.rozier@telecomnancy.net\n",
    "\n",
    "README:\n",
    "This file contains a script that automatically update data. In the morning it update World data, and it updates French data as soon as they are released by Santé publique France.\n",
    "\"\"\""
   ]
  },
  {
   "cell_type": "code",
   "execution_count": 56,
   "metadata": {},
   "outputs": [
    {
     "name": "stdout",
     "output_type": "stream",
     "text": [
      "will enter loop\n"
     ]
    },
    {
     "ename": "KeyboardInterrupt",
     "evalue": "",
     "output_type": "error",
     "traceback": [
      "\u001b[0;31m---------------------------------------------------------------------------\u001b[0m",
      "\u001b[0;31mKeyboardInterrupt\u001b[0m                         Traceback (most recent call last)",
      "\u001b[0;32m<ipython-input-56-87ed276011d9>\u001b[0m in \u001b[0;36m<module>\u001b[0;34m\u001b[0m\n\u001b[1;32m     81\u001b[0m             \u001b[0mk\u001b[0m \u001b[0;34m+=\u001b[0m \u001b[0;36m1\u001b[0m\u001b[0;34m\u001b[0m\u001b[0;34m\u001b[0m\u001b[0m\n\u001b[1;32m     82\u001b[0m \u001b[0;34m\u001b[0m\u001b[0m\n\u001b[0;32m---> 83\u001b[0;31m     \u001b[0mtime\u001b[0m\u001b[0;34m.\u001b[0m\u001b[0msleep\u001b[0m\u001b[0;34m(\u001b[0m\u001b[0;36m30\u001b[0m\u001b[0;34m)\u001b[0m\u001b[0;34m\u001b[0m\u001b[0;34m\u001b[0m\u001b[0m\n\u001b[0m",
      "\u001b[0;31mKeyboardInterrupt\u001b[0m: "
     ]
    }
   ],
   "source": [
    "import datetime\n",
    "import time\n",
    "import subprocess\n",
    "import requests\n",
    "import re\n",
    "\n",
    "### FUNCTION DEFINITIONS ###\n",
    "url_metadata = \"https://www.data.gouv.fr/fr/organizations/sante-publique-france/datasets-resources.csv\"\n",
    "metadata = requests.get(url_metadata)\n",
    "content = str(metadata.content)\n",
    "\n",
    "def update_repo():\n",
    "    subprocess.run([\"sudo\", \"git\", \"fetch\", \"--all\"])\n",
    "    subprocess.run([\"sudo\", \"git\", \"reset\", \"--hard\", \"origin/master\"])\n",
    "    subprocess.run([\"sudo\", \"jupyter\", \"nbconvert\", \"--to\", \"script\", \"*.ipynb\"])\n",
    "    \n",
    "def push(type_data):\n",
    "    subprocess.run([\"sudo\", \"git\", \"add\", \"images/\", \"data/\"])\n",
    "    subprocess.run([\"sudo\", \"git\", \"commit\", \"-m\", \"[auto] data update: {}\".format(type_data)])\n",
    "    subprocess.run([\"git\", \"push\"])\n",
    "    print(\"pushed\")\n",
    "    \n",
    "def try_update_france(time_re):\n",
    "    data_today = False\n",
    "    metadata = requests.get(url_metadata)\n",
    "    content = str(metadata.content)\n",
    "    \n",
    "    if (\"donnees-hospitalieres-covid19-2020-{}-{}\".format(x.strftime(\"%m\"), x.strftime(\"%d\")) in content):\n",
    "        print(\"starting France update: {}:{}\".format(str(now.hour), str(now.minute)))\n",
    "        update_repo()\n",
    "        \n",
    "        re_result = re.search(\"donnees-hospitalieres-nouveaux-covid19-2020-[0-9]{2}-[0-9]{2}-[0-9]{2}h[0-9]{2}.csv\", content)\n",
    "        time_re = re.match(\".*([0-9]{2})h([0-9]{2}).csv\", re_result[0])\n",
    "\n",
    "        # Si la data actuelle correspond à celle du fichier\n",
    "        fr_update = datetime.datetime.now() # Alors le fichier est à jour\n",
    "\n",
    "        # Mise à jour des graphiques\n",
    "        subprocess.run([\"sudo\", \"python3\", \"covid19_france_charts.py\"])\n",
    "        push(\"France\")\n",
    "        print(\"update France: \" + str(now.hour) + \":\" + str(now.minute))\n",
    "\n",
    "        subprocess.run([\"sudo\", \"python3\", \"covid19_france_maps.py\"])\n",
    "        push(\"France GIF\")\n",
    "        print(\"update France GIF: \" + str(now.hour) + \":\" + str(now.minute))\n",
    "    return fr_update, time_re\n",
    "\n",
    "    \n",
    "### MAIN FUNCTION ###\n",
    "x = datetime.datetime.now()\n",
    "fr_update = x\n",
    "world_update = x\n",
    "c = 0\n",
    "k = 1\n",
    "\n",
    "re_result = re.search(\"donnees-hospitalieres-nouveaux-covid19-[0-9]{4}-[0-9]{2}-[0-9]{2}-[0-9]{2}h[0-9]{2}.csv\", content)\n",
    "re_date = re.match(\".*2020-([0-9]{2})-([0-9]{2})-([0-9]{2})h([0-9]{2}).csv\", re_result[0])\n",
    "last_update_france = {'month' = re_date[1], 'day' = re_date[2], 'hour' = re_date[3], 'minute' = re_date[4]}\n",
    "current_update_france = last_update_france\n",
    "\n",
    "print(\"will enter loop\")\n",
    "while True:\n",
    "    \n",
    "    now = datetime.datetime.now() \n",
    "    \n",
    "    metadata = requests.get(url_metadata)\n",
    "    content = str(metadata.content)\n",
    "    re_result = re.search(\"donnees-hospitalieres-nouveaux-covid19-[0-9]{4}-[0-9]{2}-[0-9]{2}-[0-9]{2}h[0-9]{2}.csv\", content)\n",
    "    time_re = re.match(\".*([0-9]{2})h([0-9]{2}).csv\", re_result[0])\n",
    "    \n",
    "    if (now.hour >= 4) & (now.hour <= 7) & (world_update.day != now.day):\n",
    "        print(\"starting world update: {}:{}\".format(str(now.hour), str(now.minute)))\n",
    "        # S'il est 05h05\n",
    "        \n",
    "        world_update = now\n",
    "        \n",
    "        # mise à jour des graphiques world\n",
    "        update_repo()\n",
    "        subprocess.run([\"sudo\", \"python3\", \"covid19_world_charts.py\"])\n",
    "        push(\"World\")\n",
    "        print(\"update World pushed: \" + str(now.hour) + \":\" + str(now.minute))\n",
    "        \n",
    "        # ... et France (certains en dépendent)\n",
    "        subprocess.run([\"sudo\", \"python3\", \"covid19_france_charts.py\"])\n",
    "        push(\"France\")\n",
    "        print(\"update France pushed: \" + str(now.hour) + \":\" + str(now.minute))\n",
    "        time.sleep(30)\n",
    "        \n",
    "            \n",
    "\n",
    "    if ( (((now.hour == 18) & (now.minute >= 59)) or ((now.hour >= 19) & (now.hour<= 20))) ):\n",
    "        while ( (((now.hour == 18) & (now.minute >= 59)) or ((now.hour >= 19) & (now.hour<= 20))) & (last_update_france ) ):\n",
    "            # Si l'heure comprise entre 18h59 et 21h59, ET les données PAS à jour depuis plus de 2h30\n",
    "            fr_update, last_time_re = try_update_france(last_time_re)\n",
    "            time.sleep(20)\n",
    "            \n",
    "    else: # S'il n'est pas entre 18h59 et 21h59\n",
    "        if( (now - fr_update).seconds/3600 > 24): # S'il s'est écoulé plus de 24h depuis la dernière update\n",
    "            if (k%30 == 0): #Check 1 fois toutes les 20 sec * 30 (environ 10 min)\n",
    "                fr_update = try_update_france()\n",
    "            k += 1\n",
    "            \n",
    "    time.sleep(30)"
   ]
  },
  {
   "cell_type": "code",
   "execution_count": 89,
   "metadata": {},
   "outputs": [],
   "source": [
    "import re\n",
    "url_metadata = \"https://www.data.gouv.fr/fr/organizations/sante-publique-france/datasets-resources.csv\"\n",
    "metadata = requests.get(url_metadata)\n",
    "txt = metadata.content\n",
    "re_date = re.match(\".*2020-([0-9]{2})-([0-9]{2})-([0-9]{2})h([0-9]{2}).csv\", str(txt))"
   ]
  },
  {
   "cell_type": "code",
   "execution_count": 95,
   "metadata": {},
   "outputs": [
    {
     "data": {
      "text/plain": [
       "'47'"
      ]
     },
     "execution_count": 95,
     "metadata": {},
     "output_type": "execute_result"
    }
   ],
   "source": [
    "re_date[4]"
   ]
  },
  {
   "cell_type": "code",
   "execution_count": 85,
   "metadata": {},
   "outputs": [
    {
     "data": {
      "text/plain": [
       "'47'"
      ]
     },
     "execution_count": 85,
     "metadata": {},
     "output_type": "execute_result"
    }
   ],
   "source": [
    "\n",
    "\n",
    "m[2]"
   ]
  },
  {
   "cell_type": "code",
   "execution_count": 55,
   "metadata": {},
   "outputs": [
    {
     "data": {
      "text/plain": [
       "datetime.datetime(2033, 12, 24, 15, 16, 41, 950408)"
      ]
     },
     "execution_count": 55,
     "metadata": {},
     "output_type": "execute_result"
    }
   ],
   "source": [
    "x + datetime.timedelta(5000)"
   ]
  }
 ],
 "metadata": {
  "kernelspec": {
   "display_name": "Python 3",
   "language": "python",
   "name": "python3"
  },
  "language_info": {
   "codemirror_mode": {
    "name": "ipython",
    "version": 3
   },
   "file_extension": ".py",
   "mimetype": "text/x-python",
   "name": "python",
   "nbconvert_exporter": "python",
   "pygments_lexer": "ipython3",
   "version": "3.7.4"
  }
 },
 "nbformat": 4,
 "nbformat_minor": 2
}
