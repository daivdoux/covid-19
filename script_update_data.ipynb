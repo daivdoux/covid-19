{
 "cells": [
  {
   "cell_type": "code",
   "execution_count": 4,
   "metadata": {},
   "outputs": [
    {
     "data": {
      "text/plain": [
       "'10'"
      ]
     },
     "execution_count": 4,
     "metadata": {},
     "output_type": "execute_result"
    }
   ],
   "source": [
    "import datetime\n",
    "import time\n",
    "import subprocess\n",
    "\n",
    "def update_repo():\n",
    "    subprocess.run([\"git\", \"fetch\", \"--all\"])\n",
    "    subprocess.run([\"git\", \"reset\", \"--hard\", \"origin/master\"])\n",
    "    subprocess.run([\"sudo\", \"jupyter\", \"nbconvert\", \"--to\", \"script\", \"*.ipynb\"])\n",
    "    \n",
    "def push(type_data):\n",
    "    subprocess.run([\"git\", \"add\", \"images/\", \"data/\"])\n",
    "    subprocess.run([\"git\", \"commit\", \"-m\", \"[auto] data update: {}\".format(type_data)])\n",
    "    \n",
    "while True:\n",
    "    x = datetime.datetime.now()\n",
    "    h = x.strftime(\"%H\")\n",
    "    m = x.strftime(\"%M\")\n",
    "    \n",
    "    if h == '05' & m =='00':\n",
    "        update_repo()\n",
    "        subprocess.run([\"sudo\", \"python3\", \"covid19_world_charts.py\"])\n",
    "        subprocess.run([\"sudo\", \"python3\", \"covid19_france_charts.py\"])\n",
    "        push(\"World\")\n",
    "        time.sleep(30)\n",
    "        \n",
    "    if h == '19' & m == '05':\n",
    "        update_repo()\n",
    "        subprocess.run([\"sudo\", \"python3\", \"covid19_france_charts.py\"])\n",
    "        push(\"France\")\n",
    "        time.sleep(30)\n",
    "        \n",
    "    if h == '19' & m == '25':\n",
    "        update_repo()\n",
    "        subprocess.run([\"sudo\", \"python3\", \"covid19_france_charts.py\"])  \n",
    "        push(\"France\")\n",
    "        time.sleep(30)\n",
    "        \n",
    "    time.sleep(30)"
   ]
  }
 ],
 "metadata": {
  "kernelspec": {
   "display_name": "Python 3",
   "language": "python",
   "name": "python3"
  },
  "language_info": {
   "codemirror_mode": {
    "name": "ipython",
    "version": 3
   },
   "file_extension": ".py",
   "mimetype": "text/x-python",
   "name": "python",
   "nbconvert_exporter": "python",
   "pygments_lexer": "ipython3",
   "version": "3.7.4"
  }
 },
 "nbformat": 4,
 "nbformat_minor": 2
}
