{
 "cells": [
  {
   "cell_type": "code",
   "execution_count": 4,
   "metadata": {},
   "outputs": [
    {
     "data": {
      "text/plain": [
       "'10'"
      ]
     },
     "execution_count": 4,
     "metadata": {},
     "output_type": "execute_result"
    }
   ],
   "source": [
    "import datetime\n",
    "import time\n",
    "import subprocess\n",
    "import requests\n",
    "\n",
    "url_metadata = \"https://www.data.gouv.fr/fr/organizations/sante-publique-france/datasets-resources.csv\"\n",
    "\n",
    "def update_repo():\n",
    "    subprocess.run([\"sudo\", \"git\", \"fetch\", \"--all\"])\n",
    "    subprocess.run([\"sudo\", \"git\", \"reset\", \"--hard\", \"origin/master\"])\n",
    "    subprocess.run([\"sudo\", \"jupyter\", \"nbconvert\", \"--to\", \"script\", \"*.ipynb\"])\n",
    "    \n",
    "def push(type_data):\n",
    "    subprocess.run([\"sudo\", \"git\", \"add\", \"images/\", \"data/\"])\n",
    "    subprocess.run([\"sudo\", \"git\", \"commit\", \"-m\", \"[auto] data update: {}\".format(type_data)])\n",
    "    subprocess.run([\"git\", \"push\"])\n",
    "    print(\"pushed\")\n",
    "    \n",
    "while True:\n",
    "    x = datetime.datetime.now()\n",
    "    h = x.strftime(\"%H\")\n",
    "    m = x.strftime(\"%M\")\n",
    "    \n",
    "    if (h == '05') & (m =='00'):\n",
    "        update_repo()\n",
    "        subprocess.run([\"sudo\", \"python3\", \"covid19_world_charts.py\"])\n",
    "        subprocess.run([\"sudo\", \"python3\", \"covid19_france_charts.py\"])\n",
    "        push(\"World\")\n",
    "        print(\"update World\" + str(h) + \" \" + str(m))\n",
    "        time.sleep(30)\n",
    "    \n",
    "    if ((h == '18') & (m =='59')) or ((h == '19') & (m =='05')):\n",
    "        data_today = False\n",
    "        update_repo()\n",
    "            \n",
    "        while not data_today:\n",
    "            metadata = requests.get(url_metadata)\n",
    "\n",
    "            if \"donnees-hospitalieres-covid19-2020-{}-{}\".format(x.strftime(\"%m\"), x.strftime(\"%d\")) in str(metadata.content):\n",
    "                data_today = True\n",
    "                \n",
    "                subprocess.run([\"sudo\", \"python3\", \"covid19_france_charts.py\"])\n",
    "                push(\"France\")\n",
    "                print(\"update France\" + str(h) + \" \" + str(m))\n",
    "\n",
    "                subprocess.run([\"sudo\", \"python3\", \"covid19_france_maps.py\"])\n",
    "                push(\"France GIF\")\n",
    "                print(\"update France GIF\" + str(h) + \" \" + str(m))\n",
    "\n",
    "            time.sleep(20)\n",
    "            \n",
    "    time.sleep(30)"
   ]
  }
 ],
 "metadata": {
  "kernelspec": {
   "display_name": "Python 3",
   "language": "python",
   "name": "python3"
  },
  "language_info": {
   "codemirror_mode": {
    "name": "ipython",
    "version": 3
   },
   "file_extension": ".py",
   "mimetype": "text/x-python",
   "name": "python",
   "nbconvert_exporter": "python",
   "pygments_lexer": "ipython3",
   "version": "3.7.4"
  }
 },
 "nbformat": 4,
 "nbformat_minor": 2
}
