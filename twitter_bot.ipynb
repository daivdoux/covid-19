{
 "cells": [
  {
   "cell_type": "code",
   "execution_count": 1,
   "metadata": {},
   "outputs": [
    {
     "ename": "ModuleNotFoundError",
     "evalue": "No module named 'tweepy'",
     "output_type": "error",
     "traceback": [
      "\u001b[0;31m---------------------------------------------------------------------------\u001b[0m",
      "\u001b[0;31mModuleNotFoundError\u001b[0m                       Traceback (most recent call last)",
      "\u001b[0;32m<ipython-input-1-610bc3c0b032>\u001b[0m in \u001b[0;36m<module>\u001b[0;34m\u001b[0m\n\u001b[1;32m      1\u001b[0m \u001b[0;31m# importing the module\u001b[0m\u001b[0;34m\u001b[0m\u001b[0;34m\u001b[0m\u001b[0;34m\u001b[0m\u001b[0m\n\u001b[0;32m----> 2\u001b[0;31m \u001b[0;32mimport\u001b[0m \u001b[0mtweepy\u001b[0m\u001b[0;34m\u001b[0m\u001b[0;34m\u001b[0m\u001b[0m\n\u001b[0m\u001b[1;32m      3\u001b[0m \u001b[0;32mimport\u001b[0m \u001b[0msecrets\u001b[0m\u001b[0;34m\u001b[0m\u001b[0;34m\u001b[0m\u001b[0m\n\u001b[1;32m      4\u001b[0m \u001b[0mprint\u001b[0m\u001b[0;34m(\u001b[0m\u001b[0mconsumer_key\u001b[0m\u001b[0;34m)\u001b[0m\u001b[0;34m\u001b[0m\u001b[0;34m\u001b[0m\u001b[0m\n\u001b[1;32m      5\u001b[0m \u001b[0;34m\u001b[0m\u001b[0m\n",
      "\u001b[0;31mModuleNotFoundError\u001b[0m: No module named 'tweepy'"
     ]
    }
   ],
   "source": [
    "# Guillaume Rozier - 2020 - MIT License\n",
    "# This script will automatically tweet new data and graphes on the account @covidtracker_fr\n",
    "\n",
    "# importing the module \n",
    "try:\n",
    "    import tweepy\n",
    "except ImportError as e:\n",
    "    !sudo pip3 install tweepy\n",
    "\n",
    "import secrets as s\n",
    "\n",
    "\"\"\"\n",
    "Secrets :\n",
    "    consumer_key =\"xxxxxxxxxxxxxxxx\"\n",
    "    consumer_secret =\"xxxxxxxxxxxxxxxx\"\n",
    "    access_token =\"xxxxxxxxxxxxxxxx\"\n",
    "    access_token_secret =\"xxxxxxxxxxxxxxxx\"\n",
    "\"\"\"\n",
    "\n",
    "# authentication \n",
    "auth = tweepy.OAuthHandler(s.consumer_key, s.consumer_secret) \n",
    "auth.set_access_token(s.access_token, s.access_token_secret) \n",
    "   \n",
    "api = tweepy.API(auth) \n",
    "tweet =\"🔴 #Coronavirus #France\\n{} pers. décédées en milieu hosp.\\n{} pers. en réanimation\\n{} pers. en hosp. (hors réa.)\\n{} pers. retournées à domicile\\n + d'infos guillaumerozier.fr/covidtracker-france\".format(dc, rea, hosp, rad) # toDo \n",
    "image_path =\"charts/images/france/var_journ.png\"\n",
    "  \n",
    "# to attach the media file \n",
    "status = api.update_with_media(image_path, tweet)  \n",
    "api.update_status(status = tweet) "
   ]
  }
 ],
 "metadata": {
  "kernelspec": {
   "display_name": "Python 3",
   "language": "python",
   "name": "python3"
  },
  "language_info": {
   "codemirror_mode": {
    "name": "ipython",
    "version": 3
   },
   "file_extension": ".py",
   "mimetype": "text/x-python",
   "name": "python",
   "nbconvert_exporter": "python",
   "pygments_lexer": "ipython3",
   "version": "3.7.4"
  }
 },
 "nbformat": 4,
 "nbformat_minor": 2
}
