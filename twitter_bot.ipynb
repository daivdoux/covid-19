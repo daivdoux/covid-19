{
 "cells": [
  {
   "cell_type": "code",
   "execution_count": null,
   "metadata": {},
   "outputs": [],
   "source": [
    "# importing the module \n",
    "import tweepy \n",
    "  \n",
    "# personal information \n",
    "consumer_key =\"xxxxxxxxxxxxxxxx\"\n",
    "consumer_secret =\"xxxxxxxxxxxxxxxx\"\n",
    "access_token =\"xxxxxxxxxxxxxxxx\"\n",
    "access_token_secret =\"xxxxxxxxxxxxxxxx\"\n",
    "  \n",
    "# authentication \n",
    "auth = tweepy.OAuthHandler(consumer_key, consumer_secret) \n",
    "auth.set_access_token(access_token, access_token_secret) \n",
    "   \n",
    "api = tweepy.API(auth) \n",
    "tweet =\"🔴 #Coronavirus #France\\n{} pers. décédées en milieu hosp.\\n{} pers. en réanimation\\n{} pers. en hosp. (hors réa.)\\n{} pers. retournées à domicile\\n + d'infos guillaumerozier.fr/covidtracker-france\".format(dc, rea, hosp, rad) # toDo \n",
    "image_path =\"charts/images/france/.png\" # toDo \n",
    "  \n",
    "# to attach the media file \n",
    "status = api.update_with_media(image_path, tweet)  \n",
    "api.update_status(status = tweet) "
   ]
  }
 ],
 "metadata": {
  "kernelspec": {
   "display_name": "Python 3",
   "language": "python",
   "name": "python3"
  },
  "language_info": {
   "codemirror_mode": {
    "name": "ipython",
    "version": 3
   },
   "file_extension": ".py",
   "mimetype": "text/x-python",
   "name": "python",
   "nbconvert_exporter": "python",
   "pygments_lexer": "ipython3",
   "version": "3.7.4"
  }
 },
 "nbformat": 4,
 "nbformat_minor": 2
}
