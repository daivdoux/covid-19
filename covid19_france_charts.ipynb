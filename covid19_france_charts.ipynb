{
 "cells": [
  {
   "cell_type": "code",
   "execution_count": 232,
   "metadata": {},
   "outputs": [],
   "source": [
    "\n",
    "from multiprocessing import Pool\n",
    "import requests\n",
    "import pandas as pd\n",
    "import plotly.graph_objects as go\n",
    "import plotly.express as px\n",
    "import plotly\n",
    "from plotly.subplots import make_subplots\n",
    "from datetime import datetime\n",
    "from tqdm import tqdm\n",
    "import imageio\n",
    "import json\n",
    "\n",
    "import locale\n",
    "locale.setlocale(locale.LC_ALL, 'fr_FR.UTF-8')\n",
    "\n",
    "colors = px.colors.qualitative.D3 + px.colors.qualitative.Dark24 + plotly.colors.DEFAULT_PLOTLY_COLORS + px.colors.qualitative.Plotly + px.colors.qualitative.Alphabet"
   ]
  },
  {
   "cell_type": "code",
   "execution_count": 258,
   "metadata": {},
   "outputs": [],
   "source": [
    "show_charts = True"
   ]
  },
  {
   "cell_type": "code",
   "execution_count": 234,
   "metadata": {},
   "outputs": [
    {
     "name": "stderr",
     "output_type": "stream",
     "text": [
      "36it [00:01, 18.64it/s]                      \n"
     ]
    }
   ],
   "source": [
    "def download_data():\n",
    "    pbar = tqdm(total=8)\n",
    "    url_metadata = \"https://www.data.gouv.fr/fr/organizations/sante-publique-france/datasets-resources.csv\"\n",
    "    url_geojson = \"https://raw.githubusercontent.com/gregoiredavid/france-geojson/master/departements.geojson\"\n",
    "    pbar.update(1)\n",
    "    metadata = requests.get(url_metadata)\n",
    "    pbar.update(2)\n",
    "    geojson = requests.get(url_geojson)\n",
    "    pbar.update(3)\n",
    "    with open('data/france/metadata.csv', 'wb') as f:\n",
    "        f.write(metadata.content)\n",
    "    pbar.update(4)\n",
    "    with open('data/france/dep.geojson', 'wb') as f:\n",
    "        f.write(geojson.content)\n",
    "    pbar.update(5)\n",
    "    df_metadata = pd.read_csv('data/france/metadata.csv', sep=\";\")\n",
    "    url_data = df_metadata[df_metadata['url'].str.contains(\"/donnees-hospitalieres-covid19\")][\"url\"].values[0]\n",
    "    pbar.update(6)\n",
    "    data = requests.get(url_data)\n",
    "    pbar.update(7)\n",
    "    with open('data/france/donnes-hospitalieres-covid19.csv', 'wb') as f:\n",
    "        f.write(data.content)\n",
    "    pbar.update(8)\n",
    "\n",
    "download_data()"
   ]
  },
  {
   "cell_type": "code",
   "execution_count": 235,
   "metadata": {},
   "outputs": [
    {
     "name": "stderr",
     "output_type": "stream",
     "text": [
      "10it [00:02,  4.51it/s]              \n"
     ]
    }
   ],
   "source": [
    "def import_data():\n",
    "    \n",
    "    pbar = tqdm(total=4)\n",
    "    pbar.update(1)\n",
    "    df = pd.read_csv('data/france/donnes-hospitalieres-covid19.csv', sep=\";\")\n",
    "    df_regions = pd.read_csv('data/france/departments_regions_france_2016.csv', sep=\",\")\n",
    "    df_reg_pop = pd.read_csv('data/france/population_regions.csv', sep=\",\")\n",
    "    df_dep_pop = pd.read_csv('data/france/dep-pop.csv', sep=\";\")\n",
    "    \n",
    "    df = df.merge(df_regions, left_on='dep', right_on='departmentCode')\n",
    "    df = df.merge(df_reg_pop, left_on='regionName', right_on='regionName')\n",
    "    df = df.merge(df_dep_pop, left_on='dep', right_on='dep')\n",
    "    #df_geojson = pd.read_csv('data/france/dep.geojson)\n",
    "    df = df[df[\"sexe\"] == 0]\n",
    "    df['hosp_nonrea'] = df['hosp'] - df['rea']\n",
    "    pbar.update(2)\n",
    "    \n",
    "    df['rea_pop'] = df['rea']/df['regionPopulation']*100000\n",
    "    df['rea_deppop'] = df['rea']/df['departmentPopulation']*100000\n",
    "    \n",
    "    df['rad_pop'] = df['rad']/df['regionPopulation']*100000\n",
    "    \n",
    "    df['dc_pop'] = df['dc']/df['regionPopulation']*100000\n",
    "    df['dc_deppop'] = df['dc']/df['departmentPopulation']*100000\n",
    "    \n",
    "    df['hosp_pop'] = df['hosp']/df['regionPopulation']*100000\n",
    "    df['hosp_nonrea_pop'] = df['hosp_nonrea']/df['regionPopulation']*100000\n",
    "    pbar.update(3)\n",
    "    df_confirmed = pd.read_csv('data/data_confirmed.csv')\n",
    "    pbar.update(4)\n",
    "    \n",
    "    deps = list(dict.fromkeys(list(df['departmentCode'].values))) \n",
    "    for d in deps:\n",
    "        for col in [\"dc\", \"rad\", \"rea\", \"hosp_nonrea\", \"hosp\"]:\n",
    "            vals = df[df[\"dep\"] == d][col].diff()\n",
    "            df.loc[vals.index,col+\"_new\"] = vals\n",
    "            df.loc[vals.index,col+\"_new_deppop\"] = vals / df.loc[vals.index,\"departmentPopulation\"]*100000\n",
    "    dates = list(dict.fromkeys(list(df['jour'].values))) \n",
    "    \n",
    "    return df, df_confirmed, dates\n",
    "\n",
    "df, df_confirmed, dates = import_data()\n",
    "\n",
    "df_region = df.groupby(['regionName', 'jour']).sum().reset_index()\n",
    "\n",
    "#df.dtypes"
   ]
  },
  {
   "cell_type": "markdown",
   "metadata": {},
   "source": [
    "<br>\n",
    "<br>\n",
    "<br>\n",
    "<br>\n",
    "\n",
    "## Line charts"
   ]
  },
  {
   "cell_type": "code",
   "execution_count": 264,
   "metadata": {},
   "outputs": [
    {
     "data": {
      "text/html": [
       "<div>\n",
       "<style scoped>\n",
       "    .dataframe tbody tr th:only-of-type {\n",
       "        vertical-align: middle;\n",
       "    }\n",
       "\n",
       "    .dataframe tbody tr th {\n",
       "        vertical-align: top;\n",
       "    }\n",
       "\n",
       "    .dataframe thead th {\n",
       "        text-align: right;\n",
       "    }\n",
       "</style>\n",
       "<table border=\"1\" class=\"dataframe\">\n",
       "  <thead>\n",
       "    <tr style=\"text-align: right;\">\n",
       "      <th></th>\n",
       "      <th>jour</th>\n",
       "      <th>sexe</th>\n",
       "      <th>hosp</th>\n",
       "      <th>rea</th>\n",
       "      <th>rad</th>\n",
       "      <th>dc</th>\n",
       "      <th>regionCode</th>\n",
       "      <th>regionPopulation</th>\n",
       "      <th>departmentPopulation</th>\n",
       "      <th>hosp_nonrea</th>\n",
       "      <th>...</th>\n",
       "      <th>dc_new</th>\n",
       "      <th>dc_new_deppop</th>\n",
       "      <th>rad_new</th>\n",
       "      <th>rad_new_deppop</th>\n",
       "      <th>rea_new</th>\n",
       "      <th>rea_new_deppop</th>\n",
       "      <th>hosp_nonrea_new</th>\n",
       "      <th>hosp_nonrea_new_deppop</th>\n",
       "      <th>hosp_new</th>\n",
       "      <th>hosp_new_deppop</th>\n",
       "    </tr>\n",
       "  </thead>\n",
       "  <tbody>\n",
       "    <tr>\n",
       "      <th>0</th>\n",
       "      <td>2020-03-18</td>\n",
       "      <td>0</td>\n",
       "      <td>2972</td>\n",
       "      <td>771</td>\n",
       "      <td>816</td>\n",
       "      <td>218</td>\n",
       "      <td>5312.0</td>\n",
       "      <td>283050263</td>\n",
       "      <td>67609086</td>\n",
       "      <td>2201</td>\n",
       "      <td>...</td>\n",
       "      <td>0.0</td>\n",
       "      <td>0.000000</td>\n",
       "      <td>0.0</td>\n",
       "      <td>0.000000</td>\n",
       "      <td>0.0</td>\n",
       "      <td>0.000000</td>\n",
       "      <td>0.0</td>\n",
       "      <td>0.000000</td>\n",
       "      <td>0.0</td>\n",
       "      <td>0.000000</td>\n",
       "    </tr>\n",
       "    <tr>\n",
       "      <th>1</th>\n",
       "      <td>2020-03-19</td>\n",
       "      <td>0</td>\n",
       "      <td>4073</td>\n",
       "      <td>1002</td>\n",
       "      <td>1180</td>\n",
       "      <td>327</td>\n",
       "      <td>5312.0</td>\n",
       "      <td>283050263</td>\n",
       "      <td>67609086</td>\n",
       "      <td>3071</td>\n",
       "      <td>...</td>\n",
       "      <td>109.0</td>\n",
       "      <td>15.396317</td>\n",
       "      <td>364.0</td>\n",
       "      <td>40.116786</td>\n",
       "      <td>231.0</td>\n",
       "      <td>23.731770</td>\n",
       "      <td>870.0</td>\n",
       "      <td>95.763670</td>\n",
       "      <td>1101.0</td>\n",
       "      <td>119.495440</td>\n",
       "    </tr>\n",
       "    <tr>\n",
       "      <th>2</th>\n",
       "      <td>2020-03-20</td>\n",
       "      <td>0</td>\n",
       "      <td>5226</td>\n",
       "      <td>1297</td>\n",
       "      <td>1587</td>\n",
       "      <td>450</td>\n",
       "      <td>5312.0</td>\n",
       "      <td>283050263</td>\n",
       "      <td>67609086</td>\n",
       "      <td>3929</td>\n",
       "      <td>...</td>\n",
       "      <td>123.0</td>\n",
       "      <td>16.731911</td>\n",
       "      <td>407.0</td>\n",
       "      <td>61.227981</td>\n",
       "      <td>295.0</td>\n",
       "      <td>39.519653</td>\n",
       "      <td>858.0</td>\n",
       "      <td>135.117708</td>\n",
       "      <td>1153.0</td>\n",
       "      <td>174.637361</td>\n",
       "    </tr>\n",
       "    <tr>\n",
       "      <th>3</th>\n",
       "      <td>2020-03-21</td>\n",
       "      <td>0</td>\n",
       "      <td>5900</td>\n",
       "      <td>1453</td>\n",
       "      <td>1811</td>\n",
       "      <td>525</td>\n",
       "      <td>5312.0</td>\n",
       "      <td>283050263</td>\n",
       "      <td>67609086</td>\n",
       "      <td>4447</td>\n",
       "      <td>...</td>\n",
       "      <td>75.0</td>\n",
       "      <td>10.289300</td>\n",
       "      <td>224.0</td>\n",
       "      <td>27.720374</td>\n",
       "      <td>156.0</td>\n",
       "      <td>16.336047</td>\n",
       "      <td>518.0</td>\n",
       "      <td>66.450492</td>\n",
       "      <td>674.0</td>\n",
       "      <td>82.786539</td>\n",
       "    </tr>\n",
       "    <tr>\n",
       "      <th>4</th>\n",
       "      <td>2020-03-22</td>\n",
       "      <td>0</td>\n",
       "      <td>6954</td>\n",
       "      <td>1674</td>\n",
       "      <td>2117</td>\n",
       "      <td>632</td>\n",
       "      <td>5312.0</td>\n",
       "      <td>283050263</td>\n",
       "      <td>67609086</td>\n",
       "      <td>5280</td>\n",
       "      <td>...</td>\n",
       "      <td>107.0</td>\n",
       "      <td>18.350434</td>\n",
       "      <td>306.0</td>\n",
       "      <td>53.126913</td>\n",
       "      <td>221.0</td>\n",
       "      <td>24.985433</td>\n",
       "      <td>833.0</td>\n",
       "      <td>93.564924</td>\n",
       "      <td>1054.0</td>\n",
       "      <td>118.550358</td>\n",
       "    </tr>\n",
       "    <tr>\n",
       "      <th>5</th>\n",
       "      <td>2020-03-23</td>\n",
       "      <td>0</td>\n",
       "      <td>8673</td>\n",
       "      <td>2080</td>\n",
       "      <td>2567</td>\n",
       "      <td>860</td>\n",
       "      <td>5312.0</td>\n",
       "      <td>283050263</td>\n",
       "      <td>67609086</td>\n",
       "      <td>6593</td>\n",
       "      <td>...</td>\n",
       "      <td>228.0</td>\n",
       "      <td>34.298674</td>\n",
       "      <td>450.0</td>\n",
       "      <td>58.653930</td>\n",
       "      <td>406.0</td>\n",
       "      <td>45.526578</td>\n",
       "      <td>1313.0</td>\n",
       "      <td>162.335152</td>\n",
       "      <td>1719.0</td>\n",
       "      <td>207.861730</td>\n",
       "    </tr>\n",
       "    <tr>\n",
       "      <th>6</th>\n",
       "      <td>2020-03-24</td>\n",
       "      <td>0</td>\n",
       "      <td>10163</td>\n",
       "      <td>2503</td>\n",
       "      <td>3281</td>\n",
       "      <td>1100</td>\n",
       "      <td>5312.0</td>\n",
       "      <td>283050263</td>\n",
       "      <td>67609086</td>\n",
       "      <td>7660</td>\n",
       "      <td>...</td>\n",
       "      <td>240.0</td>\n",
       "      <td>32.410663</td>\n",
       "      <td>714.0</td>\n",
       "      <td>97.479238</td>\n",
       "      <td>423.0</td>\n",
       "      <td>45.987598</td>\n",
       "      <td>1067.0</td>\n",
       "      <td>129.642993</td>\n",
       "      <td>1490.0</td>\n",
       "      <td>175.630590</td>\n",
       "    </tr>\n",
       "    <tr>\n",
       "      <th>7</th>\n",
       "      <td>2020-03-25</td>\n",
       "      <td>0</td>\n",
       "      <td>12072</td>\n",
       "      <td>2935</td>\n",
       "      <td>4085</td>\n",
       "      <td>1388</td>\n",
       "      <td>5312.0</td>\n",
       "      <td>283050263</td>\n",
       "      <td>67609086</td>\n",
       "      <td>9137</td>\n",
       "      <td>...</td>\n",
       "      <td>288.0</td>\n",
       "      <td>40.367896</td>\n",
       "      <td>804.0</td>\n",
       "      <td>110.570149</td>\n",
       "      <td>432.0</td>\n",
       "      <td>54.647046</td>\n",
       "      <td>1477.0</td>\n",
       "      <td>186.628353</td>\n",
       "      <td>1909.0</td>\n",
       "      <td>241.275399</td>\n",
       "    </tr>\n",
       "    <tr>\n",
       "      <th>8</th>\n",
       "      <td>2020-03-26</td>\n",
       "      <td>0</td>\n",
       "      <td>13879</td>\n",
       "      <td>3351</td>\n",
       "      <td>4947</td>\n",
       "      <td>1696</td>\n",
       "      <td>5312.0</td>\n",
       "      <td>283050263</td>\n",
       "      <td>67609086</td>\n",
       "      <td>10528</td>\n",
       "      <td>...</td>\n",
       "      <td>308.0</td>\n",
       "      <td>39.785457</td>\n",
       "      <td>862.0</td>\n",
       "      <td>111.321907</td>\n",
       "      <td>416.0</td>\n",
       "      <td>54.320334</td>\n",
       "      <td>1391.0</td>\n",
       "      <td>158.384489</td>\n",
       "      <td>1807.0</td>\n",
       "      <td>212.704823</td>\n",
       "    </tr>\n",
       "    <tr>\n",
       "      <th>9</th>\n",
       "      <td>2020-03-27</td>\n",
       "      <td>0</td>\n",
       "      <td>15701</td>\n",
       "      <td>3758</td>\n",
       "      <td>5698</td>\n",
       "      <td>1995</td>\n",
       "      <td>5312.0</td>\n",
       "      <td>283050263</td>\n",
       "      <td>67609086</td>\n",
       "      <td>11943</td>\n",
       "      <td>...</td>\n",
       "      <td>299.0</td>\n",
       "      <td>36.416831</td>\n",
       "      <td>751.0</td>\n",
       "      <td>89.493647</td>\n",
       "      <td>407.0</td>\n",
       "      <td>46.058376</td>\n",
       "      <td>1415.0</td>\n",
       "      <td>171.204902</td>\n",
       "      <td>1822.0</td>\n",
       "      <td>217.263278</td>\n",
       "    </tr>\n",
       "    <tr>\n",
       "      <th>10</th>\n",
       "      <td>2020-03-28</td>\n",
       "      <td>0</td>\n",
       "      <td>17580</td>\n",
       "      <td>4236</td>\n",
       "      <td>6624</td>\n",
       "      <td>2314</td>\n",
       "      <td>5312.0</td>\n",
       "      <td>283050263</td>\n",
       "      <td>67609086</td>\n",
       "      <td>13344</td>\n",
       "      <td>...</td>\n",
       "      <td>319.0</td>\n",
       "      <td>36.915085</td>\n",
       "      <td>926.0</td>\n",
       "      <td>111.808371</td>\n",
       "      <td>478.0</td>\n",
       "      <td>51.364144</td>\n",
       "      <td>1401.0</td>\n",
       "      <td>159.166076</td>\n",
       "      <td>1879.0</td>\n",
       "      <td>210.530220</td>\n",
       "    </tr>\n",
       "    <tr>\n",
       "      <th>11</th>\n",
       "      <td>2020-03-29</td>\n",
       "      <td>0</td>\n",
       "      <td>19311</td>\n",
       "      <td>4592</td>\n",
       "      <td>7131</td>\n",
       "      <td>2606</td>\n",
       "      <td>5312.0</td>\n",
       "      <td>283050263</td>\n",
       "      <td>67609086</td>\n",
       "      <td>14719</td>\n",
       "      <td>...</td>\n",
       "      <td>292.0</td>\n",
       "      <td>33.540852</td>\n",
       "      <td>507.0</td>\n",
       "      <td>64.205188</td>\n",
       "      <td>356.0</td>\n",
       "      <td>42.307977</td>\n",
       "      <td>1375.0</td>\n",
       "      <td>148.372559</td>\n",
       "      <td>1731.0</td>\n",
       "      <td>190.680536</td>\n",
       "    </tr>\n",
       "    <tr>\n",
       "      <th>12</th>\n",
       "      <td>2020-03-30</td>\n",
       "      <td>0</td>\n",
       "      <td>20946</td>\n",
       "      <td>5056</td>\n",
       "      <td>7923</td>\n",
       "      <td>3024</td>\n",
       "      <td>5312.0</td>\n",
       "      <td>283050263</td>\n",
       "      <td>67609086</td>\n",
       "      <td>15890</td>\n",
       "      <td>...</td>\n",
       "      <td>418.0</td>\n",
       "      <td>54.075178</td>\n",
       "      <td>792.0</td>\n",
       "      <td>114.254881</td>\n",
       "      <td>464.0</td>\n",
       "      <td>50.219610</td>\n",
       "      <td>1171.0</td>\n",
       "      <td>137.643224</td>\n",
       "      <td>1635.0</td>\n",
       "      <td>187.862834</td>\n",
       "    </tr>\n",
       "    <tr>\n",
       "      <th>13</th>\n",
       "      <td>2020-03-31</td>\n",
       "      <td>0</td>\n",
       "      <td>22672</td>\n",
       "      <td>5496</td>\n",
       "      <td>9443</td>\n",
       "      <td>3523</td>\n",
       "      <td>5312.0</td>\n",
       "      <td>283050263</td>\n",
       "      <td>67609086</td>\n",
       "      <td>17176</td>\n",
       "      <td>...</td>\n",
       "      <td>499.0</td>\n",
       "      <td>55.153783</td>\n",
       "      <td>1520.0</td>\n",
       "      <td>190.517771</td>\n",
       "      <td>440.0</td>\n",
       "      <td>46.464422</td>\n",
       "      <td>1286.0</td>\n",
       "      <td>138.325980</td>\n",
       "      <td>1726.0</td>\n",
       "      <td>184.790403</td>\n",
       "    </tr>\n",
       "    <tr>\n",
       "      <th>14</th>\n",
       "      <td>2020-04-01</td>\n",
       "      <td>0</td>\n",
       "      <td>24543</td>\n",
       "      <td>5940</td>\n",
       "      <td>10933</td>\n",
       "      <td>4032</td>\n",
       "      <td>5312.0</td>\n",
       "      <td>283050263</td>\n",
       "      <td>67609086</td>\n",
       "      <td>18603</td>\n",
       "      <td>...</td>\n",
       "      <td>509.0</td>\n",
       "      <td>59.910319</td>\n",
       "      <td>1490.0</td>\n",
       "      <td>169.362447</td>\n",
       "      <td>444.0</td>\n",
       "      <td>48.998882</td>\n",
       "      <td>1427.0</td>\n",
       "      <td>168.557321</td>\n",
       "      <td>1871.0</td>\n",
       "      <td>217.556203</td>\n",
       "    </tr>\n",
       "    <tr>\n",
       "      <th>15</th>\n",
       "      <td>2020-04-02</td>\n",
       "      <td>0</td>\n",
       "      <td>26122</td>\n",
       "      <td>6302</td>\n",
       "      <td>12425</td>\n",
       "      <td>4501</td>\n",
       "      <td>5312.0</td>\n",
       "      <td>283050263</td>\n",
       "      <td>67609086</td>\n",
       "      <td>19820</td>\n",
       "      <td>...</td>\n",
       "      <td>469.0</td>\n",
       "      <td>58.876056</td>\n",
       "      <td>1492.0</td>\n",
       "      <td>209.952060</td>\n",
       "      <td>362.0</td>\n",
       "      <td>47.820627</td>\n",
       "      <td>1217.0</td>\n",
       "      <td>123.488708</td>\n",
       "      <td>1579.0</td>\n",
       "      <td>171.309335</td>\n",
       "    </tr>\n",
       "    <tr>\n",
       "      <th>16</th>\n",
       "      <td>2020-04-03</td>\n",
       "      <td>0</td>\n",
       "      <td>27284</td>\n",
       "      <td>6553</td>\n",
       "      <td>14005</td>\n",
       "      <td>5089</td>\n",
       "      <td>5312.0</td>\n",
       "      <td>283050263</td>\n",
       "      <td>67609086</td>\n",
       "      <td>20731</td>\n",
       "      <td>...</td>\n",
       "      <td>588.0</td>\n",
       "      <td>71.514410</td>\n",
       "      <td>1580.0</td>\n",
       "      <td>189.820850</td>\n",
       "      <td>251.0</td>\n",
       "      <td>23.434719</td>\n",
       "      <td>911.0</td>\n",
       "      <td>102.472490</td>\n",
       "      <td>1162.0</td>\n",
       "      <td>125.907209</td>\n",
       "    </tr>\n",
       "    <tr>\n",
       "      <th>17</th>\n",
       "      <td>2020-04-04</td>\n",
       "      <td>0</td>\n",
       "      <td>27988</td>\n",
       "      <td>6720</td>\n",
       "      <td>15430</td>\n",
       "      <td>5530</td>\n",
       "      <td>5312.0</td>\n",
       "      <td>283050263</td>\n",
       "      <td>67609086</td>\n",
       "      <td>21268</td>\n",
       "      <td>...</td>\n",
       "      <td>441.0</td>\n",
       "      <td>56.964029</td>\n",
       "      <td>1425.0</td>\n",
       "      <td>180.544954</td>\n",
       "      <td>167.0</td>\n",
       "      <td>19.440706</td>\n",
       "      <td>537.0</td>\n",
       "      <td>64.257296</td>\n",
       "      <td>704.0</td>\n",
       "      <td>83.698002</td>\n",
       "    </tr>\n",
       "  </tbody>\n",
       "</table>\n",
       "<p>18 rows × 27 columns</p>\n",
       "</div>"
      ],
      "text/plain": [
       "          jour  sexe   hosp   rea    rad    dc  regionCode  regionPopulation  \\\n",
       "0   2020-03-18     0   2972   771    816   218      5312.0         283050263   \n",
       "1   2020-03-19     0   4073  1002   1180   327      5312.0         283050263   \n",
       "2   2020-03-20     0   5226  1297   1587   450      5312.0         283050263   \n",
       "3   2020-03-21     0   5900  1453   1811   525      5312.0         283050263   \n",
       "4   2020-03-22     0   6954  1674   2117   632      5312.0         283050263   \n",
       "5   2020-03-23     0   8673  2080   2567   860      5312.0         283050263   \n",
       "6   2020-03-24     0  10163  2503   3281  1100      5312.0         283050263   \n",
       "7   2020-03-25     0  12072  2935   4085  1388      5312.0         283050263   \n",
       "8   2020-03-26     0  13879  3351   4947  1696      5312.0         283050263   \n",
       "9   2020-03-27     0  15701  3758   5698  1995      5312.0         283050263   \n",
       "10  2020-03-28     0  17580  4236   6624  2314      5312.0         283050263   \n",
       "11  2020-03-29     0  19311  4592   7131  2606      5312.0         283050263   \n",
       "12  2020-03-30     0  20946  5056   7923  3024      5312.0         283050263   \n",
       "13  2020-03-31     0  22672  5496   9443  3523      5312.0         283050263   \n",
       "14  2020-04-01     0  24543  5940  10933  4032      5312.0         283050263   \n",
       "15  2020-04-02     0  26122  6302  12425  4501      5312.0         283050263   \n",
       "16  2020-04-03     0  27284  6553  14005  5089      5312.0         283050263   \n",
       "17  2020-04-04     0  27988  6720  15430  5530      5312.0         283050263   \n",
       "\n",
       "    departmentPopulation  hosp_nonrea  ...  dc_new  dc_new_deppop  rad_new  \\\n",
       "0               67609086         2201  ...     0.0       0.000000      0.0   \n",
       "1               67609086         3071  ...   109.0      15.396317    364.0   \n",
       "2               67609086         3929  ...   123.0      16.731911    407.0   \n",
       "3               67609086         4447  ...    75.0      10.289300    224.0   \n",
       "4               67609086         5280  ...   107.0      18.350434    306.0   \n",
       "5               67609086         6593  ...   228.0      34.298674    450.0   \n",
       "6               67609086         7660  ...   240.0      32.410663    714.0   \n",
       "7               67609086         9137  ...   288.0      40.367896    804.0   \n",
       "8               67609086        10528  ...   308.0      39.785457    862.0   \n",
       "9               67609086        11943  ...   299.0      36.416831    751.0   \n",
       "10              67609086        13344  ...   319.0      36.915085    926.0   \n",
       "11              67609086        14719  ...   292.0      33.540852    507.0   \n",
       "12              67609086        15890  ...   418.0      54.075178    792.0   \n",
       "13              67609086        17176  ...   499.0      55.153783   1520.0   \n",
       "14              67609086        18603  ...   509.0      59.910319   1490.0   \n",
       "15              67609086        19820  ...   469.0      58.876056   1492.0   \n",
       "16              67609086        20731  ...   588.0      71.514410   1580.0   \n",
       "17              67609086        21268  ...   441.0      56.964029   1425.0   \n",
       "\n",
       "    rad_new_deppop  rea_new  rea_new_deppop  hosp_nonrea_new  \\\n",
       "0         0.000000      0.0        0.000000              0.0   \n",
       "1        40.116786    231.0       23.731770            870.0   \n",
       "2        61.227981    295.0       39.519653            858.0   \n",
       "3        27.720374    156.0       16.336047            518.0   \n",
       "4        53.126913    221.0       24.985433            833.0   \n",
       "5        58.653930    406.0       45.526578           1313.0   \n",
       "6        97.479238    423.0       45.987598           1067.0   \n",
       "7       110.570149    432.0       54.647046           1477.0   \n",
       "8       111.321907    416.0       54.320334           1391.0   \n",
       "9        89.493647    407.0       46.058376           1415.0   \n",
       "10      111.808371    478.0       51.364144           1401.0   \n",
       "11       64.205188    356.0       42.307977           1375.0   \n",
       "12      114.254881    464.0       50.219610           1171.0   \n",
       "13      190.517771    440.0       46.464422           1286.0   \n",
       "14      169.362447    444.0       48.998882           1427.0   \n",
       "15      209.952060    362.0       47.820627           1217.0   \n",
       "16      189.820850    251.0       23.434719            911.0   \n",
       "17      180.544954    167.0       19.440706            537.0   \n",
       "\n",
       "    hosp_nonrea_new_deppop  hosp_new  hosp_new_deppop  \n",
       "0                 0.000000       0.0         0.000000  \n",
       "1                95.763670    1101.0       119.495440  \n",
       "2               135.117708    1153.0       174.637361  \n",
       "3                66.450492     674.0        82.786539  \n",
       "4                93.564924    1054.0       118.550358  \n",
       "5               162.335152    1719.0       207.861730  \n",
       "6               129.642993    1490.0       175.630590  \n",
       "7               186.628353    1909.0       241.275399  \n",
       "8               158.384489    1807.0       212.704823  \n",
       "9               171.204902    1822.0       217.263278  \n",
       "10              159.166076    1879.0       210.530220  \n",
       "11              148.372559    1731.0       190.680536  \n",
       "12              137.643224    1635.0       187.862834  \n",
       "13              138.325980    1726.0       184.790403  \n",
       "14              168.557321    1871.0       217.556203  \n",
       "15              123.488708    1579.0       171.309335  \n",
       "16              102.472490    1162.0       125.907209  \n",
       "17               64.257296     704.0        83.698002  \n",
       "\n",
       "[18 rows x 27 columns]"
      ]
     },
     "execution_count": 264,
     "metadata": {},
     "output_type": "execute_result"
    }
   ],
   "source": [
    "df_france = df.groupby('jour').sum().reset_index()\n",
    "df_france"
   ]
  },
  {
   "cell_type": "code",
   "execution_count": 279,
   "metadata": {},
   "outputs": [
    {
     "data": {
      "application/vnd.plotly.v1+json": {
       "config": {
        "plotlyServerURL": "https://plot.ly"
       },
       "data": [
        {
         "line": {
          "width": 2
         },
         "marker": {
          "size": 8
         },
         "mode": "lines+markers",
         "name": "réanimations",
         "type": "scatter",
         "x": [
          "2020-03-18",
          "2020-03-19",
          "2020-03-20",
          "2020-03-21",
          "2020-03-22",
          "2020-03-23",
          "2020-03-24",
          "2020-03-25",
          "2020-03-26",
          "2020-03-27",
          "2020-03-28",
          "2020-03-29",
          "2020-03-30",
          "2020-03-31",
          "2020-04-01",
          "2020-04-02",
          "2020-04-03",
          "2020-04-04"
         ],
         "y": [
          771,
          1002,
          1297,
          1453,
          1674,
          2080,
          2503,
          2935,
          3351,
          3758,
          4236,
          4592,
          5056,
          5496,
          5940,
          6302,
          6553,
          6720
         ]
        },
        {
         "line": {
          "width": 2
         },
         "marker": {
          "size": 8
         },
         "mode": "lines+markers",
         "name": "décès",
         "type": "scatter",
         "x": [
          "2020-03-18",
          "2020-03-19",
          "2020-03-20",
          "2020-03-21",
          "2020-03-22",
          "2020-03-23",
          "2020-03-24",
          "2020-03-25",
          "2020-03-26",
          "2020-03-27",
          "2020-03-28",
          "2020-03-29",
          "2020-03-30",
          "2020-03-31",
          "2020-04-01",
          "2020-04-02",
          "2020-04-03",
          "2020-04-04"
         ],
         "y": [
          0,
          109,
          123,
          75,
          107,
          228,
          240,
          288,
          308,
          299,
          319,
          292,
          418,
          499,
          509,
          469,
          588,
          441
         ]
        }
       ],
       "layout": {
        "annotations": [
         {
          "showarrow": false,
          "text": "Date : 04 avril 2020. Source : INSEE et CSSE. Auteur : @guillaumerozier.",
          "x": 0,
          "xref": "paper",
          "y": 1,
          "yref": "paper"
         }
        ],
        "template": {
         "data": {
          "bar": [
           {
            "error_x": {
             "color": "#2a3f5f"
            },
            "error_y": {
             "color": "#2a3f5f"
            },
            "marker": {
             "line": {
              "color": "#E5ECF6",
              "width": 0.5
             }
            },
            "type": "bar"
           }
          ],
          "barpolar": [
           {
            "marker": {
             "line": {
              "color": "#E5ECF6",
              "width": 0.5
             }
            },
            "type": "barpolar"
           }
          ],
          "carpet": [
           {
            "aaxis": {
             "endlinecolor": "#2a3f5f",
             "gridcolor": "white",
             "linecolor": "white",
             "minorgridcolor": "white",
             "startlinecolor": "#2a3f5f"
            },
            "baxis": {
             "endlinecolor": "#2a3f5f",
             "gridcolor": "white",
             "linecolor": "white",
             "minorgridcolor": "white",
             "startlinecolor": "#2a3f5f"
            },
            "type": "carpet"
           }
          ],
          "choropleth": [
           {
            "colorbar": {
             "outlinewidth": 0,
             "ticks": ""
            },
            "type": "choropleth"
           }
          ],
          "contour": [
           {
            "colorbar": {
             "outlinewidth": 0,
             "ticks": ""
            },
            "colorscale": [
             [
              0,
              "#0d0887"
             ],
             [
              0.1111111111111111,
              "#46039f"
             ],
             [
              0.2222222222222222,
              "#7201a8"
             ],
             [
              0.3333333333333333,
              "#9c179e"
             ],
             [
              0.4444444444444444,
              "#bd3786"
             ],
             [
              0.5555555555555556,
              "#d8576b"
             ],
             [
              0.6666666666666666,
              "#ed7953"
             ],
             [
              0.7777777777777778,
              "#fb9f3a"
             ],
             [
              0.8888888888888888,
              "#fdca26"
             ],
             [
              1,
              "#f0f921"
             ]
            ],
            "type": "contour"
           }
          ],
          "contourcarpet": [
           {
            "colorbar": {
             "outlinewidth": 0,
             "ticks": ""
            },
            "type": "contourcarpet"
           }
          ],
          "heatmap": [
           {
            "colorbar": {
             "outlinewidth": 0,
             "ticks": ""
            },
            "colorscale": [
             [
              0,
              "#0d0887"
             ],
             [
              0.1111111111111111,
              "#46039f"
             ],
             [
              0.2222222222222222,
              "#7201a8"
             ],
             [
              0.3333333333333333,
              "#9c179e"
             ],
             [
              0.4444444444444444,
              "#bd3786"
             ],
             [
              0.5555555555555556,
              "#d8576b"
             ],
             [
              0.6666666666666666,
              "#ed7953"
             ],
             [
              0.7777777777777778,
              "#fb9f3a"
             ],
             [
              0.8888888888888888,
              "#fdca26"
             ],
             [
              1,
              "#f0f921"
             ]
            ],
            "type": "heatmap"
           }
          ],
          "heatmapgl": [
           {
            "colorbar": {
             "outlinewidth": 0,
             "ticks": ""
            },
            "colorscale": [
             [
              0,
              "#0d0887"
             ],
             [
              0.1111111111111111,
              "#46039f"
             ],
             [
              0.2222222222222222,
              "#7201a8"
             ],
             [
              0.3333333333333333,
              "#9c179e"
             ],
             [
              0.4444444444444444,
              "#bd3786"
             ],
             [
              0.5555555555555556,
              "#d8576b"
             ],
             [
              0.6666666666666666,
              "#ed7953"
             ],
             [
              0.7777777777777778,
              "#fb9f3a"
             ],
             [
              0.8888888888888888,
              "#fdca26"
             ],
             [
              1,
              "#f0f921"
             ]
            ],
            "type": "heatmapgl"
           }
          ],
          "histogram": [
           {
            "marker": {
             "colorbar": {
              "outlinewidth": 0,
              "ticks": ""
             }
            },
            "type": "histogram"
           }
          ],
          "histogram2d": [
           {
            "colorbar": {
             "outlinewidth": 0,
             "ticks": ""
            },
            "colorscale": [
             [
              0,
              "#0d0887"
             ],
             [
              0.1111111111111111,
              "#46039f"
             ],
             [
              0.2222222222222222,
              "#7201a8"
             ],
             [
              0.3333333333333333,
              "#9c179e"
             ],
             [
              0.4444444444444444,
              "#bd3786"
             ],
             [
              0.5555555555555556,
              "#d8576b"
             ],
             [
              0.6666666666666666,
              "#ed7953"
             ],
             [
              0.7777777777777778,
              "#fb9f3a"
             ],
             [
              0.8888888888888888,
              "#fdca26"
             ],
             [
              1,
              "#f0f921"
             ]
            ],
            "type": "histogram2d"
           }
          ],
          "histogram2dcontour": [
           {
            "colorbar": {
             "outlinewidth": 0,
             "ticks": ""
            },
            "colorscale": [
             [
              0,
              "#0d0887"
             ],
             [
              0.1111111111111111,
              "#46039f"
             ],
             [
              0.2222222222222222,
              "#7201a8"
             ],
             [
              0.3333333333333333,
              "#9c179e"
             ],
             [
              0.4444444444444444,
              "#bd3786"
             ],
             [
              0.5555555555555556,
              "#d8576b"
             ],
             [
              0.6666666666666666,
              "#ed7953"
             ],
             [
              0.7777777777777778,
              "#fb9f3a"
             ],
             [
              0.8888888888888888,
              "#fdca26"
             ],
             [
              1,
              "#f0f921"
             ]
            ],
            "type": "histogram2dcontour"
           }
          ],
          "mesh3d": [
           {
            "colorbar": {
             "outlinewidth": 0,
             "ticks": ""
            },
            "type": "mesh3d"
           }
          ],
          "parcoords": [
           {
            "line": {
             "colorbar": {
              "outlinewidth": 0,
              "ticks": ""
             }
            },
            "type": "parcoords"
           }
          ],
          "pie": [
           {
            "automargin": true,
            "type": "pie"
           }
          ],
          "scatter": [
           {
            "marker": {
             "colorbar": {
              "outlinewidth": 0,
              "ticks": ""
             }
            },
            "type": "scatter"
           }
          ],
          "scatter3d": [
           {
            "line": {
             "colorbar": {
              "outlinewidth": 0,
              "ticks": ""
             }
            },
            "marker": {
             "colorbar": {
              "outlinewidth": 0,
              "ticks": ""
             }
            },
            "type": "scatter3d"
           }
          ],
          "scattercarpet": [
           {
            "marker": {
             "colorbar": {
              "outlinewidth": 0,
              "ticks": ""
             }
            },
            "type": "scattercarpet"
           }
          ],
          "scattergeo": [
           {
            "marker": {
             "colorbar": {
              "outlinewidth": 0,
              "ticks": ""
             }
            },
            "type": "scattergeo"
           }
          ],
          "scattergl": [
           {
            "marker": {
             "colorbar": {
              "outlinewidth": 0,
              "ticks": ""
             }
            },
            "type": "scattergl"
           }
          ],
          "scattermapbox": [
           {
            "marker": {
             "colorbar": {
              "outlinewidth": 0,
              "ticks": ""
             }
            },
            "type": "scattermapbox"
           }
          ],
          "scatterpolar": [
           {
            "marker": {
             "colorbar": {
              "outlinewidth": 0,
              "ticks": ""
             }
            },
            "type": "scatterpolar"
           }
          ],
          "scatterpolargl": [
           {
            "marker": {
             "colorbar": {
              "outlinewidth": 0,
              "ticks": ""
             }
            },
            "type": "scatterpolargl"
           }
          ],
          "scatterternary": [
           {
            "marker": {
             "colorbar": {
              "outlinewidth": 0,
              "ticks": ""
             }
            },
            "type": "scatterternary"
           }
          ],
          "surface": [
           {
            "colorbar": {
             "outlinewidth": 0,
             "ticks": ""
            },
            "colorscale": [
             [
              0,
              "#0d0887"
             ],
             [
              0.1111111111111111,
              "#46039f"
             ],
             [
              0.2222222222222222,
              "#7201a8"
             ],
             [
              0.3333333333333333,
              "#9c179e"
             ],
             [
              0.4444444444444444,
              "#bd3786"
             ],
             [
              0.5555555555555556,
              "#d8576b"
             ],
             [
              0.6666666666666666,
              "#ed7953"
             ],
             [
              0.7777777777777778,
              "#fb9f3a"
             ],
             [
              0.8888888888888888,
              "#fdca26"
             ],
             [
              1,
              "#f0f921"
             ]
            ],
            "type": "surface"
           }
          ],
          "table": [
           {
            "cells": {
             "fill": {
              "color": "#EBF0F8"
             },
             "line": {
              "color": "white"
             }
            },
            "header": {
             "fill": {
              "color": "#C8D4E3"
             },
             "line": {
              "color": "white"
             }
            },
            "type": "table"
           }
          ]
         },
         "layout": {
          "annotationdefaults": {
           "arrowcolor": "#2a3f5f",
           "arrowhead": 0,
           "arrowwidth": 1
          },
          "coloraxis": {
           "colorbar": {
            "outlinewidth": 0,
            "ticks": ""
           }
          },
          "colorscale": {
           "diverging": [
            [
             0,
             "#8e0152"
            ],
            [
             0.1,
             "#c51b7d"
            ],
            [
             0.2,
             "#de77ae"
            ],
            [
             0.3,
             "#f1b6da"
            ],
            [
             0.4,
             "#fde0ef"
            ],
            [
             0.5,
             "#f7f7f7"
            ],
            [
             0.6,
             "#e6f5d0"
            ],
            [
             0.7,
             "#b8e186"
            ],
            [
             0.8,
             "#7fbc41"
            ],
            [
             0.9,
             "#4d9221"
            ],
            [
             1,
             "#276419"
            ]
           ],
           "sequential": [
            [
             0,
             "#0d0887"
            ],
            [
             0.1111111111111111,
             "#46039f"
            ],
            [
             0.2222222222222222,
             "#7201a8"
            ],
            [
             0.3333333333333333,
             "#9c179e"
            ],
            [
             0.4444444444444444,
             "#bd3786"
            ],
            [
             0.5555555555555556,
             "#d8576b"
            ],
            [
             0.6666666666666666,
             "#ed7953"
            ],
            [
             0.7777777777777778,
             "#fb9f3a"
            ],
            [
             0.8888888888888888,
             "#fdca26"
            ],
            [
             1,
             "#f0f921"
            ]
           ],
           "sequentialminus": [
            [
             0,
             "#0d0887"
            ],
            [
             0.1111111111111111,
             "#46039f"
            ],
            [
             0.2222222222222222,
             "#7201a8"
            ],
            [
             0.3333333333333333,
             "#9c179e"
            ],
            [
             0.4444444444444444,
             "#bd3786"
            ],
            [
             0.5555555555555556,
             "#d8576b"
            ],
            [
             0.6666666666666666,
             "#ed7953"
            ],
            [
             0.7777777777777778,
             "#fb9f3a"
            ],
            [
             0.8888888888888888,
             "#fdca26"
            ],
            [
             1,
             "#f0f921"
            ]
           ]
          },
          "colorway": [
           "#636efa",
           "#EF553B",
           "#00cc96",
           "#ab63fa",
           "#FFA15A",
           "#19d3f3",
           "#FF6692",
           "#B6E880",
           "#FF97FF",
           "#FECB52"
          ],
          "font": {
           "color": "#2a3f5f"
          },
          "geo": {
           "bgcolor": "white",
           "lakecolor": "white",
           "landcolor": "#E5ECF6",
           "showlakes": true,
           "showland": true,
           "subunitcolor": "white"
          },
          "hoverlabel": {
           "align": "left"
          },
          "hovermode": "closest",
          "mapbox": {
           "style": "light"
          },
          "paper_bgcolor": "white",
          "plot_bgcolor": "#E5ECF6",
          "polar": {
           "angularaxis": {
            "gridcolor": "white",
            "linecolor": "white",
            "ticks": ""
           },
           "bgcolor": "#E5ECF6",
           "radialaxis": {
            "gridcolor": "white",
            "linecolor": "white",
            "ticks": ""
           }
          },
          "scene": {
           "xaxis": {
            "backgroundcolor": "#E5ECF6",
            "gridcolor": "white",
            "gridwidth": 2,
            "linecolor": "white",
            "showbackground": true,
            "ticks": "",
            "zerolinecolor": "white"
           },
           "yaxis": {
            "backgroundcolor": "#E5ECF6",
            "gridcolor": "white",
            "gridwidth": 2,
            "linecolor": "white",
            "showbackground": true,
            "ticks": "",
            "zerolinecolor": "white"
           },
           "zaxis": {
            "backgroundcolor": "#E5ECF6",
            "gridcolor": "white",
            "gridwidth": 2,
            "linecolor": "white",
            "showbackground": true,
            "ticks": "",
            "zerolinecolor": "white"
           }
          },
          "shapedefaults": {
           "line": {
            "color": "#2a3f5f"
           }
          },
          "ternary": {
           "aaxis": {
            "gridcolor": "white",
            "linecolor": "white",
            "ticks": ""
           },
           "baxis": {
            "gridcolor": "white",
            "linecolor": "white",
            "ticks": ""
           },
           "bgcolor": "#E5ECF6",
           "caxis": {
            "gridcolor": "white",
            "linecolor": "white",
            "ticks": ""
           }
          },
          "title": {
           "x": 0.05
          },
          "xaxis": {
           "automargin": true,
           "gridcolor": "white",
           "linecolor": "white",
           "ticks": "",
           "title": {
            "standoff": 15
           },
           "zerolinecolor": "white",
           "zerolinewidth": 2
          },
          "yaxis": {
           "automargin": true,
           "gridcolor": "white",
           "linecolor": "white",
           "ticks": "",
           "title": {
            "standoff": 15
           },
           "zerolinecolor": "white",
           "zerolinewidth": 2
          }
         }
        },
        "title": {
         "font": {
          "size": 20
         },
         "text": "Nombre de <b>décès</b>",
         "x": 0.5,
         "xanchor": "center",
         "y": 0.95,
         "yanchor": "top"
        },
        "xaxis": {
         "title": {
          "text": "Jour"
         }
        },
        "yaxis": {
         "title": {
          "text": "Nb. de décès cumulés"
         }
        }
       }
      },
      "text/html": [
       "<div>\n",
       "        \n",
       "        \n",
       "            <div id=\"11d8e449-272c-4c47-8b43-3ab3dc16e85e\" class=\"plotly-graph-div\" style=\"height:525px; width:100%;\"></div>\n",
       "            <script type=\"text/javascript\">\n",
       "                require([\"plotly\"], function(Plotly) {\n",
       "                    window.PLOTLYENV=window.PLOTLYENV || {};\n",
       "                    \n",
       "                if (document.getElementById(\"11d8e449-272c-4c47-8b43-3ab3dc16e85e\")) {\n",
       "                    Plotly.newPlot(\n",
       "                        '11d8e449-272c-4c47-8b43-3ab3dc16e85e',\n",
       "                        [{\"line\": {\"width\": 2}, \"marker\": {\"size\": 8}, \"mode\": \"lines+markers\", \"name\": \"r\\u00e9animations\", \"type\": \"scatter\", \"x\": [\"2020-03-18\", \"2020-03-19\", \"2020-03-20\", \"2020-03-21\", \"2020-03-22\", \"2020-03-23\", \"2020-03-24\", \"2020-03-25\", \"2020-03-26\", \"2020-03-27\", \"2020-03-28\", \"2020-03-29\", \"2020-03-30\", \"2020-03-31\", \"2020-04-01\", \"2020-04-02\", \"2020-04-03\", \"2020-04-04\"], \"y\": [771, 1002, 1297, 1453, 1674, 2080, 2503, 2935, 3351, 3758, 4236, 4592, 5056, 5496, 5940, 6302, 6553, 6720]}, {\"line\": {\"width\": 2}, \"marker\": {\"size\": 8}, \"mode\": \"lines+markers\", \"name\": \"d\\u00e9c\\u00e8s\", \"type\": \"scatter\", \"x\": [\"2020-03-18\", \"2020-03-19\", \"2020-03-20\", \"2020-03-21\", \"2020-03-22\", \"2020-03-23\", \"2020-03-24\", \"2020-03-25\", \"2020-03-26\", \"2020-03-27\", \"2020-03-28\", \"2020-03-29\", \"2020-03-30\", \"2020-03-31\", \"2020-04-01\", \"2020-04-02\", \"2020-04-03\", \"2020-04-04\"], \"y\": [0.0, 109.0, 123.0, 75.0, 107.0, 228.0, 240.0, 288.0, 308.0, 299.0, 319.0, 292.0, 418.0, 499.0, 509.0, 469.0, 588.0, 441.0]}],\n",
       "                        {\"annotations\": [{\"showarrow\": false, \"text\": \"Date : 04 avril 2020. Source : INSEE et CSSE. Auteur : @guillaumerozier.\", \"x\": 0, \"xref\": \"paper\", \"y\": 1, \"yref\": \"paper\"}], \"template\": {\"data\": {\"bar\": [{\"error_x\": {\"color\": \"#2a3f5f\"}, \"error_y\": {\"color\": \"#2a3f5f\"}, \"marker\": {\"line\": {\"color\": \"#E5ECF6\", \"width\": 0.5}}, \"type\": \"bar\"}], \"barpolar\": [{\"marker\": {\"line\": {\"color\": \"#E5ECF6\", \"width\": 0.5}}, \"type\": \"barpolar\"}], \"carpet\": [{\"aaxis\": {\"endlinecolor\": \"#2a3f5f\", \"gridcolor\": \"white\", \"linecolor\": \"white\", \"minorgridcolor\": \"white\", \"startlinecolor\": \"#2a3f5f\"}, \"baxis\": {\"endlinecolor\": \"#2a3f5f\", \"gridcolor\": \"white\", \"linecolor\": \"white\", \"minorgridcolor\": \"white\", \"startlinecolor\": \"#2a3f5f\"}, \"type\": \"carpet\"}], \"choropleth\": [{\"colorbar\": {\"outlinewidth\": 0, \"ticks\": \"\"}, \"type\": \"choropleth\"}], \"contour\": [{\"colorbar\": {\"outlinewidth\": 0, \"ticks\": \"\"}, \"colorscale\": [[0.0, \"#0d0887\"], [0.1111111111111111, \"#46039f\"], [0.2222222222222222, \"#7201a8\"], [0.3333333333333333, \"#9c179e\"], [0.4444444444444444, \"#bd3786\"], [0.5555555555555556, \"#d8576b\"], [0.6666666666666666, \"#ed7953\"], [0.7777777777777778, \"#fb9f3a\"], [0.8888888888888888, \"#fdca26\"], [1.0, \"#f0f921\"]], \"type\": \"contour\"}], \"contourcarpet\": [{\"colorbar\": {\"outlinewidth\": 0, \"ticks\": \"\"}, \"type\": \"contourcarpet\"}], \"heatmap\": [{\"colorbar\": {\"outlinewidth\": 0, \"ticks\": \"\"}, \"colorscale\": [[0.0, \"#0d0887\"], [0.1111111111111111, \"#46039f\"], [0.2222222222222222, \"#7201a8\"], [0.3333333333333333, \"#9c179e\"], [0.4444444444444444, \"#bd3786\"], [0.5555555555555556, \"#d8576b\"], [0.6666666666666666, \"#ed7953\"], [0.7777777777777778, \"#fb9f3a\"], [0.8888888888888888, \"#fdca26\"], [1.0, \"#f0f921\"]], \"type\": \"heatmap\"}], \"heatmapgl\": [{\"colorbar\": {\"outlinewidth\": 0, \"ticks\": \"\"}, \"colorscale\": [[0.0, \"#0d0887\"], [0.1111111111111111, \"#46039f\"], [0.2222222222222222, \"#7201a8\"], [0.3333333333333333, \"#9c179e\"], [0.4444444444444444, \"#bd3786\"], [0.5555555555555556, \"#d8576b\"], [0.6666666666666666, \"#ed7953\"], [0.7777777777777778, \"#fb9f3a\"], [0.8888888888888888, \"#fdca26\"], [1.0, \"#f0f921\"]], \"type\": \"heatmapgl\"}], \"histogram\": [{\"marker\": {\"colorbar\": {\"outlinewidth\": 0, \"ticks\": \"\"}}, \"type\": \"histogram\"}], \"histogram2d\": [{\"colorbar\": {\"outlinewidth\": 0, \"ticks\": \"\"}, \"colorscale\": [[0.0, \"#0d0887\"], [0.1111111111111111, \"#46039f\"], [0.2222222222222222, \"#7201a8\"], [0.3333333333333333, \"#9c179e\"], [0.4444444444444444, \"#bd3786\"], [0.5555555555555556, \"#d8576b\"], [0.6666666666666666, \"#ed7953\"], [0.7777777777777778, \"#fb9f3a\"], [0.8888888888888888, \"#fdca26\"], [1.0, \"#f0f921\"]], \"type\": \"histogram2d\"}], \"histogram2dcontour\": [{\"colorbar\": {\"outlinewidth\": 0, \"ticks\": \"\"}, \"colorscale\": [[0.0, \"#0d0887\"], [0.1111111111111111, \"#46039f\"], [0.2222222222222222, \"#7201a8\"], [0.3333333333333333, \"#9c179e\"], [0.4444444444444444, \"#bd3786\"], [0.5555555555555556, \"#d8576b\"], [0.6666666666666666, \"#ed7953\"], [0.7777777777777778, \"#fb9f3a\"], [0.8888888888888888, \"#fdca26\"], [1.0, \"#f0f921\"]], \"type\": \"histogram2dcontour\"}], \"mesh3d\": [{\"colorbar\": {\"outlinewidth\": 0, \"ticks\": \"\"}, \"type\": \"mesh3d\"}], \"parcoords\": [{\"line\": {\"colorbar\": {\"outlinewidth\": 0, \"ticks\": \"\"}}, \"type\": \"parcoords\"}], \"pie\": [{\"automargin\": true, \"type\": \"pie\"}], \"scatter\": [{\"marker\": {\"colorbar\": {\"outlinewidth\": 0, \"ticks\": \"\"}}, \"type\": \"scatter\"}], \"scatter3d\": [{\"line\": {\"colorbar\": {\"outlinewidth\": 0, \"ticks\": \"\"}}, \"marker\": {\"colorbar\": {\"outlinewidth\": 0, \"ticks\": \"\"}}, \"type\": \"scatter3d\"}], \"scattercarpet\": [{\"marker\": {\"colorbar\": {\"outlinewidth\": 0, \"ticks\": \"\"}}, \"type\": \"scattercarpet\"}], \"scattergeo\": [{\"marker\": {\"colorbar\": {\"outlinewidth\": 0, \"ticks\": \"\"}}, \"type\": \"scattergeo\"}], \"scattergl\": [{\"marker\": {\"colorbar\": {\"outlinewidth\": 0, \"ticks\": \"\"}}, \"type\": \"scattergl\"}], \"scattermapbox\": [{\"marker\": {\"colorbar\": {\"outlinewidth\": 0, \"ticks\": \"\"}}, \"type\": \"scattermapbox\"}], \"scatterpolar\": [{\"marker\": {\"colorbar\": {\"outlinewidth\": 0, \"ticks\": \"\"}}, \"type\": \"scatterpolar\"}], \"scatterpolargl\": [{\"marker\": {\"colorbar\": {\"outlinewidth\": 0, \"ticks\": \"\"}}, \"type\": \"scatterpolargl\"}], \"scatterternary\": [{\"marker\": {\"colorbar\": {\"outlinewidth\": 0, \"ticks\": \"\"}}, \"type\": \"scatterternary\"}], \"surface\": [{\"colorbar\": {\"outlinewidth\": 0, \"ticks\": \"\"}, \"colorscale\": [[0.0, \"#0d0887\"], [0.1111111111111111, \"#46039f\"], [0.2222222222222222, \"#7201a8\"], [0.3333333333333333, \"#9c179e\"], [0.4444444444444444, \"#bd3786\"], [0.5555555555555556, \"#d8576b\"], [0.6666666666666666, \"#ed7953\"], [0.7777777777777778, \"#fb9f3a\"], [0.8888888888888888, \"#fdca26\"], [1.0, \"#f0f921\"]], \"type\": \"surface\"}], \"table\": [{\"cells\": {\"fill\": {\"color\": \"#EBF0F8\"}, \"line\": {\"color\": \"white\"}}, \"header\": {\"fill\": {\"color\": \"#C8D4E3\"}, \"line\": {\"color\": \"white\"}}, \"type\": \"table\"}]}, \"layout\": {\"annotationdefaults\": {\"arrowcolor\": \"#2a3f5f\", \"arrowhead\": 0, \"arrowwidth\": 1}, \"coloraxis\": {\"colorbar\": {\"outlinewidth\": 0, \"ticks\": \"\"}}, \"colorscale\": {\"diverging\": [[0, \"#8e0152\"], [0.1, \"#c51b7d\"], [0.2, \"#de77ae\"], [0.3, \"#f1b6da\"], [0.4, \"#fde0ef\"], [0.5, \"#f7f7f7\"], [0.6, \"#e6f5d0\"], [0.7, \"#b8e186\"], [0.8, \"#7fbc41\"], [0.9, \"#4d9221\"], [1, \"#276419\"]], \"sequential\": [[0.0, \"#0d0887\"], [0.1111111111111111, \"#46039f\"], [0.2222222222222222, \"#7201a8\"], [0.3333333333333333, \"#9c179e\"], [0.4444444444444444, \"#bd3786\"], [0.5555555555555556, \"#d8576b\"], [0.6666666666666666, \"#ed7953\"], [0.7777777777777778, \"#fb9f3a\"], [0.8888888888888888, \"#fdca26\"], [1.0, \"#f0f921\"]], \"sequentialminus\": [[0.0, \"#0d0887\"], [0.1111111111111111, \"#46039f\"], [0.2222222222222222, \"#7201a8\"], [0.3333333333333333, \"#9c179e\"], [0.4444444444444444, \"#bd3786\"], [0.5555555555555556, \"#d8576b\"], [0.6666666666666666, \"#ed7953\"], [0.7777777777777778, \"#fb9f3a\"], [0.8888888888888888, \"#fdca26\"], [1.0, \"#f0f921\"]]}, \"colorway\": [\"#636efa\", \"#EF553B\", \"#00cc96\", \"#ab63fa\", \"#FFA15A\", \"#19d3f3\", \"#FF6692\", \"#B6E880\", \"#FF97FF\", \"#FECB52\"], \"font\": {\"color\": \"#2a3f5f\"}, \"geo\": {\"bgcolor\": \"white\", \"lakecolor\": \"white\", \"landcolor\": \"#E5ECF6\", \"showlakes\": true, \"showland\": true, \"subunitcolor\": \"white\"}, \"hoverlabel\": {\"align\": \"left\"}, \"hovermode\": \"closest\", \"mapbox\": {\"style\": \"light\"}, \"paper_bgcolor\": \"white\", \"plot_bgcolor\": \"#E5ECF6\", \"polar\": {\"angularaxis\": {\"gridcolor\": \"white\", \"linecolor\": \"white\", \"ticks\": \"\"}, \"bgcolor\": \"#E5ECF6\", \"radialaxis\": {\"gridcolor\": \"white\", \"linecolor\": \"white\", \"ticks\": \"\"}}, \"scene\": {\"xaxis\": {\"backgroundcolor\": \"#E5ECF6\", \"gridcolor\": \"white\", \"gridwidth\": 2, \"linecolor\": \"white\", \"showbackground\": true, \"ticks\": \"\", \"zerolinecolor\": \"white\"}, \"yaxis\": {\"backgroundcolor\": \"#E5ECF6\", \"gridcolor\": \"white\", \"gridwidth\": 2, \"linecolor\": \"white\", \"showbackground\": true, \"ticks\": \"\", \"zerolinecolor\": \"white\"}, \"zaxis\": {\"backgroundcolor\": \"#E5ECF6\", \"gridcolor\": \"white\", \"gridwidth\": 2, \"linecolor\": \"white\", \"showbackground\": true, \"ticks\": \"\", \"zerolinecolor\": \"white\"}}, \"shapedefaults\": {\"line\": {\"color\": \"#2a3f5f\"}}, \"ternary\": {\"aaxis\": {\"gridcolor\": \"white\", \"linecolor\": \"white\", \"ticks\": \"\"}, \"baxis\": {\"gridcolor\": \"white\", \"linecolor\": \"white\", \"ticks\": \"\"}, \"bgcolor\": \"#E5ECF6\", \"caxis\": {\"gridcolor\": \"white\", \"linecolor\": \"white\", \"ticks\": \"\"}}, \"title\": {\"x\": 0.05}, \"xaxis\": {\"automargin\": true, \"gridcolor\": \"white\", \"linecolor\": \"white\", \"ticks\": \"\", \"title\": {\"standoff\": 15}, \"zerolinecolor\": \"white\", \"zerolinewidth\": 2}, \"yaxis\": {\"automargin\": true, \"gridcolor\": \"white\", \"linecolor\": \"white\", \"ticks\": \"\", \"title\": {\"standoff\": 15}, \"zerolinecolor\": \"white\", \"zerolinewidth\": 2}}}, \"title\": {\"font\": {\"size\": 20}, \"text\": \"Nombre de <b>d\\u00e9c\\u00e8s</b>\", \"x\": 0.5, \"xanchor\": \"center\", \"y\": 0.95, \"yanchor\": \"top\"}, \"xaxis\": {\"title\": {\"text\": \"Jour\"}}, \"yaxis\": {\"title\": {\"text\": \"Nb. de d\\u00e9c\\u00e8s cumul\\u00e9s\"}}},\n",
       "                        {\"responsive\": true}\n",
       "                    ).then(function(){\n",
       "                            \n",
       "var gd = document.getElementById('11d8e449-272c-4c47-8b43-3ab3dc16e85e');\n",
       "var x = new MutationObserver(function (mutations, observer) {{\n",
       "        var display = window.getComputedStyle(gd).display;\n",
       "        if (!display || display === 'none') {{\n",
       "            console.log([gd, 'removed!']);\n",
       "            Plotly.purge(gd);\n",
       "            observer.disconnect();\n",
       "        }}\n",
       "}});\n",
       "\n",
       "// Listen for the removal of the full notebook cells\n",
       "var notebookContainer = gd.closest('#notebook-container');\n",
       "if (notebookContainer) {{\n",
       "    x.observe(notebookContainer, {childList: true});\n",
       "}}\n",
       "\n",
       "// Listen for the clearing of the current output cell\n",
       "var outputEl = gd.closest('.output');\n",
       "if (outputEl) {{\n",
       "    x.observe(outputEl, {childList: true});\n",
       "}}\n",
       "\n",
       "                        })\n",
       "                };\n",
       "                });\n",
       "            </script>\n",
       "        </div>"
      ]
     },
     "metadata": {},
     "output_type": "display_data"
    }
   ],
   "source": [
    "df_france = df.groupby('jour').sum().reset_index()\n",
    "\n",
    "fig = go.Figure()\n",
    "\n",
    "fig.add_trace(go.Scatter(x=df_france['jour'], y=df_france['rea'],\n",
    "                    mode='lines+markers',\n",
    "                    name=\"réanimations\",\n",
    "                    line=dict(width=2),\n",
    "                    marker_size=8,\n",
    "                            ))\n",
    "fig.add_trace(go.Scatter(x=df_france['jour'], y=df_france['dc_new'],\n",
    "                    mode='lines+markers',\n",
    "                    name=\"décès\",\n",
    "                    line=dict(width=2),\n",
    "                    marker_size=8,\n",
    "                            ))\n",
    "    \n",
    "#fig = px.line(, color_discrete_sequence=colors).update_traces(mode='lines+markers', marker_size=7.5, line=dict(width=2.5))\n",
    "fig.update_layout(\n",
    "    title={\n",
    "                'text': \"Nombre de <b>décès</b>\",\n",
    "                'y':0.95,\n",
    "                'x':0.5,\n",
    "                'xanchor': 'center',\n",
    "                'yanchor': 'top'},\n",
    "        titlefont = dict(\n",
    "                size=20),\n",
    "        annotations = [\n",
    "                dict(\n",
    "                    x=0,\n",
    "                    y=1,\n",
    "                    xref='paper',\n",
    "                    yref='paper',\n",
    "                    text='Date : {}. Source : INSEE et CSSE. Auteur : @guillaumerozier.'.format(datetime.strptime(dates[-1], '%Y-%m-%d').strftime('%d %B %Y')),                    showarrow = False\n",
    "                )]\n",
    "                 )\n",
    "fig.update_xaxes(title=\"Jour\")\n",
    "fig.update_yaxes(title=\"Nb. de décès cumulés\")\n",
    "\n",
    "name_fig = \"dc_cum_line_france\"\n",
    "fig.write_image(\"images/charts/france/{}.png\".format(name_fig), scale=3, width=1100, height=700)\n",
    "\n",
    "\n",
    "plotly.offline.plot(fig, filename = 'images/html_exports/france/{}.html'.format(name_fig), auto_open=False)\n",
    "\n",
    "if show_charts:\n",
    "    fig.show()"
   ]
  },
  {
   "cell_type": "code",
   "execution_count": 259,
   "metadata": {},
   "outputs": [
    {
     "data": {
      "application/vnd.plotly.v1+json": {
       "config": {
        "plotlyServerURL": "https://plot.ly"
       },
       "data": [
        {
         "hoverlabel": {
          "namelength": 0
         },
         "hovertemplate": "color=Auvergne-Rhône-Alpes<br>x=%{x}<br>y=%{y}",
         "legendgroup": "Auvergne-Rhône-Alpes",
         "line": {
          "color": "#1F77B4",
          "dash": "solid",
          "width": 2.5
         },
         "marker": {
          "size": 7.5
         },
         "mode": "lines+markers",
         "name": "Auvergne-Rhône-Alpes",
         "showlegend": true,
         "type": "scatter",
         "x": [
          "2020-03-18",
          "2020-03-19",
          "2020-03-20",
          "2020-03-21",
          "2020-03-22",
          "2020-03-23",
          "2020-03-24",
          "2020-03-25",
          "2020-03-26",
          "2020-03-27",
          "2020-03-28",
          "2020-03-29",
          "2020-03-30",
          "2020-03-31",
          "2020-04-01",
          "2020-04-02",
          "2020-04-03",
          "2020-04-04"
         ],
         "xaxis": "x",
         "y": [
          7,
          22,
          33,
          38,
          47,
          70,
          86,
          107,
          134,
          165,
          195,
          227,
          264,
          295,
          349,
          404,
          448,
          478
         ],
         "yaxis": "y"
        },
        {
         "hoverlabel": {
          "namelength": 0
         },
         "hovertemplate": "color=Bourgogne-Franche-Comté<br>x=%{x}<br>y=%{y}",
         "legendgroup": "Bourgogne-Franche-Comté",
         "line": {
          "color": "#FF7F0E",
          "dash": "solid",
          "width": 2.5
         },
         "marker": {
          "size": 7.5
         },
         "mode": "lines+markers",
         "name": "Bourgogne-Franche-Comté",
         "showlegend": true,
         "type": "scatter",
         "x": [
          "2020-03-18",
          "2020-03-19",
          "2020-03-20",
          "2020-03-21",
          "2020-03-22",
          "2020-03-23",
          "2020-03-24",
          "2020-03-25",
          "2020-03-26",
          "2020-03-27",
          "2020-03-28",
          "2020-03-29",
          "2020-03-30",
          "2020-03-31",
          "2020-04-01",
          "2020-04-02",
          "2020-04-03",
          "2020-04-04"
         ],
         "xaxis": "x",
         "y": [
          6,
          14,
          22,
          27,
          40,
          62,
          85,
          102,
          123,
          139,
          148,
          164,
          187,
          214,
          230,
          271,
          303,
          323
         ],
         "yaxis": "y"
        },
        {
         "hoverlabel": {
          "namelength": 0
         },
         "hovertemplate": "color=Bretagne<br>x=%{x}<br>y=%{y}",
         "legendgroup": "Bretagne",
         "line": {
          "color": "#2CA02C",
          "dash": "solid",
          "width": 2.5
         },
         "marker": {
          "size": 7.5
         },
         "mode": "lines+markers",
         "name": "Bretagne",
         "showlegend": true,
         "type": "scatter",
         "x": [
          "2020-03-18",
          "2020-03-19",
          "2020-03-20",
          "2020-03-21",
          "2020-03-22",
          "2020-03-23",
          "2020-03-24",
          "2020-03-25",
          "2020-03-26",
          "2020-03-27",
          "2020-03-28",
          "2020-03-29",
          "2020-03-30",
          "2020-03-31",
          "2020-04-01",
          "2020-04-02",
          "2020-04-03",
          "2020-04-04"
         ],
         "xaxis": "x",
         "y": [
          7,
          9,
          12,
          15,
          17,
          23,
          25,
          28,
          29,
          34,
          37,
          41,
          45,
          50,
          55,
          63,
          69,
          75
         ],
         "yaxis": "y"
        },
        {
         "hoverlabel": {
          "namelength": 0
         },
         "hovertemplate": "color=Centre<br>x=%{x}<br>y=%{y}",
         "legendgroup": "Centre",
         "line": {
          "color": "#D62728",
          "dash": "solid",
          "width": 2.5
         },
         "marker": {
          "size": 7.5
         },
         "mode": "lines+markers",
         "name": "Centre",
         "showlegend": true,
         "type": "scatter",
         "x": [
          "2020-03-18",
          "2020-03-19",
          "2020-03-20",
          "2020-03-21",
          "2020-03-22",
          "2020-03-23",
          "2020-03-24",
          "2020-03-25",
          "2020-03-26",
          "2020-03-27",
          "2020-03-28",
          "2020-03-29",
          "2020-03-30",
          "2020-03-31",
          "2020-04-01",
          "2020-04-02",
          "2020-04-03",
          "2020-04-04"
         ],
         "xaxis": "x",
         "y": [
          1,
          1,
          2,
          2,
          3,
          8,
          9,
          13,
          20,
          26,
          35,
          39,
          53,
          60,
          77,
          84,
          98,
          106
         ],
         "yaxis": "y"
        },
        {
         "hoverlabel": {
          "namelength": 0
         },
         "hovertemplate": "color=Corse<br>x=%{x}<br>y=%{y}",
         "legendgroup": "Corse",
         "line": {
          "color": "#9467BD",
          "dash": "solid",
          "width": 2.5
         },
         "marker": {
          "size": 7.5
         },
         "mode": "lines+markers",
         "name": "Corse",
         "showlegend": true,
         "type": "scatter",
         "x": [
          "2020-03-18",
          "2020-03-19",
          "2020-03-20",
          "2020-03-21",
          "2020-03-22",
          "2020-03-23",
          "2020-03-24",
          "2020-03-25",
          "2020-03-26",
          "2020-03-27",
          "2020-03-28",
          "2020-03-29",
          "2020-03-30",
          "2020-03-31",
          "2020-04-01",
          "2020-04-02",
          "2020-04-03",
          "2020-04-04"
         ],
         "xaxis": "x",
         "y": [
          0,
          1,
          3,
          4,
          6,
          7,
          7,
          15,
          19,
          19,
          19,
          19,
          19,
          20,
          21,
          23,
          26,
          26
         ],
         "yaxis": "y"
        },
        {
         "hoverlabel": {
          "namelength": 0
         },
         "hovertemplate": "color=Grand Est<br>x=%{x}<br>y=%{y}",
         "legendgroup": "Grand Est",
         "line": {
          "color": "#8C564B",
          "dash": "solid",
          "width": 2.5
         },
         "marker": {
          "size": 7.5
         },
         "mode": "lines+markers",
         "name": "Grand Est",
         "showlegend": true,
         "type": "scatter",
         "x": [
          "2020-03-18",
          "2020-03-19",
          "2020-03-20",
          "2020-03-21",
          "2020-03-22",
          "2020-03-23",
          "2020-03-24",
          "2020-03-25",
          "2020-03-26",
          "2020-03-27",
          "2020-03-28",
          "2020-03-29",
          "2020-03-30",
          "2020-03-31",
          "2020-04-01",
          "2020-04-02",
          "2020-04-03",
          "2020-04-04"
         ],
         "xaxis": "x",
         "y": [
          120,
          148,
          183,
          209,
          252,
          327,
          407,
          505,
          584,
          657,
          753,
          815,
          919,
          1015,
          1126,
          1178,
          1311,
          1402
         ],
         "yaxis": "y"
        },
        {
         "hoverlabel": {
          "namelength": 0
         },
         "hovertemplate": "color=Guadeloupe<br>x=%{x}<br>y=%{y}",
         "legendgroup": "Guadeloupe",
         "line": {
          "color": "#E377C2",
          "dash": "solid",
          "width": 2.5
         },
         "marker": {
          "size": 7.5
         },
         "mode": "lines+markers",
         "name": "Guadeloupe",
         "showlegend": true,
         "type": "scatter",
         "x": [
          "2020-03-18",
          "2020-03-19",
          "2020-03-20",
          "2020-03-21",
          "2020-03-22",
          "2020-03-23",
          "2020-03-24",
          "2020-03-25",
          "2020-03-26",
          "2020-03-27",
          "2020-03-28",
          "2020-03-29",
          "2020-03-30",
          "2020-03-31",
          "2020-04-01",
          "2020-04-02",
          "2020-04-03",
          "2020-04-04"
         ],
         "xaxis": "x",
         "y": [
          0,
          0,
          0,
          0,
          0,
          0,
          0,
          0,
          0,
          1,
          1,
          2,
          4,
          5,
          7,
          7,
          8,
          8
         ],
         "yaxis": "y"
        },
        {
         "hoverlabel": {
          "namelength": 0
         },
         "hovertemplate": "color=Guyane<br>x=%{x}<br>y=%{y}",
         "legendgroup": "Guyane",
         "line": {
          "color": "#7F7F7F",
          "dash": "solid",
          "width": 2.5
         },
         "marker": {
          "size": 7.5
         },
         "mode": "lines+markers",
         "name": "Guyane",
         "showlegend": true,
         "type": "scatter",
         "x": [
          "2020-03-18",
          "2020-03-19",
          "2020-03-20",
          "2020-03-21",
          "2020-03-22",
          "2020-03-23",
          "2020-03-24",
          "2020-03-25",
          "2020-03-26",
          "2020-03-27",
          "2020-03-28",
          "2020-03-29",
          "2020-03-30",
          "2020-03-31",
          "2020-04-01",
          "2020-04-02",
          "2020-04-03",
          "2020-04-04"
         ],
         "xaxis": "x",
         "y": [
          0,
          0,
          0,
          0,
          0,
          0,
          0,
          0,
          0,
          0,
          0,
          0,
          0,
          0,
          0,
          0,
          0,
          0
         ],
         "yaxis": "y"
        },
        {
         "hoverlabel": {
          "namelength": 0
         },
         "hovertemplate": "color=Hauts-de-France<br>x=%{x}<br>y=%{y}",
         "legendgroup": "Hauts-de-France",
         "line": {
          "color": "#BCBD22",
          "dash": "solid",
          "width": 2.5
         },
         "marker": {
          "size": 7.5
         },
         "mode": "lines+markers",
         "name": "Hauts-de-France",
         "showlegend": true,
         "type": "scatter",
         "x": [
          "2020-03-18",
          "2020-03-19",
          "2020-03-20",
          "2020-03-21",
          "2020-03-22",
          "2020-03-23",
          "2020-03-24",
          "2020-03-25",
          "2020-03-26",
          "2020-03-27",
          "2020-03-28",
          "2020-03-29",
          "2020-03-30",
          "2020-03-31",
          "2020-04-01",
          "2020-04-02",
          "2020-04-03",
          "2020-04-04"
         ],
         "xaxis": "x",
         "y": [
          21,
          40,
          51,
          56,
          67,
          86,
          109,
          122,
          150,
          169,
          196,
          211,
          242,
          280,
          330,
          370,
          438,
          488
         ],
         "yaxis": "y"
        },
        {
         "hoverlabel": {
          "namelength": 0
         },
         "hovertemplate": "color=Ile-de-France<br>x=%{x}<br>y=%{y}",
         "legendgroup": "Ile-de-France",
         "line": {
          "color": "#17BECF",
          "dash": "solid",
          "width": 2.5
         },
         "marker": {
          "size": 7.5
         },
         "mode": "lines+markers",
         "name": "Ile-de-France",
         "showlegend": true,
         "type": "scatter",
         "x": [
          "2020-03-18",
          "2020-03-19",
          "2020-03-20",
          "2020-03-21",
          "2020-03-22",
          "2020-03-23",
          "2020-03-24",
          "2020-03-25",
          "2020-03-26",
          "2020-03-27",
          "2020-03-28",
          "2020-03-29",
          "2020-03-30",
          "2020-03-31",
          "2020-04-01",
          "2020-04-02",
          "2020-04-03",
          "2020-04-04"
         ],
         "xaxis": "x",
         "y": [
          36,
          56,
          99,
          122,
          140,
          193,
          262,
          357,
          460,
          578,
          688,
          807,
          954,
          1176,
          1369,
          1571,
          1791,
          1967
         ],
         "yaxis": "y"
        },
        {
         "hoverlabel": {
          "namelength": 0
         },
         "hovertemplate": "color=La Réunion<br>x=%{x}<br>y=%{y}",
         "legendgroup": "La Réunion",
         "line": {
          "color": "#2E91E5",
          "dash": "solid",
          "width": 2.5
         },
         "marker": {
          "size": 7.5
         },
         "mode": "lines+markers",
         "name": "La Réunion",
         "showlegend": true,
         "type": "scatter",
         "x": [
          "2020-03-18",
          "2020-03-19",
          "2020-03-20",
          "2020-03-21",
          "2020-03-22",
          "2020-03-23",
          "2020-03-24",
          "2020-03-25",
          "2020-03-26",
          "2020-03-27",
          "2020-03-28",
          "2020-03-29",
          "2020-03-30",
          "2020-03-31",
          "2020-04-01",
          "2020-04-02",
          "2020-04-03",
          "2020-04-04"
         ],
         "xaxis": "x",
         "y": [
          0,
          0,
          0,
          0,
          0,
          0,
          0,
          0,
          0,
          0,
          0,
          0,
          0,
          0,
          0,
          0,
          0,
          0
         ],
         "yaxis": "y"
        },
        {
         "hoverlabel": {
          "namelength": 0
         },
         "hovertemplate": "color=Martinique<br>x=%{x}<br>y=%{y}",
         "legendgroup": "Martinique",
         "line": {
          "color": "#E15F99",
          "dash": "solid",
          "width": 2.5
         },
         "marker": {
          "size": 7.5
         },
         "mode": "lines+markers",
         "name": "Martinique",
         "showlegend": true,
         "type": "scatter",
         "x": [
          "2020-03-18",
          "2020-03-19",
          "2020-03-20",
          "2020-03-21",
          "2020-03-22",
          "2020-03-23",
          "2020-03-24",
          "2020-03-25",
          "2020-03-26",
          "2020-03-27",
          "2020-03-28",
          "2020-03-29",
          "2020-03-30",
          "2020-03-31",
          "2020-04-01",
          "2020-04-02",
          "2020-04-03",
          "2020-04-04"
         ],
         "xaxis": "x",
         "y": [
          1,
          1,
          1,
          1,
          1,
          1,
          1,
          1,
          1,
          1,
          1,
          3,
          3,
          3,
          3,
          3,
          3,
          3
         ],
         "yaxis": "y"
        },
        {
         "hoverlabel": {
          "namelength": 0
         },
         "hovertemplate": "color=Normandie<br>x=%{x}<br>y=%{y}",
         "legendgroup": "Normandie",
         "line": {
          "color": "#1CA71C",
          "dash": "solid",
          "width": 2.5
         },
         "marker": {
          "size": 7.5
         },
         "mode": "lines+markers",
         "name": "Normandie",
         "showlegend": true,
         "type": "scatter",
         "x": [
          "2020-03-18",
          "2020-03-19",
          "2020-03-20",
          "2020-03-21",
          "2020-03-22",
          "2020-03-23",
          "2020-03-24",
          "2020-03-25",
          "2020-03-26",
          "2020-03-27",
          "2020-03-28",
          "2020-03-29",
          "2020-03-30",
          "2020-03-31",
          "2020-04-01",
          "2020-04-02",
          "2020-04-03",
          "2020-04-04"
         ],
         "xaxis": "x",
         "y": [
          3,
          5,
          7,
          6,
          8,
          9,
          15,
          18,
          20,
          24,
          26,
          32,
          42,
          62,
          69,
          81,
          93,
          99
         ],
         "yaxis": "y"
        },
        {
         "hoverlabel": {
          "namelength": 0
         },
         "hovertemplate": "color=Nouvelle-Aquitaine<br>x=%{x}<br>y=%{y}",
         "legendgroup": "Nouvelle-Aquitaine",
         "line": {
          "color": "#FB0D0D",
          "dash": "solid",
          "width": 2.5
         },
         "marker": {
          "size": 7.5
         },
         "mode": "lines+markers",
         "name": "Nouvelle-Aquitaine",
         "showlegend": true,
         "type": "scatter",
         "x": [
          "2020-03-18",
          "2020-03-19",
          "2020-03-20",
          "2020-03-21",
          "2020-03-22",
          "2020-03-23",
          "2020-03-24",
          "2020-03-25",
          "2020-03-26",
          "2020-03-27",
          "2020-03-28",
          "2020-03-29",
          "2020-03-30",
          "2020-03-31",
          "2020-04-01",
          "2020-04-02",
          "2020-04-03",
          "2020-04-04"
         ],
         "xaxis": "x",
         "y": [
          2,
          3,
          4,
          5,
          8,
          13,
          16,
          25,
          34,
          42,
          50,
          58,
          72,
          78,
          82,
          94,
          100,
          111
         ],
         "yaxis": "y"
        },
        {
         "hoverlabel": {
          "namelength": 0
         },
         "hovertemplate": "color=Occitanie<br>x=%{x}<br>y=%{y}",
         "legendgroup": "Occitanie",
         "line": {
          "color": "#DA16FF",
          "dash": "solid",
          "width": 2.5
         },
         "marker": {
          "size": 7.5
         },
         "mode": "lines+markers",
         "name": "Occitanie",
         "showlegend": true,
         "type": "scatter",
         "x": [
          "2020-03-18",
          "2020-03-19",
          "2020-03-20",
          "2020-03-21",
          "2020-03-22",
          "2020-03-23",
          "2020-03-24",
          "2020-03-25",
          "2020-03-26",
          "2020-03-27",
          "2020-03-28",
          "2020-03-29",
          "2020-03-30",
          "2020-03-31",
          "2020-04-01",
          "2020-04-02",
          "2020-04-03",
          "2020-04-04"
         ],
         "xaxis": "x",
         "y": [
          6,
          17,
          21,
          24,
          25,
          32,
          39,
          46,
          54,
          61,
          68,
          76,
          82,
          91,
          108,
          119,
          131,
          148
         ],
         "yaxis": "y"
        },
        {
         "hoverlabel": {
          "namelength": 0
         },
         "hovertemplate": "color=Pays de la Loire<br>x=%{x}<br>y=%{y}",
         "legendgroup": "Pays de la Loire",
         "line": {
          "color": "#222A2A",
          "dash": "solid",
          "width": 2.5
         },
         "marker": {
          "size": 7.5
         },
         "mode": "lines+markers",
         "name": "Pays de la Loire",
         "showlegend": true,
         "type": "scatter",
         "x": [
          "2020-03-18",
          "2020-03-19",
          "2020-03-20",
          "2020-03-21",
          "2020-03-22",
          "2020-03-23",
          "2020-03-24",
          "2020-03-25",
          "2020-03-26",
          "2020-03-27",
          "2020-03-28",
          "2020-03-29",
          "2020-03-30",
          "2020-03-31",
          "2020-04-01",
          "2020-04-02",
          "2020-04-03",
          "2020-04-04"
         ],
         "xaxis": "x",
         "y": [
          1,
          1,
          1,
          3,
          4,
          9,
          13,
          16,
          24,
          31,
          42,
          47,
          58,
          71,
          82,
          92,
          109,
          118
         ],
         "yaxis": "y"
        },
        {
         "hoverlabel": {
          "namelength": 0
         },
         "hovertemplate": "color=Provence-Alpes-Côte d'Azur<br>x=%{x}<br>y=%{y}",
         "legendgroup": "Provence-Alpes-Côte d'Azur",
         "line": {
          "color": "#B68100",
          "dash": "solid",
          "width": 2.5
         },
         "marker": {
          "size": 7.5
         },
         "mode": "lines+markers",
         "name": "Provence-Alpes-Côte d'Azur",
         "showlegend": true,
         "type": "scatter",
         "x": [
          "2020-03-18",
          "2020-03-19",
          "2020-03-20",
          "2020-03-21",
          "2020-03-22",
          "2020-03-23",
          "2020-03-24",
          "2020-03-25",
          "2020-03-26",
          "2020-03-27",
          "2020-03-28",
          "2020-03-29",
          "2020-03-30",
          "2020-03-31",
          "2020-04-01",
          "2020-04-02",
          "2020-04-03",
          "2020-04-04"
         ],
         "xaxis": "x",
         "y": [
          7,
          9,
          11,
          13,
          14,
          20,
          26,
          33,
          44,
          48,
          55,
          65,
          80,
          103,
          124,
          141,
          161,
          178
         ],
         "yaxis": "y"
        }
       ],
       "layout": {
        "annotations": [
         {
          "showarrow": false,
          "text": "Date : 04 avril 2020. Source : INSEE et CSSE. Auteur : @guillaumerozier.",
          "x": 0,
          "xref": "paper",
          "y": 1,
          "yref": "paper"
         }
        ],
        "legend": {
         "title": {
          "text": "color"
         },
         "tracegroupgap": 0
        },
        "margin": {
         "t": 60
        },
        "template": {
         "data": {
          "bar": [
           {
            "error_x": {
             "color": "#2a3f5f"
            },
            "error_y": {
             "color": "#2a3f5f"
            },
            "marker": {
             "line": {
              "color": "#E5ECF6",
              "width": 0.5
             }
            },
            "type": "bar"
           }
          ],
          "barpolar": [
           {
            "marker": {
             "line": {
              "color": "#E5ECF6",
              "width": 0.5
             }
            },
            "type": "barpolar"
           }
          ],
          "carpet": [
           {
            "aaxis": {
             "endlinecolor": "#2a3f5f",
             "gridcolor": "white",
             "linecolor": "white",
             "minorgridcolor": "white",
             "startlinecolor": "#2a3f5f"
            },
            "baxis": {
             "endlinecolor": "#2a3f5f",
             "gridcolor": "white",
             "linecolor": "white",
             "minorgridcolor": "white",
             "startlinecolor": "#2a3f5f"
            },
            "type": "carpet"
           }
          ],
          "choropleth": [
           {
            "colorbar": {
             "outlinewidth": 0,
             "ticks": ""
            },
            "type": "choropleth"
           }
          ],
          "contour": [
           {
            "colorbar": {
             "outlinewidth": 0,
             "ticks": ""
            },
            "colorscale": [
             [
              0,
              "#0d0887"
             ],
             [
              0.1111111111111111,
              "#46039f"
             ],
             [
              0.2222222222222222,
              "#7201a8"
             ],
             [
              0.3333333333333333,
              "#9c179e"
             ],
             [
              0.4444444444444444,
              "#bd3786"
             ],
             [
              0.5555555555555556,
              "#d8576b"
             ],
             [
              0.6666666666666666,
              "#ed7953"
             ],
             [
              0.7777777777777778,
              "#fb9f3a"
             ],
             [
              0.8888888888888888,
              "#fdca26"
             ],
             [
              1,
              "#f0f921"
             ]
            ],
            "type": "contour"
           }
          ],
          "contourcarpet": [
           {
            "colorbar": {
             "outlinewidth": 0,
             "ticks": ""
            },
            "type": "contourcarpet"
           }
          ],
          "heatmap": [
           {
            "colorbar": {
             "outlinewidth": 0,
             "ticks": ""
            },
            "colorscale": [
             [
              0,
              "#0d0887"
             ],
             [
              0.1111111111111111,
              "#46039f"
             ],
             [
              0.2222222222222222,
              "#7201a8"
             ],
             [
              0.3333333333333333,
              "#9c179e"
             ],
             [
              0.4444444444444444,
              "#bd3786"
             ],
             [
              0.5555555555555556,
              "#d8576b"
             ],
             [
              0.6666666666666666,
              "#ed7953"
             ],
             [
              0.7777777777777778,
              "#fb9f3a"
             ],
             [
              0.8888888888888888,
              "#fdca26"
             ],
             [
              1,
              "#f0f921"
             ]
            ],
            "type": "heatmap"
           }
          ],
          "heatmapgl": [
           {
            "colorbar": {
             "outlinewidth": 0,
             "ticks": ""
            },
            "colorscale": [
             [
              0,
              "#0d0887"
             ],
             [
              0.1111111111111111,
              "#46039f"
             ],
             [
              0.2222222222222222,
              "#7201a8"
             ],
             [
              0.3333333333333333,
              "#9c179e"
             ],
             [
              0.4444444444444444,
              "#bd3786"
             ],
             [
              0.5555555555555556,
              "#d8576b"
             ],
             [
              0.6666666666666666,
              "#ed7953"
             ],
             [
              0.7777777777777778,
              "#fb9f3a"
             ],
             [
              0.8888888888888888,
              "#fdca26"
             ],
             [
              1,
              "#f0f921"
             ]
            ],
            "type": "heatmapgl"
           }
          ],
          "histogram": [
           {
            "marker": {
             "colorbar": {
              "outlinewidth": 0,
              "ticks": ""
             }
            },
            "type": "histogram"
           }
          ],
          "histogram2d": [
           {
            "colorbar": {
             "outlinewidth": 0,
             "ticks": ""
            },
            "colorscale": [
             [
              0,
              "#0d0887"
             ],
             [
              0.1111111111111111,
              "#46039f"
             ],
             [
              0.2222222222222222,
              "#7201a8"
             ],
             [
              0.3333333333333333,
              "#9c179e"
             ],
             [
              0.4444444444444444,
              "#bd3786"
             ],
             [
              0.5555555555555556,
              "#d8576b"
             ],
             [
              0.6666666666666666,
              "#ed7953"
             ],
             [
              0.7777777777777778,
              "#fb9f3a"
             ],
             [
              0.8888888888888888,
              "#fdca26"
             ],
             [
              1,
              "#f0f921"
             ]
            ],
            "type": "histogram2d"
           }
          ],
          "histogram2dcontour": [
           {
            "colorbar": {
             "outlinewidth": 0,
             "ticks": ""
            },
            "colorscale": [
             [
              0,
              "#0d0887"
             ],
             [
              0.1111111111111111,
              "#46039f"
             ],
             [
              0.2222222222222222,
              "#7201a8"
             ],
             [
              0.3333333333333333,
              "#9c179e"
             ],
             [
              0.4444444444444444,
              "#bd3786"
             ],
             [
              0.5555555555555556,
              "#d8576b"
             ],
             [
              0.6666666666666666,
              "#ed7953"
             ],
             [
              0.7777777777777778,
              "#fb9f3a"
             ],
             [
              0.8888888888888888,
              "#fdca26"
             ],
             [
              1,
              "#f0f921"
             ]
            ],
            "type": "histogram2dcontour"
           }
          ],
          "mesh3d": [
           {
            "colorbar": {
             "outlinewidth": 0,
             "ticks": ""
            },
            "type": "mesh3d"
           }
          ],
          "parcoords": [
           {
            "line": {
             "colorbar": {
              "outlinewidth": 0,
              "ticks": ""
             }
            },
            "type": "parcoords"
           }
          ],
          "pie": [
           {
            "automargin": true,
            "type": "pie"
           }
          ],
          "scatter": [
           {
            "marker": {
             "colorbar": {
              "outlinewidth": 0,
              "ticks": ""
             }
            },
            "type": "scatter"
           }
          ],
          "scatter3d": [
           {
            "line": {
             "colorbar": {
              "outlinewidth": 0,
              "ticks": ""
             }
            },
            "marker": {
             "colorbar": {
              "outlinewidth": 0,
              "ticks": ""
             }
            },
            "type": "scatter3d"
           }
          ],
          "scattercarpet": [
           {
            "marker": {
             "colorbar": {
              "outlinewidth": 0,
              "ticks": ""
             }
            },
            "type": "scattercarpet"
           }
          ],
          "scattergeo": [
           {
            "marker": {
             "colorbar": {
              "outlinewidth": 0,
              "ticks": ""
             }
            },
            "type": "scattergeo"
           }
          ],
          "scattergl": [
           {
            "marker": {
             "colorbar": {
              "outlinewidth": 0,
              "ticks": ""
             }
            },
            "type": "scattergl"
           }
          ],
          "scattermapbox": [
           {
            "marker": {
             "colorbar": {
              "outlinewidth": 0,
              "ticks": ""
             }
            },
            "type": "scattermapbox"
           }
          ],
          "scatterpolar": [
           {
            "marker": {
             "colorbar": {
              "outlinewidth": 0,
              "ticks": ""
             }
            },
            "type": "scatterpolar"
           }
          ],
          "scatterpolargl": [
           {
            "marker": {
             "colorbar": {
              "outlinewidth": 0,
              "ticks": ""
             }
            },
            "type": "scatterpolargl"
           }
          ],
          "scatterternary": [
           {
            "marker": {
             "colorbar": {
              "outlinewidth": 0,
              "ticks": ""
             }
            },
            "type": "scatterternary"
           }
          ],
          "surface": [
           {
            "colorbar": {
             "outlinewidth": 0,
             "ticks": ""
            },
            "colorscale": [
             [
              0,
              "#0d0887"
             ],
             [
              0.1111111111111111,
              "#46039f"
             ],
             [
              0.2222222222222222,
              "#7201a8"
             ],
             [
              0.3333333333333333,
              "#9c179e"
             ],
             [
              0.4444444444444444,
              "#bd3786"
             ],
             [
              0.5555555555555556,
              "#d8576b"
             ],
             [
              0.6666666666666666,
              "#ed7953"
             ],
             [
              0.7777777777777778,
              "#fb9f3a"
             ],
             [
              0.8888888888888888,
              "#fdca26"
             ],
             [
              1,
              "#f0f921"
             ]
            ],
            "type": "surface"
           }
          ],
          "table": [
           {
            "cells": {
             "fill": {
              "color": "#EBF0F8"
             },
             "line": {
              "color": "white"
             }
            },
            "header": {
             "fill": {
              "color": "#C8D4E3"
             },
             "line": {
              "color": "white"
             }
            },
            "type": "table"
           }
          ]
         },
         "layout": {
          "annotationdefaults": {
           "arrowcolor": "#2a3f5f",
           "arrowhead": 0,
           "arrowwidth": 1
          },
          "coloraxis": {
           "colorbar": {
            "outlinewidth": 0,
            "ticks": ""
           }
          },
          "colorscale": {
           "diverging": [
            [
             0,
             "#8e0152"
            ],
            [
             0.1,
             "#c51b7d"
            ],
            [
             0.2,
             "#de77ae"
            ],
            [
             0.3,
             "#f1b6da"
            ],
            [
             0.4,
             "#fde0ef"
            ],
            [
             0.5,
             "#f7f7f7"
            ],
            [
             0.6,
             "#e6f5d0"
            ],
            [
             0.7,
             "#b8e186"
            ],
            [
             0.8,
             "#7fbc41"
            ],
            [
             0.9,
             "#4d9221"
            ],
            [
             1,
             "#276419"
            ]
           ],
           "sequential": [
            [
             0,
             "#0d0887"
            ],
            [
             0.1111111111111111,
             "#46039f"
            ],
            [
             0.2222222222222222,
             "#7201a8"
            ],
            [
             0.3333333333333333,
             "#9c179e"
            ],
            [
             0.4444444444444444,
             "#bd3786"
            ],
            [
             0.5555555555555556,
             "#d8576b"
            ],
            [
             0.6666666666666666,
             "#ed7953"
            ],
            [
             0.7777777777777778,
             "#fb9f3a"
            ],
            [
             0.8888888888888888,
             "#fdca26"
            ],
            [
             1,
             "#f0f921"
            ]
           ],
           "sequentialminus": [
            [
             0,
             "#0d0887"
            ],
            [
             0.1111111111111111,
             "#46039f"
            ],
            [
             0.2222222222222222,
             "#7201a8"
            ],
            [
             0.3333333333333333,
             "#9c179e"
            ],
            [
             0.4444444444444444,
             "#bd3786"
            ],
            [
             0.5555555555555556,
             "#d8576b"
            ],
            [
             0.6666666666666666,
             "#ed7953"
            ],
            [
             0.7777777777777778,
             "#fb9f3a"
            ],
            [
             0.8888888888888888,
             "#fdca26"
            ],
            [
             1,
             "#f0f921"
            ]
           ]
          },
          "colorway": [
           "#636efa",
           "#EF553B",
           "#00cc96",
           "#ab63fa",
           "#FFA15A",
           "#19d3f3",
           "#FF6692",
           "#B6E880",
           "#FF97FF",
           "#FECB52"
          ],
          "font": {
           "color": "#2a3f5f"
          },
          "geo": {
           "bgcolor": "white",
           "lakecolor": "white",
           "landcolor": "#E5ECF6",
           "showlakes": true,
           "showland": true,
           "subunitcolor": "white"
          },
          "hoverlabel": {
           "align": "left"
          },
          "hovermode": "closest",
          "mapbox": {
           "style": "light"
          },
          "paper_bgcolor": "white",
          "plot_bgcolor": "#E5ECF6",
          "polar": {
           "angularaxis": {
            "gridcolor": "white",
            "linecolor": "white",
            "ticks": ""
           },
           "bgcolor": "#E5ECF6",
           "radialaxis": {
            "gridcolor": "white",
            "linecolor": "white",
            "ticks": ""
           }
          },
          "scene": {
           "xaxis": {
            "backgroundcolor": "#E5ECF6",
            "gridcolor": "white",
            "gridwidth": 2,
            "linecolor": "white",
            "showbackground": true,
            "ticks": "",
            "zerolinecolor": "white"
           },
           "yaxis": {
            "backgroundcolor": "#E5ECF6",
            "gridcolor": "white",
            "gridwidth": 2,
            "linecolor": "white",
            "showbackground": true,
            "ticks": "",
            "zerolinecolor": "white"
           },
           "zaxis": {
            "backgroundcolor": "#E5ECF6",
            "gridcolor": "white",
            "gridwidth": 2,
            "linecolor": "white",
            "showbackground": true,
            "ticks": "",
            "zerolinecolor": "white"
           }
          },
          "shapedefaults": {
           "line": {
            "color": "#2a3f5f"
           }
          },
          "ternary": {
           "aaxis": {
            "gridcolor": "white",
            "linecolor": "white",
            "ticks": ""
           },
           "baxis": {
            "gridcolor": "white",
            "linecolor": "white",
            "ticks": ""
           },
           "bgcolor": "#E5ECF6",
           "caxis": {
            "gridcolor": "white",
            "linecolor": "white",
            "ticks": ""
           }
          },
          "title": {
           "x": 0.05
          },
          "xaxis": {
           "automargin": true,
           "gridcolor": "white",
           "linecolor": "white",
           "ticks": "",
           "title": {
            "standoff": 15
           },
           "zerolinecolor": "white",
           "zerolinewidth": 2
          },
          "yaxis": {
           "automargin": true,
           "gridcolor": "white",
           "linecolor": "white",
           "ticks": "",
           "title": {
            "standoff": 15
           },
           "zerolinecolor": "white",
           "zerolinewidth": 2
          }
         }
        },
        "title": {
         "font": {
          "size": 20
         },
         "text": "Nombre de <b>décès cumulés</b>",
         "x": 0.5,
         "xanchor": "center",
         "y": 0.95,
         "yanchor": "top"
        },
        "xaxis": {
         "anchor": "y",
         "domain": [
          0,
          1
         ],
         "title": {
          "text": "Jour"
         }
        },
        "yaxis": {
         "anchor": "x",
         "domain": [
          0,
          1
         ],
         "title": {
          "text": "Nb. de décès cumulés"
         }
        }
       }
      },
      "text/html": [
       "<div>\n",
       "        \n",
       "        \n",
       "            <div id=\"8553c1cc-d415-4567-9a1b-a253bba61af0\" class=\"plotly-graph-div\" style=\"height:525px; width:100%;\"></div>\n",
       "            <script type=\"text/javascript\">\n",
       "                require([\"plotly\"], function(Plotly) {\n",
       "                    window.PLOTLYENV=window.PLOTLYENV || {};\n",
       "                    \n",
       "                if (document.getElementById(\"8553c1cc-d415-4567-9a1b-a253bba61af0\")) {\n",
       "                    Plotly.newPlot(\n",
       "                        '8553c1cc-d415-4567-9a1b-a253bba61af0',\n",
       "                        [{\"hoverlabel\": {\"namelength\": 0}, \"hovertemplate\": \"color=Auvergne-Rh\\u00f4ne-Alpes<br>x=%{x}<br>y=%{y}\", \"legendgroup\": \"Auvergne-Rh\\u00f4ne-Alpes\", \"line\": {\"color\": \"#1F77B4\", \"dash\": \"solid\", \"width\": 2.5}, \"marker\": {\"size\": 7.5}, \"mode\": \"lines+markers\", \"name\": \"Auvergne-Rh\\u00f4ne-Alpes\", \"showlegend\": true, \"type\": \"scatter\", \"x\": [\"2020-03-18\", \"2020-03-19\", \"2020-03-20\", \"2020-03-21\", \"2020-03-22\", \"2020-03-23\", \"2020-03-24\", \"2020-03-25\", \"2020-03-26\", \"2020-03-27\", \"2020-03-28\", \"2020-03-29\", \"2020-03-30\", \"2020-03-31\", \"2020-04-01\", \"2020-04-02\", \"2020-04-03\", \"2020-04-04\"], \"xaxis\": \"x\", \"y\": [7, 22, 33, 38, 47, 70, 86, 107, 134, 165, 195, 227, 264, 295, 349, 404, 448, 478], \"yaxis\": \"y\"}, {\"hoverlabel\": {\"namelength\": 0}, \"hovertemplate\": \"color=Bourgogne-Franche-Comt\\u00e9<br>x=%{x}<br>y=%{y}\", \"legendgroup\": \"Bourgogne-Franche-Comt\\u00e9\", \"line\": {\"color\": \"#FF7F0E\", \"dash\": \"solid\", \"width\": 2.5}, \"marker\": {\"size\": 7.5}, \"mode\": \"lines+markers\", \"name\": \"Bourgogne-Franche-Comt\\u00e9\", \"showlegend\": true, \"type\": \"scatter\", \"x\": [\"2020-03-18\", \"2020-03-19\", \"2020-03-20\", \"2020-03-21\", \"2020-03-22\", \"2020-03-23\", \"2020-03-24\", \"2020-03-25\", \"2020-03-26\", \"2020-03-27\", \"2020-03-28\", \"2020-03-29\", \"2020-03-30\", \"2020-03-31\", \"2020-04-01\", \"2020-04-02\", \"2020-04-03\", \"2020-04-04\"], \"xaxis\": \"x\", \"y\": [6, 14, 22, 27, 40, 62, 85, 102, 123, 139, 148, 164, 187, 214, 230, 271, 303, 323], \"yaxis\": \"y\"}, {\"hoverlabel\": {\"namelength\": 0}, \"hovertemplate\": \"color=Bretagne<br>x=%{x}<br>y=%{y}\", \"legendgroup\": \"Bretagne\", \"line\": {\"color\": \"#2CA02C\", \"dash\": \"solid\", \"width\": 2.5}, \"marker\": {\"size\": 7.5}, \"mode\": \"lines+markers\", \"name\": \"Bretagne\", \"showlegend\": true, \"type\": \"scatter\", \"x\": [\"2020-03-18\", \"2020-03-19\", \"2020-03-20\", \"2020-03-21\", \"2020-03-22\", \"2020-03-23\", \"2020-03-24\", \"2020-03-25\", \"2020-03-26\", \"2020-03-27\", \"2020-03-28\", \"2020-03-29\", \"2020-03-30\", \"2020-03-31\", \"2020-04-01\", \"2020-04-02\", \"2020-04-03\", \"2020-04-04\"], \"xaxis\": \"x\", \"y\": [7, 9, 12, 15, 17, 23, 25, 28, 29, 34, 37, 41, 45, 50, 55, 63, 69, 75], \"yaxis\": \"y\"}, {\"hoverlabel\": {\"namelength\": 0}, \"hovertemplate\": \"color=Centre<br>x=%{x}<br>y=%{y}\", \"legendgroup\": \"Centre\", \"line\": {\"color\": \"#D62728\", \"dash\": \"solid\", \"width\": 2.5}, \"marker\": {\"size\": 7.5}, \"mode\": \"lines+markers\", \"name\": \"Centre\", \"showlegend\": true, \"type\": \"scatter\", \"x\": [\"2020-03-18\", \"2020-03-19\", \"2020-03-20\", \"2020-03-21\", \"2020-03-22\", \"2020-03-23\", \"2020-03-24\", \"2020-03-25\", \"2020-03-26\", \"2020-03-27\", \"2020-03-28\", \"2020-03-29\", \"2020-03-30\", \"2020-03-31\", \"2020-04-01\", \"2020-04-02\", \"2020-04-03\", \"2020-04-04\"], \"xaxis\": \"x\", \"y\": [1, 1, 2, 2, 3, 8, 9, 13, 20, 26, 35, 39, 53, 60, 77, 84, 98, 106], \"yaxis\": \"y\"}, {\"hoverlabel\": {\"namelength\": 0}, \"hovertemplate\": \"color=Corse<br>x=%{x}<br>y=%{y}\", \"legendgroup\": \"Corse\", \"line\": {\"color\": \"#9467BD\", \"dash\": \"solid\", \"width\": 2.5}, \"marker\": {\"size\": 7.5}, \"mode\": \"lines+markers\", \"name\": \"Corse\", \"showlegend\": true, \"type\": \"scatter\", \"x\": [\"2020-03-18\", \"2020-03-19\", \"2020-03-20\", \"2020-03-21\", \"2020-03-22\", \"2020-03-23\", \"2020-03-24\", \"2020-03-25\", \"2020-03-26\", \"2020-03-27\", \"2020-03-28\", \"2020-03-29\", \"2020-03-30\", \"2020-03-31\", \"2020-04-01\", \"2020-04-02\", \"2020-04-03\", \"2020-04-04\"], \"xaxis\": \"x\", \"y\": [0, 1, 3, 4, 6, 7, 7, 15, 19, 19, 19, 19, 19, 20, 21, 23, 26, 26], \"yaxis\": \"y\"}, {\"hoverlabel\": {\"namelength\": 0}, \"hovertemplate\": \"color=Grand Est<br>x=%{x}<br>y=%{y}\", \"legendgroup\": \"Grand Est\", \"line\": {\"color\": \"#8C564B\", \"dash\": \"solid\", \"width\": 2.5}, \"marker\": {\"size\": 7.5}, \"mode\": \"lines+markers\", \"name\": \"Grand Est\", \"showlegend\": true, \"type\": \"scatter\", \"x\": [\"2020-03-18\", \"2020-03-19\", \"2020-03-20\", \"2020-03-21\", \"2020-03-22\", \"2020-03-23\", \"2020-03-24\", \"2020-03-25\", \"2020-03-26\", \"2020-03-27\", \"2020-03-28\", \"2020-03-29\", \"2020-03-30\", \"2020-03-31\", \"2020-04-01\", \"2020-04-02\", \"2020-04-03\", \"2020-04-04\"], \"xaxis\": \"x\", \"y\": [120, 148, 183, 209, 252, 327, 407, 505, 584, 657, 753, 815, 919, 1015, 1126, 1178, 1311, 1402], \"yaxis\": \"y\"}, {\"hoverlabel\": {\"namelength\": 0}, \"hovertemplate\": \"color=Guadeloupe<br>x=%{x}<br>y=%{y}\", \"legendgroup\": \"Guadeloupe\", \"line\": {\"color\": \"#E377C2\", \"dash\": \"solid\", \"width\": 2.5}, \"marker\": {\"size\": 7.5}, \"mode\": \"lines+markers\", \"name\": \"Guadeloupe\", \"showlegend\": true, \"type\": \"scatter\", \"x\": [\"2020-03-18\", \"2020-03-19\", \"2020-03-20\", \"2020-03-21\", \"2020-03-22\", \"2020-03-23\", \"2020-03-24\", \"2020-03-25\", \"2020-03-26\", \"2020-03-27\", \"2020-03-28\", \"2020-03-29\", \"2020-03-30\", \"2020-03-31\", \"2020-04-01\", \"2020-04-02\", \"2020-04-03\", \"2020-04-04\"], \"xaxis\": \"x\", \"y\": [0, 0, 0, 0, 0, 0, 0, 0, 0, 1, 1, 2, 4, 5, 7, 7, 8, 8], \"yaxis\": \"y\"}, {\"hoverlabel\": {\"namelength\": 0}, \"hovertemplate\": \"color=Guyane<br>x=%{x}<br>y=%{y}\", \"legendgroup\": \"Guyane\", \"line\": {\"color\": \"#7F7F7F\", \"dash\": \"solid\", \"width\": 2.5}, \"marker\": {\"size\": 7.5}, \"mode\": \"lines+markers\", \"name\": \"Guyane\", \"showlegend\": true, \"type\": \"scatter\", \"x\": [\"2020-03-18\", \"2020-03-19\", \"2020-03-20\", \"2020-03-21\", \"2020-03-22\", \"2020-03-23\", \"2020-03-24\", \"2020-03-25\", \"2020-03-26\", \"2020-03-27\", \"2020-03-28\", \"2020-03-29\", \"2020-03-30\", \"2020-03-31\", \"2020-04-01\", \"2020-04-02\", \"2020-04-03\", \"2020-04-04\"], \"xaxis\": \"x\", \"y\": [0, 0, 0, 0, 0, 0, 0, 0, 0, 0, 0, 0, 0, 0, 0, 0, 0, 0], \"yaxis\": \"y\"}, {\"hoverlabel\": {\"namelength\": 0}, \"hovertemplate\": \"color=Hauts-de-France<br>x=%{x}<br>y=%{y}\", \"legendgroup\": \"Hauts-de-France\", \"line\": {\"color\": \"#BCBD22\", \"dash\": \"solid\", \"width\": 2.5}, \"marker\": {\"size\": 7.5}, \"mode\": \"lines+markers\", \"name\": \"Hauts-de-France\", \"showlegend\": true, \"type\": \"scatter\", \"x\": [\"2020-03-18\", \"2020-03-19\", \"2020-03-20\", \"2020-03-21\", \"2020-03-22\", \"2020-03-23\", \"2020-03-24\", \"2020-03-25\", \"2020-03-26\", \"2020-03-27\", \"2020-03-28\", \"2020-03-29\", \"2020-03-30\", \"2020-03-31\", \"2020-04-01\", \"2020-04-02\", \"2020-04-03\", \"2020-04-04\"], \"xaxis\": \"x\", \"y\": [21, 40, 51, 56, 67, 86, 109, 122, 150, 169, 196, 211, 242, 280, 330, 370, 438, 488], \"yaxis\": \"y\"}, {\"hoverlabel\": {\"namelength\": 0}, \"hovertemplate\": \"color=Ile-de-France<br>x=%{x}<br>y=%{y}\", \"legendgroup\": \"Ile-de-France\", \"line\": {\"color\": \"#17BECF\", \"dash\": \"solid\", \"width\": 2.5}, \"marker\": {\"size\": 7.5}, \"mode\": \"lines+markers\", \"name\": \"Ile-de-France\", \"showlegend\": true, \"type\": \"scatter\", \"x\": [\"2020-03-18\", \"2020-03-19\", \"2020-03-20\", \"2020-03-21\", \"2020-03-22\", \"2020-03-23\", \"2020-03-24\", \"2020-03-25\", \"2020-03-26\", \"2020-03-27\", \"2020-03-28\", \"2020-03-29\", \"2020-03-30\", \"2020-03-31\", \"2020-04-01\", \"2020-04-02\", \"2020-04-03\", \"2020-04-04\"], \"xaxis\": \"x\", \"y\": [36, 56, 99, 122, 140, 193, 262, 357, 460, 578, 688, 807, 954, 1176, 1369, 1571, 1791, 1967], \"yaxis\": \"y\"}, {\"hoverlabel\": {\"namelength\": 0}, \"hovertemplate\": \"color=La R\\u00e9union<br>x=%{x}<br>y=%{y}\", \"legendgroup\": \"La R\\u00e9union\", \"line\": {\"color\": \"#2E91E5\", \"dash\": \"solid\", \"width\": 2.5}, \"marker\": {\"size\": 7.5}, \"mode\": \"lines+markers\", \"name\": \"La R\\u00e9union\", \"showlegend\": true, \"type\": \"scatter\", \"x\": [\"2020-03-18\", \"2020-03-19\", \"2020-03-20\", \"2020-03-21\", \"2020-03-22\", \"2020-03-23\", \"2020-03-24\", \"2020-03-25\", \"2020-03-26\", \"2020-03-27\", \"2020-03-28\", \"2020-03-29\", \"2020-03-30\", \"2020-03-31\", \"2020-04-01\", \"2020-04-02\", \"2020-04-03\", \"2020-04-04\"], \"xaxis\": \"x\", \"y\": [0, 0, 0, 0, 0, 0, 0, 0, 0, 0, 0, 0, 0, 0, 0, 0, 0, 0], \"yaxis\": \"y\"}, {\"hoverlabel\": {\"namelength\": 0}, \"hovertemplate\": \"color=Martinique<br>x=%{x}<br>y=%{y}\", \"legendgroup\": \"Martinique\", \"line\": {\"color\": \"#E15F99\", \"dash\": \"solid\", \"width\": 2.5}, \"marker\": {\"size\": 7.5}, \"mode\": \"lines+markers\", \"name\": \"Martinique\", \"showlegend\": true, \"type\": \"scatter\", \"x\": [\"2020-03-18\", \"2020-03-19\", \"2020-03-20\", \"2020-03-21\", \"2020-03-22\", \"2020-03-23\", \"2020-03-24\", \"2020-03-25\", \"2020-03-26\", \"2020-03-27\", \"2020-03-28\", \"2020-03-29\", \"2020-03-30\", \"2020-03-31\", \"2020-04-01\", \"2020-04-02\", \"2020-04-03\", \"2020-04-04\"], \"xaxis\": \"x\", \"y\": [1, 1, 1, 1, 1, 1, 1, 1, 1, 1, 1, 3, 3, 3, 3, 3, 3, 3], \"yaxis\": \"y\"}, {\"hoverlabel\": {\"namelength\": 0}, \"hovertemplate\": \"color=Normandie<br>x=%{x}<br>y=%{y}\", \"legendgroup\": \"Normandie\", \"line\": {\"color\": \"#1CA71C\", \"dash\": \"solid\", \"width\": 2.5}, \"marker\": {\"size\": 7.5}, \"mode\": \"lines+markers\", \"name\": \"Normandie\", \"showlegend\": true, \"type\": \"scatter\", \"x\": [\"2020-03-18\", \"2020-03-19\", \"2020-03-20\", \"2020-03-21\", \"2020-03-22\", \"2020-03-23\", \"2020-03-24\", \"2020-03-25\", \"2020-03-26\", \"2020-03-27\", \"2020-03-28\", \"2020-03-29\", \"2020-03-30\", \"2020-03-31\", \"2020-04-01\", \"2020-04-02\", \"2020-04-03\", \"2020-04-04\"], \"xaxis\": \"x\", \"y\": [3, 5, 7, 6, 8, 9, 15, 18, 20, 24, 26, 32, 42, 62, 69, 81, 93, 99], \"yaxis\": \"y\"}, {\"hoverlabel\": {\"namelength\": 0}, \"hovertemplate\": \"color=Nouvelle-Aquitaine<br>x=%{x}<br>y=%{y}\", \"legendgroup\": \"Nouvelle-Aquitaine\", \"line\": {\"color\": \"#FB0D0D\", \"dash\": \"solid\", \"width\": 2.5}, \"marker\": {\"size\": 7.5}, \"mode\": \"lines+markers\", \"name\": \"Nouvelle-Aquitaine\", \"showlegend\": true, \"type\": \"scatter\", \"x\": [\"2020-03-18\", \"2020-03-19\", \"2020-03-20\", \"2020-03-21\", \"2020-03-22\", \"2020-03-23\", \"2020-03-24\", \"2020-03-25\", \"2020-03-26\", \"2020-03-27\", \"2020-03-28\", \"2020-03-29\", \"2020-03-30\", \"2020-03-31\", \"2020-04-01\", \"2020-04-02\", \"2020-04-03\", \"2020-04-04\"], \"xaxis\": \"x\", \"y\": [2, 3, 4, 5, 8, 13, 16, 25, 34, 42, 50, 58, 72, 78, 82, 94, 100, 111], \"yaxis\": \"y\"}, {\"hoverlabel\": {\"namelength\": 0}, \"hovertemplate\": \"color=Occitanie<br>x=%{x}<br>y=%{y}\", \"legendgroup\": \"Occitanie\", \"line\": {\"color\": \"#DA16FF\", \"dash\": \"solid\", \"width\": 2.5}, \"marker\": {\"size\": 7.5}, \"mode\": \"lines+markers\", \"name\": \"Occitanie\", \"showlegend\": true, \"type\": \"scatter\", \"x\": [\"2020-03-18\", \"2020-03-19\", \"2020-03-20\", \"2020-03-21\", \"2020-03-22\", \"2020-03-23\", \"2020-03-24\", \"2020-03-25\", \"2020-03-26\", \"2020-03-27\", \"2020-03-28\", \"2020-03-29\", \"2020-03-30\", \"2020-03-31\", \"2020-04-01\", \"2020-04-02\", \"2020-04-03\", \"2020-04-04\"], \"xaxis\": \"x\", \"y\": [6, 17, 21, 24, 25, 32, 39, 46, 54, 61, 68, 76, 82, 91, 108, 119, 131, 148], \"yaxis\": \"y\"}, {\"hoverlabel\": {\"namelength\": 0}, \"hovertemplate\": \"color=Pays de la Loire<br>x=%{x}<br>y=%{y}\", \"legendgroup\": \"Pays de la Loire\", \"line\": {\"color\": \"#222A2A\", \"dash\": \"solid\", \"width\": 2.5}, \"marker\": {\"size\": 7.5}, \"mode\": \"lines+markers\", \"name\": \"Pays de la Loire\", \"showlegend\": true, \"type\": \"scatter\", \"x\": [\"2020-03-18\", \"2020-03-19\", \"2020-03-20\", \"2020-03-21\", \"2020-03-22\", \"2020-03-23\", \"2020-03-24\", \"2020-03-25\", \"2020-03-26\", \"2020-03-27\", \"2020-03-28\", \"2020-03-29\", \"2020-03-30\", \"2020-03-31\", \"2020-04-01\", \"2020-04-02\", \"2020-04-03\", \"2020-04-04\"], \"xaxis\": \"x\", \"y\": [1, 1, 1, 3, 4, 9, 13, 16, 24, 31, 42, 47, 58, 71, 82, 92, 109, 118], \"yaxis\": \"y\"}, {\"hoverlabel\": {\"namelength\": 0}, \"hovertemplate\": \"color=Provence-Alpes-C\\u00f4te d'Azur<br>x=%{x}<br>y=%{y}\", \"legendgroup\": \"Provence-Alpes-C\\u00f4te d'Azur\", \"line\": {\"color\": \"#B68100\", \"dash\": \"solid\", \"width\": 2.5}, \"marker\": {\"size\": 7.5}, \"mode\": \"lines+markers\", \"name\": \"Provence-Alpes-C\\u00f4te d'Azur\", \"showlegend\": true, \"type\": \"scatter\", \"x\": [\"2020-03-18\", \"2020-03-19\", \"2020-03-20\", \"2020-03-21\", \"2020-03-22\", \"2020-03-23\", \"2020-03-24\", \"2020-03-25\", \"2020-03-26\", \"2020-03-27\", \"2020-03-28\", \"2020-03-29\", \"2020-03-30\", \"2020-03-31\", \"2020-04-01\", \"2020-04-02\", \"2020-04-03\", \"2020-04-04\"], \"xaxis\": \"x\", \"y\": [7, 9, 11, 13, 14, 20, 26, 33, 44, 48, 55, 65, 80, 103, 124, 141, 161, 178], \"yaxis\": \"y\"}],\n",
       "                        {\"annotations\": [{\"showarrow\": false, \"text\": \"Date : 04 avril 2020. Source : INSEE et CSSE. Auteur : @guillaumerozier.\", \"x\": 0, \"xref\": \"paper\", \"y\": 1, \"yref\": \"paper\"}], \"legend\": {\"title\": {\"text\": \"color\"}, \"tracegroupgap\": 0}, \"margin\": {\"t\": 60}, \"template\": {\"data\": {\"bar\": [{\"error_x\": {\"color\": \"#2a3f5f\"}, \"error_y\": {\"color\": \"#2a3f5f\"}, \"marker\": {\"line\": {\"color\": \"#E5ECF6\", \"width\": 0.5}}, \"type\": \"bar\"}], \"barpolar\": [{\"marker\": {\"line\": {\"color\": \"#E5ECF6\", \"width\": 0.5}}, \"type\": \"barpolar\"}], \"carpet\": [{\"aaxis\": {\"endlinecolor\": \"#2a3f5f\", \"gridcolor\": \"white\", \"linecolor\": \"white\", \"minorgridcolor\": \"white\", \"startlinecolor\": \"#2a3f5f\"}, \"baxis\": {\"endlinecolor\": \"#2a3f5f\", \"gridcolor\": \"white\", \"linecolor\": \"white\", \"minorgridcolor\": \"white\", \"startlinecolor\": \"#2a3f5f\"}, \"type\": \"carpet\"}], \"choropleth\": [{\"colorbar\": {\"outlinewidth\": 0, \"ticks\": \"\"}, \"type\": \"choropleth\"}], \"contour\": [{\"colorbar\": {\"outlinewidth\": 0, \"ticks\": \"\"}, \"colorscale\": [[0.0, \"#0d0887\"], [0.1111111111111111, \"#46039f\"], [0.2222222222222222, \"#7201a8\"], [0.3333333333333333, \"#9c179e\"], [0.4444444444444444, \"#bd3786\"], [0.5555555555555556, \"#d8576b\"], [0.6666666666666666, \"#ed7953\"], [0.7777777777777778, \"#fb9f3a\"], [0.8888888888888888, \"#fdca26\"], [1.0, \"#f0f921\"]], \"type\": \"contour\"}], \"contourcarpet\": [{\"colorbar\": {\"outlinewidth\": 0, \"ticks\": \"\"}, \"type\": \"contourcarpet\"}], \"heatmap\": [{\"colorbar\": {\"outlinewidth\": 0, \"ticks\": \"\"}, \"colorscale\": [[0.0, \"#0d0887\"], [0.1111111111111111, \"#46039f\"], [0.2222222222222222, \"#7201a8\"], [0.3333333333333333, \"#9c179e\"], [0.4444444444444444, \"#bd3786\"], [0.5555555555555556, \"#d8576b\"], [0.6666666666666666, \"#ed7953\"], [0.7777777777777778, \"#fb9f3a\"], [0.8888888888888888, \"#fdca26\"], [1.0, \"#f0f921\"]], \"type\": \"heatmap\"}], \"heatmapgl\": [{\"colorbar\": {\"outlinewidth\": 0, \"ticks\": \"\"}, \"colorscale\": [[0.0, \"#0d0887\"], [0.1111111111111111, \"#46039f\"], [0.2222222222222222, \"#7201a8\"], [0.3333333333333333, \"#9c179e\"], [0.4444444444444444, \"#bd3786\"], [0.5555555555555556, \"#d8576b\"], [0.6666666666666666, \"#ed7953\"], [0.7777777777777778, \"#fb9f3a\"], [0.8888888888888888, \"#fdca26\"], [1.0, \"#f0f921\"]], \"type\": \"heatmapgl\"}], \"histogram\": [{\"marker\": {\"colorbar\": {\"outlinewidth\": 0, \"ticks\": \"\"}}, \"type\": \"histogram\"}], \"histogram2d\": [{\"colorbar\": {\"outlinewidth\": 0, \"ticks\": \"\"}, \"colorscale\": [[0.0, \"#0d0887\"], [0.1111111111111111, \"#46039f\"], [0.2222222222222222, \"#7201a8\"], [0.3333333333333333, \"#9c179e\"], [0.4444444444444444, \"#bd3786\"], [0.5555555555555556, \"#d8576b\"], [0.6666666666666666, \"#ed7953\"], [0.7777777777777778, \"#fb9f3a\"], [0.8888888888888888, \"#fdca26\"], [1.0, \"#f0f921\"]], \"type\": \"histogram2d\"}], \"histogram2dcontour\": [{\"colorbar\": {\"outlinewidth\": 0, \"ticks\": \"\"}, \"colorscale\": [[0.0, \"#0d0887\"], [0.1111111111111111, \"#46039f\"], [0.2222222222222222, \"#7201a8\"], [0.3333333333333333, \"#9c179e\"], [0.4444444444444444, \"#bd3786\"], [0.5555555555555556, \"#d8576b\"], [0.6666666666666666, \"#ed7953\"], [0.7777777777777778, \"#fb9f3a\"], [0.8888888888888888, \"#fdca26\"], [1.0, \"#f0f921\"]], \"type\": \"histogram2dcontour\"}], \"mesh3d\": [{\"colorbar\": {\"outlinewidth\": 0, \"ticks\": \"\"}, \"type\": \"mesh3d\"}], \"parcoords\": [{\"line\": {\"colorbar\": {\"outlinewidth\": 0, \"ticks\": \"\"}}, \"type\": \"parcoords\"}], \"pie\": [{\"automargin\": true, \"type\": \"pie\"}], \"scatter\": [{\"marker\": {\"colorbar\": {\"outlinewidth\": 0, \"ticks\": \"\"}}, \"type\": \"scatter\"}], \"scatter3d\": [{\"line\": {\"colorbar\": {\"outlinewidth\": 0, \"ticks\": \"\"}}, \"marker\": {\"colorbar\": {\"outlinewidth\": 0, \"ticks\": \"\"}}, \"type\": \"scatter3d\"}], \"scattercarpet\": [{\"marker\": {\"colorbar\": {\"outlinewidth\": 0, \"ticks\": \"\"}}, \"type\": \"scattercarpet\"}], \"scattergeo\": [{\"marker\": {\"colorbar\": {\"outlinewidth\": 0, \"ticks\": \"\"}}, \"type\": \"scattergeo\"}], \"scattergl\": [{\"marker\": {\"colorbar\": {\"outlinewidth\": 0, \"ticks\": \"\"}}, \"type\": \"scattergl\"}], \"scattermapbox\": [{\"marker\": {\"colorbar\": {\"outlinewidth\": 0, \"ticks\": \"\"}}, \"type\": \"scattermapbox\"}], \"scatterpolar\": [{\"marker\": {\"colorbar\": {\"outlinewidth\": 0, \"ticks\": \"\"}}, \"type\": \"scatterpolar\"}], \"scatterpolargl\": [{\"marker\": {\"colorbar\": {\"outlinewidth\": 0, \"ticks\": \"\"}}, \"type\": \"scatterpolargl\"}], \"scatterternary\": [{\"marker\": {\"colorbar\": {\"outlinewidth\": 0, \"ticks\": \"\"}}, \"type\": \"scatterternary\"}], \"surface\": [{\"colorbar\": {\"outlinewidth\": 0, \"ticks\": \"\"}, \"colorscale\": [[0.0, \"#0d0887\"], [0.1111111111111111, \"#46039f\"], [0.2222222222222222, \"#7201a8\"], [0.3333333333333333, \"#9c179e\"], [0.4444444444444444, \"#bd3786\"], [0.5555555555555556, \"#d8576b\"], [0.6666666666666666, \"#ed7953\"], [0.7777777777777778, \"#fb9f3a\"], [0.8888888888888888, \"#fdca26\"], [1.0, \"#f0f921\"]], \"type\": \"surface\"}], \"table\": [{\"cells\": {\"fill\": {\"color\": \"#EBF0F8\"}, \"line\": {\"color\": \"white\"}}, \"header\": {\"fill\": {\"color\": \"#C8D4E3\"}, \"line\": {\"color\": \"white\"}}, \"type\": \"table\"}]}, \"layout\": {\"annotationdefaults\": {\"arrowcolor\": \"#2a3f5f\", \"arrowhead\": 0, \"arrowwidth\": 1}, \"coloraxis\": {\"colorbar\": {\"outlinewidth\": 0, \"ticks\": \"\"}}, \"colorscale\": {\"diverging\": [[0, \"#8e0152\"], [0.1, \"#c51b7d\"], [0.2, \"#de77ae\"], [0.3, \"#f1b6da\"], [0.4, \"#fde0ef\"], [0.5, \"#f7f7f7\"], [0.6, \"#e6f5d0\"], [0.7, \"#b8e186\"], [0.8, \"#7fbc41\"], [0.9, \"#4d9221\"], [1, \"#276419\"]], \"sequential\": [[0.0, \"#0d0887\"], [0.1111111111111111, \"#46039f\"], [0.2222222222222222, \"#7201a8\"], [0.3333333333333333, \"#9c179e\"], [0.4444444444444444, \"#bd3786\"], [0.5555555555555556, \"#d8576b\"], [0.6666666666666666, \"#ed7953\"], [0.7777777777777778, \"#fb9f3a\"], [0.8888888888888888, \"#fdca26\"], [1.0, \"#f0f921\"]], \"sequentialminus\": [[0.0, \"#0d0887\"], [0.1111111111111111, \"#46039f\"], [0.2222222222222222, \"#7201a8\"], [0.3333333333333333, \"#9c179e\"], [0.4444444444444444, \"#bd3786\"], [0.5555555555555556, \"#d8576b\"], [0.6666666666666666, \"#ed7953\"], [0.7777777777777778, \"#fb9f3a\"], [0.8888888888888888, \"#fdca26\"], [1.0, \"#f0f921\"]]}, \"colorway\": [\"#636efa\", \"#EF553B\", \"#00cc96\", \"#ab63fa\", \"#FFA15A\", \"#19d3f3\", \"#FF6692\", \"#B6E880\", \"#FF97FF\", \"#FECB52\"], \"font\": {\"color\": \"#2a3f5f\"}, \"geo\": {\"bgcolor\": \"white\", \"lakecolor\": \"white\", \"landcolor\": \"#E5ECF6\", \"showlakes\": true, \"showland\": true, \"subunitcolor\": \"white\"}, \"hoverlabel\": {\"align\": \"left\"}, \"hovermode\": \"closest\", \"mapbox\": {\"style\": \"light\"}, \"paper_bgcolor\": \"white\", \"plot_bgcolor\": \"#E5ECF6\", \"polar\": {\"angularaxis\": {\"gridcolor\": \"white\", \"linecolor\": \"white\", \"ticks\": \"\"}, \"bgcolor\": \"#E5ECF6\", \"radialaxis\": {\"gridcolor\": \"white\", \"linecolor\": \"white\", \"ticks\": \"\"}}, \"scene\": {\"xaxis\": {\"backgroundcolor\": \"#E5ECF6\", \"gridcolor\": \"white\", \"gridwidth\": 2, \"linecolor\": \"white\", \"showbackground\": true, \"ticks\": \"\", \"zerolinecolor\": \"white\"}, \"yaxis\": {\"backgroundcolor\": \"#E5ECF6\", \"gridcolor\": \"white\", \"gridwidth\": 2, \"linecolor\": \"white\", \"showbackground\": true, \"ticks\": \"\", \"zerolinecolor\": \"white\"}, \"zaxis\": {\"backgroundcolor\": \"#E5ECF6\", \"gridcolor\": \"white\", \"gridwidth\": 2, \"linecolor\": \"white\", \"showbackground\": true, \"ticks\": \"\", \"zerolinecolor\": \"white\"}}, \"shapedefaults\": {\"line\": {\"color\": \"#2a3f5f\"}}, \"ternary\": {\"aaxis\": {\"gridcolor\": \"white\", \"linecolor\": \"white\", \"ticks\": \"\"}, \"baxis\": {\"gridcolor\": \"white\", \"linecolor\": \"white\", \"ticks\": \"\"}, \"bgcolor\": \"#E5ECF6\", \"caxis\": {\"gridcolor\": \"white\", \"linecolor\": \"white\", \"ticks\": \"\"}}, \"title\": {\"x\": 0.05}, \"xaxis\": {\"automargin\": true, \"gridcolor\": \"white\", \"linecolor\": \"white\", \"ticks\": \"\", \"title\": {\"standoff\": 15}, \"zerolinecolor\": \"white\", \"zerolinewidth\": 2}, \"yaxis\": {\"automargin\": true, \"gridcolor\": \"white\", \"linecolor\": \"white\", \"ticks\": \"\", \"title\": {\"standoff\": 15}, \"zerolinecolor\": \"white\", \"zerolinewidth\": 2}}}, \"title\": {\"font\": {\"size\": 20}, \"text\": \"Nombre de <b>d\\u00e9c\\u00e8s cumul\\u00e9s</b>\", \"x\": 0.5, \"xanchor\": \"center\", \"y\": 0.95, \"yanchor\": \"top\"}, \"xaxis\": {\"anchor\": \"y\", \"domain\": [0.0, 1.0], \"title\": {\"text\": \"Jour\"}}, \"yaxis\": {\"anchor\": \"x\", \"domain\": [0.0, 1.0], \"title\": {\"text\": \"Nb. de d\\u00e9c\\u00e8s cumul\\u00e9s\"}}},\n",
       "                        {\"responsive\": true}\n",
       "                    ).then(function(){\n",
       "                            \n",
       "var gd = document.getElementById('8553c1cc-d415-4567-9a1b-a253bba61af0');\n",
       "var x = new MutationObserver(function (mutations, observer) {{\n",
       "        var display = window.getComputedStyle(gd).display;\n",
       "        if (!display || display === 'none') {{\n",
       "            console.log([gd, 'removed!']);\n",
       "            Plotly.purge(gd);\n",
       "            observer.disconnect();\n",
       "        }}\n",
       "}});\n",
       "\n",
       "// Listen for the removal of the full notebook cells\n",
       "var notebookContainer = gd.closest('#notebook-container');\n",
       "if (notebookContainer) {{\n",
       "    x.observe(notebookContainer, {childList: true});\n",
       "}}\n",
       "\n",
       "// Listen for the clearing of the current output cell\n",
       "var outputEl = gd.closest('.output');\n",
       "if (outputEl) {{\n",
       "    x.observe(outputEl, {childList: true});\n",
       "}}\n",
       "\n",
       "                        })\n",
       "                };\n",
       "                });\n",
       "            </script>\n",
       "        </div>"
      ]
     },
     "metadata": {},
     "output_type": "display_data"
    }
   ],
   "source": [
    "\n",
    "fig = px.line(x=df_region['jour'], y=df_region['dc'], color=df_region[\"regionName\"], color_discrete_sequence=colors).update_traces(mode='lines+markers', marker_size=7.5, line=dict(width=2.5))\n",
    "fig.update_layout(\n",
    "    title={\n",
    "                'text': \"Nombre de <b>décès cumulés</b>\",\n",
    "                'y':0.95,\n",
    "                'x':0.5,\n",
    "                'xanchor': 'center',\n",
    "                'yanchor': 'top'},\n",
    "        titlefont = dict(\n",
    "                size=20),\n",
    "        annotations = [\n",
    "                dict(\n",
    "                    x=0,\n",
    "                    y=1,\n",
    "                    xref='paper',\n",
    "                    yref='paper',\n",
    "                    text='Date : {}. Source : INSEE et CSSE. Auteur : @guillaumerozier.'.format(datetime.strptime(dates[-1], '%Y-%m-%d').strftime('%d %B %Y')),                    showarrow = False\n",
    "                )]\n",
    "                 )\n",
    "fig.update_xaxes(title=\"Jour\")\n",
    "fig.update_yaxes(title=\"Nb. de décès cumulés\")\n",
    "\n",
    "name_fig = \"dc_cum_line\"\n",
    "fig.write_image(\"images/charts/france/{}.png\".format(name_fig), scale=3, width=1100, height=700)\n",
    "\n",
    "\n",
    "plotly.offline.plot(fig, filename = 'images/html_exports/france/{}.html'.format(name_fig), auto_open=False)\n",
    "\n",
    "if show_charts:\n",
    "    fig.show()"
   ]
  },
  {
   "cell_type": "code",
   "execution_count": 237,
   "metadata": {},
   "outputs": [],
   "source": [
    "\n",
    "fig = px.line(x=df_region['jour'], y=df_region['dc_new'], color=df_region[\"regionName\"], color_discrete_sequence=colors).update_traces(mode='lines+markers', marker_size=7.5, line=dict(width=2.5))\n",
    "fig.update_layout(\n",
    "    title={\n",
    "                'text': \"Nombre de <b>décès quotidiens</b>\",\n",
    "                'y':0.95,\n",
    "                'x':0.5,\n",
    "                'xanchor': 'center',\n",
    "                'yanchor': 'top'},\n",
    "        titlefont = dict(\n",
    "                size=20),\n",
    "        annotations = [\n",
    "                dict(\n",
    "                    x=0,\n",
    "                    y=1,\n",
    "                    xref='paper',\n",
    "                    yref='paper',\n",
    "                    text='Date : {}. Source : INSEE et CSSE. Auteur : @guillaumerozier.'.format(datetime.strptime(dates[-1], '%Y-%m-%d').strftime('%d %B %Y')),                    showarrow = False\n",
    "                )]\n",
    "                 )\n",
    "fig.update_xaxes(title=\"Jour\")\n",
    "fig.update_yaxes(title=\"Nb. de décès en 24h\")\n",
    "\n",
    "name_fig = \"dc_journ_line\"\n",
    "fig.write_image(\"images/charts/france/{}.png\".format(name_fig), scale=3, width=1100, height=700)\n",
    "\n",
    "\n",
    "plotly.offline.plot(fig, filename = 'images/html_exports/france/{}.html'.format(name_fig), auto_open=False)\n",
    "\n",
    "if show_charts:\n",
    "    fig.show()"
   ]
  },
  {
   "cell_type": "markdown",
   "metadata": {},
   "source": [
    "### Hospitalisations"
   ]
  },
  {
   "cell_type": "code",
   "execution_count": 238,
   "metadata": {
    "scrolled": true
   },
   "outputs": [],
   "source": [
    "\n",
    "fig = px.line(x=df_region['jour'], y=df_region['hosp'], color=df_region[\"regionName\"], color_discrete_sequence=colors).update_traces(mode='lines+markers', marker_size=7.5, line=dict(width=2.5))\n",
    "fig.update_layout(\n",
    "    title={\n",
    "                'text': \"Nombre de <b>patients hospitalisés</b>\",\n",
    "                'y':0.95,\n",
    "                'x':0.5,\n",
    "                'xanchor': 'center',\n",
    "                'yanchor': 'top'},\n",
    "        titlefont = dict(\n",
    "                size=20),\n",
    "        annotations = [\n",
    "                dict(\n",
    "                    x=0,\n",
    "                    y=1,\n",
    "                    xref='paper',\n",
    "                    yref='paper',\n",
    "                    text='Date : {}. Source : INSEE et CSSE. Auteur : @guillaumerozier.'.format(datetime.strptime(dates[-1], '%Y-%m-%d').strftime('%d %B %Y')),                    showarrow = False\n",
    "                )]\n",
    "                 )\n",
    "fig.update_xaxes(title=\"Jour\")\n",
    "fig.update_yaxes(title=\"Nb. de patients hospitalisés\")\n",
    "\n",
    "name_fig = \"hosp_line\"\n",
    "fig.write_image(\"images/charts/france/{}.png\".format(name_fig), scale=3, width=1100, height=700)\n",
    "\n",
    "\n",
    "plotly.offline.plot(fig, filename = 'images/html_exports/france/{}.html'.format(name_fig), auto_open=False)\n",
    "\n",
    "if show_charts:\n",
    "    fig.show()"
   ]
  },
  {
   "cell_type": "code",
   "execution_count": 239,
   "metadata": {},
   "outputs": [],
   "source": [
    "\n",
    "fig = px.line(x=df_region['jour'], y=df_region['hosp_new'], color=df_region[\"regionName\"], color_discrete_sequence=colors).update_traces(mode='lines+markers', marker_size=7.5, line=dict(width=2.5))\n",
    "fig.update_layout(\n",
    "    title={\n",
    "                'text': \"<b>Variation des hospitalisations</b> (entrées - sorties)\",\n",
    "                'y':0.95,\n",
    "                'x':0.5,\n",
    "                'xanchor': 'center',\n",
    "                'yanchor': 'top'},\n",
    "        titlefont = dict(\n",
    "                size=20),\n",
    "        annotations = [\n",
    "                dict(\n",
    "                    x=0,\n",
    "                    y=1,\n",
    "                    xref='paper',\n",
    "                    yref='paper',\n",
    "                    text='Date : {}. Source : INSEE et CSSE. Auteur : @guillaumerozier.'.format(datetime.strptime(dates[-1], '%Y-%m-%d').strftime('%d %B %Y')),                    showarrow = False\n",
    "                )]\n",
    "                 )\n",
    "fig.update_xaxes(title=\"Jour\")\n",
    "fig.update_yaxes(title=\"Nb. de nouveaux patients hospitalisés\")\n",
    "\n",
    "name_fig = \"hosp_journ_line\"\n",
    "fig.write_image(\"images/charts/france/{}.png\".format(name_fig), scale=3, width=1100, height=700)\n",
    "\n",
    "\n",
    "plotly.offline.plot(fig, filename = 'images/html_exports/france/{}.html'.format(name_fig), auto_open=False)\n",
    "\n",
    "if show_charts:\n",
    "    fig.show()"
   ]
  },
  {
   "cell_type": "markdown",
   "metadata": {},
   "source": [
    "### Réanimations par région"
   ]
  },
  {
   "cell_type": "code",
   "execution_count": 240,
   "metadata": {
    "scrolled": true
   },
   "outputs": [],
   "source": [
    "fig = px.line(x=df_region['jour'], y=df_region['rea'], color=df_region[\"regionName\"], color_discrete_sequence=colors).update_traces(mode='lines+markers', marker_size=7.5, line=dict(width=2.5))\n",
    "fig.update_layout(\n",
    "    title={\n",
    "                'text': \"Nombre de <b>patients en réanimation</b>\",\n",
    "                'y':0.95,\n",
    "                'x':0.5,\n",
    "                'xanchor': 'center',\n",
    "                'yanchor': 'top'},\n",
    "        titlefont = dict(\n",
    "                    size=20),\n",
    "        annotations = [\n",
    "                dict(\n",
    "                    x=0,\n",
    "                    y=1,\n",
    "                    xref='paper',\n",
    "                    yref='paper',\n",
    "                    text='Date : {}. Source : INSEE et CSSE. Auteur : @guillaumerozier (Twitter).'.format(datetime.strptime(dates[-1], '%Y-%m-%d').strftime('%d %B %Y')),                    showarrow = False\n",
    "                )]\n",
    "                 )\n",
    "fig.update_xaxes(title=\"Jour\")\n",
    "fig.update_yaxes(title=\"Nb. de patients en réanimation\")\n",
    "\n",
    "name_fig = \"rea_line\"\n",
    "fig.write_image(\"images/charts/france/{}.png\".format(name_fig), scale=3, width=1100, height=700)\n",
    "\n",
    "plotly.offline.plot(fig, filename = 'images/html_exports/france/{}.html'.format(name_fig), auto_open=False)\n",
    "\n",
    "if show_charts:\n",
    "    fig.show()"
   ]
  },
  {
   "cell_type": "markdown",
   "metadata": {},
   "source": [
    "### Réanimations : Rhin"
   ]
  },
  {
   "cell_type": "code",
   "execution_count": 241,
   "metadata": {},
   "outputs": [],
   "source": [
    "df_rhin = df[df[\"dep\"].isin([\"67\", \"68\"])]\n",
    "fig = px.line(x=df_rhin['jour'], y=df_rhin['rea'], color=df_rhin[\"dep\"], labels={'color':'Département'}, color_discrete_sequence=colors).update_traces(mode='lines+markers')\n",
    "\n",
    "fig.update_layout(\n",
    "    title={\n",
    "                'text': \"Nombre de <b>patients en réanimation</b> en Ht et Bas Rhin\",\n",
    "                'y':0.95,\n",
    "                'x':0.5,\n",
    "                'xanchor': 'center',\n",
    "                'yanchor': 'top'},\n",
    "        titlefont = dict(\n",
    "                    size=20),\n",
    "        annotations = [\n",
    "                dict(\n",
    "                    x=0,\n",
    "                    y=1,\n",
    "                    xref='paper',\n",
    "                    yref='paper',\n",
    "                    text='Date : {}. Source : INSEE et CSSE. Auteur : @guillaumerozier (Twitter).'.format(datetime.strptime(dates[-1], '%Y-%m-%d').strftime('%d %B %Y')),                    showarrow = False\n",
    "                )]\n",
    "                 )\n",
    "fig.update_xaxes(title=\"Jour\")\n",
    "fig.update_yaxes(title=\"Nb. de patients en réa. ou soins intensifs\")\n",
    "\n",
    "name_fig = \"rea_rhin\"\n",
    "fig.write_image(\"images/charts/france/{}.png\".format(name_fig), scale=3, width=1100, height=700)\n",
    "plotly.offline.plot(fig, filename = 'images/html_exports/france/{}.html'.format(name_fig), auto_open=False)\n",
    "\n",
    "if show_charts:\n",
    "    fig.show()"
   ]
  },
  {
   "cell_type": "markdown",
   "metadata": {},
   "source": [
    "### Réanimations par département"
   ]
  },
  {
   "cell_type": "code",
   "execution_count": 242,
   "metadata": {
    "scrolled": false
   },
   "outputs": [],
   "source": [
    "df_last_d = df[df['jour'] == dates[-1]]\n",
    "#deps_ordered = df_last_d.sort_values(by=['rea'], ascending=False)[\"dep\"].values\n",
    "deps_ordered = df_last_d.sort_values(by=['dep'], ascending=True)[\"dep\"].values\n",
    "\n",
    "fig = go.Figure()\n",
    "for dep in deps_ordered:\n",
    "    fig.add_trace(go.Scatter(x=df['jour'], y=df[df[\"dep\"] == dep][\"rea\"],\n",
    "                    mode='lines+markers',\n",
    "                    name=dep,\n",
    "                    line=dict(width=2),\n",
    "                    marker_size=8,\n",
    "                            ))\n",
    "\n",
    "fig.update_layout(\n",
    "    title={\n",
    "                'text': \"Nb. de <b>patients en réanimation</b> par département\",\n",
    "                'y':0.95,\n",
    "                'x':0.5,\n",
    "                'xanchor': 'center',\n",
    "                'yanchor': 'top'},\n",
    "    titlefont = dict(\n",
    "                size=20),\n",
    "    annotations = [\n",
    "                dict(\n",
    "                    x=0,\n",
    "                    y=1,\n",
    "                    xref='paper',\n",
    "                    yref='paper',\n",
    "                    text='Date : {}. Source : INSEE et CSSE. Auteur : @guillaumerozier (Twitter).'.format(datetime.strptime(dates[-1], '%Y-%m-%d').strftime('%d %B %Y')),                    showarrow = False\n",
    "                )]\n",
    "                 )\n",
    "fig.update_xaxes(title=\"\")\n",
    "fig.update_yaxes(title=\"Nb. de patients en réa. ou soins intensifs\")\n",
    "\n",
    "name_fig = \"rea_dep\"\n",
    "fig.write_image(\"images/charts/france/{}.png\".format(name_fig), scale=3, width=1100, height=700)\n",
    "\n",
    "fig.update_layout(\n",
    "    annotations = [\n",
    "                dict(\n",
    "                    x=0.5,\n",
    "                    y=1.05,\n",
    "                    xref='paper',\n",
    "                    yref='paper',\n",
    "                    xanchor='center',\n",
    "                    text='Cliquez sur des éléments de légende pour les ajouter/supprimer',\n",
    "                    showarrow = False\n",
    "                )]\n",
    "                 )\n",
    "plotly.offline.plot(fig, filename = 'images/html_exports/france/{}.html'.format(name_fig), auto_open=False)\n",
    "\n",
    "if show_charts:\n",
    "    fig.show()"
   ]
  },
  {
   "cell_type": "markdown",
   "metadata": {},
   "source": [
    "<br>\n",
    "\n",
    "### Hospitalisations par habitant / région"
   ]
  },
  {
   "cell_type": "code",
   "execution_count": 243,
   "metadata": {},
   "outputs": [
    {
     "data": {
      "text/plain": [
       "'\\nfig = px.line(x=df_region[\\'jour\\'], y=df_region[\\'hosp_pop\\'], labels={\\'color\\':\\'Région\\'}, color=df_region[\"regionName\"], color_discrete_sequence=colors)\\nfig.update_layout(\\n    title={\\n                \\'text\\': \"Nb. de <b>patients hospitalisés</b> <b>par habitant</b>\",\\n                \\'y\\':0.95,\\n                \\'x\\':0.5,\\n                \\'xanchor\\': \\'center\\',\\n                \\'yanchor\\': \\'top\\'},\\n        titlefont = dict(\\n        size=20),\\n        annotations = [\\n                dict(\\n                    x=0,\\n                    y=1,\\n                    xref=\\'paper\\',\\n                    yref=\\'paper\\',\\n                    text=\\'Date : {}. Source : INSEE et CSSE. Auteur : @guillaumerozier (Twitter).\\'.format(datetime.strptime(dates[-1], \\'%Y-%m-%d\\').strftime(\\'%d %B %Y\\')),                    showarrow = False\\n                )]\\n                 )\\nfig.update_xaxes(title=\"Jour\")\\nfig.update_yaxes(title=\"Nb. de patients hospitalisés/100k hab. (de ch. région)\")\\n\\nname_fig = \"hosp_hab\"\\nfig.write_image(\"images/charts/france/{}.png\".format(name_fig), scale=3, width=1100, height=700)\\n\\nfig.update_layout(\\n    annotations = [\\n                dict(\\n                    x=0.5,\\n                    y=1.05,\\n                    xref=\\'paper\\',\\n                    yref=\\'paper\\',\\n                    xanchor=\\'center\\',\\n                    text=\\'Cliquez sur des éléments de légende pour les ajouter/supprimer\\',\\n                    showarrow = False\\n                )]\\n                 )\\nplotly.offline.plot(fig, filename = \\'images/html_exports/france/{}.html\\'.format(name_fig), auto_open=False)\\nif show_charts:\\n    fig.show()\\n'"
      ]
     },
     "execution_count": 243,
     "metadata": {},
     "output_type": "execute_result"
    }
   ],
   "source": [
    "\"\"\"\n",
    "fig = px.line(x=df_region['jour'], y=df_region['hosp_pop'], labels={'color':'Région'}, color=df_region[\"regionName\"], color_discrete_sequence=colors)\n",
    "fig.update_layout(\n",
    "    title={\n",
    "                'text': \"Nb. de <b>patients hospitalisés</b> <b>par habitant</b>\",\n",
    "                'y':0.95,\n",
    "                'x':0.5,\n",
    "                'xanchor': 'center',\n",
    "                'yanchor': 'top'},\n",
    "        titlefont = dict(\n",
    "        size=20),\n",
    "        annotations = [\n",
    "                dict(\n",
    "                    x=0,\n",
    "                    y=1,\n",
    "                    xref='paper',\n",
    "                    yref='paper',\n",
    "                    text='Date : {}. Source : INSEE et CSSE. Auteur : @guillaumerozier (Twitter).'.format(datetime.strptime(dates[-1], '%Y-%m-%d').strftime('%d %B %Y')),                    showarrow = False\n",
    "                )]\n",
    "                 )\n",
    "fig.update_xaxes(title=\"Jour\")\n",
    "fig.update_yaxes(title=\"Nb. de patients hospitalisés/100k hab. (de ch. région)\")\n",
    "\n",
    "name_fig = \"hosp_hab\"\n",
    "fig.write_image(\"images/charts/france/{}.png\".format(name_fig), scale=3, width=1100, height=700)\n",
    "\n",
    "fig.update_layout(\n",
    "    annotations = [\n",
    "                dict(\n",
    "                    x=0.5,\n",
    "                    y=1.05,\n",
    "                    xref='paper',\n",
    "                    yref='paper',\n",
    "                    xanchor='center',\n",
    "                    text='Cliquez sur des éléments de légende pour les ajouter/supprimer',\n",
    "                    showarrow = False\n",
    "                )]\n",
    "                 )\n",
    "plotly.offline.plot(fig, filename = 'images/html_exports/france/{}.html'.format(name_fig), auto_open=False)\n",
    "if show_charts:\n",
    "    fig.show()\n",
    "\"\"\""
   ]
  },
  {
   "cell_type": "markdown",
   "metadata": {},
   "source": [
    "<br>\n",
    "\n",
    "### Capacité réanimation"
   ]
  },
  {
   "cell_type": "code",
   "execution_count": 244,
   "metadata": {},
   "outputs": [],
   "source": [
    "\n",
    "df_rean = df.groupby('jour').sum().reset_index()\n",
    "df_rean[\"lim_rea\"] = [14000 for i in range(len(dates))]\n",
    "df_rean = pd.melt(df_rean, id_vars=['jour'], value_vars=['rea', 'lim_rea'])\n",
    "\n",
    "fig = go.Figure()\n",
    "fig.add_trace(go.Scatter(x=df_rean['jour'], y=df_rean[df_rean['variable'] == 'rea']['value'],\n",
    "                    mode='lines+markers',\n",
    "                    name='Nb. patients réa.',\n",
    "                    line=dict(width=4),\n",
    "                    marker_size=11,))\n",
    "\n",
    "fig.add_trace(go.Scatter(x=df_rean['jour'], y=df_rean[df_rean['variable'] == 'lim_rea']['value'],\n",
    "                    mode='lines',\n",
    "                    name='Nombre de lits réa.',\n",
    "                    line=dict(width=4),\n",
    "                    marker_size=11,))\n",
    "\n",
    "fig.update_layout(\n",
    "    title={\n",
    "                'text': \"Nb. de <b>patients en réanimation</b> et de lits disponibles\",\n",
    "                'y':0.95,\n",
    "                'x':0.5,\n",
    "                'xanchor': 'center',\n",
    "                'yanchor': 'top'},\n",
    "        titlefont = dict(\n",
    "            size=20),\n",
    "        annotations = [\n",
    "                dict(\n",
    "                    x=0,\n",
    "                    y=1.05,\n",
    "                    xref='paper',\n",
    "                    yref='paper',\n",
    "                    text='Date : {}. Source : INSEE et CSSE. Auteur : @guillaumerozier (Twitter).'.format(datetime.strptime(dates[-1], '%Y-%m-%d').strftime('%d %B %Y')),                    showarrow = False\n",
    "                )]\n",
    "                 )\n",
    "\n",
    "name_fig = \"capacite_rea\"\n",
    "fig.write_image(\"images/charts/france/{}.png\".format(name_fig), scale=3, width=1000, height=700)\n",
    "\n",
    "fig.update_layout(\n",
    "    legend_orientation=\"h\",\n",
    "    annotations = [\n",
    "                dict(\n",
    "                    x=0.5,\n",
    "                    y=1.05,\n",
    "                    xref='paper',\n",
    "                    yref='paper',\n",
    "                    xanchor='center',\n",
    "                    text='Cliquez sur des éléments de légende pour les ajouter/supprimer',\n",
    "                    showarrow = False\n",
    "                )]\n",
    "                 )\n",
    "plotly.offline.plot(fig, filename = 'images/html_exports/france/{}.html'.format(name_fig), auto_open=False)\n",
    "\n",
    "if show_charts:\n",
    "    fig.show()"
   ]
  },
  {
   "cell_type": "markdown",
   "metadata": {},
   "source": [
    "<br>\n",
    "\n",
    "### Décès cumulés (région)"
   ]
  },
  {
   "cell_type": "code",
   "execution_count": 245,
   "metadata": {},
   "outputs": [],
   "source": [
    "fig = px.line(x=df_region['jour'], y=df_region['dc'], color=df_region[\"regionName\"], labels={'color':'Région'}, color_discrete_sequence=colors).update_traces(mode='lines+markers')\n",
    "fig.update_layout(\n",
    "    title={\n",
    "                'text': \"Nombre de <b>décès cumulés</b> par région\",\n",
    "                'y':0.95,\n",
    "                'x':0.5,\n",
    "                'xanchor': 'center',\n",
    "                'yanchor': 'top'},\n",
    "        titlefont = dict(\n",
    "        size=20),\n",
    "    \n",
    "        annotations = [\n",
    "                dict(\n",
    "                    x=0,\n",
    "                    y=1,\n",
    "                    xref='paper',\n",
    "                    yref='paper',\n",
    "                    text='Date : {}. Source : INSEE et CSSE. Auteur : @guillaumerozier (Twitter).'.format(datetime.strptime(dates[-1], '%Y-%m-%d').strftime('%d %B %Y')),                    showarrow = False\n",
    "                )]\n",
    "                 )\n",
    "fig.update_xaxes(title=\"Jour\")\n",
    "fig.update_yaxes(title=\"Nb. de décès cumulés\")\n",
    "\n",
    "name_fig = \"dc_cum_line\"\n",
    "fig.write_image(\"images/charts/france/{}.png\".format(name_fig), scale=3, width=1100, height=700)\n",
    "\n",
    "fig.update_layout(\n",
    "    annotations = [\n",
    "                dict(\n",
    "                    x=0.5,\n",
    "                    y=1.05,\n",
    "                    xref='paper',\n",
    "                    yref='paper',\n",
    "                    xanchor='center',\n",
    "                    text='Cliquez sur des éléments de légende pour les ajouter/supprimer',\n",
    "                    showarrow = False\n",
    "                )]\n",
    "                 )\n",
    "plotly.offline.plot(fig, filename = 'images/html_exports/france/{}.html'.format(name_fig), auto_open=False)\n",
    "\n",
    "if show_charts:\n",
    "    fig.show()"
   ]
  },
  {
   "cell_type": "markdown",
   "metadata": {},
   "source": [
    "<br>\n",
    "\n",
    "### Décès cumulés par habitant (région)"
   ]
  },
  {
   "cell_type": "code",
   "execution_count": 246,
   "metadata": {},
   "outputs": [
    {
     "data": {
      "text/plain": [
       "'\\nfig = px.line(x=df_region[\\'jour\\'], y = df_region[\\'dc\\']/df_region[\\'regionPopulation\\']*100000, labels={\\'color\\':\\'Région\\'}, color=df_region[\"regionName\"], color_discrete_sequence=colors)\\n\\nfig.update_layout(\\n    title={\\n                \\'text\\': \"Nombre de <b>décès cumulés</b> par <b>habitant</b>\",\\n                \\'y\\':0.95,\\n                \\'x\\':0.5,\\n                \\'xanchor\\': \\'center\\',\\n                \\'yanchor\\': \\'top\\'},\\n        titlefont = dict(\\n        size=20),\\n        annotations = [\\n                dict(\\n                    x=0,\\n                    y=1,\\n                    xref=\\'paper\\',\\n                    yref=\\'paper\\',\\n                    text=\\'Date : {}. Source : INSEE et CSSE. Auteur : @guillaumerozier (Twitter).\\'.format(datetime.strptime(dates[-1], \\'%Y-%m-%d\\').strftime(\\'%d %B %Y\\')),                    showarrow = False\\n                )]\\n                 )\\n\\nfig.update_xaxes(title=\"Jour\")\\nfig.update_yaxes(title=\"Nb. décès cumulés / 100k hab. de chaq. région\")\\n\\nname_fig = \"dc_cum_hab_line\"\\nfig.write_image(\"images/charts/france/{}.png\".format(name_fig), scale=3, width=1100, height=700)\\n\\nfig.update_layout(\\n    annotations = [\\n                dict(\\n                    x=0.5,\\n                    y=1.05,\\n                    xref=\\'paper\\',\\n                    yref=\\'paper\\',\\n                    xanchor=\\'center\\',\\n                    text=\\'Cliquez sur des éléments de légende pour les ajouter/supprimer\\',\\n                    showarrow = False\\n                )]\\n                 )\\nplotly.offline.plot(fig, filename = \\'images/html_exports/france/{}.html\\'.format(name_fig), auto_open=False)\\nif show_charts:\\n    fig.show()\\n'"
      ]
     },
     "execution_count": 246,
     "metadata": {},
     "output_type": "execute_result"
    }
   ],
   "source": [
    "\"\"\"\n",
    "fig = px.line(x=df_region['jour'], y = df_region['dc']/df_region['regionPopulation']*100000, labels={'color':'Région'}, color=df_region[\"regionName\"], color_discrete_sequence=colors)\n",
    "\n",
    "fig.update_layout(\n",
    "    title={\n",
    "                'text': \"Nombre de <b>décès cumulés</b> par <b>habitant</b>\",\n",
    "                'y':0.95,\n",
    "                'x':0.5,\n",
    "                'xanchor': 'center',\n",
    "                'yanchor': 'top'},\n",
    "        titlefont = dict(\n",
    "        size=20),\n",
    "        annotations = [\n",
    "                dict(\n",
    "                    x=0,\n",
    "                    y=1,\n",
    "                    xref='paper',\n",
    "                    yref='paper',\n",
    "                    text='Date : {}. Source : INSEE et CSSE. Auteur : @guillaumerozier (Twitter).'.format(datetime.strptime(dates[-1], '%Y-%m-%d').strftime('%d %B %Y')),                    showarrow = False\n",
    "                )]\n",
    "                 )\n",
    "\n",
    "fig.update_xaxes(title=\"Jour\")\n",
    "fig.update_yaxes(title=\"Nb. décès cumulés / 100k hab. de chaq. région\")\n",
    "\n",
    "name_fig = \"dc_cum_hab_line\"\n",
    "fig.write_image(\"images/charts/france/{}.png\".format(name_fig), scale=3, width=1100, height=700)\n",
    "\n",
    "fig.update_layout(\n",
    "    annotations = [\n",
    "                dict(\n",
    "                    x=0.5,\n",
    "                    y=1.05,\n",
    "                    xref='paper',\n",
    "                    yref='paper',\n",
    "                    xanchor='center',\n",
    "                    text='Cliquez sur des éléments de légende pour les ajouter/supprimer',\n",
    "                    showarrow = False\n",
    "                )]\n",
    "                 )\n",
    "plotly.offline.plot(fig, filename = 'images/html_exports/france/{}.html'.format(name_fig), auto_open=False)\n",
    "if show_charts:\n",
    "    fig.show()\n",
    "\"\"\""
   ]
  },
  {
   "cell_type": "markdown",
   "metadata": {},
   "source": [
    "<br>\n",
    "<br>\n",
    "<br>\n",
    "<br>\n",
    "\n",
    "# Bar charts"
   ]
  },
  {
   "cell_type": "markdown",
   "metadata": {},
   "source": [
    "<br>\n",
    "\n",
    "### Décès cumulés par région / temps"
   ]
  },
  {
   "cell_type": "code",
   "execution_count": 247,
   "metadata": {},
   "outputs": [],
   "source": [
    "fig = px.bar(x=df_region['jour'], y = df_region['dc'], color=df_region[\"regionName\"], labels={'color':'Région'}, color_discrete_sequence=colors, opacity=0.9)\n",
    "\n",
    "fig.update_layout(\n",
    "    title={\n",
    "                'text': \"Nombre de <b>décès cumulés</b> par région\",\n",
    "                'y':0.95,\n",
    "                'x':0.5,\n",
    "                'xanchor': 'center',\n",
    "                'yanchor': 'top'},\n",
    "        titlefont = dict(\n",
    "        size=20),\n",
    "        annotations = [\n",
    "                dict(\n",
    "                    x=0,\n",
    "                    y=1.05,\n",
    "                    xref='paper',\n",
    "                    yref='paper',\n",
    "                    text='Date : {}. Source : INSEE et CSSE. Auteur : @guillaumerozier (Twitter).'.format(datetime.strptime(dates[-1], '%Y-%m-%d').strftime('%d %B %Y')),                    showarrow = False\n",
    "                )]\n",
    "    \n",
    "                 )\n",
    "fig.update_xaxes(title=\"\")\n",
    "fig.update_yaxes(title=\"Nb. de décès cumulés\")\n",
    "#fig.show()\n",
    "\n",
    "name_fig = \"dc_cum_region\"\n",
    "fig.write_image(\"images/charts/france/{}.png\".format(name_fig), scale=3, width=1100, height=500)\n",
    "\n",
    "fig.update_layout(\n",
    "    annotations = [\n",
    "                dict(\n",
    "                    x=0.5,\n",
    "                    y=1.05,\n",
    "                    xref='paper',\n",
    "                    yref='paper',\n",
    "                    xanchor='center',\n",
    "                    text='Cliquez sur des éléments de légende pour les ajouter/supprimer',\n",
    "                    showarrow = False\n",
    "                )]\n",
    "                 )\n",
    "plotly.offline.plot(fig, filename = 'images/html_exports/france/{}.html'.format(name_fig), auto_open=False)\n",
    "\n",
    "if show_charts:\n",
    "    fig.show()"
   ]
  },
  {
   "cell_type": "markdown",
   "metadata": {},
   "source": [
    "<br>\n",
    "\n",
    "### Décès cumulés par région / 3 derniers jours"
   ]
  },
  {
   "cell_type": "code",
   "execution_count": 248,
   "metadata": {},
   "outputs": [],
   "source": [
    "\n",
    "#df_region4 = df_region.groupby(\"regionName\", \"jour\").sum().reset_index()\n",
    "df_region_sans = df_region.drop( df_region[ df_region[\"regionName\"].isin([\"Martinique\", \"Guadeloupe\", \"Guyane\", \"La Réunion\"]) ].index)\n",
    "fig = go.Figure()\n",
    "\n",
    "\n",
    "fig.add_trace(go.Bar(\n",
    "    x = df_region_sans[df_region_sans[\"jour\"] == dates[-4]]['regionName'],\n",
    "    y = df_region_sans[df_region_sans[\"jour\"] == dates[-4]]['dc'],\n",
    "    name = datetime.strptime(dates[-4], '%Y-%m-%d').strftime('%d %B'),\n",
    "    marker_color='indianred',\n",
    "    opacity=0.3\n",
    ")).update_xaxes(categoryorder=\"total ascending\")\n",
    "\n",
    "fig.add_trace(go.Bar(\n",
    "    x = df_region_sans[df_region_sans[\"jour\"] == dates[-3]]['regionName'],\n",
    "    y = df_region_sans[df_region_sans[\"jour\"] == dates[-3]]['dc'],\n",
    "    name = datetime.strptime(dates[-3], '%Y-%m-%d').strftime('%d %B'),\n",
    "    marker_color='indianred',\n",
    "    opacity=0.4\n",
    "))\n",
    "\n",
    "fig.add_trace(go.Bar(\n",
    "    x = df_region_sans[df_region_sans[\"jour\"] == dates[-2]]['regionName'],\n",
    "    y = df_region_sans[df_region_sans[\"jour\"] == dates[-2]]['dc'],\n",
    "    name = datetime.strptime(dates[-2], '%Y-%m-%d').strftime('%d %B'),\n",
    "    marker_color='indianred',\n",
    "    opacity=0.5\n",
    "))\n",
    "\n",
    "fig.add_trace(go.Bar(\n",
    "    x = df_region_sans[df_region_sans[\"jour\"] == dates[-1]]['regionName'],\n",
    "    y = df_region_sans[df_region_sans[\"jour\"] == dates[-1]]['dc'],\n",
    "    name = datetime.strptime(dates[-1], '%Y-%m-%d').strftime('%d %B'),\n",
    "    marker_color='indianred'\n",
    ")).update_xaxes(categoryorder=\"total ascending\")\n",
    "\n",
    "\n",
    "# Here we modify the tickangle of the xaxis, resulting in rotated labels.\n",
    "fig.update_layout(\n",
    "    barmode='group', xaxis_tickangle=-45,\n",
    "    \n",
    "    title={\n",
    "                'text': \"<b>Décès cumulés</b> par région\",\n",
    "                'y':0.95,\n",
    "                'x':0.5,\n",
    "                'xanchor': 'center',\n",
    "                'yanchor': 'top'},\n",
    "                titlefont = dict(\n",
    "                size=20),\n",
    "    xaxis_title=\"\",\n",
    "    yaxis_title=\"Nb. de décès cumulés\",\n",
    "        annotations = [\n",
    "                dict(\n",
    "                    x=0,\n",
    "                    y=1.05,\n",
    "                    xref='paper',\n",
    "                    yref='paper',\n",
    "                    text='Date : {}. Source : INSEE et CSSE. Auteur : @guillaumerozier (Twitter).'.format(datetime.strptime(dates[-1], '%Y-%m-%d').strftime('%d %B %Y')),                    showarrow = False\n",
    "                )]\n",
    "                 )\n",
    "\n",
    "name_fig = \"dc_cum_region_comp\"\n",
    "fig.write_image(\"images/charts/france/{}.png\".format(name_fig), scale=3, width=1300, height=600)\n",
    "\n",
    "fig.update_layout(\n",
    "    annotations = [\n",
    "                dict(\n",
    "                    x=0.5,\n",
    "                    y=1.05,\n",
    "                    xref='paper',\n",
    "                    yref='paper',\n",
    "                    xanchor='center',\n",
    "                    text='Cliquez sur des éléments de légende pour les ajouter/supprimer',\n",
    "                    showarrow = False\n",
    "                )]\n",
    "                 )\n",
    "plotly.offline.plot(fig, filename = 'images/html_exports/france/{}.html'.format(name_fig), auto_open=False)\n",
    "\n",
    "if show_charts:\n",
    "    fig.show()"
   ]
  },
  {
   "cell_type": "markdown",
   "metadata": {},
   "source": [
    "<br>\n",
    "\n",
    "### Décès cumulés VS. Décès cumulés par habitant / région"
   ]
  },
  {
   "cell_type": "code",
   "execution_count": 249,
   "metadata": {
    "scrolled": true
   },
   "outputs": [],
   "source": [
    "fig = go.Figure()\n",
    "df_region3 = df_region[df_region[\"jour\"] == dates[-1]].groupby(\"regionName\").sum().reset_index()\n",
    "fig = make_subplots(specs=[[{\"secondary_y\": True}]])\n",
    "fig.add_trace(go.Bar(\n",
    "    x=df_region3['regionName'], \n",
    "    y = df_region3['dc'],\n",
    "    name = \"Nombre décès cumulés\",\n",
    "    width=0.3,\n",
    "    marker_color='indianred'\n",
    "),\n",
    "             secondary_y = False).update_xaxes(categoryorder=\"total descending\")\n",
    "\n",
    "fig.add_trace(go.Bar(\n",
    "    x=df_region3['regionName'], \n",
    "    y = df_region3['dc_pop'],\n",
    "    name = \"Nb. décès cum./100k hab.\",\n",
    "    marker_color='indianred',\n",
    "    opacity=0.6,\n",
    "    width=0.3,\n",
    "    offset=0.15\n",
    "    \n",
    "),\n",
    "             secondary_y = True)\n",
    "\n",
    "fig.update_layout(\n",
    "    barmode='group', \n",
    "    xaxis_tickangle=-45,\n",
    "    \n",
    "    title={\n",
    "                'text': \"Comparaison des <b>décès cumulés</b> et <b>décès cumulés par habitant</b>\",\n",
    "                'y':0.95,\n",
    "                'x':0.5,\n",
    "                'xanchor': 'center',\n",
    "                'yanchor': 'top'},\n",
    "                titlefont = dict(\n",
    "                size=20),\n",
    "    xaxis_title=\"\",\n",
    "        annotations = [\n",
    "                dict(\n",
    "                    x=0,\n",
    "                    y=1.05,\n",
    "                    xref='paper',\n",
    "                    yref='paper',\n",
    "                    text='Date : {}. Source : INSEE et CSSE. Auteur : @guillaumerozier (Twitter).'.format(datetime.strptime(dates[-1], '%Y-%m-%d').strftime('%d %B %Y')),                    showarrow = False\n",
    "                )]\n",
    "                 )\n",
    "fig.update_yaxes(title_text=\"Nb. décès cumulés\", secondary_y=False)\n",
    "fig.update_yaxes(title_text=\"Nb. décès cumulés/100k hab.\", secondary_y=True)\n",
    "\n",
    "name_fig = \"dc_cum_hab_nonhab_comp\"\n",
    "fig.write_image(\"images/charts/france/{}.png\".format(name_fig), scale=3, width=1100, height=700)\n",
    "\n",
    "fig.update_layout(\n",
    "    annotations = [\n",
    "                dict(\n",
    "                    x=0.5,\n",
    "                    y=1.05,\n",
    "                    xref='paper',\n",
    "                    yref='paper',\n",
    "                    xanchor='center',\n",
    "                    text='Cliquez sur des éléments de légende pour les ajouter/supprimer',\n",
    "                    showarrow = False\n",
    "                )]\n",
    "                 )\n",
    "plotly.offline.plot(fig, filename = 'images/html_exports/france/{}.html'.format(name_fig), auto_open=False)\n",
    "\n",
    "if show_charts:\n",
    "    fig.show()"
   ]
  },
  {
   "cell_type": "markdown",
   "metadata": {},
   "source": [
    "<br>\n",
    "\n",
    "### Situation des malades / temps"
   ]
  },
  {
   "cell_type": "code",
   "execution_count": 250,
   "metadata": {
    "scrolled": true
   },
   "outputs": [],
   "source": [
    "df_region_sumj = df_region.groupby('jour').sum().reset_index()\n",
    "df_region_sumj = pd.melt(df_region_sumj, id_vars=['jour'], value_vars=['rad', 'rea', 'dc', 'hosp_nonrea'])\n",
    "df_region_sumj.drop(df_region_sumj[df_region_sumj['jour'].isin(['Guyane', 'Mayote', 'La Réunion', 'Guadeloupe', 'Martinique'])].index, inplace = True)\n",
    "df_bar = df_region_sumj\n",
    "data = df_bar[df_bar[\"variable\"] == \"dc\"]\n",
    "fig = go.Figure(go.Bar(x=data['jour'], y=data['value'], text=data['value'], textposition='auto', name='Décès', marker_color='#000000', opacity=0.8))\n",
    "\n",
    "data = df_bar[df_bar[\"variable\"] == \"rea\"]\n",
    "fig.add_trace(go.Bar(x=data['jour'], y=data['value'], text=data['value'], textposition='auto', name='Réanimation', marker_color='#FF0000', opacity=0.8))\n",
    "\n",
    "data = df_bar[df_bar[\"variable\"] == \"hosp_nonrea\"]\n",
    "fig.add_trace(go.Bar(x=data['jour'], y=data['value'], text= data['value'], textposition='auto', name='Autre hospitalisation', marker_color='#FFA200', opacity=0.8))\n",
    "\n",
    "if len(df_confirmed[df_confirmed[\"date\"].isin([dates[-1]])]) > 0:\n",
    "    data = df_confirmed[df_confirmed[\"date\"].isin(dates)].reset_index()\n",
    "    sum_df = df_bar[df_bar[\"variable\"] == \"dc\"]['value'].reset_index() + df_bar[df_bar[\"variable\"] == \"rea\"]['value'].reset_index() +  df_bar[df_bar[\"variable\"] == \"hosp_nonrea\"]['value'].reset_index() + df_bar[df_bar[\"variable\"] == \"rad\"]['value'].reset_index()\n",
    "    fig.add_trace(go.Bar(x=data['date'], y=data['France'] - sum_df['value'], text = data['France'] - sum_df['value'], textposition='auto', name='Non hospitalisés', marker_color='grey', opacity=0.8))\n",
    "\n",
    "data = df_bar[df_bar[\"variable\"] == \"rad\"]\n",
    "fig.add_trace(go.Bar(x=data['jour'], y=data['value'], text= data['value'], textposition='auto', name='Retour à domicile', marker_color='green', opacity=0.8))\n",
    "fig.update_yaxes(title=\"Nb. de cas\")\n",
    "\n",
    "fig.update_layout(\n",
    "            barmode='stack',\n",
    "            title={\n",
    "                'text': \"Évolution de la <b>situation des malades</b> du Covid-19\",\n",
    "                'y':0.95,\n",
    "                'x':0.5,\n",
    "                'xanchor': 'center',\n",
    "                'yanchor': 'top'},\n",
    "            titlefont = dict(\n",
    "                size=20),\n",
    "            xaxis=dict(\n",
    "                title='',\n",
    "                tickformat='%d/%m',\n",
    "                nticks=len(dates)+5\n",
    "            ),\n",
    "            annotations = [\n",
    "                dict(\n",
    "                    x=0,\n",
    "                    y=1.05,\n",
    "                    xref='paper',\n",
    "                    yref='paper',\n",
    "                    text='Date : {}. Source : INSEE et CSSE. Auteur : @guillaumerozier (Twitter).'.format(datetime.strptime(dates[-1], '%Y-%m-%d').strftime('%d %B %Y')),\n",
    "                    showarrow = False\n",
    "                )]\n",
    ")\n",
    "\n",
    "name_fig = \"situation_cas\"\n",
    "fig.write_image(\"images/charts/france/{}.png\".format(name_fig), scale=3, width=1100, height=700)\n",
    "\n",
    "fig.update_layout(\n",
    "    legend_orientation=\"h\",\n",
    "    annotations = [\n",
    "                dict(\n",
    "                    x=0.5,\n",
    "                    y=1.05,\n",
    "                    xref='paper',\n",
    "                    yref='paper',\n",
    "                    xanchor='center',\n",
    "                    text='Cliquez sur des éléments de légende pour les ajouter/supprimer',\n",
    "                    showarrow = False\n",
    "                )]\n",
    "                 )\n",
    "plotly.offline.plot(fig, filename = 'images/html_exports/france/{}.html'.format(name_fig), auto_open=False)\n",
    "\n",
    "if show_charts:\n",
    "    fig.show()"
   ]
  },
  {
   "cell_type": "markdown",
   "metadata": {},
   "source": [
    "<br>\n",
    "\n",
    "### Situation des malades / région"
   ]
  },
  {
   "cell_type": "code",
   "execution_count": 251,
   "metadata": {},
   "outputs": [],
   "source": [
    "#df_region_sumj = df_region.groupby('regionName').sum().reset_index()\n",
    "df_region_sumj = df_region[df_region['jour'] == dates[-1]]\n",
    "\n",
    "df_region_sumj = pd.melt(df_region_sumj, id_vars=['regionName'], value_vars=['rad', 'rea', 'dc', 'hosp_nonrea'])\n",
    "df_region_sumj.drop(df_region_sumj[df_region_sumj['regionName'].isin(['Guyane', 'Mayote', 'La Réunion', 'Guadeloupe', 'Martinique'])].index, inplace = True)"
   ]
  },
  {
   "cell_type": "code",
   "execution_count": 252,
   "metadata": {},
   "outputs": [],
   "source": [
    "data = df_region_sumj[df_region_sumj[\"variable\"] == \"dc\"]\n",
    "fig = go.Figure(go.Bar(x=data['regionName'], y=data['value'], text=data['value'], textposition='auto', name='Décès', marker_color='#000000', opacity=0.8))\n",
    "\n",
    "data = df_region_sumj[df_region_sumj[\"variable\"] == \"rea\"]\n",
    "fig.add_trace(go.Bar(x=data['regionName'], y=data['value'], text=data['value'], textposition='auto', name='Réanimation', marker_color='#FF0000', opacity=0.8))\n",
    "\n",
    "data = df_region_sumj[df_region_sumj[\"variable\"] == \"hosp_nonrea\"]\n",
    "fig.add_trace(go.Bar(x=data['regionName'], y=data['value'], text= data['value'], textposition='auto', name='Autre hospitalisation', marker_color='#FFA200', opacity=0.8))\n",
    "\n",
    "data = df_region_sumj[df_region_sumj[\"variable\"] == \"rad\"]\n",
    "fig.add_trace(go.Bar(x=data['regionName'], y=data['value'], text= data['value'], textposition='auto', name='Retour à domicile', marker_color='green', opacity=0.8))\n",
    "fig.update_yaxes(title=\"Nb. de cas\")\n",
    "\n",
    "fig.update_layout(\n",
    "            barmode='stack',\n",
    "            title={\n",
    "                'text': \"<b>Situation des malades hospitalisés</b> du Covid-19\",\n",
    "                'y':0.95,\n",
    "                'x':0.5,\n",
    "                'xanchor': 'center',\n",
    "                'yanchor': 'top'},\n",
    "            titlefont = dict(\n",
    "                size=20),\n",
    "            xaxis=dict(\n",
    "                title='',\n",
    "                tickformat='%d/%m',\n",
    "                nticks=len(dates)+5\n",
    "            ),\n",
    "            annotations = [\n",
    "                dict(\n",
    "                    x=0,\n",
    "                    y=1.05,\n",
    "                    xref='paper',\n",
    "                    yref='paper',\n",
    "                    text='Date : {}. Source : INSEE et CSSE. Auteur : @guillaumerozier (Twitter).'.format(datetime.strptime(dates[-1], '%Y-%m-%d').strftime('%d %B %Y')),                    \n",
    "                    showarrow = False\n",
    "                )]\n",
    ")\n",
    "fig.update_xaxes(categoryorder=\"total descending\")     \n",
    "\n",
    "name_fig = \"situation_cas_region\"\n",
    "fig.write_image(\"images/charts/france/{}.png\".format(name_fig), scale=3, width=1100, height=700)\n",
    "\n",
    "fig.update_layout(\n",
    "    annotations = [\n",
    "                dict(\n",
    "                    x=0.5,\n",
    "                    y=1.05,\n",
    "                    xref='paper',\n",
    "                    yref='paper',\n",
    "                    xanchor='center',\n",
    "                    text='Cliquez sur des éléments de légende pour les ajouter/supprimer',\n",
    "                    showarrow = False\n",
    "                )]\n",
    "                 )\n",
    "plotly.offline.plot(fig, filename = 'images/html_exports/france/{}.html'.format(name_fig), auto_open=False)\n",
    "\n",
    "if show_charts:\n",
    "    fig.show()"
   ]
  },
  {
   "cell_type": "markdown",
   "metadata": {},
   "source": [
    "<br>\n",
    "\n",
    "### Situation des malades par habitant / région"
   ]
  },
  {
   "cell_type": "code",
   "execution_count": 253,
   "metadata": {},
   "outputs": [],
   "source": [
    "df_region_sumj = df_region[df_region['jour'] == dates[-1]]\n",
    "df_region_sumj = pd.melt(df_region_sumj, id_vars=['regionName'], value_vars=['rad_pop', 'rea_pop', 'dc_pop', 'hosp_nonrea_pop'])\n",
    "df_region_sumj.drop(df_region_sumj[df_region_sumj['regionName'].isin(['Guyane', 'Mayote', 'La Réunion', 'Guadeloupe', 'Martinique'])].index, inplace = True)"
   ]
  },
  {
   "cell_type": "code",
   "execution_count": 254,
   "metadata": {},
   "outputs": [],
   "source": [
    "data = df_region_sumj[df_region_sumj[\"variable\"] == \"dc_pop\"]\n",
    "fig = go.Figure(go.Bar(x=data['regionName'], y=data['value'], text=round(data['value']), textposition='auto', name='Décès/100k hab.', marker_color='black', opacity=0.7))\n",
    "\n",
    "data = df_region_sumj[df_region_sumj[\"variable\"] == \"rea_pop\"]\n",
    "fig.add_trace(go.Bar(x=data['regionName'], y=data['value'], text=round(data['value']), textposition='auto', name='Réanimation/100k hab.', marker_color='red', opacity=0.7))\n",
    "\n",
    "data = df_region_sumj[df_region_sumj[\"variable\"] == \"hosp_nonrea_pop\"]\n",
    "fig.add_trace(go.Bar(x=data['regionName'], y=data['value'], text= round(data['value']), textposition='auto', name='Autre hospitalisation/100k hab.', marker_color='#FFA200', opacity=0.7))\n",
    "\n",
    "data = df_region_sumj[df_region_sumj[\"variable\"] == \"rad_pop\"]\n",
    "fig.add_trace(go.Bar(x=data['regionName'], y=data['value'], text=round(data['value']), textposition='auto', name='Retour à dom./100k hab', marker_color='green', opacity=0.7))\n",
    "fig.update_yaxes(title=\"Nb. de cas\")\n",
    "\n",
    "fig.update_layout(\n",
    "            barmode='stack',\n",
    "            title={\n",
    "                'text': \"<b>Situation des malades hospitalisés</b> du Covid-19 <b>par habitant</b>\",\n",
    "                'y':0.95,\n",
    "                'x':0.5,\n",
    "                'xanchor': 'center',\n",
    "                'yanchor': 'top'},\n",
    "            titlefont = dict(\n",
    "                size=20),\n",
    "            xaxis=dict(\n",
    "                title='',\n",
    "                tickformat='%d/%m',\n",
    "                nticks=len(dates)+5\n",
    "            ),\n",
    "            annotations = [\n",
    "                dict(\n",
    "                    x=0,\n",
    "                    y=1.05,\n",
    "                    xref='paper',\n",
    "                    yref='paper',\n",
    "                    text='Date : {}. Source : INSEE et CSSE. Auteur : @guillaumerozier (Twitter).'.format(datetime.strptime(dates[-1], '%Y-%m-%d').strftime('%d %B %Y')),\n",
    "                    showarrow = False\n",
    "                )]\n",
    ")\n",
    "fig.update_xaxes(categoryorder=\"total descending\")        \n",
    "\n",
    "name_fig = \"situation_cas_region_hab\"\n",
    "fig.write_image(\"images/charts/france/{}.png\".format(name_fig), scale=3, width=1100, height=700)\n",
    "\n",
    "fig.update_layout(\n",
    "    annotations = [\n",
    "                dict(\n",
    "                    x=0.5,\n",
    "                    y=1.05,\n",
    "                    xref='paper',\n",
    "                    yref='paper',\n",
    "                    xanchor='center',\n",
    "                    text='Cliquez sur des éléments de légende pour les ajouter/supprimer',\n",
    "                    showarrow = False\n",
    "                )]\n",
    "                 )\n",
    "plotly.offline.plot(fig, filename = 'images/html_exports/france/{}.html'.format(name_fig), auto_open=False)\n",
    "\n",
    "if show_charts:\n",
    "    fig.show()"
   ]
  },
  {
   "cell_type": "markdown",
   "metadata": {},
   "source": [
    "<br>\n",
    "\n",
    "### Évolution qutotidienne / temps"
   ]
  },
  {
   "cell_type": "code",
   "execution_count": 255,
   "metadata": {},
   "outputs": [],
   "source": [
    "\n",
    "df_46 = pd.melt(df, id_vars=['jour'], value_vars=['dc_new', 'rad_new'])\n",
    "df_46 = df.groupby([\"jour\"]).sum().reset_index()\n",
    "#df_46 = df_46[ df_46[\"jour\"].isin(dates[-12:]) ]\n",
    "\n",
    "fig = go.Figure()\n",
    "\n",
    "fig.add_trace(go.Bar(\n",
    "    x = df_46[\"jour\"],\n",
    "    y = df_46[\"dc_new\"],\n",
    "    name = \"Nouveaux décès\",\n",
    "    marker_color='black',\n",
    "    opacity=0.6\n",
    "))\n",
    "\n",
    "fig.add_trace(go.Bar(\n",
    "    x = df_46[\"jour\"],\n",
    "    y = df_46[\"rea_new\"],\n",
    "    name = \"Variation réanimations\",\n",
    "    marker_color='red',\n",
    "    opacity=0.6\n",
    "))\n",
    "\n",
    "fig.add_trace(go.Bar(\n",
    "    x = df_46[\"jour\"],\n",
    "    y = df_46[\"hosp_nonrea_new\"],\n",
    "    name = \"Variation autres hospit.\",\n",
    "    marker_color='grey',\n",
    "    opacity=0.6\n",
    "))\n",
    "\n",
    "fig.add_trace(go.Bar(\n",
    "    x = df_46[\"jour\"],\n",
    "    y = df_46[\"rad_new\"],\n",
    "    name = \"Nouv. retours à domicile\",\n",
    "    marker_color='green',\n",
    "    opacity=0.6\n",
    "))\n",
    "\n",
    "# Here we modify the tickangle of the xaxis, resulting in rotated labels.\n",
    "fig.update_layout(\n",
    "    barmode='group',\n",
    "    title={\n",
    "                'text': \"<b>COVID-19 : évolution quotidienne en France</b>\",\n",
    "                'y':0.95,\n",
    "                'x':0.5,\n",
    "                'xanchor': 'center',\n",
    "                'yanchor': 'top'},\n",
    "                titlefont = dict(\n",
    "                size=20),\n",
    "    xaxis=dict(\n",
    "        title='',\n",
    "        tickformat='%d/%m',\n",
    "        nticks=100),\n",
    "    yaxis_title=\"Nb. de personnes\",\n",
    "    \n",
    "    annotations = [\n",
    "                dict(\n",
    "                    x=0,\n",
    "                    y=1.05,\n",
    "                    xref='paper',\n",
    "                    yref='paper',\n",
    "                    text='Date : {}. Source : INSEE et CSSE. Auteur : @guillaumerozier (Twitter).'.format(datetime.strptime(dates[-1], '%Y-%m-%d').strftime('%d %B %Y')),                    showarrow = False\n",
    "                )]\n",
    "                 )\n",
    "\n",
    "name_fig = \"evol_journ\"\n",
    "fig.write_image(\"images/charts/france/{}.png\".format(name_fig), scale=3, width=1400, height=650)\n",
    "\n",
    "fig.update_layout(\n",
    "    legend_orientation=\"h\",\n",
    "    annotations = [\n",
    "                dict(\n",
    "                    x=0.5,\n",
    "                    y=1.05,\n",
    "                    xref='paper',\n",
    "                    yref='paper',\n",
    "                    xanchor='center',\n",
    "                    text='Cliquez sur des éléments de légende pour les ajouter/supprimer',\n",
    "                    showarrow = False\n",
    "                )]\n",
    "                 )\n",
    "plotly.offline.plot(fig, filename = 'images/html_exports/france/{}.html'.format(name_fig), auto_open=False)\n",
    "\n",
    "if show_charts:\n",
    "    fig.show()"
   ]
  },
  {
   "cell_type": "markdown",
   "metadata": {},
   "source": [
    "<br>\n",
    "<br>\n",
    "<br>\n",
    "<br>\n",
    "\n",
    "# Expérimentations"
   ]
  },
  {
   "cell_type": "code",
   "execution_count": 256,
   "metadata": {},
   "outputs": [
    {
     "data": {
      "text/plain": [
       "'\\ndf_region_last_d = df_region[df_region[\\'jour\\'] == dates[-1]]\\nreg_ordered = df_region_last_d.sort_values(by=[\\'rea\\'], ascending=False)[\"regionName\"].values\\n\\nfig = go.Figure()\\nfor reg in tqdm(reg_ordered):\\n    showld = True\\n    for dep in deps_ordered:\\n        fig.add_trace(go.Scatter(x=df[\\'jour\\'], y=df[ (df[\"regionName\"] == reg) & (df[\"dep\"] == dep) ][\"rea\"],\\n                        mode=\\'lines+markers\\',\\n                        legendgroup = reg,\\n                        name = dep,\\n                        marker = dict(color = colors[list(reg_ordered).index(reg)]),\\n                        line=dict(width=1.5),\\n                        showlegend = showld))\\n        showld = False\\n\\nfig.update_layout(\\n    title={\\n                \\'text\\': \"Nb. de <b>patients en réanimation</b> par région\",\\n                \\'y\\':0.95,\\n                \\'x\\':0.5,\\n                \\'xanchor\\': \\'center\\',\\n                \\'yanchor\\': \\'top\\'},\\n    titlefont = dict(\\n                size=20),\\n    annotations = [\\n                dict(\\n                    x=0,\\n                    y=1,\\n                    xref=\\'paper\\',\\n                    yref=\\'paper\\',\\n                    text=\\'Date : {}. Source : INSEE et CSSE. Auteur : @guillaumerozier (Twitter).\\'.format(datetime.strptime(dates[-1], \\'%Y-%m-%d\\').strftime(\\'%d %B %Y\\')),                    showarrow = False\\n                )]\\n                 )\\nfig.update_xaxes(title=\"\")\\nfig.update_yaxes(title=\"Nb. de patients en réanimation\")\\n\\nname_fig = \"rea_reg\"\\nfig.write_image(\"images/charts/france/{}.png\".format(name_fig), scale=3, width=1100, height=700)\\n\\nfig.update_layout(\\n    annotations = [\\n                dict(\\n                    x=0.5,\\n                    y=1.05,\\n                    xref=\\'paper\\',\\n                    yref=\\'paper\\',\\n                    xanchor=\\'center\\',\\n                    text=\\'Cliquez sur des éléments de légende pour les ajouter/supprimer\\',\\n                    showarrow = False\\n                )]\\n                 )\\nplotly.offline.plot(fig, filename = \\'images/html_exports/france/{}.html\\'.format(name_fig), auto_open=False)\\n\\nif show_charts:\\n    fig.show()\\n'"
      ]
     },
     "execution_count": 256,
     "metadata": {},
     "output_type": "execute_result"
    }
   ],
   "source": [
    "\"\"\"\n",
    "df_region_last_d = df_region[df_region['jour'] == dates[-1]]\n",
    "reg_ordered = df_region_last_d.sort_values(by=['rea'], ascending=False)[\"regionName\"].values\n",
    "\n",
    "fig = go.Figure()\n",
    "for reg in tqdm(reg_ordered):\n",
    "    showld = True\n",
    "    for dep in deps_ordered:\n",
    "        fig.add_trace(go.Scatter(x=df['jour'], y=df[ (df[\"regionName\"] == reg) & (df[\"dep\"] == dep) ][\"rea\"],\n",
    "                        mode='lines+markers',\n",
    "                        legendgroup = reg,\n",
    "                        name = dep,\n",
    "                        marker = dict(color = colors[list(reg_ordered).index(reg)]),\n",
    "                        line=dict(width=1.5),\n",
    "                        showlegend = showld))\n",
    "        showld = False\n",
    "\n",
    "fig.update_layout(\n",
    "    title={\n",
    "                'text': \"Nb. de <b>patients en réanimation</b> par région\",\n",
    "                'y':0.95,\n",
    "                'x':0.5,\n",
    "                'xanchor': 'center',\n",
    "                'yanchor': 'top'},\n",
    "    titlefont = dict(\n",
    "                size=20),\n",
    "    annotations = [\n",
    "                dict(\n",
    "                    x=0,\n",
    "                    y=1,\n",
    "                    xref='paper',\n",
    "                    yref='paper',\n",
    "                    text='Date : {}. Source : INSEE et CSSE. Auteur : @guillaumerozier (Twitter).'.format(datetime.strptime(dates[-1], '%Y-%m-%d').strftime('%d %B %Y')),                    showarrow = False\n",
    "                )]\n",
    "                 )\n",
    "fig.update_xaxes(title=\"\")\n",
    "fig.update_yaxes(title=\"Nb. de patients en réanimation\")\n",
    "\n",
    "name_fig = \"rea_reg\"\n",
    "fig.write_image(\"images/charts/france/{}.png\".format(name_fig), scale=3, width=1100, height=700)\n",
    "\n",
    "fig.update_layout(\n",
    "    annotations = [\n",
    "                dict(\n",
    "                    x=0.5,\n",
    "                    y=1.05,\n",
    "                    xref='paper',\n",
    "                    yref='paper',\n",
    "                    xanchor='center',\n",
    "                    text='Cliquez sur des éléments de légende pour les ajouter/supprimer',\n",
    "                    showarrow = False\n",
    "                )]\n",
    "                 )\n",
    "plotly.offline.plot(fig, filename = 'images/html_exports/france/{}.html'.format(name_fig), auto_open=False)\n",
    "\n",
    "if show_charts:\n",
    "    fig.show()\n",
    "\"\"\""
   ]
  }
 ],
 "metadata": {
  "kernelspec": {
   "display_name": "Python 3",
   "language": "python",
   "name": "python3"
  },
  "language_info": {
   "codemirror_mode": {
    "name": "ipython",
    "version": 3
   },
   "file_extension": ".py",
   "mimetype": "text/x-python",
   "name": "python",
   "nbconvert_exporter": "python",
   "pygments_lexer": "ipython3",
   "version": "3.7.4"
  }
 },
 "nbformat": 4,
 "nbformat_minor": 2
}
